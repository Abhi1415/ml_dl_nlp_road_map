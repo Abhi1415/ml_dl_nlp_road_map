{
  "nbformat": 4,
  "nbformat_minor": 0,
  "metadata": {
    "kernelspec": {
      "display_name": "Python 3",
      "language": "python",
      "name": "python3"
    },
    "language_info": {
      "codemirror_mode": {
        "name": "ipython",
        "version": 3
      },
      "file_extension": ".py",
      "mimetype": "text/x-python",
      "name": "python",
      "nbconvert_exporter": "python",
      "pygments_lexer": "ipython3",
      "version": "3.7.3"
    },
    "colab": {
      "name": "auto_grad and backprop deep dive.ipynb",
      "provenance": [],
      "collapsed_sections": []
    }
  },
  "cells": [
    {
      "cell_type": "markdown",
      "metadata": {
        "id": "Elg7JXY9JCHe",
        "colab_type": "text"
      },
      "source": [
        "### Tensors"
      ]
    },
    {
      "cell_type": "markdown",
      "metadata": {
        "id": "2dm8kz6_JCHk",
        "colab_type": "text"
      },
      "source": [
        " PyTorch provides us with a data structure called a Tensor, which is very similar to NumPy’s ndarray. But unlike the latter, tensors can tap into the resources of a GPU to significantly speed up matrix operations"
      ]
    },
    {
      "cell_type": "code",
      "metadata": {
        "id": "XH--M7oSJCHm",
        "colab_type": "code",
        "colab": {}
      },
      "source": [
        "import torch \n",
        "import numpy as np"
      ],
      "execution_count": 1,
      "outputs": []
    },
    {
      "cell_type": "markdown",
      "metadata": {
        "id": "Z7HR31rPJCHx",
        "colab_type": "text"
      },
      "source": [
        "The computation graph is simply a data structure that allows you to efficiently apply the chain rule to compute gradients for all of your parameters.\n",
        "\n",
        "b = w1 * a\n",
        "\n",
        "c = w2 * a \n",
        "\n",
        "d = (w3 * b) + (w4 * c)\n",
        "\n",
        "L = f(d)\n",
        "\n",
        "![image.png](https://blog.paperspace.com/content/images/size/w2000/2019/05/full_graph.png)"
      ]
    },
    {
      "cell_type": "markdown",
      "metadata": {
        "id": "YY-7BfaqJCHz",
        "colab_type": "text"
      },
      "source": [
        "Now, in order to compute the gradient of any node, say, L, with respect of any other node, say c ( dL / dc) all we have to do is.\n",
        "\n",
        "*  Trace the path from L to c. This would be L → d → c.\n",
        "\n",
        "*  Multiply all the edge weights as you traverse along this path. The quantity you end up with is: ( dL / dd ) * ( dd / dc ) = ( dL / dc)\n",
        "\n",
        "* If there are multiple paths, add their results.\n",
        "\n",
        "* For example in case of dL/da, we have two paths. L → d → c → a and L → d → b→ a. We add their contributions to get the gradient of L w.r.t. a.\n",
        "\n",
        "##### [( dL / dd ) * ( dd / dc ) * ( dc / da )] + [( dL / dd ) * ( dd / db ) * ( db / da )]"
      ]
    },
    {
      "cell_type": "markdown",
      "metadata": {
        "id": "xzZSm8dnJCH1",
        "colab_type": "text"
      },
      "source": [
        "### requires_grad()\n",
        "\n",
        "The requires_grad attribute tells autograd to track your operations. So if you want PyTorch to create a graph corresponding to these operations, you will have to set the requires_grad attribute of the Tensor to True."
      ]
    },
    {
      "cell_type": "markdown",
      "metadata": {
        "id": "r_iViN0qJCH2",
        "colab_type": "text"
      },
      "source": [
        "### grad_fn\n",
        "\n",
        "The grad_fn property holds the reference to the function (mathematical operator) that creates it. It is very important during a backward pass as the function here is responsible to calculate the gradient and send it to the appropriate next function in the next pass"
      ]
    },
    {
      "cell_type": "markdown",
      "metadata": {
        "id": "IV4PsWecJCH3",
        "colab_type": "text"
      },
      "source": [
        "### backward()\n",
        "\n",
        "* The backward function takes an incoming gradient from the part of the network in front of it.\n",
        "\n",
        "* Then it calculates the local gradient at a particular tensor.\n",
        "\n",
        "* Then it multiplies the local gradient to with incoming gradient.\n",
        "\n",
        "* Finally, forwards the computed gradient to the tensor’s inputs by invoking the backward method of the grad_fn of their inputs or simply save the gradient in grad property for leaf nodes"
      ]
    },
    {
      "cell_type": "markdown",
      "metadata": {
        "id": "v7rhYIugJCH5",
        "colab_type": "text"
      },
      "source": [
        "### grad:\n",
        "grad holds the value of gradient. If requires_grad is False it will hold a None value. \n",
        "\n",
        "Even if requires_grad is True, it will hold a None value unless .backward() function is called from some other node. \n",
        "\n",
        "For example, if you call out.backward() for some variable out that involved x in its calculations then x.grad will hold ∂out/∂x."
      ]
    },
    {
      "cell_type": "markdown",
      "metadata": {
        "id": "3upZZZa7JCH6",
        "colab_type": "text"
      },
      "source": [
        "![image.png](https://miro.medium.com/max/1536/1*wE1f2i7L8QRw8iuVx5mOpw.png)"
      ]
    },
    {
      "cell_type": "markdown",
      "metadata": {
        "id": "lGNnYtRbJCH7",
        "colab_type": "text"
      },
      "source": [
        "### Exapmple 1"
      ]
    },
    {
      "cell_type": "code",
      "metadata": {
        "id": "7UlMFyJWJCH8",
        "colab_type": "code",
        "colab": {
          "base_uri": "https://localhost:8080/",
          "height": 252
        },
        "outputId": "8eacd721-d271-474f-fdea-0c379bbbd762"
      },
      "source": [
        "x = torch.tensor(3., requires_grad=True)\n",
        "\n",
        "a = torch.tensor(4., requires_grad=True)\n",
        "b = torch.tensor(5., requires_grad=True)\n",
        "\n",
        "y = a * x\n",
        "\n",
        "z = y + b\n",
        "\n",
        "z.backward()\n",
        "\n",
        "print(\"Tensor x\")\n",
        "print(f'grad funtion = {x.grad_fn}')\n",
        "\n",
        "print(\"\\nTensor a\")\n",
        "print(f'grad funtion = {a.grad_fn}')\n",
        "\n",
        "print(\"\\nTensor b\")\n",
        "print(f'grad funtion = {b.grad_fn}')\n",
        "\n",
        "print(\"\\nTensor y\")\n",
        "print(f'grad funtion = {y.grad_fn}')\n",
        "\n",
        "print(\"\\nTensor z\")\n",
        "print(f'grad funtion = {z.grad_fn}')"
      ],
      "execution_count": 2,
      "outputs": [
        {
          "output_type": "stream",
          "text": [
            "Tensor x\n",
            "grad funtion = None\n",
            "\n",
            "Tensor a\n",
            "grad funtion = None\n",
            "\n",
            "Tensor b\n",
            "grad funtion = None\n",
            "\n",
            "Tensor y\n",
            "grad funtion = <MulBackward0 object at 0x7f2e14525438>\n",
            "\n",
            "Tensor z\n",
            "grad funtion = <AddBackward0 object at 0x7f2e14525438>\n"
          ],
          "name": "stdout"
        }
      ]
    },
    {
      "cell_type": "markdown",
      "metadata": {
        "id": "2aUtRwa-OKyq",
        "colab_type": "text"
      },
      "source": [
        "![image.png](https://miro.medium.com/max/860/1*tfVJSuDLRtMXv_kCdB4qHA.png)"
      ]
    },
    {
      "cell_type": "markdown",
      "metadata": {
        "id": "f1Nb29J-JCIB",
        "colab_type": "text"
      },
      "source": [
        "\n",
        "* The tensors in green are leaf nodes.\n",
        "\n",
        "* Tensors in yellow are intermediate nodes.\n",
        "\n",
        "* MulBackward and AddBackward are two grad_fn for y and z respectively.\n",
        "\n",
        "* grad attribute stores the value of calculated gradients."
      ]
    },
    {
      "cell_type": "code",
      "metadata": {
        "id": "teuhR7TqJCIC",
        "colab_type": "code",
        "colab": {
          "base_uri": "https://localhost:8080/",
          "height": 67
        },
        "outputId": "2de8c4b5-f285-44de-ce2e-7c66ec32118e"
      },
      "source": [
        "print('dz/dx:', x.grad) \n",
        "print('dz/da:', a.grad) \n",
        "print('dz/db:', b.grad) "
      ],
      "execution_count": 3,
      "outputs": [
        {
          "output_type": "stream",
          "text": [
            "dz/dx: tensor(4.)\n",
            "dz/da: tensor(3.)\n",
            "dz/db: tensor(1.)\n"
          ],
          "name": "stdout"
        }
      ]
    },
    {
      "cell_type": "markdown",
      "metadata": {
        "id": "3ANSVq7bJCIG",
        "colab_type": "text"
      },
      "source": [
        "### Example: 2"
      ]
    },
    {
      "cell_type": "code",
      "metadata": {
        "id": "xnhc8AYQJCIH",
        "colab_type": "code",
        "colab": {
          "base_uri": "https://localhost:8080/",
          "height": 34
        },
        "outputId": "c36eca64-34ef-4954-ff3d-27603da0fc83"
      },
      "source": [
        "# Define the leaf nodes\n",
        "a = torch.tensor([4.0])\n",
        "print(a)"
      ],
      "execution_count": 4,
      "outputs": [
        {
          "output_type": "stream",
          "text": [
            "tensor([4.])\n"
          ],
          "name": "stdout"
        }
      ]
    },
    {
      "cell_type": "code",
      "metadata": {
        "id": "ugG1jvlSJCIL",
        "colab_type": "code",
        "colab": {
          "base_uri": "https://localhost:8080/",
          "height": 84
        },
        "outputId": "950fa646-9860-44b6-a4de-ea656bc37759"
      },
      "source": [
        "weights = [torch.tensor([i],requires_grad=True) for i in (2.0, 5.0, 9.0, 7.0)]\n",
        "weights"
      ],
      "execution_count": 5,
      "outputs": [
        {
          "output_type": "execute_result",
          "data": {
            "text/plain": [
              "[tensor([2.], requires_grad=True),\n",
              " tensor([5.], requires_grad=True),\n",
              " tensor([9.], requires_grad=True),\n",
              " tensor([7.], requires_grad=True)]"
            ]
          },
          "metadata": {
            "tags": []
          },
          "execution_count": 5
        }
      ]
    },
    {
      "cell_type": "code",
      "metadata": {
        "id": "dd3_aRzoJCIP",
        "colab_type": "code",
        "colab": {}
      },
      "source": [
        "# unpack the weights for nicer assignment\n",
        "w1, w2, w3, w4 = weights\n",
        "\n",
        "b = w1 * a\n",
        "c = w2 * a\n",
        "d = w3 * b + w4 * c\n",
        "L = (10 - d)"
      ],
      "execution_count": 6,
      "outputs": []
    },
    {
      "cell_type": "markdown",
      "metadata": {
        "id": "EzeUlRKcJCIS",
        "colab_type": "text"
      },
      "source": [
        "![image.png](https://miro.medium.com/max/1684/1*FDL9Se9otGzz83F3rofQuA.png)"
      ]
    },
    {
      "cell_type": "code",
      "metadata": {
        "id": "V4AI9FwKJCIT",
        "colab_type": "code",
        "colab": {
          "base_uri": "https://localhost:8080/",
          "height": 84
        },
        "outputId": "b413386b-09b9-4e2d-9084-581745f410a3"
      },
      "source": [
        "L.backward()\n",
        "\n",
        "for index, weight in enumerate(weights, start=1):\n",
        "    gradient, *_ = weight.grad.data\n",
        "    print(f\" dL/w{index} : {gradient}\")"
      ],
      "execution_count": 7,
      "outputs": [
        {
          "output_type": "stream",
          "text": [
            " dL/w1 : -36.0\n",
            " dL/w2 : -28.0\n",
            " dL/w3 : -8.0\n",
            " dL/w4 : -20.0\n"
          ],
          "name": "stdout"
        }
      ]
    },
    {
      "cell_type": "markdown",
      "metadata": {
        "id": "P2elnKYxJCIW",
        "colab_type": "text"
      },
      "source": [
        "### Example: 3 Scalar example"
      ]
    },
    {
      "cell_type": "code",
      "metadata": {
        "id": "IexAefcVJCIW",
        "colab_type": "code",
        "colab": {
          "base_uri": "https://localhost:8080/",
          "height": 50
        },
        "outputId": "f6ddd662-a0fd-4dc6-cc09-189d23fc7ad2"
      },
      "source": [
        "x = torch.ones(2, 2, requires_grad=True)\n",
        "print(x)"
      ],
      "execution_count": 8,
      "outputs": [
        {
          "output_type": "stream",
          "text": [
            "tensor([[1., 1.],\n",
            "        [1., 1.]], requires_grad=True)\n"
          ],
          "name": "stdout"
        }
      ]
    },
    {
      "cell_type": "code",
      "metadata": {
        "id": "0FYiBRrOJCIZ",
        "colab_type": "code",
        "colab": {
          "base_uri": "https://localhost:8080/",
          "height": 67
        },
        "outputId": "ee75970d-4139-43a6-81e2-0709949e8067"
      },
      "source": [
        "y = x + 2# tensor opeartion\n",
        "print(y)\n",
        "print(y.grad_fn)"
      ],
      "execution_count": 9,
      "outputs": [
        {
          "output_type": "stream",
          "text": [
            "tensor([[3., 3.],\n",
            "        [3., 3.]], grad_fn=<AddBackward0>)\n",
            "<AddBackward0 object at 0x7f2e14531080>\n"
          ],
          "name": "stdout"
        }
      ]
    },
    {
      "cell_type": "code",
      "metadata": {
        "id": "42uM_IO9JCIc",
        "colab_type": "code",
        "colab": {
          "base_uri": "https://localhost:8080/",
          "height": 50
        },
        "outputId": "8e033d68-bb1e-4041-bc90-41b639448afc"
      },
      "source": [
        "z = y * y * 3 # more operation\n",
        "out = z.mean()\n",
        "\n",
        "print(z, out)"
      ],
      "execution_count": 10,
      "outputs": [
        {
          "output_type": "stream",
          "text": [
            "tensor([[27., 27.],\n",
            "        [27., 27.]], grad_fn=<MulBackward0>) tensor(27., grad_fn=<MeanBackward0>)\n"
          ],
          "name": "stdout"
        }
      ]
    },
    {
      "cell_type": "code",
      "metadata": {
        "id": "gEQ1WD_fJCIf",
        "colab_type": "code",
        "colab": {}
      },
      "source": [
        "out.backward()"
      ],
      "execution_count": 11,
      "outputs": []
    },
    {
      "cell_type": "code",
      "metadata": {
        "id": "CFO3uuZzJCIh",
        "colab_type": "code",
        "colab": {
          "base_uri": "https://localhost:8080/",
          "height": 50
        },
        "outputId": "d08c9dd8-7b44-4a91-d435-6d14f07b9991"
      },
      "source": [
        "print(x.grad) #gradients d(out)/dx"
      ],
      "execution_count": 12,
      "outputs": [
        {
          "output_type": "stream",
          "text": [
            "tensor([[4.5000, 4.5000],\n",
            "        [4.5000, 4.5000]])\n"
          ],
          "name": "stdout"
        }
      ]
    },
    {
      "cell_type": "code",
      "metadata": {
        "id": "8qYF9e8kMIsp",
        "colab_type": "code",
        "colab": {}
      },
      "source": [
        ""
      ],
      "execution_count": 12,
      "outputs": []
    },
    {
      "cell_type": "markdown",
      "metadata": {
        "id": "h9DWT-raJCIk",
        "colab_type": "text"
      },
      "source": [
        "![image.png](https://i.stack.imgur.com/4o5qL.png)"
      ]
    },
    {
      "cell_type": "markdown",
      "metadata": {
        "id": "ZPsoKO9SJCIl",
        "colab_type": "text"
      },
      "source": [
        "### Examples 4: Non Scalar"
      ]
    },
    {
      "cell_type": "markdown",
      "metadata": {
        "id": "sX2kyzwhJCIl",
        "colab_type": "text"
      },
      "source": [
        "https://pytorch.org/tutorials/beginner/blitz/autograd_tutorial.html"
      ]
    },
    {
      "cell_type": "code",
      "metadata": {
        "id": "zmuKoiNSJCIm",
        "colab_type": "code",
        "colab": {
          "base_uri": "https://localhost:8080/",
          "height": 50
        },
        "outputId": "5ac30965-50de-4a53-c586-da1292c9dbed"
      },
      "source": [
        "x = torch.tensor([1.6271,-0.3254,-0.3567], requires_grad=True)\n",
        "\n",
        "print(x)\n",
        "y = x * 2\n",
        "y.data.norm()"
      ],
      "execution_count": 13,
      "outputs": [
        {
          "output_type": "stream",
          "text": [
            "tensor([ 1.6271, -0.3254, -0.3567], requires_grad=True)\n"
          ],
          "name": "stdout"
        },
        {
          "output_type": "execute_result",
          "data": {
            "text/plain": [
              "tensor(3.3945)"
            ]
          },
          "metadata": {
            "tags": []
          },
          "execution_count": 13
        }
      ]
    },
    {
      "cell_type": "code",
      "metadata": {
        "id": "pvPqe9TRJCIo",
        "colab_type": "code",
        "colab": {
          "base_uri": "https://localhost:8080/",
          "height": 34
        },
        "outputId": "559bf0f1-e249-447d-99fa-f1f70cc906f8"
      },
      "source": [
        "\n",
        "while y.data.norm() < 1000:\n",
        "    y = y * 2\n",
        "\n",
        "print(y)"
      ],
      "execution_count": 14,
      "outputs": [
        {
          "output_type": "stream",
          "text": [
            "tensor([1666.1504, -333.2096, -365.2608], grad_fn=<MulBackward0>)\n"
          ],
          "name": "stdout"
        }
      ]
    },
    {
      "cell_type": "code",
      "metadata": {
        "id": "NZPDtU3SJCIr",
        "colab_type": "code",
        "colab": {
          "base_uri": "https://localhost:8080/",
          "height": 67
        },
        "outputId": "ab897968-6db6-48c1-e674-0b686ee554d1"
      },
      "source": [
        "gradients = torch.FloatTensor([0.1, 1.0, 0.0001]) # specifying gradient because input is non-scalar\n",
        "print(gradient)\n",
        "y.backward(gradients)\n",
        "\n",
        "print(c)\n",
        "print(x.grad)"
      ],
      "execution_count": 15,
      "outputs": [
        {
          "output_type": "stream",
          "text": [
            "tensor(-20.)\n",
            "tensor([20.], grad_fn=<MulBackward0>)\n",
            "tensor([1.0240e+02, 1.0240e+03, 1.0240e-01])\n"
          ],
          "name": "stdout"
        }
      ]
    },
    {
      "cell_type": "markdown",
      "metadata": {
        "id": "pHG4iE7QJCIu",
        "colab_type": "text"
      },
      "source": [
        "![image.png](https://i.stack.imgur.com/gqHyH.png)"
      ]
    },
    {
      "cell_type": "code",
      "metadata": {
        "id": "Rdk7be7ZJCIu",
        "colab_type": "code",
        "colab": {}
      },
      "source": [
        ""
      ],
      "execution_count": 15,
      "outputs": []
    }
  ]
}