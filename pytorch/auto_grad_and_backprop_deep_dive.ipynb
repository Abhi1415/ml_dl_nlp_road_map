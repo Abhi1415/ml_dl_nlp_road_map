{
  "nbformat": 4,
  "nbformat_minor": 0,
  "metadata": {
    "kernelspec": {
      "display_name": "Python 3",
      "language": "python",
      "name": "python3"
    },
    "language_info": {
      "codemirror_mode": {
        "name": "ipython",
        "version": 3
      },
      "file_extension": ".py",
      "mimetype": "text/x-python",
      "name": "python",
      "nbconvert_exporter": "python",
      "pygments_lexer": "ipython3",
      "version": "3.7.3"
    },
    "colab": {
      "name": "auto_grad and backprop deep dive.ipynb",
      "provenance": [],
      "collapsed_sections": []
    }
  },
  "cells": [
    {
      "cell_type": "markdown",
      "metadata": {
        "id": "Elg7JXY9JCHe",
        "colab_type": "text"
      },
      "source": [
        "### Tensors"
      ]
    },
    {
      "cell_type": "markdown",
      "metadata": {
        "id": "2dm8kz6_JCHk",
        "colab_type": "text"
      },
      "source": [
        " PyTorch provides us with a data structure called a Tensor, which is very similar to NumPy’s ndarray. But unlike the latter, tensors can tap into the resources of a GPU to significantly speed up matrix operations"
      ]
    },
    {
      "cell_type": "code",
      "metadata": {
        "id": "XH--M7oSJCHm",
        "colab_type": "code",
        "colab": {}
      },
      "source": [
        "import torch \n",
        "import numpy as np"
      ],
      "execution_count": null,
      "outputs": []
    },
    {
      "cell_type": "markdown",
      "metadata": {
        "id": "Z7HR31rPJCHx",
        "colab_type": "text"
      },
      "source": [
        "The computation graph is simply a data structure that allows you to efficiently apply the chain rule to compute gradients for all of your parameters.\n",
        "\n",
        "b = w1 * a\n",
        "\n",
        "c = w2 * a \n",
        "\n",
        "d = (w3 * b) + (w4 * c)\n",
        "\n",
        "L = f(d)\n",
        "\n",
        "![image.png](https://blog.paperspace.com/content/images/size/w2000/2019/05/full_graph.png)"
      ]
    },
    {
      "cell_type": "markdown",
      "metadata": {
        "id": "YY-7BfaqJCHz",
        "colab_type": "text"
      },
      "source": [
        "Now, in order to compute the gradient of any node, say, L, with respect of any other node, say c ( dL / dc) all we have to do is.\n",
        "\n",
        "*  Trace the path from L to c. This would be L → d → c.\n",
        "\n",
        "*  Multiply all the edge weights as you traverse along this path. The quantity you end up with is: ( dL / dd ) * ( dd / dc ) = ( dL / dc)\n",
        "\n",
        "* If there are multiple paths, add their results.\n",
        "\n",
        "* For example in case of dL/da, we have two paths. L → d → c → a and L → d → b→ a. We add their contributions to get the gradient of L w.r.t. a.\n",
        "\n",
        "##### [( dL / dd ) * ( dd / dc ) * ( dc / da )] + [( dL / dd ) * ( dd / db ) * ( db / da )]"
      ]
    },
    {
      "cell_type": "markdown",
      "metadata": {
        "id": "xzZSm8dnJCH1",
        "colab_type": "text"
      },
      "source": [
        "### requires_grad()\n",
        "\n",
        "The requires_grad attribute tells autograd to track your operations. So if you want PyTorch to create a graph corresponding to these operations, you will have to set the requires_grad attribute of the Tensor to True."
      ]
    },
    {
      "cell_type": "markdown",
      "metadata": {
        "id": "r_iViN0qJCH2",
        "colab_type": "text"
      },
      "source": [
        "### grad_fn\n",
        "\n",
        "The grad_fn property holds the reference to the function (mathematical operator) that creates it. It is very important during a backward pass as the function here is responsible to calculate the gradient and send it to the appropriate next function in the next pass"
      ]
    },
    {
      "cell_type": "markdown",
      "metadata": {
        "id": "IV4PsWecJCH3",
        "colab_type": "text"
      },
      "source": [
        "### backward()\n",
        "\n",
        "* The backward function takes an incoming gradient from the part of the network in front of it.\n",
        "\n",
        "* Then it calculates the local gradient at a particular tensor.\n",
        "\n",
        "* Then it multiplies the local gradient to with incoming gradient.\n",
        "\n",
        "* Finally, forwards the computed gradient to the tensor’s inputs by invoking the backward method of the grad_fn of their inputs or simply save the gradient in grad property for leaf nodes"
      ]
    },
    {
      "cell_type": "markdown",
      "metadata": {
        "id": "v7rhYIugJCH5",
        "colab_type": "text"
      },
      "source": [
        "### grad:\n",
        "grad holds the value of gradient. If requires_grad is False it will hold a None value. \n",
        "\n",
        "Even if requires_grad is True, it will hold a None value unless .backward() function is called from some other node. \n",
        "\n",
        "For example, if you call out.backward() for some variable out that involved x in its calculations then x.grad will hold ∂out/∂x."
      ]
    },
    {
      "cell_type": "markdown",
      "metadata": {
        "id": "3upZZZa7JCH6",
        "colab_type": "text"
      },
      "source": [
        "![image.png](https://miro.medium.com/max/1536/1*wE1f2i7L8QRw8iuVx5mOpw.png)"
      ]
    },
    {
      "cell_type": "markdown",
      "metadata": {
        "id": "lGNnYtRbJCH7",
        "colab_type": "text"
      },
      "source": [
        "### Exapmple 1"
      ]
    },
    {
      "cell_type": "code",
      "metadata": {
        "id": "7UlMFyJWJCH8",
        "colab_type": "code",
        "colab": {},
        "outputId": "29104f0c-db4f-4317-8f1b-2da6a54d1a49"
      },
      "source": [
        "x = torch.tensor(3., requires_grad=True)\n",
        "\n",
        "a = torch.tensor(4., requires_grad=True)\n",
        "b = torch.tensor(5., requires_grad=True)\n",
        "\n",
        "y = a * x\n",
        "\n",
        "z = y + b\n",
        "\n",
        "z.backward()\n",
        "\n",
        "print(\"Tensor x\")\n",
        "print(f'grad funtion = {x.grad_fn}')\n",
        "\n",
        "print(\"\\nTensor a\")\n",
        "print(f'grad funtion = {a.grad_fn}')\n",
        "\n",
        "print(\"\\nTensor b\")\n",
        "print(f'grad funtion = {b.grad_fn}')\n",
        "\n",
        "print(\"\\nTensor y\")\n",
        "print(f'grad funtion = {y.grad_fn}')\n",
        "\n",
        "print(\"\\nTensor z\")\n",
        "print(f'grad funtion = {z.grad_fn}')"
      ],
      "execution_count": null,
      "outputs": [
        {
          "output_type": "stream",
          "text": [
            "Tensor x\n",
            "grad funtion = None\n",
            "\n",
            "Tensor a\n",
            "grad funtion = None\n",
            "\n",
            "Tensor b\n",
            "grad funtion = None\n",
            "\n",
            "Tensor y\n",
            "grad funtion = <MulBackward0 object at 0x000001BEFFC826A0>\n",
            "\n",
            "Tensor z\n",
            "grad funtion = <AddBackward0 object at 0x000001BEFFC826A0>\n"
          ],
          "name": "stdout"
        }
      ]
    },
    {
      "cell_type": "markdown",
      "metadata": {
        "id": "okpzImhUNM9J",
        "colab_type": "text"
      },
      "source": [
        "![Capture.PNG](data:image/png;base64,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)"
      ]
    },
    {
      "cell_type": "markdown",
      "metadata": {
        "id": "f1Nb29J-JCIB",
        "colab_type": "text"
      },
      "source": [
        "\n",
        "* The tensors in green are leaf nodes.\n",
        "\n",
        "* Tensors in yellow are intermediate nodes.\n",
        "\n",
        "* MulBackward and AddBackward are two grad_fn for y and z respectively.\n",
        "\n",
        "* grad attribute stores the value of calculated gradients."
      ]
    },
    {
      "cell_type": "code",
      "metadata": {
        "id": "teuhR7TqJCIC",
        "colab_type": "code",
        "colab": {},
        "outputId": "1a62e4da-82d7-421a-a64d-f64f0307b2c7"
      },
      "source": [
        "print('dz/dx:', x.grad) \n",
        "print('dz/da:', a.grad) \n",
        "print('dz/db:', b.grad) "
      ],
      "execution_count": null,
      "outputs": [
        {
          "output_type": "stream",
          "text": [
            "dz/dx: tensor(4.)\n",
            "dz/da: tensor(3.)\n",
            "dz/db: tensor(1.)\n"
          ],
          "name": "stdout"
        }
      ]
    },
    {
      "cell_type": "markdown",
      "metadata": {
        "id": "3ANSVq7bJCIG",
        "colab_type": "text"
      },
      "source": [
        "### Example: 2"
      ]
    },
    {
      "cell_type": "code",
      "metadata": {
        "id": "xnhc8AYQJCIH",
        "colab_type": "code",
        "colab": {},
        "outputId": "208c5cae-5ea3-431d-d3af-9241d266d835"
      },
      "source": [
        "# Define the leaf nodes\n",
        "a = torch.tensor([4.0])\n",
        "print(a)"
      ],
      "execution_count": null,
      "outputs": [
        {
          "output_type": "stream",
          "text": [
            "tensor([4.])\n"
          ],
          "name": "stdout"
        }
      ]
    },
    {
      "cell_type": "code",
      "metadata": {
        "id": "ugG1jvlSJCIL",
        "colab_type": "code",
        "colab": {},
        "outputId": "caf41492-fc60-4732-ed9c-bc821948e9da"
      },
      "source": [
        "weights = [torch.tensor([i],requires_grad=True) for i in (2.0, 5.0, 9.0, 7.0)]\n",
        "weights"
      ],
      "execution_count": null,
      "outputs": [
        {
          "output_type": "execute_result",
          "data": {
            "text/plain": [
              "[tensor([2.], requires_grad=True),\n",
              " tensor([5.], requires_grad=True),\n",
              " tensor([9.], requires_grad=True),\n",
              " tensor([7.], requires_grad=True)]"
            ]
          },
          "metadata": {
            "tags": []
          },
          "execution_count": 5
        }
      ]
    },
    {
      "cell_type": "code",
      "metadata": {
        "id": "dd3_aRzoJCIP",
        "colab_type": "code",
        "colab": {}
      },
      "source": [
        "# unpack the weights for nicer assignment\n",
        "w1, w2, w3, w4 = weights\n",
        "\n",
        "b = w1 * a\n",
        "c = w2 * a\n",
        "d = w3 * b + w4 * c\n",
        "L = (10 - d)"
      ],
      "execution_count": null,
      "outputs": []
    },
    {
      "cell_type": "markdown",
      "metadata": {
        "id": "EzeUlRKcJCIS",
        "colab_type": "text"
      },
      "source": [
        "![image.png](https://miro.medium.com/max/1684/1*FDL9Se9otGzz83F3rofQuA.png)"
      ]
    },
    {
      "cell_type": "code",
      "metadata": {
        "id": "V4AI9FwKJCIT",
        "colab_type": "code",
        "colab": {},
        "outputId": "5b9fa229-0ba2-487c-ae51-f12542085837"
      },
      "source": [
        "L.backward()\n",
        "\n",
        "for index, weight in enumerate(weights, start=1):\n",
        "    gradient, *_ = weight.grad.data\n",
        "    print(f\" dL/w{index} : {gradient}\")"
      ],
      "execution_count": null,
      "outputs": [
        {
          "output_type": "stream",
          "text": [
            " dL/w1 : -36.0\n",
            " dL/w2 : -28.0\n",
            " dL/w3 : -8.0\n",
            " dL/w4 : -20.0\n"
          ],
          "name": "stdout"
        }
      ]
    },
    {
      "cell_type": "markdown",
      "metadata": {
        "id": "P2elnKYxJCIW",
        "colab_type": "text"
      },
      "source": [
        "### Example: 3 Scalar example"
      ]
    },
    {
      "cell_type": "code",
      "metadata": {
        "id": "IexAefcVJCIW",
        "colab_type": "code",
        "colab": {},
        "outputId": "7b5c2609-629f-4b4c-db3e-876215fdb1a9"
      },
      "source": [
        "x = torch.ones(2, 2, requires_grad=True)\n",
        "print(x)"
      ],
      "execution_count": null,
      "outputs": [
        {
          "output_type": "stream",
          "text": [
            "tensor([[1., 1.],\n",
            "        [1., 1.]], requires_grad=True)\n"
          ],
          "name": "stdout"
        }
      ]
    },
    {
      "cell_type": "code",
      "metadata": {
        "id": "0FYiBRrOJCIZ",
        "colab_type": "code",
        "colab": {},
        "outputId": "2f1ce4d7-b692-4e32-a9e6-0baee7e6b378"
      },
      "source": [
        "y = x + 2# tensor opeartion\n",
        "print(y)\n",
        "print(y.grad_fn)"
      ],
      "execution_count": null,
      "outputs": [
        {
          "output_type": "stream",
          "text": [
            "tensor([[3., 3.],\n",
            "        [3., 3.]], grad_fn=<AddBackward0>)\n",
            "<AddBackward0 object at 0x000001BE82BA20F0>\n"
          ],
          "name": "stdout"
        }
      ]
    },
    {
      "cell_type": "code",
      "metadata": {
        "id": "42uM_IO9JCIc",
        "colab_type": "code",
        "colab": {},
        "outputId": "45e4f6c9-72b2-41d8-c539-809c9dce71c2"
      },
      "source": [
        "z = y * y * 3 # more operation\n",
        "out = z.mean()\n",
        "\n",
        "print(z, out)"
      ],
      "execution_count": null,
      "outputs": [
        {
          "output_type": "stream",
          "text": [
            "tensor([[27., 27.],\n",
            "        [27., 27.]], grad_fn=<MulBackward0>) tensor(27., grad_fn=<MeanBackward0>)\n"
          ],
          "name": "stdout"
        }
      ]
    },
    {
      "cell_type": "code",
      "metadata": {
        "id": "gEQ1WD_fJCIf",
        "colab_type": "code",
        "colab": {}
      },
      "source": [
        "out.backward()"
      ],
      "execution_count": null,
      "outputs": []
    },
    {
      "cell_type": "code",
      "metadata": {
        "id": "CFO3uuZzJCIh",
        "colab_type": "code",
        "colab": {},
        "outputId": "1e6bb454-6aa7-40dd-892b-df17c24d785c"
      },
      "source": [
        "print(x.grad) #gradients d(out)/dx"
      ],
      "execution_count": null,
      "outputs": [
        {
          "output_type": "stream",
          "text": [
            "tensor([[4.5000, 4.5000],\n",
            "        [4.5000, 4.5000]])\n"
          ],
          "name": "stdout"
        }
      ]
    },
    {
      "cell_type": "code",
      "metadata": {
        "id": "8qYF9e8kMIsp",
        "colab_type": "code",
        "colab": {}
      },
      "source": [
        ""
      ],
      "execution_count": null,
      "outputs": []
    },
    {
      "cell_type": "markdown",
      "metadata": {
        "id": "h9DWT-raJCIk",
        "colab_type": "text"
      },
      "source": [
        "![image.png](https://i.stack.imgur.com/4o5qL.png)"
      ]
    },
    {
      "cell_type": "markdown",
      "metadata": {
        "id": "ZPsoKO9SJCIl",
        "colab_type": "text"
      },
      "source": [
        "### Examples 4: Non Scalar"
      ]
    },
    {
      "cell_type": "markdown",
      "metadata": {
        "id": "sX2kyzwhJCIl",
        "colab_type": "text"
      },
      "source": [
        "https://pytorch.org/tutorials/beginner/blitz/autograd_tutorial.html"
      ]
    },
    {
      "cell_type": "code",
      "metadata": {
        "id": "zmuKoiNSJCIm",
        "colab_type": "code",
        "colab": {},
        "outputId": "ff5cc16b-29e0-4586-b4a7-b3d634bf1fb4"
      },
      "source": [
        "x = torch.tensor([1.6271,-0.3254,-0.3567], requires_grad=True)\n",
        "\n",
        "print(x)\n",
        "y = x * 2\n",
        "y.data.norm()"
      ],
      "execution_count": null,
      "outputs": [
        {
          "output_type": "stream",
          "text": [
            "tensor([ 1.6271, -0.3254, -0.3567], requires_grad=True)\n"
          ],
          "name": "stdout"
        },
        {
          "output_type": "execute_result",
          "data": {
            "text/plain": [
              "tensor(3.3945)"
            ]
          },
          "metadata": {
            "tags": []
          },
          "execution_count": 13
        }
      ]
    },
    {
      "cell_type": "code",
      "metadata": {
        "id": "pvPqe9TRJCIo",
        "colab_type": "code",
        "colab": {},
        "outputId": "59a19a44-cc3a-4685-a4cf-ddc3d33f518e"
      },
      "source": [
        "\n",
        "while y.data.norm() < 1000:\n",
        "    y = y * 2\n",
        "\n",
        "print(y)"
      ],
      "execution_count": null,
      "outputs": [
        {
          "output_type": "stream",
          "text": [
            "tensor([1666.1504, -333.2096, -365.2608], grad_fn=<MulBackward0>)\n"
          ],
          "name": "stdout"
        }
      ]
    },
    {
      "cell_type": "code",
      "metadata": {
        "id": "NZPDtU3SJCIr",
        "colab_type": "code",
        "colab": {},
        "outputId": "7146355c-1cce-4d86-93f8-75a019449a9c"
      },
      "source": [
        "gradients = torch.FloatTensor([0.1, 1.0, 0.0001]) # specifying gradient because input is non-scalar\n",
        "print(gradient)\n",
        "y.backward(gradients)\n",
        "\n",
        "print(c)\n",
        "print(x.grad)"
      ],
      "execution_count": null,
      "outputs": [
        {
          "output_type": "stream",
          "text": [
            "tensor(-20.)\n",
            "tensor([20.], grad_fn=<MulBackward0>)\n",
            "tensor([1.0240e+02, 1.0240e+03, 1.0240e-01])\n"
          ],
          "name": "stdout"
        }
      ]
    },
    {
      "cell_type": "markdown",
      "metadata": {
        "id": "pHG4iE7QJCIu",
        "colab_type": "text"
      },
      "source": [
        "![image.png](https://i.stack.imgur.com/gqHyH.png)"
      ]
    },
    {
      "cell_type": "code",
      "metadata": {
        "id": "Rdk7be7ZJCIu",
        "colab_type": "code",
        "colab": {}
      },
      "source": [
        ""
      ],
      "execution_count": null,
      "outputs": []
    }
  ]
}