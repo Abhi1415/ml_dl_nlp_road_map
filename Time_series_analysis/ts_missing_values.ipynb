{
  "nbformat": 4,
  "nbformat_minor": 0,
  "metadata": {
    "colab": {
      "name": "ts_missing_values.ipynb",
      "provenance": [],
      "collapsed_sections": []
    },
    "kernelspec": {
      "name": "python3",
      "display_name": "Python 3"
    }
  },
  "cells": [
    {
      "cell_type": "code",
      "metadata": {
        "id": "JC3WPi2IyIGQ",
        "colab_type": "code",
        "colab": {}
      },
      "source": [
        "import matplotlib as mpl\n",
        "import matplotlib.pyplot as plt\n",
        "import numpy as np\n",
        "import os\n",
        "from datetime import datetime\n",
        "\n",
        "import pandas as pd\n",
        "from download import download"
      ],
      "execution_count": 35,
      "outputs": []
    },
    {
      "cell_type": "code",
      "metadata": {
        "id": "idET8Qt7B610",
        "colab_type": "code",
        "colab": {
          "base_uri": "https://localhost:8080/",
          "height": 34
        },
        "outputId": "a63f3a87-b6f9-4114-b580-3ad959f2618e"
      },
      "source": [
        "path = download('https://archive.ics.uci.edu/ml/machine-learning-databases/00501/PRSA2017_Data_20130301-20170228.zip','/data',kind= 'zip')"
      ],
      "execution_count": 36,
      "outputs": [
        {
          "output_type": "stream",
          "text": [
            "Replace is False and data exists, so doing nothing. Use replace=True to re-download the data.\n"
          ],
          "name": "stdout"
        }
      ]
    },
    {
      "cell_type": "code",
      "metadata": {
        "id": "HRuKLROrC1W1",
        "colab_type": "code",
        "colab": {
          "base_uri": "https://localhost:8080/",
          "height": 218
        },
        "outputId": "1366c68e-6c5f-4518-a8fb-79eeca08699c"
      },
      "source": [
        "! ls /data/PRSA_Data_20130301-20170228"
      ],
      "execution_count": 37,
      "outputs": [
        {
          "output_type": "stream",
          "text": [
            "PRSA_Data_Aotizhongxin_20130301-20170228.csv\n",
            "PRSA_Data_Changping_20130301-20170228.csv\n",
            "PRSA_Data_Dingling_20130301-20170228.csv\n",
            "PRSA_Data_Dongsi_20130301-20170228.csv\n",
            "PRSA_Data_Guanyuan_20130301-20170228.csv\n",
            "PRSA_Data_Gucheng_20130301-20170228.csv\n",
            "PRSA_Data_Huairou_20130301-20170228.csv\n",
            "PRSA_Data_Nongzhanguan_20130301-20170228.csv\n",
            "PRSA_Data_Shunyi_20130301-20170228.csv\n",
            "PRSA_Data_Tiantan_20130301-20170228.csv\n",
            "PRSA_Data_Wanliu_20130301-20170228.csv\n",
            "PRSA_Data_Wanshouxigong_20130301-20170228.csv\n"
          ],
          "name": "stdout"
        }
      ]
    },
    {
      "cell_type": "code",
      "metadata": {
        "id": "LqtHkO5LBIEq",
        "colab_type": "code",
        "colab": {}
      },
      "source": [
        "df = pd.read_csv('/data/PRSA_Data_20130301-20170228/PRSA_Data_Dingling_20130301-20170228.csv')"
      ],
      "execution_count": 38,
      "outputs": []
    },
    {
      "cell_type": "code",
      "metadata": {
        "id": "wFB7103DyMRP",
        "colab_type": "code",
        "colab": {
          "base_uri": "https://localhost:8080/",
          "height": 195
        },
        "outputId": "0364b690-9caa-405d-f676-5e4329e34463"
      },
      "source": [
        "df.head()"
      ],
      "execution_count": 39,
      "outputs": [
        {
          "output_type": "execute_result",
          "data": {
            "text/html": [
              "<div>\n",
              "<style scoped>\n",
              "    .dataframe tbody tr th:only-of-type {\n",
              "        vertical-align: middle;\n",
              "    }\n",
              "\n",
              "    .dataframe tbody tr th {\n",
              "        vertical-align: top;\n",
              "    }\n",
              "\n",
              "    .dataframe thead th {\n",
              "        text-align: right;\n",
              "    }\n",
              "</style>\n",
              "<table border=\"1\" class=\"dataframe\">\n",
              "  <thead>\n",
              "    <tr style=\"text-align: right;\">\n",
              "      <th></th>\n",
              "      <th>No</th>\n",
              "      <th>year</th>\n",
              "      <th>month</th>\n",
              "      <th>day</th>\n",
              "      <th>hour</th>\n",
              "      <th>PM2.5</th>\n",
              "      <th>PM10</th>\n",
              "      <th>SO2</th>\n",
              "      <th>NO2</th>\n",
              "      <th>CO</th>\n",
              "      <th>O3</th>\n",
              "      <th>TEMP</th>\n",
              "      <th>PRES</th>\n",
              "      <th>DEWP</th>\n",
              "      <th>RAIN</th>\n",
              "      <th>wd</th>\n",
              "      <th>WSPM</th>\n",
              "      <th>station</th>\n",
              "    </tr>\n",
              "  </thead>\n",
              "  <tbody>\n",
              "    <tr>\n",
              "      <th>0</th>\n",
              "      <td>1</td>\n",
              "      <td>2013</td>\n",
              "      <td>3</td>\n",
              "      <td>1</td>\n",
              "      <td>0</td>\n",
              "      <td>4.0</td>\n",
              "      <td>4.0</td>\n",
              "      <td>3.0</td>\n",
              "      <td>NaN</td>\n",
              "      <td>200.0</td>\n",
              "      <td>82.0</td>\n",
              "      <td>-2.3</td>\n",
              "      <td>1020.8</td>\n",
              "      <td>-19.7</td>\n",
              "      <td>0.0</td>\n",
              "      <td>E</td>\n",
              "      <td>0.5</td>\n",
              "      <td>Dingling</td>\n",
              "    </tr>\n",
              "    <tr>\n",
              "      <th>1</th>\n",
              "      <td>2</td>\n",
              "      <td>2013</td>\n",
              "      <td>3</td>\n",
              "      <td>1</td>\n",
              "      <td>1</td>\n",
              "      <td>7.0</td>\n",
              "      <td>7.0</td>\n",
              "      <td>3.0</td>\n",
              "      <td>NaN</td>\n",
              "      <td>200.0</td>\n",
              "      <td>80.0</td>\n",
              "      <td>-2.5</td>\n",
              "      <td>1021.3</td>\n",
              "      <td>-19.0</td>\n",
              "      <td>0.0</td>\n",
              "      <td>ENE</td>\n",
              "      <td>0.7</td>\n",
              "      <td>Dingling</td>\n",
              "    </tr>\n",
              "    <tr>\n",
              "      <th>2</th>\n",
              "      <td>3</td>\n",
              "      <td>2013</td>\n",
              "      <td>3</td>\n",
              "      <td>1</td>\n",
              "      <td>2</td>\n",
              "      <td>5.0</td>\n",
              "      <td>5.0</td>\n",
              "      <td>3.0</td>\n",
              "      <td>2.0</td>\n",
              "      <td>200.0</td>\n",
              "      <td>79.0</td>\n",
              "      <td>-3.0</td>\n",
              "      <td>1021.3</td>\n",
              "      <td>-19.9</td>\n",
              "      <td>0.0</td>\n",
              "      <td>ENE</td>\n",
              "      <td>0.2</td>\n",
              "      <td>Dingling</td>\n",
              "    </tr>\n",
              "    <tr>\n",
              "      <th>3</th>\n",
              "      <td>4</td>\n",
              "      <td>2013</td>\n",
              "      <td>3</td>\n",
              "      <td>1</td>\n",
              "      <td>3</td>\n",
              "      <td>6.0</td>\n",
              "      <td>6.0</td>\n",
              "      <td>3.0</td>\n",
              "      <td>NaN</td>\n",
              "      <td>200.0</td>\n",
              "      <td>79.0</td>\n",
              "      <td>-3.6</td>\n",
              "      <td>1021.8</td>\n",
              "      <td>-19.1</td>\n",
              "      <td>0.0</td>\n",
              "      <td>NNE</td>\n",
              "      <td>1.0</td>\n",
              "      <td>Dingling</td>\n",
              "    </tr>\n",
              "    <tr>\n",
              "      <th>4</th>\n",
              "      <td>5</td>\n",
              "      <td>2013</td>\n",
              "      <td>3</td>\n",
              "      <td>1</td>\n",
              "      <td>4</td>\n",
              "      <td>5.0</td>\n",
              "      <td>5.0</td>\n",
              "      <td>3.0</td>\n",
              "      <td>NaN</td>\n",
              "      <td>200.0</td>\n",
              "      <td>81.0</td>\n",
              "      <td>-3.5</td>\n",
              "      <td>1022.3</td>\n",
              "      <td>-19.4</td>\n",
              "      <td>0.0</td>\n",
              "      <td>N</td>\n",
              "      <td>2.1</td>\n",
              "      <td>Dingling</td>\n",
              "    </tr>\n",
              "  </tbody>\n",
              "</table>\n",
              "</div>"
            ],
            "text/plain": [
              "   No  year  month  day  hour  PM2.5  ...    PRES  DEWP  RAIN   wd  WSPM   station\n",
              "0   1  2013      3    1     0    4.0  ...  1020.8 -19.7   0.0    E   0.5  Dingling\n",
              "1   2  2013      3    1     1    7.0  ...  1021.3 -19.0   0.0  ENE   0.7  Dingling\n",
              "2   3  2013      3    1     2    5.0  ...  1021.3 -19.9   0.0  ENE   0.2  Dingling\n",
              "3   4  2013      3    1     3    6.0  ...  1021.8 -19.1   0.0  NNE   1.0  Dingling\n",
              "4   5  2013      3    1     4    5.0  ...  1022.3 -19.4   0.0    N   2.1  Dingling\n",
              "\n",
              "[5 rows x 18 columns]"
            ]
          },
          "metadata": {
            "tags": []
          },
          "execution_count": 39
        }
      ]
    },
    {
      "cell_type": "code",
      "metadata": {
        "id": "9tagL4BwDrWN",
        "colab_type": "code",
        "colab": {
          "base_uri": "https://localhost:8080/",
          "height": 195
        },
        "outputId": "a55b43cb-fd82-4814-87e2-03fabcb2301c"
      },
      "source": [
        "def parse(x):\n",
        "  return datetime.strptime(x, '%m %d %Y %H')\n",
        "\n",
        "df = pd.read_csv('/data/PRSA_Data_20130301-20170228/PRSA_Data_Dingling_20130301-20170228.csv',  parse_dates =[['month', 'day', 'year','hour']], \n",
        "                date_parser=parse,\n",
        "                keep_date_col=True)\n",
        "df.head()"
      ],
      "execution_count": 40,
      "outputs": [
        {
          "output_type": "execute_result",
          "data": {
            "text/html": [
              "<div>\n",
              "<style scoped>\n",
              "    .dataframe tbody tr th:only-of-type {\n",
              "        vertical-align: middle;\n",
              "    }\n",
              "\n",
              "    .dataframe tbody tr th {\n",
              "        vertical-align: top;\n",
              "    }\n",
              "\n",
              "    .dataframe thead th {\n",
              "        text-align: right;\n",
              "    }\n",
              "</style>\n",
              "<table border=\"1\" class=\"dataframe\">\n",
              "  <thead>\n",
              "    <tr style=\"text-align: right;\">\n",
              "      <th></th>\n",
              "      <th>month_day_year_hour</th>\n",
              "      <th>No</th>\n",
              "      <th>year</th>\n",
              "      <th>month</th>\n",
              "      <th>day</th>\n",
              "      <th>hour</th>\n",
              "      <th>PM2.5</th>\n",
              "      <th>PM10</th>\n",
              "      <th>SO2</th>\n",
              "      <th>NO2</th>\n",
              "      <th>CO</th>\n",
              "      <th>O3</th>\n",
              "      <th>TEMP</th>\n",
              "      <th>PRES</th>\n",
              "      <th>DEWP</th>\n",
              "      <th>RAIN</th>\n",
              "      <th>wd</th>\n",
              "      <th>WSPM</th>\n",
              "      <th>station</th>\n",
              "    </tr>\n",
              "  </thead>\n",
              "  <tbody>\n",
              "    <tr>\n",
              "      <th>0</th>\n",
              "      <td>2013-03-01 00:00:00</td>\n",
              "      <td>1</td>\n",
              "      <td>2013</td>\n",
              "      <td>3</td>\n",
              "      <td>1</td>\n",
              "      <td>0</td>\n",
              "      <td>4.0</td>\n",
              "      <td>4.0</td>\n",
              "      <td>3.0</td>\n",
              "      <td>NaN</td>\n",
              "      <td>200.0</td>\n",
              "      <td>82.0</td>\n",
              "      <td>-2.3</td>\n",
              "      <td>1020.8</td>\n",
              "      <td>-19.7</td>\n",
              "      <td>0.0</td>\n",
              "      <td>E</td>\n",
              "      <td>0.5</td>\n",
              "      <td>Dingling</td>\n",
              "    </tr>\n",
              "    <tr>\n",
              "      <th>1</th>\n",
              "      <td>2013-03-01 01:00:00</td>\n",
              "      <td>2</td>\n",
              "      <td>2013</td>\n",
              "      <td>3</td>\n",
              "      <td>1</td>\n",
              "      <td>1</td>\n",
              "      <td>7.0</td>\n",
              "      <td>7.0</td>\n",
              "      <td>3.0</td>\n",
              "      <td>NaN</td>\n",
              "      <td>200.0</td>\n",
              "      <td>80.0</td>\n",
              "      <td>-2.5</td>\n",
              "      <td>1021.3</td>\n",
              "      <td>-19.0</td>\n",
              "      <td>0.0</td>\n",
              "      <td>ENE</td>\n",
              "      <td>0.7</td>\n",
              "      <td>Dingling</td>\n",
              "    </tr>\n",
              "    <tr>\n",
              "      <th>2</th>\n",
              "      <td>2013-03-01 02:00:00</td>\n",
              "      <td>3</td>\n",
              "      <td>2013</td>\n",
              "      <td>3</td>\n",
              "      <td>1</td>\n",
              "      <td>2</td>\n",
              "      <td>5.0</td>\n",
              "      <td>5.0</td>\n",
              "      <td>3.0</td>\n",
              "      <td>2.0</td>\n",
              "      <td>200.0</td>\n",
              "      <td>79.0</td>\n",
              "      <td>-3.0</td>\n",
              "      <td>1021.3</td>\n",
              "      <td>-19.9</td>\n",
              "      <td>0.0</td>\n",
              "      <td>ENE</td>\n",
              "      <td>0.2</td>\n",
              "      <td>Dingling</td>\n",
              "    </tr>\n",
              "    <tr>\n",
              "      <th>3</th>\n",
              "      <td>2013-03-01 03:00:00</td>\n",
              "      <td>4</td>\n",
              "      <td>2013</td>\n",
              "      <td>3</td>\n",
              "      <td>1</td>\n",
              "      <td>3</td>\n",
              "      <td>6.0</td>\n",
              "      <td>6.0</td>\n",
              "      <td>3.0</td>\n",
              "      <td>NaN</td>\n",
              "      <td>200.0</td>\n",
              "      <td>79.0</td>\n",
              "      <td>-3.6</td>\n",
              "      <td>1021.8</td>\n",
              "      <td>-19.1</td>\n",
              "      <td>0.0</td>\n",
              "      <td>NNE</td>\n",
              "      <td>1.0</td>\n",
              "      <td>Dingling</td>\n",
              "    </tr>\n",
              "    <tr>\n",
              "      <th>4</th>\n",
              "      <td>2013-03-01 04:00:00</td>\n",
              "      <td>5</td>\n",
              "      <td>2013</td>\n",
              "      <td>3</td>\n",
              "      <td>1</td>\n",
              "      <td>4</td>\n",
              "      <td>5.0</td>\n",
              "      <td>5.0</td>\n",
              "      <td>3.0</td>\n",
              "      <td>NaN</td>\n",
              "      <td>200.0</td>\n",
              "      <td>81.0</td>\n",
              "      <td>-3.5</td>\n",
              "      <td>1022.3</td>\n",
              "      <td>-19.4</td>\n",
              "      <td>0.0</td>\n",
              "      <td>N</td>\n",
              "      <td>2.1</td>\n",
              "      <td>Dingling</td>\n",
              "    </tr>\n",
              "  </tbody>\n",
              "</table>\n",
              "</div>"
            ],
            "text/plain": [
              "  month_day_year_hour  No  year month day  ...  DEWP  RAIN   wd  WSPM   station\n",
              "0 2013-03-01 00:00:00   1  2013     3   1  ... -19.7   0.0    E   0.5  Dingling\n",
              "1 2013-03-01 01:00:00   2  2013     3   1  ... -19.0   0.0  ENE   0.7  Dingling\n",
              "2 2013-03-01 02:00:00   3  2013     3   1  ... -19.9   0.0  ENE   0.2  Dingling\n",
              "3 2013-03-01 03:00:00   4  2013     3   1  ... -19.1   0.0  NNE   1.0  Dingling\n",
              "4 2013-03-01 04:00:00   5  2013     3   1  ... -19.4   0.0    N   2.1  Dingling\n",
              "\n",
              "[5 rows x 19 columns]"
            ]
          },
          "metadata": {
            "tags": []
          },
          "execution_count": 40
        }
      ]
    },
    {
      "cell_type": "code",
      "metadata": {
        "id": "kNhCWad7D-d5",
        "colab_type": "code",
        "colab": {
          "base_uri": "https://localhost:8080/",
          "height": 840
        },
        "outputId": "1a55a9be-a38b-4f4d-d442-f53f19d78280"
      },
      "source": [
        "\n",
        "print(\"Rows     :\", df.shape[0])\n",
        "print(\"Columns  :\", df.shape[1])\n",
        "print(\"\\n Features \\n\", df.columns.to_list())\n",
        "print(\"\\n Missing Values \\n\", df.isnull().any())\n",
        "print(\"\\n Unique Values \\n\", df.nunique())"
      ],
      "execution_count": 41,
      "outputs": [
        {
          "output_type": "stream",
          "text": [
            "Rows     : 35064\n",
            "Columns  : 19\n",
            "\n",
            " Features \n",
            " ['month_day_year_hour', 'No', 'year', 'month', 'day', 'hour', 'PM2.5', 'PM10', 'SO2', 'NO2', 'CO', 'O3', 'TEMP', 'PRES', 'DEWP', 'RAIN', 'wd', 'WSPM', 'station']\n",
            "\n",
            " Missing Values \n",
            " month_day_year_hour    False\n",
            "No                     False\n",
            "year                   False\n",
            "month                  False\n",
            "day                    False\n",
            "hour                   False\n",
            "PM2.5                   True\n",
            "PM10                    True\n",
            "SO2                     True\n",
            "NO2                     True\n",
            "CO                      True\n",
            "O3                      True\n",
            "TEMP                    True\n",
            "PRES                    True\n",
            "DEWP                    True\n",
            "RAIN                    True\n",
            "wd                      True\n",
            "WSPM                    True\n",
            "station                False\n",
            "dtype: bool\n",
            "\n",
            " Unique Values \n",
            " month_day_year_hour    35064\n",
            "No                     35064\n",
            "year                       5\n",
            "month                     12\n",
            "day                       31\n",
            "hour                      24\n",
            "PM2.5                    486\n",
            "PM10                     554\n",
            "SO2                      327\n",
            "NO2                      636\n",
            "CO                       103\n",
            "O3                       792\n",
            "TEMP                     998\n",
            "PRES                     593\n",
            "DEWP                     602\n",
            "RAIN                     116\n",
            "wd                        16\n",
            "WSPM                      95\n",
            "station                    1\n",
            "dtype: int64\n"
          ],
          "name": "stdout"
        }
      ]
    },
    {
      "cell_type": "code",
      "metadata": {
        "id": "bX_JLH1GECvz",
        "colab_type": "code",
        "colab": {}
      },
      "source": [
        "df_non_indexed= df.copy()"
      ],
      "execution_count": 42,
      "outputs": []
    },
    {
      "cell_type": "code",
      "metadata": {
        "id": "Lm8K0d8HEKBs",
        "colab_type": "code",
        "colab": {
          "base_uri": "https://localhost:8080/",
          "height": 353
        },
        "outputId": "74786943-f474-4c78-b74f-5bbd6010d941"
      },
      "source": [
        "df.isnull().sum()#to check missing values"
      ],
      "execution_count": 43,
      "outputs": [
        {
          "output_type": "execute_result",
          "data": {
            "text/plain": [
              "month_day_year_hour       0\n",
              "No                        0\n",
              "year                      0\n",
              "month                     0\n",
              "day                       0\n",
              "hour                      0\n",
              "PM2.5                   779\n",
              "PM10                    656\n",
              "SO2                     730\n",
              "NO2                    1234\n",
              "CO                     2012\n",
              "O3                     1214\n",
              "TEMP                     53\n",
              "PRES                     50\n",
              "DEWP                     53\n",
              "RAIN                     51\n",
              "wd                      140\n",
              "WSPM                     43\n",
              "station                   0\n",
              "dtype: int64"
            ]
          },
          "metadata": {
            "tags": []
          },
          "execution_count": 43
        }
      ]
    },
    {
      "cell_type": "code",
      "metadata": {
        "id": "FBWgb4ZnEKES",
        "colab_type": "code",
        "colab": {
          "base_uri": "https://localhost:8080/",
          "height": 195
        },
        "outputId": "267a216f-ba89-4c7b-8aed-4d77e047f958"
      },
      "source": [
        "df[df['TEMP'].isnull()].head()"
      ],
      "execution_count": 44,
      "outputs": [
        {
          "output_type": "execute_result",
          "data": {
            "text/html": [
              "<div>\n",
              "<style scoped>\n",
              "    .dataframe tbody tr th:only-of-type {\n",
              "        vertical-align: middle;\n",
              "    }\n",
              "\n",
              "    .dataframe tbody tr th {\n",
              "        vertical-align: top;\n",
              "    }\n",
              "\n",
              "    .dataframe thead th {\n",
              "        text-align: right;\n",
              "    }\n",
              "</style>\n",
              "<table border=\"1\" class=\"dataframe\">\n",
              "  <thead>\n",
              "    <tr style=\"text-align: right;\">\n",
              "      <th></th>\n",
              "      <th>month_day_year_hour</th>\n",
              "      <th>No</th>\n",
              "      <th>year</th>\n",
              "      <th>month</th>\n",
              "      <th>day</th>\n",
              "      <th>hour</th>\n",
              "      <th>PM2.5</th>\n",
              "      <th>PM10</th>\n",
              "      <th>SO2</th>\n",
              "      <th>NO2</th>\n",
              "      <th>CO</th>\n",
              "      <th>O3</th>\n",
              "      <th>TEMP</th>\n",
              "      <th>PRES</th>\n",
              "      <th>DEWP</th>\n",
              "      <th>RAIN</th>\n",
              "      <th>wd</th>\n",
              "      <th>WSPM</th>\n",
              "      <th>station</th>\n",
              "    </tr>\n",
              "  </thead>\n",
              "  <tbody>\n",
              "    <tr>\n",
              "      <th>16748</th>\n",
              "      <td>2015-01-27 20:00:00</td>\n",
              "      <td>16749</td>\n",
              "      <td>2015</td>\n",
              "      <td>1</td>\n",
              "      <td>27</td>\n",
              "      <td>20</td>\n",
              "      <td>39.0</td>\n",
              "      <td>43.0</td>\n",
              "      <td>28.0</td>\n",
              "      <td>34.0</td>\n",
              "      <td>1100.0</td>\n",
              "      <td>23.0</td>\n",
              "      <td>NaN</td>\n",
              "      <td>NaN</td>\n",
              "      <td>NaN</td>\n",
              "      <td>NaN</td>\n",
              "      <td>NaN</td>\n",
              "      <td>NaN</td>\n",
              "      <td>Dingling</td>\n",
              "    </tr>\n",
              "    <tr>\n",
              "      <th>16813</th>\n",
              "      <td>2015-01-30 13:00:00</td>\n",
              "      <td>16814</td>\n",
              "      <td>2015</td>\n",
              "      <td>1</td>\n",
              "      <td>30</td>\n",
              "      <td>13</td>\n",
              "      <td>15.0</td>\n",
              "      <td>19.0</td>\n",
              "      <td>19.0</td>\n",
              "      <td>5.0</td>\n",
              "      <td>400.0</td>\n",
              "      <td>68.0</td>\n",
              "      <td>NaN</td>\n",
              "      <td>NaN</td>\n",
              "      <td>NaN</td>\n",
              "      <td>NaN</td>\n",
              "      <td>NaN</td>\n",
              "      <td>NaN</td>\n",
              "      <td>Dingling</td>\n",
              "    </tr>\n",
              "    <tr>\n",
              "      <th>16829</th>\n",
              "      <td>2015-01-31 05:00:00</td>\n",
              "      <td>16830</td>\n",
              "      <td>2015</td>\n",
              "      <td>1</td>\n",
              "      <td>31</td>\n",
              "      <td>5</td>\n",
              "      <td>5.0</td>\n",
              "      <td>11.0</td>\n",
              "      <td>32.0</td>\n",
              "      <td>8.0</td>\n",
              "      <td>400.0</td>\n",
              "      <td>60.0</td>\n",
              "      <td>NaN</td>\n",
              "      <td>NaN</td>\n",
              "      <td>NaN</td>\n",
              "      <td>NaN</td>\n",
              "      <td>NaN</td>\n",
              "      <td>NaN</td>\n",
              "      <td>Dingling</td>\n",
              "    </tr>\n",
              "    <tr>\n",
              "      <th>16873</th>\n",
              "      <td>2015-02-02 01:00:00</td>\n",
              "      <td>16874</td>\n",
              "      <td>2015</td>\n",
              "      <td>2</td>\n",
              "      <td>2</td>\n",
              "      <td>1</td>\n",
              "      <td>60.0</td>\n",
              "      <td>60.0</td>\n",
              "      <td>30.0</td>\n",
              "      <td>39.0</td>\n",
              "      <td>2600.0</td>\n",
              "      <td>9.0</td>\n",
              "      <td>NaN</td>\n",
              "      <td>NaN</td>\n",
              "      <td>NaN</td>\n",
              "      <td>NaN</td>\n",
              "      <td>NaN</td>\n",
              "      <td>NaN</td>\n",
              "      <td>Dingling</td>\n",
              "    </tr>\n",
              "    <tr>\n",
              "      <th>16883</th>\n",
              "      <td>2015-02-02 11:00:00</td>\n",
              "      <td>16884</td>\n",
              "      <td>2015</td>\n",
              "      <td>2</td>\n",
              "      <td>2</td>\n",
              "      <td>11</td>\n",
              "      <td>138.0</td>\n",
              "      <td>138.0</td>\n",
              "      <td>52.0</td>\n",
              "      <td>73.0</td>\n",
              "      <td>2200.0</td>\n",
              "      <td>14.0</td>\n",
              "      <td>NaN</td>\n",
              "      <td>NaN</td>\n",
              "      <td>NaN</td>\n",
              "      <td>NaN</td>\n",
              "      <td>NaN</td>\n",
              "      <td>NaN</td>\n",
              "      <td>Dingling</td>\n",
              "    </tr>\n",
              "  </tbody>\n",
              "</table>\n",
              "</div>"
            ],
            "text/plain": [
              "      month_day_year_hour     No  year month  ... RAIN   wd  WSPM   station\n",
              "16748 2015-01-27 20:00:00  16749  2015     1  ...  NaN  NaN   NaN  Dingling\n",
              "16813 2015-01-30 13:00:00  16814  2015     1  ...  NaN  NaN   NaN  Dingling\n",
              "16829 2015-01-31 05:00:00  16830  2015     1  ...  NaN  NaN   NaN  Dingling\n",
              "16873 2015-02-02 01:00:00  16874  2015     2  ...  NaN  NaN   NaN  Dingling\n",
              "16883 2015-02-02 11:00:00  16884  2015     2  ...  NaN  NaN   NaN  Dingling\n",
              "\n",
              "[5 rows x 19 columns]"
            ]
          },
          "metadata": {
            "tags": []
          },
          "execution_count": 44
        }
      ]
    },
    {
      "cell_type": "code",
      "metadata": {
        "id": "gsrQXFqaEKG8",
        "colab_type": "code",
        "colab": {
          "base_uri": "https://localhost:8080/",
          "height": 34
        },
        "outputId": "c5b558c0-99ae-4eb0-f353-f5582c7d2c88"
      },
      "source": [
        "df[df['PM2.5'].isnull()].shape"
      ],
      "execution_count": 45,
      "outputs": [
        {
          "output_type": "execute_result",
          "data": {
            "text/plain": [
              "(779, 19)"
            ]
          },
          "metadata": {
            "tags": []
          },
          "execution_count": 45
        }
      ]
    },
    {
      "cell_type": "code",
      "metadata": {
        "id": "tAK9p1yeEKKS",
        "colab_type": "code",
        "colab": {
          "base_uri": "https://localhost:8080/",
          "height": 297
        },
        "outputId": "fe7ff1e6-72ec-4edd-9fc5-3ee5848a6c71"
      },
      "source": [
        "df= df.set_index('month_day_year_hour')\n",
        "df['PM2.5'].plot(grid=True)"
      ],
      "execution_count": 46,
      "outputs": [
        {
          "output_type": "execute_result",
          "data": {
            "text/plain": [
              "<matplotlib.axes._subplots.AxesSubplot at 0x7f3f39b2b4a8>"
            ]
          },
          "metadata": {
            "tags": []
          },
          "execution_count": 46
        },
        {
          "output_type": "display_data",
          "data": {
            "image/png": "[encoded data removed]",
            "text/plain": [
              "<Figure size 432x288 with 1 Axes>"
            ]
          },
          "metadata": {
            "tags": [],
            "needs_background": "light"
          }
        }
      ]
    },
    {
      "cell_type": "code",
      "metadata": {
        "id": "YOzS593pL-Gr",
        "colab_type": "code",
        "colab": {
          "base_uri": "https://localhost:8080/",
          "height": 297
        },
        "outputId": "6de6ff09-bafc-457e-d292-86af91a18126"
      },
      "source": [
        "df['TEMP'].plot(grid=True)"
      ],
      "execution_count": 47,
      "outputs": [
        {
          "output_type": "execute_result",
          "data": {
            "text/plain": [
              "<matplotlib.axes._subplots.AxesSubplot at 0x7f3f370945f8>"
            ]
          },
          "metadata": {
            "tags": []
          },
          "execution_count": 47
        },
        {
          "output_type": "display_data",
          "data": {
            "image/png": "[encoded data removed]",
            "text/plain": [
              "<Figure size 432x288 with 1 Axes>"
            ]
          },
          "metadata": {
            "tags": [],
            "needs_background": "light"
          }
        }
      ]
    },
    {
      "cell_type": "code",
      "metadata": {
        "id": "LMpFYEjNM5N3",
        "colab_type": "code",
        "colab": {}
      },
      "source": [
        "df_na = df.copy()\n",
        "df_na= df_na.dropna()"
      ],
      "execution_count": 48,
      "outputs": []
    },
    {
      "cell_type": "code",
      "metadata": {
        "id": "8eKvlUpyM5Sy",
        "colab_type": "code",
        "colab": {
          "base_uri": "https://localhost:8080/",
          "height": 300
        },
        "outputId": "eda74092-8ebf-42d8-f732-4fc649f7061c"
      },
      "source": [
        "pd.plotting.autocorrelation_plot(df_na['2014':'2015']['TEMP'])\n",
        "# can see correlation "
      ],
      "execution_count": 49,
      "outputs": [
        {
          "output_type": "execute_result",
          "data": {
            "text/plain": [
              "<matplotlib.axes._subplots.AxesSubplot at 0x7f3f39aefe10>"
            ]
          },
          "metadata": {
            "tags": []
          },
          "execution_count": 49
        },
        {
          "output_type": "display_data",
          "data": {
            "image/png": "[encoded data removed]",
            "text/plain": [
              "<Figure size 432x288 with 1 Axes>"
            ]
          },
          "metadata": {
            "tags": [],
            "needs_background": "light"
          }
        }
      ]
    },
    {
      "cell_type": "code",
      "metadata": {
        "id": "zMZuqPzBM5WI",
        "colab_type": "code",
        "colab": {
          "base_uri": "https://localhost:8080/",
          "height": 402
        },
        "outputId": "6bb3ec96-62d6-4904-9b5d-d2a4e8ec9128"
      },
      "source": [
        "df['2015-02-21 10':'2015-02-21 20']"
      ],
      "execution_count": 50,
      "outputs": [
        {
          "output_type": "execute_result",
          "data": {
            "text/html": [
              "<div>\n",
              "<style scoped>\n",
              "    .dataframe tbody tr th:only-of-type {\n",
              "        vertical-align: middle;\n",
              "    }\n",
              "\n",
              "    .dataframe tbody tr th {\n",
              "        vertical-align: top;\n",
              "    }\n",
              "\n",
              "    .dataframe thead th {\n",
              "        text-align: right;\n",
              "    }\n",
              "</style>\n",
              "<table border=\"1\" class=\"dataframe\">\n",
              "  <thead>\n",
              "    <tr style=\"text-align: right;\">\n",
              "      <th></th>\n",
              "      <th>No</th>\n",
              "      <th>year</th>\n",
              "      <th>month</th>\n",
              "      <th>day</th>\n",
              "      <th>hour</th>\n",
              "      <th>PM2.5</th>\n",
              "      <th>PM10</th>\n",
              "      <th>SO2</th>\n",
              "      <th>NO2</th>\n",
              "      <th>CO</th>\n",
              "      <th>O3</th>\n",
              "      <th>TEMP</th>\n",
              "      <th>PRES</th>\n",
              "      <th>DEWP</th>\n",
              "      <th>RAIN</th>\n",
              "      <th>wd</th>\n",
              "      <th>WSPM</th>\n",
              "      <th>station</th>\n",
              "    </tr>\n",
              "    <tr>\n",
              "      <th>month_day_year_hour</th>\n",
              "      <th></th>\n",
              "      <th></th>\n",
              "      <th></th>\n",
              "      <th></th>\n",
              "      <th></th>\n",
              "      <th></th>\n",
              "      <th></th>\n",
              "      <th></th>\n",
              "      <th></th>\n",
              "      <th></th>\n",
              "      <th></th>\n",
              "      <th></th>\n",
              "      <th></th>\n",
              "      <th></th>\n",
              "      <th></th>\n",
              "      <th></th>\n",
              "      <th></th>\n",
              "      <th></th>\n",
              "    </tr>\n",
              "  </thead>\n",
              "  <tbody>\n",
              "    <tr>\n",
              "      <th>2015-02-21 10:00:00</th>\n",
              "      <td>17339</td>\n",
              "      <td>2015</td>\n",
              "      <td>2</td>\n",
              "      <td>21</td>\n",
              "      <td>10</td>\n",
              "      <td>171.0</td>\n",
              "      <td>171.0</td>\n",
              "      <td>16.0</td>\n",
              "      <td>48.0</td>\n",
              "      <td>2400.0</td>\n",
              "      <td>6.0</td>\n",
              "      <td>1.0</td>\n",
              "      <td>1005.0</td>\n",
              "      <td>-1.1</td>\n",
              "      <td>0.0</td>\n",
              "      <td>SW</td>\n",
              "      <td>1.1</td>\n",
              "      <td>Dingling</td>\n",
              "    </tr>\n",
              "    <tr>\n",
              "      <th>2015-02-21 11:00:00</th>\n",
              "      <td>17340</td>\n",
              "      <td>2015</td>\n",
              "      <td>2</td>\n",
              "      <td>21</td>\n",
              "      <td>11</td>\n",
              "      <td>172.0</td>\n",
              "      <td>172.0</td>\n",
              "      <td>16.0</td>\n",
              "      <td>45.0</td>\n",
              "      <td>2200.0</td>\n",
              "      <td>13.0</td>\n",
              "      <td>1.0</td>\n",
              "      <td>1006.0</td>\n",
              "      <td>-0.9</td>\n",
              "      <td>0.0</td>\n",
              "      <td>SSW</td>\n",
              "      <td>1.2</td>\n",
              "      <td>Dingling</td>\n",
              "    </tr>\n",
              "    <tr>\n",
              "      <th>2015-02-21 12:00:00</th>\n",
              "      <td>17341</td>\n",
              "      <td>2015</td>\n",
              "      <td>2</td>\n",
              "      <td>21</td>\n",
              "      <td>12</td>\n",
              "      <td>164.0</td>\n",
              "      <td>164.0</td>\n",
              "      <td>16.0</td>\n",
              "      <td>46.0</td>\n",
              "      <td>2100.0</td>\n",
              "      <td>14.0</td>\n",
              "      <td>NaN</td>\n",
              "      <td>NaN</td>\n",
              "      <td>NaN</td>\n",
              "      <td>NaN</td>\n",
              "      <td>NaN</td>\n",
              "      <td>NaN</td>\n",
              "      <td>Dingling</td>\n",
              "    </tr>\n",
              "    <tr>\n",
              "      <th>2015-02-21 13:00:00</th>\n",
              "      <td>17342</td>\n",
              "      <td>2015</td>\n",
              "      <td>2</td>\n",
              "      <td>21</td>\n",
              "      <td>13</td>\n",
              "      <td>175.0</td>\n",
              "      <td>175.0</td>\n",
              "      <td>16.0</td>\n",
              "      <td>46.0</td>\n",
              "      <td>2200.0</td>\n",
              "      <td>15.0</td>\n",
              "      <td>2.0</td>\n",
              "      <td>1006.0</td>\n",
              "      <td>-0.3</td>\n",
              "      <td>0.0</td>\n",
              "      <td>SW</td>\n",
              "      <td>1.6</td>\n",
              "      <td>Dingling</td>\n",
              "    </tr>\n",
              "    <tr>\n",
              "      <th>2015-02-21 14:00:00</th>\n",
              "      <td>17343</td>\n",
              "      <td>2015</td>\n",
              "      <td>2</td>\n",
              "      <td>21</td>\n",
              "      <td>14</td>\n",
              "      <td>207.0</td>\n",
              "      <td>207.0</td>\n",
              "      <td>16.0</td>\n",
              "      <td>46.0</td>\n",
              "      <td>2300.0</td>\n",
              "      <td>17.0</td>\n",
              "      <td>NaN</td>\n",
              "      <td>NaN</td>\n",
              "      <td>NaN</td>\n",
              "      <td>NaN</td>\n",
              "      <td>NaN</td>\n",
              "      <td>NaN</td>\n",
              "      <td>Dingling</td>\n",
              "    </tr>\n",
              "    <tr>\n",
              "      <th>2015-02-21 15:00:00</th>\n",
              "      <td>17344</td>\n",
              "      <td>2015</td>\n",
              "      <td>2</td>\n",
              "      <td>21</td>\n",
              "      <td>15</td>\n",
              "      <td>231.0</td>\n",
              "      <td>231.0</td>\n",
              "      <td>18.0</td>\n",
              "      <td>40.0</td>\n",
              "      <td>2200.0</td>\n",
              "      <td>32.0</td>\n",
              "      <td>4.0</td>\n",
              "      <td>1004.0</td>\n",
              "      <td>-8.7</td>\n",
              "      <td>0.0</td>\n",
              "      <td>W</td>\n",
              "      <td>9.6</td>\n",
              "      <td>Dingling</td>\n",
              "    </tr>\n",
              "    <tr>\n",
              "      <th>2015-02-21 16:00:00</th>\n",
              "      <td>17345</td>\n",
              "      <td>2015</td>\n",
              "      <td>2</td>\n",
              "      <td>21</td>\n",
              "      <td>16</td>\n",
              "      <td>3.0</td>\n",
              "      <td>114.0</td>\n",
              "      <td>7.0</td>\n",
              "      <td>5.0</td>\n",
              "      <td>1100.0</td>\n",
              "      <td>88.0</td>\n",
              "      <td>4.0</td>\n",
              "      <td>1005.0</td>\n",
              "      <td>-12.5</td>\n",
              "      <td>0.0</td>\n",
              "      <td>NW</td>\n",
              "      <td>9.0</td>\n",
              "      <td>Dingling</td>\n",
              "    </tr>\n",
              "    <tr>\n",
              "      <th>2015-02-21 17:00:00</th>\n",
              "      <td>17346</td>\n",
              "      <td>2015</td>\n",
              "      <td>2</td>\n",
              "      <td>21</td>\n",
              "      <td>17</td>\n",
              "      <td>24.0</td>\n",
              "      <td>227.0</td>\n",
              "      <td>2.0</td>\n",
              "      <td>3.0</td>\n",
              "      <td>1800.0</td>\n",
              "      <td>91.0</td>\n",
              "      <td>3.0</td>\n",
              "      <td>1009.0</td>\n",
              "      <td>-16.7</td>\n",
              "      <td>0.0</td>\n",
              "      <td>WNW</td>\n",
              "      <td>6.4</td>\n",
              "      <td>Dingling</td>\n",
              "    </tr>\n",
              "    <tr>\n",
              "      <th>2015-02-21 18:00:00</th>\n",
              "      <td>17347</td>\n",
              "      <td>2015</td>\n",
              "      <td>2</td>\n",
              "      <td>21</td>\n",
              "      <td>18</td>\n",
              "      <td>40.0</td>\n",
              "      <td>351.0</td>\n",
              "      <td>2.0</td>\n",
              "      <td>2.0</td>\n",
              "      <td>1800.0</td>\n",
              "      <td>97.0</td>\n",
              "      <td>2.0</td>\n",
              "      <td>1010.0</td>\n",
              "      <td>-21.3</td>\n",
              "      <td>0.0</td>\n",
              "      <td>NW</td>\n",
              "      <td>7.3</td>\n",
              "      <td>Dingling</td>\n",
              "    </tr>\n",
              "    <tr>\n",
              "      <th>2015-02-21 19:00:00</th>\n",
              "      <td>17348</td>\n",
              "      <td>2015</td>\n",
              "      <td>2</td>\n",
              "      <td>21</td>\n",
              "      <td>19</td>\n",
              "      <td>35.0</td>\n",
              "      <td>410.0</td>\n",
              "      <td>2.0</td>\n",
              "      <td>2.0</td>\n",
              "      <td>1800.0</td>\n",
              "      <td>99.0</td>\n",
              "      <td>1.0</td>\n",
              "      <td>1011.0</td>\n",
              "      <td>-20.7</td>\n",
              "      <td>0.0</td>\n",
              "      <td>NW</td>\n",
              "      <td>5.7</td>\n",
              "      <td>Dingling</td>\n",
              "    </tr>\n",
              "    <tr>\n",
              "      <th>2015-02-21 20:00:00</th>\n",
              "      <td>17349</td>\n",
              "      <td>2015</td>\n",
              "      <td>2</td>\n",
              "      <td>21</td>\n",
              "      <td>20</td>\n",
              "      <td>43.0</td>\n",
              "      <td>616.0</td>\n",
              "      <td>2.0</td>\n",
              "      <td>2.0</td>\n",
              "      <td>1800.0</td>\n",
              "      <td>94.0</td>\n",
              "      <td>NaN</td>\n",
              "      <td>NaN</td>\n",
              "      <td>NaN</td>\n",
              "      <td>NaN</td>\n",
              "      <td>NaN</td>\n",
              "      <td>NaN</td>\n",
              "      <td>Dingling</td>\n",
              "    </tr>\n",
              "  </tbody>\n",
              "</table>\n",
              "</div>"
            ],
            "text/plain": [
              "                        No  year month day  ... RAIN   wd  WSPM   station\n",
              "month_day_year_hour                         ...                          \n",
              "2015-02-21 10:00:00  17339  2015     2  21  ...  0.0   SW   1.1  Dingling\n",
              "2015-02-21 11:00:00  17340  2015     2  21  ...  0.0  SSW   1.2  Dingling\n",
              "2015-02-21 12:00:00  17341  2015     2  21  ...  NaN  NaN   NaN  Dingling\n",
              "2015-02-21 13:00:00  17342  2015     2  21  ...  0.0   SW   1.6  Dingling\n",
              "2015-02-21 14:00:00  17343  2015     2  21  ...  NaN  NaN   NaN  Dingling\n",
              "2015-02-21 15:00:00  17344  2015     2  21  ...  0.0    W   9.6  Dingling\n",
              "2015-02-21 16:00:00  17345  2015     2  21  ...  0.0   NW   9.0  Dingling\n",
              "2015-02-21 17:00:00  17346  2015     2  21  ...  0.0  WNW   6.4  Dingling\n",
              "2015-02-21 18:00:00  17347  2015     2  21  ...  0.0   NW   7.3  Dingling\n",
              "2015-02-21 19:00:00  17348  2015     2  21  ...  0.0   NW   5.7  Dingling\n",
              "2015-02-21 20:00:00  17349  2015     2  21  ...  NaN  NaN   NaN  Dingling\n",
              "\n",
              "[11 rows x 18 columns]"
            ]
          },
          "metadata": {
            "tags": []
          },
          "execution_count": 50
        }
      ]
    },
    {
      "cell_type": "code",
      "metadata": {
        "id": "ThW7dky2M5dZ",
        "colab_type": "code",
        "colab": {}
      },
      "source": [
        "df_imp = df['2015-02-21 10':'2015-02-21 20'][['TEMP']]"
      ],
      "execution_count": 51,
      "outputs": []
    },
    {
      "cell_type": "code",
      "metadata": {
        "id": "B4Z_k0dmM5hn",
        "colab_type": "code",
        "colab": {
          "base_uri": "https://localhost:8080/",
          "height": 402
        },
        "outputId": "dce04467-766c-48ec-816d-e0a4ad456b3c"
      },
      "source": [
        "df_imp"
      ],
      "execution_count": 52,
      "outputs": [
        {
          "output_type": "execute_result",
          "data": {
            "text/html": [
              "<div>\n",
              "<style scoped>\n",
              "    .dataframe tbody tr th:only-of-type {\n",
              "        vertical-align: middle;\n",
              "    }\n",
              "\n",
              "    .dataframe tbody tr th {\n",
              "        vertical-align: top;\n",
              "    }\n",
              "\n",
              "    .dataframe thead th {\n",
              "        text-align: right;\n",
              "    }\n",
              "</style>\n",
              "<table border=\"1\" class=\"dataframe\">\n",
              "  <thead>\n",
              "    <tr style=\"text-align: right;\">\n",
              "      <th></th>\n",
              "      <th>TEMP</th>\n",
              "    </tr>\n",
              "    <tr>\n",
              "      <th>month_day_year_hour</th>\n",
              "      <th></th>\n",
              "    </tr>\n",
              "  </thead>\n",
              "  <tbody>\n",
              "    <tr>\n",
              "      <th>2015-02-21 10:00:00</th>\n",
              "      <td>1.0</td>\n",
              "    </tr>\n",
              "    <tr>\n",
              "      <th>2015-02-21 11:00:00</th>\n",
              "      <td>1.0</td>\n",
              "    </tr>\n",
              "    <tr>\n",
              "      <th>2015-02-21 12:00:00</th>\n",
              "      <td>NaN</td>\n",
              "    </tr>\n",
              "    <tr>\n",
              "      <th>2015-02-21 13:00:00</th>\n",
              "      <td>2.0</td>\n",
              "    </tr>\n",
              "    <tr>\n",
              "      <th>2015-02-21 14:00:00</th>\n",
              "      <td>NaN</td>\n",
              "    </tr>\n",
              "    <tr>\n",
              "      <th>2015-02-21 15:00:00</th>\n",
              "      <td>4.0</td>\n",
              "    </tr>\n",
              "    <tr>\n",
              "      <th>2015-02-21 16:00:00</th>\n",
              "      <td>4.0</td>\n",
              "    </tr>\n",
              "    <tr>\n",
              "      <th>2015-02-21 17:00:00</th>\n",
              "      <td>3.0</td>\n",
              "    </tr>\n",
              "    <tr>\n",
              "      <th>2015-02-21 18:00:00</th>\n",
              "      <td>2.0</td>\n",
              "    </tr>\n",
              "    <tr>\n",
              "      <th>2015-02-21 19:00:00</th>\n",
              "      <td>1.0</td>\n",
              "    </tr>\n",
              "    <tr>\n",
              "      <th>2015-02-21 20:00:00</th>\n",
              "      <td>NaN</td>\n",
              "    </tr>\n",
              "  </tbody>\n",
              "</table>\n",
              "</div>"
            ],
            "text/plain": [
              "                     TEMP\n",
              "month_day_year_hour      \n",
              "2015-02-21 10:00:00   1.0\n",
              "2015-02-21 11:00:00   1.0\n",
              "2015-02-21 12:00:00   NaN\n",
              "2015-02-21 13:00:00   2.0\n",
              "2015-02-21 14:00:00   NaN\n",
              "2015-02-21 15:00:00   4.0\n",
              "2015-02-21 16:00:00   4.0\n",
              "2015-02-21 17:00:00   3.0\n",
              "2015-02-21 18:00:00   2.0\n",
              "2015-02-21 19:00:00   1.0\n",
              "2015-02-21 20:00:00   NaN"
            ]
          },
          "metadata": {
            "tags": []
          },
          "execution_count": 52
        }
      ]
    },
    {
      "cell_type": "code",
      "metadata": {
        "id": "g1mN402zM5Qw",
        "colab_type": "code",
        "colab": {
          "base_uri": "https://localhost:8080/",
          "height": 402
        },
        "outputId": "2fbb2309-8eec-4346-f8c1-739405914024"
      },
      "source": [
        "df_imp['TEMP_FFILL']= df_imp['TEMP'].fillna(method = 'ffill')#ForwardFill\n",
        "df_imp['TEMP_BFILL']= df_imp['TEMP'].fillna(method = 'bfill')#Backwardfill\n",
        "\n",
        "df_imp['TEMP_ROLLING'] = df_imp['TEMP'].rolling(window=2, min_periods=1).mean()\n",
        "df_imp"
      ],
      "execution_count": 53,
      "outputs": [
        {
          "output_type": "execute_result",
          "data": {
            "text/html": [
              "<div>\n",
              "<style scoped>\n",
              "    .dataframe tbody tr th:only-of-type {\n",
              "        vertical-align: middle;\n",
              "    }\n",
              "\n",
              "    .dataframe tbody tr th {\n",
              "        vertical-align: top;\n",
              "    }\n",
              "\n",
              "    .dataframe thead th {\n",
              "        text-align: right;\n",
              "    }\n",
              "</style>\n",
              "<table border=\"1\" class=\"dataframe\">\n",
              "  <thead>\n",
              "    <tr style=\"text-align: right;\">\n",
              "      <th></th>\n",
              "      <th>TEMP</th>\n",
              "      <th>TEMP_FFILL</th>\n",
              "      <th>TEMP_BFILL</th>\n",
              "      <th>TEMP_ROLLING</th>\n",
              "    </tr>\n",
              "    <tr>\n",
              "      <th>month_day_year_hour</th>\n",
              "      <th></th>\n",
              "      <th></th>\n",
              "      <th></th>\n",
              "      <th></th>\n",
              "    </tr>\n",
              "  </thead>\n",
              "  <tbody>\n",
              "    <tr>\n",
              "      <th>2015-02-21 10:00:00</th>\n",
              "      <td>1.0</td>\n",
              "      <td>1.0</td>\n",
              "      <td>1.0</td>\n",
              "      <td>1.0</td>\n",
              "    </tr>\n",
              "    <tr>\n",
              "      <th>2015-02-21 11:00:00</th>\n",
              "      <td>1.0</td>\n",
              "      <td>1.0</td>\n",
              "      <td>1.0</td>\n",
              "      <td>1.0</td>\n",
              "    </tr>\n",
              "    <tr>\n",
              "      <th>2015-02-21 12:00:00</th>\n",
              "      <td>NaN</td>\n",
              "      <td>1.0</td>\n",
              "      <td>2.0</td>\n",
              "      <td>1.0</td>\n",
              "    </tr>\n",
              "    <tr>\n",
              "      <th>2015-02-21 13:00:00</th>\n",
              "      <td>2.0</td>\n",
              "      <td>2.0</td>\n",
              "      <td>2.0</td>\n",
              "      <td>2.0</td>\n",
              "    </tr>\n",
              "    <tr>\n",
              "      <th>2015-02-21 14:00:00</th>\n",
              "      <td>NaN</td>\n",
              "      <td>2.0</td>\n",
              "      <td>4.0</td>\n",
              "      <td>2.0</td>\n",
              "    </tr>\n",
              "    <tr>\n",
              "      <th>2015-02-21 15:00:00</th>\n",
              "      <td>4.0</td>\n",
              "      <td>4.0</td>\n",
              "      <td>4.0</td>\n",
              "      <td>4.0</td>\n",
              "    </tr>\n",
              "    <tr>\n",
              "      <th>2015-02-21 16:00:00</th>\n",
              "      <td>4.0</td>\n",
              "      <td>4.0</td>\n",
              "      <td>4.0</td>\n",
              "      <td>4.0</td>\n",
              "    </tr>\n",
              "    <tr>\n",
              "      <th>2015-02-21 17:00:00</th>\n",
              "      <td>3.0</td>\n",
              "      <td>3.0</td>\n",
              "      <td>3.0</td>\n",
              "      <td>3.5</td>\n",
              "    </tr>\n",
              "    <tr>\n",
              "      <th>2015-02-21 18:00:00</th>\n",
              "      <td>2.0</td>\n",
              "      <td>2.0</td>\n",
              "      <td>2.0</td>\n",
              "      <td>2.5</td>\n",
              "    </tr>\n",
              "    <tr>\n",
              "      <th>2015-02-21 19:00:00</th>\n",
              "      <td>1.0</td>\n",
              "      <td>1.0</td>\n",
              "      <td>1.0</td>\n",
              "      <td>1.5</td>\n",
              "    </tr>\n",
              "    <tr>\n",
              "      <th>2015-02-21 20:00:00</th>\n",
              "      <td>NaN</td>\n",
              "      <td>1.0</td>\n",
              "      <td>NaN</td>\n",
              "      <td>1.0</td>\n",
              "    </tr>\n",
              "  </tbody>\n",
              "</table>\n",
              "</div>"
            ],
            "text/plain": [
              "                     TEMP  TEMP_FFILL  TEMP_BFILL  TEMP_ROLLING\n",
              "month_day_year_hour                                            \n",
              "2015-02-21 10:00:00   1.0         1.0         1.0           1.0\n",
              "2015-02-21 11:00:00   1.0         1.0         1.0           1.0\n",
              "2015-02-21 12:00:00   NaN         1.0         2.0           1.0\n",
              "2015-02-21 13:00:00   2.0         2.0         2.0           2.0\n",
              "2015-02-21 14:00:00   NaN         2.0         4.0           2.0\n",
              "2015-02-21 15:00:00   4.0         4.0         4.0           4.0\n",
              "2015-02-21 16:00:00   4.0         4.0         4.0           4.0\n",
              "2015-02-21 17:00:00   3.0         3.0         3.0           3.5\n",
              "2015-02-21 18:00:00   2.0         2.0         2.0           2.5\n",
              "2015-02-21 19:00:00   1.0         1.0         1.0           1.5\n",
              "2015-02-21 20:00:00   NaN         1.0         NaN           1.0"
            ]
          },
          "metadata": {
            "tags": []
          },
          "execution_count": 53
        }
      ]
    },
    {
      "cell_type": "code",
      "metadata": {
        "id": "8st4gFDAbHXe",
        "colab_type": "code",
        "colab": {
          "base_uri": "https://localhost:8080/",
          "height": 235
        },
        "outputId": "59a04bfe-5793-477d-94e5-9488c58781d2"
      },
      "source": [
        "df.loc[df_imp.index + pd.offsets.DateOffset(years = -1)]['TEMP']"
      ],
      "execution_count": 54,
      "outputs": [
        {
          "output_type": "execute_result",
          "data": {
            "text/plain": [
              "month_day_year_hour\n",
              "2014-02-21 10:00:00    1.4\n",
              "2014-02-21 11:00:00    2.4\n",
              "2014-02-21 12:00:00    3.0\n",
              "2014-02-21 13:00:00    3.8\n",
              "2014-02-21 14:00:00    3.5\n",
              "2014-02-21 15:00:00    3.6\n",
              "2014-02-21 16:00:00    3.3\n",
              "2014-02-21 17:00:00    2.8\n",
              "2014-02-21 18:00:00    1.3\n",
              "2014-02-21 19:00:00    0.7\n",
              "2014-02-21 20:00:00    1.2\n",
              "Freq: H, Name: TEMP, dtype: float64"
            ]
          },
          "metadata": {
            "tags": []
          },
          "execution_count": 54
        }
      ]
    },
    {
      "cell_type": "code",
      "metadata": {
        "id": "4LI1xJLgahTD",
        "colab_type": "code",
        "colab": {}
      },
      "source": [
        "df_imp = df_imp.reset_index()"
      ],
      "execution_count": 55,
      "outputs": []
    },
    {
      "cell_type": "code",
      "metadata": {
        "id": "-q4_s21vZqzI",
        "colab_type": "code",
        "colab": {}
      },
      "source": [
        "df_imp['TEMP_PREVY'] = df_imp.apply(lambda x: df.loc[x['month_day_year_hour']- pd.offsets.DateOffset(years = -1)]['TEMP'] if pd.isna(x['TEMP']) else x['TEMP'],axis=1)"
      ],
      "execution_count": 56,
      "outputs": []
    },
    {
      "cell_type": "code",
      "metadata": {
        "id": "R4OGa1gkZq1A",
        "colab_type": "code",
        "colab": {
          "base_uri": "https://localhost:8080/",
          "height": 373
        },
        "outputId": "9d5a6923-393b-4faf-dfdb-39bf19d52275"
      },
      "source": [
        "df_imp"
      ],
      "execution_count": 57,
      "outputs": [
        {
          "output_type": "execute_result",
          "data": {
            "text/html": [
              "<div>\n",
              "<style scoped>\n",
              "    .dataframe tbody tr th:only-of-type {\n",
              "        vertical-align: middle;\n",
              "    }\n",
              "\n",
              "    .dataframe tbody tr th {\n",
              "        vertical-align: top;\n",
              "    }\n",
              "\n",
              "    .dataframe thead th {\n",
              "        text-align: right;\n",
              "    }\n",
              "</style>\n",
              "<table border=\"1\" class=\"dataframe\">\n",
              "  <thead>\n",
              "    <tr style=\"text-align: right;\">\n",
              "      <th></th>\n",
              "      <th>month_day_year_hour</th>\n",
              "      <th>TEMP</th>\n",
              "      <th>TEMP_FFILL</th>\n",
              "      <th>TEMP_BFILL</th>\n",
              "      <th>TEMP_ROLLING</th>\n",
              "      <th>TEMP_PREVY</th>\n",
              "    </tr>\n",
              "  </thead>\n",
              "  <tbody>\n",
              "    <tr>\n",
              "      <th>0</th>\n",
              "      <td>2015-02-21 10:00:00</td>\n",
              "      <td>1.0</td>\n",
              "      <td>1.0</td>\n",
              "      <td>1.0</td>\n",
              "      <td>1.0</td>\n",
              "      <td>1.0</td>\n",
              "    </tr>\n",
              "    <tr>\n",
              "      <th>1</th>\n",
              "      <td>2015-02-21 11:00:00</td>\n",
              "      <td>1.0</td>\n",
              "      <td>1.0</td>\n",
              "      <td>1.0</td>\n",
              "      <td>1.0</td>\n",
              "      <td>1.0</td>\n",
              "    </tr>\n",
              "    <tr>\n",
              "      <th>2</th>\n",
              "      <td>2015-02-21 12:00:00</td>\n",
              "      <td>NaN</td>\n",
              "      <td>1.0</td>\n",
              "      <td>2.0</td>\n",
              "      <td>1.0</td>\n",
              "      <td>1.9</td>\n",
              "    </tr>\n",
              "    <tr>\n",
              "      <th>3</th>\n",
              "      <td>2015-02-21 13:00:00</td>\n",
              "      <td>2.0</td>\n",
              "      <td>2.0</td>\n",
              "      <td>2.0</td>\n",
              "      <td>2.0</td>\n",
              "      <td>2.0</td>\n",
              "    </tr>\n",
              "    <tr>\n",
              "      <th>4</th>\n",
              "      <td>2015-02-21 14:00:00</td>\n",
              "      <td>NaN</td>\n",
              "      <td>2.0</td>\n",
              "      <td>4.0</td>\n",
              "      <td>2.0</td>\n",
              "      <td>4.9</td>\n",
              "    </tr>\n",
              "    <tr>\n",
              "      <th>5</th>\n",
              "      <td>2015-02-21 15:00:00</td>\n",
              "      <td>4.0</td>\n",
              "      <td>4.0</td>\n",
              "      <td>4.0</td>\n",
              "      <td>4.0</td>\n",
              "      <td>4.0</td>\n",
              "    </tr>\n",
              "    <tr>\n",
              "      <th>6</th>\n",
              "      <td>2015-02-21 16:00:00</td>\n",
              "      <td>4.0</td>\n",
              "      <td>4.0</td>\n",
              "      <td>4.0</td>\n",
              "      <td>4.0</td>\n",
              "      <td>4.0</td>\n",
              "    </tr>\n",
              "    <tr>\n",
              "      <th>7</th>\n",
              "      <td>2015-02-21 17:00:00</td>\n",
              "      <td>3.0</td>\n",
              "      <td>3.0</td>\n",
              "      <td>3.0</td>\n",
              "      <td>3.5</td>\n",
              "      <td>3.0</td>\n",
              "    </tr>\n",
              "    <tr>\n",
              "      <th>8</th>\n",
              "      <td>2015-02-21 18:00:00</td>\n",
              "      <td>2.0</td>\n",
              "      <td>2.0</td>\n",
              "      <td>2.0</td>\n",
              "      <td>2.5</td>\n",
              "      <td>2.0</td>\n",
              "    </tr>\n",
              "    <tr>\n",
              "      <th>9</th>\n",
              "      <td>2015-02-21 19:00:00</td>\n",
              "      <td>1.0</td>\n",
              "      <td>1.0</td>\n",
              "      <td>1.0</td>\n",
              "      <td>1.5</td>\n",
              "      <td>1.0</td>\n",
              "    </tr>\n",
              "    <tr>\n",
              "      <th>10</th>\n",
              "      <td>2015-02-21 20:00:00</td>\n",
              "      <td>NaN</td>\n",
              "      <td>1.0</td>\n",
              "      <td>NaN</td>\n",
              "      <td>1.0</td>\n",
              "      <td>3.0</td>\n",
              "    </tr>\n",
              "  </tbody>\n",
              "</table>\n",
              "</div>"
            ],
            "text/plain": [
              "   month_day_year_hour  TEMP  TEMP_FFILL  TEMP_BFILL  TEMP_ROLLING  TEMP_PREVY\n",
              "0  2015-02-21 10:00:00   1.0         1.0         1.0           1.0         1.0\n",
              "1  2015-02-21 11:00:00   1.0         1.0         1.0           1.0         1.0\n",
              "2  2015-02-21 12:00:00   NaN         1.0         2.0           1.0         1.9\n",
              "3  2015-02-21 13:00:00   2.0         2.0         2.0           2.0         2.0\n",
              "4  2015-02-21 14:00:00   NaN         2.0         4.0           2.0         4.9\n",
              "5  2015-02-21 15:00:00   4.0         4.0         4.0           4.0         4.0\n",
              "6  2015-02-21 16:00:00   4.0         4.0         4.0           4.0         4.0\n",
              "7  2015-02-21 17:00:00   3.0         3.0         3.0           3.5         3.0\n",
              "8  2015-02-21 18:00:00   2.0         2.0         2.0           2.5         2.0\n",
              "9  2015-02-21 19:00:00   1.0         1.0         1.0           1.5         1.0\n",
              "10 2015-02-21 20:00:00   NaN         1.0         NaN           1.0         3.0"
            ]
          },
          "metadata": {
            "tags": []
          },
          "execution_count": 57
        }
      ]
    },
    {
      "cell_type": "code",
      "metadata": {
        "id": "MSNLXAuwZq4S",
        "colab_type": "code",
        "colab": {}
      },
      "source": [
        ""
      ],
      "execution_count": 57,
      "outputs": []
    },
    {
      "cell_type": "code",
      "metadata": {
        "id": "-iICkbreZqyQ",
        "colab_type": "code",
        "colab": {}
      },
      "source": [
        ""
      ],
      "execution_count": 57,
      "outputs": []
    },
    {
      "cell_type": "code",
      "metadata": {
        "id": "Qr-2gWuiZqva",
        "colab_type": "code",
        "colab": {}
      },
      "source": [
        ""
      ],
      "execution_count": 57,
      "outputs": []
    }
  ]
}