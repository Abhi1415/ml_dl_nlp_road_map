{
  "nbformat": 4,
  "nbformat_minor": 0,
  "metadata": {
    "colab": {
      "name": "Categorical_var_corr_cramerVtest.ipynb",
      "provenance": [],
      "authorship_tag": "ABX9TyP7NgX3QI8H2o1on6f51424",
      "include_colab_link": true
    },
    "kernelspec": {
      "name": "python3",
      "display_name": "Python 3"
    }
  },
  "cells": [
    {
      "cell_type": "markdown",
      "metadata": {
        "id": "view-in-github",
        "colab_type": "text"
      },
      "source": [
        "<a href=\"https://colab.research.google.com/github/Uttam580/statistics/blob/master/Categorical_var_corr_cramerVtest.ipynb\" target=\"_parent\"><img src=\"https://colab.research.google.com/assets/colab-badge.svg\" alt=\"Open In Colab\"/></a>"
      ]
    },
    {
      "cell_type": "code",
      "metadata": {
        "id": "ss-iVl8dHn5p",
        "colab_type": "code",
        "colab": {}
      },
      "source": [
        "import warnings\n",
        "warnings.simplefilter(action='ignore',category=FutureWarning)\n",
        "import pandas as pd\n",
        "import  numpy as np\n",
        "import seaborn as sns\n",
        "import matplotlib.pyplot as plt\n",
        "%matplotlib inline"
      ],
      "execution_count": 0,
      "outputs": []
    },
    {
      "cell_type": "code",
      "metadata": {
        "id": "9zgPTWqMIkjU",
        "colab_type": "code",
        "colab": {}
      },
      "source": [
        "df = pd.read_csv('https://raw.githubusercontent.com/Uttam580/New_learning-/master/datset/churn_data_st.csv')"
      ],
      "execution_count": 0,
      "outputs": []
    },
    {
      "cell_type": "code",
      "metadata": {
        "id": "B9hATpciIp0N",
        "colab_type": "code",
        "colab": {}
      },
      "source": [
        "churn_df = df.copy()"
      ],
      "execution_count": 0,
      "outputs": []
    },
    {
      "cell_type": "code",
      "metadata": {
        "id": "pEZQfGr8IuvN",
        "colab_type": "code",
        "colab": {
          "base_uri": "https://localhost:8080/",
          "height": 204
        },
        "outputId": "34e2bb8c-3a89-414f-de39-d36b8f17cc5e"
      },
      "source": [
        "churn_df.head()"
      ],
      "execution_count": 6,
      "outputs": [
        {
          "output_type": "execute_result",
          "data": {
            "text/html": [
              "<div>\n",
              "<style scoped>\n",
              "    .dataframe tbody tr th:only-of-type {\n",
              "        vertical-align: middle;\n",
              "    }\n",
              "\n",
              "    .dataframe tbody tr th {\n",
              "        vertical-align: top;\n",
              "    }\n",
              "\n",
              "    .dataframe thead th {\n",
              "        text-align: right;\n",
              "    }\n",
              "</style>\n",
              "<table border=\"1\" class=\"dataframe\">\n",
              "  <thead>\n",
              "    <tr style=\"text-align: right;\">\n",
              "      <th></th>\n",
              "      <th>customerID</th>\n",
              "      <th>gender</th>\n",
              "      <th>SeniorCitizen</th>\n",
              "      <th>tenure</th>\n",
              "      <th>ServiceCount</th>\n",
              "      <th>Contract</th>\n",
              "      <th>PaperlessBilling</th>\n",
              "      <th>MonthlyCharges</th>\n",
              "      <th>TotalCharges</th>\n",
              "      <th>Churn</th>\n",
              "    </tr>\n",
              "  </thead>\n",
              "  <tbody>\n",
              "    <tr>\n",
              "      <th>0</th>\n",
              "      <td>7590-VHVEG</td>\n",
              "      <td>Female</td>\n",
              "      <td>0</td>\n",
              "      <td>1</td>\n",
              "      <td>2</td>\n",
              "      <td>Month-to-month</td>\n",
              "      <td>Yes</td>\n",
              "      <td>29.85</td>\n",
              "      <td>29.85</td>\n",
              "      <td>No</td>\n",
              "    </tr>\n",
              "    <tr>\n",
              "      <th>1</th>\n",
              "      <td>5575-GNVDE</td>\n",
              "      <td>Male</td>\n",
              "      <td>0</td>\n",
              "      <td>34</td>\n",
              "      <td>4</td>\n",
              "      <td>One year</td>\n",
              "      <td>No</td>\n",
              "      <td>56.95</td>\n",
              "      <td>1889.50</td>\n",
              "      <td>No</td>\n",
              "    </tr>\n",
              "    <tr>\n",
              "      <th>2</th>\n",
              "      <td>3668-QPYBK</td>\n",
              "      <td>Male</td>\n",
              "      <td>0</td>\n",
              "      <td>2</td>\n",
              "      <td>4</td>\n",
              "      <td>Month-to-month</td>\n",
              "      <td>Yes</td>\n",
              "      <td>53.85</td>\n",
              "      <td>108.15</td>\n",
              "      <td>Yes</td>\n",
              "    </tr>\n",
              "    <tr>\n",
              "      <th>3</th>\n",
              "      <td>7795-CFOCW</td>\n",
              "      <td>Male</td>\n",
              "      <td>0</td>\n",
              "      <td>45</td>\n",
              "      <td>4</td>\n",
              "      <td>One year</td>\n",
              "      <td>No</td>\n",
              "      <td>42.30</td>\n",
              "      <td>1840.75</td>\n",
              "      <td>No</td>\n",
              "    </tr>\n",
              "    <tr>\n",
              "      <th>4</th>\n",
              "      <td>9237-HQITU</td>\n",
              "      <td>Female</td>\n",
              "      <td>0</td>\n",
              "      <td>2</td>\n",
              "      <td>2</td>\n",
              "      <td>Month-to-month</td>\n",
              "      <td>Yes</td>\n",
              "      <td>70.70</td>\n",
              "      <td>151.65</td>\n",
              "      <td>Yes</td>\n",
              "    </tr>\n",
              "  </tbody>\n",
              "</table>\n",
              "</div>"
            ],
            "text/plain": [
              "   customerID  gender  SeniorCitizen  ...  MonthlyCharges  TotalCharges Churn\n",
              "0  7590-VHVEG  Female              0  ...           29.85         29.85    No\n",
              "1  5575-GNVDE    Male              0  ...           56.95       1889.50    No\n",
              "2  3668-QPYBK    Male              0  ...           53.85        108.15   Yes\n",
              "3  7795-CFOCW    Male              0  ...           42.30       1840.75    No\n",
              "4  9237-HQITU  Female              0  ...           70.70        151.65   Yes\n",
              "\n",
              "[5 rows x 10 columns]"
            ]
          },
          "metadata": {
            "tags": []
          },
          "execution_count": 6
        }
      ]
    },
    {
      "cell_type": "code",
      "metadata": {
        "id": "6alFbXx-Iusv",
        "colab_type": "code",
        "colab": {
          "base_uri": "https://localhost:8080/",
          "height": 306
        },
        "outputId": "d3323018-e43f-428e-83dd-7753c2ae5ae5"
      },
      "source": [
        "churn_df.info()"
      ],
      "execution_count": 7,
      "outputs": [
        {
          "output_type": "stream",
          "text": [
            "<class 'pandas.core.frame.DataFrame'>\n",
            "RangeIndex: 7043 entries, 0 to 7042\n",
            "Data columns (total 10 columns):\n",
            " #   Column            Non-Null Count  Dtype  \n",
            "---  ------            --------------  -----  \n",
            " 0   customerID        7043 non-null   object \n",
            " 1   gender            7043 non-null   object \n",
            " 2   SeniorCitizen     7043 non-null   int64  \n",
            " 3   tenure            7043 non-null   int64  \n",
            " 4   ServiceCount      7043 non-null   int64  \n",
            " 5   Contract          7043 non-null   object \n",
            " 6   PaperlessBilling  7043 non-null   object \n",
            " 7   MonthlyCharges    7043 non-null   float64\n",
            " 8   TotalCharges      7016 non-null   float64\n",
            " 9   Churn             7043 non-null   object \n",
            "dtypes: float64(2), int64(3), object(5)\n",
            "memory usage: 550.4+ KB\n"
          ],
          "name": "stdout"
        }
      ]
    },
    {
      "cell_type": "code",
      "metadata": {
        "id": "sblW5SBJIuqi",
        "colab_type": "code",
        "colab": {
          "base_uri": "https://localhost:8080/",
          "height": 204
        },
        "outputId": "f5e4378d-e1ae-4daf-f0dc-1ea6479279eb"
      },
      "source": [
        "churn_df.corr()"
      ],
      "execution_count": 8,
      "outputs": [
        {
          "output_type": "execute_result",
          "data": {
            "text/html": [
              "<div>\n",
              "<style scoped>\n",
              "    .dataframe tbody tr th:only-of-type {\n",
              "        vertical-align: middle;\n",
              "    }\n",
              "\n",
              "    .dataframe tbody tr th {\n",
              "        vertical-align: top;\n",
              "    }\n",
              "\n",
              "    .dataframe thead th {\n",
              "        text-align: right;\n",
              "    }\n",
              "</style>\n",
              "<table border=\"1\" class=\"dataframe\">\n",
              "  <thead>\n",
              "    <tr style=\"text-align: right;\">\n",
              "      <th></th>\n",
              "      <th>SeniorCitizen</th>\n",
              "      <th>tenure</th>\n",
              "      <th>ServiceCount</th>\n",
              "      <th>MonthlyCharges</th>\n",
              "      <th>TotalCharges</th>\n",
              "    </tr>\n",
              "  </thead>\n",
              "  <tbody>\n",
              "    <tr>\n",
              "      <th>SeniorCitizen</th>\n",
              "      <td>1.000000</td>\n",
              "      <td>0.016567</td>\n",
              "      <td>-0.090899</td>\n",
              "      <td>0.220173</td>\n",
              "      <td>0.100795</td>\n",
              "    </tr>\n",
              "    <tr>\n",
              "      <th>tenure</th>\n",
              "      <td>0.016567</td>\n",
              "      <td>1.000000</td>\n",
              "      <td>0.508526</td>\n",
              "      <td>0.247900</td>\n",
              "      <td>0.826066</td>\n",
              "    </tr>\n",
              "    <tr>\n",
              "      <th>ServiceCount</th>\n",
              "      <td>-0.090899</td>\n",
              "      <td>0.508526</td>\n",
              "      <td>1.000000</td>\n",
              "      <td>0.041463</td>\n",
              "      <td>0.443768</td>\n",
              "    </tr>\n",
              "    <tr>\n",
              "      <th>MonthlyCharges</th>\n",
              "      <td>0.220173</td>\n",
              "      <td>0.247900</td>\n",
              "      <td>0.041463</td>\n",
              "      <td>1.000000</td>\n",
              "      <td>0.650964</td>\n",
              "    </tr>\n",
              "    <tr>\n",
              "      <th>TotalCharges</th>\n",
              "      <td>0.100795</td>\n",
              "      <td>0.826066</td>\n",
              "      <td>0.443768</td>\n",
              "      <td>0.650964</td>\n",
              "      <td>1.000000</td>\n",
              "    </tr>\n",
              "  </tbody>\n",
              "</table>\n",
              "</div>"
            ],
            "text/plain": [
              "                SeniorCitizen    tenure  ...  MonthlyCharges  TotalCharges\n",
              "SeniorCitizen        1.000000  0.016567  ...        0.220173      0.100795\n",
              "tenure               0.016567  1.000000  ...        0.247900      0.826066\n",
              "ServiceCount        -0.090899  0.508526  ...        0.041463      0.443768\n",
              "MonthlyCharges       0.220173  0.247900  ...        1.000000      0.650964\n",
              "TotalCharges         0.100795  0.826066  ...        0.650964      1.000000\n",
              "\n",
              "[5 rows x 5 columns]"
            ]
          },
          "metadata": {
            "tags": []
          },
          "execution_count": 8
        }
      ]
    },
    {
      "cell_type": "markdown",
      "metadata": {
        "id": "KYORxUFXZfRe",
        "colab_type": "text"
      },
      "source": [
        "The H0 (Null Hypothesis): There is no relationship between variable one and variable two.\n",
        "\n",
        "The H1 (Alternative Hypothesis): There is a relationship between variable 1 and variable 2.\n",
        "\n",
        "If the p-value is significant, you can reject the null hypothesis and claim that the findings support the alternative hypothesis."
      ]
    },
    {
      "cell_type": "code",
      "metadata": {
        "id": "hFj4h4zFIuob",
        "colab_type": "code",
        "colab": {
          "base_uri": "https://localhost:8080/",
          "height": 85
        },
        "outputId": "43f83773-772a-488f-a2ad-47f076633ffc"
      },
      "source": [
        "churn_df['Contract'].value_counts()"
      ],
      "execution_count": 9,
      "outputs": [
        {
          "output_type": "execute_result",
          "data": {
            "text/plain": [
              "Month-to-month    3875\n",
              "Two year          1695\n",
              "One year          1473\n",
              "Name: Contract, dtype: int64"
            ]
          },
          "metadata": {
            "tags": []
          },
          "execution_count": 9
        }
      ]
    },
    {
      "cell_type": "code",
      "metadata": {
        "id": "NVZqA2Y7Iula",
        "colab_type": "code",
        "colab": {
          "base_uri": "https://localhost:8080/",
          "height": 302
        },
        "outputId": "13973904-d46c-4ad7-a1b5-c494b72fc4a3"
      },
      "source": [
        "sns.set(style='darkgrid')\n",
        "sns.set_palette('hls',3)\n",
        "sns.countplot(x='Contract', hue='Churn',data=churn_df)"
      ],
      "execution_count": 12,
      "outputs": [
        {
          "output_type": "execute_result",
          "data": {
            "text/plain": [
              "<matplotlib.axes._subplots.AxesSubplot at 0x7fd239ce4400>"
            ]
          },
          "metadata": {
            "tags": []
          },
          "execution_count": 12
        },
        {
          "output_type": "display_data",
          "data": {
            "image/png": "[encoded data removed]",
            "text/plain": [
              "<Figure size 432x288 with 1 Axes>"
            ]
          },
          "metadata": {
            "tags": []
          }
        }
      ]
    },
    {
      "cell_type": "code",
      "metadata": {
        "id": "mZGeJXrqIujH",
        "colab_type": "code",
        "colab": {
          "base_uri": "https://localhost:8080/",
          "height": 204
        },
        "outputId": "0bc90bbc-78c7-4cf7-d41f-dad1f09d1e61"
      },
      "source": [
        "pd.crosstab(index=churn_df['Contract'],columns=churn_df['Churn'],margins=True)"
      ],
      "execution_count": 13,
      "outputs": [
        {
          "output_type": "execute_result",
          "data": {
            "text/html": [
              "<div>\n",
              "<style scoped>\n",
              "    .dataframe tbody tr th:only-of-type {\n",
              "        vertical-align: middle;\n",
              "    }\n",
              "\n",
              "    .dataframe tbody tr th {\n",
              "        vertical-align: top;\n",
              "    }\n",
              "\n",
              "    .dataframe thead th {\n",
              "        text-align: right;\n",
              "    }\n",
              "</style>\n",
              "<table border=\"1\" class=\"dataframe\">\n",
              "  <thead>\n",
              "    <tr style=\"text-align: right;\">\n",
              "      <th>Churn</th>\n",
              "      <th>No</th>\n",
              "      <th>Yes</th>\n",
              "      <th>All</th>\n",
              "    </tr>\n",
              "    <tr>\n",
              "      <th>Contract</th>\n",
              "      <th></th>\n",
              "      <th></th>\n",
              "      <th></th>\n",
              "    </tr>\n",
              "  </thead>\n",
              "  <tbody>\n",
              "    <tr>\n",
              "      <th>Month-to-month</th>\n",
              "      <td>2220</td>\n",
              "      <td>1655</td>\n",
              "      <td>3875</td>\n",
              "    </tr>\n",
              "    <tr>\n",
              "      <th>One year</th>\n",
              "      <td>1307</td>\n",
              "      <td>166</td>\n",
              "      <td>1473</td>\n",
              "    </tr>\n",
              "    <tr>\n",
              "      <th>Two year</th>\n",
              "      <td>1647</td>\n",
              "      <td>48</td>\n",
              "      <td>1695</td>\n",
              "    </tr>\n",
              "    <tr>\n",
              "      <th>All</th>\n",
              "      <td>5174</td>\n",
              "      <td>1869</td>\n",
              "      <td>7043</td>\n",
              "    </tr>\n",
              "  </tbody>\n",
              "</table>\n",
              "</div>"
            ],
            "text/plain": [
              "Churn             No   Yes   All\n",
              "Contract                        \n",
              "Month-to-month  2220  1655  3875\n",
              "One year        1307   166  1473\n",
              "Two year        1647    48  1695\n",
              "All             5174  1869  7043"
            ]
          },
          "metadata": {
            "tags": []
          },
          "execution_count": 13
        }
      ]
    },
    {
      "cell_type": "code",
      "metadata": {
        "id": "AzIkB4oWIueD",
        "colab_type": "code",
        "colab": {}
      },
      "source": [
        "contract_churn_ct = pd.crosstab(index=churn_df['Contract'],columns=churn_df['Churn'])"
      ],
      "execution_count": 0,
      "outputs": []
    },
    {
      "cell_type": "code",
      "metadata": {
        "id": "kYSeYYMoL3kg",
        "colab_type": "code",
        "colab": {
          "base_uri": "https://localhost:8080/",
          "height": 34
        },
        "outputId": "b20bc3f4-cf2d-4a10-86b7-2c4423c12461"
      },
      "source": [
        "contract_churn_ct.iloc[0].values"
      ],
      "execution_count": 17,
      "outputs": [
        {
          "output_type": "execute_result",
          "data": {
            "text/plain": [
              "array([2220, 1655])"
            ]
          },
          "metadata": {
            "tags": []
          },
          "execution_count": 17
        }
      ]
    },
    {
      "cell_type": "code",
      "metadata": {
        "id": "OwGs08_1MArp",
        "colab_type": "code",
        "colab": {}
      },
      "source": [
        "from scipy import stats\n",
        "(chi2,p,dof, _)= stats.chi2_contingency([contract_churn_ct.iloc[0].values,contract_churn_ct.iloc[1].values,contract_churn_ct.iloc[2].values])"
      ],
      "execution_count": 0,
      "outputs": []
    },
    {
      "cell_type": "code",
      "metadata": {
        "id": "w-3GEJ_JMBFs",
        "colab_type": "code",
        "colab": {
          "base_uri": "https://localhost:8080/",
          "height": 68
        },
        "outputId": "5fc20958-3e41-4655-bdc8-ce009d4f4e26"
      },
      "source": [
        "print('chi2: ' ,chi2)\n",
        "print('p : ' ,p)\n",
        "print('dof : ',dof)"
      ],
      "execution_count": 31,
      "outputs": [
        {
          "output_type": "stream",
          "text": [
            "chi2:  1184.5965720837926\n",
            "p :  5.863038300673391e-258\n",
            "dof :  2\n"
          ],
          "name": "stdout"
        }
      ]
    },
    {
      "cell_type": "markdown",
      "metadata": {
        "id": "j9emxBFRNMvi",
        "colab_type": "text"
      },
      "source": [
        "**Crammer V test **"
      ]
    },
    {
      "cell_type": "code",
      "metadata": {
        "id": "_tnxenwHMBBT",
        "colab_type": "code",
        "colab": {
          "base_uri": "https://localhost:8080/",
          "height": 34
        },
        "outputId": "6cac16b5-5c4f-4f73-a31a-3f368404c307"
      },
      "source": [
        "np.sqrt(chi2/(churn_df.shape[0]))"
      ],
      "execution_count": 32,
      "outputs": [
        {
          "output_type": "execute_result",
          "data": {
            "text/plain": [
              "0.4101156965761409"
            ]
          },
          "metadata": {
            "tags": []
          },
          "execution_count": 32
        }
      ]
    },
    {
      "cell_type": "code",
      "metadata": {
        "id": "NsZYgrRbMAkV",
        "colab_type": "code",
        "colab": {
          "base_uri": "https://localhost:8080/",
          "height": 68
        },
        "outputId": "4a00415e-8940-40cb-f7af-9c7c324b8b4b"
      },
      "source": [
        "churn_df['PaperlessBilling'].value_counts()"
      ],
      "execution_count": 23,
      "outputs": [
        {
          "output_type": "execute_result",
          "data": {
            "text/plain": [
              "Yes    4171\n",
              "No     2872\n",
              "Name: PaperlessBilling, dtype: int64"
            ]
          },
          "metadata": {
            "tags": []
          },
          "execution_count": 23
        }
      ]
    },
    {
      "cell_type": "code",
      "metadata": {
        "id": "IaLlzYQkOj1j",
        "colab_type": "code",
        "colab": {
          "base_uri": "https://localhost:8080/",
          "height": 302
        },
        "outputId": "6082effe-7e9d-4301-848d-afeece085f44"
      },
      "source": [
        "sns.set(style='darkgrid')\n",
        "sns.set_palette('hls',3)\n",
        "sns.countplot(x= churn_df['PaperlessBilling'], hue='Churn', data=churn_df)"
      ],
      "execution_count": 24,
      "outputs": [
        {
          "output_type": "execute_result",
          "data": {
            "text/plain": [
              "<matplotlib.axes._subplots.AxesSubplot at 0x7fd239757710>"
            ]
          },
          "metadata": {
            "tags": []
          },
          "execution_count": 24
        },
        {
          "output_type": "display_data",
          "data": {
            "image/png": "[encoded data removed]",
            "text/plain": [
              "<Figure size 432x288 with 1 Axes>"
            ]
          },
          "metadata": {
            "tags": []
          }
        }
      ]
    },
    {
      "cell_type": "code",
      "metadata": {
        "id": "XLYHPeUyMAeD",
        "colab_type": "code",
        "colab": {
          "base_uri": "https://localhost:8080/",
          "height": 142
        },
        "outputId": "c129ac09-c02a-4c80-ce1e-7f2611febca1"
      },
      "source": [
        "pb_churn_df = pd.crosstab(index=churn_df['PaperlessBilling'], columns=df['Churn'])\n",
        "pb_churn_df"
      ],
      "execution_count": 25,
      "outputs": [
        {
          "output_type": "execute_result",
          "data": {
            "text/html": [
              "<div>\n",
              "<style scoped>\n",
              "    .dataframe tbody tr th:only-of-type {\n",
              "        vertical-align: middle;\n",
              "    }\n",
              "\n",
              "    .dataframe tbody tr th {\n",
              "        vertical-align: top;\n",
              "    }\n",
              "\n",
              "    .dataframe thead th {\n",
              "        text-align: right;\n",
              "    }\n",
              "</style>\n",
              "<table border=\"1\" class=\"dataframe\">\n",
              "  <thead>\n",
              "    <tr style=\"text-align: right;\">\n",
              "      <th>Churn</th>\n",
              "      <th>No</th>\n",
              "      <th>Yes</th>\n",
              "    </tr>\n",
              "    <tr>\n",
              "      <th>PaperlessBilling</th>\n",
              "      <th></th>\n",
              "      <th></th>\n",
              "    </tr>\n",
              "  </thead>\n",
              "  <tbody>\n",
              "    <tr>\n",
              "      <th>No</th>\n",
              "      <td>2403</td>\n",
              "      <td>469</td>\n",
              "    </tr>\n",
              "    <tr>\n",
              "      <th>Yes</th>\n",
              "      <td>2771</td>\n",
              "      <td>1400</td>\n",
              "    </tr>\n",
              "  </tbody>\n",
              "</table>\n",
              "</div>"
            ],
            "text/plain": [
              "Churn               No   Yes\n",
              "PaperlessBilling            \n",
              "No                2403   469\n",
              "Yes               2771  1400"
            ]
          },
          "metadata": {
            "tags": []
          },
          "execution_count": 25
        }
      ]
    },
    {
      "cell_type": "code",
      "metadata": {
        "id": "T7_EcHR_PZnh",
        "colab_type": "code",
        "colab": {}
      },
      "source": [
        "(chi2, p,dof,_)= stats.chi2_contingency([pb_churn_df.iloc[0].values,pb_churn_df.iloc[1].values ])"
      ],
      "execution_count": 0,
      "outputs": []
    },
    {
      "cell_type": "code",
      "metadata": {
        "id": "XposTr-APaJW",
        "colab_type": "code",
        "colab": {
          "base_uri": "https://localhost:8080/",
          "height": 68
        },
        "outputId": "97296f13-2938-4fe5-948a-78ea27fcd620"
      },
      "source": [
        "print('chi2: ' ,chi2)\n",
        "print('p : ' ,p)\n",
        "print('dof : ',dof)"
      ],
      "execution_count": 27,
      "outputs": [
        {
          "output_type": "stream",
          "text": [
            "chi2:  258.27764906707307\n",
            "p :  4.073354668665985e-58\n",
            "dof :  1\n"
          ],
          "name": "stdout"
        }
      ]
    },
    {
      "cell_type": "code",
      "metadata": {
        "id": "DLIu_gDePaGD",
        "colab_type": "code",
        "colab": {
          "base_uri": "https://localhost:8080/",
          "height": 34
        },
        "outputId": "ac34fbbe-b368-46d4-e022-695cd06a14cc"
      },
      "source": [
        "np.sqrt(chi2/(churn_df.shape[0]))"
      ],
      "execution_count": 28,
      "outputs": [
        {
          "output_type": "execute_result",
          "data": {
            "text/plain": [
              "0.19149814355338285"
            ]
          },
          "metadata": {
            "tags": []
          },
          "execution_count": 28
        }
      ]
    },
    {
      "cell_type": "code",
      "metadata": {
        "id": "cM--7x8fPaC3",
        "colab_type": "code",
        "colab": {
          "base_uri": "https://localhost:8080/",
          "height": 68
        },
        "outputId": "b0b7fd78-da05-40a1-8043-a2711dab6640"
      },
      "source": [
        "churn_df['gender'].value_counts()"
      ],
      "execution_count": 33,
      "outputs": [
        {
          "output_type": "execute_result",
          "data": {
            "text/plain": [
              "Male      3555\n",
              "Female    3488\n",
              "Name: gender, dtype: int64"
            ]
          },
          "metadata": {
            "tags": []
          },
          "execution_count": 33
        }
      ]
    },
    {
      "cell_type": "code",
      "metadata": {
        "id": "thRXWxzxPZ_I",
        "colab_type": "code",
        "colab": {
          "base_uri": "https://localhost:8080/",
          "height": 302
        },
        "outputId": "6360c6a1-8fb0-4b4d-b16d-0ddca0e46a27"
      },
      "source": [
        "sns.set(style='darkgrid')\n",
        "sns.set_palette('hls',3)\n",
        "sns.countplot(x= churn_df['gender'], hue='Churn', data=churn_df)"
      ],
      "execution_count": 34,
      "outputs": [
        {
          "output_type": "execute_result",
          "data": {
            "text/plain": [
              "<matplotlib.axes._subplots.AxesSubplot at 0x7fd2393d0390>"
            ]
          },
          "metadata": {
            "tags": []
          },
          "execution_count": 34
        },
        {
          "output_type": "display_data",
          "data": {
            "image/png": "[encoded data removed]",
            "text/plain": [
              "<Figure size 432x288 with 1 Axes>"
            ]
          },
          "metadata": {
            "tags": []
          }
        }
      ]
    },
    {
      "cell_type": "code",
      "metadata": {
        "id": "zmWlz6LAPZjt",
        "colab_type": "code",
        "colab": {
          "base_uri": "https://localhost:8080/",
          "height": 142
        },
        "outputId": "588bd122-c739-4f8e-b328-c2be7d29385b"
      },
      "source": [
        "gender_churn_df = pd.crosstab(index=churn_df['gender'], columns=df['Churn'])\n",
        "gender_churn_df"
      ],
      "execution_count": 35,
      "outputs": [
        {
          "output_type": "execute_result",
          "data": {
            "text/html": [
              "<div>\n",
              "<style scoped>\n",
              "    .dataframe tbody tr th:only-of-type {\n",
              "        vertical-align: middle;\n",
              "    }\n",
              "\n",
              "    .dataframe tbody tr th {\n",
              "        vertical-align: top;\n",
              "    }\n",
              "\n",
              "    .dataframe thead th {\n",
              "        text-align: right;\n",
              "    }\n",
              "</style>\n",
              "<table border=\"1\" class=\"dataframe\">\n",
              "  <thead>\n",
              "    <tr style=\"text-align: right;\">\n",
              "      <th>Churn</th>\n",
              "      <th>No</th>\n",
              "      <th>Yes</th>\n",
              "    </tr>\n",
              "    <tr>\n",
              "      <th>gender</th>\n",
              "      <th></th>\n",
              "      <th></th>\n",
              "    </tr>\n",
              "  </thead>\n",
              "  <tbody>\n",
              "    <tr>\n",
              "      <th>Female</th>\n",
              "      <td>2549</td>\n",
              "      <td>939</td>\n",
              "    </tr>\n",
              "    <tr>\n",
              "      <th>Male</th>\n",
              "      <td>2625</td>\n",
              "      <td>930</td>\n",
              "    </tr>\n",
              "  </tbody>\n",
              "</table>\n",
              "</div>"
            ],
            "text/plain": [
              "Churn     No  Yes\n",
              "gender           \n",
              "Female  2549  939\n",
              "Male    2625  930"
            ]
          },
          "metadata": {
            "tags": []
          },
          "execution_count": 35
        }
      ]
    },
    {
      "cell_type": "code",
      "metadata": {
        "id": "C8k8V1M0PZeI",
        "colab_type": "code",
        "colab": {}
      },
      "source": [
        "(chi2, p,dof,_)= stats.chi2_contingency([gender_churn_df.iloc[0].values,gender_churn_df.iloc[1].values ])"
      ],
      "execution_count": 0,
      "outputs": []
    },
    {
      "cell_type": "code",
      "metadata": {
        "id": "UDLncCQjYnhk",
        "colab_type": "code",
        "colab": {
          "base_uri": "https://localhost:8080/",
          "height": 68
        },
        "outputId": "03ea8235-fe65-44ff-ef39-49feff6e06d3"
      },
      "source": [
        "print('chi2: ' ,chi2)\n",
        "print('p : ' ,p)\n",
        "print('dof : ',dof)"
      ],
      "execution_count": 37,
      "outputs": [
        {
          "output_type": "stream",
          "text": [
            "chi2:  0.4840828822091383\n",
            "p :  0.48657873605618596\n",
            "dof :  1\n"
          ],
          "name": "stdout"
        }
      ]
    },
    {
      "cell_type": "code",
      "metadata": {
        "id": "wkdxKCqnYnXr",
        "colab_type": "code",
        "colab": {
          "base_uri": "https://localhost:8080/",
          "height": 34
        },
        "outputId": "474e834a-c69c-4486-a99a-93cbe2ad4321"
      },
      "source": [
        "np.sqrt(chi2/(churn_df.shape[0])) # crammner v value "
      ],
      "execution_count": 38,
      "outputs": [
        {
          "output_type": "execute_result",
          "data": {
            "text/plain": [
              "0.008290505631771371"
            ]
          },
          "metadata": {
            "tags": []
          },
          "execution_count": 38
        }
      ]
    },
    {
      "cell_type": "code",
      "metadata": {
        "id": "DDlI6N3weeZu",
        "colab_type": "code",
        "colab": {}
      },
      "source": [
        "def cramers_stat(confusion_matrix):\n",
        "    chi2 = stats.chi2_contingency(confusion_matrix)[0]\n",
        "    n = confusion_matrix.sum()\n",
        "    return np.sqrt(chi2 / (n*(min(confusion_matrix.shape)-1)))"
      ],
      "execution_count": 0,
      "outputs": []
    },
    {
      "cell_type": "code",
      "metadata": {
        "id": "ihsP4Kr_ep3i",
        "colab_type": "code",
        "colab": {
          "base_uri": "https://localhost:8080/",
          "height": 85
        },
        "outputId": "ee373684-42b8-430a-e6a5-eb662c736d58"
      },
      "source": [
        "cramers_stat(gender_churn_df)"
      ],
      "execution_count": 49,
      "outputs": [
        {
          "output_type": "execute_result",
          "data": {
            "text/plain": [
              "Churn\n",
              "No     0.009673\n",
              "Yes    0.016094\n",
              "dtype: float64"
            ]
          },
          "metadata": {
            "tags": []
          },
          "execution_count": 49
        }
      ]
    },
    {
      "cell_type": "code",
      "metadata": {
        "id": "QuXgmifwgOes",
        "colab_type": "code",
        "colab": {
          "base_uri": "https://localhost:8080/",
          "height": 85
        },
        "outputId": "4d097eef-bf79-4efa-d0d5-a24dad1940af"
      },
      "source": [
        "cramers_stat(pb_churn_df)"
      ],
      "execution_count": 50,
      "outputs": [
        {
          "output_type": "execute_result",
          "data": {
            "text/plain": [
              "Churn\n",
              "No     0.223424\n",
              "Yes    0.371740\n",
              "dtype: float64"
            ]
          },
          "metadata": {
            "tags": []
          },
          "execution_count": 50
        }
      ]
    }
  ]
}