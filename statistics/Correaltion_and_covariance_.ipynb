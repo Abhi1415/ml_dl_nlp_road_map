{
  "nbformat": 4,
  "nbformat_minor": 0,
  "metadata": {
    "colab": {
      "name": "Correaltion_and_covariance .ipynb",
      "provenance": [],
      "authorship_tag": "ABX9TyMEEtGCWrpE4Aer2DhE8kPj",
      "include_colab_link": true
    },
    "kernelspec": {
      "name": "python3",
      "display_name": "Python 3"
    }
  },
  "cells": [
    {
      "cell_type": "markdown",
      "metadata": {
        "id": "view-in-github",
        "colab_type": "text"
      },
      "source": [
        "<a href=\"https://colab.research.google.com/github/Uttam580/statistics/blob/master/Correaltion_and_covariance_.ipynb\" target=\"_parent\"><img src=\"https://colab.research.google.com/assets/colab-badge.svg\" alt=\"Open In Colab\"/></a>"
      ]
    },
    {
      "cell_type": "code",
      "metadata": {
        "id": "MEu8VbAuJqKs",
        "colab_type": "code",
        "colab": {
          "resources": {
            "http://localhost:8080/nbextensions/google.colab/files.js": {
              "data": "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",
              "ok": true,
              "headers": [
                [
                  "content-type",
                  "application/javascript"
                ]
              ],
              "status": 200,
              "status_text": ""
            }
          },
          "base_uri": "https://localhost:8080/",
          "height": 74
        },
        "outputId": "ff56598d-bb14-454b-aedb-36e9d4cf87f0"
      },
      "source": [
        "from google.colab import files \n",
        "uploaded = files.upload()"
      ],
      "execution_count": 22,
      "outputs": [
        {
          "output_type": "display_data",
          "data": {
            "text/html": [
              "\n",
              "     <input type=\"file\" id=\"files-e41f8ad8-e376-4fc9-bfa5-ca48d66b092b\" name=\"files[]\" multiple disabled />\n",
              "     <output id=\"result-e41f8ad8-e376-4fc9-bfa5-ca48d66b092b\">\n",
              "      Upload widget is only available when the cell has been executed in the\n",
              "      current browser session. Please rerun this cell to enable.\n",
              "      </output>\n",
              "      <script src=\"/nbextensions/google.colab/files.js\"></script> "
            ],
            "text/plain": [
              "<IPython.core.display.HTML object>"
            ]
          },
          "metadata": {
            "tags": []
          }
        },
        {
          "output_type": "stream",
          "text": [
            "Saving loan_analysis_summary.csv to loan_analysis_summary (1).csv\n"
          ],
          "name": "stdout"
        }
      ]
    },
    {
      "cell_type": "code",
      "metadata": {
        "id": "amyOBeRWKYxG",
        "colab_type": "code",
        "colab": {}
      },
      "source": [
        "import warnings\n",
        "warnings.simplefilter(action= 'ignore', category = FutureWarning)\n",
        "warnings.simplefilter(action= 'ignore', category = Warning)\n",
        "\n",
        "\n",
        "import pandas as pd\n",
        "import numpy as np\n",
        "import matplotlib.pyplot as plt\n",
        "import seaborn as sns"
      ],
      "execution_count": 0,
      "outputs": []
    },
    {
      "cell_type": "code",
      "metadata": {
        "id": "U002UoA6KZDT",
        "colab_type": "code",
        "colab": {
          "base_uri": "https://localhost:8080/",
          "height": 34
        },
        "outputId": "3de9b154-3748-40e1-c9b0-87f13c4a91f9"
      },
      "source": [
        "ls"
      ],
      "execution_count": 24,
      "outputs": [
        {
          "output_type": "stream",
          "text": [
            "'loan_analysis_summary (1).csv'   loan_analysis_summary.csv   \u001b[0m\u001b[01;34msample_data\u001b[0m/\n"
          ],
          "name": "stdout"
        }
      ]
    },
    {
      "cell_type": "code",
      "metadata": {
        "id": "Y1oqIXVyKZJ9",
        "colab_type": "code",
        "colab": {}
      },
      "source": [
        "loan_df = pd.read_csv('loan_analysis_summary.csv')"
      ],
      "execution_count": 0,
      "outputs": []
    },
    {
      "cell_type": "code",
      "metadata": {
        "id": "oeRjRvxRKZHu",
        "colab_type": "code",
        "colab": {
          "base_uri": "https://localhost:8080/",
          "height": 204
        },
        "outputId": "164700d2-2a7c-47b4-e404-fe24730d28f7"
      },
      "source": [
        "loan_df.head()"
      ],
      "execution_count": 26,
      "outputs": [
        {
          "output_type": "execute_result",
          "data": {
            "text/html": [
              "<div>\n",
              "<style scoped>\n",
              "    .dataframe tbody tr th:only-of-type {\n",
              "        vertical-align: middle;\n",
              "    }\n",
              "\n",
              "    .dataframe tbody tr th {\n",
              "        vertical-align: top;\n",
              "    }\n",
              "\n",
              "    .dataframe thead th {\n",
              "        text-align: right;\n",
              "    }\n",
              "</style>\n",
              "<table border=\"1\" class=\"dataframe\">\n",
              "  <thead>\n",
              "    <tr style=\"text-align: right;\">\n",
              "      <th></th>\n",
              "      <th>fico_score</th>\n",
              "      <th>loan_total</th>\n",
              "      <th>default_total</th>\n",
              "      <th>dti</th>\n",
              "      <th>avg_loan_amnt</th>\n",
              "      <th>median_annual_inc</th>\n",
              "      <th>avg_annual_inc</th>\n",
              "      <th>int_rate</th>\n",
              "      <th>default_rate</th>\n",
              "      <th>actual_default_rate</th>\n",
              "    </tr>\n",
              "  </thead>\n",
              "  <tbody>\n",
              "    <tr>\n",
              "      <th>0</th>\n",
              "      <td>500</td>\n",
              "      <td>3585</td>\n",
              "      <td>3183</td>\n",
              "      <td>19.737013</td>\n",
              "      <td>13660.71827</td>\n",
              "      <td>55000</td>\n",
              "      <td>63396.10292</td>\n",
              "      <td>15.352285</td>\n",
              "      <td>2.463470</td>\n",
              "      <td>0.520266</td>\n",
              "    </tr>\n",
              "    <tr>\n",
              "      <th>1</th>\n",
              "      <td>510</td>\n",
              "      <td>8223</td>\n",
              "      <td>7191</td>\n",
              "      <td>19.747810</td>\n",
              "      <td>13889.67226</td>\n",
              "      <td>56000</td>\n",
              "      <td>65446.52263</td>\n",
              "      <td>15.440212</td>\n",
              "      <td>5.565445</td>\n",
              "      <td>1.175378</td>\n",
              "    </tr>\n",
              "    <tr>\n",
              "      <th>2</th>\n",
              "      <td>520</td>\n",
              "      <td>9792</td>\n",
              "      <td>8370</td>\n",
              "      <td>20.085761</td>\n",
              "      <td>14186.13920</td>\n",
              "      <td>58728</td>\n",
              "      <td>68261.38708</td>\n",
              "      <td>15.312451</td>\n",
              "      <td>6.477927</td>\n",
              "      <td>1.368087</td>\n",
              "    </tr>\n",
              "    <tr>\n",
              "      <th>3</th>\n",
              "      <td>530</td>\n",
              "      <td>10984</td>\n",
              "      <td>9254</td>\n",
              "      <td>20.253199</td>\n",
              "      <td>14487.00838</td>\n",
              "      <td>60000</td>\n",
              "      <td>69041.52340</td>\n",
              "      <td>15.449011</td>\n",
              "      <td>7.162095</td>\n",
              "      <td>1.512578</td>\n",
              "    </tr>\n",
              "    <tr>\n",
              "      <th>4</th>\n",
              "      <td>540</td>\n",
              "      <td>12333</td>\n",
              "      <td>10127</td>\n",
              "      <td>20.770446</td>\n",
              "      <td>14756.36706</td>\n",
              "      <td>60000</td>\n",
              "      <td>69948.95243</td>\n",
              "      <td>15.271022</td>\n",
              "      <td>7.837750</td>\n",
              "      <td>1.655271</td>\n",
              "    </tr>\n",
              "  </tbody>\n",
              "</table>\n",
              "</div>"
            ],
            "text/plain": [
              "   fico_score  loan_total  ...  default_rate  actual_default_rate\n",
              "0         500        3585  ...      2.463470             0.520266\n",
              "1         510        8223  ...      5.565445             1.175378\n",
              "2         520        9792  ...      6.477927             1.368087\n",
              "3         530       10984  ...      7.162095             1.512578\n",
              "4         540       12333  ...      7.837750             1.655271\n",
              "\n",
              "[5 rows x 10 columns]"
            ]
          },
          "metadata": {
            "tags": []
          },
          "execution_count": 26
        }
      ]
    },
    {
      "cell_type": "code",
      "metadata": {
        "id": "DUkyQUoAMhUh",
        "colab_type": "code",
        "colab": {
          "base_uri": "https://localhost:8080/",
          "height": 297
        },
        "outputId": "1bbf9249-680c-43f5-d29d-c71bf48dec30"
      },
      "source": [
        "loan_df.describe()"
      ],
      "execution_count": 27,
      "outputs": [
        {
          "output_type": "execute_result",
          "data": {
            "text/html": [
              "<div>\n",
              "<style scoped>\n",
              "    .dataframe tbody tr th:only-of-type {\n",
              "        vertical-align: middle;\n",
              "    }\n",
              "\n",
              "    .dataframe tbody tr th {\n",
              "        vertical-align: top;\n",
              "    }\n",
              "\n",
              "    .dataframe thead th {\n",
              "        text-align: right;\n",
              "    }\n",
              "</style>\n",
              "<table border=\"1\" class=\"dataframe\">\n",
              "  <thead>\n",
              "    <tr style=\"text-align: right;\">\n",
              "      <th></th>\n",
              "      <th>fico_score</th>\n",
              "      <th>loan_total</th>\n",
              "      <th>default_total</th>\n",
              "      <th>dti</th>\n",
              "      <th>avg_loan_amnt</th>\n",
              "      <th>median_annual_inc</th>\n",
              "      <th>avg_annual_inc</th>\n",
              "      <th>int_rate</th>\n",
              "      <th>default_rate</th>\n",
              "      <th>actual_default_rate</th>\n",
              "    </tr>\n",
              "  </thead>\n",
              "  <tbody>\n",
              "    <tr>\n",
              "      <th>count</th>\n",
              "      <td>36.000000</td>\n",
              "      <td>36.000000</td>\n",
              "      <td>36.000000</td>\n",
              "      <td>36.000000</td>\n",
              "      <td>36.000000</td>\n",
              "      <td>36.000000</td>\n",
              "      <td>36.000000</td>\n",
              "      <td>36.000000</td>\n",
              "      <td>36.000000</td>\n",
              "      <td>36.000000</td>\n",
              "    </tr>\n",
              "    <tr>\n",
              "      <th>mean</th>\n",
              "      <td>675.000000</td>\n",
              "      <td>16994.527778</td>\n",
              "      <td>3589.111111</td>\n",
              "      <td>18.790417</td>\n",
              "      <td>15088.569697</td>\n",
              "      <td>65678.583333</td>\n",
              "      <td>77391.960108</td>\n",
              "      <td>12.520384</td>\n",
              "      <td>2.777778</td>\n",
              "      <td>0.586645</td>\n",
              "    </tr>\n",
              "    <tr>\n",
              "      <th>std</th>\n",
              "      <td>105.356538</td>\n",
              "      <td>11917.752515</td>\n",
              "      <td>3512.765608</td>\n",
              "      <td>1.690671</td>\n",
              "      <td>1633.584599</td>\n",
              "      <td>6846.614297</td>\n",
              "      <td>8038.473538</td>\n",
              "      <td>2.560128</td>\n",
              "      <td>2.718690</td>\n",
              "      <td>0.574166</td>\n",
              "    </tr>\n",
              "    <tr>\n",
              "      <th>min</th>\n",
              "      <td>500.000000</td>\n",
              "      <td>124.000000</td>\n",
              "      <td>3.000000</td>\n",
              "      <td>14.676210</td>\n",
              "      <td>12994.231600</td>\n",
              "      <td>55000.000000</td>\n",
              "      <td>63396.102920</td>\n",
              "      <td>7.585562</td>\n",
              "      <td>0.002322</td>\n",
              "      <td>0.000490</td>\n",
              "    </tr>\n",
              "    <tr>\n",
              "      <th>25%</th>\n",
              "      <td>587.500000</td>\n",
              "      <td>10452.750000</td>\n",
              "      <td>214.250000</td>\n",
              "      <td>17.650570</td>\n",
              "      <td>14038.181180</td>\n",
              "      <td>61297.500000</td>\n",
              "      <td>72364.301710</td>\n",
              "      <td>10.453639</td>\n",
              "      <td>0.165818</td>\n",
              "      <td>0.035019</td>\n",
              "    </tr>\n",
              "    <tr>\n",
              "      <th>50%</th>\n",
              "      <td>675.000000</td>\n",
              "      <td>12519.500000</td>\n",
              "      <td>2886.500000</td>\n",
              "      <td>19.083851</td>\n",
              "      <td>14857.024775</td>\n",
              "      <td>63000.000000</td>\n",
              "      <td>74919.065440</td>\n",
              "      <td>13.556549</td>\n",
              "      <td>2.233995</td>\n",
              "      <td>0.471802</td>\n",
              "    </tr>\n",
              "    <tr>\n",
              "      <th>75%</th>\n",
              "      <td>762.500000</td>\n",
              "      <td>23774.500000</td>\n",
              "      <td>6123.750000</td>\n",
              "      <td>20.165171</td>\n",
              "      <td>15353.673887</td>\n",
              "      <td>68250.000000</td>\n",
              "      <td>80706.824483</td>\n",
              "      <td>14.732548</td>\n",
              "      <td>4.739451</td>\n",
              "      <td>1.000935</td>\n",
              "    </tr>\n",
              "    <tr>\n",
              "      <th>max</th>\n",
              "      <td>850.000000</td>\n",
              "      <td>40444.000000</td>\n",
              "      <td>10164.000000</td>\n",
              "      <td>20.974137</td>\n",
              "      <td>20082.459680</td>\n",
              "      <td>83750.000000</td>\n",
              "      <td>98683.805750</td>\n",
              "      <td>15.449011</td>\n",
              "      <td>7.866386</td>\n",
              "      <td>1.661319</td>\n",
              "    </tr>\n",
              "  </tbody>\n",
              "</table>\n",
              "</div>"
            ],
            "text/plain": [
              "       fico_score    loan_total  ...  default_rate  actual_default_rate\n",
              "count   36.000000     36.000000  ...     36.000000            36.000000\n",
              "mean   675.000000  16994.527778  ...      2.777778             0.586645\n",
              "std    105.356538  11917.752515  ...      2.718690             0.574166\n",
              "min    500.000000    124.000000  ...      0.002322             0.000490\n",
              "25%    587.500000  10452.750000  ...      0.165818             0.035019\n",
              "50%    675.000000  12519.500000  ...      2.233995             0.471802\n",
              "75%    762.500000  23774.500000  ...      4.739451             1.000935\n",
              "max    850.000000  40444.000000  ...      7.866386             1.661319\n",
              "\n",
              "[8 rows x 10 columns]"
            ]
          },
          "metadata": {
            "tags": []
          },
          "execution_count": 27
        }
      ]
    },
    {
      "cell_type": "code",
      "metadata": {
        "id": "rxYFss8IMnB2",
        "colab_type": "code",
        "colab": {
          "base_uri": "https://localhost:8080/",
          "height": 379
        },
        "outputId": "4c26caba-c624-4518-b626-39e1ae24522f"
      },
      "source": [
        "loan_df.cov()"
      ],
      "execution_count": 28,
      "outputs": [
        {
          "output_type": "execute_result",
          "data": {
            "text/html": [
              "<div>\n",
              "<style scoped>\n",
              "    .dataframe tbody tr th:only-of-type {\n",
              "        vertical-align: middle;\n",
              "    }\n",
              "\n",
              "    .dataframe tbody tr th {\n",
              "        vertical-align: top;\n",
              "    }\n",
              "\n",
              "    .dataframe thead th {\n",
              "        text-align: right;\n",
              "    }\n",
              "</style>\n",
              "<table border=\"1\" class=\"dataframe\">\n",
              "  <thead>\n",
              "    <tr style=\"text-align: right;\">\n",
              "      <th></th>\n",
              "      <th>fico_score</th>\n",
              "      <th>loan_total</th>\n",
              "      <th>default_total</th>\n",
              "      <th>dti</th>\n",
              "      <th>avg_loan_amnt</th>\n",
              "      <th>median_annual_inc</th>\n",
              "      <th>avg_annual_inc</th>\n",
              "      <th>int_rate</th>\n",
              "      <th>default_rate</th>\n",
              "      <th>actual_default_rate</th>\n",
              "    </tr>\n",
              "  </thead>\n",
              "  <tbody>\n",
              "    <tr>\n",
              "      <th>fico_score</th>\n",
              "      <td>11100.000000</td>\n",
              "      <td>8.431757e+04</td>\n",
              "      <td>-3.281917e+05</td>\n",
              "      <td>-164.562715</td>\n",
              "      <td>1.179751e+05</td>\n",
              "      <td>6.540867e+05</td>\n",
              "      <td>7.851304e+05</td>\n",
              "      <td>-261.372425</td>\n",
              "      <td>-254.002627</td>\n",
              "      <td>-53.643365</td>\n",
              "    </tr>\n",
              "    <tr>\n",
              "      <th>loan_total</th>\n",
              "      <td>84317.571429</td>\n",
              "      <td>1.420328e+08</td>\n",
              "      <td>-6.117364e+06</td>\n",
              "      <td>2841.802408</td>\n",
              "      <td>-9.263903e+06</td>\n",
              "      <td>-1.233279e+07</td>\n",
              "      <td>-9.045332e+06</td>\n",
              "      <td>3454.737681</td>\n",
              "      <td>-4734.508923</td>\n",
              "      <td>-999.891190</td>\n",
              "    </tr>\n",
              "    <tr>\n",
              "      <th>default_total</th>\n",
              "      <td>-328191.714286</td>\n",
              "      <td>-6.117364e+06</td>\n",
              "      <td>1.233952e+07</td>\n",
              "      <td>5018.669412</td>\n",
              "      <td>-2.542762e+06</td>\n",
              "      <td>-1.726291e+07</td>\n",
              "      <td>-2.094780e+07</td>\n",
              "      <td>7646.662485</td>\n",
              "      <td>9550.122450</td>\n",
              "      <td>2016.911035</td>\n",
              "    </tr>\n",
              "    <tr>\n",
              "      <th>dti</th>\n",
              "      <td>-164.562715</td>\n",
              "      <td>2.841802e+03</td>\n",
              "      <td>5.018669e+03</td>\n",
              "      <td>2.858369</td>\n",
              "      <td>-2.164641e+03</td>\n",
              "      <td>-1.040763e+04</td>\n",
              "      <td>-1.219916e+04</td>\n",
              "      <td>4.167275</td>\n",
              "      <td>3.884179</td>\n",
              "      <td>0.820308</td>\n",
              "    </tr>\n",
              "    <tr>\n",
              "      <th>avg_loan_amnt</th>\n",
              "      <td>117975.085123</td>\n",
              "      <td>-9.263903e+06</td>\n",
              "      <td>-2.542762e+06</td>\n",
              "      <td>-2164.640693</td>\n",
              "      <td>2.668599e+06</td>\n",
              "      <td>9.564547e+06</td>\n",
              "      <td>1.092982e+07</td>\n",
              "      <td>-3359.878600</td>\n",
              "      <td>-1967.960087</td>\n",
              "      <td>-415.617751</td>\n",
              "    </tr>\n",
              "    <tr>\n",
              "      <th>median_annual_inc</th>\n",
              "      <td>654086.714286</td>\n",
              "      <td>-1.233279e+07</td>\n",
              "      <td>-1.726291e+07</td>\n",
              "      <td>-10407.631551</td>\n",
              "      <td>9.564547e+06</td>\n",
              "      <td>4.687613e+07</td>\n",
              "      <td>5.457827e+07</td>\n",
              "      <td>-16564.670539</td>\n",
              "      <td>-13360.560742</td>\n",
              "      <td>-2821.645746</td>\n",
              "    </tr>\n",
              "    <tr>\n",
              "      <th>avg_annual_inc</th>\n",
              "      <td>785130.353840</td>\n",
              "      <td>-9.045332e+06</td>\n",
              "      <td>-2.094780e+07</td>\n",
              "      <td>-12199.161949</td>\n",
              "      <td>1.092982e+07</td>\n",
              "      <td>5.457827e+07</td>\n",
              "      <td>6.461706e+07</td>\n",
              "      <td>-19471.216732</td>\n",
              "      <td>-16212.465719</td>\n",
              "      <td>-3423.945732</td>\n",
              "    </tr>\n",
              "    <tr>\n",
              "      <th>int_rate</th>\n",
              "      <td>-261.372425</td>\n",
              "      <td>3.454738e+03</td>\n",
              "      <td>7.646662e+03</td>\n",
              "      <td>4.167275</td>\n",
              "      <td>-3.359879e+03</td>\n",
              "      <td>-1.656467e+04</td>\n",
              "      <td>-1.947122e+04</td>\n",
              "      <td>6.554256</td>\n",
              "      <td>5.918103</td>\n",
              "      <td>1.249857</td>\n",
              "    </tr>\n",
              "    <tr>\n",
              "      <th>default_rate</th>\n",
              "      <td>-254.002627</td>\n",
              "      <td>-4.734509e+03</td>\n",
              "      <td>9.550122e+03</td>\n",
              "      <td>3.884179</td>\n",
              "      <td>-1.967960e+03</td>\n",
              "      <td>-1.336056e+04</td>\n",
              "      <td>-1.621247e+04</td>\n",
              "      <td>5.918103</td>\n",
              "      <td>7.391278</td>\n",
              "      <td>1.560980</td>\n",
              "    </tr>\n",
              "    <tr>\n",
              "      <th>actual_default_rate</th>\n",
              "      <td>-53.643365</td>\n",
              "      <td>-9.998912e+02</td>\n",
              "      <td>2.016911e+03</td>\n",
              "      <td>0.820308</td>\n",
              "      <td>-4.156178e+02</td>\n",
              "      <td>-2.821646e+03</td>\n",
              "      <td>-3.423946e+03</td>\n",
              "      <td>1.249857</td>\n",
              "      <td>1.560980</td>\n",
              "      <td>0.329667</td>\n",
              "    </tr>\n",
              "  </tbody>\n",
              "</table>\n",
              "</div>"
            ],
            "text/plain": [
              "                        fico_score  ...  actual_default_rate\n",
              "fico_score            11100.000000  ...           -53.643365\n",
              "loan_total            84317.571429  ...          -999.891190\n",
              "default_total       -328191.714286  ...          2016.911035\n",
              "dti                    -164.562715  ...             0.820308\n",
              "avg_loan_amnt        117975.085123  ...          -415.617751\n",
              "median_annual_inc    654086.714286  ...         -2821.645746\n",
              "avg_annual_inc       785130.353840  ...         -3423.945732\n",
              "int_rate               -261.372425  ...             1.249857\n",
              "default_rate           -254.002627  ...             1.560980\n",
              "actual_default_rate     -53.643365  ...             0.329667\n",
              "\n",
              "[10 rows x 10 columns]"
            ]
          },
          "metadata": {
            "tags": []
          },
          "execution_count": 28
        }
      ]
    },
    {
      "cell_type": "code",
      "metadata": {
        "id": "sWt4Fyl7Mm-u",
        "colab_type": "code",
        "colab": {
          "base_uri": "https://localhost:8080/",
          "height": 379
        },
        "outputId": "bf78f8b7-3924-4ea6-adf8-ac7ab6cf9911"
      },
      "source": [
        "loan_df.corr()"
      ],
      "execution_count": 29,
      "outputs": [
        {
          "output_type": "execute_result",
          "data": {
            "text/html": [
              "<div>\n",
              "<style scoped>\n",
              "    .dataframe tbody tr th:only-of-type {\n",
              "        vertical-align: middle;\n",
              "    }\n",
              "\n",
              "    .dataframe tbody tr th {\n",
              "        vertical-align: top;\n",
              "    }\n",
              "\n",
              "    .dataframe thead th {\n",
              "        text-align: right;\n",
              "    }\n",
              "</style>\n",
              "<table border=\"1\" class=\"dataframe\">\n",
              "  <thead>\n",
              "    <tr style=\"text-align: right;\">\n",
              "      <th></th>\n",
              "      <th>fico_score</th>\n",
              "      <th>loan_total</th>\n",
              "      <th>default_total</th>\n",
              "      <th>dti</th>\n",
              "      <th>avg_loan_amnt</th>\n",
              "      <th>median_annual_inc</th>\n",
              "      <th>avg_annual_inc</th>\n",
              "      <th>int_rate</th>\n",
              "      <th>default_rate</th>\n",
              "      <th>actual_default_rate</th>\n",
              "    </tr>\n",
              "  </thead>\n",
              "  <tbody>\n",
              "    <tr>\n",
              "      <th>fico_score</th>\n",
              "      <td>1.000000</td>\n",
              "      <td>0.067153</td>\n",
              "      <td>-0.886782</td>\n",
              "      <td>-0.923870</td>\n",
              "      <td>0.685468</td>\n",
              "      <td>0.906772</td>\n",
              "      <td>0.927058</td>\n",
              "      <td>-0.969029</td>\n",
              "      <td>-0.886782</td>\n",
              "      <td>-0.886782</td>\n",
              "    </tr>\n",
              "    <tr>\n",
              "      <th>loan_total</th>\n",
              "      <td>0.067153</td>\n",
              "      <td>1.000000</td>\n",
              "      <td>-0.146124</td>\n",
              "      <td>0.141039</td>\n",
              "      <td>-0.475837</td>\n",
              "      <td>-0.151144</td>\n",
              "      <td>-0.094418</td>\n",
              "      <td>0.113229</td>\n",
              "      <td>-0.146124</td>\n",
              "      <td>-0.146124</td>\n",
              "    </tr>\n",
              "    <tr>\n",
              "      <th>default_total</th>\n",
              "      <td>-0.886782</td>\n",
              "      <td>-0.146124</td>\n",
              "      <td>1.000000</td>\n",
              "      <td>0.845046</td>\n",
              "      <td>-0.443113</td>\n",
              "      <td>-0.717776</td>\n",
              "      <td>-0.741849</td>\n",
              "      <td>0.850278</td>\n",
              "      <td>1.000000</td>\n",
              "      <td>1.000000</td>\n",
              "    </tr>\n",
              "    <tr>\n",
              "      <th>dti</th>\n",
              "      <td>-0.923870</td>\n",
              "      <td>0.141039</td>\n",
              "      <td>0.845046</td>\n",
              "      <td>1.000000</td>\n",
              "      <td>-0.783764</td>\n",
              "      <td>-0.899118</td>\n",
              "      <td>-0.897630</td>\n",
              "      <td>0.962789</td>\n",
              "      <td>0.845046</td>\n",
              "      <td>0.845046</td>\n",
              "    </tr>\n",
              "    <tr>\n",
              "      <th>avg_loan_amnt</th>\n",
              "      <td>0.685468</td>\n",
              "      <td>-0.475837</td>\n",
              "      <td>-0.443113</td>\n",
              "      <td>-0.783764</td>\n",
              "      <td>1.000000</td>\n",
              "      <td>0.855159</td>\n",
              "      <td>0.832335</td>\n",
              "      <td>-0.803379</td>\n",
              "      <td>-0.443113</td>\n",
              "      <td>-0.443113</td>\n",
              "    </tr>\n",
              "    <tr>\n",
              "      <th>median_annual_inc</th>\n",
              "      <td>0.906772</td>\n",
              "      <td>-0.151144</td>\n",
              "      <td>-0.717776</td>\n",
              "      <td>-0.899118</td>\n",
              "      <td>0.855159</td>\n",
              "      <td>1.000000</td>\n",
              "      <td>0.991677</td>\n",
              "      <td>-0.945029</td>\n",
              "      <td>-0.717776</td>\n",
              "      <td>-0.717776</td>\n",
              "    </tr>\n",
              "    <tr>\n",
              "      <th>avg_annual_inc</th>\n",
              "      <td>0.927058</td>\n",
              "      <td>-0.094418</td>\n",
              "      <td>-0.741849</td>\n",
              "      <td>-0.897630</td>\n",
              "      <td>0.832335</td>\n",
              "      <td>0.991677</td>\n",
              "      <td>1.000000</td>\n",
              "      <td>-0.946145</td>\n",
              "      <td>-0.741849</td>\n",
              "      <td>-0.741849</td>\n",
              "    </tr>\n",
              "    <tr>\n",
              "      <th>int_rate</th>\n",
              "      <td>-0.969029</td>\n",
              "      <td>0.113229</td>\n",
              "      <td>0.850278</td>\n",
              "      <td>0.962789</td>\n",
              "      <td>-0.803379</td>\n",
              "      <td>-0.945029</td>\n",
              "      <td>-0.946145</td>\n",
              "      <td>1.000000</td>\n",
              "      <td>0.850278</td>\n",
              "      <td>0.850278</td>\n",
              "    </tr>\n",
              "    <tr>\n",
              "      <th>default_rate</th>\n",
              "      <td>-0.886782</td>\n",
              "      <td>-0.146124</td>\n",
              "      <td>1.000000</td>\n",
              "      <td>0.845046</td>\n",
              "      <td>-0.443113</td>\n",
              "      <td>-0.717776</td>\n",
              "      <td>-0.741849</td>\n",
              "      <td>0.850278</td>\n",
              "      <td>1.000000</td>\n",
              "      <td>1.000000</td>\n",
              "    </tr>\n",
              "    <tr>\n",
              "      <th>actual_default_rate</th>\n",
              "      <td>-0.886782</td>\n",
              "      <td>-0.146124</td>\n",
              "      <td>1.000000</td>\n",
              "      <td>0.845046</td>\n",
              "      <td>-0.443113</td>\n",
              "      <td>-0.717776</td>\n",
              "      <td>-0.741849</td>\n",
              "      <td>0.850278</td>\n",
              "      <td>1.000000</td>\n",
              "      <td>1.000000</td>\n",
              "    </tr>\n",
              "  </tbody>\n",
              "</table>\n",
              "</div>"
            ],
            "text/plain": [
              "                     fico_score  loan_total  ...  default_rate  actual_default_rate\n",
              "fico_score             1.000000    0.067153  ...     -0.886782            -0.886782\n",
              "loan_total             0.067153    1.000000  ...     -0.146124            -0.146124\n",
              "default_total         -0.886782   -0.146124  ...      1.000000             1.000000\n",
              "dti                   -0.923870    0.141039  ...      0.845046             0.845046\n",
              "avg_loan_amnt          0.685468   -0.475837  ...     -0.443113            -0.443113\n",
              "median_annual_inc      0.906772   -0.151144  ...     -0.717776            -0.717776\n",
              "avg_annual_inc         0.927058   -0.094418  ...     -0.741849            -0.741849\n",
              "int_rate              -0.969029    0.113229  ...      0.850278             0.850278\n",
              "default_rate          -0.886782   -0.146124  ...      1.000000             1.000000\n",
              "actual_default_rate   -0.886782   -0.146124  ...      1.000000             1.000000\n",
              "\n",
              "[10 rows x 10 columns]"
            ]
          },
          "metadata": {
            "tags": []
          },
          "execution_count": 29
        }
      ]
    },
    {
      "cell_type": "code",
      "metadata": {
        "id": "xyvTi8DfMm7j",
        "colab_type": "code",
        "colab": {
          "base_uri": "https://localhost:8080/",
          "height": 379
        },
        "outputId": "f9172563-485c-430e-d5bd-abbc58eab6c3"
      },
      "source": [
        "loan_df.corr(method='spearman')"
      ],
      "execution_count": 30,
      "outputs": [
        {
          "output_type": "execute_result",
          "data": {
            "text/html": [
              "<div>\n",
              "<style scoped>\n",
              "    .dataframe tbody tr th:only-of-type {\n",
              "        vertical-align: middle;\n",
              "    }\n",
              "\n",
              "    .dataframe tbody tr th {\n",
              "        vertical-align: top;\n",
              "    }\n",
              "\n",
              "    .dataframe thead th {\n",
              "        text-align: right;\n",
              "    }\n",
              "</style>\n",
              "<table border=\"1\" class=\"dataframe\">\n",
              "  <thead>\n",
              "    <tr style=\"text-align: right;\">\n",
              "      <th></th>\n",
              "      <th>fico_score</th>\n",
              "      <th>loan_total</th>\n",
              "      <th>default_total</th>\n",
              "      <th>dti</th>\n",
              "      <th>avg_loan_amnt</th>\n",
              "      <th>median_annual_inc</th>\n",
              "      <th>avg_annual_inc</th>\n",
              "      <th>int_rate</th>\n",
              "      <th>default_rate</th>\n",
              "      <th>actual_default_rate</th>\n",
              "    </tr>\n",
              "  </thead>\n",
              "  <tbody>\n",
              "    <tr>\n",
              "      <th>fico_score</th>\n",
              "      <td>1.000000</td>\n",
              "      <td>0.043243</td>\n",
              "      <td>-0.939511</td>\n",
              "      <td>-0.936422</td>\n",
              "      <td>0.661261</td>\n",
              "      <td>0.956772</td>\n",
              "      <td>0.966281</td>\n",
              "      <td>-0.997169</td>\n",
              "      <td>-0.939511</td>\n",
              "      <td>-0.939511</td>\n",
              "    </tr>\n",
              "    <tr>\n",
              "      <th>loan_total</th>\n",
              "      <td>0.043243</td>\n",
              "      <td>1.000000</td>\n",
              "      <td>0.077992</td>\n",
              "      <td>0.029344</td>\n",
              "      <td>-0.344916</td>\n",
              "      <td>0.035934</td>\n",
              "      <td>0.048649</td>\n",
              "      <td>-0.035006</td>\n",
              "      <td>0.077992</td>\n",
              "      <td>0.077992</td>\n",
              "    </tr>\n",
              "    <tr>\n",
              "      <th>default_total</th>\n",
              "      <td>-0.939511</td>\n",
              "      <td>0.077992</td>\n",
              "      <td>1.000000</td>\n",
              "      <td>0.967310</td>\n",
              "      <td>-0.601544</td>\n",
              "      <td>-0.889429</td>\n",
              "      <td>-0.899871</td>\n",
              "      <td>0.950322</td>\n",
              "      <td>1.000000</td>\n",
              "      <td>1.000000</td>\n",
              "    </tr>\n",
              "    <tr>\n",
              "      <th>dti</th>\n",
              "      <td>-0.936422</td>\n",
              "      <td>0.029344</td>\n",
              "      <td>0.967310</td>\n",
              "      <td>1.000000</td>\n",
              "      <td>-0.576577</td>\n",
              "      <td>-0.877666</td>\n",
              "      <td>-0.890862</td>\n",
              "      <td>0.937709</td>\n",
              "      <td>0.967310</td>\n",
              "      <td>0.967310</td>\n",
              "    </tr>\n",
              "    <tr>\n",
              "      <th>avg_loan_amnt</th>\n",
              "      <td>0.661261</td>\n",
              "      <td>-0.344916</td>\n",
              "      <td>-0.601544</td>\n",
              "      <td>-0.576577</td>\n",
              "      <td>1.000000</td>\n",
              "      <td>0.750476</td>\n",
              "      <td>0.711969</td>\n",
              "      <td>-0.656371</td>\n",
              "      <td>-0.601544</td>\n",
              "      <td>-0.601544</td>\n",
              "    </tr>\n",
              "    <tr>\n",
              "      <th>median_annual_inc</th>\n",
              "      <td>0.956772</td>\n",
              "      <td>0.035934</td>\n",
              "      <td>-0.889429</td>\n",
              "      <td>-0.877666</td>\n",
              "      <td>0.750476</td>\n",
              "      <td>1.000000</td>\n",
              "      <td>0.979263</td>\n",
              "      <td>-0.955868</td>\n",
              "      <td>-0.889429</td>\n",
              "      <td>-0.889429</td>\n",
              "    </tr>\n",
              "    <tr>\n",
              "      <th>avg_annual_inc</th>\n",
              "      <td>0.966281</td>\n",
              "      <td>0.048649</td>\n",
              "      <td>-0.899871</td>\n",
              "      <td>-0.890862</td>\n",
              "      <td>0.711969</td>\n",
              "      <td>0.979263</td>\n",
              "      <td>1.000000</td>\n",
              "      <td>-0.966795</td>\n",
              "      <td>-0.899871</td>\n",
              "      <td>-0.899871</td>\n",
              "    </tr>\n",
              "    <tr>\n",
              "      <th>int_rate</th>\n",
              "      <td>-0.997169</td>\n",
              "      <td>-0.035006</td>\n",
              "      <td>0.950322</td>\n",
              "      <td>0.937709</td>\n",
              "      <td>-0.656371</td>\n",
              "      <td>-0.955868</td>\n",
              "      <td>-0.966795</td>\n",
              "      <td>1.000000</td>\n",
              "      <td>0.950322</td>\n",
              "      <td>0.950322</td>\n",
              "    </tr>\n",
              "    <tr>\n",
              "      <th>default_rate</th>\n",
              "      <td>-0.939511</td>\n",
              "      <td>0.077992</td>\n",
              "      <td>1.000000</td>\n",
              "      <td>0.967310</td>\n",
              "      <td>-0.601544</td>\n",
              "      <td>-0.889429</td>\n",
              "      <td>-0.899871</td>\n",
              "      <td>0.950322</td>\n",
              "      <td>1.000000</td>\n",
              "      <td>1.000000</td>\n",
              "    </tr>\n",
              "    <tr>\n",
              "      <th>actual_default_rate</th>\n",
              "      <td>-0.939511</td>\n",
              "      <td>0.077992</td>\n",
              "      <td>1.000000</td>\n",
              "      <td>0.967310</td>\n",
              "      <td>-0.601544</td>\n",
              "      <td>-0.889429</td>\n",
              "      <td>-0.899871</td>\n",
              "      <td>0.950322</td>\n",
              "      <td>1.000000</td>\n",
              "      <td>1.000000</td>\n",
              "    </tr>\n",
              "  </tbody>\n",
              "</table>\n",
              "</div>"
            ],
            "text/plain": [
              "                     fico_score  loan_total  ...  default_rate  actual_default_rate\n",
              "fico_score             1.000000    0.043243  ...     -0.939511            -0.939511\n",
              "loan_total             0.043243    1.000000  ...      0.077992             0.077992\n",
              "default_total         -0.939511    0.077992  ...      1.000000             1.000000\n",
              "dti                   -0.936422    0.029344  ...      0.967310             0.967310\n",
              "avg_loan_amnt          0.661261   -0.344916  ...     -0.601544            -0.601544\n",
              "median_annual_inc      0.956772    0.035934  ...     -0.889429            -0.889429\n",
              "avg_annual_inc         0.966281    0.048649  ...     -0.899871            -0.899871\n",
              "int_rate              -0.997169   -0.035006  ...      0.950322             0.950322\n",
              "default_rate          -0.939511    0.077992  ...      1.000000             1.000000\n",
              "actual_default_rate   -0.939511    0.077992  ...      1.000000             1.000000\n",
              "\n",
              "[10 rows x 10 columns]"
            ]
          },
          "metadata": {
            "tags": []
          },
          "execution_count": 30
        }
      ]
    },
    {
      "cell_type": "code",
      "metadata": {
        "id": "PJCRfNKLMm41",
        "colab_type": "code",
        "colab": {
          "base_uri": "https://localhost:8080/",
          "height": 297
        },
        "outputId": "2efa7498-64f2-4371-c771-a45c777c5083"
      },
      "source": [
        "sns.distplot(loan_df['median_annual_inc'],hist=True)"
      ],
      "execution_count": 31,
      "outputs": [
        {
          "output_type": "execute_result",
          "data": {
            "text/plain": [
              "<matplotlib.axes._subplots.AxesSubplot at 0x7f46a7bfccc0>"
            ]
          },
          "metadata": {
            "tags": []
          },
          "execution_count": 31
        },
        {
          "output_type": "display_data",
          "data": {
            "image/png": "[encoded data removed]",
            "text/plain": [
              "<Figure size 432x288 with 1 Axes>"
            ]
          },
          "metadata": {
            "tags": [],
            "needs_background": "light"
          }
        }
      ]
    },
    {
      "cell_type": "code",
      "metadata": {
        "id": "RAk9nM_ZMm19",
        "colab_type": "code",
        "colab": {
          "base_uri": "https://localhost:8080/",
          "height": 111
        },
        "outputId": "7db04e61-82ac-47b4-fd3e-ab2526de29a0"
      },
      "source": [
        "loan_df[['fico_score','median_annual_inc']].corr('spearman')"
      ],
      "execution_count": 32,
      "outputs": [
        {
          "output_type": "execute_result",
          "data": {
            "text/html": [
              "<div>\n",
              "<style scoped>\n",
              "    .dataframe tbody tr th:only-of-type {\n",
              "        vertical-align: middle;\n",
              "    }\n",
              "\n",
              "    .dataframe tbody tr th {\n",
              "        vertical-align: top;\n",
              "    }\n",
              "\n",
              "    .dataframe thead th {\n",
              "        text-align: right;\n",
              "    }\n",
              "</style>\n",
              "<table border=\"1\" class=\"dataframe\">\n",
              "  <thead>\n",
              "    <tr style=\"text-align: right;\">\n",
              "      <th></th>\n",
              "      <th>fico_score</th>\n",
              "      <th>median_annual_inc</th>\n",
              "    </tr>\n",
              "  </thead>\n",
              "  <tbody>\n",
              "    <tr>\n",
              "      <th>fico_score</th>\n",
              "      <td>1.000000</td>\n",
              "      <td>0.956772</td>\n",
              "    </tr>\n",
              "    <tr>\n",
              "      <th>median_annual_inc</th>\n",
              "      <td>0.956772</td>\n",
              "      <td>1.000000</td>\n",
              "    </tr>\n",
              "  </tbody>\n",
              "</table>\n",
              "</div>"
            ],
            "text/plain": [
              "                   fico_score  median_annual_inc\n",
              "fico_score           1.000000           0.956772\n",
              "median_annual_inc    0.956772           1.000000"
            ]
          },
          "metadata": {
            "tags": []
          },
          "execution_count": 32
        }
      ]
    },
    {
      "cell_type": "code",
      "metadata": {
        "id": "YOpQuxi2MmxN",
        "colab_type": "code",
        "colab": {
          "base_uri": "https://localhost:8080/",
          "height": 300
        },
        "outputId": "266eac9c-23f3-451c-94d5-2b6aa1f17323"
      },
      "source": [
        "sns.regplot(x= 'fico_score',y='median_annual_inc',data=loan_df)"
      ],
      "execution_count": 33,
      "outputs": [
        {
          "output_type": "execute_result",
          "data": {
            "text/plain": [
              "<matplotlib.axes._subplots.AxesSubplot at 0x7f46a7b19518>"
            ]
          },
          "metadata": {
            "tags": []
          },
          "execution_count": 33
        },
        {
          "output_type": "display_data",
          "data": {
            "image/png": "[encoded data removed]",
            "text/plain": [
              "<Figure size 432x288 with 1 Axes>"
            ]
          },
          "metadata": {
            "tags": [],
            "needs_background": "light"
          }
        }
      ]
    },
    {
      "cell_type": "code",
      "metadata": {
        "id": "HoywC7hKSjup",
        "colab_type": "code",
        "colab": {
          "base_uri": "https://localhost:8080/",
          "height": 111
        },
        "outputId": "34c5972e-3bd5-4bc5-8969-9a29d7fb8a28"
      },
      "source": [
        "loan_df[['fico_score','avg_annual_inc']].corr('spearman')"
      ],
      "execution_count": 34,
      "outputs": [
        {
          "output_type": "execute_result",
          "data": {
            "text/html": [
              "<div>\n",
              "<style scoped>\n",
              "    .dataframe tbody tr th:only-of-type {\n",
              "        vertical-align: middle;\n",
              "    }\n",
              "\n",
              "    .dataframe tbody tr th {\n",
              "        vertical-align: top;\n",
              "    }\n",
              "\n",
              "    .dataframe thead th {\n",
              "        text-align: right;\n",
              "    }\n",
              "</style>\n",
              "<table border=\"1\" class=\"dataframe\">\n",
              "  <thead>\n",
              "    <tr style=\"text-align: right;\">\n",
              "      <th></th>\n",
              "      <th>fico_score</th>\n",
              "      <th>avg_annual_inc</th>\n",
              "    </tr>\n",
              "  </thead>\n",
              "  <tbody>\n",
              "    <tr>\n",
              "      <th>fico_score</th>\n",
              "      <td>1.000000</td>\n",
              "      <td>0.966281</td>\n",
              "    </tr>\n",
              "    <tr>\n",
              "      <th>avg_annual_inc</th>\n",
              "      <td>0.966281</td>\n",
              "      <td>1.000000</td>\n",
              "    </tr>\n",
              "  </tbody>\n",
              "</table>\n",
              "</div>"
            ],
            "text/plain": [
              "                fico_score  avg_annual_inc\n",
              "fico_score        1.000000        0.966281\n",
              "avg_annual_inc    0.966281        1.000000"
            ]
          },
          "metadata": {
            "tags": []
          },
          "execution_count": 34
        }
      ]
    },
    {
      "cell_type": "code",
      "metadata": {
        "id": "gB4YsTqATYuF",
        "colab_type": "code",
        "colab": {
          "base_uri": "https://localhost:8080/",
          "height": 299
        },
        "outputId": "ddfe66ca-b0cf-46d6-d0b9-90df4f2d8f04"
      },
      "source": [
        "sns.regplot(x= 'fico_score',y= 'avg_annual_inc',data= loan_df)"
      ],
      "execution_count": 35,
      "outputs": [
        {
          "output_type": "execute_result",
          "data": {
            "text/plain": [
              "<matplotlib.axes._subplots.AxesSubplot at 0x7f46a7a95198>"
            ]
          },
          "metadata": {
            "tags": []
          },
          "execution_count": 35
        },
        {
          "output_type": "display_data",
          "data": {
            "image/png": "[encoded data removed]",
            "text/plain": [
              "<Figure size 432x288 with 1 Axes>"
            ]
          },
          "metadata": {
            "tags": [],
            "needs_background": "light"
          }
        }
      ]
    },
    {
      "cell_type": "code",
      "metadata": {
        "id": "7-oM2POfTYsE",
        "colab_type": "code",
        "colab": {
          "base_uri": "https://localhost:8080/",
          "height": 111
        },
        "outputId": "263b9658-5db5-4599-a2e0-e449457e780f"
      },
      "source": [
        "loan_df[['fico_score','dti']].corr('spearman')"
      ],
      "execution_count": 36,
      "outputs": [
        {
          "output_type": "execute_result",
          "data": {
            "text/html": [
              "<div>\n",
              "<style scoped>\n",
              "    .dataframe tbody tr th:only-of-type {\n",
              "        vertical-align: middle;\n",
              "    }\n",
              "\n",
              "    .dataframe tbody tr th {\n",
              "        vertical-align: top;\n",
              "    }\n",
              "\n",
              "    .dataframe thead th {\n",
              "        text-align: right;\n",
              "    }\n",
              "</style>\n",
              "<table border=\"1\" class=\"dataframe\">\n",
              "  <thead>\n",
              "    <tr style=\"text-align: right;\">\n",
              "      <th></th>\n",
              "      <th>fico_score</th>\n",
              "      <th>dti</th>\n",
              "    </tr>\n",
              "  </thead>\n",
              "  <tbody>\n",
              "    <tr>\n",
              "      <th>fico_score</th>\n",
              "      <td>1.000000</td>\n",
              "      <td>-0.936422</td>\n",
              "    </tr>\n",
              "    <tr>\n",
              "      <th>dti</th>\n",
              "      <td>-0.936422</td>\n",
              "      <td>1.000000</td>\n",
              "    </tr>\n",
              "  </tbody>\n",
              "</table>\n",
              "</div>"
            ],
            "text/plain": [
              "            fico_score       dti\n",
              "fico_score    1.000000 -0.936422\n",
              "dti          -0.936422  1.000000"
            ]
          },
          "metadata": {
            "tags": []
          },
          "execution_count": 36
        }
      ]
    },
    {
      "cell_type": "code",
      "metadata": {
        "id": "w45fZxmZTYoh",
        "colab_type": "code",
        "colab": {
          "base_uri": "https://localhost:8080/",
          "height": 297
        },
        "outputId": "74e7ad3c-c156-44fd-c938-7a72aa0f1389"
      },
      "source": [
        "sns.regplot(x= 'fico_score',y= 'dti',data= loan_df)# negative correaltion "
      ],
      "execution_count": 37,
      "outputs": [
        {
          "output_type": "execute_result",
          "data": {
            "text/plain": [
              "<matplotlib.axes._subplots.AxesSubplot at 0x7f46a7a955f8>"
            ]
          },
          "metadata": {
            "tags": []
          },
          "execution_count": 37
        },
        {
          "output_type": "display_data",
          "data": {
            "image/png": "[encoded data removed]",
            "text/plain": [
              "<Figure size 432x288 with 1 Axes>"
            ]
          },
          "metadata": {
            "tags": [],
            "needs_background": "light"
          }
        }
      ]
    },
    {
      "cell_type": "code",
      "metadata": {
        "id": "Gm9xqqY6TYkF",
        "colab_type": "code",
        "colab": {
          "base_uri": "https://localhost:8080/",
          "height": 111
        },
        "outputId": "85c8fe32-7b03-477b-c329-fcb406fe0bd8"
      },
      "source": [
        "loan_df[['fico_score','int_rate']].corr('spearman')"
      ],
      "execution_count": 38,
      "outputs": [
        {
          "output_type": "execute_result",
          "data": {
            "text/html": [
              "<div>\n",
              "<style scoped>\n",
              "    .dataframe tbody tr th:only-of-type {\n",
              "        vertical-align: middle;\n",
              "    }\n",
              "\n",
              "    .dataframe tbody tr th {\n",
              "        vertical-align: top;\n",
              "    }\n",
              "\n",
              "    .dataframe thead th {\n",
              "        text-align: right;\n",
              "    }\n",
              "</style>\n",
              "<table border=\"1\" class=\"dataframe\">\n",
              "  <thead>\n",
              "    <tr style=\"text-align: right;\">\n",
              "      <th></th>\n",
              "      <th>fico_score</th>\n",
              "      <th>int_rate</th>\n",
              "    </tr>\n",
              "  </thead>\n",
              "  <tbody>\n",
              "    <tr>\n",
              "      <th>fico_score</th>\n",
              "      <td>1.000000</td>\n",
              "      <td>-0.997169</td>\n",
              "    </tr>\n",
              "    <tr>\n",
              "      <th>int_rate</th>\n",
              "      <td>-0.997169</td>\n",
              "      <td>1.000000</td>\n",
              "    </tr>\n",
              "  </tbody>\n",
              "</table>\n",
              "</div>"
            ],
            "text/plain": [
              "            fico_score  int_rate\n",
              "fico_score    1.000000 -0.997169\n",
              "int_rate     -0.997169  1.000000"
            ]
          },
          "metadata": {
            "tags": []
          },
          "execution_count": 38
        }
      ]
    },
    {
      "cell_type": "code",
      "metadata": {
        "id": "Tjy9fru8TYfh",
        "colab_type": "code",
        "colab": {
          "base_uri": "https://localhost:8080/",
          "height": 297
        },
        "outputId": "8fcdc37d-e231-4b6f-c978-03dade372880"
      },
      "source": [
        "sns.regplot(x= 'fico_score',y= 'int_rate',data= loan_df)# negative correaltion"
      ],
      "execution_count": 39,
      "outputs": [
        {
          "output_type": "execute_result",
          "data": {
            "text/plain": [
              "<matplotlib.axes._subplots.AxesSubplot at 0x7f46a79f1e10>"
            ]
          },
          "metadata": {
            "tags": []
          },
          "execution_count": 39
        },
        {
          "output_type": "display_data",
          "data": {
            "image/png": "[encoded data removed]",
            "text/plain": [
              "<Figure size 432x288 with 1 Axes>"
            ]
          },
          "metadata": {
            "tags": [],
            "needs_background": "light"
          }
        }
      ]
    },
    {
      "cell_type": "code",
      "metadata": {
        "id": "7j_LEq9MUR1X",
        "colab_type": "code",
        "colab": {
          "base_uri": "https://localhost:8080/",
          "height": 297
        },
        "outputId": "4bc21f4a-6cc0-4955-d573-cc8413627ad1"
      },
      "source": [
        "sns.distplot(loan_df['int_rate'],hist = True)"
      ],
      "execution_count": 40,
      "outputs": [
        {
          "output_type": "execute_result",
          "data": {
            "text/plain": [
              "<matplotlib.axes._subplots.AxesSubplot at 0x7f46a7994d30>"
            ]
          },
          "metadata": {
            "tags": []
          },
          "execution_count": 40
        },
        {
          "output_type": "display_data",
          "data": {
            "image/png": "[encoded data removed]",
            "text/plain": [
              "<Figure size 432x288 with 1 Axes>"
            ]
          },
          "metadata": {
            "tags": [],
            "needs_background": "light"
          }
        }
      ]
    },
    {
      "cell_type": "code",
      "metadata": {
        "id": "SgesJxS6URtw",
        "colab_type": "code",
        "colab": {
          "base_uri": "https://localhost:8080/",
          "height": 297
        },
        "outputId": "83132ffd-6428-4e3a-83fe-3850338fc2f7"
      },
      "source": [
        "sns.distplot(loan_df['int_rate'],hist= True)"
      ],
      "execution_count": 41,
      "outputs": [
        {
          "output_type": "execute_result",
          "data": {
            "text/plain": [
              "<matplotlib.axes._subplots.AxesSubplot at 0x7f46a78cac18>"
            ]
          },
          "metadata": {
            "tags": []
          },
          "execution_count": 41
        },
        {
          "output_type": "display_data",
          "data": {
            "image/png": "[encoded data removed]",
            "text/plain": [
              "<Figure size 432x288 with 1 Axes>"
            ]
          },
          "metadata": {
            "tags": [],
            "needs_background": "light"
          }
        }
      ]
    },
    {
      "cell_type": "code",
      "metadata": {
        "id": "ACZX886lURpq",
        "colab_type": "code",
        "colab": {
          "base_uri": "https://localhost:8080/",
          "height": 584
        },
        "outputId": "9faec35b-526f-43da-fa9a-20233276396e"
      },
      "source": [
        "import scipy.stats as stats\n",
        "stats.probplot(loan_df['int_rate'],dist= 'norm', plot = plt)# to check if data is normaly distibuted or not"
      ],
      "execution_count": 43,
      "outputs": [
        {
          "output_type": "execute_result",
          "data": {
            "text/plain": [
              "((array([-2.07334886, -1.68217954, -1.44830429, -1.27437681, -1.13225357,\n",
              "         -1.00993636, -0.90112151, -0.80205412, -0.71029762, -0.62416759,\n",
              "         -0.54243995, -0.46418751, -0.38868208, -0.31533241, -0.24364313,\n",
              "         -0.17318609, -0.10357945, -0.03447167,  0.03447167,  0.10357945,\n",
              "          0.17318609,  0.24364313,  0.31533241,  0.38868208,  0.46418751,\n",
              "          0.54243995,  0.62416759,  0.71029762,  0.80205412,  0.90112151,\n",
              "          1.00993636,  1.13225357,  1.27437681,  1.44830429,  1.68217954,\n",
              "          2.07334886]),\n",
              "  array([ 7.58556196,  7.96854839,  8.00050755,  8.40436779,  8.81612608,\n",
              "          9.17925418,  9.54207879,  9.94439109, 10.17342593, 10.54704384,\n",
              "         10.83639354, 11.07060021, 11.40585966, 11.84989813, 12.19602541,\n",
              "         12.64158738, 12.99737662, 13.36212073, 13.75097687, 13.84232878,\n",
              "         13.93910593, 13.99130432, 14.13094166, 14.38872081, 14.45885661,\n",
              "         14.56445333, 14.71287103, 14.79158065, 14.83095961, 14.93735761,\n",
              "         15.04821175, 15.27102165, 15.31245098, 15.35228452, 15.4402116 ,\n",
              "         15.44901129])),\n",
              " (2.5196349375983393, 12.520383785694445, 0.9516744621680466))"
            ]
          },
          "metadata": {
            "tags": []
          },
          "execution_count": 43
        },
        {
          "output_type": "display_data",
          "data": {
            "image/png": "[encoded data removed]",
            "text/plain": [
              "<Figure size 432x288 with 1 Axes>"
            ]
          },
          "metadata": {
            "tags": [],
            "needs_background": "light"
          }
        }
      ]
    },
    {
      "cell_type": "code",
      "metadata": {
        "id": "KE6INcxJURki",
        "colab_type": "code",
        "colab": {
          "base_uri": "https://localhost:8080/",
          "height": 111
        },
        "outputId": "23d03d97-5253-401e-d823-781a1f5cc56b"
      },
      "source": [
        "loan_df[['fico_score','loan_total']].corr('spearman')"
      ],
      "execution_count": 44,
      "outputs": [
        {
          "output_type": "execute_result",
          "data": {
            "text/html": [
              "<div>\n",
              "<style scoped>\n",
              "    .dataframe tbody tr th:only-of-type {\n",
              "        vertical-align: middle;\n",
              "    }\n",
              "\n",
              "    .dataframe tbody tr th {\n",
              "        vertical-align: top;\n",
              "    }\n",
              "\n",
              "    .dataframe thead th {\n",
              "        text-align: right;\n",
              "    }\n",
              "</style>\n",
              "<table border=\"1\" class=\"dataframe\">\n",
              "  <thead>\n",
              "    <tr style=\"text-align: right;\">\n",
              "      <th></th>\n",
              "      <th>fico_score</th>\n",
              "      <th>loan_total</th>\n",
              "    </tr>\n",
              "  </thead>\n",
              "  <tbody>\n",
              "    <tr>\n",
              "      <th>fico_score</th>\n",
              "      <td>1.000000</td>\n",
              "      <td>0.043243</td>\n",
              "    </tr>\n",
              "    <tr>\n",
              "      <th>loan_total</th>\n",
              "      <td>0.043243</td>\n",
              "      <td>1.000000</td>\n",
              "    </tr>\n",
              "  </tbody>\n",
              "</table>\n",
              "</div>"
            ],
            "text/plain": [
              "            fico_score  loan_total\n",
              "fico_score    1.000000    0.043243\n",
              "loan_total    0.043243    1.000000"
            ]
          },
          "metadata": {
            "tags": []
          },
          "execution_count": 44
        }
      ]
    },
    {
      "cell_type": "code",
      "metadata": {
        "id": "A2l5cMs0URgq",
        "colab_type": "code",
        "colab": {
          "base_uri": "https://localhost:8080/",
          "height": 297
        },
        "outputId": "f9f4384d-bd02-49a3-fe78-a90f3d21752c"
      },
      "source": [
        "sns.regplot(x= 'fico_score',y='loan_total',data= loan_df) # no correlation "
      ],
      "execution_count": 45,
      "outputs": [
        {
          "output_type": "execute_result",
          "data": {
            "text/plain": [
              "<matplotlib.axes._subplots.AxesSubplot at 0x7f46aa650748>"
            ]
          },
          "metadata": {
            "tags": []
          },
          "execution_count": 45
        },
        {
          "output_type": "display_data",
          "data": {
            "image/png": "[encoded data removed]",
            "text/plain": [
              "<Figure size 432x288 with 1 Axes>"
            ]
          },
          "metadata": {
            "tags": [],
            "needs_background": "light"
          }
        }
      ]
    },
    {
      "cell_type": "code",
      "metadata": {
        "id": "VPkmYm17URc3",
        "colab_type": "code",
        "colab": {
          "base_uri": "https://localhost:8080/",
          "height": 111
        },
        "outputId": "d6d82680-4896-4bcf-ff97-764aa96f7763"
      },
      "source": [
        "loan_df[['fico_score','default_rate']].corr()"
      ],
      "execution_count": 46,
      "outputs": [
        {
          "output_type": "execute_result",
          "data": {
            "text/html": [
              "<div>\n",
              "<style scoped>\n",
              "    .dataframe tbody tr th:only-of-type {\n",
              "        vertical-align: middle;\n",
              "    }\n",
              "\n",
              "    .dataframe tbody tr th {\n",
              "        vertical-align: top;\n",
              "    }\n",
              "\n",
              "    .dataframe thead th {\n",
              "        text-align: right;\n",
              "    }\n",
              "</style>\n",
              "<table border=\"1\" class=\"dataframe\">\n",
              "  <thead>\n",
              "    <tr style=\"text-align: right;\">\n",
              "      <th></th>\n",
              "      <th>fico_score</th>\n",
              "      <th>default_rate</th>\n",
              "    </tr>\n",
              "  </thead>\n",
              "  <tbody>\n",
              "    <tr>\n",
              "      <th>fico_score</th>\n",
              "      <td>1.000000</td>\n",
              "      <td>-0.886782</td>\n",
              "    </tr>\n",
              "    <tr>\n",
              "      <th>default_rate</th>\n",
              "      <td>-0.886782</td>\n",
              "      <td>1.000000</td>\n",
              "    </tr>\n",
              "  </tbody>\n",
              "</table>\n",
              "</div>"
            ],
            "text/plain": [
              "              fico_score  default_rate\n",
              "fico_score      1.000000     -0.886782\n",
              "default_rate   -0.886782      1.000000"
            ]
          },
          "metadata": {
            "tags": []
          },
          "execution_count": 46
        }
      ]
    },
    {
      "cell_type": "code",
      "metadata": {
        "id": "NeyNZaKqirES",
        "colab_type": "code",
        "colab": {
          "base_uri": "https://localhost:8080/",
          "height": 297
        },
        "outputId": "901ab47a-f4ee-4896-eba3-fdc233ca1ff1"
      },
      "source": [
        "sns.regplot(x= 'fico_score',y='default_rate',data=loan_df)#monotonic realtionship, can perform segmentation"
      ],
      "execution_count": 47,
      "outputs": [
        {
          "output_type": "execute_result",
          "data": {
            "text/plain": [
              "<matplotlib.axes._subplots.AxesSubplot at 0x7f46a788f080>"
            ]
          },
          "metadata": {
            "tags": []
          },
          "execution_count": 47
        },
        {
          "output_type": "display_data",
          "data": {
            "image/png": "[encoded data removed]",
            "text/plain": [
              "<Figure size 432x288 with 1 Axes>"
            ]
          },
          "metadata": {
            "tags": [],
            "needs_background": "light"
          }
        }
      ]
    },
    {
      "cell_type": "code",
      "metadata": {
        "id": "axfIz8qPirAZ",
        "colab_type": "code",
        "colab": {
          "base_uri": "https://localhost:8080/",
          "height": 111
        },
        "outputId": "285ac041-0de0-44ee-f6a1-04048d4a51a1"
      },
      "source": [
        "loan_df[['fico_score','default_rate']].corr('spearman')# spearman corr is better in monotonic relationship "
      ],
      "execution_count": 48,
      "outputs": [
        {
          "output_type": "execute_result",
          "data": {
            "text/html": [
              "<div>\n",
              "<style scoped>\n",
              "    .dataframe tbody tr th:only-of-type {\n",
              "        vertical-align: middle;\n",
              "    }\n",
              "\n",
              "    .dataframe tbody tr th {\n",
              "        vertical-align: top;\n",
              "    }\n",
              "\n",
              "    .dataframe thead th {\n",
              "        text-align: right;\n",
              "    }\n",
              "</style>\n",
              "<table border=\"1\" class=\"dataframe\">\n",
              "  <thead>\n",
              "    <tr style=\"text-align: right;\">\n",
              "      <th></th>\n",
              "      <th>fico_score</th>\n",
              "      <th>default_rate</th>\n",
              "    </tr>\n",
              "  </thead>\n",
              "  <tbody>\n",
              "    <tr>\n",
              "      <th>fico_score</th>\n",
              "      <td>1.000000</td>\n",
              "      <td>-0.939511</td>\n",
              "    </tr>\n",
              "    <tr>\n",
              "      <th>default_rate</th>\n",
              "      <td>-0.939511</td>\n",
              "      <td>1.000000</td>\n",
              "    </tr>\n",
              "  </tbody>\n",
              "</table>\n",
              "</div>"
            ],
            "text/plain": [
              "              fico_score  default_rate\n",
              "fico_score      1.000000     -0.939511\n",
              "default_rate   -0.939511      1.000000"
            ]
          },
          "metadata": {
            "tags": []
          },
          "execution_count": 48
        }
      ]
    },
    {
      "cell_type": "code",
      "metadata": {
        "id": "Xr3tmr3Nj4CK",
        "colab_type": "code",
        "colab": {
          "base_uri": "https://localhost:8080/",
          "height": 111
        },
        "outputId": "c4c8432b-d0d4-4ce3-bde9-8ad2a5145629"
      },
      "source": [
        "loan_df[['median_annual_inc','loan_total']].corr('spearman')"
      ],
      "execution_count": 50,
      "outputs": [
        {
          "output_type": "execute_result",
          "data": {
            "text/html": [
              "<div>\n",
              "<style scoped>\n",
              "    .dataframe tbody tr th:only-of-type {\n",
              "        vertical-align: middle;\n",
              "    }\n",
              "\n",
              "    .dataframe tbody tr th {\n",
              "        vertical-align: top;\n",
              "    }\n",
              "\n",
              "    .dataframe thead th {\n",
              "        text-align: right;\n",
              "    }\n",
              "</style>\n",
              "<table border=\"1\" class=\"dataframe\">\n",
              "  <thead>\n",
              "    <tr style=\"text-align: right;\">\n",
              "      <th></th>\n",
              "      <th>median_annual_inc</th>\n",
              "      <th>loan_total</th>\n",
              "    </tr>\n",
              "  </thead>\n",
              "  <tbody>\n",
              "    <tr>\n",
              "      <th>median_annual_inc</th>\n",
              "      <td>1.000000</td>\n",
              "      <td>0.035934</td>\n",
              "    </tr>\n",
              "    <tr>\n",
              "      <th>loan_total</th>\n",
              "      <td>0.035934</td>\n",
              "      <td>1.000000</td>\n",
              "    </tr>\n",
              "  </tbody>\n",
              "</table>\n",
              "</div>"
            ],
            "text/plain": [
              "                   median_annual_inc  loan_total\n",
              "median_annual_inc           1.000000    0.035934\n",
              "loan_total                  0.035934    1.000000"
            ]
          },
          "metadata": {
            "tags": []
          },
          "execution_count": 50
        }
      ]
    },
    {
      "cell_type": "code",
      "metadata": {
        "id": "dQ80-8pAiq4i",
        "colab_type": "code",
        "colab": {
          "base_uri": "https://localhost:8080/",
          "height": 297
        },
        "outputId": "b028e10d-dfcd-42e1-b033-8fc3cea1dec8"
      },
      "source": [
        "sns.regplot(x= 'median_annual_inc',y= 'loan_total',data=loan_df)"
      ],
      "execution_count": 51,
      "outputs": [
        {
          "output_type": "execute_result",
          "data": {
            "text/plain": [
              "<matplotlib.axes._subplots.AxesSubplot at 0x7f46a79c89b0>"
            ]
          },
          "metadata": {
            "tags": []
          },
          "execution_count": 51
        },
        {
          "output_type": "display_data",
          "data": {
            "image/png": "[encoded data removed]",
            "text/plain": [
              "<Figure size 432x288 with 1 Axes>"
            ]
          },
          "metadata": {
            "tags": [],
            "needs_background": "light"
          }
        }
      ]
    },
    {
      "cell_type": "code",
      "metadata": {
        "id": "OGtiarheURZC",
        "colab_type": "code",
        "colab": {
          "base_uri": "https://localhost:8080/",
          "height": 111
        },
        "outputId": "68386745-2dc8-4166-f0f3-26b968463ed6"
      },
      "source": [
        "loan_df[['dti','loan_total']].corr('spearman')"
      ],
      "execution_count": 52,
      "outputs": [
        {
          "output_type": "execute_result",
          "data": {
            "text/html": [
              "<div>\n",
              "<style scoped>\n",
              "    .dataframe tbody tr th:only-of-type {\n",
              "        vertical-align: middle;\n",
              "    }\n",
              "\n",
              "    .dataframe tbody tr th {\n",
              "        vertical-align: top;\n",
              "    }\n",
              "\n",
              "    .dataframe thead th {\n",
              "        text-align: right;\n",
              "    }\n",
              "</style>\n",
              "<table border=\"1\" class=\"dataframe\">\n",
              "  <thead>\n",
              "    <tr style=\"text-align: right;\">\n",
              "      <th></th>\n",
              "      <th>dti</th>\n",
              "      <th>loan_total</th>\n",
              "    </tr>\n",
              "  </thead>\n",
              "  <tbody>\n",
              "    <tr>\n",
              "      <th>dti</th>\n",
              "      <td>1.000000</td>\n",
              "      <td>0.029344</td>\n",
              "    </tr>\n",
              "    <tr>\n",
              "      <th>loan_total</th>\n",
              "      <td>0.029344</td>\n",
              "      <td>1.000000</td>\n",
              "    </tr>\n",
              "  </tbody>\n",
              "</table>\n",
              "</div>"
            ],
            "text/plain": [
              "                 dti  loan_total\n",
              "dti         1.000000    0.029344\n",
              "loan_total  0.029344    1.000000"
            ]
          },
          "metadata": {
            "tags": []
          },
          "execution_count": 52
        }
      ]
    },
    {
      "cell_type": "code",
      "metadata": {
        "id": "XsOjMGgGURQD",
        "colab_type": "code",
        "colab": {
          "base_uri": "https://localhost:8080/",
          "height": 296
        },
        "outputId": "8aa3b418-54d2-4cd5-eb1a-1786804390e6"
      },
      "source": [
        "sns.regplot(x= 'dti',y='loan_total',data=loan_df)# can perform higher order polynomial "
      ],
      "execution_count": 53,
      "outputs": [
        {
          "output_type": "execute_result",
          "data": {
            "text/plain": [
              "<matplotlib.axes._subplots.AxesSubplot at 0x7f46a7627f60>"
            ]
          },
          "metadata": {
            "tags": []
          },
          "execution_count": 53
        },
        {
          "output_type": "display_data",
          "data": {
            "image/png": "[encoded data removed]",
            "text/plain": [
              "<Figure size 432x288 with 1 Axes>"
            ]
          },
          "metadata": {
            "tags": [],
            "needs_background": "light"
          }
        }
      ]
    }
  ]
}