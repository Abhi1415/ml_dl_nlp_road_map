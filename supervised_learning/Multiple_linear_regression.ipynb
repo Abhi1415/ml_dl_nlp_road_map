{
  "nbformat": 4,
  "nbformat_minor": 0,
  "metadata": {
    "colab": {
      "name": "Multiple_linear_regression.ipynb",
      "provenance": []
    },
    "kernelspec": {
      "name": "python3",
      "display_name": "Python 3"
    }
  },
  "cells": [
    {
      "cell_type": "code",
      "metadata": {
        "id": "x9d5osI13iqh",
        "colab_type": "code",
        "colab": {}
      },
      "source": [
        ""
      ],
      "execution_count": 0,
      "outputs": []
    },
    {
      "cell_type": "markdown",
      "metadata": {
        "id": "hWnGZeaV32x2",
        "colab_type": "text"
      },
      "source": [
        "Multiple Linear Regression attempts to model the relationship between two or more features and a response by fitting a linear equation to observed data\n",
        "\n",
        "Assumption of Regression Model :\n",
        "\n",
        "Linearity: The relationship between dependent and independent variables should be linear.\n",
        "\n",
        "Homoscedasticity: Constant variance of the errors should be maintained.\n",
        "\n",
        "Multivariate normality: Multiple Regression assumes that the residuals are normally distributed.\n",
        "\n",
        "Lack of Multicollinearity: It is assumed that there is little or no multicollinearity in the data."
      ]
    },
    {
      "cell_type": "code",
      "metadata": {
        "id": "rfjkgAiD6g2L",
        "colab_type": "code",
        "colab": {}
      },
      "source": [
        "#1 Importing the libraries\n",
        "import numpy as np \n",
        "import pandas as pd\n",
        "import matplotlib.pyplot as plt"
      ],
      "execution_count": 0,
      "outputs": []
    },
    {
      "cell_type": "code",
      "metadata": {
        "id": "pUoUnnd36kZr",
        "colab_type": "code",
        "colab": {}
      },
      "source": [
        "#2 Importing the dataset:\n",
        "dataset = pd.read_csv('https://raw.githubusercontent.com/Uttam580/Machine_learning/master/datasets./50_Startups.csv')"
      ],
      "execution_count": 0,
      "outputs": []
    },
    {
      "cell_type": "code",
      "metadata": {
        "id": "BB2tNZeqDlAE",
        "colab_type": "code",
        "outputId": "c8f0b723-6810-4bea-e1b6-ee50743cf8e5",
        "colab": {
          "base_uri": "https://localhost:8080/",
          "height": 166
        }
      },
      "source": [
        "dataset.head(4)"
      ],
      "execution_count": 3,
      "outputs": [
        {
          "output_type": "execute_result",
          "data": {
            "text/html": [
              "<div>\n",
              "<style scoped>\n",
              "    .dataframe tbody tr th:only-of-type {\n",
              "        vertical-align: middle;\n",
              "    }\n",
              "\n",
              "    .dataframe tbody tr th {\n",
              "        vertical-align: top;\n",
              "    }\n",
              "\n",
              "    .dataframe thead th {\n",
              "        text-align: right;\n",
              "    }\n",
              "</style>\n",
              "<table border=\"1\" class=\"dataframe\">\n",
              "  <thead>\n",
              "    <tr style=\"text-align: right;\">\n",
              "      <th></th>\n",
              "      <th>R&amp;D Spend</th>\n",
              "      <th>Administration</th>\n",
              "      <th>Marketing Spend</th>\n",
              "      <th>State</th>\n",
              "      <th>Profit</th>\n",
              "    </tr>\n",
              "  </thead>\n",
              "  <tbody>\n",
              "    <tr>\n",
              "      <th>0</th>\n",
              "      <td>165349.20</td>\n",
              "      <td>136897.80</td>\n",
              "      <td>471784.10</td>\n",
              "      <td>New York</td>\n",
              "      <td>192261.83</td>\n",
              "    </tr>\n",
              "    <tr>\n",
              "      <th>1</th>\n",
              "      <td>162597.70</td>\n",
              "      <td>151377.59</td>\n",
              "      <td>443898.53</td>\n",
              "      <td>California</td>\n",
              "      <td>191792.06</td>\n",
              "    </tr>\n",
              "    <tr>\n",
              "      <th>2</th>\n",
              "      <td>153441.51</td>\n",
              "      <td>101145.55</td>\n",
              "      <td>407934.54</td>\n",
              "      <td>Florida</td>\n",
              "      <td>191050.39</td>\n",
              "    </tr>\n",
              "    <tr>\n",
              "      <th>3</th>\n",
              "      <td>144372.41</td>\n",
              "      <td>118671.85</td>\n",
              "      <td>383199.62</td>\n",
              "      <td>New York</td>\n",
              "      <td>182901.99</td>\n",
              "    </tr>\n",
              "  </tbody>\n",
              "</table>\n",
              "</div>"
            ],
            "text/plain": [
              "   R&D Spend  Administration  Marketing Spend       State     Profit\n",
              "0  165349.20       136897.80        471784.10    New York  192261.83\n",
              "1  162597.70       151377.59        443898.53  California  191792.06\n",
              "2  153441.51       101145.55        407934.54     Florida  191050.39\n",
              "3  144372.41       118671.85        383199.62    New York  182901.99"
            ]
          },
          "metadata": {
            "tags": []
          },
          "execution_count": 3
        }
      ]
    },
    {
      "cell_type": "code",
      "metadata": {
        "id": "X7LbH2oRDqt-",
        "colab_type": "code",
        "outputId": "5c86af69-adc2-441b-cbc7-3eb4ba473f66",
        "colab": {
          "base_uri": "https://localhost:8080/",
          "height": 84
        }
      },
      "source": [
        "dataset.State.value_counts()"
      ],
      "execution_count": 4,
      "outputs": [
        {
          "output_type": "execute_result",
          "data": {
            "text/plain": [
              "New York      17\n",
              "California    17\n",
              "Florida       16\n",
              "Name: State, dtype: int64"
            ]
          },
          "metadata": {
            "tags": []
          },
          "execution_count": 4
        }
      ]
    },
    {
      "cell_type": "code",
      "metadata": {
        "id": "vglTItFo6knS",
        "colab_type": "code",
        "colab": {}
      },
      "source": [
        "#Y: dependent variable vector\n",
        "#In the first run X’s type is object due to the different types of #independent variables.State column contains categorical variables\n",
        "X= dataset.iloc[:, :-1].values\n",
        "Y=dataset.iloc[:, 4].values"
      ],
      "execution_count": 0,
      "outputs": []
    },
    {
      "cell_type": "code",
      "metadata": {
        "id": "xCeTlDNIDhG0",
        "colab_type": "code",
        "outputId": "79d07610-5fb5-44d5-93ea-56487ad4f71b",
        "colab": {
          "base_uri": "https://localhost:8080/",
          "height": 84
        }
      },
      "source": [
        "X[1:5]"
      ],
      "execution_count": 6,
      "outputs": [
        {
          "output_type": "execute_result",
          "data": {
            "text/plain": [
              "array([[162597.7, 151377.59, 443898.53, 'California'],\n",
              "       [153441.51, 101145.55, 407934.54, 'Florida'],\n",
              "       [144372.41, 118671.85, 383199.62, 'New York'],\n",
              "       [142107.34, 91391.77, 366168.42, 'Florida']], dtype=object)"
            ]
          },
          "metadata": {
            "tags": []
          },
          "execution_count": 6
        }
      ]
    },
    {
      "cell_type": "code",
      "metadata": {
        "id": "nGWrUQKa0Xm6",
        "colab_type": "code",
        "colab": {
          "base_uri": "https://localhost:8080/",
          "height": 300
        },
        "outputId": "16254460-e87f-47ed-f65e-5da1101e9f9c"
      },
      "source": [
        "plt.scatter(dataset['R&D Spend'], dataset['Profit'], color='red')\n",
        "plt.title('R & D spend vs Profit', fontsize=14)\n",
        "plt.xlabel('R & D spend', fontsize=14)\n",
        "plt.ylabel('Profit', fontsize=14)\n",
        "plt.grid(True)\n",
        "plt.show()"
      ],
      "execution_count": 62,
      "outputs": [
        {
          "output_type": "display_data",
          "data": {
            "image/png": "[encoded data removed]",
            "text/plain": [
              "<Figure size 432x288 with 1 Axes>"
            ]
          },
          "metadata": {
            "tags": [],
            "needs_background": "light"
          }
        }
      ]
    },
    {
      "cell_type": "code",
      "metadata": {
        "id": "GXhT0Oax6kps",
        "colab_type": "code",
        "colab": {}
      },
      "source": [
        "#3 Encoding the categorical variables:\n",
        "from sklearn.preprocessing import LabelEncoder, OneHotEncoder\n",
        "from sklearn.compose import ColumnTransformer\n",
        "#turn the numbers to dummy variables. Each column represents one #state compare the X and dataset tables to understand the #relationship between the state and the columns\n",
        "ct = ColumnTransformer(transformers=[('encoder', OneHotEncoder(), [3])], remainder='passthrough')#(name, object, column)\n",
        "X = np.array(ct.fit_transform(X))\n",
        "X= X[:,1:]# to avoid dummy variable trap"
      ],
      "execution_count": 0,
      "outputs": []
    },
    {
      "cell_type": "code",
      "metadata": {
        "id": "_r3HC6aU-qQb",
        "colab_type": "code",
        "outputId": "5e19258d-0991-422c-ac46-20476ec9819f",
        "colab": {
          "base_uri": "https://localhost:8080/",
          "height": 84
        }
      },
      "source": [
        "X[1:5]"
      ],
      "execution_count": 8,
      "outputs": [
        {
          "output_type": "execute_result",
          "data": {
            "text/plain": [
              "array([[0.0, 0.0, 162597.7, 151377.59, 443898.53],\n",
              "       [1.0, 0.0, 153441.51, 101145.55, 407934.54],\n",
              "       [0.0, 1.0, 144372.41, 118671.85, 383199.62],\n",
              "       [1.0, 0.0, 142107.34, 91391.77, 366168.42]], dtype=object)"
            ]
          },
          "metadata": {
            "tags": []
          },
          "execution_count": 8
        }
      ]
    },
    {
      "cell_type": "code",
      "metadata": {
        "id": "3hIOKS8f6kzH",
        "colab_type": "code",
        "colab": {}
      },
      "source": [
        "#5 Splitting the dataset into the Training and Test dataset\n",
        "#train_set_split: Split arrays or matrices into random train and #test subsets. %20 of the dataset to the test set\n",
        "from sklearn.model_selection import train_test_split\n",
        "X_train, X_test, Y_train, Y_test = train_test_split( X, Y, test_size=0.2, random_state=0)"
      ],
      "execution_count": 0,
      "outputs": []
    },
    {
      "cell_type": "code",
      "metadata": {
        "id": "-cHOMGoz6ktx",
        "colab_type": "code",
        "outputId": "52c103cc-0c00-4a3e-bfcd-b9fe830de871",
        "colab": {
          "base_uri": "https://localhost:8080/",
          "height": 34
        }
      },
      "source": [
        "#6 Fit multiple Linear Regression model to our Train set\n",
        "from sklearn.linear_model import LinearRegression\n",
        "#Create an object called regressor in the LinearRegression class…\n",
        "regressor = LinearRegression()\n",
        "#Fit the linear regression model to the training set… We use the fit #method the arguments of the fit method will be training sets\n",
        " \n",
        "regressor.fit(X_train,Y_train)\n"
      ],
      "execution_count": 10,
      "outputs": [
        {
          "output_type": "execute_result",
          "data": {
            "text/plain": [
              "LinearRegression(copy_X=True, fit_intercept=True, n_jobs=None, normalize=False)"
            ]
          },
          "metadata": {
            "tags": []
          },
          "execution_count": 10
        }
      ]
    },
    {
      "cell_type": "code",
      "metadata": {
        "id": "yaFKJsFd6krw",
        "colab_type": "code",
        "colab": {}
      },
      "source": [
        "#7 Predicting the Test set results:\n",
        "Y_pred= regressor.predict(X_test)"
      ],
      "execution_count": 0,
      "outputs": []
    },
    {
      "cell_type": "code",
      "metadata": {
        "id": "wjd9mX9o9l78",
        "colab_type": "code",
        "outputId": "6920081c-8e61-4b39-a564-86a366257d45",
        "colab": {
          "base_uri": "https://localhost:8080/",
          "height": 185
        }
      },
      "source": [
        "print(np.concatenate((Y_pred.reshape(len(Y_pred),1), Y_test.reshape(len(Y_test),1)),1))"
      ],
      "execution_count": 12,
      "outputs": [
        {
          "output_type": "stream",
          "text": [
            "[[103015.20159796 103282.38      ]\n",
            " [132582.27760816 144259.4       ]\n",
            " [132447.73845175 146121.95      ]\n",
            " [ 71976.09851259  77798.83      ]\n",
            " [178537.48221054 191050.39      ]\n",
            " [116161.24230163 105008.31      ]\n",
            " [ 67851.69209676  81229.06      ]\n",
            " [ 98791.73374688  97483.56      ]\n",
            " [113969.43533012 110352.25      ]\n",
            " [167921.0656955  166187.94      ]]\n"
          ],
          "name": "stdout"
        }
      ]
    },
    {
      "cell_type": "code",
      "metadata": {
        "id": "a_ihuGs4DY8X",
        "colab_type": "code",
        "colab": {}
      },
      "source": [
        "# model evaluation\n",
        "from sklearn.metrics import mean_squared_error, r2_score\n",
        "rmse = mean_squared_error(Y_test, Y_pred)"
      ],
      "execution_count": 0,
      "outputs": []
    },
    {
      "cell_type": "code",
      "metadata": {
        "id": "ccOU3hZxDZAQ",
        "colab_type": "code",
        "colab": {}
      },
      "source": [
        "r2 =r2_score(Y_test, Y_pred)\n"
      ],
      "execution_count": 0,
      "outputs": []
    },
    {
      "cell_type": "code",
      "metadata": {
        "id": "VcpQPcAbDZEI",
        "colab_type": "code",
        "outputId": "38924c55-389a-45cd-831c-f1446a69a472",
        "colab": {
          "base_uri": "https://localhost:8080/",
          "height": 101
        }
      },
      "source": [
        "# printing values\n",
        "print('Slope:' ,regressor.coef_)\n",
        "print('Intercept:', regressor.intercept_)\n",
        "print('Root mean squared error: ', rmse)\n",
        "print('R2 score: ', r2)"
      ],
      "execution_count": 15,
      "outputs": [
        {
          "output_type": "stream",
          "text": [
            "Slope: [-9.59284160e+02  6.99369053e+02  7.73467193e-01  3.28845975e-02\n",
            "  3.66100259e-02]\n",
            "Intercept: 42554.167617767\n",
            "Root mean squared error:  83502864.03250548\n",
            "R2 score:  0.9347068473282987\n"
          ],
          "name": "stdout"
        }
      ]
    },
    {
      "cell_type": "markdown",
      "metadata": {
        "id": "3esYVo1xHCDm",
        "colab_type": "text"
      },
      "source": [
        "**Method of Building Models :**\n",
        "\n",
        "All-in\n",
        "\n",
        "Backward-Elimination\n",
        "\n",
        "Forward Selection\n",
        "\n",
        "Bidirectional Elimination\n",
        "\n",
        "Score Comparison"
      ]
    },
    {
      "cell_type": "markdown",
      "metadata": {
        "id": "omZlRxXVHUyv",
        "colab_type": "text"
      },
      "source": [
        "**Backward Elimination**\n",
        " \n",
        " The features have little impact on the result. So that it should be eliminated some of the independent variables to prevent the shadow on the output. We build the optimal model using Backward Elimination\n"
      ]
    },
    {
      "cell_type": "code",
      "metadata": {
        "id": "5Klo7k4eDZGk",
        "colab_type": "code",
        "outputId": "80b17341-bbe0-4fba-a53b-62f7c4abc9b9",
        "colab": {
          "base_uri": "https://localhost:8080/",
          "height": 70
        }
      },
      "source": [
        "import statsmodels.api as sm"
      ],
      "execution_count": 16,
      "outputs": [
        {
          "output_type": "stream",
          "text": [
            "/usr/local/lib/python3.6/dist-packages/statsmodels/tools/_testing.py:19: FutureWarning: pandas.util.testing is deprecated. Use the functions in the public API at pandas.testing instead.\n",
            "  import pandas.util.testing as tm\n"
          ],
          "name": "stderr"
        }
      ]
    },
    {
      "cell_type": "markdown",
      "metadata": {
        "id": "yIEcrQvZuVyL",
        "colab_type": "text"
      },
      "source": [
        "![alt text](https://miro.medium.com/max/1400/1*Jub_nEYtN0htxFpTRzRtBQ.png)"
      ]
    },
    {
      "cell_type": "code",
      "metadata": {
        "id": "Lhdng_yYDZJw",
        "colab_type": "code",
        "colab": {}
      },
      "source": [
        "#The 0th column contains only 1 in each 50 rows\n",
        "#Beta0 has x0=1. Add a column of for the the first term of the #MultiLinear Regression equation.\n",
        "X= np.append(arr = np.ones((50,1)).astype(int), values = X, axis=1) "
      ],
      "execution_count": 0,
      "outputs": []
    },
    {
      "cell_type": "code",
      "metadata": {
        "id": "xDacqNW4DZL8",
        "colab_type": "code",
        "outputId": "e71412d4-4b80-41d3-bd49-63516b862cc2",
        "colab": {
          "base_uri": "https://localhost:8080/",
          "height": 50
        }
      },
      "source": [
        "X[1:3]"
      ],
      "execution_count": 18,
      "outputs": [
        {
          "output_type": "execute_result",
          "data": {
            "text/plain": [
              "array([[1, 0.0, 0.0, 162597.7, 151377.59, 443898.53],\n",
              "       [1, 1.0, 0.0, 153441.51, 101145.55, 407934.54]], dtype=object)"
            ]
          },
          "metadata": {
            "tags": []
          },
          "execution_count": 18
        }
      ]
    },
    {
      "cell_type": "code",
      "metadata": {
        "id": "y49jw_ebl2NN",
        "colab_type": "code",
        "colab": {
          "base_uri": "https://localhost:8080/",
          "height": 34
        },
        "outputId": "7bde6e0b-619c-408f-d2a1-64a78c8b66ef"
      },
      "source": [
        "X.dtype"
      ],
      "execution_count": 39,
      "outputs": [
        {
          "output_type": "execute_result",
          "data": {
            "text/plain": [
              "dtype('O')"
            ]
          },
          "metadata": {
            "tags": []
          },
          "execution_count": 39
        }
      ]
    },
    {
      "cell_type": "code",
      "metadata": {
        "id": "kev2o5Fql99e",
        "colab_type": "code",
        "colab": {}
      },
      "source": [
        " X1= X.astype(np.float64)"
      ],
      "execution_count": 0,
      "outputs": []
    },
    {
      "cell_type": "code",
      "metadata": {
        "id": "OtTXXf2ZmDOH",
        "colab_type": "code",
        "colab": {
          "base_uri": "https://localhost:8080/",
          "height": 50
        },
        "outputId": "bb666db6-43d9-456b-b35d-1021a664e8f2"
      },
      "source": [
        "X1[1:2]"
      ],
      "execution_count": 34,
      "outputs": [
        {
          "output_type": "execute_result",
          "data": {
            "text/plain": [
              "array([[1.0000000e+00, 0.0000000e+00, 0.0000000e+00, 1.6259770e+05,\n",
              "        1.5137759e+05, 4.4389853e+05]])"
            ]
          },
          "metadata": {
            "tags": []
          },
          "execution_count": 34
        }
      ]
    },
    {
      "cell_type": "code",
      "metadata": {
        "id": "dUPB0yUJlkE-",
        "colab_type": "code",
        "colab": {
          "base_uri": "https://localhost:8080/",
          "height": 34
        },
        "outputId": "b8507fba-e0d1-497b-84cf-8e2bfbbde413"
      },
      "source": [
        "X1.dtype"
      ],
      "execution_count": 38,
      "outputs": [
        {
          "output_type": "execute_result",
          "data": {
            "text/plain": [
              "dtype('float64')"
            ]
          },
          "metadata": {
            "tags": []
          },
          "execution_count": 38
        }
      ]
    },
    {
      "cell_type": "markdown",
      "metadata": {
        "id": "E1GROegY0BL1",
        "colab_type": "text"
      },
      "source": [
        "![alt text](https://lh3.googleusercontent.com/proxy/YzhGo7jYEMNz03XgFIVVfiyhM28hZd9Dwq0noYnTe07CU-4xtxS3gold-kAH_-iBmg8HY9nq2qIFtOnb8BFKx72NPaDLBjUQ1TeeHWc2mb-Fl79YguYuZNqVYEfM)"
      ]
    },
    {
      "cell_type": "code",
      "metadata": {
        "id": "GadxlyMrDZCi",
        "colab_type": "code",
        "outputId": "bd06d517-6c70-43f4-b1d7-b11b8601eab5",
        "colab": {
          "base_uri": "https://localhost:8080/",
          "height": 538
        }
      },
      "source": [
        "#Optimal X contains the highly impacted independent variables\n",
        "#OLS: Oridnary Least Square Class. endog is the dependent variable, #exog is the number of observations\n",
        "X_opt = X1[:,[0,1,2,3,4,5]]\n",
        "ols = sm.OLS(endog=Y, exog=X_opt).fit()\n",
        "print(ols.summary())"
      ],
      "execution_count": 36,
      "outputs": [
        {
          "output_type": "stream",
          "text": [
            "                            OLS Regression Results                            \n",
            "==============================================================================\n",
            "Dep. Variable:                      y   R-squared:                       0.951\n",
            "Model:                            OLS   Adj. R-squared:                  0.945\n",
            "Method:                 Least Squares   F-statistic:                     169.9\n",
            "Date:                Sat, 06 Jun 2020   Prob (F-statistic):           1.34e-27\n",
            "Time:                        03:13:21   Log-Likelihood:                -525.38\n",
            "No. Observations:                  50   AIC:                             1063.\n",
            "Df Residuals:                      44   BIC:                             1074.\n",
            "Df Model:                           5                                         \n",
            "Covariance Type:            nonrobust                                         \n",
            "==============================================================================\n",
            "                 coef    std err          t      P>|t|      [0.025      0.975]\n",
            "------------------------------------------------------------------------------\n",
            "const       5.013e+04   6884.820      7.281      0.000    3.62e+04     6.4e+04\n",
            "x1           198.7888   3371.007      0.059      0.953   -6595.030    6992.607\n",
            "x2           -41.8870   3256.039     -0.013      0.990   -6604.003    6520.229\n",
            "x3             0.8060      0.046     17.369      0.000       0.712       0.900\n",
            "x4            -0.0270      0.052     -0.517      0.608      -0.132       0.078\n",
            "x5             0.0270      0.017      1.574      0.123      -0.008       0.062\n",
            "==============================================================================\n",
            "Omnibus:                       14.782   Durbin-Watson:                   1.283\n",
            "Prob(Omnibus):                  0.001   Jarque-Bera (JB):               21.266\n",
            "Skew:                          -0.948   Prob(JB):                     2.41e-05\n",
            "Kurtosis:                       5.572   Cond. No.                     1.45e+06\n",
            "==============================================================================\n",
            "\n",
            "Warnings:\n",
            "[1] Standard Errors assume that the covariance matrix of the errors is correctly specified.\n",
            "[2] The condition number is large, 1.45e+06. This might indicate that there are\n",
            "strong multicollinearity or other numerical problems.\n"
          ],
          "name": "stdout"
        }
      ]
    },
    {
      "cell_type": "markdown",
      "metadata": {
        "id": "mlAxv8M9rmW3",
        "colab_type": "text"
      },
      "source": [
        "x1, x2 are dummy variables, x3 is R&D spend, x4 is Administration spend, and x5 is Marketing spend.\n",
        "\n",
        "we will choose the highest p-value, which is for x1=0.953 Now, we have the highest p-value which is greater than the SL value, so will remove the x1 variable (dummy variable) from the table and will refit the model. Below is the code for i"
      ]
    },
    {
      "cell_type": "code",
      "metadata": {
        "id": "chpEqDSGDY-e",
        "colab_type": "code",
        "colab": {
          "base_uri": "https://localhost:8080/",
          "height": 521
        },
        "outputId": "f3952b21-e0bd-4941-d907-c205b8b2da5d"
      },
      "source": [
        "X_opt=X1[:, [0,2,3,4,5]]  \n",
        "regressor_OLS=sm.OLS(endog = Y, exog=X_opt).fit()  \n",
        "print(regressor_OLS.summary()"
      ],
      "execution_count": 41,
      "outputs": [
        {
          "output_type": "stream",
          "text": [
            "                            OLS Regression Results                            \n",
            "==============================================================================\n",
            "Dep. Variable:                      y   R-squared:                       0.951\n",
            "Model:                            OLS   Adj. R-squared:                  0.946\n",
            "Method:                 Least Squares   F-statistic:                     217.2\n",
            "Date:                Sat, 06 Jun 2020   Prob (F-statistic):           8.50e-29\n",
            "Time:                        03:33:34   Log-Likelihood:                -525.38\n",
            "No. Observations:                  50   AIC:                             1061.\n",
            "Df Residuals:                      45   BIC:                             1070.\n",
            "Df Model:                           4                                         \n",
            "Covariance Type:            nonrobust                                         \n",
            "==============================================================================\n",
            "                 coef    std err          t      P>|t|      [0.025      0.975]\n",
            "------------------------------------------------------------------------------\n",
            "const       5.018e+04   6747.623      7.437      0.000    3.66e+04    6.38e+04\n",
            "x1          -136.5042   2801.719     -0.049      0.961   -5779.456    5506.447\n",
            "x2             0.8059      0.046     17.571      0.000       0.714       0.898\n",
            "x3            -0.0269      0.052     -0.521      0.605      -0.131       0.077\n",
            "x4             0.0271      0.017      1.625      0.111      -0.007       0.061\n",
            "==============================================================================\n",
            "Omnibus:                       14.892   Durbin-Watson:                   1.284\n",
            "Prob(Omnibus):                  0.001   Jarque-Bera (JB):               21.665\n",
            "Skew:                          -0.949   Prob(JB):                     1.97e-05\n",
            "Kurtosis:                       5.608   Cond. No.                     1.43e+06\n",
            "==============================================================================\n",
            "\n",
            "Warnings:\n",
            "[1] Standard Errors assume that the covariance matrix of the errors is correctly specified.\n",
            "[2] The condition number is large, 1.43e+06. This might indicate that there are\n",
            "strong multicollinearity or other numerical problems.\n"
          ],
          "name": "stdout"
        }
      ]
    },
    {
      "cell_type": "markdown",
      "metadata": {
        "id": "Mkf3B5StsZgT",
        "colab_type": "text"
      },
      "source": [
        "now five variables remain. In these variables, the highest p-value is 0.961. So we will remove it in the next iteration.\n",
        "\n",
        "Now the next highest value is 0.961 for x1 variable, which is another dummy variable. So we will remove it and refit the model. Below is the code for it:"
      ]
    },
    {
      "cell_type": "code",
      "metadata": {
        "id": "1b9Zjg74DY6-",
        "colab_type": "code",
        "colab": {
          "base_uri": "https://localhost:8080/",
          "height": 504
        },
        "outputId": "cc5acf77-38fb-4958-aed0-84e15e8f6e40"
      },
      "source": [
        "X_opt=X1[:, [0,3,4,5]]  \n",
        "regressor_OLS=sm.OLS(endog = Y, exog=X_opt).fit()  \n",
        "print(regressor_OLS.summary())"
      ],
      "execution_count": 43,
      "outputs": [
        {
          "output_type": "stream",
          "text": [
            "                            OLS Regression Results                            \n",
            "==============================================================================\n",
            "Dep. Variable:                      y   R-squared:                       0.951\n",
            "Model:                            OLS   Adj. R-squared:                  0.948\n",
            "Method:                 Least Squares   F-statistic:                     296.0\n",
            "Date:                Sat, 06 Jun 2020   Prob (F-statistic):           4.53e-30\n",
            "Time:                        03:35:41   Log-Likelihood:                -525.39\n",
            "No. Observations:                  50   AIC:                             1059.\n",
            "Df Residuals:                      46   BIC:                             1066.\n",
            "Df Model:                           3                                         \n",
            "Covariance Type:            nonrobust                                         \n",
            "==============================================================================\n",
            "                 coef    std err          t      P>|t|      [0.025      0.975]\n",
            "------------------------------------------------------------------------------\n",
            "const       5.012e+04   6572.353      7.626      0.000    3.69e+04    6.34e+04\n",
            "x1             0.8057      0.045     17.846      0.000       0.715       0.897\n",
            "x2            -0.0268      0.051     -0.526      0.602      -0.130       0.076\n",
            "x3             0.0272      0.016      1.655      0.105      -0.006       0.060\n",
            "==============================================================================\n",
            "Omnibus:                       14.838   Durbin-Watson:                   1.282\n",
            "Prob(Omnibus):                  0.001   Jarque-Bera (JB):               21.442\n",
            "Skew:                          -0.949   Prob(JB):                     2.21e-05\n",
            "Kurtosis:                       5.586   Cond. No.                     1.40e+06\n",
            "==============================================================================\n",
            "\n",
            "Warnings:\n",
            "[1] Standard Errors assume that the covariance matrix of the errors is correctly specified.\n",
            "[2] The condition number is large, 1.4e+06. This might indicate that there are\n",
            "strong multicollinearity or other numerical problems.\n"
          ],
          "name": "stdout"
        }
      ]
    },
    {
      "cell_type": "markdown",
      "metadata": {
        "id": "8Bf-3UAPszE6",
        "colab_type": "text"
      },
      "source": [
        " we can see the dummy variable(x2) has been removed. And the next highest value is .602, which is still greater than .5, so we need to remove it.\n",
        "\n",
        "Now we will remove the Admin spend which is having .602 p-value and again refit the model."
      ]
    },
    {
      "cell_type": "code",
      "metadata": {
        "id": "TU-gpnVKDY6A",
        "colab_type": "code",
        "colab": {
          "base_uri": "https://localhost:8080/",
          "height": 487
        },
        "outputId": "287be978-8f73-457d-d4f1-b21c3166b24a"
      },
      "source": [
        "X_opt=X1[:, [0,3,5]]  \n",
        "regressor_OLS=sm.OLS(endog = Y, exog=X_opt).fit()  \n",
        "print(regressor_OLS.summary())"
      ],
      "execution_count": 44,
      "outputs": [
        {
          "output_type": "stream",
          "text": [
            "                            OLS Regression Results                            \n",
            "==============================================================================\n",
            "Dep. Variable:                      y   R-squared:                       0.950\n",
            "Model:                            OLS   Adj. R-squared:                  0.948\n",
            "Method:                 Least Squares   F-statistic:                     450.8\n",
            "Date:                Sat, 06 Jun 2020   Prob (F-statistic):           2.16e-31\n",
            "Time:                        03:37:39   Log-Likelihood:                -525.54\n",
            "No. Observations:                  50   AIC:                             1057.\n",
            "Df Residuals:                      47   BIC:                             1063.\n",
            "Df Model:                           2                                         \n",
            "Covariance Type:            nonrobust                                         \n",
            "==============================================================================\n",
            "                 coef    std err          t      P>|t|      [0.025      0.975]\n",
            "------------------------------------------------------------------------------\n",
            "const       4.698e+04   2689.933     17.464      0.000    4.16e+04    5.24e+04\n",
            "x1             0.7966      0.041     19.266      0.000       0.713       0.880\n",
            "x2             0.0299      0.016      1.927      0.060      -0.001       0.061\n",
            "==============================================================================\n",
            "Omnibus:                       14.677   Durbin-Watson:                   1.257\n",
            "Prob(Omnibus):                  0.001   Jarque-Bera (JB):               21.161\n",
            "Skew:                          -0.939   Prob(JB):                     2.54e-05\n",
            "Kurtosis:                       5.575   Cond. No.                     5.32e+05\n",
            "==============================================================================\n",
            "\n",
            "Warnings:\n",
            "[1] Standard Errors assume that the covariance matrix of the errors is correctly specified.\n",
            "[2] The condition number is large, 5.32e+05. This might indicate that there are\n",
            "strong multicollinearity or other numerical problems.\n"
          ],
          "name": "stdout"
        }
      ]
    },
    {
      "cell_type": "markdown",
      "metadata": {
        "id": "YMbvzjjCuiN3",
        "colab_type": "text"
      },
      "source": [
        " the variable (Admin spend) has been removed. But still, there is one variable left, which is marketing spend as it has a high p-value (0.60). So we need to remove it.\n",
        "\n",
        "Finally, we will remove one more variable, which has .60 p-value for marketing spend, which is more than a significant level.\n",
        "Below is the code for it:"
      ]
    },
    {
      "cell_type": "code",
      "metadata": {
        "id": "dDAMtP0fDY2_",
        "colab_type": "code",
        "colab": {
          "base_uri": "https://localhost:8080/",
          "height": 470
        },
        "outputId": "1e098433-40a2-4f15-fe88-2429442f1b51"
      },
      "source": [
        "X_opt=X1[:, [0,3]]  \n",
        "regressor_OLS=sm.OLS(endog = Y, exog=X_opt).fit()  \n",
        "print(regressor_OLS.summary())"
      ],
      "execution_count": 45,
      "outputs": [
        {
          "output_type": "stream",
          "text": [
            "                            OLS Regression Results                            \n",
            "==============================================================================\n",
            "Dep. Variable:                      y   R-squared:                       0.947\n",
            "Model:                            OLS   Adj. R-squared:                  0.945\n",
            "Method:                 Least Squares   F-statistic:                     849.8\n",
            "Date:                Sat, 06 Jun 2020   Prob (F-statistic):           3.50e-32\n",
            "Time:                        03:44:19   Log-Likelihood:                -527.44\n",
            "No. Observations:                  50   AIC:                             1059.\n",
            "Df Residuals:                      48   BIC:                             1063.\n",
            "Df Model:                           1                                         \n",
            "Covariance Type:            nonrobust                                         \n",
            "==============================================================================\n",
            "                 coef    std err          t      P>|t|      [0.025      0.975]\n",
            "------------------------------------------------------------------------------\n",
            "const       4.903e+04   2537.897     19.320      0.000    4.39e+04    5.41e+04\n",
            "x1             0.8543      0.029     29.151      0.000       0.795       0.913\n",
            "==============================================================================\n",
            "Omnibus:                       13.727   Durbin-Watson:                   1.116\n",
            "Prob(Omnibus):                  0.001   Jarque-Bera (JB):               18.536\n",
            "Skew:                          -0.911   Prob(JB):                     9.44e-05\n",
            "Kurtosis:                       5.361   Cond. No.                     1.65e+05\n",
            "==============================================================================\n",
            "\n",
            "Warnings:\n",
            "[1] Standard Errors assume that the covariance matrix of the errors is correctly specified.\n",
            "[2] The condition number is large, 1.65e+05. This might indicate that there are\n",
            "strong multicollinearity or other numerical problems.\n"
          ],
          "name": "stdout"
        }
      ]
    },
    {
      "cell_type": "markdown",
      "metadata": {
        "id": "xxv82ibQu6Gr",
        "colab_type": "text"
      },
      "source": [
        "So only the R&D independent variable is a significant variable for the prediction. So we can now predict efficiently using this variable."
      ]
    },
    {
      "cell_type": "code",
      "metadata": {
        "id": "LMqUa3Udu8JD",
        "colab_type": "code",
        "colab": {
          "base_uri": "https://localhost:8080/",
          "height": 195
        },
        "outputId": "4adbce6d-f1f2-4fbd-a967-9a670f8ce2b4"
      },
      "source": [
        "dataset.head()"
      ],
      "execution_count": 48,
      "outputs": [
        {
          "output_type": "execute_result",
          "data": {
            "text/html": [
              "<div>\n",
              "<style scoped>\n",
              "    .dataframe tbody tr th:only-of-type {\n",
              "        vertical-align: middle;\n",
              "    }\n",
              "\n",
              "    .dataframe tbody tr th {\n",
              "        vertical-align: top;\n",
              "    }\n",
              "\n",
              "    .dataframe thead th {\n",
              "        text-align: right;\n",
              "    }\n",
              "</style>\n",
              "<table border=\"1\" class=\"dataframe\">\n",
              "  <thead>\n",
              "    <tr style=\"text-align: right;\">\n",
              "      <th></th>\n",
              "      <th>R&amp;D Spend</th>\n",
              "      <th>Administration</th>\n",
              "      <th>Marketing Spend</th>\n",
              "      <th>State</th>\n",
              "      <th>Profit</th>\n",
              "    </tr>\n",
              "  </thead>\n",
              "  <tbody>\n",
              "    <tr>\n",
              "      <th>0</th>\n",
              "      <td>165349.20</td>\n",
              "      <td>136897.80</td>\n",
              "      <td>471784.10</td>\n",
              "      <td>New York</td>\n",
              "      <td>192261.83</td>\n",
              "    </tr>\n",
              "    <tr>\n",
              "      <th>1</th>\n",
              "      <td>162597.70</td>\n",
              "      <td>151377.59</td>\n",
              "      <td>443898.53</td>\n",
              "      <td>California</td>\n",
              "      <td>191792.06</td>\n",
              "    </tr>\n",
              "    <tr>\n",
              "      <th>2</th>\n",
              "      <td>153441.51</td>\n",
              "      <td>101145.55</td>\n",
              "      <td>407934.54</td>\n",
              "      <td>Florida</td>\n",
              "      <td>191050.39</td>\n",
              "    </tr>\n",
              "    <tr>\n",
              "      <th>3</th>\n",
              "      <td>144372.41</td>\n",
              "      <td>118671.85</td>\n",
              "      <td>383199.62</td>\n",
              "      <td>New York</td>\n",
              "      <td>182901.99</td>\n",
              "    </tr>\n",
              "    <tr>\n",
              "      <th>4</th>\n",
              "      <td>142107.34</td>\n",
              "      <td>91391.77</td>\n",
              "      <td>366168.42</td>\n",
              "      <td>Florida</td>\n",
              "      <td>166187.94</td>\n",
              "    </tr>\n",
              "  </tbody>\n",
              "</table>\n",
              "</div>"
            ],
            "text/plain": [
              "   R&D Spend  Administration  Marketing Spend       State     Profit\n",
              "0  165349.20       136897.80        471784.10    New York  192261.83\n",
              "1  162597.70       151377.59        443898.53  California  191792.06\n",
              "2  153441.51       101145.55        407934.54     Florida  191050.39\n",
              "3  144372.41       118671.85        383199.62    New York  182901.99\n",
              "4  142107.34        91391.77        366168.42     Florida  166187.94"
            ]
          },
          "metadata": {
            "tags": []
          },
          "execution_count": 48
        }
      ]
    },
    {
      "cell_type": "code",
      "metadata": {
        "id": "iZDClq66vPLN",
        "colab_type": "code",
        "colab": {}
      },
      "source": [
        "X_new= dataset.iloc[:, 0].values\n",
        "Y_new=dataset.iloc[:, 4].values"
      ],
      "execution_count": 0,
      "outputs": []
    },
    {
      "cell_type": "code",
      "metadata": {
        "id": "0HQt9qT8vc1w",
        "colab_type": "code",
        "colab": {
          "base_uri": "https://localhost:8080/",
          "height": 34
        },
        "outputId": "a6cc02a6-446b-4a45-c1ee-cfbd78e0ed63"
      },
      "source": [
        "X_new[1:3], Y_new[1:3]"
      ],
      "execution_count": 52,
      "outputs": [
        {
          "output_type": "execute_result",
          "data": {
            "text/plain": [
              "(array([162597.7 , 153441.51]), array([191792.06, 191050.39]))"
            ]
          },
          "metadata": {
            "tags": []
          },
          "execution_count": 52
        }
      ]
    },
    {
      "cell_type": "code",
      "metadata": {
        "id": "YljP6YXCvc5X",
        "colab_type": "code",
        "colab": {}
      },
      "source": [
        "# Splitting the dataset into training and test set.  \n",
        "from sklearn.model_selection import train_test_split  \n",
        "X_new_train , X_new_test, Y_new_train, Y_new_test= train_test_split(X_new,Y_new, test_size= 0.2, random_state=0)  "
      ],
      "execution_count": 0,
      "outputs": []
    },
    {
      "cell_type": "code",
      "metadata": {
        "id": "CliZWFcQvc0Z",
        "colab_type": "code",
        "colab": {
          "base_uri": "https://localhost:8080/",
          "height": 34
        },
        "outputId": "417c469a-2a2d-4cdf-c14d-061cdd15ef5a"
      },
      "source": [
        "#Fitting the MLR model to the training set:  \n",
        "from sklearn.linear_model import LinearRegression  \n",
        "new_regressor= LinearRegression()  \n",
        "new_regressor.fit(np.array(X_new_train).reshape(-1,1), Y_new_train)  "
      ],
      "execution_count": 54,
      "outputs": [
        {
          "output_type": "execute_result",
          "data": {
            "text/plain": [
              "LinearRegression(copy_X=True, fit_intercept=True, n_jobs=None, normalize=False)"
            ]
          },
          "metadata": {
            "tags": []
          },
          "execution_count": 54
        }
      ]
    },
    {
      "cell_type": "code",
      "metadata": {
        "id": "UurBmiGjvcyb",
        "colab_type": "code",
        "colab": {}
      },
      "source": [
        "new_pred = new_regressor.predict(X_new_test.reshape(-1,1))"
      ],
      "execution_count": 0,
      "outputs": []
    },
    {
      "cell_type": "code",
      "metadata": {
        "id": "yp5e-pQ4vcwI",
        "colab_type": "code",
        "colab": {}
      },
      "source": [
        "# model evaluation\n",
        "from sklearn.metrics import mean_squared_error, r2_score\n",
        "rmse = mean_squared_error(Y_new_test, new_pred)"
      ],
      "execution_count": 0,
      "outputs": []
    },
    {
      "cell_type": "code",
      "metadata": {
        "id": "qegT4xqzxAZk",
        "colab_type": "code",
        "colab": {}
      },
      "source": [
        "r2 = r2_score(Y_new_test,new_pred)"
      ],
      "execution_count": 0,
      "outputs": []
    },
    {
      "cell_type": "code",
      "metadata": {
        "id": "o5jLKEY3xAns",
        "colab_type": "code",
        "colab": {
          "base_uri": "https://localhost:8080/",
          "height": 84
        },
        "outputId": "40ba075c-8f84-4931-ef61-5583663c7300"
      },
      "source": [
        "# printing values\n",
        "print('Slope:' ,new_regressor.coef_)\n",
        "print('Intercept:', new_regressor.intercept_)\n",
        "print('Root mean squared error: ', rmse)\n",
        "print('R2 score: ', r2)"
      ],
      "execution_count": 60,
      "outputs": [
        {
          "output_type": "stream",
          "text": [
            "Slope: [0.8516228]\n",
            "Intercept: 48416.297661385026\n",
            "Root mean squared error:  68473440.71905932\n",
            "R2 score:  0.9464587607787219\n"
          ],
          "name": "stdout"
        }
      ]
    },
    {
      "cell_type": "markdown",
      "metadata": {
        "id": "JgifvSHxx-B8",
        "colab_type": "text"
      },
      "source": [
        "**Forward-Selection :**\n",
        "\n",
        "Step #1 : Select a significance level to enter the model(e.g. SL = 0.05)\n",
        "\n",
        "Step #2 : Fit all simple regression models y~ x(n). Select the one with the lowest P-value .\n",
        "\n",
        "Step #3 : Keep this variable and fit all possible models with one extra predictor added to the one(s) you already have.\n",
        "\n",
        "Step #4 : Consider the predictor with lowest P-value. If P < SL, go to Step #3, otherwise model is Ready.\n",
        "\n"
      ]
    }
  ]
}