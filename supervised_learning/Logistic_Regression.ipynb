{
  "nbformat": 4,
  "nbformat_minor": 0,
  "metadata": {
    "colab": {
      "name": "Logistic_Regression.ipynb",
      "provenance": []
    },
    "kernelspec": {
      "name": "python3",
      "display_name": "Python 3"
    }
  },
  "cells": [
    {
      "cell_type": "code",
      "metadata": {
        "id": "7JBtYohpswUz",
        "colab_type": "code",
        "colab": {}
      },
      "source": [
        ""
      ],
      "execution_count": 0,
      "outputs": []
    },
    {
      "cell_type": "markdown",
      "metadata": {
        "id": "ElOf-L0Ws-hd",
        "colab_type": "text"
      },
      "source": [
        "Logistic regression predicts the output of a categorical dependent variable. Therefore the outcome must be a categorical or discrete value. It can be either Yes or No, 0 or 1, true or False, etc. but instead of giving the exact value as 0 and 1, it gives the probabilistic values which lie between 0 and 1.\n",
        "\n",
        "\n",
        "**Logistic Function (Sigmoid Function):**\n",
        "\n",
        "![alt text](https://media.geeksforgeeks.org/wp-content/uploads/20190522162153/sigmoid-function-300x138.png)"
      ]
    },
    {
      "cell_type": "markdown",
      "metadata": {
        "id": "b_2NJn9Ptp3z",
        "colab_type": "text"
      },
      "source": [
        "The sigmoid function is a mathematical function used to map the predicted values to probabilities, maps any real value into another value within a range of 0 and 1.\n",
        "\n",
        "In logistic regression, we use the concept of the threshold value, which defines the probability of either 0 or 1. Such as values above the threshold value tends to 1, and a value below the threshold values tends to 0.\n",
        "\n",
        "\n",
        "Hypothesis => Z = WX + B\n",
        "\n",
        "hΘ(x) = sigmoid (Z)\n",
        "\n",
        "![alt text](https://encrypted-tbn0.gstatic.com/images?q=tbn%3AANd9GcTwcuWgMl6qQ8Flef1-bM0jwQyzqNGZiOjPwNRfpFX_WDIMgLm_&usqp=CAU)\n",
        "\n",
        "\n",
        "\n",
        "\n",
        "![alt text](https://miro.medium.com/max/1096/1*i_QQvUzXCETJEelf4mLx8Q.png)"
      ]
    },
    {
      "cell_type": "markdown",
      "metadata": {
        "id": "pp7YxjYTtqD4",
        "colab_type": "text"
      },
      "source": [
        "![alt text](data:image/jpeg;base64,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)"
      ]
    },
    {
      "cell_type": "markdown",
      "metadata": {
        "id": "MHTtcEyD5mY3",
        "colab_type": "text"
      },
      "source": [
        "![alt text](data:image/jpeg;base64,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)"
      ]
    },
    {
      "cell_type": "markdown",
      "metadata": {
        "id": "wvdORONd68wu",
        "colab_type": "text"
      },
      "source": [
        "**Cost Function :** \n",
        "\n",
        "![alt text](https://miro.medium.com/max/996/1*TqZ9myxIdLuKNmt8orCeew.png)\n",
        "\n",
        "linear can not be used for logistic because \n",
        "Linear regression uses mean squared error as its cost function. If this is used for logistic regression, then it will be a non-convex function of parameters (theta). Gradient descent will converge into global minimum only if the function is convex.\n",
        "\n",
        "![alt text](https://miro.medium.com/max/926/1*ZyjEj3A_QyR4WY7y5cwIWQ.png)\n",
        "\n",
        "\n",
        "**CostFunction Explanation**\n",
        "\n",
        "![alt text](https://miro.medium.com/max/1400/1*5AYaGPV-gjYUf37d2IhgTQ.jpeg)\n",
        "\n",
        "![alt text](https://miro.medium.com/max/1400/1*MFMIEUC_dobhJrRjGK7PBg.jpeg)\n",
        "\n"
      ]
    },
    {
      "cell_type": "markdown",
      "metadata": {
        "id": "YlFg9OYEBGrE",
        "colab_type": "text"
      },
      "source": [
        "**Simplified cost fuction :**\n",
        "\n",
        "![alt text](https://miro.medium.com/max/1400/1*ueEwU1dE0Yu-KpMJanf9AQ.png)"
      ]
    },
    {
      "cell_type": "code",
      "metadata": {
        "id": "njXeLIfRDsck",
        "colab_type": "code",
        "colab": {}
      },
      "source": [
        "# Logistic Regression\n",
        "\n",
        "# Importing the libraries\n",
        "import numpy as np\n",
        "import matplotlib.pyplot as plt\n",
        "import pandas as pd\n",
        "\n",
        "# Importing the dataset\n",
        "dataset = pd.read_csv('https://raw.githubusercontent.com/Uttam580/Machine_learning/master/datasets./Social_Network_Ads.csv')\n",
        "X = dataset.iloc[:, [2, 3]].values\n",
        "y = dataset.iloc[:, -1].values"
      ],
      "execution_count": 0,
      "outputs": []
    },
    {
      "cell_type": "code",
      "metadata": {
        "id": "ol74GnWFDseG",
        "colab_type": "code",
        "outputId": "caa82668-06ba-47a8-8fa5-11481e16f610",
        "colab": {
          "base_uri": "https://localhost:8080/",
          "height": 195
        }
      },
      "source": [
        "dataset.head()"
      ],
      "execution_count": 60,
      "outputs": [
        {
          "output_type": "execute_result",
          "data": {
            "text/html": [
              "<div>\n",
              "<style scoped>\n",
              "    .dataframe tbody tr th:only-of-type {\n",
              "        vertical-align: middle;\n",
              "    }\n",
              "\n",
              "    .dataframe tbody tr th {\n",
              "        vertical-align: top;\n",
              "    }\n",
              "\n",
              "    .dataframe thead th {\n",
              "        text-align: right;\n",
              "    }\n",
              "</style>\n",
              "<table border=\"1\" class=\"dataframe\">\n",
              "  <thead>\n",
              "    <tr style=\"text-align: right;\">\n",
              "      <th></th>\n",
              "      <th>User ID</th>\n",
              "      <th>Gender</th>\n",
              "      <th>Age</th>\n",
              "      <th>EstimatedSalary</th>\n",
              "      <th>Purchased</th>\n",
              "    </tr>\n",
              "  </thead>\n",
              "  <tbody>\n",
              "    <tr>\n",
              "      <th>0</th>\n",
              "      <td>15624510</td>\n",
              "      <td>Male</td>\n",
              "      <td>19</td>\n",
              "      <td>19000</td>\n",
              "      <td>0</td>\n",
              "    </tr>\n",
              "    <tr>\n",
              "      <th>1</th>\n",
              "      <td>15810944</td>\n",
              "      <td>Male</td>\n",
              "      <td>35</td>\n",
              "      <td>20000</td>\n",
              "      <td>0</td>\n",
              "    </tr>\n",
              "    <tr>\n",
              "      <th>2</th>\n",
              "      <td>15668575</td>\n",
              "      <td>Female</td>\n",
              "      <td>26</td>\n",
              "      <td>43000</td>\n",
              "      <td>0</td>\n",
              "    </tr>\n",
              "    <tr>\n",
              "      <th>3</th>\n",
              "      <td>15603246</td>\n",
              "      <td>Female</td>\n",
              "      <td>27</td>\n",
              "      <td>57000</td>\n",
              "      <td>0</td>\n",
              "    </tr>\n",
              "    <tr>\n",
              "      <th>4</th>\n",
              "      <td>15804002</td>\n",
              "      <td>Male</td>\n",
              "      <td>19</td>\n",
              "      <td>76000</td>\n",
              "      <td>0</td>\n",
              "    </tr>\n",
              "  </tbody>\n",
              "</table>\n",
              "</div>"
            ],
            "text/plain": [
              "    User ID  Gender  Age  EstimatedSalary  Purchased\n",
              "0  15624510    Male   19            19000          0\n",
              "1  15810944    Male   35            20000          0\n",
              "2  15668575  Female   26            43000          0\n",
              "3  15603246  Female   27            57000          0\n",
              "4  15804002    Male   19            76000          0"
            ]
          },
          "metadata": {
            "tags": []
          },
          "execution_count": 60
        }
      ]
    },
    {
      "cell_type": "code",
      "metadata": {
        "id": "0TZfMLH5DsgD",
        "colab_type": "code",
        "colab": {}
      },
      "source": [
        "\n",
        "# Splitting the dataset into the Training set and Test set\n",
        "from sklearn.model_selection import train_test_split\n",
        "X_train, X_test, y_train, y_test = train_test_split(X, y, test_size = 0.25, random_state = 0)\n",
        "\n",
        "# Feature Scaling\n",
        "from sklearn.preprocessing import StandardScaler\n",
        "sc = StandardScaler()\n",
        "X_train = sc.fit_transform(X_train)\n",
        "X_test = sc.transform(X_test)"
      ],
      "execution_count": 0,
      "outputs": []
    },
    {
      "cell_type": "code",
      "metadata": {
        "id": "Pr9FZvjVDsh3",
        "colab_type": "code",
        "outputId": "b37697cc-1b26-4e9b-c085-436655fcdca6",
        "colab": {
          "base_uri": "https://localhost:8080/",
          "height": 101
        }
      },
      "source": [
        "# Training the Logistic Regression model on the Training set\n",
        "from sklearn.linear_model import LogisticRegression\n",
        "classifier = LogisticRegression(random_state = 0)\n",
        "classifier.fit(X_train, y_train)"
      ],
      "execution_count": 62,
      "outputs": [
        {
          "output_type": "execute_result",
          "data": {
            "text/plain": [
              "LogisticRegression(C=1.0, class_weight=None, dual=False, fit_intercept=True,\n",
              "                   intercept_scaling=1, l1_ratio=None, max_iter=100,\n",
              "                   multi_class='auto', n_jobs=None, penalty='l2',\n",
              "                   random_state=0, solver='lbfgs', tol=0.0001, verbose=0,\n",
              "                   warm_start=False)"
            ]
          },
          "metadata": {
            "tags": []
          },
          "execution_count": 62
        }
      ]
    },
    {
      "cell_type": "code",
      "metadata": {
        "id": "i5I1z2LLDsj8",
        "colab_type": "code",
        "colab": {}
      },
      "source": [
        "# Predicting the Test set results\n",
        "y_pred = classifier.predict(X_test)"
      ],
      "execution_count": 0,
      "outputs": []
    },
    {
      "cell_type": "code",
      "metadata": {
        "id": "9PU0pgFFDspl",
        "colab_type": "code",
        "outputId": "e43fdbff-da9e-4e17-e1b8-f69e57032cb6",
        "colab": {
          "base_uri": "https://localhost:8080/",
          "height": 349
        }
      },
      "source": [
        "# Visualising the Training set results\n",
        "from matplotlib.colors import ListedColormap\n",
        "X_set, y_set = X_train, y_train\n",
        "X1, X2 = np.meshgrid(np.arange(start = X_set[:, 0].min() - 1, stop = X_set[:, 0].max() + 1, step = 0.01),\n",
        "                     np.arange(start = X_set[:, 1].min() - 1, stop = X_set[:, 1].max() + 1, step = 0.01))\n",
        "plt.contourf(X1, X2, classifier.predict(np.array([X1.ravel(), X2.ravel()]).T).reshape(X1.shape),\n",
        "             alpha = 0.75, cmap = ListedColormap(('red', 'green')))\n",
        "plt.xlim(X1.min(), X1.max())\n",
        "plt.ylim(X2.min(), X2.max())\n",
        "for i, j in enumerate(np.unique(y_set)):\n",
        "    plt.scatter(X_set[y_set == j, 0], X_set[y_set == j, 1],\n",
        "                c = ListedColormap(('red', 'green'))(i), label = j)\n",
        "plt.title('Logistic Regression (Training set)')\n",
        "plt.xlabel('Age')\n",
        "plt.ylabel('Estimated Salary')\n",
        "plt.legend()\n",
        "plt.show()"
      ],
      "execution_count": 64,
      "outputs": [
        {
          "output_type": "stream",
          "text": [
            "'c' argument looks like a single numeric RGB or RGBA sequence, which should be avoided as value-mapping will have precedence in case its length matches with 'x' & 'y'.  Please use a 2-D array with a single row if you really want to specify the same RGB or RGBA value for all points.\n",
            "'c' argument looks like a single numeric RGB or RGBA sequence, which should be avoided as value-mapping will have precedence in case its length matches with 'x' & 'y'.  Please use a 2-D array with a single row if you really want to specify the same RGB or RGBA value for all points.\n"
          ],
          "name": "stderr"
        },
        {
          "output_type": "display_data",
          "data": {
            "image/png": "[encoded data removed]",
            "text/plain": [
              "<Figure size 432x288 with 1 Axes>"
            ]
          },
          "metadata": {
            "tags": [],
            "needs_background": "light"
          }
        }
      ]
    },
    {
      "cell_type": "code",
      "metadata": {
        "id": "Su6aCj2qDsr0",
        "colab_type": "code",
        "outputId": "566e42c8-383e-4408-e874-6d6d27c9b1e3",
        "colab": {
          "base_uri": "https://localhost:8080/",
          "height": 349
        }
      },
      "source": [
        "\n",
        "# Visualising the Test set results\n",
        "from matplotlib.colors import ListedColormap\n",
        "X_set, y_set = X_test, y_test\n",
        "X1, X2 = np.meshgrid(np.arange(start = X_set[:, 0].min() - 1, stop = X_set[:, 0].max() + 1, step = 0.01),\n",
        "                     np.arange(start = X_set[:, 1].min() - 1, stop = X_set[:, 1].max() + 1, step = 0.01))\n",
        "plt.contourf(X1, X2, classifier.predict(np.array([X1.ravel(), X2.ravel()]).T).reshape(X1.shape),\n",
        "             alpha = 0.75, cmap = ListedColormap(('red', 'green')))\n",
        "plt.xlim(X1.min(), X1.max())\n",
        "plt.ylim(X2.min(), X2.max())\n",
        "for i, j in enumerate(np.unique(y_set)):\n",
        "    plt.scatter(X_set[y_set == j, 0], X_set[y_set == j, 1],\n",
        "                c = ListedColormap(('red', 'green'))(i), label = j)\n",
        "plt.title('Logistic Regression (Test set)')\n",
        "plt.xlabel('Age')\n",
        "plt.ylabel('Estimated Salary')\n",
        "plt.legend()\n",
        "plt.show()"
      ],
      "execution_count": 65,
      "outputs": [
        {
          "output_type": "stream",
          "text": [
            "'c' argument looks like a single numeric RGB or RGBA sequence, which should be avoided as value-mapping will have precedence in case its length matches with 'x' & 'y'.  Please use a 2-D array with a single row if you really want to specify the same RGB or RGBA value for all points.\n",
            "'c' argument looks like a single numeric RGB or RGBA sequence, which should be avoided as value-mapping will have precedence in case its length matches with 'x' & 'y'.  Please use a 2-D array with a single row if you really want to specify the same RGB or RGBA value for all points.\n"
          ],
          "name": "stderr"
        },
        {
          "output_type": "display_data",
          "data": {
            "image/png": "[encoded data removed]",
            "text/plain": [
              "<Figure size 432x288 with 1 Axes>"
            ]
          },
          "metadata": {
            "tags": [],
            "needs_background": "light"
          }
        }
      ]
    },
    {
      "cell_type": "markdown",
      "metadata": {
        "id": "oQo4UCeJkhdX",
        "colab_type": "text"
      },
      "source": [
        "**Classification Metrics**\n",
        "\n",
        "1. Confusion metrics\n",
        "\n",
        "\n",
        "![alt text](https://miro.medium.com/max/712/1*Z54JgbS4DUwWSknhDCvNTQ.png)\n",
        "\n",
        "1. True Positives (TP): True positives are the cases when the actual class of the data point was 1(True) and the predicted is also 1(True).\n",
        "\n",
        "    Ex: The case where a person is actually having cancer(1) and the model classifying his case as cancer(1) comes under True positive.\n",
        "\n",
        "2. True Negatives (TN): True negatives are the cases when the actual class of the data point was 0(False) and the predicted is also 0(False).\n",
        "\n",
        "    Ex: The case where a person NOT having cancer and the model classifying his case as Not cancer comes under True Negatives.\n",
        "\n",
        "3. False Positives (FP): False positives are the cases when the actual class of the data point was 0(False) and the predicted is 1(True). False is because the model has predicted incorrectly and positive because the class predicted was a positive one. (1).\n",
        "\n",
        "    Ex: A person NOT having cancer and the model classifying his case as cancer comes under False Positives.\n",
        "\n",
        "4. False Negatives (FN): False negatives are the cases when the actual class of the data point was 1(True) and the predicted is 0(False). False is because the model has predicted incorrectly and negative because the class predicted was a negative one. (0).\n",
        "\n",
        "    Ex: A person having cancer and the model classifying his case as No-cancer comes under False Negatives\n",
        "\n",
        "\n",
        "TO Remember \n",
        "![alt text](https://miro.medium.com/max/880/1*2lptVD05HarbzGKiZ44l5A.png)"
      ]
    },
    {
      "cell_type": "markdown",
      "metadata": {
        "id": "oz6mFP5cphpl",
        "colab_type": "text"
      },
      "source": [
        "**A.  Accuracy:**\n",
        "\n",
        "Accuracy in classification problems is the number of correct predictions made by the model over all kinds predictions made.\n",
        "\n",
        "Accuracy = (TP+TN)/(TP+FN+FP+TN)\n",
        "\n",
        "Accuracy is a good measure when the target variable classes in the data are nearly balanced.\n",
        "\n",
        "**B. Precision**\n",
        "\n",
        "![alt text](https://miro.medium.com/max/311/1*QRIZDkk_FffXKs_07ZlhZw.png)\n",
        "\n",
        "Out of all the positive classes we have predicted correctly, how many are actually positive.\n",
        "\n",
        "what proportion of patients that we diagnosed as having cancer, actually had cancer.\n",
        "\n",
        "\n",
        "**C. Recall/Sensitivity** \n",
        "\n",
        "![alt text](https://miro.medium.com/max/308/1*BT3awaBdZHsit5s41LPb9A.png)\n",
        "\n",
        "Out of all the positive classes, how much we predicted correctly. It should be high as possible.\n",
        "\n",
        " tells us what proportion of patients that actually had cancer was diagnosed by the algorithm as having cancer. \n",
        "\n",
        "D. F -measure \n",
        "\n",
        "![alt text](https://miro.medium.com/max/716/1*98FaAKfPWo-EBTbjsxm4GA.png)"
      ]
    },
    {
      "cell_type": "markdown",
      "metadata": {
        "id": "PinnjxlinH7K",
        "colab_type": "text"
      },
      "source": [
        "![alt text](https://miro.medium.com/max/1104/1*OpSYGh2-XE6aE3sVAJAHrw.png)\n",
        "\n",
        "![alt text](https://miro.medium.com/max/552/1*uR09zTlPgIj5PvMYJZScVg.png)"
      ]
    },
    {
      "cell_type": "code",
      "metadata": {
        "id": "JRVrt1zPDsu7",
        "colab_type": "code",
        "colab": {
          "base_uri": "https://localhost:8080/",
          "height": 50
        },
        "outputId": "ec721cbd-dedc-42e3-d3da-126e3e240210"
      },
      "source": [
        "# Making the Confusion Matrix\n",
        "from sklearn.metrics import confusion_matrix\n",
        "cm = confusion_matrix(y_test, y_pred)\n",
        "print(cm)"
      ],
      "execution_count": 66,
      "outputs": [
        {
          "output_type": "stream",
          "text": [
            "[[65  3]\n",
            " [ 8 24]]\n"
          ],
          "name": "stdout"
        }
      ]
    },
    {
      "cell_type": "code",
      "metadata": {
        "id": "6qBVYvucN7tx",
        "colab_type": "code",
        "colab": {}
      },
      "source": [
        "\n",
        "from sklearn.metrics import precision_recall_curve\n",
        "from sklearn.metrics import precision_score\n",
        "from sklearn.metrics import recall_score\n",
        "from sklearn.metrics import f1_score\n",
        "from sklearn.metrics import average_precision_score"
      ],
      "execution_count": 0,
      "outputs": []
    },
    {
      "cell_type": "code",
      "metadata": {
        "id": "dzhnFNvxODlJ",
        "colab_type": "code",
        "colab": {
          "base_uri": "https://localhost:8080/",
          "height": 34
        },
        "outputId": "0d94f6e3-9a76-4bfd-9c12-e0a6c3d03736"
      },
      "source": [
        "precision_score(y_test, y_pred)"
      ],
      "execution_count": 68,
      "outputs": [
        {
          "output_type": "execute_result",
          "data": {
            "text/plain": [
              "0.8888888888888888"
            ]
          },
          "metadata": {
            "tags": []
          },
          "execution_count": 68
        }
      ]
    },
    {
      "cell_type": "code",
      "metadata": {
        "id": "dff5_3HnODzh",
        "colab_type": "code",
        "colab": {
          "base_uri": "https://localhost:8080/",
          "height": 34
        },
        "outputId": "f2abe710-e1d6-4e2a-86ef-1582ea839e6a"
      },
      "source": [
        "recall_score(y_test, y_pred)"
      ],
      "execution_count": 69,
      "outputs": [
        {
          "output_type": "execute_result",
          "data": {
            "text/plain": [
              "0.75"
            ]
          },
          "metadata": {
            "tags": []
          },
          "execution_count": 69
        }
      ]
    },
    {
      "cell_type": "code",
      "metadata": {
        "id": "Ak92BrrHOLCx",
        "colab_type": "code",
        "colab": {
          "base_uri": "https://localhost:8080/",
          "height": 34
        },
        "outputId": "26468f18-6430-41aa-d391-c9ccc7f9a7a7"
      },
      "source": [
        "f1_score(y_test, y_pred)"
      ],
      "execution_count": 70,
      "outputs": [
        {
          "output_type": "execute_result",
          "data": {
            "text/plain": [
              "0.8135593220338982"
            ]
          },
          "metadata": {
            "tags": []
          },
          "execution_count": 70
        }
      ]
    },
    {
      "cell_type": "code",
      "metadata": {
        "id": "7AlBETVUaIVd",
        "colab_type": "code",
        "colab": {
          "base_uri": "https://localhost:8080/",
          "height": 185
        },
        "outputId": "f0d8904c-4560-4e5c-927f-23264575603b"
      },
      "source": [
        "probs = classifier.predict_proba(X_test)\n",
        "probs[:10]# probablity for purchased and not purchased"
      ],
      "execution_count": 80,
      "outputs": [
        {
          "output_type": "execute_result",
          "data": {
            "text/plain": [
              "array([[0.88725351, 0.11274649],\n",
              "       [0.83324206, 0.16675794],\n",
              "       [0.80549253, 0.19450747],\n",
              "       [0.91056209, 0.08943791],\n",
              "       [0.90253903, 0.09746097],\n",
              "       [0.99212979, 0.00787021],\n",
              "       [0.9848589 , 0.0151411 ],\n",
              "       [0.26779092, 0.73220908],\n",
              "       [0.99419108, 0.00580892],\n",
              "       [0.49579544, 0.50420456]])"
            ]
          },
          "metadata": {
            "tags": []
          },
          "execution_count": 80
        }
      ]
    },
    {
      "cell_type": "code",
      "metadata": {
        "id": "F1NPTpSTaOPt",
        "colab_type": "code",
        "colab": {
          "base_uri": "https://localhost:8080/",
          "height": 101
        },
        "outputId": "10f34e60-96ab-44f7-989e-e63caa481348"
      },
      "source": [
        "y_pred"
      ],
      "execution_count": 81,
      "outputs": [
        {
          "output_type": "execute_result",
          "data": {
            "text/plain": [
              "array([0, 0, 0, 0, 0, 0, 0, 1, 0, 1, 0, 0, 0, 0, 0, 0, 0, 0, 1, 0, 0, 1,\n",
              "       0, 1, 0, 1, 0, 0, 0, 0, 0, 0, 1, 0, 0, 0, 0, 0, 0, 1, 0, 0, 0, 0,\n",
              "       1, 0, 0, 1, 0, 1, 1, 0, 0, 0, 1, 0, 0, 0, 0, 0, 0, 1, 0, 0, 0, 1,\n",
              "       0, 0, 0, 0, 1, 0, 0, 0, 0, 0, 1, 0, 1, 1, 1, 1, 0, 0, 1, 1, 0, 1,\n",
              "       0, 0, 0, 1, 0, 0, 0, 0, 0, 0, 1, 1])"
            ]
          },
          "metadata": {
            "tags": []
          },
          "execution_count": 81
        }
      ]
    },
    {
      "cell_type": "code",
      "metadata": {
        "id": "zyPbuldXOvnH",
        "colab_type": "code",
        "colab": {}
      },
      "source": [
        "# y_pred is an array of predictions\n",
        "def bestThresshold(y_true,y_pred):\n",
        "    best_thresh = None\n",
        "    best_score = 0\n",
        "    for thresh in np.arange(0.1, 0.501, 0.01):\n",
        "        score = f1_score(y_true, np.array(y_pred)>thresh)\n",
        "        if score > best_score:\n",
        "            best_thresh = thresh\n",
        "            best_score = score\n",
        "    return best_score , best_thresh"
      ],
      "execution_count": 0,
      "outputs": []
    },
    {
      "cell_type": "code",
      "metadata": {
        "id": "sYdHkhWFOy0J",
        "colab_type": "code",
        "colab": {}
      },
      "source": [
        "#bestThresshold(y_test,probs[:,1])"
      ],
      "execution_count": 0,
      "outputs": []
    },
    {
      "cell_type": "markdown",
      "metadata": {
        "id": "5y4ND0bu5gEG",
        "colab_type": "text"
      },
      "source": [
        "**2. Classification Report** \n",
        "\n",
        "The classification_report() function displays the precision, recall, f1-score and support for each class.\n",
        "\n"
      ]
    },
    {
      "cell_type": "code",
      "metadata": {
        "id": "R6NjBQ5MDsmL",
        "colab_type": "code",
        "colab": {
          "base_uri": "https://localhost:8080/",
          "height": 168
        },
        "outputId": "b6aa9636-7611-4e6d-bf13-a19b7d81e064"
      },
      "source": [
        "from sklearn.metrics import classification_report\n",
        "report = classification_report(y_test, y_pred)\n",
        "print(report)"
      ],
      "execution_count": 73,
      "outputs": [
        {
          "output_type": "stream",
          "text": [
            "              precision    recall  f1-score   support\n",
            "\n",
            "           0       0.89      0.96      0.92        68\n",
            "           1       0.89      0.75      0.81        32\n",
            "\n",
            "    accuracy                           0.89       100\n",
            "   macro avg       0.89      0.85      0.87       100\n",
            "weighted avg       0.89      0.89      0.89       100\n",
            "\n"
          ],
          "name": "stdout"
        }
      ]
    },
    {
      "cell_type": "markdown",
      "metadata": {
        "id": "ggVVZxQs7Ml3",
        "colab_type": "text"
      },
      "source": [
        "**3. ROC Curve**\n",
        "\n",
        "It gives us the trade-off between the True Positive Rate (TPR) and the False Positive Rate (FPR) at different classification thresholds.\n",
        "\n",
        "\n",
        "![alt text](https://s3.amazonaws.com/stackabuse/media/understanding-roc-curves-python-3.png)\n",
        "\n",
        "\n",
        "The area covered by the curve is the area between the orange line (ROC) and the axis. This area covered is AUC. The bigger the area covered, the better the machine learning models is at distinguishing the given classes. Ideal value for AUC is 1.\n",
        "\n",
        "True positive rate = Recall = Sensitivity = true positive / (true positive + false negative)\n",
        "\n",
        "\n",
        "False positive rate = 1 – specificity = false positive / (false positive + true negative)"
      ]
    },
    {
      "cell_type": "markdown",
      "metadata": {
        "id": "WaighJ21J202",
        "colab_type": "text"
      },
      "source": [
        "We call the predict_proba method rather than predict in order to obtain a list of probabilities which represent the likelihood that a sample falls under a given category"
      ]
    },
    {
      "cell_type": "code",
      "metadata": {
        "id": "z2M9fbyLDsaA",
        "colab_type": "code",
        "colab": {}
      },
      "source": [
        "# Plot Receiving Operating Characteristic Curve\n",
        "# Create true and false positive rates\n",
        "from sklearn.metrics import roc_curve, roc_auc_score, auc\n",
        "fpr, tpr, threshold = roc_curve(y_test, probs[:,1])"
      ],
      "execution_count": 0,
      "outputs": []
    },
    {
      "cell_type": "code",
      "metadata": {
        "id": "i62zaxNLasHh",
        "colab_type": "code",
        "colab": {
          "base_uri": "https://localhost:8080/",
          "height": 118
        },
        "outputId": "a75f1d30-e82d-4e1c-b4fb-2fd9b3fa3a7e"
      },
      "source": [
        " fpr[:10],tpr[:10],threshold[:10],"
      ],
      "execution_count": 90,
      "outputs": [
        {
          "output_type": "execute_result",
          "data": {
            "text/plain": [
              "(array([0.        , 0.        , 0.        , 0.01470588, 0.01470588,\n",
              "        0.04411765, 0.04411765, 0.05882353, 0.05882353, 0.10294118]),\n",
              " array([0.     , 0.03125, 0.1875 , 0.1875 , 0.75   , 0.75   , 0.8125 ,\n",
              "        0.8125 , 0.84375, 0.84375]),\n",
              " array([1.99605114, 0.99605114, 0.98079763, 0.97751966, 0.54477712,\n",
              "        0.50420456, 0.47516238, 0.46447968, 0.43703033, 0.4030711 ]))"
            ]
          },
          "metadata": {
            "tags": []
          },
          "execution_count": 90
        }
      ]
    },
    {
      "cell_type": "code",
      "metadata": {
        "id": "EVvqY0LCD3n7",
        "colab_type": "code",
        "colab": {
          "base_uri": "https://localhost:8080/",
          "height": 34
        },
        "outputId": "7cf8288a-5c97-4b74-f23d-631a1d9fd0e7"
      },
      "source": [
        "roc_auc_score(y_test,probs[:,1])"
      ],
      "execution_count": 77,
      "outputs": [
        {
          "output_type": "execute_result",
          "data": {
            "text/plain": [
              "0.9540441176470588"
            ]
          },
          "metadata": {
            "tags": []
          },
          "execution_count": 77
        }
      ]
    },
    {
      "cell_type": "code",
      "metadata": {
        "id": "X6vMgZTuNUyy",
        "colab_type": "code",
        "colab": {
          "base_uri": "https://localhost:8080/",
          "height": 34
        },
        "outputId": "7bef82c8-f726-4c13-fdcc-bf3d093843fa"
      },
      "source": [
        "roc_auc = auc(fpr, tpr)\n",
        "roc_auc"
      ],
      "execution_count": 78,
      "outputs": [
        {
          "output_type": "execute_result",
          "data": {
            "text/plain": [
              "0.9540441176470588"
            ]
          },
          "metadata": {
            "tags": []
          },
          "execution_count": 78
        }
      ]
    },
    {
      "cell_type": "code",
      "metadata": {
        "id": "s7L4rmrzDJbL",
        "colab_type": "code",
        "colab": {
          "base_uri": "https://localhost:8080/",
          "height": 295
        },
        "outputId": "02fc54e5-b34b-4106-a742-f26d0dce7b83"
      },
      "source": [
        "plt.title('Receiver Operating Characteristic')\n",
        "plt.plot(fpr, tpr, 'y', label = 'AUC = %0.2f' % roc_auc)\n",
        "plt.legend(loc = 'lower right')\n",
        "plt.plot([0, 1], [0, 1],'r--')\n",
        "plt.xlim([0, 1])\n",
        "plt.ylim([0, 1])\n",
        "plt.ylabel('True Positive Rate')\n",
        "plt.xlabel('False Positive Rate')\n",
        "plt.show()"
      ],
      "execution_count": 79,
      "outputs": [
        {
          "output_type": "display_data",
          "data": {
            "image/png": "[encoded data removed]",
            "text/plain": [
              "<Figure size 432x288 with 1 Axes>"
            ]
          },
          "metadata": {
            "tags": [],
            "needs_background": "light"
          }
        }
      ]
    }
  ]
}