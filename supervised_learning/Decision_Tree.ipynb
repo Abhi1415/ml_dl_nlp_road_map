{
  "nbformat": 4,
  "nbformat_minor": 0,
  "metadata": {
    "colab": {
      "name": "Decision_Tree.ipynb",
      "provenance": []
    },
    "kernelspec": {
      "name": "python3",
      "display_name": "Python 3"
    }
  },
  "cells": [
    {
      "cell_type": "code",
      "metadata": {
        "id": "Wtpd-SBhDVen",
        "colab_type": "code",
        "colab": {}
      },
      "source": [
        ""
      ],
      "execution_count": 0,
      "outputs": []
    },
    {
      "cell_type": "markdown",
      "metadata": {
        "id": "bMqmEE58DgvK",
        "colab_type": "text"
      },
      "source": [
        "Supervised Machine Learning algorithms, can be used for solving regression and classification problems too.\n",
        "\n",
        "A decision tree is a tree where each node represents a feature(attribute), each link(branch) represents a decision(rule) and each leaf represents an outcome(categorical or continues value).\n",
        "\n",
        "![alt text](https://miro.medium.com/max/1400/1*KiACler1SYEI-0m1ctQ9-g.jpeg)"
      ]
    },
    {
      "cell_type": "markdown",
      "metadata": {
        "id": "mQelQnD6GEK4",
        "colab_type": "text"
      },
      "source": [
        "Let’s look at the basic terminology used with Decision trees:\n",
        "\n",
        "Root Node: It represents entire population or sample and this further gets divided into two or more homogeneous sets.\n",
        "\n",
        "Splitting: It is a process of dividing a node into two or more sub-nodes.\n",
        "\n",
        "Decision Node: When a sub-node splits into further sub-nodes, then it is called decision node.\n",
        "\n",
        "Leaf/ Terminal Node: Nodes do not split is called Leaf or Terminal node.\n",
        "\n",
        "\n",
        "![alt text](https://www.analyticsvidhya.com/wp-content/uploads/2015/01/Decision_Tree_2.png)\n",
        "\n",
        "Pruning: When we remove sub-nodes of a decision node, this process is called pruning. You can say opposite process of splitting.\n",
        "\n",
        "Branch / Sub-Tree: A sub section of entire tree is called branch or sub-tree.\n",
        "\n",
        "Parent and Child Node: A node, which is divided into sub-nodes is called parent node of sub-nodes where as sub-nodes are the child of parent node."
      ]
    },
    {
      "cell_type": "markdown",
      "metadata": {
        "id": "qPrfp892IJtn",
        "colab_type": "text"
      },
      "source": [
        "**Algorithms to build Decision Tree :** \n",
        "\n",
        "1. CART (Classification and Regression Trees) → uses Gini Index(Classification) as metric, used in Categorical target variable\n",
        "\n",
        "2. ID3 (Iterative Dichotomiser 3) → uses Entropy function and Information gain as metrics,used in Categorical target variable\n",
        "\n",
        "3. Chi Square , used in Categorical target variable\n",
        "\n",
        "4. Reduction in variance, used in contibuous  target variable"
      ]
    },
    {
      "cell_type": "markdown",
      "metadata": {
        "id": "4donR3KQJcNw",
        "colab_type": "text"
      },
      "source": [
        "**CART**\n",
        "\n",
        "The degree of Gini index varies between 0 and 1, where 0 denotes that all elements belong to a certain class or if there exists only one class, and 1 denotes that the elements are randomly distributed across various classes. A Gini Index of 0.5 denotes equally distributed elements into some classes.\n",
        "\n",
        "\n",
        "Gini Impurity/Gini Index = 1-Gini\n",
        "\n",
        "![alt text](https://www.geeksforgeeks.org/wp-content/ql-cache/quicklatex.com-d0d96c305b893bd453f1160f0cbc7b67_l3.svg)\n",
        "\n",
        "**Steps to Calculate Gini for a split**\n",
        "\n",
        "1. Calculate Gini for sub-nodes, using formula sum of square of probability for success and failure (p^2+q^2).\n",
        "\n",
        "2. Calculate Gini for split using weighted Gini score of each node of that split.\n",
        "\n",
        "\n",
        "Example: – Referring to example used above, where we want to segregate the students based on target variable ( playing cricket or not ). In the snapshot below, we split the population using two input variables Gender and Class. Now, I want to identify which split is producing more homogeneous sub-nodes using Gini .\n",
        "\n",
        "\n",
        "![alt text](https://www.analyticsvidhya.com/wp-content/uploads/2015/01/Decision_Tree_Algorithm1.png)"
      ]
    },
    {
      "cell_type": "markdown",
      "metadata": {
        "id": "Lj5aICe3jRZ4",
        "colab_type": "text"
      },
      "source": [
        "Split on Gender:\n",
        "\n",
        "Calculate, Gini for sub-node Female = (0.2)*(0.2)+(0.8)*(0.8)=0.68\n",
        "\n",
        "Gini for sub-node Male = (0.65)*(0.65)+(0.35)*(0.35)=0.55\n",
        "\n",
        "Calculate weighted Gini for Split Gender = (10/30)*0.68+(20/30)*0.55 = 0.59\n",
        "\n",
        "Similar for Split on Class:\n",
        "\n",
        "Gini for sub-node Class IX = (0.43)*(0.43)+(0.57)*(0.57)=0.51\n",
        "\n",
        "Gini for sub-node Class X = (0.56)*(0.56)+(0.44)*(0.44)=0.51\n",
        "\n",
        "Calculate weighted Gini for Split Class = (14/30)*0.51+(16/30)*0.51 = 0.51\n",
        "\n",
        "Above, you can see that Gini score for Split on Gender is higher than Split on Class, hence, the node split will take place on Gender."
      ]
    },
    {
      "cell_type": "markdown",
      "metadata": {
        "id": "iKVGq_qwpJcF",
        "colab_type": "text"
      },
      "source": [
        "**Informatipn Gain**\n",
        "\n",
        "\n",
        "\n",
        "Entropy: Entropy is a metric to measure the impurity in a given attribute. It specifies randomness in data. Entropy can be calculated as:\n",
        "\n",
        "Entropy(s)= -P(yes)log2 P(yes)- P(no) log2 P(no)\n",
        "\n",
        "Where,\n",
        "\n",
        "S= Total number of samples\n",
        "\n",
        "P(yes)= probability of yes\n",
        "\n",
        "P(no)= probability of no\n",
        "\n",
        "if entropy is 1 then it is highly impure.\n",
        "\n",
        "Information Gain= Entropy(S)- [(Weighted Avg) *Entropy(each feature) \n",
        "\n",
        "A decision tree algorithm always tries to maximize the value of information gain, and a node/attribute having the highest information gain is split first."
      ]
    },
    {
      "cell_type": "markdown",
      "metadata": {
        "id": "wuwVn680pJfb",
        "colab_type": "text"
      },
      "source": [
        "Steps to calculate entropy for a split:\n",
        "\n",
        "1. Calculate entropy of parent node.\n",
        "\n",
        "2. Calculate entropy of each individual node of split and calculate weighted average of all sub-nodes available in split.\n",
        "\n",
        "![alt text](https://www.analyticsvidhya.com/wp-content/uploads/2015/01/Decision_Tree_Algorithm1.png)\n",
        "\n",
        "\n",
        "Example: Let’s use this method to identify best split for student example.\n",
        "\n",
        "Entropy for parent node = -(15/30) log2 (15/30) – (15/30) log2 (15/30) = 1. Here 1 shows that it is a impure node.\n",
        "\n",
        "Entropy for Female node = -(2/10) log2 (2/10) – (8/10) log2 (8/10) = 0.72 and for male node,  -(13/20) log2 (13/20) – (7/20) log2 (7/20) = 0.93\n",
        "\n",
        "Entropy for split Gender = Weighted entropy of sub-nodes = (10/30)*0.72 + (20/30)*0.93 = 0.86\n",
        "\n",
        "Information gain if we split data on basis of gender :\n",
        "\n",
        "Information Gain= Entropy(S)- [(Weighted Avg) *Entropy(each feature)]\n",
        "IG = 1-0.86 = .14\n",
        "\n",
        "\n",
        "Entropy for Class IX node, -(6/14) log2 (6/14) – (8/14) log2 (8/14) = 0.99 and for Class X node,  -(9/16) log2 (9/16) – (7/16) log2 (7/16) = 0.99.\n",
        "\n",
        "Entropy for split Class =  (14/30)*0.99 + (16/30)*0.99 = 0.99\n",
        "\n",
        "Information gain if we split data on basis of gender :\n",
        "\n",
        "Information Gain= Entropy(S)- [(Weighted Avg) *Entropy(each feature)]\n",
        "IG = 1-0.99 = 0.01\n",
        "\n",
        "\n",
        "Above, you can see that IG for Split on Gender is the higher  among all, so the tree will split on Gender. "
      ]
    },
    {
      "cell_type": "markdown",
      "metadata": {
        "id": "HcY3tkXru_d7",
        "colab_type": "text"
      },
      "source": [
        "**Chi-Square**\n",
        "\n",
        "It is an algorithm to find out the statistical significance between the differences between sub-nodes and parent node. We measure it by sum of squares of standardized differences between observed and expected frequencies of target variable.\n",
        "\n",
        "It works with categorical target variable “Success” or “Failure”.\n",
        "\n",
        "It can perform two or more splits.\n",
        "\n",
        "Higher the value of Chi-Square higher the statistical significance of differences between sub-node and Parent node.\n",
        "\n",
        "\n",
        "Chi-Square of each node is calculated using formula,\n",
        "\n",
        "**Chi-square = ((Actual – Expected)^2 / Expected)^1/2**\n",
        "\n",
        "It generates tree called CHAID (Chi-square Automatic Interaction Detector)\n",
        "Steps to Calculate Chi-square for a split:\n",
        "\n",
        "1. Calculate Chi-square for individual node by calculating the deviation for Success and Failure both\n",
        "\n",
        "2. Calculated Chi-square of Split using Sum of all Chi-square of success and Failure of each node of the split\n"
      ]
    },
    {
      "cell_type": "markdown",
      "metadata": {
        "id": "9-dq7UJpve3B",
        "colab_type": "text"
      },
      "source": [
        "**Split on Gender:**\n",
        "\n",
        "1. First we are populating for node Female, Populate the actual value for “Play Cricket” and “Not Play Cricket”, here these are 2 and 8 respectively.\n",
        "\n",
        "2. Calculate expected value for “Play Cricket” and “Not Play Cricket”, here it would be 5 for both because parent node has probability of 50% and we have applied same probability on Female count(10).\n",
        "\n",
        "3. Calculate deviations by using formula, Actual – Expected. It is for “Play Cricket” (2 – 5 = -3) and for “Not play cricket” ( 8 – 5 = 3).\n",
        "\n",
        "4. Calculate Chi-square of node for “Play Cricket” and “Not Play Cricket” using formula with formula, = ((Actual – Expected)^2 / Expected)^1/2. You can refer below table for calculation.\n",
        "\n",
        "5. Follow similar steps for calculating Chi-square value for Male node.\n",
        "\n",
        "6. Now add all Chi-square values to calculate Chi-square for split Gender.\n",
        "\n",
        "![alt text](https://www.analyticsvidhya.com/wp-content/uploads/2015/01/Decision_Tree_Chi_Square1.png)"
      ]
    },
    {
      "cell_type": "markdown",
      "metadata": {
        "id": "8_iA5rgFwm8v",
        "colab_type": "text"
      },
      "source": [
        "**Split on Class:**\n",
        "\n",
        "Perform similar steps of calculation for split on Class and you will come up with below table.\n",
        "\n",
        "![alt text](https://www.analyticsvidhya.com/wp-content/uploads/2015/01/Decision_Tree_Chi_Square_2.png)\n",
        "\n",
        "Decision Tree, Chi-SquareAbove, you can see that Chi-square also identify the Gender split is more significant compare to Class."
      ]
    },
    {
      "cell_type": "markdown",
      "metadata": {
        "id": "EYyAvJ-2xys5",
        "colab_type": "text"
      },
      "source": [
        "**Reduction in Variance**\n",
        "\n",
        " Reduction in variance is an algorithm used for continuous target variables (regression problems). This algorithm uses the standard formula of variance to choose the best split. The split with lower variance is selected as the criteria to split the population:\n",
        "\n",
        "![alt text](https://www.analyticsvidhya.com/wp-content/uploads/2015/01/Varince-300x88.png)\n",
        "\n",
        "Above X-bar is mean of the values, X is actual and n is number of values.\n",
        "\n",
        "Steps to calculate Variance:\n",
        "\n",
        "1. Calculate variance for each node.\n",
        "\n",
        "2. Calculate variance for each split as weighted average of each node variance.\n",
        "\n",
        "Example:- Let’s assign numerical value 1 for play cricket and 0 for not playing cricket. Now follow the steps to identify the right split:\n",
        "\n",
        "1. Variance for Root node, here mean value is (15*1 + 15*0)/30 = 0.5 and we have 15 one and 15 zero. Now variance would be ((1-0.5)^2+(1-0.5)^2+….15 times+(0-0.5)^2+(0-0.5)^2+…15 times) / 30, this can be written as (15*(1-0.5)^2+15*(0-0.5)^2) / 30 = 0.25\n",
        "\n",
        "2. Mean of Female node =  (2*1+8*0)/10=0.2 and Variance = (2*(1-0.2)^2+8*(0-0.2)^2) / 10 = 0.16\n",
        "\n",
        "3. Mean of Male Node = (13*1+7*0)/20=0.65 and Variance = (13*(1-0.65)^2+7*(0-0.65)^2) / 20 = 0.23\n",
        "\n",
        "4. Variance for Split Gender = Weighted Variance of Sub-nodes = (10/30)*0.16 + (20/30) *0.23 = 0.21\n",
        "\n",
        "5. Mean of Class IX node =  (6*1+8*0)/14=0.43 and Variance = (6*(1-0.43)^2+8*(0-0.43)^2) / 14= 0.24\n",
        "\n",
        "6. Mean of Class X node =  (9*1+7*0)/16=0.56 and Variance = (9*(1-0.56)^2+7*(0-0.56)^2) / 16 = 0.25\n",
        "\n",
        "7. Variance for Split Gender = (14/30)*0.24 + (16/30) *0.25 = 0.25\n",
        "\n",
        "Above, you can see that Gender split has lower variance compare to parent node, so the split would take place on Gender variable."
      ]
    },
    {
      "cell_type": "markdown",
      "metadata": {
        "id": "rL9m4J3-1Fay",
        "colab_type": "text"
      },
      "source": [
        "**Decision Tree Regression**"
      ]
    },
    {
      "cell_type": "code",
      "metadata": {
        "id": "-hUWvyRms6K1",
        "colab_type": "code",
        "colab": {}
      },
      "source": [
        "# Decision Tree Regression\n",
        "\n",
        "# Importing the libraries\n",
        "import numpy as np\n",
        "import matplotlib.pyplot as plt\n",
        "import pandas as pd\n",
        "\n",
        "# Importing the dataset\n",
        "dataset = pd.read_csv('https://raw.githubusercontent.com/Uttam580/Machine_learning/master/datasets./Position_Salaries.csv')"
      ],
      "execution_count": 0,
      "outputs": []
    },
    {
      "cell_type": "code",
      "metadata": {
        "id": "mbpZn2GE0F9E",
        "colab_type": "code",
        "colab": {
          "base_uri": "https://localhost:8080/",
          "height": 195
        },
        "outputId": "76123521-a4e6-4027-b8a9-fadabe3cb443"
      },
      "source": [
        "dataset.head()"
      ],
      "execution_count": 16,
      "outputs": [
        {
          "output_type": "execute_result",
          "data": {
            "text/html": [
              "<div>\n",
              "<style scoped>\n",
              "    .dataframe tbody tr th:only-of-type {\n",
              "        vertical-align: middle;\n",
              "    }\n",
              "\n",
              "    .dataframe tbody tr th {\n",
              "        vertical-align: top;\n",
              "    }\n",
              "\n",
              "    .dataframe thead th {\n",
              "        text-align: right;\n",
              "    }\n",
              "</style>\n",
              "<table border=\"1\" class=\"dataframe\">\n",
              "  <thead>\n",
              "    <tr style=\"text-align: right;\">\n",
              "      <th></th>\n",
              "      <th>Position</th>\n",
              "      <th>Level</th>\n",
              "      <th>Salary</th>\n",
              "    </tr>\n",
              "  </thead>\n",
              "  <tbody>\n",
              "    <tr>\n",
              "      <th>0</th>\n",
              "      <td>Business Analyst</td>\n",
              "      <td>1</td>\n",
              "      <td>45000</td>\n",
              "    </tr>\n",
              "    <tr>\n",
              "      <th>1</th>\n",
              "      <td>Junior Consultant</td>\n",
              "      <td>2</td>\n",
              "      <td>50000</td>\n",
              "    </tr>\n",
              "    <tr>\n",
              "      <th>2</th>\n",
              "      <td>Senior Consultant</td>\n",
              "      <td>3</td>\n",
              "      <td>60000</td>\n",
              "    </tr>\n",
              "    <tr>\n",
              "      <th>3</th>\n",
              "      <td>Manager</td>\n",
              "      <td>4</td>\n",
              "      <td>80000</td>\n",
              "    </tr>\n",
              "    <tr>\n",
              "      <th>4</th>\n",
              "      <td>Country Manager</td>\n",
              "      <td>5</td>\n",
              "      <td>110000</td>\n",
              "    </tr>\n",
              "  </tbody>\n",
              "</table>\n",
              "</div>"
            ],
            "text/plain": [
              "            Position  Level  Salary\n",
              "0   Business Analyst      1   45000\n",
              "1  Junior Consultant      2   50000\n",
              "2  Senior Consultant      3   60000\n",
              "3            Manager      4   80000\n",
              "4    Country Manager      5  110000"
            ]
          },
          "metadata": {
            "tags": []
          },
          "execution_count": 16
        }
      ]
    },
    {
      "cell_type": "code",
      "metadata": {
        "id": "GFr9_7Gr0GH1",
        "colab_type": "code",
        "colab": {}
      },
      "source": [
        "X = dataset.iloc[:, 1:-1].values\n",
        "y = dataset.iloc[:, -1].values"
      ],
      "execution_count": 0,
      "outputs": []
    },
    {
      "cell_type": "code",
      "metadata": {
        "id": "tjlRA8xb0GLK",
        "colab_type": "code",
        "colab": {
          "base_uri": "https://localhost:8080/",
          "height": 34
        },
        "outputId": "5b147caa-94fb-4c01-8c74-b02f92107772"
      },
      "source": [
        "# Training the Decision Tree Regression model on the whole dataset\n",
        "from sklearn.tree import DecisionTreeRegressor\n",
        "regressor = DecisionTreeRegressor(random_state = 0)\n",
        "regressor.fit(X, y)\n",
        "\n",
        "# Predicting a new result\n",
        "regressor.predict([[6.5]])"
      ],
      "execution_count": 18,
      "outputs": [
        {
          "output_type": "execute_result",
          "data": {
            "text/plain": [
              "array([150000.])"
            ]
          },
          "metadata": {
            "tags": []
          },
          "execution_count": 18
        }
      ]
    },
    {
      "cell_type": "code",
      "metadata": {
        "id": "reugDkKo1XrN",
        "colab_type": "code",
        "colab": {
          "base_uri": "https://localhost:8080/",
          "height": 118
        },
        "outputId": "f7b00b4f-082d-4986-d29f-6064f4ce0263"
      },
      "source": [
        "regressor"
      ],
      "execution_count": 19,
      "outputs": [
        {
          "output_type": "execute_result",
          "data": {
            "text/plain": [
              "DecisionTreeRegressor(ccp_alpha=0.0, criterion='mse', max_depth=None,\n",
              "                      max_features=None, max_leaf_nodes=None,\n",
              "                      min_impurity_decrease=0.0, min_impurity_split=None,\n",
              "                      min_samples_leaf=1, min_samples_split=2,\n",
              "                      min_weight_fraction_leaf=0.0, presort='deprecated',\n",
              "                      random_state=0, splitter='best')"
            ]
          },
          "metadata": {
            "tags": []
          },
          "execution_count": 19
        }
      ]
    },
    {
      "cell_type": "code",
      "metadata": {
        "id": "SN84Gd490PCw",
        "colab_type": "code",
        "colab": {
          "base_uri": "https://localhost:8080/",
          "height": 295
        },
        "outputId": "45b5e5b5-ea21-4042-990a-fbeb3139cee0"
      },
      "source": [
        "# Visualising the Decision Tree Regression results (higher resolution)\n",
        "X_grid = np.arange(min(X), max(X), 0.01)\n",
        "X_grid = X_grid.reshape((len(X_grid), 1))\n",
        "plt.scatter(X, y, color = 'red')\n",
        "plt.plot(X_grid, regressor.predict(X_grid), color = 'blue')\n",
        "plt.title('Truth or Bluff (Decision Tree Regression)')\n",
        "plt.xlabel('Position level')\n",
        "plt.ylabel('Salary')\n",
        "plt.show()"
      ],
      "execution_count": 20,
      "outputs": [
        {
          "output_type": "display_data",
          "data": {
            "image/png": "[encoded data removed]",
            "text/plain": [
              "<Figure size 432x288 with 1 Axes>"
            ]
          },
          "metadata": {
            "tags": [],
            "needs_background": "light"
          }
        }
      ]
    },
    {
      "cell_type": "markdown",
      "metadata": {
        "id": "iwFCO1Rg0avN",
        "colab_type": "text"
      },
      "source": [
        "**Decision Tree Classification**"
      ]
    },
    {
      "cell_type": "code",
      "metadata": {
        "id": "t4veqe-q0bcl",
        "colab_type": "code",
        "colab": {}
      },
      "source": [
        "# Decision Tree Classification\n",
        "# Importing the dataset\n",
        "dataset = pd.read_csv('https://raw.githubusercontent.com/Uttam580/Machine_learning/master/datasets./Social_Network_Ads.csv')"
      ],
      "execution_count": 0,
      "outputs": []
    },
    {
      "cell_type": "code",
      "metadata": {
        "id": "GeF13waa0sne",
        "colab_type": "code",
        "colab": {
          "base_uri": "https://localhost:8080/",
          "height": 195
        },
        "outputId": "148586cf-ffb7-4524-aef9-be24a511f8d4"
      },
      "source": [
        "dataset.head()"
      ],
      "execution_count": 22,
      "outputs": [
        {
          "output_type": "execute_result",
          "data": {
            "text/html": [
              "<div>\n",
              "<style scoped>\n",
              "    .dataframe tbody tr th:only-of-type {\n",
              "        vertical-align: middle;\n",
              "    }\n",
              "\n",
              "    .dataframe tbody tr th {\n",
              "        vertical-align: top;\n",
              "    }\n",
              "\n",
              "    .dataframe thead th {\n",
              "        text-align: right;\n",
              "    }\n",
              "</style>\n",
              "<table border=\"1\" class=\"dataframe\">\n",
              "  <thead>\n",
              "    <tr style=\"text-align: right;\">\n",
              "      <th></th>\n",
              "      <th>User ID</th>\n",
              "      <th>Gender</th>\n",
              "      <th>Age</th>\n",
              "      <th>EstimatedSalary</th>\n",
              "      <th>Purchased</th>\n",
              "    </tr>\n",
              "  </thead>\n",
              "  <tbody>\n",
              "    <tr>\n",
              "      <th>0</th>\n",
              "      <td>15624510</td>\n",
              "      <td>Male</td>\n",
              "      <td>19</td>\n",
              "      <td>19000</td>\n",
              "      <td>0</td>\n",
              "    </tr>\n",
              "    <tr>\n",
              "      <th>1</th>\n",
              "      <td>15810944</td>\n",
              "      <td>Male</td>\n",
              "      <td>35</td>\n",
              "      <td>20000</td>\n",
              "      <td>0</td>\n",
              "    </tr>\n",
              "    <tr>\n",
              "      <th>2</th>\n",
              "      <td>15668575</td>\n",
              "      <td>Female</td>\n",
              "      <td>26</td>\n",
              "      <td>43000</td>\n",
              "      <td>0</td>\n",
              "    </tr>\n",
              "    <tr>\n",
              "      <th>3</th>\n",
              "      <td>15603246</td>\n",
              "      <td>Female</td>\n",
              "      <td>27</td>\n",
              "      <td>57000</td>\n",
              "      <td>0</td>\n",
              "    </tr>\n",
              "    <tr>\n",
              "      <th>4</th>\n",
              "      <td>15804002</td>\n",
              "      <td>Male</td>\n",
              "      <td>19</td>\n",
              "      <td>76000</td>\n",
              "      <td>0</td>\n",
              "    </tr>\n",
              "  </tbody>\n",
              "</table>\n",
              "</div>"
            ],
            "text/plain": [
              "    User ID  Gender  Age  EstimatedSalary  Purchased\n",
              "0  15624510    Male   19            19000          0\n",
              "1  15810944    Male   35            20000          0\n",
              "2  15668575  Female   26            43000          0\n",
              "3  15603246  Female   27            57000          0\n",
              "4  15804002    Male   19            76000          0"
            ]
          },
          "metadata": {
            "tags": []
          },
          "execution_count": 22
        }
      ]
    },
    {
      "cell_type": "code",
      "metadata": {
        "id": "hiaxkp5Y0vef",
        "colab_type": "code",
        "colab": {}
      },
      "source": [
        "X = dataset.iloc[:, [2, 3]].values\n",
        "y = dataset.iloc[:, -1].values\n",
        "\n",
        "# Splitting the dataset into the Training set and Test set\n",
        "from sklearn.model_selection import train_test_split\n",
        "X_train, X_test, y_train, y_test = train_test_split(X, y, test_size = 0.25, random_state = 0)\n",
        "\n",
        "# Feature Scaling\n",
        "from sklearn.preprocessing import StandardScaler\n",
        "sc = StandardScaler()\n",
        "X_train = sc.fit_transform(X_train)\n",
        "X_test = sc.transform(X_test)"
      ],
      "execution_count": 0,
      "outputs": []
    },
    {
      "cell_type": "code",
      "metadata": {
        "id": "1WGB_1Ih014n",
        "colab_type": "code",
        "colab": {
          "base_uri": "https://localhost:8080/",
          "height": 50
        },
        "outputId": "e548e203-16ab-45b9-d91a-56dc4e7ef47e"
      },
      "source": [
        "# Training the Decision Tree Classification model on the Training set\n",
        "from sklearn.tree import DecisionTreeClassifier\n",
        "classifier = DecisionTreeClassifier(criterion = 'entropy', random_state = 0)\n",
        "classifier.fit(X_train, y_train)\n",
        "\n",
        "# Predicting the Test set results\n",
        "y_pred = classifier.predict(X_test)\n",
        "\n",
        "# Making the Confusion Matrix\n",
        "from sklearn.metrics import confusion_matrix\n",
        "cm = confusion_matrix(y_test, y_pred)\n",
        "print(cm)"
      ],
      "execution_count": 24,
      "outputs": [
        {
          "output_type": "stream",
          "text": [
            "[[62  6]\n",
            " [ 3 29]]\n"
          ],
          "name": "stdout"
        }
      ]
    },
    {
      "cell_type": "code",
      "metadata": {
        "id": "uFOPcoFn1S1U",
        "colab_type": "code",
        "colab": {
          "base_uri": "https://localhost:8080/",
          "height": 118
        },
        "outputId": "acda1f33-3361-47fc-85a2-f4c125b6210e"
      },
      "source": [
        "classifier"
      ],
      "execution_count": 25,
      "outputs": [
        {
          "output_type": "execute_result",
          "data": {
            "text/plain": [
              "DecisionTreeClassifier(ccp_alpha=0.0, class_weight=None, criterion='entropy',\n",
              "                       max_depth=None, max_features=None, max_leaf_nodes=None,\n",
              "                       min_impurity_decrease=0.0, min_impurity_split=None,\n",
              "                       min_samples_leaf=1, min_samples_split=2,\n",
              "                       min_weight_fraction_leaf=0.0, presort='deprecated',\n",
              "                       random_state=0, splitter='best')"
            ]
          },
          "metadata": {
            "tags": []
          },
          "execution_count": 25
        }
      ]
    },
    {
      "cell_type": "code",
      "metadata": {
        "id": "Mevcq53m060B",
        "colab_type": "code",
        "colab": {
          "base_uri": "https://localhost:8080/",
          "height": 349
        },
        "outputId": "97eda002-2e33-4834-8aee-27f8e796c6f7"
      },
      "source": [
        "# Visualising the Training set results\n",
        "from matplotlib.colors import ListedColormap\n",
        "X_set, y_set = X_train, y_train\n",
        "X1, X2 = np.meshgrid(np.arange(start = X_set[:, 0].min() - 1, stop = X_set[:, 0].max() + 1, step = 0.01),\n",
        "                     np.arange(start = X_set[:, 1].min() - 1, stop = X_set[:, 1].max() + 1, step = 0.01))\n",
        "plt.contourf(X1, X2, classifier.predict(np.array([X1.ravel(), X2.ravel()]).T).reshape(X1.shape),\n",
        "             alpha = 0.75, cmap = ListedColormap(('red', 'green')))\n",
        "plt.xlim(X1.min(), X1.max())\n",
        "plt.ylim(X2.min(), X2.max())\n",
        "for i, j in enumerate(np.unique(y_set)):\n",
        "    plt.scatter(X_set[y_set == j, 0], X_set[y_set == j, 1],\n",
        "                c = ListedColormap(('red', 'green'))(i), label = j)\n",
        "plt.title('Decision Tree Classification (Training set)')\n",
        "plt.xlabel('Age')\n",
        "plt.ylabel('Estimated Salary')\n",
        "plt.legend()\n",
        "plt.show()"
      ],
      "execution_count": 26,
      "outputs": [
        {
          "output_type": "stream",
          "text": [
            "'c' argument looks like a single numeric RGB or RGBA sequence, which should be avoided as value-mapping will have precedence in case its length matches with 'x' & 'y'.  Please use a 2-D array with a single row if you really want to specify the same RGB or RGBA value for all points.\n",
            "'c' argument looks like a single numeric RGB or RGBA sequence, which should be avoided as value-mapping will have precedence in case its length matches with 'x' & 'y'.  Please use a 2-D array with a single row if you really want to specify the same RGB or RGBA value for all points.\n"
          ],
          "name": "stderr"
        },
        {
          "output_type": "display_data",
          "data": {
            "image/png": "[encoded data removed]",
            "text/plain": [
              "<Figure size 432x288 with 1 Axes>"
            ]
          },
          "metadata": {
            "tags": [],
            "needs_background": "light"
          }
        }
      ]
    },
    {
      "cell_type": "code",
      "metadata": {
        "id": "xoKr6AmQ094A",
        "colab_type": "code",
        "colab": {
          "base_uri": "https://localhost:8080/",
          "height": 349
        },
        "outputId": "f9e19d6f-f142-491d-9543-80e3aa949c3f"
      },
      "source": [
        "# Visualising the Test set results\n",
        "from matplotlib.colors import ListedColormap\n",
        "X_set, y_set = X_test, y_test\n",
        "X1, X2 = np.meshgrid(np.arange(start = X_set[:, 0].min() - 1, stop = X_set[:, 0].max() + 1, step = 0.01),\n",
        "                     np.arange(start = X_set[:, 1].min() - 1, stop = X_set[:, 1].max() + 1, step = 0.01))\n",
        "plt.contourf(X1, X2, classifier.predict(np.array([X1.ravel(), X2.ravel()]).T).reshape(X1.shape),\n",
        "             alpha = 0.75, cmap = ListedColormap(('red', 'green')))\n",
        "plt.xlim(X1.min(), X1.max())\n",
        "plt.ylim(X2.min(), X2.max())\n",
        "for i, j in enumerate(np.unique(y_set)):\n",
        "    plt.scatter(X_set[y_set == j, 0], X_set[y_set == j, 1],\n",
        "                c = ListedColormap(('red', 'green'))(i), label = j)\n",
        "plt.title('Decision Tree Classification (Test set)')\n",
        "plt.xlabel('Age')\n",
        "plt.ylabel('Estimated Salary')\n",
        "plt.legend()\n",
        "plt.show()"
      ],
      "execution_count": 27,
      "outputs": [
        {
          "output_type": "stream",
          "text": [
            "'c' argument looks like a single numeric RGB or RGBA sequence, which should be avoided as value-mapping will have precedence in case its length matches with 'x' & 'y'.  Please use a 2-D array with a single row if you really want to specify the same RGB or RGBA value for all points.\n",
            "'c' argument looks like a single numeric RGB or RGBA sequence, which should be avoided as value-mapping will have precedence in case its length matches with 'x' & 'y'.  Please use a 2-D array with a single row if you really want to specify the same RGB or RGBA value for all points.\n"
          ],
          "name": "stderr"
        },
        {
          "output_type": "display_data",
          "data": {
            "image/png": "[encoded data removed]",
            "text/plain": [
              "<Figure size 432x288 with 1 Axes>"
            ]
          },
          "metadata": {
            "tags": [],
            "needs_background": "light"
          }
        }
      ]
    },
    {
      "cell_type": "markdown",
      "metadata": {
        "id": "fxdUz_yJ1hj7",
        "colab_type": "text"
      },
      "source": [
        "**Avoid overfitting Problem**\n",
        "\n",
        "![alt text](https://www.analyticsvidhya.com/wp-content/uploads/2016/02/tree-infographic.png)"
      ]
    },
    {
      "cell_type": "markdown",
      "metadata": {
        "id": "rT9pDRgH3cZ0",
        "colab_type": "text"
      },
      "source": [
        "Pruning is a technique in machine learning and search algorithms that reduces the size of decision trees by removing sections of the tree that provide little power to classify instances. Pruning reduces the complexity of the final classifier, and hence improves predictive accuracy by the reduction of overfitting\n",
        "\n",
        "- Pre-pruning (avoidance): Stop growing the tree earlier, before it reaches the point where it perfectly classifies the training data\n",
        "\n",
        "- Post-pruning (recovery): Allow the tree to overfit the data, and then post-prune the tree"
      ]
    }
  ]
}