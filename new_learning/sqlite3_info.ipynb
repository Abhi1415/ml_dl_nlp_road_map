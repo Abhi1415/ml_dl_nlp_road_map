{
  "nbformat": 4,
  "nbformat_minor": 0,
  "metadata": {
    "colab": {
      "name": "sqlite3_info.ipynb",
      "provenance": []
    },
    "kernelspec": {
      "name": "python3",
      "display_name": "Python 3"
    }
  },
  "cells": [
    {
      "cell_type": "code",
      "metadata": {
        "id": "z-VGpaBE58iF",
        "colab_type": "code",
        "colab": {}
      },
      "source": [
        "import sqlite3\n",
        "conn = sqlite3.connect('test1.db')"
      ],
      "execution_count": 0,
      "outputs": []
    },
    {
      "cell_type": "markdown",
      "metadata": {
        "id": "2DNmgoZR6if-",
        "colab_type": "text"
      },
      "source": [
        "To use the module, you must first create a Connection object that represents the database. Here the data will be stored in the example.db file:"
      ]
    },
    {
      "cell_type": "code",
      "metadata": {
        "id": "C981Njqt58qI",
        "colab_type": "code",
        "colab": {
          "base_uri": "https://localhost:8080/",
          "height": 34
        },
        "outputId": "a119e79d-80d3-445c-f341-9d256d040437"
      },
      "source": [
        "ls"
      ],
      "execution_count": 3,
      "outputs": [
        {
          "output_type": "stream",
          "text": [
            "\u001b[0m\u001b[01;34msample_data\u001b[0m/  test1.db\n"
          ],
          "name": "stdout"
        }
      ]
    },
    {
      "cell_type": "markdown",
      "metadata": {
        "id": "7OLEZwTr6dAn",
        "colab_type": "text"
      },
      "source": [
        "Once you have a Connection, you can create a Cursor object and call its execute() method to perform SQL commands:"
      ]
    },
    {
      "cell_type": "code",
      "metadata": {
        "id": "vLllvj7O58td",
        "colab_type": "code",
        "colab": {}
      },
      "source": [
        "c = conn.cursor()\n",
        "\n",
        "# Create table\n",
        "c.execute('''CREATE TABLE stocks\n",
        "             (date text, \n",
        "             trans text, \n",
        "             symbol text,\n",
        "            qty real, \n",
        "            price real)''')\n",
        "\n",
        "# Insert a row of data\n",
        "c.execute(\"INSERT INTO stocks VALUES ('2006-01-05','BUY','RHAT',100,35.14)\")\n",
        "\n",
        "# Save (commit) the changes\n",
        "conn.commit()\n",
        "\n",
        "# We can also close the connection if we are done with it.\n",
        "# Just be sure any changes have been committed or they will be lost.\n",
        "conn.close()"
      ],
      "execution_count": 0,
      "outputs": []
    },
    {
      "cell_type": "markdown",
      "metadata": {
        "id": "XI_wTGWn7G-q",
        "colab_type": "text"
      },
      "source": [
        "The data you’ve saved is persistent and is available in subsequent sessions"
      ]
    },
    {
      "cell_type": "markdown",
      "metadata": {
        "id": "DzKOz7n4_Pld",
        "colab_type": "text"
      },
      "source": [
        "**sqlite3.connect(database [,timeout ,other optional arguments])**\n",
        "\n",
        "This API opens a connection to the SQLite database file. You can use \":memory:\" to open a database connection to a database that resides in RAM instead of on disk. If database is opened successfully, it returns a connection object.\n",
        "\n",
        "When a database is accessed by multiple connections, and one of the processes modifies the database, the SQLite database is locked until that transaction is committed. The timeout parameter specifies how long the connection should wait for the lock to go away until raising an exception. The default for the timeout parameter is 5.0 (five seconds).\n",
        "\n",
        "If the given database name does not exist then this call will create the database. You can specify filename with the required path as well if you want to create a database anywhere else except in the current directory."
      ]
    },
    {
      "cell_type": "code",
      "metadata": {
        "id": "yeYtB5EI58wi",
        "colab_type": "code",
        "colab": {}
      },
      "source": [
        "conn = sqlite3.connect('test1.db')\n",
        "c = conn.cursor()"
      ],
      "execution_count": 0,
      "outputs": []
    },
    {
      "cell_type": "markdown",
      "metadata": {
        "id": "jzs1_e4K78DO",
        "colab_type": "text"
      },
      "source": [
        "use the DB-API’s parameter substitution. Put ? as a placeholder wherever you want to use a value, and then provide a tuple of values as the second argument to the cursor’s execute() method."
      ]
    },
    {
      "cell_type": "code",
      "metadata": {
        "id": "pARE8mCH581k",
        "colab_type": "code",
        "colab": {
          "base_uri": "https://localhost:8080/",
          "height": 34
        },
        "outputId": "3d17467f-e99a-4a5d-9290-f1ea41ecc206"
      },
      "source": [
        "t = ('RHAT',)\n",
        "c.execute('SELECT * FROM stocks WHERE symbol=?', t)# selecting speific item from all items \n",
        "print(c.fetchone())"
      ],
      "execution_count": 6,
      "outputs": [
        {
          "output_type": "stream",
          "text": [
            "('2006-01-05', 'BUY', 'RHAT', 100.0, 35.14)\n"
          ],
          "name": "stdout"
        }
      ]
    },
    {
      "cell_type": "code",
      "metadata": {
        "id": "rVt2twj25841",
        "colab_type": "code",
        "colab": {}
      },
      "source": [
        "#inserting many records into the database\n",
        "\n",
        "purchases = [('2006-03-28', 'BUY', 'IBM', 1000, 45.00),\n",
        "             ('2006-04-05', 'BUY', 'MSFT', 1000, 72.00),\n",
        "             ('2006-04-06', 'SELL', 'IBM', 500, 53.00),\n",
        "            ]"
      ],
      "execution_count": 0,
      "outputs": []
    },
    {
      "cell_type": "code",
      "metadata": {
        "id": "-tTwGyrU586N",
        "colab_type": "code",
        "colab": {
          "base_uri": "https://localhost:8080/",
          "height": 34
        },
        "outputId": "0c4a62ff-a2fb-430f-813b-fb99851eb3e5"
      },
      "source": [
        "c.executemany('INSERT INTO stocks VALUES (?,?,?,?,?)', purchases)"
      ],
      "execution_count": 11,
      "outputs": [
        {
          "output_type": "execute_result",
          "data": {
            "text/plain": [
              "<sqlite3.Cursor at 0x7f5b49524f80>"
            ]
          },
          "metadata": {
            "tags": []
          },
          "execution_count": 11
        }
      ]
    },
    {
      "cell_type": "markdown",
      "metadata": {
        "id": "xPe-fJ1I99CV",
        "colab_type": "text"
      },
      "source": [
        "To retrieve data after executing a SELECT statement, you can either treat the cursor as an iterator, call the cursor’s fetchone() method to retrieve a single matching row, or call fetchall() to get a list of the matching rows."
      ]
    },
    {
      "cell_type": "code",
      "metadata": {
        "id": "qbxUKBnm587w",
        "colab_type": "code",
        "colab": {
          "base_uri": "https://localhost:8080/",
          "height": 85
        },
        "outputId": "c1eac3f1-c6de-4014-8e2b-e137e9e00259"
      },
      "source": [
        "for row in c.execute('SELECT * FROM stocks ORDER BY price'): # iterating data through the for loop \n",
        "  print(row)"
      ],
      "execution_count": 12,
      "outputs": [
        {
          "output_type": "stream",
          "text": [
            "('2006-01-05', 'BUY', 'RHAT', 100.0, 35.14)\n",
            "('2006-03-28', 'BUY', 'IBM', 1000.0, 45.0)\n",
            "('2006-04-06', 'SELL', 'IBM', 500.0, 53.0)\n",
            "('2006-04-05', 'BUY', 'MSFT', 1000.0, 72.0)\n"
          ],
          "name": "stdout"
        }
      ]
    },
    {
      "cell_type": "code",
      "metadata": {
        "id": "zlsoup40589H",
        "colab_type": "code",
        "colab": {}
      },
      "source": [
        "conn.commit()\n",
        "conn.close()"
      ],
      "execution_count": 0,
      "outputs": []
    },
    {
      "cell_type": "code",
      "metadata": {
        "id": "2Ng3PAx759u7",
        "colab_type": "code",
        "colab": {}
      },
      "source": [
        ""
      ],
      "execution_count": 0,
      "outputs": []
    },
    {
      "cell_type": "code",
      "metadata": {
        "id": "9pbt8uZQ5-VG",
        "colab_type": "code",
        "colab": {}
      },
      "source": [
        ""
      ],
      "execution_count": 0,
      "outputs": []
    },
    {
      "cell_type": "code",
      "metadata": {
        "id": "T8Is59Gn6AQC",
        "colab_type": "code",
        "colab": {}
      },
      "source": [
        ""
      ],
      "execution_count": 0,
      "outputs": []
    },
    {
      "cell_type": "code",
      "metadata": {
        "id": "X52BlyM_6ALd",
        "colab_type": "code",
        "colab": {}
      },
      "source": [
        ""
      ],
      "execution_count": 0,
      "outputs": []
    },
    {
      "cell_type": "code",
      "metadata": {
        "id": "xjPJHctq6AD8",
        "colab_type": "code",
        "colab": {}
      },
      "source": [
        ""
      ],
      "execution_count": 0,
      "outputs": []
    },
    {
      "cell_type": "code",
      "metadata": {
        "id": "QjtdpVzn5__V",
        "colab_type": "code",
        "colab": {}
      },
      "source": [
        ""
      ],
      "execution_count": 0,
      "outputs": []
    },
    {
      "cell_type": "code",
      "metadata": {
        "id": "yyeensLn5_8R",
        "colab_type": "code",
        "colab": {}
      },
      "source": [
        ""
      ],
      "execution_count": 0,
      "outputs": []
    },
    {
      "cell_type": "code",
      "metadata": {
        "id": "cJO8L4Nr5_5U",
        "colab_type": "code",
        "colab": {}
      },
      "source": [
        ""
      ],
      "execution_count": 0,
      "outputs": []
    },
    {
      "cell_type": "code",
      "metadata": {
        "id": "5Fbr3BvQ5_2f",
        "colab_type": "code",
        "colab": {}
      },
      "source": [
        ""
      ],
      "execution_count": 0,
      "outputs": []
    },
    {
      "cell_type": "code",
      "metadata": {
        "id": "XQlFfZVb5_za",
        "colab_type": "code",
        "colab": {}
      },
      "source": [
        ""
      ],
      "execution_count": 0,
      "outputs": []
    },
    {
      "cell_type": "code",
      "metadata": {
        "id": "otBeQPlj5_wX",
        "colab_type": "code",
        "colab": {}
      },
      "source": [
        ""
      ],
      "execution_count": 0,
      "outputs": []
    },
    {
      "cell_type": "code",
      "metadata": {
        "id": "n5pb52w35_tZ",
        "colab_type": "code",
        "colab": {}
      },
      "source": [
        ""
      ],
      "execution_count": 0,
      "outputs": []
    },
    {
      "cell_type": "code",
      "metadata": {
        "id": "1-phLXGX5_pj",
        "colab_type": "code",
        "colab": {}
      },
      "source": [
        ""
      ],
      "execution_count": 0,
      "outputs": []
    },
    {
      "cell_type": "code",
      "metadata": {
        "id": "jqwMozod5_mM",
        "colab_type": "code",
        "colab": {}
      },
      "source": [
        ""
      ],
      "execution_count": 0,
      "outputs": []
    },
    {
      "cell_type": "code",
      "metadata": {
        "id": "zGeLPfkJ5_hR",
        "colab_type": "code",
        "colab": {}
      },
      "source": [
        ""
      ],
      "execution_count": 0,
      "outputs": []
    },
    {
      "cell_type": "code",
      "metadata": {
        "id": "uM6JPpvj5-Sp",
        "colab_type": "code",
        "colab": {}
      },
      "source": [
        ""
      ],
      "execution_count": 0,
      "outputs": []
    },
    {
      "cell_type": "code",
      "metadata": {
        "id": "x5wgxKfo5-QV",
        "colab_type": "code",
        "colab": {}
      },
      "source": [
        ""
      ],
      "execution_count": 0,
      "outputs": []
    },
    {
      "cell_type": "code",
      "metadata": {
        "id": "Gn1TCKQo5-OC",
        "colab_type": "code",
        "colab": {}
      },
      "source": [
        ""
      ],
      "execution_count": 0,
      "outputs": []
    },
    {
      "cell_type": "code",
      "metadata": {
        "id": "1390lozW5-L6",
        "colab_type": "code",
        "colab": {}
      },
      "source": [
        ""
      ],
      "execution_count": 0,
      "outputs": []
    },
    {
      "cell_type": "code",
      "metadata": {
        "id": "EPm6do7T5-Jt",
        "colab_type": "code",
        "colab": {}
      },
      "source": [
        ""
      ],
      "execution_count": 0,
      "outputs": []
    },
    {
      "cell_type": "code",
      "metadata": {
        "id": "8lBa7n4K5-HZ",
        "colab_type": "code",
        "colab": {}
      },
      "source": [
        ""
      ],
      "execution_count": 0,
      "outputs": []
    },
    {
      "cell_type": "code",
      "metadata": {
        "id": "HL_3TRoU59r2",
        "colab_type": "code",
        "colab": {}
      },
      "source": [
        ""
      ],
      "execution_count": 0,
      "outputs": []
    },
    {
      "cell_type": "code",
      "metadata": {
        "id": "Dzd1wYON59pY",
        "colab_type": "code",
        "colab": {}
      },
      "source": [
        ""
      ],
      "execution_count": 0,
      "outputs": []
    },
    {
      "cell_type": "code",
      "metadata": {
        "id": "OGQdgdha59mk",
        "colab_type": "code",
        "colab": {}
      },
      "source": [
        ""
      ],
      "execution_count": 0,
      "outputs": []
    },
    {
      "cell_type": "code",
      "metadata": {
        "id": "5zOv_-fi59ji",
        "colab_type": "code",
        "colab": {}
      },
      "source": [
        ""
      ],
      "execution_count": 0,
      "outputs": []
    },
    {
      "cell_type": "code",
      "metadata": {
        "id": "5-T4YeOq59hI",
        "colab_type": "code",
        "colab": {}
      },
      "source": [
        ""
      ],
      "execution_count": 0,
      "outputs": []
    },
    {
      "cell_type": "code",
      "metadata": {
        "id": "tqp1hVbx59eJ",
        "colab_type": "code",
        "colab": {}
      },
      "source": [
        ""
      ],
      "execution_count": 0,
      "outputs": []
    },
    {
      "cell_type": "code",
      "metadata": {
        "id": "rD3pLntL59bF",
        "colab_type": "code",
        "colab": {}
      },
      "source": [
        ""
      ],
      "execution_count": 0,
      "outputs": []
    }
  ]
}