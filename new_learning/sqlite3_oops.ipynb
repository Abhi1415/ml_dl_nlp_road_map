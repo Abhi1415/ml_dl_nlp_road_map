{
  "nbformat": 4,
  "nbformat_minor": 0,
  "metadata": {
    "colab": {
      "name": "sqlite3_oops.ipynb",
      "provenance": []
    },
    "kernelspec": {
      "name": "python3",
      "display_name": "Python 3"
    }
  },
  "cells": [
    {
      "cell_type": "code",
      "metadata": {
        "id": "N2WTe7GRAqfg",
        "colab_type": "code",
        "colab": {}
      },
      "source": [
        "class student: \n",
        "  def __init__(self,first_name,last_name,age,class_,section):\n",
        "    self.first_name  = first_name\n",
        "    self.last_name  = last_name\n",
        "    self.age = age \n",
        "    self.class_ = class_\n",
        "    self.section = section"
      ],
      "execution_count": 0,
      "outputs": []
    },
    {
      "cell_type": "code",
      "metadata": {
        "id": "AARw5vgxBRoi",
        "colab_type": "code",
        "colab": {}
      },
      "source": [
        "std1 = student('Uttam','Kumar', 26, 12,'A')\n",
        "std2= student('Mukesh','Kumar', 22, 8, 'B' )"
      ],
      "execution_count": 0,
      "outputs": []
    },
    {
      "cell_type": "code",
      "metadata": {
        "id": "mev_EpfJFU3N",
        "colab_type": "code",
        "colab": {
          "base_uri": "https://localhost:8080/",
          "height": 34
        },
        "outputId": "b72236cf-a462-4fe5-90c2-30259d278146"
      },
      "source": [
        "print('Details of student first student  is  first_name  :  {} ,last_name : {}, age: {}, class_ : {}, section : {}'.format(std1.first_name, std1.last_name, std1.age, std1.class_,std1.section))"
      ],
      "execution_count": 76,
      "outputs": [
        {
          "output_type": "stream",
          "text": [
            "Details of student first student  is  first_name  :  Uttam ,last_name : Kumar, age: 26, class_ : 12, section : A\n"
          ],
          "name": "stdout"
        }
      ]
    },
    {
      "cell_type": "code",
      "metadata": {
        "id": "98lNQSibGuMI",
        "colab_type": "code",
        "colab": {
          "base_uri": "https://localhost:8080/",
          "height": 34
        },
        "outputId": "dba384f9-01cc-456d-95fa-b7ea732be83b"
      },
      "source": [
        "print('Details of student second  student is  first_name  :  {} ,last_name : {}, age: {}, class_ : {}, section : {}'.format(std2.first_name, std2.last_name, std2.age, std2.class_,std2.section))"
      ],
      "execution_count": 77,
      "outputs": [
        {
          "output_type": "stream",
          "text": [
            "Details of student second  student is  first_name  :  Mukesh ,last_name : Kumar, age: 22, class_ : 8, section : B\n"
          ],
          "name": "stdout"
        }
      ]
    },
    {
      "cell_type": "code",
      "metadata": {
        "id": "QDzmiRBwHDXb",
        "colab_type": "code",
        "colab": {}
      },
      "source": [
        ""
      ],
      "execution_count": 0,
      "outputs": []
    },
    {
      "cell_type": "markdown",
      "metadata": {
        "id": "Ly116ZboHGrn",
        "colab_type": "text"
      },
      "source": [
        "**Creating class for DBoperations**"
      ]
    },
    {
      "cell_type": "code",
      "metadata": {
        "id": "X1_5rpmIHEdx",
        "colab_type": "code",
        "colab": {}
      },
      "source": [
        "import sqlite3\n",
        "\n",
        "class dboperation: \n",
        "\n",
        "  def __init__(self,dbname):\n",
        "    self.dbname = dbname\n",
        "\n",
        "  def createdb(self):\n",
        "    conn = sqlite3.connect(self.dbname)\n",
        "\n",
        "  def chkconnection(self):\n",
        "    conn = sqlite3.connect(self.dbname)\n",
        "    c = conn.cursor()\n",
        "    print('connection has been established')\n",
        "    self.closedbconnection(conn)\n",
        "    print('connection has closed')\n",
        "\n",
        "  def createtable(self,tablename):\n",
        "    conn = sqlite3.connect(self.dbname)\n",
        "    c= conn.cursor()\n",
        "    c.execute('CREATE TABLE {tableName} (first_name text, last_name text,age integer,class_ text, section  txt)'.format(tableName=tablename))\n",
        "    print('table has created')\n",
        "    self.closedbconnection(conn)\n",
        "\n",
        "  def insertintotable(self,tablename,listOfvaluesToInsert):\n",
        "    conn = sqlite3.connect(self.dbname)\n",
        "    c= conn.cursor()\n",
        "    conn.execute(\"INSERT INTO {tableName}  values {value}\".format(tableName = tablename,value=valuesToisnert))\n",
        "    conn.commit()\n",
        "    print(\"Values Inserted Successfully!!!\")\n",
        "    self.closedbconnection(conn)\n",
        "    print(\"Connection to database closed!!\")\n",
        "\n",
        "\n",
        "  def selectfromtable(self, tablename):\n",
        "    conn = sqlite3.connect(self.dbname)\n",
        "    c = conn.cursor()\n",
        "    c.execute(\"SELECT *  FROM {table}\".format(table=tablename))\n",
        "    print(\"values in table : \" ,c.fetchall())\n",
        "    self.closedbconnection(conn)\n",
        "    print(\"Connection to database closed!!\")\n",
        "  \n",
        "\n",
        "  def closedbconnection(self, connection):\n",
        "    connection.close()"
      ],
      "execution_count": 0,
      "outputs": []
    },
    {
      "cell_type": "code",
      "metadata": {
        "id": "B75mKaKdfb7v",
        "colab_type": "code",
        "colab": {
          "base_uri": "https://localhost:8080/",
          "height": 34
        },
        "outputId": "0280d19e-8a83-44d7-f4a6-aab5b665d68c"
      },
      "source": [
        "ls"
      ],
      "execution_count": 79,
      "outputs": [
        {
          "output_type": "stream",
          "text": [
            "\u001b[0m\u001b[01;34msample_data\u001b[0m/\n"
          ],
          "name": "stdout"
        }
      ]
    },
    {
      "cell_type": "code",
      "metadata": {
        "id": "VPIEeE2Gfb4Q",
        "colab_type": "code",
        "colab": {}
      },
      "source": [
        "#creating object for db operation\n",
        "db = dboperation('test1.db')"
      ],
      "execution_count": 0,
      "outputs": []
    },
    {
      "cell_type": "code",
      "metadata": {
        "id": "hAScRv1Hfb0e",
        "colab_type": "code",
        "colab": {}
      },
      "source": [
        "db.createdb()#creating database "
      ],
      "execution_count": 0,
      "outputs": []
    },
    {
      "cell_type": "code",
      "metadata": {
        "id": "2djE4cIzgSwO",
        "colab_type": "code",
        "colab": {
          "base_uri": "https://localhost:8080/",
          "height": 34
        },
        "outputId": "8ba64054-845e-42f1-a3fb-b30ee0338b1e"
      },
      "source": [
        " ls"
      ],
      "execution_count": 82,
      "outputs": [
        {
          "output_type": "stream",
          "text": [
            "\u001b[0m\u001b[01;34msample_data\u001b[0m/  test1.db\n"
          ],
          "name": "stdout"
        }
      ]
    },
    {
      "cell_type": "code",
      "metadata": {
        "id": "C_FhQjldfbsm",
        "colab_type": "code",
        "colab": {
          "base_uri": "https://localhost:8080/",
          "height": 51
        },
        "outputId": "1bf51c9e-68ee-4449-c4a3-616a6d6aa3ac"
      },
      "source": [
        "db.chkconnection() #checking database connectivity "
      ],
      "execution_count": 83,
      "outputs": [
        {
          "output_type": "stream",
          "text": [
            "connection has been established\n",
            "connection has closed\n"
          ],
          "name": "stdout"
        }
      ]
    },
    {
      "cell_type": "code",
      "metadata": {
        "id": "zNww6AAai6iW",
        "colab_type": "code",
        "colab": {
          "base_uri": "https://localhost:8080/",
          "height": 34
        },
        "outputId": "8e99e09d-97e3-4261-f726-a00481a61b19"
      },
      "source": [
        "db.createtable('std')"
      ],
      "execution_count": 84,
      "outputs": [
        {
          "output_type": "stream",
          "text": [
            "table has created\n"
          ],
          "name": "stdout"
        }
      ]
    },
    {
      "cell_type": "code",
      "metadata": {
        "id": "nhhxudLGjTls",
        "colab_type": "code",
        "colab": {}
      },
      "source": [
        "valuesToisnert = ('uttam','kumar',26,10,'A')"
      ],
      "execution_count": 0,
      "outputs": []
    },
    {
      "cell_type": "code",
      "metadata": {
        "id": "a5b1PtaojChf",
        "colab_type": "code",
        "colab": {
          "base_uri": "https://localhost:8080/",
          "height": 51
        },
        "outputId": "17169266-ac56-4f58-c07b-e0ec6cc3b724"
      },
      "source": [
        "db.insertintotable('std',valuesToisnert)"
      ],
      "execution_count": 86,
      "outputs": [
        {
          "output_type": "stream",
          "text": [
            "Values Inserted Successfully!!!\n",
            "Connection to database closed!!\n"
          ],
          "name": "stdout"
        }
      ]
    },
    {
      "cell_type": "code",
      "metadata": {
        "id": "gBDjaGm7kMQ3",
        "colab_type": "code",
        "colab": {
          "base_uri": "https://localhost:8080/",
          "height": 51
        },
        "outputId": "2ba42d3e-1a65-40f5-bb54-9a74067bac31"
      },
      "source": [
        "valuesToisnert = ('Mukesh','kumar',22,11,'c')\n",
        "db.insertintotable('std',valuesToisnert)"
      ],
      "execution_count": 87,
      "outputs": [
        {
          "output_type": "stream",
          "text": [
            "Values Inserted Successfully!!!\n",
            "Connection to database closed!!\n"
          ],
          "name": "stdout"
        }
      ]
    },
    {
      "cell_type": "code",
      "metadata": {
        "id": "DrP8WkKtkMv8",
        "colab_type": "code",
        "colab": {
          "base_uri": "https://localhost:8080/",
          "height": 51
        },
        "outputId": "75d50055-0940-4686-942e-7aaf297f2015"
      },
      "source": [
        "db.selectfromtable('std')"
      ],
      "execution_count": 88,
      "outputs": [
        {
          "output_type": "stream",
          "text": [
            "values in table :  [('uttam', 'kumar', 26, '10', 'A'), ('Mukesh', 'kumar', 22, '11', 'c')]\n",
            "Connection to database closed!!\n"
          ],
          "name": "stdout"
        }
      ]
    },
    {
      "cell_type": "code",
      "metadata": {
        "id": "XUwsE1MokMq9",
        "colab_type": "code",
        "colab": {}
      },
      "source": [
        ""
      ],
      "execution_count": 0,
      "outputs": []
    }
  ]
}