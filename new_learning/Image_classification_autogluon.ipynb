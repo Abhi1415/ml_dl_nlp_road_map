{
  "nbformat": 4,
  "nbformat_minor": 0,
  "metadata": {
    "colab": {
      "name": "Image_classification_autogluon.ipynb",
      "provenance": [],
      "authorship_tag": "ABX9TyMFOeGRd0wNN8q6HX5eTymh",
      "include_colab_link": true
    },
    "kernelspec": {
      "name": "python3",
      "display_name": "Python 3"
    },
    "accelerator": "GPU",
    "widgets": {
      "application/vnd.jupyter.widget-state+json": {
        "302608e34bc748b98cfea9fbaca7116d": {
          "model_module": "@jupyter-widgets/controls",
          "model_name": "VBoxModel",
          "state": {
            "_view_name": "VBoxView",
            "_dom_classes": [],
            "_model_name": "VBoxModel",
            "_view_module": "@jupyter-widgets/controls",
            "_model_module_version": "1.5.0",
            "_view_count": null,
            "_view_module_version": "1.5.0",
            "box_style": "",
            "layout": "IPY_MODEL_d3f46e78c72249deac9e8a308d73fe67",
            "_model_module": "@jupyter-widgets/controls",
            "children": [
              "IPY_MODEL_b833bfacb94e4440a8107d23e19d5a5b",
              "IPY_MODEL_681b88c060044f2b9ecb2d0273abd29e"
            ]
          }
        },
        "d3f46e78c72249deac9e8a308d73fe67": {
          "model_module": "@jupyter-widgets/base",
          "model_name": "LayoutModel",
          "state": {
            "_view_name": "LayoutView",
            "grid_template_rows": null,
            "right": null,
            "justify_content": null,
            "_view_module": "@jupyter-widgets/base",
            "overflow": null,
            "_model_module_version": "1.2.0",
            "_view_count": null,
            "flex_flow": "row wrap",
            "width": "100%",
            "min_width": null,
            "border": null,
            "align_items": null,
            "bottom": null,
            "_model_module": "@jupyter-widgets/base",
            "top": null,
            "grid_column": null,
            "overflow_y": null,
            "overflow_x": null,
            "grid_auto_flow": null,
            "grid_area": null,
            "grid_template_columns": null,
            "flex": null,
            "_model_name": "LayoutModel",
            "justify_items": null,
            "grid_row": null,
            "max_height": null,
            "align_content": null,
            "visibility": null,
            "align_self": null,
            "height": null,
            "min_height": null,
            "padding": null,
            "grid_auto_rows": null,
            "grid_gap": null,
            "max_width": null,
            "order": null,
            "_view_module_version": "1.2.0",
            "grid_template_areas": null,
            "object_position": null,
            "object_fit": null,
            "grid_auto_columns": null,
            "margin": null,
            "display": "inline-flex",
            "left": null
          }
        },
        "b833bfacb94e4440a8107d23e19d5a5b": {
          "model_module": "@jupyter-widgets/controls",
          "model_name": "HBoxModel",
          "state": {
            "_view_name": "HBoxView",
            "_dom_classes": [],
            "_model_name": "HBoxModel",
            "_view_module": "@jupyter-widgets/controls",
            "_model_module_version": "1.5.0",
            "_view_count": null,
            "_view_module_version": "1.5.0",
            "box_style": "",
            "layout": "IPY_MODEL_b361ac4a9fbb46d7840a2394c608c5c3",
            "_model_module": "@jupyter-widgets/controls",
            "children": [
              "IPY_MODEL_dc45bf0e8abc4a0aa3a4b96af5b80b62",
              "IPY_MODEL_8aa5b7af94ac42aa8f1ef5a8e98415b7"
            ]
          }
        },
        "681b88c060044f2b9ecb2d0273abd29e": {
          "model_module": "@jupyter-widgets/controls",
          "model_name": "HTMLModel",
          "state": {
            "_view_name": "HTMLView",
            "style": "IPY_MODEL_9b01103080bf4cb69ab8375c89d4c55d",
            "_dom_classes": [],
            "description": "",
            "_model_name": "HTMLModel",
            "placeholder": "​",
            "_view_module": "@jupyter-widgets/controls",
            "_model_module_version": "1.5.0",
            "value": "",
            "_view_count": null,
            "_view_module_version": "1.5.0",
            "description_tooltip": null,
            "_model_module": "@jupyter-widgets/controls",
            "layout": "IPY_MODEL_5b7a416e389842e38f6d9cc3202cdb2c"
          }
        },
        "b361ac4a9fbb46d7840a2394c608c5c3": {
          "model_module": "@jupyter-widgets/base",
          "model_name": "LayoutModel",
          "state": {
            "_view_name": "LayoutView",
            "grid_template_rows": null,
            "right": null,
            "justify_content": null,
            "_view_module": "@jupyter-widgets/base",
            "overflow": null,
            "_model_module_version": "1.2.0",
            "_view_count": null,
            "flex_flow": null,
            "width": null,
            "min_width": null,
            "border": null,
            "align_items": null,
            "bottom": null,
            "_model_module": "@jupyter-widgets/base",
            "top": null,
            "grid_column": null,
            "overflow_y": null,
            "overflow_x": null,
            "grid_auto_flow": null,
            "grid_area": null,
            "grid_template_columns": null,
            "flex": null,
            "_model_name": "LayoutModel",
            "justify_items": null,
            "grid_row": null,
            "max_height": null,
            "align_content": null,
            "visibility": null,
            "align_self": null,
            "height": null,
            "min_height": null,
            "padding": null,
            "grid_auto_rows": null,
            "grid_gap": null,
            "max_width": null,
            "order": null,
            "_view_module_version": "1.2.0",
            "grid_template_areas": null,
            "object_position": null,
            "object_fit": null,
            "grid_auto_columns": null,
            "margin": null,
            "display": null,
            "left": null
          }
        },
        "dc45bf0e8abc4a0aa3a4b96af5b80b62": {
          "model_module": "@jupyter-widgets/controls",
          "model_name": "IntProgressModel",
          "state": {
            "_view_name": "ProgressView",
            "style": "IPY_MODEL_a99486cd918a407ba01e7c0252338118",
            "_dom_classes": [],
            "description": "",
            "_model_name": "IntProgressModel",
            "bar_style": "success",
            "max": 21272,
            "_view_module": "@jupyter-widgets/controls",
            "_model_module_version": "1.5.0",
            "value": 21272,
            "_view_count": null,
            "_view_module_version": "1.5.0",
            "orientation": "horizontal",
            "min": 0,
            "description_tooltip": null,
            "_model_module": "@jupyter-widgets/controls",
            "layout": "IPY_MODEL_66463d960d5c4d1a9b79ea6a3c5e516b"
          }
        },
        "8aa5b7af94ac42aa8f1ef5a8e98415b7": {
          "model_module": "@jupyter-widgets/controls",
          "model_name": "HTMLModel",
          "state": {
            "_view_name": "HTMLView",
            "style": "IPY_MODEL_a85ffd015b744d4a830535c302951ae6",
            "_dom_classes": [],
            "description": "",
            "_model_name": "HTMLModel",
            "placeholder": "​",
            "_view_module": "@jupyter-widgets/controls",
            "_model_module_version": "1.5.0",
            "value": " 21273/? [01:18&lt;00:00, 269.81KB/s]",
            "_view_count": null,
            "_view_module_version": "1.5.0",
            "description_tooltip": null,
            "_model_module": "@jupyter-widgets/controls",
            "layout": "IPY_MODEL_eb2691f919b449eabc34cb1b6ea8ab10"
          }
        },
        "9b01103080bf4cb69ab8375c89d4c55d": {
          "model_module": "@jupyter-widgets/controls",
          "model_name": "DescriptionStyleModel",
          "state": {
            "_view_name": "StyleView",
            "_model_name": "DescriptionStyleModel",
            "description_width": "",
            "_view_module": "@jupyter-widgets/base",
            "_model_module_version": "1.5.0",
            "_view_count": null,
            "_view_module_version": "1.2.0",
            "_model_module": "@jupyter-widgets/controls"
          }
        },
        "5b7a416e389842e38f6d9cc3202cdb2c": {
          "model_module": "@jupyter-widgets/base",
          "model_name": "LayoutModel",
          "state": {
            "_view_name": "LayoutView",
            "grid_template_rows": null,
            "right": null,
            "justify_content": null,
            "_view_module": "@jupyter-widgets/base",
            "overflow": null,
            "_model_module_version": "1.2.0",
            "_view_count": null,
            "flex_flow": null,
            "width": null,
            "min_width": null,
            "border": null,
            "align_items": null,
            "bottom": null,
            "_model_module": "@jupyter-widgets/base",
            "top": null,
            "grid_column": null,
            "overflow_y": null,
            "overflow_x": null,
            "grid_auto_flow": null,
            "grid_area": null,
            "grid_template_columns": null,
            "flex": null,
            "_model_name": "LayoutModel",
            "justify_items": null,
            "grid_row": null,
            "max_height": null,
            "align_content": null,
            "visibility": null,
            "align_self": null,
            "height": null,
            "min_height": null,
            "padding": null,
            "grid_auto_rows": null,
            "grid_gap": null,
            "max_width": null,
            "order": null,
            "_view_module_version": "1.2.0",
            "grid_template_areas": null,
            "object_position": null,
            "object_fit": null,
            "grid_auto_columns": null,
            "margin": null,
            "display": null,
            "left": null
          }
        },
        "a99486cd918a407ba01e7c0252338118": {
          "model_module": "@jupyter-widgets/controls",
          "model_name": "ProgressStyleModel",
          "state": {
            "_view_name": "StyleView",
            "_model_name": "ProgressStyleModel",
            "description_width": "initial",
            "_view_module": "@jupyter-widgets/base",
            "_model_module_version": "1.5.0",
            "_view_count": null,
            "_view_module_version": "1.2.0",
            "bar_color": null,
            "_model_module": "@jupyter-widgets/controls"
          }
        },
        "66463d960d5c4d1a9b79ea6a3c5e516b": {
          "model_module": "@jupyter-widgets/base",
          "model_name": "LayoutModel",
          "state": {
            "_view_name": "LayoutView",
            "grid_template_rows": null,
            "right": null,
            "justify_content": null,
            "_view_module": "@jupyter-widgets/base",
            "overflow": null,
            "_model_module_version": "1.2.0",
            "_view_count": null,
            "flex_flow": null,
            "width": null,
            "min_width": null,
            "border": null,
            "align_items": null,
            "bottom": null,
            "_model_module": "@jupyter-widgets/base",
            "top": null,
            "grid_column": null,
            "overflow_y": null,
            "overflow_x": null,
            "grid_auto_flow": null,
            "grid_area": null,
            "grid_template_columns": null,
            "flex": "2",
            "_model_name": "LayoutModel",
            "justify_items": null,
            "grid_row": null,
            "max_height": null,
            "align_content": null,
            "visibility": null,
            "align_self": null,
            "height": null,
            "min_height": null,
            "padding": null,
            "grid_auto_rows": null,
            "grid_gap": null,
            "max_width": null,
            "order": null,
            "_view_module_version": "1.2.0",
            "grid_template_areas": null,
            "object_position": null,
            "object_fit": null,
            "grid_auto_columns": null,
            "margin": null,
            "display": null,
            "left": null
          }
        },
        "a85ffd015b744d4a830535c302951ae6": {
          "model_module": "@jupyter-widgets/controls",
          "model_name": "DescriptionStyleModel",
          "state": {
            "_view_name": "StyleView",
            "_model_name": "DescriptionStyleModel",
            "description_width": "",
            "_view_module": "@jupyter-widgets/base",
            "_model_module_version": "1.5.0",
            "_view_count": null,
            "_view_module_version": "1.2.0",
            "_model_module": "@jupyter-widgets/controls"
          }
        },
        "eb2691f919b449eabc34cb1b6ea8ab10": {
          "model_module": "@jupyter-widgets/base",
          "model_name": "LayoutModel",
          "state": {
            "_view_name": "LayoutView",
            "grid_template_rows": null,
            "right": null,
            "justify_content": null,
            "_view_module": "@jupyter-widgets/base",
            "overflow": null,
            "_model_module_version": "1.2.0",
            "_view_count": null,
            "flex_flow": null,
            "width": null,
            "min_width": null,
            "border": null,
            "align_items": null,
            "bottom": null,
            "_model_module": "@jupyter-widgets/base",
            "top": null,
            "grid_column": null,
            "overflow_y": null,
            "overflow_x": null,
            "grid_auto_flow": null,
            "grid_area": null,
            "grid_template_columns": null,
            "flex": null,
            "_model_name": "LayoutModel",
            "justify_items": null,
            "grid_row": null,
            "max_height": null,
            "align_content": null,
            "visibility": null,
            "align_self": null,
            "height": null,
            "min_height": null,
            "padding": null,
            "grid_auto_rows": null,
            "grid_gap": null,
            "max_width": null,
            "order": null,
            "_view_module_version": "1.2.0",
            "grid_template_areas": null,
            "object_position": null,
            "object_fit": null,
            "grid_auto_columns": null,
            "margin": null,
            "display": null,
            "left": null
          }
        },
        "0170b680205e4e84a7ae91807ac0d7bc": {
          "model_module": "@jupyter-widgets/controls",
          "model_name": "HBoxModel",
          "state": {
            "_view_name": "HBoxView",
            "_dom_classes": [],
            "_model_name": "HBoxModel",
            "_view_module": "@jupyter-widgets/controls",
            "_model_module_version": "1.5.0",
            "_view_count": null,
            "_view_module_version": "1.5.0",
            "box_style": "",
            "layout": "IPY_MODEL_85f09ca71ead47e6ab53b3cd961c2fb1",
            "_model_module": "@jupyter-widgets/controls",
            "children": [
              "IPY_MODEL_d75f53efb4c7432092954470758a5b40",
              "IPY_MODEL_28af0ea3a7df455eb8c85dae43d9eb41"
            ]
          }
        },
        "85f09ca71ead47e6ab53b3cd961c2fb1": {
          "model_module": "@jupyter-widgets/base",
          "model_name": "LayoutModel",
          "state": {
            "_view_name": "LayoutView",
            "grid_template_rows": null,
            "right": null,
            "justify_content": null,
            "_view_module": "@jupyter-widgets/base",
            "overflow": null,
            "_model_module_version": "1.2.0",
            "_view_count": null,
            "flex_flow": null,
            "width": null,
            "min_width": null,
            "border": null,
            "align_items": null,
            "bottom": null,
            "_model_module": "@jupyter-widgets/base",
            "top": null,
            "grid_column": null,
            "overflow_y": null,
            "overflow_x": null,
            "grid_auto_flow": null,
            "grid_area": null,
            "grid_template_columns": null,
            "flex": null,
            "_model_name": "LayoutModel",
            "justify_items": null,
            "grid_row": null,
            "max_height": null,
            "align_content": null,
            "visibility": null,
            "align_self": null,
            "height": null,
            "min_height": null,
            "padding": null,
            "grid_auto_rows": null,
            "grid_gap": null,
            "max_width": null,
            "order": null,
            "_view_module_version": "1.2.0",
            "grid_template_areas": null,
            "object_position": null,
            "object_fit": null,
            "grid_auto_columns": null,
            "margin": null,
            "display": null,
            "left": null
          }
        },
        "d75f53efb4c7432092954470758a5b40": {
          "model_module": "@jupyter-widgets/controls",
          "model_name": "FloatProgressModel",
          "state": {
            "_view_name": "ProgressView",
            "style": "IPY_MODEL_be17a023597341d9bec616298dc59a4d",
            "_dom_classes": [],
            "description": "100%",
            "_model_name": "FloatProgressModel",
            "bar_style": "success",
            "max": 2,
            "_view_module": "@jupyter-widgets/controls",
            "_model_module_version": "1.5.0",
            "value": 2,
            "_view_count": null,
            "_view_module_version": "1.5.0",
            "orientation": "horizontal",
            "min": 0,
            "description_tooltip": null,
            "_model_module": "@jupyter-widgets/controls",
            "layout": "IPY_MODEL_65386912e87e47ebae5bd33f05dbcb8a"
          }
        },
        "28af0ea3a7df455eb8c85dae43d9eb41": {
          "model_module": "@jupyter-widgets/controls",
          "model_name": "HTMLModel",
          "state": {
            "_view_name": "HTMLView",
            "style": "IPY_MODEL_1b3d98532c9a4b0cae92b6a5ab1e5e8a",
            "_dom_classes": [],
            "description": "",
            "_model_name": "HTMLModel",
            "placeholder": "​",
            "_view_module": "@jupyter-widgets/controls",
            "_model_module_version": "1.5.0",
            "value": " 2/2 [25:15&lt;00:00, 757.55s/it]",
            "_view_count": null,
            "_view_module_version": "1.5.0",
            "description_tooltip": null,
            "_model_module": "@jupyter-widgets/controls",
            "layout": "IPY_MODEL_146a01602ad24fa5b50681a125ebacd0"
          }
        },
        "be17a023597341d9bec616298dc59a4d": {
          "model_module": "@jupyter-widgets/controls",
          "model_name": "ProgressStyleModel",
          "state": {
            "_view_name": "StyleView",
            "_model_name": "ProgressStyleModel",
            "description_width": "initial",
            "_view_module": "@jupyter-widgets/base",
            "_model_module_version": "1.5.0",
            "_view_count": null,
            "_view_module_version": "1.2.0",
            "bar_color": null,
            "_model_module": "@jupyter-widgets/controls"
          }
        },
        "65386912e87e47ebae5bd33f05dbcb8a": {
          "model_module": "@jupyter-widgets/base",
          "model_name": "LayoutModel",
          "state": {
            "_view_name": "LayoutView",
            "grid_template_rows": null,
            "right": null,
            "justify_content": null,
            "_view_module": "@jupyter-widgets/base",
            "overflow": null,
            "_model_module_version": "1.2.0",
            "_view_count": null,
            "flex_flow": null,
            "width": null,
            "min_width": null,
            "border": null,
            "align_items": null,
            "bottom": null,
            "_model_module": "@jupyter-widgets/base",
            "top": null,
            "grid_column": null,
            "overflow_y": null,
            "overflow_x": null,
            "grid_auto_flow": null,
            "grid_area": null,
            "grid_template_columns": null,
            "flex": null,
            "_model_name": "LayoutModel",
            "justify_items": null,
            "grid_row": null,
            "max_height": null,
            "align_content": null,
            "visibility": null,
            "align_self": null,
            "height": null,
            "min_height": null,
            "padding": null,
            "grid_auto_rows": null,
            "grid_gap": null,
            "max_width": null,
            "order": null,
            "_view_module_version": "1.2.0",
            "grid_template_areas": null,
            "object_position": null,
            "object_fit": null,
            "grid_auto_columns": null,
            "margin": null,
            "display": null,
            "left": null
          }
        },
        "1b3d98532c9a4b0cae92b6a5ab1e5e8a": {
          "model_module": "@jupyter-widgets/controls",
          "model_name": "DescriptionStyleModel",
          "state": {
            "_view_name": "StyleView",
            "_model_name": "DescriptionStyleModel",
            "description_width": "",
            "_view_module": "@jupyter-widgets/base",
            "_model_module_version": "1.5.0",
            "_view_count": null,
            "_view_module_version": "1.2.0",
            "_model_module": "@jupyter-widgets/controls"
          }
        },
        "146a01602ad24fa5b50681a125ebacd0": {
          "model_module": "@jupyter-widgets/base",
          "model_name": "LayoutModel",
          "state": {
            "_view_name": "LayoutView",
            "grid_template_rows": null,
            "right": null,
            "justify_content": null,
            "_view_module": "@jupyter-widgets/base",
            "overflow": null,
            "_model_module_version": "1.2.0",
            "_view_count": null,
            "flex_flow": null,
            "width": null,
            "min_width": null,
            "border": null,
            "align_items": null,
            "bottom": null,
            "_model_module": "@jupyter-widgets/base",
            "top": null,
            "grid_column": null,
            "overflow_y": null,
            "overflow_x": null,
            "grid_auto_flow": null,
            "grid_area": null,
            "grid_template_columns": null,
            "flex": null,
            "_model_name": "LayoutModel",
            "justify_items": null,
            "grid_row": null,
            "max_height": null,
            "align_content": null,
            "visibility": null,
            "align_self": null,
            "height": null,
            "min_height": null,
            "padding": null,
            "grid_auto_rows": null,
            "grid_gap": null,
            "max_width": null,
            "order": null,
            "_view_module_version": "1.2.0",
            "grid_template_areas": null,
            "object_position": null,
            "object_fit": null,
            "grid_auto_columns": null,
            "margin": null,
            "display": null,
            "left": null
          }
        }
      }
    }
  },
  "cells": [
    {
      "cell_type": "markdown",
      "metadata": {
        "id": "view-in-github",
        "colab_type": "text"
      },
      "source": [
        "<a href=\"https://colab.research.google.com/github/Uttam580/New_learning-/blob/master/Image_classification_autogluon.ipynb\" target=\"_parent\"><img src=\"https://colab.research.google.com/assets/colab-badge.svg\" alt=\"Open In Colab\"/></a>"
      ]
    },
    {
      "cell_type": "code",
      "metadata": {
        "id": "esQYHef2AOua",
        "colab_type": "code",
        "colab": {}
      },
      "source": [
        "# Here we assume CUDA 10.0 is installed.  You should change the number\n",
        "# according to your own CUDA version (e.g. mxnet-cu101 for CUDA 10.1).\n",
        "! pip install mxnet-cu101\n",
        "! pip install autogluon "
      ],
      "execution_count": 0,
      "outputs": []
    },
    {
      "cell_type": "code",
      "metadata": {
        "id": "FDT01mlHCHin",
        "colab_type": "code",
        "colab": {
          "base_uri": "https://localhost:8080/",
          "height": 71
        },
        "outputId": "b30651e6-87d4-4b72-f52d-453c6c857172"
      },
      "source": [
        "import autogluon as ag\n",
        "from autogluon import ObjectDetection as task"
      ],
      "execution_count": 1,
      "outputs": [
        {
          "output_type": "stream",
          "text": [
            "/usr/local/lib/python3.6/dist-packages/mxnet/optimizer/optimizer.py:167: UserWarning: WARNING: New optimizer gluonnlp.optimizer.lamb.LAMB is overriding existing optimizer mxnet.optimizer.optimizer.LAMB\n",
            "  Optimizer.opt_registry[name].__name__))\n"
          ],
          "name": "stderr"
        }
      ]
    },
    {
      "cell_type": "code",
      "metadata": {
        "id": "ORVcLMr1CHeL",
        "colab_type": "code",
        "colab": {
          "base_uri": "https://localhost:8080/",
          "height": 83,
          "referenced_widgets": [
            "302608e34bc748b98cfea9fbaca7116d",
            "d3f46e78c72249deac9e8a308d73fe67",
            "b833bfacb94e4440a8107d23e19d5a5b",
            "681b88c060044f2b9ecb2d0273abd29e",
            "b361ac4a9fbb46d7840a2394c608c5c3",
            "dc45bf0e8abc4a0aa3a4b96af5b80b62",
            "8aa5b7af94ac42aa8f1ef5a8e98415b7",
            "9b01103080bf4cb69ab8375c89d4c55d",
            "5b7a416e389842e38f6d9cc3202cdb2c",
            "a99486cd918a407ba01e7c0252338118",
            "66463d960d5c4d1a9b79ea6a3c5e516b",
            "a85ffd015b744d4a830535c302951ae6",
            "eb2691f919b449eabc34cb1b6ea8ab10"
          ]
        },
        "outputId": "0df0ee71-6513-4e1b-d7ed-9faf9c7b13a5"
      },
      "source": [
        "root = './'\n",
        "filename_zip = ag.download('https://autogluon.s3.amazonaws.com/datasets/tiny_motorbike.zip',\n",
        "                        path=root)\n",
        "filename = ag.unzip(filename_zip, root=root)"
      ],
      "execution_count": 2,
      "outputs": [
        {
          "output_type": "stream",
          "text": [
            "Downloading ./tiny_motorbike.zip from https://autogluon.s3.amazonaws.com/datasets/tiny_motorbike.zip...\n"
          ],
          "name": "stderr"
        },
        {
          "output_type": "display_data",
          "data": {
            "application/vnd.jupyter.widget-view+json": {
              "model_id": "302608e34bc748b98cfea9fbaca7116d",
              "version_minor": 0,
              "version_major": 2
            },
            "text/plain": [
              "VBox(children=(HBox(children=(IntProgress(value=0, layout=Layout(flex='2'), max=21272), HTML(value=''))), HTML…"
            ]
          },
          "metadata": {
            "tags": []
          }
        },
        {
          "output_type": "stream",
          "text": [
            "\n"
          ],
          "name": "stdout"
        }
      ]
    },
    {
      "cell_type": "markdown",
      "metadata": {
        "id": "y26wgqCBKsoj",
        "colab_type": "text"
      },
      "source": [
        ""
      ]
    },
    {
      "cell_type": "code",
      "metadata": {
        "id": "apz5rrSlCHah",
        "colab_type": "code",
        "colab": {
          "base_uri": "https://localhost:8080/",
          "height": 34
        },
        "outputId": "dcc7bd40-b303-43df-f612-523f405919a6"
      },
      "source": [
        "! ls"
      ],
      "execution_count": 3,
      "outputs": [
        {
          "output_type": "stream",
          "text": [
            "dask-worker-space  sample_data\ttiny_motorbike\ttiny_motorbike.zip\n"
          ],
          "name": "stdout"
        }
      ]
    },
    {
      "cell_type": "code",
      "metadata": {
        "id": "gIkzmZsACHXU",
        "colab_type": "code",
        "colab": {
          "base_uri": "https://localhost:8080/",
          "height": 34
        },
        "outputId": "bc4a38b8-8204-460b-93f5-ca38bc6ca080"
      },
      "source": [
        "import os\n",
        "data_root = os.path.join(root, filename)\n",
        "dataset_train = task.Dataset(data_root, classes=('motorbike',))"
      ],
      "execution_count": 4,
      "outputs": [
        {
          "output_type": "stream",
          "text": [
            ">>> create dataset(VOC format) \n"
          ],
          "name": "stderr"
        }
      ]
    },
    {
      "cell_type": "markdown",
      "metadata": {
        "id": "2uiKR4nqUQZz",
        "colab_type": "text"
      },
      "source": [
        ". We use mobilenet as the backbone for the YOLO3 model. Two different learning rates are used to fine-tune the network"
      ]
    },
    {
      "cell_type": "code",
      "metadata": {
        "id": "FPjm0j0YCHL4",
        "colab_type": "code",
        "colab": {
          "base_uri": "https://localhost:8080/",
          "height": 1000,
          "referenced_widgets": [
            "0170b680205e4e84a7ae91807ac0d7bc",
            "85f09ca71ead47e6ab53b3cd961c2fb1",
            "d75f53efb4c7432092954470758a5b40",
            "28af0ea3a7df455eb8c85dae43d9eb41",
            "be17a023597341d9bec616298dc59a4d",
            "65386912e87e47ebae5bd33f05dbcb8a",
            "1b3d98532c9a4b0cae92b6a5ab1e5e8a",
            "146a01602ad24fa5b50681a125ebacd0"
          ]
        },
        "outputId": "164f4b7e-7409-4ef2-9175-4ad8cd8e4df7"
      },
      "source": [
        "time_limits = 20\n",
        "epochs = 30\n",
        "detector = task.fit(dataset_train,\n",
        "                    num_trials=2,\n",
        "                    epochs=epochs,\n",
        "                    lr=ag.Categorical(5e-4, 1e-4),\n",
        "                    ngpus_per_trial=1,\n",
        "                    time_limits=time_limits)"
      ],
      "execution_count": 6,
      "outputs": [
        {
          "output_type": "stream",
          "text": [
            "Starting Experiments\n",
            "Num of Finished Tasks is 0\n",
            "Num of Pending Tasks is 2\n",
            "Time out (secs) is 20\n"
          ],
          "name": "stderr"
        },
        {
          "output_type": "stream",
          "text": [
            "scheduler: FIFOScheduler(\n",
            "DistributedResourceManager{\n",
            "(Remote: Remote REMOTE_ID: 0, \n",
            "\t<Remote: 'inproc://172.28.0.2/301/1' processes=1 threads=2, memory=13.65 GB>, Resource: NodeResourceManager(2 CPUs, 1 GPUs))\n",
            "})\n",
            "\n"
          ],
          "name": "stdout"
        },
        {
          "output_type": "display_data",
          "data": {
            "application/vnd.jupyter.widget-view+json": {
              "model_id": "0170b680205e4e84a7ae91807ac0d7bc",
              "version_minor": 0,
              "version_major": 2
            },
            "text/plain": [
              "HBox(children=(FloatProgress(value=0.0, max=2.0), HTML(value='')))"
            ]
          },
          "metadata": {
            "tags": []
          }
        },
        {
          "output_type": "stream",
          "text": [
            "Model file not found. Downloading.\n"
          ],
          "name": "stderr"
        },
        {
          "output_type": "stream",
          "text": [
            "Downloading /root/.mxnet/models/yolo3_mobilenet1.0_coco-66dbbae6.zip from https://apache-mxnet.s3-accelerate.dualstack.amazonaws.com/gluon/models/yolo3_mobilenet1.0_coco-66dbbae6.zip...\n"
          ],
          "name": "stdout"
        },
        {
          "output_type": "stream",
          "text": [
            "88993KB [00:03, 27210.37KB/s]                           \n",
            "{'meta_arch': 'yolo3', 'dataset': <autogluon.task.object_detection.dataset.voc.CustomVOCDetection object at 0x7f459366a7f0>, 'net': 'mobilenet1.0', 'lr': 0.0005, 'loss': SoftmaxCrossEntropyLoss(batch_axis=0, w=None), 'num_gpus': 1, 'batch_size': 16, 'split_ratio': 0.8, 'epochs': 30, 'num_workers': 2, 'hybridize': True, 'verbose': False, 'final_fit': False, 'seed': 223, 'data_shape': 416, 'start_epoch': 0, 'transfer': 'coco', 'lr_mode': 'step', 'lr_decay': 0.1, 'lr_decay_period': 0, 'lr_decay_epoch': '160,180', 'warmup_lr': 0.0, 'warmup_epochs': 2, 'warmup_iters': 1000, 'warmup_factor': 0.3333333333333333, 'momentum': 0.9, 'wd': 0.0005, 'log_interval': 100, 'save_prefix': 'yolo3_mobilenet1.0_custom', 'save_interval': 10, 'val_interval': 1, 'num_samples': -1, 'no_random_shape': False, 'no_wd': False, 'mixup': False, 'no_mixup_epochs': 20, 'label_smooth': False, 'resume': '', 'syncbn': False, 'reuse_pred_weights': True, 'task_id': 0}\n",
            "[Epoch 0] Training cost: 14.645, ObjLoss=881.947,BoxCenterLoss=3.882,BoxScaleLoss=2.460,ClassLoss=1.003\n",
            "[Epoch 0] Validation: motorbike=0.0 mAP=0.0\n",
            "[Epoch 1] Training cost: 12.055, ObjLoss=42.034,BoxCenterLoss=3.747,BoxScaleLoss=1.735,ClassLoss=0.803\n",
            "[Epoch 1] Validation: motorbike=0.005027005921780439 mAP=0.005027005921780439\n",
            "[Epoch 2] Training cost: 10.348, ObjLoss=29.479,BoxCenterLoss=3.662,BoxScaleLoss=1.393,ClassLoss=0.768\n",
            "[Epoch 2] Validation: motorbike=0.3088678997769907 mAP=0.3088678997769907\n",
            "[Epoch 3] Training cost: 13.226, ObjLoss=30.615,BoxCenterLoss=3.813,BoxScaleLoss=1.278,ClassLoss=0.753\n",
            "[Epoch 3] Validation: motorbike=0.12410346567029834 mAP=0.12410346567029834\n",
            "[Epoch 4] Training cost: 10.670, ObjLoss=31.623,BoxCenterLoss=3.733,BoxScaleLoss=1.256,ClassLoss=0.757\n",
            "[Epoch 4] Validation: motorbike=0.03179546620919746 mAP=0.03179546620919746\n",
            "[Epoch 5] Training cost: 13.681, ObjLoss=15.975,BoxCenterLoss=3.778,BoxScaleLoss=1.239,ClassLoss=0.636\n",
            "[Epoch 5] Validation: motorbike=0.299186765433905 mAP=0.299186765433905\n",
            "[Epoch 6] Training cost: 12.261, ObjLoss=12.822,BoxCenterLoss=3.940,BoxScaleLoss=1.155,ClassLoss=0.561\n",
            "[Epoch 6] Validation: motorbike=0.022018184060359422 mAP=0.022018184060359422\n",
            "[Epoch 7] Training cost: 15.209, ObjLoss=9.710,BoxCenterLoss=3.692,BoxScaleLoss=1.225,ClassLoss=0.397\n",
            "[Epoch 7] Validation: motorbike=0.43711837689048755 mAP=0.43711837689048755\n",
            "[Epoch 8] Training cost: 12.158, ObjLoss=8.719,BoxCenterLoss=3.600,BoxScaleLoss=1.088,ClassLoss=0.418\n",
            "[Epoch 8] Validation: motorbike=0.18125380526614626 mAP=0.18125380526614626\n",
            "[Epoch 9] Training cost: 15.256, ObjLoss=11.156,BoxCenterLoss=3.930,BoxScaleLoss=1.170,ClassLoss=0.424\n",
            "[Epoch 9] Validation: motorbike=0.6942460821409887 mAP=0.6942460821409887\n",
            "[Epoch 10] Training cost: 11.852, ObjLoss=11.905,BoxCenterLoss=3.713,BoxScaleLoss=1.034,ClassLoss=0.402\n",
            "[Epoch 10] Validation: motorbike=0.70192752795921 mAP=0.70192752795921\n",
            "[Epoch 11] Training cost: 15.211, ObjLoss=9.168,BoxCenterLoss=3.727,BoxScaleLoss=0.989,ClassLoss=0.318\n",
            "[Epoch 11] Validation: motorbike=0.6116119862126601 mAP=0.6116119862126601\n",
            "[Epoch 12] Training cost: 11.006, ObjLoss=9.265,BoxCenterLoss=3.671,BoxScaleLoss=1.049,ClassLoss=0.368\n",
            "[Epoch 12] Validation: motorbike=0.7140870991341436 mAP=0.7140870991341436\n",
            "[Epoch 13] Training cost: 15.991, ObjLoss=8.946,BoxCenterLoss=3.888,BoxScaleLoss=1.120,ClassLoss=0.308\n",
            "[Epoch 13] Validation: motorbike=0.4492156649367338 mAP=0.4492156649367338\n",
            "[Epoch 14] Training cost: 13.524, ObjLoss=7.975,BoxCenterLoss=3.680,BoxScaleLoss=0.931,ClassLoss=0.246\n",
            "[Epoch 14] Validation: motorbike=0.6201675355707614 mAP=0.6201675355707614\n",
            "[Epoch 15] Training cost: 13.886, ObjLoss=7.855,BoxCenterLoss=3.711,BoxScaleLoss=0.982,ClassLoss=0.309\n",
            "[Epoch 15] Validation: motorbike=0.6066784869976359 mAP=0.6066784869976359\n",
            "[Epoch 16] Training cost: 13.359, ObjLoss=7.239,BoxCenterLoss=3.530,BoxScaleLoss=0.885,ClassLoss=0.231\n",
            "[Epoch 16] Validation: motorbike=0.6480814239960581 mAP=0.6480814239960581\n",
            "[Epoch 17] Training cost: 14.982, ObjLoss=6.833,BoxCenterLoss=3.639,BoxScaleLoss=0.954,ClassLoss=0.220\n",
            "[Epoch 17] Validation: motorbike=0.5390717405169433 mAP=0.5390717405169433\n",
            "[Epoch 18] Training cost: 10.629, ObjLoss=7.105,BoxCenterLoss=3.722,BoxScaleLoss=0.984,ClassLoss=0.341\n",
            "[Epoch 18] Validation: motorbike=0.7388775501524039 mAP=0.7388775501524039\n",
            "[Epoch 19] Training cost: 14.628, ObjLoss=6.673,BoxCenterLoss=3.659,BoxScaleLoss=0.976,ClassLoss=0.232\n",
            "[Epoch 19] Validation: motorbike=0.6863328359684625 mAP=0.6863328359684625\n",
            "[Epoch 20] Training cost: 12.904, ObjLoss=6.479,BoxCenterLoss=3.793,BoxScaleLoss=0.932,ClassLoss=0.212\n",
            "[Epoch 20] Validation: motorbike=0.6373221054162832 mAP=0.6373221054162832\n",
            "[Epoch 21] Training cost: 12.942, ObjLoss=6.517,BoxCenterLoss=3.607,BoxScaleLoss=1.050,ClassLoss=0.267\n",
            "[Epoch 21] Validation: motorbike=0.695287240939415 mAP=0.695287240939415\n",
            "[Epoch 22] Training cost: 10.556, ObjLoss=8.326,BoxCenterLoss=3.757,BoxScaleLoss=1.062,ClassLoss=0.322\n",
            "[Epoch 22] Validation: motorbike=0.7395161472831376 mAP=0.7395161472831376\n",
            "[Epoch 23] Training cost: 14.845, ObjLoss=8.661,BoxCenterLoss=3.906,BoxScaleLoss=1.004,ClassLoss=0.222\n",
            "[Epoch 23] Validation: motorbike=0.5718187910772595 mAP=0.5718187910772595\n",
            "[Epoch 24] Training cost: 11.664, ObjLoss=9.841,BoxCenterLoss=3.664,BoxScaleLoss=0.847,ClassLoss=0.193\n",
            "[Epoch 24] Validation: motorbike=0.7355230362407396 mAP=0.7355230362407396\n",
            "[Epoch 25] Training cost: 11.944, ObjLoss=10.344,BoxCenterLoss=3.636,BoxScaleLoss=0.920,ClassLoss=0.225\n",
            "[Epoch 25] Validation: motorbike=0.8124098124098125 mAP=0.8124098124098125\n",
            "[Epoch 26] Training cost: 11.294, ObjLoss=8.726,BoxCenterLoss=3.456,BoxScaleLoss=0.932,ClassLoss=0.205\n",
            "[Epoch 26] Validation: motorbike=0.7519875975840962 mAP=0.7519875975840962\n",
            "[Epoch 27] Training cost: 12.514, ObjLoss=10.080,BoxCenterLoss=3.762,BoxScaleLoss=0.935,ClassLoss=0.251\n",
            "[Epoch 27] Validation: motorbike=0.7361465988506061 mAP=0.7361465988506061\n",
            "[Epoch 28] Training cost: 10.399, ObjLoss=7.548,BoxCenterLoss=3.546,BoxScaleLoss=0.905,ClassLoss=0.233\n",
            "[Epoch 28] Validation: motorbike=0.791644298377699 mAP=0.791644298377699\n",
            "[Epoch 29] Training cost: 12.747, ObjLoss=6.224,BoxCenterLoss=3.603,BoxScaleLoss=0.971,ClassLoss=0.224\n",
            "[Epoch 29] Validation: motorbike=0.8184550422255342 mAP=0.8184550422255342\n"
          ],
          "name": "stderr"
        },
        {
          "output_type": "stream",
          "text": [
            "\n"
          ],
          "name": "stdout"
        },
        {
          "output_type": "stream",
          "text": [
            "{'meta_arch': 'yolo3', 'dataset': <autogluon.task.object_detection.dataset.voc.CustomVOCDetection object at 0x7f45936bcc50>, 'net': 'mobilenet1.0', 'lr': 0.0001, 'loss': SoftmaxCrossEntropyLoss(batch_axis=0, w=None), 'num_gpus': 1, 'batch_size': 16, 'split_ratio': 0.8, 'epochs': 30, 'num_workers': 2, 'hybridize': True, 'verbose': False, 'final_fit': False, 'seed': 223, 'data_shape': 416, 'start_epoch': 0, 'transfer': 'coco', 'lr_mode': 'step', 'lr_decay': 0.1, 'lr_decay_period': 0, 'lr_decay_epoch': '160,180', 'warmup_lr': 0.0, 'warmup_epochs': 2, 'warmup_iters': 1000, 'warmup_factor': 0.3333333333333333, 'momentum': 0.9, 'wd': 0.0005, 'log_interval': 100, 'save_prefix': 'yolo3_mobilenet1.0_custom', 'save_interval': 10, 'val_interval': 1, 'num_samples': -1, 'no_random_shape': False, 'no_wd': False, 'mixup': False, 'no_mixup_epochs': 20, 'label_smooth': False, 'resume': '', 'syncbn': False, 'reuse_pred_weights': True, 'task_id': 1}\n",
            "[Epoch 0] Training cost: 14.352, ObjLoss=1015.584,BoxCenterLoss=4.173,BoxScaleLoss=3.442,ClassLoss=1.079\n",
            "[Epoch 0] Validation: motorbike=0.049062049062049064 mAP=0.049062049062049064\n",
            "[Epoch 1] Training cost: 12.195, ObjLoss=17.374,BoxCenterLoss=3.899,BoxScaleLoss=2.060,ClassLoss=0.938\n",
            "[Epoch 1] Validation: motorbike=0.0 mAP=0.0\n",
            "[Epoch 2] Training cost: 11.405, ObjLoss=16.330,BoxCenterLoss=3.816,BoxScaleLoss=1.749,ClassLoss=0.787\n",
            "[Epoch 2] Validation: motorbike=0.09090909090909091 mAP=0.09090909090909091\n",
            "[Epoch 3] Training cost: 12.050, ObjLoss=12.306,BoxCenterLoss=3.791,BoxScaleLoss=1.601,ClassLoss=0.751\n",
            "[Epoch 3] Validation: motorbike=0.38114059853190285 mAP=0.38114059853190285\n",
            "[Epoch 4] Training cost: 11.573, ObjLoss=8.010,BoxCenterLoss=3.588,BoxScaleLoss=1.335,ClassLoss=0.732\n",
            "[Epoch 4] Validation: motorbike=0.5142396097194859 mAP=0.5142396097194859\n",
            "[Epoch 5] Training cost: 13.994, ObjLoss=7.379,BoxCenterLoss=3.880,BoxScaleLoss=1.434,ClassLoss=0.702\n",
            "[Epoch 5] Validation: motorbike=0.4781079318029893 mAP=0.4781079318029893\n",
            "[Epoch 6] Training cost: 11.942, ObjLoss=7.322,BoxCenterLoss=3.563,BoxScaleLoss=1.148,ClassLoss=0.626\n",
            "[Epoch 6] Validation: motorbike=0.516405448098812 mAP=0.516405448098812\n",
            "[Epoch 7] Training cost: 15.496, ObjLoss=7.737,BoxCenterLoss=3.719,BoxScaleLoss=1.197,ClassLoss=0.585\n",
            "[Epoch 7] Validation: motorbike=0.5765881075780921 mAP=0.5765881075780921\n",
            "[Epoch 8] Training cost: 11.774, ObjLoss=6.356,BoxCenterLoss=3.573,BoxScaleLoss=1.176,ClassLoss=0.508\n",
            "[Epoch 8] Validation: motorbike=0.5731158442091511 mAP=0.5731158442091511\n",
            "[Epoch 9] Training cost: 14.546, ObjLoss=6.558,BoxCenterLoss=3.979,BoxScaleLoss=1.222,ClassLoss=0.525\n",
            "[Epoch 9] Validation: motorbike=0.6102644171814132 mAP=0.6102644171814132\n",
            "[Epoch 10] Training cost: 12.168, ObjLoss=6.232,BoxCenterLoss=3.736,BoxScaleLoss=1.128,ClassLoss=0.494\n",
            "[Epoch 10] Validation: motorbike=0.6410695352364127 mAP=0.6410695352364127\n",
            "[Epoch 11] Training cost: 14.814, ObjLoss=5.958,BoxCenterLoss=3.709,BoxScaleLoss=1.057,ClassLoss=0.435\n",
            "[Epoch 11] Validation: motorbike=0.7379957807841221 mAP=0.7379957807841221\n",
            "[Epoch 12] Training cost: 11.954, ObjLoss=5.252,BoxCenterLoss=3.642,BoxScaleLoss=1.051,ClassLoss=0.465\n",
            "[Epoch 12] Validation: motorbike=0.7577829792946071 mAP=0.7577829792946071\n",
            "[Epoch 13] Training cost: 14.687, ObjLoss=6.033,BoxCenterLoss=3.750,BoxScaleLoss=1.048,ClassLoss=0.416\n",
            "[Epoch 13] Validation: motorbike=0.7800906623811508 mAP=0.7800906623811508\n",
            "[Epoch 14] Training cost: 13.320, ObjLoss=6.225,BoxCenterLoss=3.774,BoxScaleLoss=1.111,ClassLoss=0.370\n",
            "[Epoch 14] Validation: motorbike=0.7521198004893658 mAP=0.7521198004893658\n",
            "[Epoch 15] Training cost: 14.185, ObjLoss=5.300,BoxCenterLoss=3.559,BoxScaleLoss=0.948,ClassLoss=0.363\n",
            "[Epoch 15] Validation: motorbike=0.7837117333568143 mAP=0.7837117333568143\n",
            "[Epoch 16] Training cost: 13.281, ObjLoss=5.438,BoxCenterLoss=3.722,BoxScaleLoss=1.061,ClassLoss=0.333\n",
            "[Epoch 16] Validation: motorbike=0.7782375123877817 mAP=0.7782375123877817\n",
            "[Epoch 17] Training cost: 14.978, ObjLoss=5.561,BoxCenterLoss=3.666,BoxScaleLoss=1.027,ClassLoss=0.328\n",
            "[Epoch 17] Validation: motorbike=0.7760949578765686 mAP=0.7760949578765686\n",
            "[Epoch 18] Training cost: 9.942, ObjLoss=5.267,BoxCenterLoss=3.722,BoxScaleLoss=1.041,ClassLoss=0.412\n",
            "[Epoch 18] Validation: motorbike=0.7527318995409578 mAP=0.7527318995409578\n",
            "[Epoch 19] Training cost: 14.516, ObjLoss=4.916,BoxCenterLoss=3.683,BoxScaleLoss=0.979,ClassLoss=0.359\n",
            "[Epoch 19] Validation: motorbike=0.8136732013804834 mAP=0.8136732013804834\n",
            "[Epoch 20] Training cost: 13.123, ObjLoss=5.238,BoxCenterLoss=3.662,BoxScaleLoss=0.943,ClassLoss=0.293\n",
            "[Epoch 20] Validation: motorbike=0.806033480497309 mAP=0.806033480497309\n",
            "[Epoch 21] Training cost: 12.906, ObjLoss=4.957,BoxCenterLoss=3.598,BoxScaleLoss=0.996,ClassLoss=0.334\n",
            "[Epoch 21] Validation: motorbike=0.8263325278814861 mAP=0.8263325278814861\n",
            "[Epoch 22] Training cost: 10.749, ObjLoss=4.797,BoxCenterLoss=3.689,BoxScaleLoss=1.096,ClassLoss=0.385\n",
            "[Epoch 22] Validation: motorbike=0.8308406273733169 mAP=0.8308406273733169\n",
            "[Epoch 23] Training cost: 14.841, ObjLoss=4.995,BoxCenterLoss=3.784,BoxScaleLoss=0.954,ClassLoss=0.297\n",
            "[Epoch 23] Validation: motorbike=0.8153332424696744 mAP=0.8153332424696744\n",
            "[Epoch 24] Training cost: 11.661, ObjLoss=4.419,BoxCenterLoss=3.576,BoxScaleLoss=0.838,ClassLoss=0.263\n",
            "[Epoch 24] Validation: motorbike=0.8207688153940257 mAP=0.8207688153940257\n",
            "[Epoch 25] Training cost: 11.791, ObjLoss=4.180,BoxCenterLoss=3.373,BoxScaleLoss=0.873,ClassLoss=0.277\n",
            "[Epoch 25] Validation: motorbike=0.8484809272852752 mAP=0.8484809272852752\n",
            "[Epoch 26] Training cost: 11.146, ObjLoss=4.685,BoxCenterLoss=3.587,BoxScaleLoss=0.903,ClassLoss=0.311\n",
            "[Epoch 26] Validation: motorbike=0.7582411710546507 mAP=0.7582411710546507\n",
            "[Epoch 27] Training cost: 12.464, ObjLoss=4.056,BoxCenterLoss=3.604,BoxScaleLoss=0.867,ClassLoss=0.299\n",
            "[Epoch 27] Validation: motorbike=0.838732794178474 mAP=0.838732794178474\n",
            "[Epoch 28] Training cost: 10.549, ObjLoss=4.777,BoxCenterLoss=3.440,BoxScaleLoss=0.839,ClassLoss=0.304\n",
            "[Epoch 28] Validation: motorbike=0.835859097478288 mAP=0.835859097478288\n",
            "[Epoch 29] Training cost: 12.562, ObjLoss=4.172,BoxCenterLoss=3.506,BoxScaleLoss=0.889,ClassLoss=0.253\n",
            "[Epoch 29] Validation: motorbike=0.8553305451610538 mAP=0.8553305451610538\n",
            "{'meta_arch': 'yolo3', 'dataset': <autogluon.task.object_detection.dataset.voc.CustomVOCDetection object at 0x7f4592a89f60>, 'net': 'mobilenet1.0', 'lr': 0.0001, 'loss': SoftmaxCrossEntropyLoss(batch_axis=0, w=None), 'num_gpus': 1, 'batch_size': 16, 'split_ratio': 0.8, 'epochs': 30, 'num_workers': 2, 'hybridize': True, 'verbose': False, 'final_fit': True, 'seed': 223, 'data_shape': 416, 'start_epoch': 0, 'transfer': 'coco', 'lr_mode': 'step', 'lr_decay': 0.1, 'lr_decay_period': 0, 'lr_decay_epoch': '160,180', 'warmup_lr': 0.0, 'warmup_epochs': 2, 'warmup_iters': 1000, 'warmup_factor': 0.3333333333333333, 'momentum': 0.9, 'wd': 0.0005, 'log_interval': 100, 'save_prefix': 'yolo3_mobilenet1.0_custom', 'save_interval': 10, 'val_interval': 1, 'num_samples': -1, 'no_random_shape': False, 'no_wd': False, 'mixup': False, 'no_mixup_epochs': 20, 'label_smooth': False, 'resume': '', 'syncbn': False, 'reuse_pred_weights': True, 'task_id': 2}\n",
            "[Epoch 0] Training cost: 16.420, ObjLoss=713.848,BoxCenterLoss=4.037,BoxScaleLoss=3.040,ClassLoss=1.043\n",
            "[Epoch 1] Training cost: 15.646, ObjLoss=15.132,BoxCenterLoss=3.776,BoxScaleLoss=2.134,ClassLoss=0.889\n",
            "[Epoch 2] Training cost: 14.679, ObjLoss=13.162,BoxCenterLoss=3.748,BoxScaleLoss=1.732,ClassLoss=0.757\n",
            "[Epoch 3] Training cost: 18.403, ObjLoss=10.015,BoxCenterLoss=3.695,BoxScaleLoss=1.481,ClassLoss=0.661\n",
            "[Epoch 4] Training cost: 14.657, ObjLoss=7.820,BoxCenterLoss=3.724,BoxScaleLoss=1.329,ClassLoss=0.660\n",
            "[Epoch 5] Training cost: 15.987, ObjLoss=7.694,BoxCenterLoss=3.811,BoxScaleLoss=1.310,ClassLoss=0.583\n",
            "[Epoch 6] Training cost: 17.019, ObjLoss=6.609,BoxCenterLoss=3.760,BoxScaleLoss=1.194,ClassLoss=0.525\n",
            "[Epoch 7] Training cost: 14.877, ObjLoss=6.378,BoxCenterLoss=3.667,BoxScaleLoss=1.132,ClassLoss=0.527\n",
            "[Epoch 8] Training cost: 15.683, ObjLoss=6.286,BoxCenterLoss=3.845,BoxScaleLoss=1.101,ClassLoss=0.456\n",
            "[Epoch 9] Training cost: 16.718, ObjLoss=5.533,BoxCenterLoss=3.501,BoxScaleLoss=0.987,ClassLoss=0.407\n",
            "[Epoch 10] Training cost: 13.132, ObjLoss=5.422,BoxCenterLoss=3.532,BoxScaleLoss=1.005,ClassLoss=0.421\n",
            "[Epoch 11] Training cost: 16.529, ObjLoss=5.635,BoxCenterLoss=3.653,BoxScaleLoss=1.087,ClassLoss=0.414\n",
            "[Epoch 12] Training cost: 16.779, ObjLoss=5.154,BoxCenterLoss=3.718,BoxScaleLoss=0.918,ClassLoss=0.385\n",
            "[Epoch 13] Training cost: 16.557, ObjLoss=5.774,BoxCenterLoss=3.484,BoxScaleLoss=1.037,ClassLoss=0.289\n",
            "[Epoch 14] Training cost: 16.149, ObjLoss=5.087,BoxCenterLoss=3.652,BoxScaleLoss=1.004,ClassLoss=0.325\n",
            "[Epoch 15] Training cost: 15.149, ObjLoss=4.970,BoxCenterLoss=3.670,BoxScaleLoss=1.027,ClassLoss=0.367\n",
            "[Epoch 16] Training cost: 12.930, ObjLoss=5.290,BoxCenterLoss=3.532,BoxScaleLoss=0.971,ClassLoss=0.380\n",
            "[Epoch 17] Training cost: 14.247, ObjLoss=4.531,BoxCenterLoss=3.492,BoxScaleLoss=0.918,ClassLoss=0.365\n",
            "[Epoch 18] Training cost: 17.052, ObjLoss=5.205,BoxCenterLoss=3.612,BoxScaleLoss=0.957,ClassLoss=0.278\n",
            "[Epoch 19] Training cost: 13.666, ObjLoss=4.733,BoxCenterLoss=3.368,BoxScaleLoss=1.012,ClassLoss=0.329\n",
            "[Epoch 20] Training cost: 15.192, ObjLoss=4.631,BoxCenterLoss=3.580,BoxScaleLoss=0.937,ClassLoss=0.278\n",
            "[Epoch 21] Training cost: 15.956, ObjLoss=4.396,BoxCenterLoss=3.492,BoxScaleLoss=0.896,ClassLoss=0.251\n",
            "[Epoch 22] Training cost: 16.871, ObjLoss=4.647,BoxCenterLoss=3.554,BoxScaleLoss=0.929,ClassLoss=0.281\n",
            "[Epoch 23] Training cost: 15.713, ObjLoss=4.111,BoxCenterLoss=3.357,BoxScaleLoss=0.826,ClassLoss=0.223\n",
            "[Epoch 24] Training cost: 14.094, ObjLoss=4.614,BoxCenterLoss=3.336,BoxScaleLoss=0.790,ClassLoss=0.214\n",
            "[Epoch 25] Training cost: 17.504, ObjLoss=4.585,BoxCenterLoss=3.371,BoxScaleLoss=0.847,ClassLoss=0.187\n",
            "[Epoch 26] Training cost: 14.578, ObjLoss=4.396,BoxCenterLoss=3.504,BoxScaleLoss=0.938,ClassLoss=0.224\n",
            "[Epoch 27] Training cost: 16.026, ObjLoss=4.105,BoxCenterLoss=3.358,BoxScaleLoss=0.815,ClassLoss=0.196\n",
            "[Epoch 28] Training cost: 18.039, ObjLoss=4.916,BoxCenterLoss=3.609,BoxScaleLoss=0.951,ClassLoss=0.199\n",
            "[Epoch 29] Training cost: 12.925, ObjLoss=4.366,BoxCenterLoss=3.419,BoxScaleLoss=0.933,ClassLoss=0.230\n",
            "Saving Training Curve in checkpoint/plot_training_curves.png\n"
          ],
          "name": "stderr"
        },
        {
          "output_type": "display_data",
          "data": {
            "image/png": "[encoded data removed]",
            "text/plain": [
              "<Figure size 432x288 with 1 Axes>"
            ]
          },
          "metadata": {
            "tags": [],
            "needs_background": "light"
          }
        },
        {
          "output_type": "stream",
          "text": [
            ">>>>>>>>>>>>>>>>>>>>>>>>>>>>>>>>>>> finish model fitting\n",
            "The best config: {'lr.choice': 1, 'net.choice': 0}\n"
          ],
          "name": "stderr"
        }
      ]
    },
    {
      "cell_type": "code",
      "metadata": {
        "id": "wwLIexQoMJUK",
        "colab_type": "code",
        "colab": {
          "base_uri": "https://localhost:8080/",
          "height": 51
        },
        "outputId": "5a8fb7e9-2f26-4277-90e9-cbb256bade3c"
      },
      "source": [
        "dataset_test = task.Dataset(data_root, index_file_name='test', classes=('motorbike',))\n",
        "\n",
        "test_map = detector.evaluate(dataset_test)\n",
        "print(\"mAP on test dataset: {}\".format(test_map[1][1]))"
      ],
      "execution_count": 7,
      "outputs": [
        {
          "output_type": "stream",
          "text": [
            ">>> create dataset(VOC format) \n"
          ],
          "name": "stderr"
        },
        {
          "output_type": "stream",
          "text": [
            "mAP on test dataset: 0.7233451366388548\n"
          ],
          "name": "stdout"
        }
      ]
    },
    {
      "cell_type": "code",
      "metadata": {
        "id": "ya_WjQ78U7Eb",
        "colab_type": "code",
        "colab": {
          "base_uri": "https://localhost:8080/",
          "height": 269
        },
        "outputId": "2bd2b38f-10a2-4bdc-9c0c-3d38b100ffc9"
      },
      "source": [
        "image = '000497.jpg'\n",
        "image_path = os.path.join(data_root, 'JPEGImages', image)\n",
        "\n",
        "ind, prob, loc = detector.predict(image_path)"
      ],
      "execution_count": 18,
      "outputs": [
        {
          "output_type": "display_data",
          "data": {
            "image/png": "[encoded data removed]",
            "text/plain": [
              "<Figure size 432x288 with 1 Axes>"
            ]
          },
          "metadata": {
            "tags": [],
            "needs_background": "light"
          }
        }
      ]
    },
    {
      "cell_type": "code",
      "metadata": {
        "id": "bvckDhXSaYj7",
        "colab_type": "code",
        "colab": {
          "base_uri": "https://localhost:8080/",
          "height": 34
        },
        "outputId": "b25d0ce7-c255-4c15-bbfa-93b9f0384fef"
      },
      "source": [
        " ! ls  tiny_motorbike/ImageSets/Main/test.txt"
      ],
      "execution_count": 16,
      "outputs": [
        {
          "output_type": "stream",
          "text": [
            "tiny_motorbike/ImageSets/Main/test.txt\n"
          ],
          "name": "stdout"
        }
      ]
    },
    {
      "cell_type": "code",
      "metadata": {
        "id": "gXU-gZhBU7LH",
        "colab_type": "code",
        "colab": {}
      },
      "source": [
        "savefile = 'model.pkl'\n",
        "detector.save(savefile)\n",
        "\n",
        "from autogluon import Detector\n",
        "new_detector = Detector.load(savefile)"
      ],
      "execution_count": 0,
      "outputs": []
    },
    {
      "cell_type": "code",
      "metadata": {
        "id": "RzT9HTi3U7R_",
        "colab_type": "code",
        "colab": {}
      },
      "source": [
        "cat tiny_motorbike/ImageSets/Main/test.txt"
      ],
      "execution_count": 0,
      "outputs": []
    },
    {
      "cell_type": "code",
      "metadata": {
        "id": "dk0I6Rm_U7V-",
        "colab_type": "code",
        "colab": {}
      },
      "source": [
        ""
      ],
      "execution_count": 0,
      "outputs": []
    },
    {
      "cell_type": "code",
      "metadata": {
        "id": "aU-1NhEgU7Yd",
        "colab_type": "code",
        "colab": {}
      },
      "source": [
        ""
      ],
      "execution_count": 0,
      "outputs": []
    },
    {
      "cell_type": "code",
      "metadata": {
        "id": "Rq2_w_FaU7a3",
        "colab_type": "code",
        "colab": {}
      },
      "source": [
        ""
      ],
      "execution_count": 0,
      "outputs": []
    }
  ]
}