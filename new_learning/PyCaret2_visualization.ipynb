{
 "cells": [
  {
   "cell_type": "code",
   "execution_count": null,
   "metadata": {
    "scrolled": true
   },
   "outputs": [
    {
     "name": "stdout",
     "output_type": "stream",
     "text": [
      "WARNING: pip is being invoked by an old script wrapper. This will fail in a future version of pip.\n",
      "Please see https://github.com/pypa/pip/issues/5599 for advice on fixing the underlying issue.\n",
      "To avoid this problem you can invoke Python with '-m pip' instead of running pip directly.\n",
      "Collecting pycaret\n",
      "  Downloading pycaret-1.0.0-py3-none-any.whl (188 kB)\n",
      "\u001b[K     |████████████████████████████████| 188 kB 3.6 MB/s eta 0:00:01\n",
      "\u001b[?25hCollecting kmodes==0.10.1\n",
      "  Downloading kmodes-0.10.1-py2.py3-none-any.whl (17 kB)\n",
      "Collecting datetime\n",
      "  Downloading DateTime-4.3-py2.py3-none-any.whl (60 kB)\n",
      "\u001b[K     |████████████████████████████████| 60 kB 9.2 MB/s  eta 0:00:01\n",
      "\u001b[?25hCollecting pyLDAvis\n",
      "  Downloading pyLDAvis-2.1.2.tar.gz (1.6 MB)\n",
      "\u001b[K     |████████████████████████████████| 1.6 MB 38.7 MB/s eta 0:00:01\n",
      "\u001b[?25hCollecting seaborn\n",
      "  Downloading seaborn-0.10.1-py3-none-any.whl (215 kB)\n",
      "\u001b[K     |████████████████████████████████| 215 kB 59.3 MB/s eta 0:00:01\n",
      "\u001b[?25hCollecting awscli\n",
      "  Downloading awscli-1.18.49-py2.py3-none-any.whl (3.0 MB)\n",
      "\u001b[K     |████████████████████████████████| 3.0 MB 49.5 MB/s eta 0:00:01\n",
      "\u001b[?25hCollecting umap-learn\n",
      "  Downloading umap-learn-0.4.2.tar.gz (68 kB)\n",
      "\u001b[K     |████████████████████████████████| 68 kB 8.1 MB/s  eta 0:00:01\n",
      "\u001b[?25hCollecting datefinder==0.7.0\n",
      "  Downloading datefinder-0.7.0-py2.py3-none-any.whl (8.8 kB)\n",
      "Collecting pyod\n",
      "  Downloading pyod-0.7.8.2.tar.gz (92 kB)\n",
      "\u001b[K     |████████████████████████████████| 92 kB 531 kB/s  eta 0:00:01\n",
      "\u001b[?25hCollecting nltk\n",
      "  Downloading nltk-3.5.zip (1.4 MB)\n",
      "\u001b[K     |████████████████████████████████| 1.4 MB 32.6 MB/s eta 0:00:01\n",
      "\u001b[?25hCollecting shap==0.32.1\n",
      "  Downloading shap-0.32.1.tar.gz (259 kB)\n",
      "\u001b[K     |████████████████████████████████| 259 kB 43.6 MB/s eta 0:00:01\n",
      "\u001b[?25hRequirement already satisfied: joblib in /srv/conda/envs/notebook/lib/python3.6/site-packages (from pycaret) (0.14.1)\n",
      "Collecting wordcloud\n",
      "  Downloading wordcloud-1.6.0-cp36-cp36m-manylinux1_x86_64.whl (361 kB)\n",
      "\u001b[K     |████████████████████████████████| 361 kB 46.7 MB/s eta 0:00:01\n",
      "\u001b[?25hCollecting cufflinks==0.17.0\n",
      "  Downloading cufflinks-0.17.0.tar.gz (81 kB)\n",
      "\u001b[K     |████████████████████████████████| 81 kB 14.3 MB/s eta 0:00:01\n",
      "\u001b[?25hRequirement already satisfied: IPython in /srv/conda/envs/notebook/lib/python3.6/site-packages (from pycaret) (7.13.0)\n",
      "Requirement already satisfied: matplotlib in /srv/conda/envs/notebook/lib/python3.6/site-packages (from pycaret) (3.2.1)\n",
      "Collecting gensim\n",
      "  Downloading gensim-3.8.2-cp36-cp36m-manylinux1_x86_64.whl (24.2 MB)\n",
      "\u001b[K     |████████████████████████████████| 24.2 MB 18.2 MB/s eta 0:00:01     |███████████████▉                | 12.0 MB 18.2 MB/s eta 0:00:01\n",
      "\u001b[?25hCollecting scikit-learn==0.22\n",
      "  Downloading scikit_learn-0.22-cp36-cp36m-manylinux1_x86_64.whl (7.0 MB)\n",
      "\u001b[K     |████████████████████████████████| 7.0 MB 19.8 MB/s eta 0:00:01     |███████████████████████████████▉| 7.0 MB 19.8 MB/s eta 0:00:01\n",
      "\u001b[?25hCollecting xgboost==0.90\n",
      "  Downloading xgboost-0.90-py2.py3-none-manylinux1_x86_64.whl (142.8 MB)\n",
      "\u001b[K     |████████████████████████████████| 142.8 MB 41 kB/s s eta 0:00:01 eta 0:00:01�███████████████████████▏   | 125.6 MB 37.9 MB/s eta 0:00:01\n",
      "\u001b[?25hCollecting catboost==0.20.2\n",
      "  Downloading catboost-0.20.2-cp36-none-manylinux1_x86_64.whl (63.9 MB)\n",
      "\u001b[K     |████████████████████████████████| 63.9 MB 10 kB/s  eta 0:00:012     |███████▎                        | 14.5 MB 23.1 MB/s eta 0:00:03\n",
      "\u001b[?25hCollecting mlxtend\n",
      "  Downloading mlxtend-0.17.2-py2.py3-none-any.whl (1.3 MB)\n",
      "\u001b[K     |████████████████████████████████| 1.3 MB 37.0 MB/s eta 0:00:01\n",
      "\u001b[?25hRequirement already satisfied: numpy in /srv/conda/envs/notebook/lib/python3.6/site-packages (from pycaret) (1.18.1)\n",
      "Collecting textblob\n",
      "  Downloading textblob-0.15.3-py2.py3-none-any.whl (636 kB)\n",
      "\u001b[K     |████████████████████████████████| 636 kB 42.9 MB/s eta 0:00:01\n",
      "\u001b[?25hCollecting lightgbm==2.3.1\n",
      "  Downloading lightgbm-2.3.1-py2.py3-none-manylinux1_x86_64.whl (1.2 MB)\n",
      "\u001b[K     |████████████████████████████████| 1.2 MB 59.9 MB/s eta 0:00:01\n",
      "\u001b[?25hCollecting plotly==4.4.1\n",
      "  Downloading plotly-4.4.1-py2.py3-none-any.whl (7.3 MB)\n",
      "\u001b[K     |████████████████████████████████| 7.3 MB 30.0 MB/s eta 0:00:01\n",
      "\u001b[?25hRequirement already satisfied: pandas in /srv/conda/envs/notebook/lib/python3.6/site-packages (from pycaret) (1.0.3)\n",
      "Collecting spacy\n",
      "  Downloading spacy-2.2.4-cp36-cp36m-manylinux1_x86_64.whl (10.6 MB)\n",
      "\u001b[K     |████████████████████████████████| 10.6 MB 47.7 MB/s eta 0:00:01\n",
      "\u001b[?25hRequirement already satisfied: ipywidgets in /srv/conda/envs/notebook/lib/python3.6/site-packages (from pycaret) (7.5.1)\n",
      "Collecting yellowbrick==1.0.1\n",
      "  Downloading yellowbrick-1.0.1-py3-none-any.whl (378 kB)\n",
      "\u001b[K     |████████████████████████████████| 378 kB 37.8 MB/s eta 0:00:01\n",
      "\u001b[?25hCollecting pandas-profiling==2.3.0\n",
      "  Downloading pandas-profiling-2.3.0.tar.gz (127 kB)\n",
      "\u001b[K     |████████████████████████████████| 127 kB 40.5 MB/s eta 0:00:01\n",
      "\u001b[?25hRequirement already satisfied: scipy>=0.13.3 in /srv/conda/envs/notebook/lib/python3.6/site-packages (from kmodes==0.10.1->pycaret) (1.4.1)\n",
      "Requirement already satisfied: pytz in /srv/conda/envs/notebook/lib/python3.6/site-packages (from datetime->pycaret) (2020.1)\n",
      "Collecting zope.interface\n",
      "  Downloading zope.interface-5.1.0-cp36-cp36m-manylinux2010_x86_64.whl (234 kB)\n",
      "\u001b[K     |████████████████████████████████| 234 kB 52.8 MB/s eta 0:00:01\n",
      "\u001b[?25hRequirement already satisfied: wheel>=0.23.0 in /srv/conda/envs/notebook/lib/python3.6/site-packages (from pyLDAvis->pycaret) (0.34.1)\n",
      "Requirement already satisfied: jinja2>=2.7.2 in /srv/conda/envs/notebook/lib/python3.6/site-packages (from pyLDAvis->pycaret) (2.11.0)\n",
      "Collecting numexpr\n",
      "  Downloading numexpr-2.7.1-cp36-cp36m-manylinux1_x86_64.whl (162 kB)\n",
      "\u001b[K     |████████████████████████████████| 162 kB 53.4 MB/s eta 0:00:01\n",
      "\u001b[?25hCollecting pytest\n",
      "  Downloading pytest-5.4.1-py3-none-any.whl (246 kB)\n",
      "\u001b[K     |████████████████████████████████| 246 kB 42.7 MB/s eta 0:00:01\n",
      "\u001b[?25hCollecting future\n",
      "  Downloading future-0.18.2.tar.gz (829 kB)\n",
      "\u001b[K     |████████████████████████████████| 829 kB 40.7 MB/s eta 0:00:01\n",
      "\u001b[?25hCollecting funcy\n",
      "  Downloading funcy-1.14.tar.gz (548 kB)\n",
      "\u001b[K     |████████████████████████████████| 548 kB 32.4 MB/s eta 0:00:01\n",
      "\u001b[?25hCollecting botocore==1.15.49\n",
      "  Downloading botocore-1.15.49-py2.py3-none-any.whl (6.2 MB)\n",
      "\u001b[K     |████████████████████████████████| 6.2 MB 43.3 MB/s eta 0:00:01\n",
      "\u001b[?25hCollecting s3transfer<0.4.0,>=0.3.0\n",
      "  Downloading s3transfer-0.3.3-py2.py3-none-any.whl (69 kB)\n",
      "\u001b[K     |████████████████████████████████| 69 kB 4.8 MB/s  eta 0:00:01\n",
      "\u001b[?25hCollecting PyYAML<5.4,>=3.10; python_version != \"3.4\"\n",
      "  Downloading PyYAML-5.3.1.tar.gz (269 kB)\n",
      "\u001b[K     |████████████████████████████████| 269 kB 34.2 MB/s eta 0:00:01\n",
      "\u001b[?25hCollecting rsa<=3.5.0,>=3.1.2\n",
      "  Downloading rsa-3.4.2-py2.py3-none-any.whl (46 kB)\n",
      "\u001b[K     |████████████████████████████████| 46 kB 5.0 MB/s  eta 0:00:01\n",
      "\u001b[?25hCollecting colorama<0.4.4,>=0.2.5; python_version != \"3.4\"\n",
      "  Downloading colorama-0.4.3-py2.py3-none-any.whl (15 kB)\n",
      "Collecting docutils<0.16,>=0.10\n",
      "  Downloading docutils-0.15.2-py3-none-any.whl (547 kB)\n",
      "\u001b[K     |████████████████████████████████| 547 kB 16.6 MB/s eta 0:00:01\n",
      "\u001b[?25hCollecting numba!=0.47,>=0.46\n",
      "  Downloading numba-0.49.0-cp36-cp36m-manylinux2014_x86_64.whl (3.6 MB)\n",
      "\u001b[K     |████████████████████████████████| 3.6 MB 35.7 MB/s eta 0:00:01\n",
      "\u001b[?25hCollecting tbb>=2019.0\n",
      "  Downloading tbb-2020.0.133-py2.py3-none-manylinux1_x86_64.whl (933 kB)\n",
      "\u001b[K     |████████████████████████████████| 933 kB 39.9 MB/s eta 0:00:01\n",
      "\u001b[?25hRequirement already satisfied: python-dateutil>=2.4.2 in /srv/conda/envs/notebook/lib/python3.6/site-packages (from datefinder==0.7.0->pycaret) (2.8.1)\n",
      "Collecting regex>=2017.02.08\n",
      "  Downloading regex-2020.4.4-cp36-cp36m-manylinux2010_x86_64.whl (679 kB)\n",
      "\u001b[K     |████████████████████████████████| 679 kB 29.6 MB/s eta 0:00:01\n",
      "\u001b[?25hCollecting combo\n",
      "  Downloading combo-0.1.0.tar.gz (37 kB)\n",
      "Requirement already satisfied: six in /srv/conda/envs/notebook/lib/python3.6/site-packages (from pyod->pycaret) (1.14.0)\n",
      "Collecting suod\n",
      "  Downloading suod-0.0.4.tar.gz (2.1 MB)\n",
      "\u001b[K     |████████████████████████████████| 2.1 MB 37.0 MB/s eta 0:00:01\n",
      "\u001b[?25hCollecting click\n",
      "  Downloading click-7.1.2-py2.py3-none-any.whl (82 kB)\n",
      "\u001b[K     |████████████████████████████████| 82 kB 1.5 MB/s  eta 0:00:01\n",
      "\u001b[?25hCollecting tqdm\n",
      "  Downloading tqdm-4.45.0-py2.py3-none-any.whl (60 kB)\n",
      "\u001b[K     |████████████████████████████████| 60 kB 9.1 MB/s  eta 0:00:01\n",
      "\u001b[?25hRequirement already satisfied: pillow in /srv/conda/envs/notebook/lib/python3.6/site-packages (from wordcloud->pycaret) (7.1.2)\n",
      "Collecting chart-studio>=1.0.0\n",
      "  Downloading chart_studio-1.1.0-py3-none-any.whl (64 kB)\n",
      "\u001b[K     |████████████████████████████████| 64 kB 4.1 MB/s  eta 0:00:01\n",
      "\u001b[?25hCollecting colorlover>=0.2.1\n",
      "  Downloading colorlover-0.3.0-py3-none-any.whl (8.9 kB)\n",
      "Requirement already satisfied: setuptools>=34.4.1 in /srv/conda/envs/notebook/lib/python3.6/site-packages (from cufflinks==0.17.0->pycaret) (45.1.0.post20200119)\n",
      "Requirement already satisfied: jedi>=0.10 in /srv/conda/envs/notebook/lib/python3.6/site-packages (from IPython->pycaret) (0.16.0)\n",
      "Requirement already satisfied: pexpect; sys_platform != \"win32\" in /srv/conda/envs/notebook/lib/python3.6/site-packages (from IPython->pycaret) (4.8.0)\n",
      "Requirement already satisfied: pygments in /srv/conda/envs/notebook/lib/python3.6/site-packages (from IPython->pycaret) (2.5.2)\n",
      "Requirement already satisfied: traitlets>=4.2 in /srv/conda/envs/notebook/lib/python3.6/site-packages (from IPython->pycaret) (4.3.3)\n",
      "Requirement already satisfied: backcall in /srv/conda/envs/notebook/lib/python3.6/site-packages (from IPython->pycaret) (0.1.0)\n",
      "Requirement already satisfied: prompt-toolkit!=3.0.0,!=3.0.1,<3.1.0,>=2.0.0 in /srv/conda/envs/notebook/lib/python3.6/site-packages (from IPython->pycaret) (3.0.5)\n",
      "Requirement already satisfied: decorator in /srv/conda/envs/notebook/lib/python3.6/site-packages (from IPython->pycaret) (4.4.1)\n",
      "Requirement already satisfied: pickleshare in /srv/conda/envs/notebook/lib/python3.6/site-packages (from IPython->pycaret) (0.7.5)\n",
      "Requirement already satisfied: pyparsing!=2.0.4,!=2.1.2,!=2.1.6,>=2.0.1 in /srv/conda/envs/notebook/lib/python3.6/site-packages (from matplotlib->pycaret) (2.4.7)\n",
      "Requirement already satisfied: cycler>=0.10 in /srv/conda/envs/notebook/lib/python3.6/site-packages (from matplotlib->pycaret) (0.10.0)\n",
      "Requirement already satisfied: kiwisolver>=1.0.1 in /srv/conda/envs/notebook/lib/python3.6/site-packages (from matplotlib->pycaret) (1.2.0)\n",
      "Collecting smart-open>=1.8.1\n",
      "  Downloading smart_open-2.0.0.tar.gz (103 kB)\n",
      "\u001b[K     |████████████████████████████████| 103 kB 45.4 MB/s eta 0:00:01\n",
      "\u001b[?25hCollecting graphviz\n",
      "  Downloading graphviz-0.14-py2.py3-none-any.whl (18 kB)\n",
      "Collecting retrying>=1.3.3\n",
      "  Downloading retrying-1.3.3.tar.gz (10 kB)\n",
      "Collecting srsly<1.1.0,>=1.0.2\n",
      "  Downloading srsly-1.0.2-cp36-cp36m-manylinux1_x86_64.whl (185 kB)\n",
      "\u001b[K     |████████████████████████████████| 185 kB 39.5 MB/s eta 0:00:01\n",
      "\u001b[?25hCollecting plac<1.2.0,>=0.9.6\n",
      "  Downloading plac-1.1.3-py2.py3-none-any.whl (20 kB)\n",
      "Collecting preshed<3.1.0,>=3.0.2\n",
      "  Downloading preshed-3.0.2-cp36-cp36m-manylinux1_x86_64.whl (119 kB)\n",
      "\u001b[K     |████████████████████████████████| 119 kB 33.3 MB/s eta 0:00:01\n",
      "\u001b[?25hCollecting murmurhash<1.1.0,>=0.28.0\n",
      "  Downloading murmurhash-1.0.2-cp36-cp36m-manylinux1_x86_64.whl (19 kB)\n",
      "Collecting wasabi<1.1.0,>=0.4.0\n",
      "  Downloading wasabi-0.6.0-py3-none-any.whl (20 kB)\n",
      "Collecting blis<0.5.0,>=0.4.0\n",
      "  Downloading blis-0.4.1-cp36-cp36m-manylinux1_x86_64.whl (3.7 MB)\n",
      "\u001b[K     |████████████████████████████████| 3.7 MB 37.5 MB/s eta 0:00:01\n",
      "\u001b[?25hCollecting thinc==7.4.0\n",
      "  Downloading thinc-7.4.0-cp36-cp36m-manylinux1_x86_64.whl (2.2 MB)\n",
      "\u001b[K     |████████████████████████████████| 2.2 MB 36.7 MB/s eta 0:00:01\n",
      "\u001b[?25hCollecting cymem<2.1.0,>=2.0.2\n",
      "  Downloading cymem-2.0.3-cp36-cp36m-manylinux1_x86_64.whl (32 kB)\n",
      "Requirement already satisfied: requests<3.0.0,>=2.13.0 in /srv/conda/envs/notebook/lib/python3.6/site-packages (from spacy->pycaret) (2.22.0)\n",
      "Collecting catalogue<1.1.0,>=0.0.7\n",
      "  Downloading catalogue-1.0.0-py2.py3-none-any.whl (7.7 kB)\n",
      "Requirement already satisfied: nbformat>=4.2.0 in /srv/conda/envs/notebook/lib/python3.6/site-packages (from ipywidgets->pycaret) (5.0.4)\n",
      "Requirement already satisfied: widgetsnbextension~=3.5.0 in /srv/conda/envs/notebook/lib/python3.6/site-packages (from ipywidgets->pycaret) (3.5.1)\n",
      "Requirement already satisfied: ipykernel>=4.5.1 in /srv/conda/envs/notebook/lib/python3.6/site-packages (from ipywidgets->pycaret) (5.1.4)\n",
      "Collecting missingno>=0.4.2\n",
      "  Downloading missingno-0.4.2-py3-none-any.whl (9.7 kB)\n",
      "Collecting htmlmin>=0.1.12\n",
      "  Downloading htmlmin-0.1.12.tar.gz (19 kB)\n",
      "Collecting phik>=0.9.8\n",
      "  Downloading phik-0.9.11-py3-none-any.whl (609 kB)\n",
      "\u001b[K     |████████████████████████████████| 609 kB 38.5 MB/s eta 0:00:01\n",
      "\u001b[?25hCollecting confuse>=1.0.0\n",
      "  Downloading confuse-1.1.0.tar.gz (32 kB)\n",
      "Collecting astropy\n",
      "  Downloading astropy-4.0.1.post1-cp36-cp36m-manylinux1_x86_64.whl (6.5 MB)\n",
      "\u001b[K     |████████████████████████████████| 6.5 MB 23.1 MB/s eta 0:00:01\n",
      "\u001b[?25hRequirement already satisfied: MarkupSafe>=0.23 in /srv/conda/envs/notebook/lib/python3.6/site-packages (from jinja2>=2.7.2->pyLDAvis->pycaret) (1.1.1)\n",
      "Collecting pluggy<1.0,>=0.12\n",
      "  Downloading pluggy-0.13.1-py2.py3-none-any.whl (18 kB)\n",
      "Requirement already satisfied: wcwidth in /srv/conda/envs/notebook/lib/python3.6/site-packages (from pytest->pyLDAvis->pycaret) (0.1.8)\n",
      "Requirement already satisfied: importlib-metadata>=0.12; python_version < \"3.8\" in /srv/conda/envs/notebook/lib/python3.6/site-packages (from pytest->pyLDAvis->pycaret) (1.5.0)\n",
      "Requirement already satisfied: more-itertools>=4.0.0 in /srv/conda/envs/notebook/lib/python3.6/site-packages (from pytest->pyLDAvis->pycaret) (8.2.0)\n",
      "Requirement already satisfied: attrs>=17.4.0 in /srv/conda/envs/notebook/lib/python3.6/site-packages (from pytest->pyLDAvis->pycaret) (19.3.0)\n",
      "Collecting packaging\n",
      "  Downloading packaging-20.3-py2.py3-none-any.whl (37 kB)\n",
      "Collecting py>=1.5.0\n",
      "  Downloading py-1.8.1-py2.py3-none-any.whl (83 kB)\n",
      "\u001b[K     |████████████████████████████████| 83 kB 3.3 MB/s  eta 0:00:01\n",
      "\u001b[?25hRequirement already satisfied: urllib3<1.26,>=1.20; python_version != \"3.4\" in /srv/conda/envs/notebook/lib/python3.6/site-packages (from botocore==1.15.49->awscli->pycaret) (1.25.7)\n",
      "Collecting jmespath<1.0.0,>=0.7.1\n",
      "  Downloading jmespath-0.9.5-py2.py3-none-any.whl (24 kB)\n",
      "Collecting pyasn1>=0.1.3\n",
      "  Downloading pyasn1-0.4.8-py2.py3-none-any.whl (77 kB)\n",
      "\u001b[K     |████████████████████████████████| 77 kB 8.2 MB/s  eta 0:00:01\n",
      "\u001b[?25hCollecting llvmlite<=0.33.0.dev0,>=0.31.0.dev0\n",
      "  Downloading llvmlite-0.32.0-cp36-cp36m-manylinux1_x86_64.whl (20.2 MB)\n",
      "\u001b[K     |████████████████████████████████| 20.2 MB 25.5 MB/s eta 0:00:01\n",
      "\u001b[?25hRequirement already satisfied: parso>=0.5.2 in /srv/conda/envs/notebook/lib/python3.6/site-packages (from jedi>=0.10->IPython->pycaret) (0.6.0)\n",
      "Requirement already satisfied: ptyprocess>=0.5 in /srv/conda/envs/notebook/lib/python3.6/site-packages (from pexpect; sys_platform != \"win32\"->IPython->pycaret) (0.6.0)\n",
      "Requirement already satisfied: ipython-genutils in /srv/conda/envs/notebook/lib/python3.6/site-packages (from traitlets>=4.2->IPython->pycaret) (0.2.0)\n",
      "Collecting boto\n",
      "  Downloading boto-2.49.0-py2.py3-none-any.whl (1.4 MB)\n",
      "\u001b[K     |████████████████████████████████| 1.4 MB 53.4 MB/s eta 0:00:01\n",
      "\u001b[?25hCollecting boto3\n",
      "  Downloading boto3-1.12.49-py2.py3-none-any.whl (128 kB)\n",
      "\u001b[K     |████████████████████████████████| 128 kB 46.1 MB/s eta 0:00:01\n",
      "\u001b[?25hRequirement already satisfied: chardet<3.1.0,>=3.0.2 in /srv/conda/envs/notebook/lib/python3.6/site-packages (from requests<3.0.0,>=2.13.0->spacy->pycaret) (3.0.4)\n",
      "Requirement already satisfied: certifi>=2017.4.17 in /srv/conda/envs/notebook/lib/python3.6/site-packages (from requests<3.0.0,>=2.13.0->spacy->pycaret) (2020.4.5.1)\n",
      "Requirement already satisfied: idna<2.9,>=2.5 in /srv/conda/envs/notebook/lib/python3.6/site-packages (from requests<3.0.0,>=2.13.0->spacy->pycaret) (2.8)\n",
      "Requirement already satisfied: jupyter-core in /srv/conda/envs/notebook/lib/python3.6/site-packages (from nbformat>=4.2.0->ipywidgets->pycaret) (4.6.1)\n",
      "Requirement already satisfied: jsonschema!=2.5.0,>=2.4 in /srv/conda/envs/notebook/lib/python3.6/site-packages (from nbformat>=4.2.0->ipywidgets->pycaret) (3.2.0)\n",
      "Requirement already satisfied: notebook>=4.4.1 in /srv/conda/envs/notebook/lib/python3.6/site-packages (from widgetsnbextension~=3.5.0->ipywidgets->pycaret) (6.0.3)\n",
      "Requirement already satisfied: jupyter-client in /srv/conda/envs/notebook/lib/python3.6/site-packages (from ipykernel>=4.5.1->ipywidgets->pycaret) (5.3.4)\n",
      "Requirement already satisfied: tornado>=4.2 in /srv/conda/envs/notebook/lib/python3.6/site-packages (from ipykernel>=4.5.1->ipywidgets->pycaret) (6.0.3)\n",
      "Requirement already satisfied: zipp>=0.5 in /srv/conda/envs/notebook/lib/python3.6/site-packages (from importlib-metadata>=0.12; python_version < \"3.8\"->pytest->pyLDAvis->pycaret) (2.1.0)\n",
      "Requirement already satisfied: pyrsistent>=0.14.0 in /srv/conda/envs/notebook/lib/python3.6/site-packages (from jsonschema!=2.5.0,>=2.4->nbformat>=4.2.0->ipywidgets->pycaret) (0.15.7)\n",
      "Requirement already satisfied: prometheus-client in /srv/conda/envs/notebook/lib/python3.6/site-packages (from notebook>=4.4.1->widgetsnbextension~=3.5.0->ipywidgets->pycaret) (0.7.1)\n",
      "Requirement already satisfied: nbconvert in /srv/conda/envs/notebook/lib/python3.6/site-packages (from notebook>=4.4.1->widgetsnbextension~=3.5.0->ipywidgets->pycaret) (5.6.1)\n",
      "Requirement already satisfied: terminado>=0.8.1 in /srv/conda/envs/notebook/lib/python3.6/site-packages (from notebook>=4.4.1->widgetsnbextension~=3.5.0->ipywidgets->pycaret) (0.8.3)\n",
      "Requirement already satisfied: pyzmq>=17 in /srv/conda/envs/notebook/lib/python3.6/site-packages (from notebook>=4.4.1->widgetsnbextension~=3.5.0->ipywidgets->pycaret) (18.1.1)\n",
      "Requirement already satisfied: Send2Trash in /srv/conda/envs/notebook/lib/python3.6/site-packages (from notebook>=4.4.1->widgetsnbextension~=3.5.0->ipywidgets->pycaret) (1.5.0)\n",
      "Requirement already satisfied: entrypoints>=0.2.2 in /srv/conda/envs/notebook/lib/python3.6/site-packages (from nbconvert->notebook>=4.4.1->widgetsnbextension~=3.5.0->ipywidgets->pycaret) (0.3)\n",
      "Requirement already satisfied: mistune<2,>=0.8.1 in /srv/conda/envs/notebook/lib/python3.6/site-packages (from nbconvert->notebook>=4.4.1->widgetsnbextension~=3.5.0->ipywidgets->pycaret) (0.8.4)\n",
      "Requirement already satisfied: defusedxml in /srv/conda/envs/notebook/lib/python3.6/site-packages (from nbconvert->notebook>=4.4.1->widgetsnbextension~=3.5.0->ipywidgets->pycaret) (0.6.0)\n",
      "Requirement already satisfied: testpath in /srv/conda/envs/notebook/lib/python3.6/site-packages (from nbconvert->notebook>=4.4.1->widgetsnbextension~=3.5.0->ipywidgets->pycaret) (0.4.4)\n",
      "Requirement already satisfied: pandocfilters>=1.4.1 in /srv/conda/envs/notebook/lib/python3.6/site-packages (from nbconvert->notebook>=4.4.1->widgetsnbextension~=3.5.0->ipywidgets->pycaret) (1.4.2)\n",
      "Requirement already satisfied: bleach in /srv/conda/envs/notebook/lib/python3.6/site-packages (from nbconvert->notebook>=4.4.1->widgetsnbextension~=3.5.0->ipywidgets->pycaret) (3.1.0)\n",
      "Requirement already satisfied: webencodings in /srv/conda/envs/notebook/lib/python3.6/site-packages (from bleach->nbconvert->notebook>=4.4.1->widgetsnbextension~=3.5.0->ipywidgets->pycaret) (0.5.1)\n",
      "Building wheels for collected packages: pyLDAvis, umap-learn, pyod, nltk, shap, cufflinks, pandas-profiling, future, funcy, PyYAML, combo, suod, smart-open, retrying, htmlmin, confuse\n",
      "  Building wheel for pyLDAvis (setup.py) ... \u001b[?25ldone\n",
      "\u001b[?25h  Created wheel for pyLDAvis: filename=pyLDAvis-2.1.2-py2.py3-none-any.whl size=97711 sha256=7af1f6211dd8e71448bb49543988b402f1ded179853f914eac4947616a778fda\n",
      "  Stored in directory: /home/jovyan/.cache/pip/wheels/57/de/11/0a038be70c2c212ce45fa0f4f9da165bb5dd87de1288394dc3\n",
      "  Building wheel for umap-learn (setup.py) ... \u001b[?25ldone\n",
      "\u001b[?25h  Created wheel for umap-learn: filename=umap_learn-0.4.2-py3-none-any.whl size=66302 sha256=1f00dde8ef5065656a20352589ea8298a60fd4762bf7c8c2a77f8ef8723dfeb1\n",
      "  Stored in directory: /home/jovyan/.cache/pip/wheels/8b/e2/c8/6fc118d56feaf0b704fca307df44e692eb88348f292efca529\n",
      "  Building wheel for pyod (setup.py) ... \u001b[?25ldone\n",
      "\u001b[?25h  Created wheel for pyod: filename=pyod-0.7.8.2-py3-none-any.whl size=104996 sha256=6dfb0dcda9b75fde947934aaee8d1e1bdbb377a86a64409a61e323b7a43aa556\n",
      "  Stored in directory: /home/jovyan/.cache/pip/wheels/10/fe/00/43c92b20898d143981b2c5af301b279efad92768151812a8ac\n",
      "  Building wheel for nltk (setup.py) ... \u001b[?25ldone\n",
      "\u001b[?25h  Created wheel for nltk: filename=nltk-3.5-py3-none-any.whl size=1434675 sha256=2b0c407b3ec5b726d4fce78083d0133d82104b811a420e65ffcc8b19dd981f68\n",
      "  Stored in directory: /home/jovyan/.cache/pip/wheels/de/5e/42/64abaeca668161c3e2cecc24f864a8fc421e3d07a104fc8a51\n",
      "  Building wheel for shap (setup.py) ... \u001b[?25ldone\n",
      "\u001b[?25h  Created wheel for shap: filename=shap-0.32.1-cp36-cp36m-linux_x86_64.whl size=380704 sha256=7647e915fe74dc5dc6862577f0e6bdc5d52d92283e25a413d18905427db4327b\n",
      "  Stored in directory: /home/jovyan/.cache/pip/wheels/a7/ff/03/886798ca6fff0eb242a9a2d4b61ab1a1523eda4204632d811b\n",
      "  Building wheel for cufflinks (setup.py) ... \u001b[?25ldone\n",
      "\u001b[?25h  Created wheel for cufflinks: filename=cufflinks-0.17.0-py3-none-any.whl size=67743 sha256=9c4a2f48561e9c4fd878097835754ac188d0e545b2d3484b5b5445a3fd938780\n",
      "  Stored in directory: /home/jovyan/.cache/pip/wheels/68/60/9c/e07fd834e76cdfa10d9f0b4facd1656a4d50eee7f62e682190\n",
      "  Building wheel for pandas-profiling (setup.py) ... \u001b[?25ldone\n",
      "\u001b[?25h  Created wheel for pandas-profiling: filename=pandas_profiling-2.3.0-py2.py3-none-any.whl size=145036 sha256=938fb9d2e967b196d2563650555390d8a397ad7fe9beae0766dde64cf1e72436\n",
      "  Stored in directory: /home/jovyan/.cache/pip/wheels/45/1e/db/6e3d57f26a78ce7ecc352822a6700e047746bdd79c9680c77d\n",
      "  Building wheel for future (setup.py) ... \u001b[?25ldone\n",
      "\u001b[?25h  Created wheel for future: filename=future-0.18.2-py3-none-any.whl size=491056 sha256=af7aed94296e79d1f376d8ebf5eef7b7fe38d9193a628e8dadda27129fd18c2b\n",
      "  Stored in directory: /home/jovyan/.cache/pip/wheels/6e/9c/ed/4499c9865ac1002697793e0ae05ba6be33553d098f3347fb94\n",
      "  Building wheel for funcy (setup.py) ... \u001b[?25ldone\n",
      "\u001b[?25h  Created wheel for funcy: filename=funcy-1.14-py2.py3-none-any.whl size=32043 sha256=8dda10dea759717195c634a0068b33f5ec6ec049386b7188a1e4c7d251e06680\n",
      "  Stored in directory: /home/jovyan/.cache/pip/wheels/5e/e0/ba/0dd7bb3f79264f8f60690da62918081bb8c3fb7442c38bfddd\n",
      "  Building wheel for PyYAML (setup.py) ... \u001b[?25ldone\n",
      "\u001b[?25h  Created wheel for PyYAML: filename=PyYAML-5.3.1-cp36-cp36m-linux_x86_64.whl size=402217 sha256=940e24135f21cee387b55e91bb0452612d3bc83ade1d12f13dba81b6ddf439cd\n",
      "  Stored in directory: /home/jovyan/.cache/pip/wheels/e5/9d/ad/2ee53cf262cba1ffd8afe1487eef788ea3f260b7e6232a80fc\n",
      "  Building wheel for combo (setup.py) ... \u001b[?25ldone\n",
      "\u001b[?25h  Created wheel for combo: filename=combo-0.1.0-py3-none-any.whl size=42044 sha256=e8d3d90ecc9df9ed116767f1f403c11579b8a7e044c64c880fe328ca147e7d25\n",
      "  Stored in directory: /home/jovyan/.cache/pip/wheels/be/46/35/bbbd75ccee1dce45c6a0e8ba2e5c0532716f131ed3b59829c7\n",
      "  Building wheel for suod (setup.py) ... \u001b[?25ldone\n",
      "\u001b[?25h  Created wheel for suod: filename=suod-0.0.4-py3-none-any.whl size=2167157 sha256=0d0d63acd1d016f050a1208faaa2b4e331db3cf203b4be3da620b85278808706\n",
      "  Stored in directory: /home/jovyan/.cache/pip/wheels/21/44/a8/ba508e4a93b9554e081c88cd120b027b28a10bef454ca07b5d\n",
      "  Building wheel for smart-open (setup.py) ... \u001b[?25ldone\n",
      "\u001b[?25h  Created wheel for smart-open: filename=smart_open-2.0.0-py3-none-any.whl size=101342 sha256=c1861da528e943dcda904725d67713249dcd08dc008df4d61a802e1773ff18e1\n",
      "  Stored in directory: /home/jovyan/.cache/pip/wheels/16/64/85/f3205b74e01a98fb81e081c0d61c2ecd04e4645a986db3726e\n",
      "  Building wheel for retrying (setup.py) ... \u001b[?25ldone\n",
      "\u001b[?25h  Created wheel for retrying: filename=retrying-1.3.3-py3-none-any.whl size=11429 sha256=d33a6b146da3dfb8c2d897a7c7f86196ba3b1043a8aa09d4101516d12af7d7d6\n",
      "  Stored in directory: /home/jovyan/.cache/pip/wheels/ac/cb/8a/b27bf6323e2f4c462dcbf77d70b7c5e7868a7fbe12871770cf\n",
      "  Building wheel for htmlmin (setup.py) ... \u001b[?25ldone\n",
      "\u001b[?25h  Created wheel for htmlmin: filename=htmlmin-0.1.12-py3-none-any.whl size=27085 sha256=7a536f91d398e5d5c28ba33bfcdf7cc772113506b410f8c34265ab9c8096187b\n",
      "  Stored in directory: /home/jovyan/.cache/pip/wheels/c3/fe/0b/4450b38bceb9ae43dd7d0f16e353566f30f5f4d59a58eca2ed\n",
      "  Building wheel for confuse (setup.py) ... \u001b[?25ldone\n",
      "\u001b[?25h  Created wheel for confuse: filename=confuse-1.1.0-py3-none-any.whl size=17573 sha256=54169f8551dd28cd578f4deea7aedb5dd0fd3c6a060ced22a757bf3372b0da02\n",
      "  Stored in directory: /home/jovyan/.cache/pip/wheels/0b/b9/ff/e8288eaedc9ead7b6f32555771ccd4b5bcec1566553b4c4859\n",
      "Successfully built pyLDAvis umap-learn pyod nltk shap cufflinks pandas-profiling future funcy PyYAML combo suod smart-open retrying htmlmin confuse\n",
      "Installing collected packages: scikit-learn, kmodes, zope.interface, datetime, numexpr, pluggy, packaging, py, pytest, future, funcy, pyLDAvis, seaborn, jmespath, docutils, botocore, s3transfer, PyYAML, pyasn1, rsa, colorama, awscli, llvmlite, numba, tbb, umap-learn, regex, datefinder, combo, suod, pyod, click, tqdm, nltk, shap, wordcloud, retrying, plotly, chart-studio, colorlover, cufflinks, boto, boto3, smart-open, gensim, xgboost, graphviz, catboost, mlxtend, textblob, lightgbm, srsly, plac, cymem, murmurhash, preshed, wasabi, blis, catalogue, thinc, spacy, yellowbrick, missingno, htmlmin, phik, confuse, astropy, pandas-profiling, pycaret\n",
      "  Attempting uninstall: scikit-learn\n",
      "    Found existing installation: scikit-learn 0.22.2.post1\n",
      "    Uninstalling scikit-learn-0.22.2.post1:\n",
      "      Successfully uninstalled scikit-learn-0.22.2.post1\n"
     ]
    }
   ],
   "source": [
    "! pip install pycaret"
   ]
  },
  {
   "cell_type": "markdown",
   "metadata": {},
   "source": [
    "# Classification "
   ]
  },
  {
   "cell_type": "code",
   "execution_count": 2,
   "metadata": {},
   "outputs": [
    {
     "name": "stderr",
     "output_type": "stream",
     "text": [
      "findfont: Font family ['sans-serif'] not found. Falling back to DejaVu Sans.\n",
      "findfont: Font family ['sans-serif'] not found. Falling back to DejaVu Sans.\n",
      "findfont: Font family ['sans-serif'] not found. Falling back to DejaVu Sans.\n"
     ]
    },
    {
     "data": {
      "image/png": "[encoded data removed]",
      "text/plain": [
       "<Figure size 576x396 with 1 Axes>"
      ]
     },
     "metadata": {},
     "output_type": "display_data"
    }
   ],
   "source": [
    "from pycaret.datasets import get_data\n",
    "df = get_data('diabetes')\n",
    "\n",
    "from pycaret.classification import *\n",
    "clf = setup(data= df, target ='Class variable')\n",
    "\n",
    "lr = create_model('lr')\n",
    "\n",
    "plot_model(lr) # other parameter plot='auc'/'boundary'/'pr'/'vc'"
   ]
  },
  {
   "cell_type": "markdown",
   "metadata": {},
   "source": [
    "# Regression "
   ]
  },
  {
   "cell_type": "code",
   "execution_count": 3,
   "metadata": {},
   "outputs": [
    {
     "data": {
      "image/png": "[encoded data removed]",
      "text/plain": [
       "<Figure size 576x396 with 2 Axes>"
      ]
     },
     "metadata": {},
     "output_type": "display_data"
    }
   ],
   "source": [
    "# Importing dataset\n",
    "from pycaret.datasets import get_data\n",
    "boston = get_data('boston')\n",
    "# Importing module and initializing setup\n",
    "from pycaret.regression import *\n",
    "reg1 = setup(data = boston, target = 'medv')\n",
    "# creating a model\n",
    "lr = create_model('lr')\n",
    "# plotting a model\n",
    "plot_model(lr) "
   ]
  },
  {
   "cell_type": "markdown",
   "metadata": {},
   "source": [
    "# Clustering "
   ]
  },
  {
   "cell_type": "code",
   "execution_count": 7,
   "metadata": {},
   "outputs": [
    {
     "data": {
      "text/html": [
       "        <script type=\"text/javascript\">\n",
       "        window.PlotlyConfig = {MathJaxConfig: 'local'};\n",
       "        if (window.MathJax) {MathJax.Hub.Config({SVG: {font: \"STIX-Web\"}});}\n",
       "        if (typeof require !== 'undefined') {\n",
       "        require.undef(\"plotly\");\n",
       "        requirejs.config({\n",
       "            paths: {\n",
       "                'plotly': ['https://cdn.plot.ly/plotly-latest.min']\n",
       "            }\n",
       "        });\n",
       "        require(['plotly'], function(Plotly) {\n",
       "            window._Plotly = Plotly;\n",
       "        });\n",
       "        }\n",
       "        </script>\n",
       "        "
      ]
     },
     "metadata": {},
     "output_type": "display_data"
    },
    {
     "data": {
      "application/vnd.plotly.v1+json": {
       "config": {
        "plotlyServerURL": "https://plot.ly"
       },
       "data": [
        {
         "customdata": [
          [
           58
          ],
          [
           59
          ],
          [
           62
          ],
          [
           59
          ],
          [
           87
          ],
          [
           29
          ],
          [
           54
          ],
          [
           87
          ],
          [
           83
          ],
          [
           84
          ],
          [
           85
          ],
          [
           36
          ],
          [
           30
          ],
          [
           31
          ],
          [
           61
          ],
          [
           92
          ],
          [
           55
          ],
          [
           87
          ],
          [
           82
          ],
          [
           88
          ],
          [
           30
          ],
          [
           84
          ],
          [
           53
          ],
          [
           91
          ],
          [
           89
          ],
          [
           30
          ],
          [
           17
          ],
          [
           55
          ],
          [
           90
          ],
          [
           61
          ],
          [
           59
          ],
          [
           59
          ],
          [
           88
          ],
          [
           56
          ],
          [
           33
          ],
          [
           61
          ],
          [
           84
          ],
          [
           61
          ],
          [
           39
          ],
          [
           31
          ],
          [
           60
          ],
          [
           87
          ],
          [
           20
          ],
          [
           57
          ],
          [
           61
          ],
          [
           18
          ],
          [
           83
          ],
          [
           25
          ],
          [
           31
          ],
          [
           55
          ],
          [
           84
          ],
          [
           36
          ],
          [
           27
          ],
          [
           91
          ],
          [
           53
          ],
          [
           91
          ],
          [
           25
          ],
          [
           83
          ],
          [
           87
          ],
          [
           90
          ],
          [
           83
          ],
          [
           83
          ],
          [
           83
          ],
          [
           61
          ],
          [
           64
          ],
          [
           62
          ],
          [
           91
          ],
          [
           28
          ],
          [
           23
          ],
          [
           55
          ],
          [
           58
          ],
          [
           31
          ],
          [
           83
          ],
          [
           91
          ],
          [
           30
          ],
          [
           57
          ],
          [
           33
          ],
          [
           59
          ],
          [
           58
          ],
          [
           29
          ],
          [
           59
          ],
          [
           84
          ],
          [
           64
          ],
          [
           87
          ],
          [
           88
          ],
          [
           35
          ],
          [
           34
          ],
          [
           58
          ],
          [
           56
          ],
          [
           63
          ],
          [
           58
          ],
          [
           60
          ],
          [
           24
          ],
          [
           94
          ],
          [
           58
          ],
          [
           25
          ],
          [
           36
          ],
          [
           62
          ],
          [
           66
          ],
          [
           37
          ],
          [
           27
          ],
          [
           24
          ],
          [
           31
          ],
          [
           23
          ],
          [
           34
          ],
          [
           88
          ],
          [
           89
          ],
          [
           32
          ],
          [
           38
          ],
          [
           57
          ],
          [
           90
          ],
          [
           33
          ],
          [
           66
          ],
          [
           35
          ],
          [
           31
          ],
          [
           35
          ],
          [
           63
          ],
          [
           30
          ],
          [
           22
          ],
          [
           84
          ],
          [
           28
          ],
          [
           88
          ],
          [
           84
          ],
          [
           88
          ],
          [
           35
          ],
          [
           82
          ],
          [
           64
          ],
          [
           91
          ],
          [
           62
          ],
          [
           62
          ],
          [
           34
          ],
          [
           60
          ],
          [
           32
          ],
          [
           65
          ],
          [
           24
          ],
          [
           88
          ],
          [
           82
          ],
          [
           26
          ],
          [
           60
          ],
          [
           31
          ],
          [
           85
          ],
          [
           63
          ],
          [
           56
          ],
          [
           28
          ],
          [
           58
          ],
          [
           26
          ],
          [
           62
          ]
         ],
         "hoverlabel": {
          "namelength": 0
         },
         "hovertemplate": "Cluster=Cluster 0<br>PCA1=%{x}<br>PCA2=%{y}<br>Feature=%{customdata[0]}",
         "legendgroup": "Cluster=Cluster 0",
         "marker": {
          "color": "#636efa",
          "opacity": 0.5,
          "symbol": "circle"
         },
         "mode": "markers",
         "name": "Cluster=Cluster 0",
         "showlegend": true,
         "textposition": "top center",
         "type": "scatter",
         "x": [
          -45316.58140609567,
          -49427.52413702614,
          -47129.84416342062,
          -47975.6298943037,
          -41047.376366850316,
          -57176.86780610606,
          -42194.79873495243,
          -47211.30921897942,
          -55300.43835611648,
          -39708.64698966349,
          -37510.58801132118,
          -43231.47790879879,
          -55368.98427568011,
          -48469.758225555786,
          -51191.18311026796,
          -46897.287204841865,
          -36822.88272990107,
          -42594.24300193298,
          -48754.55322293147,
          -49610.675010159706,
          -28705.212826769817,
          -47927.75615335328,
          -45592.662714596474,
          -50446.68725850559,
          -42805.1746936623,
          -40907.2514779881,
          -51240.794674902085,
          -42382.69883203622,
          -46294.6965258151,
          -49640.51633393591,
          -33685.82303783502,
          -41654.285370916725,
          -46752.1718911491,
          -53680.7205852779,
          -60035.35573518631,
          -47339.94733410826,
          -59885.18345080089,
          -41090.43271162367,
          -51335.69636219804,
          -43219.57063079797,
          -45489.120024218646,
          -47271.413276242136,
          -54957.490989172344,
          -44945.699014443,
          -40724.156885096636,
          -47490.053373637085,
          -58306.89374121132,
          -44680.89350931925,
          -51006.62596717179,
          -49952.56386424757,
          -50055.78756429358,
          -50029.04867348443,
          -48459.57885316467,
          -42253.87287795824,
          -43012.76978349141,
          -58127.50387027004,
          -45508.353885877674,
          -50504.823142737725,
          -48762.3646682712,
          -37730.76934060818,
          -28723.991919566022,
          -46206.76070917288,
          -44821.271955370954,
          -56178.67327005176,
          -49206.072979236225,
          -54413.15855352474,
          -45504.928216643864,
          -53514.36608306824,
          -43811.47262039389,
          -63634.72200273956,
          -39063.28667619092,
          -63656.34758998013,
          -53329.08890863793,
          -56491.726161601444,
          -53484.99044797621,
          -57750.757746123905,
          -42432.64509966227,
          -48329.375219863454,
          -47000.17170879292,
          -48496.84792497306,
          -53103.84791289731,
          -46522.91941975118,
          -39882.023331383025,
          -46108.56441807313,
          -45148.06214608791,
          -57495.827518222795,
          -48890.16204283166,
          -48254.0062299249,
          -56854.2449146841,
          -41272.89533986181,
          -55116.8360181684,
          -58771.330100436186,
          -51459.51350546344,
          -56820.08755360426,
          -42172.09142372815,
          -39916.5906115269,
          -48448.18982139342,
          -49274.44239615932,
          -46888.40589877377,
          -47148.04950665261,
          -51304.42079121021,
          -49855.36023906119,
          -49083.98904448348,
          -52219.788910263254,
          -53905.33080870669,
          -45889.16124528396,
          -39730.75492373199,
          -44207.36919669005,
          -42334.047671506356,
          -49618.56425158391,
          -42152.50281937875,
          -39255.47386551347,
          -52957.616291780985,
          -48338.70466261933,
          -56895.33602609466,
          -41183.65207165712,
          -47591.22511122001,
          -52877.38164603337,
          -38257.0125226787,
          -45243.335995709815,
          -38870.67264138035,
          -55003.11473536296,
          -51590.97205811303,
          -51858.95285225975,
          -48031.60033869835,
          -53120.54070874582,
          -52745.27199507384,
          -57888.98693798618,
          -44891.726940178174,
          -33223.7879275869,
          -46621.675189920876,
          -57945.29400939379,
          -52350.13688160769,
          -44316.39097613652,
          -42485.198930508384,
          -41229.08532646791,
          -55837.89621255908,
          -57516.27318363643,
          -42546.309287033844,
          -47366.649393097134,
          -40392.52353813576,
          -48086.471615067836,
          -52508.30353343574,
          -45053.50115134018,
          -48867.334224124745,
          -40276.44813108955,
          -47072.83270827881
         ],
         "xaxis": "x",
         "y": [
          72.34189620852814,
          -3282.496783689519,
          -2166.9455265130246,
          -2697.4806496368724,
          163.00860194240457,
          -500.38222602903886,
          -2831.244972649776,
          -497.028732146817,
          -2379.445392952536,
          -2812.6408322745274,
          -2385.9306735999726,
          -2464.366506729349,
          -990.6075970316567,
          -975.0110199269392,
          -2999.0481368530072,
          -1500.599753550348,
          -3004.1359250357305,
          -4573.135949676128,
          -3476.757532941406,
          -2494.3460158547705,
          -2125.516573296832,
          1139.067724989405,
          -1858.7415428672753,
          -1789.8310613735075,
          -2383.923586492434,
          -2247.7230980697605,
          -337.58311029946105,
          -1026.2178281219428,
          -3445.140762666877,
          -2403.4526565005285,
          -2359.9810608524367,
          -1284.2763352326028,
          -4260.667936777422,
          -1523.1531827794781,
          -2067.7852022028615,
          -2756.2104567652163,
          968.1821841701711,
          -2507.4680378488583,
          -2253.324954790315,
          -982.6374045457458,
          -857.236557419913,
          -1422.2632521531477,
          -1273.0340909671554,
          -2663.43630341436,
          -3403.3549980948783,
          -1025.6556377131599,
          -1498.3070625904033,
          -3320.2381091067423,
          1229.6342021037967,
          -1016.3628176053383,
          -458.7329379734711,
          -2907.798180135492,
          -623.0248233972375,
          -2813.408865756102,
          -2388.397515567187,
          -3329.4241557503906,
          -1716.0957515179962,
          -2541.1040744024217,
          -1902.3037525718137,
          -3447.5228656993513,
          -1283.2493416842196,
          -3972.4372911141963,
          -809.2478504066149,
          -1450.731868886665,
          646.5438723752009,
          -1055.9968931753715,
          -1656.425055816306,
          -3511.650542757561,
          -3844.0506429942843,
          -958.5365645110799,
          -2178.9512608782666,
          -672.1303645871029,
          -3704.1152030668836,
          -1529.949520138385,
          -2964.8711615389448,
          -1546.7860227984675,
          -2804.3175987818167,
          -2106.956548531858,
          -3258.5927312494296,
          -1255.0231217175217,
          -1838.664645556662,
          -2395.1506203279114,
          -3145.8388116696306,
          -4704.900718140077,
          -918.4435413744595,
          -874.5938320396276,
          -3117.043572435125,
          -3586.3929123393636,
          -1039.8869670204526,
          -2039.0519450914794,
          -3386.6313874278367,
          -1946.4256348815347,
          -1443.6312210611695,
          -2626.4947601230415,
          -3482.950924420315,
          -5860.406970913428,
          -424.494451602472,
          -1819.1411133435672,
          -1747.2845158743767,
          -948.1700320034164,
          -1341.6421504993389,
          -2551.640945867301,
          -2706.954245859542,
          -361.8228772290625,
          776.721355182877,
          -3656.8600405231214,
          -3215.3117531036187,
          -1788.59501925514,
          -946.4427010468286,
          -1200.498708574703,
          -3595.4264994551536,
          -2456.0624695072056,
          -512.1681616652382,
          -296.9479102201377,
          -219.835673440323,
          -2299.177576458253,
          -2876.016821854162,
          -1034.0462861180706,
          -3209.705699855121,
          -2386.74467038797,
          -4966.632983631628,
          -1806.3716349634778,
          -1709.6809922654052,
          -1998.3145148841272,
          -2520.8796709258995,
          -2373.906852113617,
          -3270.250012030126,
          -2297.410428456017,
          -1059.5099705589175,
          -4327.599800404026,
          -1061.3928297006296,
          -1690.2235244245426,
          -1271.8366968001844,
          -1681.1078093986168,
          -1573.12933394647,
          -559.8887343311586,
          -2913.1513261933937,
          -2662.23791741306,
          -2323.9550250667435,
          -2226.523883594684,
          -1918.0706539765365,
          -3267.6645334787445,
          -2003.3795586148967,
          -3267.8530880659678,
          -3330.095089314262,
          -3159.403065288738,
          -3652.143022077506
         ],
         "yaxis": "y"
        },
        {
         "customdata": [
          [
           86
          ],
          [
           56
          ],
          [
           91
          ],
          [
           59
          ],
          [
           28
          ],
          [
           85
          ],
          [
           65
          ],
          [
           94
          ],
          [
           86
          ],
          [
           30
          ],
          [
           62
          ],
          [
           85
          ],
          [
           59
          ],
          [
           30
          ],
          [
           83
          ],
          [
           66
          ],
          [
           31
          ],
          [
           88
          ],
          [
           28
          ],
          [
           85
          ],
          [
           64
          ],
          [
           33
          ],
          [
           62
          ],
          [
           89
          ],
          [
           61
          ],
          [
           29
          ],
          [
           56
          ],
          [
           92
          ],
          [
           62
          ],
          [
           60
          ],
          [
           85
          ],
          [
           88
          ],
          [
           94
          ],
          [
           62
          ],
          [
           64
          ],
          [
           29
          ],
          [
           27
          ],
          [
           31
          ],
          [
           87
          ],
          [
           32
          ],
          [
           63
          ],
          [
           58
          ],
          [
           62
          ],
          [
           32
          ],
          [
           93
          ],
          [
           59
          ],
          [
           61
          ],
          [
           53
          ],
          [
           82
          ],
          [
           28
          ],
          [
           32
          ],
          [
           89
          ],
          [
           84
          ],
          [
           87
          ],
          [
           29
          ],
          [
           58
          ],
          [
           29
          ],
          [
           55
          ],
          [
           25
          ],
          [
           60
          ],
          [
           88
          ],
          [
           24
          ],
          [
           56
          ],
          [
           95
          ],
          [
           89
          ],
          [
           86
          ],
          [
           85
          ],
          [
           60
          ],
          [
           87
          ],
          [
           29
          ],
          [
           23
          ],
          [
           31
          ],
          [
           89
          ],
          [
           58
          ],
          [
           56
          ],
          [
           37
          ],
          [
           89
          ],
          [
           29
          ],
          [
           23
          ],
          [
           34
          ],
          [
           64
          ],
          [
           63
          ],
          [
           85
          ],
          [
           62
          ],
          [
           59
          ],
          [
           92
          ],
          [
           67
          ],
          [
           58
          ],
          [
           58
          ],
          [
           38
          ],
          [
           57
          ],
          [
           31
          ],
          [
           36
          ],
          [
           25
          ],
          [
           66
          ],
          [
           64
          ],
          [
           59
          ],
          [
           90
          ],
          [
           68
          ],
          [
           35
          ],
          [
           84
          ],
          [
           24
          ],
          [
           29
          ],
          [
           28
          ],
          [
           81
          ],
          [
           57
          ],
          [
           37
          ],
          [
           91
          ],
          [
           82
          ],
          [
           36
          ],
          [
           31
          ],
          [
           61
          ],
          [
           64
          ],
          [
           83
          ],
          [
           63
          ],
          [
           55
          ],
          [
           86
          ],
          [
           57
          ],
          [
           94
          ],
          [
           37
          ],
          [
           26
          ],
          [
           57
          ],
          [
           37
          ],
          [
           88
          ],
          [
           61
          ],
          [
           91
          ],
          [
           84
          ],
          [
           43
          ],
          [
           59
          ],
          [
           90
          ]
         ],
         "hoverlabel": {
          "namelength": 0
         },
         "hovertemplate": "Cluster=Cluster 1<br>PCA1=%{x}<br>PCA2=%{y}<br>Feature=%{customdata[0]}",
         "legendgroup": "Cluster=Cluster 1",
         "marker": {
          "color": "#EF553B",
          "opacity": 0.5,
          "symbol": "circle"
         },
         "mode": "markers",
         "name": "Cluster=Cluster 1",
         "showlegend": true,
         "textposition": "top center",
         "type": "scatter",
         "x": [
          30806.776341952795,
          24706.128352845168,
          25328.069962281683,
          25363.91922672043,
          37194.9022790742,
          26228.3762864362,
          37939.71700891236,
          31960.75451420728,
          26983.046364278198,
          20592.346613007776,
          35036.71585548722,
          18943.37281781305,
          34834.90179465998,
          35572.71538685356,
          25732.344972190567,
          32561.025360063308,
          23470.847033328027,
          31361.085267799153,
          31045.220255678792,
          27758.38757580821,
          35758.2754355367,
          39135.37622313007,
          30949.636901997947,
          32572.750272366204,
          23967.006087975635,
          35579.205815806316,
          22393.417730180136,
          31911.00123936634,
          40673.85964432747,
          26298.14841024673,
          38869.64945267171,
          32797.64366935495,
          21900.785300032774,
          38847.16976776081,
          32210.979768642414,
          22224.556143435304,
          19295.267686809566,
          25474.402763797294,
          24613.751980326124,
          21973.30795044384,
          41298.63129283508,
          30584.124615113262,
          32416.939873895546,
          23032.68012465128,
          24491.388898644735,
          37228.734745200694,
          29861.54666962146,
          33379.42058468911,
          32912.892063315856,
          22350.769816321575,
          39513.273555432424,
          25938.05049675625,
          25376.693266073173,
          14006.000965365401,
          22105.034591078263,
          30046.489080926065,
          30148.682673916097,
          15764.491431415832,
          32307.936729140954,
          24294.80847834634,
          31253.468530449434,
          32289.540207166658,
          34830.86603735359,
          31016.95277066788,
          34815.254920538064,
          31614.4425654191,
          23196.213306438243,
          36008.72535912233,
          33345.15627123121,
          23858.598240023435,
          22258.60866856991,
          23748.677815454063,
          34360.48180735059,
          32345.708428700596,
          32149.921292682884,
          27456.91326667312,
          32322.90855312249,
          38938.118138714344,
          31317.298064553714,
          30614.16577855358,
          39941.23737509611,
          20486.140695945465,
          24819.36094949776,
          31330.34398452479,
          28912.895136199957,
          28960.634964946785,
          36813.76713420397,
          33203.84256888804,
          28627.259856400316,
          26343.678673902472,
          32691.86956168574,
          26507.042872359925,
          29210.5569464397,
          36260.39985707388,
          38543.62512292871,
          28639.38500245049,
          31502.360342968233,
          26312.372968927535,
          22236.16947437229,
          33217.926610948096,
          16918.67620110013,
          26023.566351406167,
          39399.401381811505,
          34753.14848573081,
          23022.21826312666,
          40419.576695104166,
          19785.994393274683,
          30836.978307627447,
          23392.942046850603,
          25765.790042328368,
          30950.1018396824,
          15177.319714667681,
          30155.334159636997,
          30268.7054812633,
          27412.69140542124,
          19017.16946491752,
          32853.062283695275,
          35023.2162708003,
          31202.412682476082,
          26003.522431925623,
          28681.549887585767,
          35187.91053468466,
          24827.978780545982,
          40849.48059769064,
          26071.981181359253,
          29240.509748648117,
          34060.87750047385,
          26578.153196266197,
          35711.07999432947,
          23896.368807904095
         ],
         "xaxis": "x",
         "y": [
          -5560.2046796,
          -6304.28687157794,
          -4507.81885275907,
          -6518.877743618625,
          -4030.486076235748,
          -4266.4841646878,
          -4683.440281859747,
          -7950.137679904536,
          -2897.4181107781205,
          -4611.587648361572,
          -6415.699536226247,
          -6099.926511675159,
          -5079.5409307317395,
          -4807.665202226773,
          -4846.280009746117,
          -5658.5291473353955,
          -4720.2489254083885,
          -4837.589604607752,
          -4354.880673536974,
          -3524.6018820414943,
          -4122.472097486011,
          -4339.707016425753,
          -4397.197322284789,
          -6711.005814772023,
          -5918.696393593375,
          -6195.25651540272,
          -5150.746928288212,
          -2672.911296966153,
          -5771.8277165885265,
          -5023.038755192273,
          -4117.836047019011,
          -5654.546848389318,
          -5234.914435436244,
          -8209.639308093867,
          -5806.362366658895,
          -5737.01421639917,
          -3266.6501002799137,
          -4541.161711915865,
          -3288.464289351834,
          -5227.972306159952,
          -6422.065006311348,
          -5198.65174378372,
          -3316.873784519851,
          -5461.179044520953,
          -3378.544090547869,
          -4575.537648425251,
          -4210.491742797322,
          -4139.053044046938,
          -4588.664684244309,
          -5405.19238007051,
          -4805.6825205209325,
          -4054.252841897083,
          -3922.3292073945418,
          -1775.6050399833541,
          -4346.187741550608,
          -2733.1094851712646,
          -3727.641222685245,
          -2149.152212076626,
          -3401.0815217687773,
          -3156.1748677381515,
          -4792.82017244466,
          -3634.341360640738,
          -5377.229021116213,
          -4865.0044073172785,
          -5108.281670571711,
          -3948.413153701506,
          -5613.714946473869,
          -6111.705171395257,
          -6080.299826048201,
          -4857.997302514552,
          -5195.925409188554,
          -4085.3878885407785,
          -5038.816440742175,
          -2201.7204362153543,
          -5508.945169399093,
          -4868.312164441826,
          -3681.290385681803,
          -4443.169815276384,
          -6141.763263553492,
          -4762.434912619336,
          -5237.495032300994,
          -4804.2037003568,
          -6443.116567478199,
          -5635.163544619184,
          -5224.5544356708415,
          -5439.902381792006,
          -4615.462129870628,
          -6552.893169384941,
          -3324.8164217780154,
          -3863.006874934307,
          -6066.457122934574,
          -5484.674656121095,
          -6286.356908964101,
          -3890.3447962612545,
          -7198.063753004429,
          -3130.9505393461027,
          -5081.205331963821,
          -4286.405360287332,
          -4400.042331000772,
          -4387.404636496324,
          -2877.1946078768783,
          -7172.334785619932,
          -5202.090344164464,
          -4008.5890127538996,
          -4439.122859420631,
          -6642.233640263943,
          -4699.391527469763,
          -4248.4109987799275,
          -5117.926369906291,
          -4647.515091833699,
          -6274.399407676457,
          4253.670268811264,
          -6491.84591630206,
          -4917.675594824385,
          -5970.659605817778,
          -4587.056600403996,
          -5910.5957245401005,
          -4416.5772732561145,
          -4006.880782404122,
          -3786.133642471528,
          -4194.11245457707,
          -4164.858385743972,
          -5088.608312301609,
          -5591.430862352506,
          -4687.764619495446,
          -5240.70987990114,
          -5075.678351149003,
          -4542.181472406767,
          -4543.481105344734,
          -4653.572550884041
         ],
         "yaxis": "y"
        },
        {
         "customdata": [
          [
           88
          ],
          [
           59
          ],
          [
           59
          ],
          [
           88
          ],
          [
           37
          ],
          [
           33
          ],
          [
           90
          ],
          [
           31
          ],
          [
           90
          ],
          [
           91
          ],
          [
           29
          ],
          [
           83
          ],
          [
           84
          ],
          [
           87
          ],
          [
           22
          ],
          [
           58
          ],
          [
           31
          ],
          [
           33
          ],
          [
           56
          ],
          [
           30
          ],
          [
           85
          ],
          [
           87
          ],
          [
           34
          ],
          [
           61
          ],
          [
           30
          ],
          [
           88
          ],
          [
           56
          ],
          [
           30
          ],
          [
           25
          ],
          [
           61
          ],
          [
           88
          ],
          [
           37
          ],
          [
           35
          ],
          [
           85
          ],
          [
           85
          ],
          [
           88
          ],
          [
           59
          ],
          [
           90
          ],
          [
           33
          ],
          [
           62
          ],
          [
           59
          ],
          [
           91
          ],
          [
           33
          ],
          [
           87
          ],
          [
           26
          ],
          [
           88
          ],
          [
           24
          ],
          [
           91
          ],
          [
           86
          ],
          [
           36
          ],
          [
           87
          ],
          [
           33
          ],
          [
           59
          ],
          [
           29
          ],
          [
           59
          ],
          [
           57
          ],
          [
           40
          ],
          [
           42
          ],
          [
           89
          ],
          [
           93
          ],
          [
           17
          ],
          [
           24
          ],
          [
           34
          ],
          [
           90
          ],
          [
           20
          ],
          [
           92
          ],
          [
           84
          ],
          [
           59
          ],
          [
           61
          ],
          [
           67
          ],
          [
           82
          ],
          [
           94
          ],
          [
           28
          ],
          [
           36
          ],
          [
           91
          ],
          [
           34
          ],
          [
           77
          ],
          [
           63
          ],
          [
           35
          ],
          [
           21
          ],
          [
           86
          ],
          [
           56
          ],
          [
           83
          ],
          [
           28
          ],
          [
           59
          ],
          [
           83
          ],
          [
           83
          ],
          [
           58
          ],
          [
           91
          ],
          [
           29
          ],
          [
           61
          ],
          [
           84
          ],
          [
           34
          ],
          [
           33
          ],
          [
           55
          ],
          [
           88
          ],
          [
           91
          ],
          [
           91
          ],
          [
           84
          ],
          [
           87
          ],
          [
           39
          ],
          [
           38
          ],
          [
           89
          ],
          [
           59
          ],
          [
           35
          ],
          [
           59
          ],
          [
           87
          ],
          [
           94
          ],
          [
           86
          ],
          [
           60
          ],
          [
           79
          ],
          [
           86
          ],
          [
           60
          ],
          [
           85
          ],
          [
           92
          ],
          [
           37
          ],
          [
           89
          ],
          [
           67
          ],
          [
           31
          ],
          [
           20
          ],
          [
           37
          ],
          [
           57
          ],
          [
           87
          ],
          [
           33
          ],
          [
           56
          ],
          [
           67
          ],
          [
           58
          ],
          [
           89
          ],
          [
           34
          ],
          [
           25
          ],
          [
           44
          ],
          [
           68
          ],
          [
           31
          ],
          [
           58
          ],
          [
           55
          ],
          [
           21
          ],
          [
           36
          ],
          [
           88
          ],
          [
           26
          ],
          [
           29
          ],
          [
           38
          ],
          [
           79
          ],
          [
           51
          ],
          [
           82
          ],
          [
           39
          ],
          [
           87
          ],
          [
           36
          ],
          [
           57
          ],
          [
           61
          ],
          [
           86
          ],
          [
           86
          ],
          [
           35
          ],
          [
           89
          ],
          [
           30
          ],
          [
           60
          ],
          [
           64
          ]
         ],
         "hoverlabel": {
          "namelength": 0
         },
         "hovertemplate": "Cluster=Cluster 2<br>PCA1=%{x}<br>PCA2=%{y}<br>Feature=%{customdata[0]}",
         "legendgroup": "Cluster=Cluster 2",
         "marker": {
          "color": "#00cc96",
          "opacity": 0.5,
          "symbol": "circle"
         },
         "mode": "markers",
         "name": "Cluster=Cluster 2",
         "showlegend": true,
         "textposition": "top center",
         "type": "scatter",
         "x": [
          -7981.74681068344,
          -10371.487057071728,
          -2220.635450610067,
          3607.6218475354394,
          -805.5182840466994,
          -811.2733012583091,
          -3147.971690102408,
          -12402.614006035741,
          5619.125538763617,
          2868.675335891804,
          7034.566991846874,
          -1709.0067116984374,
          -3127.7464754071916,
          4615.604589783888,
          4968.764645874567,
          -6214.354917756391,
          5679.935032255554,
          -4794.7301859724685,
          -9823.292971418668,
          -5787.584457334294,
          1547.9124395594208,
          -7431.169946592955,
          -11770.096221904698,
          -3197.770674931715,
          -1424.2968527852622,
          -5149.414552966321,
          -4588.845682887332,
          -9176.939917160458,
          1855.0479869186745,
          7017.407229806941,
          5122.282562298916,
          -967.13452922949,
          -10419.650727093285,
          -4883.720561797813,
          3333.0370081988917,
          -7827.504392605757,
          -6270.130057704645,
          -4114.665812502664,
          -7225.656651496559,
          -4661.643199436448,
          -6586.375015596347,
          -7793.211508914165,
          -6075.723945911876,
          3574.867628285121,
          -1755.366356398994,
          -1864.5940590614541,
          -9270.983246113981,
          2555.784235160207,
          -5898.744479681153,
          -5327.512619806893,
          -1710.0091006297844,
          -2630.794135208187,
          1381.2925438038883,
          -10238.837928743049,
          -2329.616759752776,
          -3536.6248996188688,
          -11570.0136294723,
          -12594.175242128538,
          -3881.2792235448305,
          -9447.566957019668,
          -4595.725467462932,
          5567.478117111796,
          9121.208329826173,
          4848.442764387971,
          499.49661809613116,
          -4176.722631704317,
          -6529.597912750265,
          -7423.928769536241,
          -9153.992100917849,
          4864.683651412987,
          -7249.028129796934,
          7325.256189492684,
          1198.2155272857126,
          -6945.49022085591,
          -5628.983771409211,
          -6874.447300583782,
          3175.7301008876752,
          -10072.87511880355,
          -5806.077052611827,
          -6051.798027149648,
          11039.026942031704,
          -4972.922141129973,
          11129.424149229608,
          6644.597612798219,
          -611.8920766835467,
          -879.6961231840245,
          1270.5926186365052,
          -3354.4093954920504,
          -3652.0516272195237,
          1535.3200349238518,
          3442.0678654010458,
          1691.1469990054982,
          -9514.742122293776,
          -5495.930030665693,
          -11393.264281389047,
          -1006.7942808927074,
          -11385.807297750887,
          10499.407295945577,
          -5228.773548143103,
          -2009.7086141751747,
          -847.3002227743463,
          -13124.39160403841,
          -6112.701966838946,
          -14757.626854505615,
          -5414.451723823103,
          -4197.99599557251,
          -907.6690876091246,
          4241.7758951530395,
          -2601.869628345953,
          1797.8692846207512,
          -860.4354477953757,
          13091.37415351668,
          -4333.353171495326,
          106.44730782998958,
          -5414.8496213803,
          -1148.5927138363245,
          834.6063416853447,
          -182.8750970629021,
          -12401.01261442264,
          384.48865377877314,
          -15876.014194933885,
          2392.9514000132185,
          -4856.160277619092,
          -9604.976101231405,
          -3578.641166763738,
          3594.042421690822,
          -5713.3044750317285,
          -7793.454352086536,
          -18832.323089995112,
          277.31945471803033,
          2456.114942910876,
          3385.822049131315,
          -1867.5011952055127,
          -4025.534586861504,
          -5506.504775277314,
          1380.909585482253,
          -1254.7961050822898,
          1223.333284206348,
          -10817.514881421746,
          375.6120252474075,
          -18377.080919160897,
          -7740.904879089723,
          -9600.009525716901,
          -284.93461613175504,
          -15159.901916245683,
          -4335.121223668243,
          -3902.6507601274166,
          -9955.599000501976,
          8122.0803804155385,
          5073.487356522338,
          871.0561448640389,
          3735.22230012054,
          -8175.944783841661,
          -7927.27939399957,
          -3222.0284971176466,
          2663.8141427242567
         ],
         "xaxis": "x",
         "y": [
          3467.565974911416,
          6211.274488459195,
          4177.140129281848,
          4852.444518767337,
          4348.0956797841345,
          4771.515153180691,
          5506.996622913858,
          4277.420432790428,
          4314.803908984967,
          5223.642330390356,
          3374.287134293427,
          3684.695295940358,
          5318.281993622223,
          5713.442041909502,
          3943.117073633911,
          8154.200533863802,
          4711.285967238693,
          5174.470545977293,
          6862.2475720806015,
          5711.628393266968,
          3973.9069974865115,
          6342.036901878025,
          5001.420783196847,
          5127.949261280452,
          7267.328542397002,
          5556.6661391338175,
          4468.26810256384,
          7146.6628582527765,
          5468.743274286694,
          5588.8006029982025,
          3424.0736039052867,
          4638.72424067415,
          5982.858221439128,
          4688.370746949256,
          4012.2154933423144,
          5701.69757502351,
          5401.821696967167,
          3078.896438494592,
          4564.617621855315,
          4875.41203439204,
          4795.659622307596,
          6334.243251982044,
          3500.5964543132513,
          6638.1894881430435,
          4273.205301847634,
          5267.352553209773,
          5996.549152653392,
          5164.6903873935735,
          5205.840154213875,
          5507.674538617931,
          5692.091704359399,
          5512.8098884720985,
          5207.221097509007,
          7423.315368546432,
          6502.207882775589,
          5070.413098436324,
          6393.584927460232,
          5058.593507665863,
          3532.750801645635,
          6026.370137728769,
          4575.315245883311,
          6399.679457928575,
          4076.188863858497,
          6716.389270082326,
          4450.572465085797,
          5121.948177991018,
          5174.060016070747,
          5595.425208078425,
          6237.455006749796,
          4834.953991865886,
          5030.101509904844,
          5245.750156657963,
          6031.597780098117,
          5240.2836976266035,
          3413.460990034031,
          3266.470183264377,
          4727.079813055347,
          7033.832306225466,
          5686.132349951805,
          6221.683453940017,
          4384.687289531571,
          5053.974394482305,
          2451.3956456354927,
          6074.108821940037,
          2642.8564628733093,
          4574.02985248023,
          4918.861099714734,
          4039.049708218607,
          4298.1479342157945,
          6617.143404468854,
          3293.9257098257845,
          4305.605513370138,
          5484.062210130746,
          5033.927181148621,
          4760.726683836118,
          6827.736752280867,
          5239.834486252128,
          4092.5868105824957,
          4906.821369117007,
          4571.311601888513,
          5435.293808150462,
          5122.298575466129,
          7150.265686204207,
          5008.012103778604,
          6401.496850378554,
          4646.423038232091,
          4662.571801362159,
          4854.373611538005,
          5720.063910631846,
          3616.9066222648607,
          1366.2175061913895,
          3878.0740056043546,
          6791.121727987126,
          5019.545071865858,
          4509.378948047728,
          6154.518606181512,
          5141.101367432589,
          4411.324353776284,
          6731.622371228139,
          6845.141814371277,
          7337.462584330764,
          5992.684094109705,
          6861.841710581503,
          5517.456998799788,
          4687.331305792243,
          5244.223767536204,
          6098.407171499206,
          5788.853893383745,
          6823.253328040562,
          5152.077722121311,
          5539.978254276125,
          4513.159427781255,
          2685.6626854367946,
          5644.552199614267,
          6298.430178867731,
          5567.11267381873,
          6380.91549429279,
          5666.367954752699,
          6677.482101590935,
          5049.606296947773,
          5086.3743247131,
          5133.6394716873865,
          4923.28160335522,
          4064.0083360808076,
          5573.243592768723,
          2658.2975188904124,
          5499.339332721764,
          4085.3122504461194,
          4731.012058760929,
          5244.4368093489165,
          5689.000453091909,
          4370.467828822715,
          5599.274828311291,
          5673.527728610801,
          4129.181189416356,
          3399.1203547303217
         ],
         "yaxis": "y"
        },
        {
         "customdata": [
          [
           37
          ],
          [
           65
          ],
          [
           90
          ],
          [
           59
          ],
          [
           29
          ],
          [
           58
          ],
          [
           88
          ],
          [
           63
          ],
          [
           92
          ],
          [
           17
          ],
          [
           34
          ],
          [
           22
          ],
          [
           24
          ],
          [
           36
          ],
          [
           34
          ],
          [
           87
          ],
          [
           85
          ],
          [
           61
          ],
          [
           27
          ],
          [
           59
          ],
          [
           31
          ],
          [
           31
          ],
          [
           93
          ],
          [
           17
          ],
          [
           35
          ],
          [
           28
          ],
          [
           94
          ],
          [
           28
          ],
          [
           33
          ],
          [
           56
          ],
          [
           28
          ],
          [
           86
          ],
          [
           92
          ],
          [
           18
          ],
          [
           61
          ],
          [
           32
          ],
          [
           63
          ],
          [
           58
          ],
          [
           31
          ],
          [
           62
          ],
          [
           60
          ],
          [
           62
          ],
          [
           90
          ],
          [
           33
          ],
          [
           33
          ],
          [
           65
          ],
          [
           59
          ],
          [
           65
          ],
          [
           86
          ],
          [
           32
          ],
          [
           84
          ],
          [
           84
          ],
          [
           90
          ],
          [
           91
          ],
          [
           26
          ],
          [
           92
          ],
          [
           97
          ],
          [
           84
          ],
          [
           58
          ],
          [
           61
          ],
          [
           92
          ],
          [
           87
          ],
          [
           66
          ],
          [
           22
          ],
          [
           91
          ],
          [
           30
          ],
          [
           25
          ],
          [
           28
          ],
          [
           93
          ],
          [
           90
          ],
          [
           91
          ],
          [
           89
          ]
         ],
         "hoverlabel": {
          "namelength": 0
         },
         "hovertemplate": "Cluster=Cluster 3<br>PCA1=%{x}<br>PCA2=%{y}<br>Feature=%{customdata[0]}",
         "legendgroup": "Cluster=Cluster 3",
         "marker": {
          "color": "#ab63fa",
          "opacity": 0.5,
          "symbol": "circle"
         },
         "mode": "markers",
         "name": "Cluster=Cluster 3",
         "showlegend": true,
         "textposition": "top center",
         "type": "scatter",
         "x": [
          48551.897791192656,
          42414.139844093945,
          46271.74999066814,
          48029.235982960934,
          62912.457097805695,
          43629.01273923756,
          55587.351730733615,
          56651.45548374749,
          41328.252663310006,
          43861.74709102553,
          53899.2340599796,
          44952.90203538896,
          47549.76254622709,
          47842.88367906653,
          59798.174828499745,
          47182.06858155582,
          51395.22435599951,
          57857.28905692231,
          47415.38916240536,
          58984.55027496729,
          48410.00929047232,
          55168.45154506191,
          59803.04557919301,
          53976.790002631315,
          56449.67813828143,
          46993.64108790839,
          53422.55248570125,
          41580.27174463824,
          47836.448391826845,
          48602.57111184022,
          52465.03358665992,
          52263.494108744475,
          50433.85138453335,
          51532.47005840453,
          46000.802484699576,
          63317.06653244293,
          52086.380658927235,
          50397.08389773138,
          43600.21618030979,
          54542.560260911305,
          52679.137422450614,
          54778.91990969147,
          45728.40114434413,
          59239.85352839813,
          41859.1543699756,
          48281.96476402191,
          54230.311420476624,
          49923.232402586335,
          48577.2459445637,
          45920.30384600761,
          45302.57090416746,
          55809.60825993982,
          43084.431301068376,
          48697.328544409975,
          50874.59373315186,
          44074.74432267951,
          47210.61128412963,
          52844.21454083213,
          47518.88131856794,
          53924.59703955878,
          42157.805428701,
          66750.62108457655,
          45280.296457487646,
          61617.256021857225,
          61085.16181542692,
          41933.87634909211,
          55783.428858014915,
          42045.795702571406,
          55795.99791496397,
          45049.7130377485,
          59196.59308633912,
          47964.552261386925
         ],
         "xaxis": "x",
         "y": [
          4668.214697412171,
          -5432.281819509636,
          4207.414796612182,
          5422.323757682563,
          5261.355213266391,
          -6254.840941209116,
          3427.1351952588097,
          4271.292185091135,
          -4823.645899335595,
          -6877.035883382059,
          3176.7468854090907,
          -4985.514801220389,
          3437.896482394781,
          4758.188729714914,
          4315.7517925590655,
          -4557.716601791868,
          5657.241494980816,
          5717.50113716764,
          4709.388807631824,
          3350.7116179336454,
          -5693.665441157439,
          4016.981622201616,
          8450.307562492606,
          5488.389984582104,
          5101.398697367521,
          -4647.129088588644,
          3894.235479127748,
          -5615.560772408632,
          6059.9833233745485,
          6249.53736093008,
          3371.533065013099,
          5916.35805412983,
          -6854.206134077946,
          6006.73383366253,
          3884.452851319082,
          4946.177510120509,
          3388.4270346813746,
          2890.550968564704,
          -5657.478831520006,
          4193.882999372306,
          -4749.057025715357,
          4629.791365281096,
          3658.306501252222,
          4745.144589124808,
          -4543.326267067189,
          8499.966944599806,
          3238.428770323685,
          6048.724079227706,
          -6305.307759672722,
          -4953.921129423355,
          3778.1814213096054,
          3879.149733262657,
          -4660.855622444501,
          5282.497809754305,
          -5178.052813440065,
          -6307.669140625974,
          6674.234677495916,
          -5677.667475551904,
          4941.999362973269,
          5765.842845736464,
          -5954.454601851136,
          2693.0081866217542,
          4437.356566167738,
          6726.313750520612,
          4243.721728508766,
          4717.997205237607,
          4732.087714707706,
          -3106.1034758683513,
          4252.897540706997,
          4590.872583456104,
          3903.9749268153705,
          -4397.186114919671
         ],
         "yaxis": "y"
        }
       ],
       "layout": {
        "height": 600,
        "legend": {
         "tracegroupgap": 0
        },
        "margin": {
         "t": 60
        },
        "plot_bgcolor": "rgb(240,240,240)",
        "template": {
         "data": {
          "bar": [
           {
            "error_x": {
             "color": "#2a3f5f"
            },
            "error_y": {
             "color": "#2a3f5f"
            },
            "marker": {
             "line": {
              "color": "#E5ECF6",
              "width": 0.5
             }
            },
            "type": "bar"
           }
          ],
          "barpolar": [
           {
            "marker": {
             "line": {
              "color": "#E5ECF6",
              "width": 0.5
             }
            },
            "type": "barpolar"
           }
          ],
          "carpet": [
           {
            "aaxis": {
             "endlinecolor": "#2a3f5f",
             "gridcolor": "white",
             "linecolor": "white",
             "minorgridcolor": "white",
             "startlinecolor": "#2a3f5f"
            },
            "baxis": {
             "endlinecolor": "#2a3f5f",
             "gridcolor": "white",
             "linecolor": "white",
             "minorgridcolor": "white",
             "startlinecolor": "#2a3f5f"
            },
            "type": "carpet"
           }
          ],
          "choropleth": [
           {
            "colorbar": {
             "outlinewidth": 0,
             "ticks": ""
            },
            "type": "choropleth"
           }
          ],
          "contour": [
           {
            "colorbar": {
             "outlinewidth": 0,
             "ticks": ""
            },
            "colorscale": [
             [
              0,
              "#0d0887"
             ],
             [
              0.1111111111111111,
              "#46039f"
             ],
             [
              0.2222222222222222,
              "#7201a8"
             ],
             [
              0.3333333333333333,
              "#9c179e"
             ],
             [
              0.4444444444444444,
              "#bd3786"
             ],
             [
              0.5555555555555556,
              "#d8576b"
             ],
             [
              0.6666666666666666,
              "#ed7953"
             ],
             [
              0.7777777777777778,
              "#fb9f3a"
             ],
             [
              0.8888888888888888,
              "#fdca26"
             ],
             [
              1,
              "#f0f921"
             ]
            ],
            "type": "contour"
           }
          ],
          "contourcarpet": [
           {
            "colorbar": {
             "outlinewidth": 0,
             "ticks": ""
            },
            "type": "contourcarpet"
           }
          ],
          "heatmap": [
           {
            "colorbar": {
             "outlinewidth": 0,
             "ticks": ""
            },
            "colorscale": [
             [
              0,
              "#0d0887"
             ],
             [
              0.1111111111111111,
              "#46039f"
             ],
             [
              0.2222222222222222,
              "#7201a8"
             ],
             [
              0.3333333333333333,
              "#9c179e"
             ],
             [
              0.4444444444444444,
              "#bd3786"
             ],
             [
              0.5555555555555556,
              "#d8576b"
             ],
             [
              0.6666666666666666,
              "#ed7953"
             ],
             [
              0.7777777777777778,
              "#fb9f3a"
             ],
             [
              0.8888888888888888,
              "#fdca26"
             ],
             [
              1,
              "#f0f921"
             ]
            ],
            "type": "heatmap"
           }
          ],
          "heatmapgl": [
           {
            "colorbar": {
             "outlinewidth": 0,
             "ticks": ""
            },
            "colorscale": [
             [
              0,
              "#0d0887"
             ],
             [
              0.1111111111111111,
              "#46039f"
             ],
             [
              0.2222222222222222,
              "#7201a8"
             ],
             [
              0.3333333333333333,
              "#9c179e"
             ],
             [
              0.4444444444444444,
              "#bd3786"
             ],
             [
              0.5555555555555556,
              "#d8576b"
             ],
             [
              0.6666666666666666,
              "#ed7953"
             ],
             [
              0.7777777777777778,
              "#fb9f3a"
             ],
             [
              0.8888888888888888,
              "#fdca26"
             ],
             [
              1,
              "#f0f921"
             ]
            ],
            "type": "heatmapgl"
           }
          ],
          "histogram": [
           {
            "marker": {
             "colorbar": {
              "outlinewidth": 0,
              "ticks": ""
             }
            },
            "type": "histogram"
           }
          ],
          "histogram2d": [
           {
            "colorbar": {
             "outlinewidth": 0,
             "ticks": ""
            },
            "colorscale": [
             [
              0,
              "#0d0887"
             ],
             [
              0.1111111111111111,
              "#46039f"
             ],
             [
              0.2222222222222222,
              "#7201a8"
             ],
             [
              0.3333333333333333,
              "#9c179e"
             ],
             [
              0.4444444444444444,
              "#bd3786"
             ],
             [
              0.5555555555555556,
              "#d8576b"
             ],
             [
              0.6666666666666666,
              "#ed7953"
             ],
             [
              0.7777777777777778,
              "#fb9f3a"
             ],
             [
              0.8888888888888888,
              "#fdca26"
             ],
             [
              1,
              "#f0f921"
             ]
            ],
            "type": "histogram2d"
           }
          ],
          "histogram2dcontour": [
           {
            "colorbar": {
             "outlinewidth": 0,
             "ticks": ""
            },
            "colorscale": [
             [
              0,
              "#0d0887"
             ],
             [
              0.1111111111111111,
              "#46039f"
             ],
             [
              0.2222222222222222,
              "#7201a8"
             ],
             [
              0.3333333333333333,
              "#9c179e"
             ],
             [
              0.4444444444444444,
              "#bd3786"
             ],
             [
              0.5555555555555556,
              "#d8576b"
             ],
             [
              0.6666666666666666,
              "#ed7953"
             ],
             [
              0.7777777777777778,
              "#fb9f3a"
             ],
             [
              0.8888888888888888,
              "#fdca26"
             ],
             [
              1,
              "#f0f921"
             ]
            ],
            "type": "histogram2dcontour"
           }
          ],
          "mesh3d": [
           {
            "colorbar": {
             "outlinewidth": 0,
             "ticks": ""
            },
            "type": "mesh3d"
           }
          ],
          "parcoords": [
           {
            "line": {
             "colorbar": {
              "outlinewidth": 0,
              "ticks": ""
             }
            },
            "type": "parcoords"
           }
          ],
          "pie": [
           {
            "automargin": true,
            "type": "pie"
           }
          ],
          "scatter": [
           {
            "marker": {
             "colorbar": {
              "outlinewidth": 0,
              "ticks": ""
             }
            },
            "type": "scatter"
           }
          ],
          "scatter3d": [
           {
            "line": {
             "colorbar": {
              "outlinewidth": 0,
              "ticks": ""
             }
            },
            "marker": {
             "colorbar": {
              "outlinewidth": 0,
              "ticks": ""
             }
            },
            "type": "scatter3d"
           }
          ],
          "scattercarpet": [
           {
            "marker": {
             "colorbar": {
              "outlinewidth": 0,
              "ticks": ""
             }
            },
            "type": "scattercarpet"
           }
          ],
          "scattergeo": [
           {
            "marker": {
             "colorbar": {
              "outlinewidth": 0,
              "ticks": ""
             }
            },
            "type": "scattergeo"
           }
          ],
          "scattergl": [
           {
            "marker": {
             "colorbar": {
              "outlinewidth": 0,
              "ticks": ""
             }
            },
            "type": "scattergl"
           }
          ],
          "scattermapbox": [
           {
            "marker": {
             "colorbar": {
              "outlinewidth": 0,
              "ticks": ""
             }
            },
            "type": "scattermapbox"
           }
          ],
          "scatterpolar": [
           {
            "marker": {
             "colorbar": {
              "outlinewidth": 0,
              "ticks": ""
             }
            },
            "type": "scatterpolar"
           }
          ],
          "scatterpolargl": [
           {
            "marker": {
             "colorbar": {
              "outlinewidth": 0,
              "ticks": ""
             }
            },
            "type": "scatterpolargl"
           }
          ],
          "scatterternary": [
           {
            "marker": {
             "colorbar": {
              "outlinewidth": 0,
              "ticks": ""
             }
            },
            "type": "scatterternary"
           }
          ],
          "surface": [
           {
            "colorbar": {
             "outlinewidth": 0,
             "ticks": ""
            },
            "colorscale": [
             [
              0,
              "#0d0887"
             ],
             [
              0.1111111111111111,
              "#46039f"
             ],
             [
              0.2222222222222222,
              "#7201a8"
             ],
             [
              0.3333333333333333,
              "#9c179e"
             ],
             [
              0.4444444444444444,
              "#bd3786"
             ],
             [
              0.5555555555555556,
              "#d8576b"
             ],
             [
              0.6666666666666666,
              "#ed7953"
             ],
             [
              0.7777777777777778,
              "#fb9f3a"
             ],
             [
              0.8888888888888888,
              "#fdca26"
             ],
             [
              1,
              "#f0f921"
             ]
            ],
            "type": "surface"
           }
          ],
          "table": [
           {
            "cells": {
             "fill": {
              "color": "#EBF0F8"
             },
             "line": {
              "color": "white"
             }
            },
            "header": {
             "fill": {
              "color": "#C8D4E3"
             },
             "line": {
              "color": "white"
             }
            },
            "type": "table"
           }
          ]
         },
         "layout": {
          "annotationdefaults": {
           "arrowcolor": "#2a3f5f",
           "arrowhead": 0,
           "arrowwidth": 1
          },
          "coloraxis": {
           "colorbar": {
            "outlinewidth": 0,
            "ticks": ""
           }
          },
          "colorscale": {
           "diverging": [
            [
             0,
             "#8e0152"
            ],
            [
             0.1,
             "#c51b7d"
            ],
            [
             0.2,
             "#de77ae"
            ],
            [
             0.3,
             "#f1b6da"
            ],
            [
             0.4,
             "#fde0ef"
            ],
            [
             0.5,
             "#f7f7f7"
            ],
            [
             0.6,
             "#e6f5d0"
            ],
            [
             0.7,
             "#b8e186"
            ],
            [
             0.8,
             "#7fbc41"
            ],
            [
             0.9,
             "#4d9221"
            ],
            [
             1,
             "#276419"
            ]
           ],
           "sequential": [
            [
             0,
             "#0d0887"
            ],
            [
             0.1111111111111111,
             "#46039f"
            ],
            [
             0.2222222222222222,
             "#7201a8"
            ],
            [
             0.3333333333333333,
             "#9c179e"
            ],
            [
             0.4444444444444444,
             "#bd3786"
            ],
            [
             0.5555555555555556,
             "#d8576b"
            ],
            [
             0.6666666666666666,
             "#ed7953"
            ],
            [
             0.7777777777777778,
             "#fb9f3a"
            ],
            [
             0.8888888888888888,
             "#fdca26"
            ],
            [
             1,
             "#f0f921"
            ]
           ],
           "sequentialminus": [
            [
             0,
             "#0d0887"
            ],
            [
             0.1111111111111111,
             "#46039f"
            ],
            [
             0.2222222222222222,
             "#7201a8"
            ],
            [
             0.3333333333333333,
             "#9c179e"
            ],
            [
             0.4444444444444444,
             "#bd3786"
            ],
            [
             0.5555555555555556,
             "#d8576b"
            ],
            [
             0.6666666666666666,
             "#ed7953"
            ],
            [
             0.7777777777777778,
             "#fb9f3a"
            ],
            [
             0.8888888888888888,
             "#fdca26"
            ],
            [
             1,
             "#f0f921"
            ]
           ]
          },
          "colorway": [
           "#636efa",
           "#EF553B",
           "#00cc96",
           "#ab63fa",
           "#FFA15A",
           "#19d3f3",
           "#FF6692",
           "#B6E880",
           "#FF97FF",
           "#FECB52"
          ],
          "font": {
           "color": "#2a3f5f"
          },
          "geo": {
           "bgcolor": "white",
           "lakecolor": "white",
           "landcolor": "#E5ECF6",
           "showlakes": true,
           "showland": true,
           "subunitcolor": "white"
          },
          "hoverlabel": {
           "align": "left"
          },
          "hovermode": "closest",
          "mapbox": {
           "style": "light"
          },
          "paper_bgcolor": "white",
          "plot_bgcolor": "#E5ECF6",
          "polar": {
           "angularaxis": {
            "gridcolor": "white",
            "linecolor": "white",
            "ticks": ""
           },
           "bgcolor": "#E5ECF6",
           "radialaxis": {
            "gridcolor": "white",
            "linecolor": "white",
            "ticks": ""
           }
          },
          "scene": {
           "xaxis": {
            "backgroundcolor": "#E5ECF6",
            "gridcolor": "white",
            "gridwidth": 2,
            "linecolor": "white",
            "showbackground": true,
            "ticks": "",
            "zerolinecolor": "white"
           },
           "yaxis": {
            "backgroundcolor": "#E5ECF6",
            "gridcolor": "white",
            "gridwidth": 2,
            "linecolor": "white",
            "showbackground": true,
            "ticks": "",
            "zerolinecolor": "white"
           },
           "zaxis": {
            "backgroundcolor": "#E5ECF6",
            "gridcolor": "white",
            "gridwidth": 2,
            "linecolor": "white",
            "showbackground": true,
            "ticks": "",
            "zerolinecolor": "white"
           }
          },
          "shapedefaults": {
           "line": {
            "color": "#2a3f5f"
           }
          },
          "ternary": {
           "aaxis": {
            "gridcolor": "white",
            "linecolor": "white",
            "ticks": ""
           },
           "baxis": {
            "gridcolor": "white",
            "linecolor": "white",
            "ticks": ""
           },
           "bgcolor": "#E5ECF6",
           "caxis": {
            "gridcolor": "white",
            "linecolor": "white",
            "ticks": ""
           }
          },
          "title": {
           "x": 0.05
          },
          "xaxis": {
           "automargin": true,
           "gridcolor": "white",
           "linecolor": "white",
           "ticks": "",
           "title": {
            "standoff": 15
           },
           "zerolinecolor": "white",
           "zerolinewidth": 2
          },
          "yaxis": {
           "automargin": true,
           "gridcolor": "white",
           "linecolor": "white",
           "ticks": "",
           "title": {
            "standoff": 15
           },
           "zerolinecolor": "white",
           "zerolinewidth": 2
          }
         }
        },
        "title": {
         "text": "2D Cluster PCA Plot"
        },
        "xaxis": {
         "anchor": "y",
         "domain": [
          0,
          1
         ],
         "title": {
          "text": "PCA1"
         }
        },
        "yaxis": {
         "anchor": "x",
         "domain": [
          0,
          1
         ],
         "title": {
          "text": "PCA2"
         }
        }
       }
      },
      "text/html": [
       "<div>\n",
       "        \n",
       "        \n",
       "            <div id=\"cc64056a-cf12-4d3e-9b66-8b84805505af\" class=\"plotly-graph-div\" style=\"height:600px; width:100%;\"></div>\n",
       "            <script type=\"text/javascript\">\n",
       "                require([\"plotly\"], function(Plotly) {\n",
       "                    window.PLOTLYENV=window.PLOTLYENV || {};\n",
       "                    \n",
       "                if (document.getElementById(\"cc64056a-cf12-4d3e-9b66-8b84805505af\")) {\n",
       "                    Plotly.newPlot(\n",
       "                        'cc64056a-cf12-4d3e-9b66-8b84805505af',\n",
       "                        [{\"customdata\": [[58], [59], [62], [59], [87], [29], [54], [87], [83], [84], [85], [36], [30], [31], [61], [92], [55], [87], [82], [88], [30], [84], [53], [91], [89], [30], [17], [55], [90], [61], [59], [59], [88], [56], [33], [61], [84], [61], [39], [31], [60], [87], [20], [57], [61], [18], [83], [25], [31], [55], [84], [36], [27], [91], [53], [91], [25], [83], [87], [90], [83], [83], [83], [61], [64], [62], [91], [28], [23], [55], [58], [31], [83], [91], [30], [57], [33], [59], [58], [29], [59], [84], [64], [87], [88], [35], [34], [58], [56], [63], [58], [60], [24], [94], [58], [25], [36], [62], [66], [37], [27], [24], [31], [23], [34], [88], [89], [32], [38], [57], [90], [33], [66], [35], [31], [35], [63], [30], [22], [84], [28], [88], [84], [88], [35], [82], [64], [91], [62], [62], [34], [60], [32], [65], [24], [88], [82], [26], [60], [31], [85], [63], [56], [28], [58], [26], [62]], \"hoverlabel\": {\"namelength\": 0}, \"hovertemplate\": \"Cluster=Cluster 0<br>PCA1=%{x}<br>PCA2=%{y}<br>Feature=%{customdata[0]}\", \"legendgroup\": \"Cluster=Cluster 0\", \"marker\": {\"color\": \"#636efa\", \"opacity\": 0.5, \"symbol\": \"circle\"}, \"mode\": \"markers\", \"name\": \"Cluster=Cluster 0\", \"showlegend\": true, \"textposition\": \"top center\", \"type\": \"scatter\", \"x\": [-45316.58140609567, -49427.52413702614, -47129.84416342062, -47975.6298943037, -41047.376366850316, -57176.86780610606, -42194.79873495243, -47211.30921897942, -55300.43835611648, -39708.64698966349, -37510.58801132118, -43231.47790879879, -55368.98427568011, -48469.758225555786, -51191.18311026796, -46897.287204841865, -36822.88272990107, -42594.24300193298, -48754.55322293147, -49610.675010159706, -28705.212826769817, -47927.75615335328, -45592.662714596474, -50446.68725850559, -42805.1746936623, -40907.2514779881, -51240.794674902085, -42382.69883203622, -46294.6965258151, -49640.51633393591, -33685.82303783502, -41654.285370916725, -46752.1718911491, -53680.7205852779, -60035.35573518631, -47339.94733410826, -59885.18345080089, -41090.43271162367, -51335.69636219804, -43219.57063079797, -45489.120024218646, -47271.413276242136, -54957.490989172344, -44945.699014443, -40724.156885096636, -47490.053373637085, -58306.89374121132, -44680.89350931925, -51006.62596717179, -49952.56386424757, -50055.78756429358, -50029.04867348443, -48459.57885316467, -42253.87287795824, -43012.76978349141, -58127.50387027004, -45508.353885877674, -50504.823142737725, -48762.3646682712, -37730.76934060818, -28723.991919566022, -46206.76070917288, -44821.271955370954, -56178.67327005176, -49206.072979236225, -54413.15855352474, -45504.928216643864, -53514.36608306824, -43811.47262039389, -63634.72200273956, -39063.28667619092, -63656.34758998013, -53329.08890863793, -56491.726161601444, -53484.99044797621, -57750.757746123905, -42432.64509966227, -48329.375219863454, -47000.17170879292, -48496.84792497306, -53103.84791289731, -46522.91941975118, -39882.023331383025, -46108.56441807313, -45148.06214608791, -57495.827518222795, -48890.16204283166, -48254.0062299249, -56854.2449146841, -41272.89533986181, -55116.8360181684, -58771.330100436186, -51459.51350546344, -56820.08755360426, -42172.09142372815, -39916.5906115269, -48448.18982139342, -49274.44239615932, -46888.40589877377, -47148.04950665261, -51304.42079121021, -49855.36023906119, -49083.98904448348, -52219.788910263254, -53905.33080870669, -45889.16124528396, -39730.75492373199, -44207.36919669005, -42334.047671506356, -49618.56425158391, -42152.50281937875, -39255.47386551347, -52957.616291780985, -48338.70466261933, -56895.33602609466, -41183.65207165712, -47591.22511122001, -52877.38164603337, -38257.0125226787, -45243.335995709815, -38870.67264138035, -55003.11473536296, -51590.97205811303, -51858.95285225975, -48031.60033869835, -53120.54070874582, -52745.27199507384, -57888.98693798618, -44891.726940178174, -33223.7879275869, -46621.675189920876, -57945.29400939379, -52350.13688160769, -44316.39097613652, -42485.198930508384, -41229.08532646791, -55837.89621255908, -57516.27318363643, -42546.309287033844, -47366.649393097134, -40392.52353813576, -48086.471615067836, -52508.30353343574, -45053.50115134018, -48867.334224124745, -40276.44813108955, -47072.83270827881], \"xaxis\": \"x\", \"y\": [72.34189620852814, -3282.496783689519, -2166.9455265130246, -2697.4806496368724, 163.00860194240457, -500.38222602903886, -2831.244972649776, -497.028732146817, -2379.445392952536, -2812.6408322745274, -2385.9306735999726, -2464.366506729349, -990.6075970316567, -975.0110199269392, -2999.0481368530072, -1500.599753550348, -3004.1359250357305, -4573.135949676128, -3476.757532941406, -2494.3460158547705, -2125.516573296832, 1139.067724989405, -1858.7415428672753, -1789.8310613735075, -2383.923586492434, -2247.7230980697605, -337.58311029946105, -1026.2178281219428, -3445.140762666877, -2403.4526565005285, -2359.9810608524367, -1284.2763352326028, -4260.667936777422, -1523.1531827794781, -2067.7852022028615, -2756.2104567652163, 968.1821841701711, -2507.4680378488583, -2253.324954790315, -982.6374045457458, -857.236557419913, -1422.2632521531477, -1273.0340909671554, -2663.43630341436, -3403.3549980948783, -1025.6556377131599, -1498.3070625904033, -3320.2381091067423, 1229.6342021037967, -1016.3628176053383, -458.7329379734711, -2907.798180135492, -623.0248233972375, -2813.408865756102, -2388.397515567187, -3329.4241557503906, -1716.0957515179962, -2541.1040744024217, -1902.3037525718137, -3447.5228656993513, -1283.2493416842196, -3972.4372911141963, -809.2478504066149, -1450.731868886665, 646.5438723752009, -1055.9968931753715, -1656.425055816306, -3511.650542757561, -3844.0506429942843, -958.5365645110799, -2178.9512608782666, -672.1303645871029, -3704.1152030668836, -1529.949520138385, -2964.8711615389448, -1546.7860227984675, -2804.3175987818167, -2106.956548531858, -3258.5927312494296, -1255.0231217175217, -1838.664645556662, -2395.1506203279114, -3145.8388116696306, -4704.900718140077, -918.4435413744595, -874.5938320396276, -3117.043572435125, -3586.3929123393636, -1039.8869670204526, -2039.0519450914794, -3386.6313874278367, -1946.4256348815347, -1443.6312210611695, -2626.4947601230415, -3482.950924420315, -5860.406970913428, -424.494451602472, -1819.1411133435672, -1747.2845158743767, -948.1700320034164, -1341.6421504993389, -2551.640945867301, -2706.954245859542, -361.8228772290625, 776.721355182877, -3656.8600405231214, -3215.3117531036187, -1788.59501925514, -946.4427010468286, -1200.498708574703, -3595.4264994551536, -2456.0624695072056, -512.1681616652382, -296.9479102201377, -219.835673440323, -2299.177576458253, -2876.016821854162, -1034.0462861180706, -3209.705699855121, -2386.74467038797, -4966.632983631628, -1806.3716349634778, -1709.6809922654052, -1998.3145148841272, -2520.8796709258995, -2373.906852113617, -3270.250012030126, -2297.410428456017, -1059.5099705589175, -4327.599800404026, -1061.3928297006296, -1690.2235244245426, -1271.8366968001844, -1681.1078093986168, -1573.12933394647, -559.8887343311586, -2913.1513261933937, -2662.23791741306, -2323.9550250667435, -2226.523883594684, -1918.0706539765365, -3267.6645334787445, -2003.3795586148967, -3267.8530880659678, -3330.095089314262, -3159.403065288738, -3652.143022077506], \"yaxis\": \"y\"}, {\"customdata\": [[86], [56], [91], [59], [28], [85], [65], [94], [86], [30], [62], [85], [59], [30], [83], [66], [31], [88], [28], [85], [64], [33], [62], [89], [61], [29], [56], [92], [62], [60], [85], [88], [94], [62], [64], [29], [27], [31], [87], [32], [63], [58], [62], [32], [93], [59], [61], [53], [82], [28], [32], [89], [84], [87], [29], [58], [29], [55], [25], [60], [88], [24], [56], [95], [89], [86], [85], [60], [87], [29], [23], [31], [89], [58], [56], [37], [89], [29], [23], [34], [64], [63], [85], [62], [59], [92], [67], [58], [58], [38], [57], [31], [36], [25], [66], [64], [59], [90], [68], [35], [84], [24], [29], [28], [81], [57], [37], [91], [82], [36], [31], [61], [64], [83], [63], [55], [86], [57], [94], [37], [26], [57], [37], [88], [61], [91], [84], [43], [59], [90]], \"hoverlabel\": {\"namelength\": 0}, \"hovertemplate\": \"Cluster=Cluster 1<br>PCA1=%{x}<br>PCA2=%{y}<br>Feature=%{customdata[0]}\", \"legendgroup\": \"Cluster=Cluster 1\", \"marker\": {\"color\": \"#EF553B\", \"opacity\": 0.5, \"symbol\": \"circle\"}, \"mode\": \"markers\", \"name\": \"Cluster=Cluster 1\", \"showlegend\": true, \"textposition\": \"top center\", \"type\": \"scatter\", \"x\": [30806.776341952795, 24706.128352845168, 25328.069962281683, 25363.91922672043, 37194.9022790742, 26228.3762864362, 37939.71700891236, 31960.75451420728, 26983.046364278198, 20592.346613007776, 35036.71585548722, 18943.37281781305, 34834.90179465998, 35572.71538685356, 25732.344972190567, 32561.025360063308, 23470.847033328027, 31361.085267799153, 31045.220255678792, 27758.38757580821, 35758.2754355367, 39135.37622313007, 30949.636901997947, 32572.750272366204, 23967.006087975635, 35579.205815806316, 22393.417730180136, 31911.00123936634, 40673.85964432747, 26298.14841024673, 38869.64945267171, 32797.64366935495, 21900.785300032774, 38847.16976776081, 32210.979768642414, 22224.556143435304, 19295.267686809566, 25474.402763797294, 24613.751980326124, 21973.30795044384, 41298.63129283508, 30584.124615113262, 32416.939873895546, 23032.68012465128, 24491.388898644735, 37228.734745200694, 29861.54666962146, 33379.42058468911, 32912.892063315856, 22350.769816321575, 39513.273555432424, 25938.05049675625, 25376.693266073173, 14006.000965365401, 22105.034591078263, 30046.489080926065, 30148.682673916097, 15764.491431415832, 32307.936729140954, 24294.80847834634, 31253.468530449434, 32289.540207166658, 34830.86603735359, 31016.95277066788, 34815.254920538064, 31614.4425654191, 23196.213306438243, 36008.72535912233, 33345.15627123121, 23858.598240023435, 22258.60866856991, 23748.677815454063, 34360.48180735059, 32345.708428700596, 32149.921292682884, 27456.91326667312, 32322.90855312249, 38938.118138714344, 31317.298064553714, 30614.16577855358, 39941.23737509611, 20486.140695945465, 24819.36094949776, 31330.34398452479, 28912.895136199957, 28960.634964946785, 36813.76713420397, 33203.84256888804, 28627.259856400316, 26343.678673902472, 32691.86956168574, 26507.042872359925, 29210.5569464397, 36260.39985707388, 38543.62512292871, 28639.38500245049, 31502.360342968233, 26312.372968927535, 22236.16947437229, 33217.926610948096, 16918.67620110013, 26023.566351406167, 39399.401381811505, 34753.14848573081, 23022.21826312666, 40419.576695104166, 19785.994393274683, 30836.978307627447, 23392.942046850603, 25765.790042328368, 30950.1018396824, 15177.319714667681, 30155.334159636997, 30268.7054812633, 27412.69140542124, 19017.16946491752, 32853.062283695275, 35023.2162708003, 31202.412682476082, 26003.522431925623, 28681.549887585767, 35187.91053468466, 24827.978780545982, 40849.48059769064, 26071.981181359253, 29240.509748648117, 34060.87750047385, 26578.153196266197, 35711.07999432947, 23896.368807904095], \"xaxis\": \"x\", \"y\": [-5560.2046796, -6304.28687157794, -4507.81885275907, -6518.877743618625, -4030.486076235748, -4266.4841646878, -4683.440281859747, -7950.137679904536, -2897.4181107781205, -4611.587648361572, -6415.699536226247, -6099.926511675159, -5079.5409307317395, -4807.665202226773, -4846.280009746117, -5658.5291473353955, -4720.2489254083885, -4837.589604607752, -4354.880673536974, -3524.6018820414943, -4122.472097486011, -4339.707016425753, -4397.197322284789, -6711.005814772023, -5918.696393593375, -6195.25651540272, -5150.746928288212, -2672.911296966153, -5771.8277165885265, -5023.038755192273, -4117.836047019011, -5654.546848389318, -5234.914435436244, -8209.639308093867, -5806.362366658895, -5737.01421639917, -3266.6501002799137, -4541.161711915865, -3288.464289351834, -5227.972306159952, -6422.065006311348, -5198.65174378372, -3316.873784519851, -5461.179044520953, -3378.544090547869, -4575.537648425251, -4210.491742797322, -4139.053044046938, -4588.664684244309, -5405.19238007051, -4805.6825205209325, -4054.252841897083, -3922.3292073945418, -1775.6050399833541, -4346.187741550608, -2733.1094851712646, -3727.641222685245, -2149.152212076626, -3401.0815217687773, -3156.1748677381515, -4792.82017244466, -3634.341360640738, -5377.229021116213, -4865.0044073172785, -5108.281670571711, -3948.413153701506, -5613.714946473869, -6111.705171395257, -6080.299826048201, -4857.997302514552, -5195.925409188554, -4085.3878885407785, -5038.816440742175, -2201.7204362153543, -5508.945169399093, -4868.312164441826, -3681.290385681803, -4443.169815276384, -6141.763263553492, -4762.434912619336, -5237.495032300994, -4804.2037003568, -6443.116567478199, -5635.163544619184, -5224.5544356708415, -5439.902381792006, -4615.462129870628, -6552.893169384941, -3324.8164217780154, -3863.006874934307, -6066.457122934574, -5484.674656121095, -6286.356908964101, -3890.3447962612545, -7198.063753004429, -3130.9505393461027, -5081.205331963821, -4286.405360287332, -4400.042331000772, -4387.404636496324, -2877.1946078768783, -7172.334785619932, -5202.090344164464, -4008.5890127538996, -4439.122859420631, -6642.233640263943, -4699.391527469763, -4248.4109987799275, -5117.926369906291, -4647.515091833699, -6274.399407676457, 4253.670268811264, -6491.84591630206, -4917.675594824385, -5970.659605817778, -4587.056600403996, -5910.5957245401005, -4416.5772732561145, -4006.880782404122, -3786.133642471528, -4194.11245457707, -4164.858385743972, -5088.608312301609, -5591.430862352506, -4687.764619495446, -5240.70987990114, -5075.678351149003, -4542.181472406767, -4543.481105344734, -4653.572550884041], \"yaxis\": \"y\"}, {\"customdata\": [[88], [59], [59], [88], [37], [33], [90], [31], [90], [91], [29], [83], [84], [87], [22], [58], [31], [33], [56], [30], [85], [87], [34], [61], [30], [88], [56], [30], [25], [61], [88], [37], [35], [85], [85], [88], [59], [90], [33], [62], [59], [91], [33], [87], [26], [88], [24], [91], [86], [36], [87], [33], [59], [29], [59], [57], [40], [42], [89], [93], [17], [24], [34], [90], [20], [92], [84], [59], [61], [67], [82], [94], [28], [36], [91], [34], [77], [63], [35], [21], [86], [56], [83], [28], [59], [83], [83], [58], [91], [29], [61], [84], [34], [33], [55], [88], [91], [91], [84], [87], [39], [38], [89], [59], [35], [59], [87], [94], [86], [60], [79], [86], [60], [85], [92], [37], [89], [67], [31], [20], [37], [57], [87], [33], [56], [67], [58], [89], [34], [25], [44], [68], [31], [58], [55], [21], [36], [88], [26], [29], [38], [79], [51], [82], [39], [87], [36], [57], [61], [86], [86], [35], [89], [30], [60], [64]], \"hoverlabel\": {\"namelength\": 0}, \"hovertemplate\": \"Cluster=Cluster 2<br>PCA1=%{x}<br>PCA2=%{y}<br>Feature=%{customdata[0]}\", \"legendgroup\": \"Cluster=Cluster 2\", \"marker\": {\"color\": \"#00cc96\", \"opacity\": 0.5, \"symbol\": \"circle\"}, \"mode\": \"markers\", \"name\": \"Cluster=Cluster 2\", \"showlegend\": true, \"textposition\": \"top center\", \"type\": \"scatter\", \"x\": [-7981.74681068344, -10371.487057071728, -2220.635450610067, 3607.6218475354394, -805.5182840466994, -811.2733012583091, -3147.971690102408, -12402.614006035741, 5619.125538763617, 2868.675335891804, 7034.566991846874, -1709.0067116984374, -3127.7464754071916, 4615.604589783888, 4968.764645874567, -6214.354917756391, 5679.935032255554, -4794.7301859724685, -9823.292971418668, -5787.584457334294, 1547.9124395594208, -7431.169946592955, -11770.096221904698, -3197.770674931715, -1424.2968527852622, -5149.414552966321, -4588.845682887332, -9176.939917160458, 1855.0479869186745, 7017.407229806941, 5122.282562298916, -967.13452922949, -10419.650727093285, -4883.720561797813, 3333.0370081988917, -7827.504392605757, -6270.130057704645, -4114.665812502664, -7225.656651496559, -4661.643199436448, -6586.375015596347, -7793.211508914165, -6075.723945911876, 3574.867628285121, -1755.366356398994, -1864.5940590614541, -9270.983246113981, 2555.784235160207, -5898.744479681153, -5327.512619806893, -1710.0091006297844, -2630.794135208187, 1381.2925438038883, -10238.837928743049, -2329.616759752776, -3536.6248996188688, -11570.0136294723, -12594.175242128538, -3881.2792235448305, -9447.566957019668, -4595.725467462932, 5567.478117111796, 9121.208329826173, 4848.442764387971, 499.49661809613116, -4176.722631704317, -6529.597912750265, -7423.928769536241, -9153.992100917849, 4864.683651412987, -7249.028129796934, 7325.256189492684, 1198.2155272857126, -6945.49022085591, -5628.983771409211, -6874.447300583782, 3175.7301008876752, -10072.87511880355, -5806.077052611827, -6051.798027149648, 11039.026942031704, -4972.922141129973, 11129.424149229608, 6644.597612798219, -611.8920766835467, -879.6961231840245, 1270.5926186365052, -3354.4093954920504, -3652.0516272195237, 1535.3200349238518, 3442.0678654010458, 1691.1469990054982, -9514.742122293776, -5495.930030665693, -11393.264281389047, -1006.7942808927074, -11385.807297750887, 10499.407295945577, -5228.773548143103, -2009.7086141751747, -847.3002227743463, -13124.39160403841, -6112.701966838946, -14757.626854505615, -5414.451723823103, -4197.99599557251, -907.6690876091246, 4241.7758951530395, -2601.869628345953, 1797.8692846207512, -860.4354477953757, 13091.37415351668, -4333.353171495326, 106.44730782998958, -5414.8496213803, -1148.5927138363245, 834.6063416853447, -182.8750970629021, -12401.01261442264, 384.48865377877314, -15876.014194933885, 2392.9514000132185, -4856.160277619092, -9604.976101231405, -3578.641166763738, 3594.042421690822, -5713.3044750317285, -7793.454352086536, -18832.323089995112, 277.31945471803033, 2456.114942910876, 3385.822049131315, -1867.5011952055127, -4025.534586861504, -5506.504775277314, 1380.909585482253, -1254.7961050822898, 1223.333284206348, -10817.514881421746, 375.6120252474075, -18377.080919160897, -7740.904879089723, -9600.009525716901, -284.93461613175504, -15159.901916245683, -4335.121223668243, -3902.6507601274166, -9955.599000501976, 8122.0803804155385, 5073.487356522338, 871.0561448640389, 3735.22230012054, -8175.944783841661, -7927.27939399957, -3222.0284971176466, 2663.8141427242567], \"xaxis\": \"x\", \"y\": [3467.565974911416, 6211.274488459195, 4177.140129281848, 4852.444518767337, 4348.0956797841345, 4771.515153180691, 5506.996622913858, 4277.420432790428, 4314.803908984967, 5223.642330390356, 3374.287134293427, 3684.695295940358, 5318.281993622223, 5713.442041909502, 3943.117073633911, 8154.200533863802, 4711.285967238693, 5174.470545977293, 6862.2475720806015, 5711.628393266968, 3973.9069974865115, 6342.036901878025, 5001.420783196847, 5127.949261280452, 7267.328542397002, 5556.6661391338175, 4468.26810256384, 7146.6628582527765, 5468.743274286694, 5588.8006029982025, 3424.0736039052867, 4638.72424067415, 5982.858221439128, 4688.370746949256, 4012.2154933423144, 5701.69757502351, 5401.821696967167, 3078.896438494592, 4564.617621855315, 4875.41203439204, 4795.659622307596, 6334.243251982044, 3500.5964543132513, 6638.1894881430435, 4273.205301847634, 5267.352553209773, 5996.549152653392, 5164.6903873935735, 5205.840154213875, 5507.674538617931, 5692.091704359399, 5512.8098884720985, 5207.221097509007, 7423.315368546432, 6502.207882775589, 5070.413098436324, 6393.584927460232, 5058.593507665863, 3532.750801645635, 6026.370137728769, 4575.315245883311, 6399.679457928575, 4076.188863858497, 6716.389270082326, 4450.572465085797, 5121.948177991018, 5174.060016070747, 5595.425208078425, 6237.455006749796, 4834.953991865886, 5030.101509904844, 5245.750156657963, 6031.597780098117, 5240.2836976266035, 3413.460990034031, 3266.470183264377, 4727.079813055347, 7033.832306225466, 5686.132349951805, 6221.683453940017, 4384.687289531571, 5053.974394482305, 2451.3956456354927, 6074.108821940037, 2642.8564628733093, 4574.02985248023, 4918.861099714734, 4039.049708218607, 4298.1479342157945, 6617.143404468854, 3293.9257098257845, 4305.605513370138, 5484.062210130746, 5033.927181148621, 4760.726683836118, 6827.736752280867, 5239.834486252128, 4092.5868105824957, 4906.821369117007, 4571.311601888513, 5435.293808150462, 5122.298575466129, 7150.265686204207, 5008.012103778604, 6401.496850378554, 4646.423038232091, 4662.571801362159, 4854.373611538005, 5720.063910631846, 3616.9066222648607, 1366.2175061913895, 3878.0740056043546, 6791.121727987126, 5019.545071865858, 4509.378948047728, 6154.518606181512, 5141.101367432589, 4411.324353776284, 6731.622371228139, 6845.141814371277, 7337.462584330764, 5992.684094109705, 6861.841710581503, 5517.456998799788, 4687.331305792243, 5244.223767536204, 6098.407171499206, 5788.853893383745, 6823.253328040562, 5152.077722121311, 5539.978254276125, 4513.159427781255, 2685.6626854367946, 5644.552199614267, 6298.430178867731, 5567.11267381873, 6380.91549429279, 5666.367954752699, 6677.482101590935, 5049.606296947773, 5086.3743247131, 5133.6394716873865, 4923.28160335522, 4064.0083360808076, 5573.243592768723, 2658.2975188904124, 5499.339332721764, 4085.3122504461194, 4731.012058760929, 5244.4368093489165, 5689.000453091909, 4370.467828822715, 5599.274828311291, 5673.527728610801, 4129.181189416356, 3399.1203547303217], \"yaxis\": \"y\"}, {\"customdata\": [[37], [65], [90], [59], [29], [58], [88], [63], [92], [17], [34], [22], [24], [36], [34], [87], [85], [61], [27], [59], [31], [31], [93], [17], [35], [28], [94], [28], [33], [56], [28], [86], [92], [18], [61], [32], [63], [58], [31], [62], [60], [62], [90], [33], [33], [65], [59], [65], [86], [32], [84], [84], [90], [91], [26], [92], [97], [84], [58], [61], [92], [87], [66], [22], [91], [30], [25], [28], [93], [90], [91], [89]], \"hoverlabel\": {\"namelength\": 0}, \"hovertemplate\": \"Cluster=Cluster 3<br>PCA1=%{x}<br>PCA2=%{y}<br>Feature=%{customdata[0]}\", \"legendgroup\": \"Cluster=Cluster 3\", \"marker\": {\"color\": \"#ab63fa\", \"opacity\": 0.5, \"symbol\": \"circle\"}, \"mode\": \"markers\", \"name\": \"Cluster=Cluster 3\", \"showlegend\": true, \"textposition\": \"top center\", \"type\": \"scatter\", \"x\": [48551.897791192656, 42414.139844093945, 46271.74999066814, 48029.235982960934, 62912.457097805695, 43629.01273923756, 55587.351730733615, 56651.45548374749, 41328.252663310006, 43861.74709102553, 53899.2340599796, 44952.90203538896, 47549.76254622709, 47842.88367906653, 59798.174828499745, 47182.06858155582, 51395.22435599951, 57857.28905692231, 47415.38916240536, 58984.55027496729, 48410.00929047232, 55168.45154506191, 59803.04557919301, 53976.790002631315, 56449.67813828143, 46993.64108790839, 53422.55248570125, 41580.27174463824, 47836.448391826845, 48602.57111184022, 52465.03358665992, 52263.494108744475, 50433.85138453335, 51532.47005840453, 46000.802484699576, 63317.06653244293, 52086.380658927235, 50397.08389773138, 43600.21618030979, 54542.560260911305, 52679.137422450614, 54778.91990969147, 45728.40114434413, 59239.85352839813, 41859.1543699756, 48281.96476402191, 54230.311420476624, 49923.232402586335, 48577.2459445637, 45920.30384600761, 45302.57090416746, 55809.60825993982, 43084.431301068376, 48697.328544409975, 50874.59373315186, 44074.74432267951, 47210.61128412963, 52844.21454083213, 47518.88131856794, 53924.59703955878, 42157.805428701, 66750.62108457655, 45280.296457487646, 61617.256021857225, 61085.16181542692, 41933.87634909211, 55783.428858014915, 42045.795702571406, 55795.99791496397, 45049.7130377485, 59196.59308633912, 47964.552261386925], \"xaxis\": \"x\", \"y\": [4668.214697412171, -5432.281819509636, 4207.414796612182, 5422.323757682563, 5261.355213266391, -6254.840941209116, 3427.1351952588097, 4271.292185091135, -4823.645899335595, -6877.035883382059, 3176.7468854090907, -4985.514801220389, 3437.896482394781, 4758.188729714914, 4315.7517925590655, -4557.716601791868, 5657.241494980816, 5717.50113716764, 4709.388807631824, 3350.7116179336454, -5693.665441157439, 4016.981622201616, 8450.307562492606, 5488.389984582104, 5101.398697367521, -4647.129088588644, 3894.235479127748, -5615.560772408632, 6059.9833233745485, 6249.53736093008, 3371.533065013099, 5916.35805412983, -6854.206134077946, 6006.73383366253, 3884.452851319082, 4946.177510120509, 3388.4270346813746, 2890.550968564704, -5657.478831520006, 4193.882999372306, -4749.057025715357, 4629.791365281096, 3658.306501252222, 4745.144589124808, -4543.326267067189, 8499.966944599806, 3238.428770323685, 6048.724079227706, -6305.307759672722, -4953.921129423355, 3778.1814213096054, 3879.149733262657, -4660.855622444501, 5282.497809754305, -5178.052813440065, -6307.669140625974, 6674.234677495916, -5677.667475551904, 4941.999362973269, 5765.842845736464, -5954.454601851136, 2693.0081866217542, 4437.356566167738, 6726.313750520612, 4243.721728508766, 4717.997205237607, 4732.087714707706, -3106.1034758683513, 4252.897540706997, 4590.872583456104, 3903.9749268153705, -4397.186114919671], \"yaxis\": \"y\"}],\n",
       "                        {\"height\": 600, \"legend\": {\"tracegroupgap\": 0}, \"margin\": {\"t\": 60}, \"plot_bgcolor\": \"rgb(240,240,240)\", \"template\": {\"data\": {\"bar\": [{\"error_x\": {\"color\": \"#2a3f5f\"}, \"error_y\": {\"color\": \"#2a3f5f\"}, \"marker\": {\"line\": {\"color\": \"#E5ECF6\", \"width\": 0.5}}, \"type\": \"bar\"}], \"barpolar\": [{\"marker\": {\"line\": {\"color\": \"#E5ECF6\", \"width\": 0.5}}, \"type\": \"barpolar\"}], \"carpet\": [{\"aaxis\": {\"endlinecolor\": \"#2a3f5f\", \"gridcolor\": \"white\", \"linecolor\": \"white\", \"minorgridcolor\": \"white\", \"startlinecolor\": \"#2a3f5f\"}, \"baxis\": {\"endlinecolor\": \"#2a3f5f\", \"gridcolor\": \"white\", \"linecolor\": \"white\", \"minorgridcolor\": \"white\", \"startlinecolor\": \"#2a3f5f\"}, \"type\": \"carpet\"}], \"choropleth\": [{\"colorbar\": {\"outlinewidth\": 0, \"ticks\": \"\"}, \"type\": \"choropleth\"}], \"contour\": [{\"colorbar\": {\"outlinewidth\": 0, \"ticks\": \"\"}, \"colorscale\": [[0.0, \"#0d0887\"], [0.1111111111111111, \"#46039f\"], [0.2222222222222222, \"#7201a8\"], [0.3333333333333333, \"#9c179e\"], [0.4444444444444444, \"#bd3786\"], [0.5555555555555556, \"#d8576b\"], [0.6666666666666666, \"#ed7953\"], [0.7777777777777778, \"#fb9f3a\"], [0.8888888888888888, \"#fdca26\"], [1.0, \"#f0f921\"]], \"type\": \"contour\"}], \"contourcarpet\": [{\"colorbar\": {\"outlinewidth\": 0, \"ticks\": \"\"}, \"type\": \"contourcarpet\"}], \"heatmap\": [{\"colorbar\": {\"outlinewidth\": 0, \"ticks\": \"\"}, \"colorscale\": [[0.0, \"#0d0887\"], [0.1111111111111111, \"#46039f\"], [0.2222222222222222, \"#7201a8\"], [0.3333333333333333, \"#9c179e\"], [0.4444444444444444, \"#bd3786\"], [0.5555555555555556, \"#d8576b\"], [0.6666666666666666, \"#ed7953\"], [0.7777777777777778, \"#fb9f3a\"], [0.8888888888888888, \"#fdca26\"], [1.0, \"#f0f921\"]], \"type\": \"heatmap\"}], \"heatmapgl\": [{\"colorbar\": {\"outlinewidth\": 0, \"ticks\": \"\"}, \"colorscale\": [[0.0, \"#0d0887\"], [0.1111111111111111, \"#46039f\"], [0.2222222222222222, \"#7201a8\"], [0.3333333333333333, \"#9c179e\"], [0.4444444444444444, \"#bd3786\"], [0.5555555555555556, \"#d8576b\"], [0.6666666666666666, \"#ed7953\"], [0.7777777777777778, \"#fb9f3a\"], [0.8888888888888888, \"#fdca26\"], [1.0, \"#f0f921\"]], \"type\": \"heatmapgl\"}], \"histogram\": [{\"marker\": {\"colorbar\": {\"outlinewidth\": 0, \"ticks\": \"\"}}, \"type\": \"histogram\"}], \"histogram2d\": [{\"colorbar\": {\"outlinewidth\": 0, \"ticks\": \"\"}, \"colorscale\": [[0.0, \"#0d0887\"], [0.1111111111111111, \"#46039f\"], [0.2222222222222222, \"#7201a8\"], [0.3333333333333333, \"#9c179e\"], [0.4444444444444444, \"#bd3786\"], [0.5555555555555556, \"#d8576b\"], [0.6666666666666666, \"#ed7953\"], [0.7777777777777778, \"#fb9f3a\"], [0.8888888888888888, \"#fdca26\"], [1.0, \"#f0f921\"]], \"type\": \"histogram2d\"}], \"histogram2dcontour\": [{\"colorbar\": {\"outlinewidth\": 0, \"ticks\": \"\"}, \"colorscale\": [[0.0, \"#0d0887\"], [0.1111111111111111, \"#46039f\"], [0.2222222222222222, \"#7201a8\"], [0.3333333333333333, \"#9c179e\"], [0.4444444444444444, \"#bd3786\"], [0.5555555555555556, \"#d8576b\"], [0.6666666666666666, \"#ed7953\"], [0.7777777777777778, \"#fb9f3a\"], [0.8888888888888888, \"#fdca26\"], [1.0, \"#f0f921\"]], \"type\": \"histogram2dcontour\"}], \"mesh3d\": [{\"colorbar\": {\"outlinewidth\": 0, \"ticks\": \"\"}, \"type\": \"mesh3d\"}], \"parcoords\": [{\"line\": {\"colorbar\": {\"outlinewidth\": 0, \"ticks\": \"\"}}, \"type\": \"parcoords\"}], \"pie\": [{\"automargin\": true, \"type\": \"pie\"}], \"scatter\": [{\"marker\": {\"colorbar\": {\"outlinewidth\": 0, \"ticks\": \"\"}}, \"type\": \"scatter\"}], \"scatter3d\": [{\"line\": {\"colorbar\": {\"outlinewidth\": 0, \"ticks\": \"\"}}, \"marker\": {\"colorbar\": {\"outlinewidth\": 0, \"ticks\": \"\"}}, \"type\": \"scatter3d\"}], \"scattercarpet\": [{\"marker\": {\"colorbar\": {\"outlinewidth\": 0, \"ticks\": \"\"}}, \"type\": \"scattercarpet\"}], \"scattergeo\": [{\"marker\": {\"colorbar\": {\"outlinewidth\": 0, \"ticks\": \"\"}}, \"type\": \"scattergeo\"}], \"scattergl\": [{\"marker\": {\"colorbar\": {\"outlinewidth\": 0, \"ticks\": \"\"}}, \"type\": \"scattergl\"}], \"scattermapbox\": [{\"marker\": {\"colorbar\": {\"outlinewidth\": 0, \"ticks\": \"\"}}, \"type\": \"scattermapbox\"}], \"scatterpolar\": [{\"marker\": {\"colorbar\": {\"outlinewidth\": 0, \"ticks\": \"\"}}, \"type\": \"scatterpolar\"}], \"scatterpolargl\": [{\"marker\": {\"colorbar\": {\"outlinewidth\": 0, \"ticks\": \"\"}}, \"type\": \"scatterpolargl\"}], \"scatterternary\": [{\"marker\": {\"colorbar\": {\"outlinewidth\": 0, \"ticks\": \"\"}}, \"type\": \"scatterternary\"}], \"surface\": [{\"colorbar\": {\"outlinewidth\": 0, \"ticks\": \"\"}, \"colorscale\": [[0.0, \"#0d0887\"], [0.1111111111111111, \"#46039f\"], [0.2222222222222222, \"#7201a8\"], [0.3333333333333333, \"#9c179e\"], [0.4444444444444444, \"#bd3786\"], [0.5555555555555556, \"#d8576b\"], [0.6666666666666666, \"#ed7953\"], [0.7777777777777778, \"#fb9f3a\"], [0.8888888888888888, \"#fdca26\"], [1.0, \"#f0f921\"]], \"type\": \"surface\"}], \"table\": [{\"cells\": {\"fill\": {\"color\": \"#EBF0F8\"}, \"line\": {\"color\": \"white\"}}, \"header\": {\"fill\": {\"color\": \"#C8D4E3\"}, \"line\": {\"color\": \"white\"}}, \"type\": \"table\"}]}, \"layout\": {\"annotationdefaults\": {\"arrowcolor\": \"#2a3f5f\", \"arrowhead\": 0, \"arrowwidth\": 1}, \"coloraxis\": {\"colorbar\": {\"outlinewidth\": 0, \"ticks\": \"\"}}, \"colorscale\": {\"diverging\": [[0, \"#8e0152\"], [0.1, \"#c51b7d\"], [0.2, \"#de77ae\"], [0.3, \"#f1b6da\"], [0.4, \"#fde0ef\"], [0.5, \"#f7f7f7\"], [0.6, \"#e6f5d0\"], [0.7, \"#b8e186\"], [0.8, \"#7fbc41\"], [0.9, \"#4d9221\"], [1, \"#276419\"]], \"sequential\": [[0.0, \"#0d0887\"], [0.1111111111111111, \"#46039f\"], [0.2222222222222222, \"#7201a8\"], [0.3333333333333333, \"#9c179e\"], [0.4444444444444444, \"#bd3786\"], [0.5555555555555556, \"#d8576b\"], [0.6666666666666666, \"#ed7953\"], [0.7777777777777778, \"#fb9f3a\"], [0.8888888888888888, \"#fdca26\"], [1.0, \"#f0f921\"]], \"sequentialminus\": [[0.0, \"#0d0887\"], [0.1111111111111111, \"#46039f\"], [0.2222222222222222, \"#7201a8\"], [0.3333333333333333, \"#9c179e\"], [0.4444444444444444, \"#bd3786\"], [0.5555555555555556, \"#d8576b\"], [0.6666666666666666, \"#ed7953\"], [0.7777777777777778, \"#fb9f3a\"], [0.8888888888888888, \"#fdca26\"], [1.0, \"#f0f921\"]]}, \"colorway\": [\"#636efa\", \"#EF553B\", \"#00cc96\", \"#ab63fa\", \"#FFA15A\", \"#19d3f3\", \"#FF6692\", \"#B6E880\", \"#FF97FF\", \"#FECB52\"], \"font\": {\"color\": \"#2a3f5f\"}, \"geo\": {\"bgcolor\": \"white\", \"lakecolor\": \"white\", \"landcolor\": \"#E5ECF6\", \"showlakes\": true, \"showland\": true, \"subunitcolor\": \"white\"}, \"hoverlabel\": {\"align\": \"left\"}, \"hovermode\": \"closest\", \"mapbox\": {\"style\": \"light\"}, \"paper_bgcolor\": \"white\", \"plot_bgcolor\": \"#E5ECF6\", \"polar\": {\"angularaxis\": {\"gridcolor\": \"white\", \"linecolor\": \"white\", \"ticks\": \"\"}, \"bgcolor\": \"#E5ECF6\", \"radialaxis\": {\"gridcolor\": \"white\", \"linecolor\": \"white\", \"ticks\": \"\"}}, \"scene\": {\"xaxis\": {\"backgroundcolor\": \"#E5ECF6\", \"gridcolor\": \"white\", \"gridwidth\": 2, \"linecolor\": \"white\", \"showbackground\": true, \"ticks\": \"\", \"zerolinecolor\": \"white\"}, \"yaxis\": {\"backgroundcolor\": \"#E5ECF6\", \"gridcolor\": \"white\", \"gridwidth\": 2, \"linecolor\": \"white\", \"showbackground\": true, \"ticks\": \"\", \"zerolinecolor\": \"white\"}, \"zaxis\": {\"backgroundcolor\": \"#E5ECF6\", \"gridcolor\": \"white\", \"gridwidth\": 2, \"linecolor\": \"white\", \"showbackground\": true, \"ticks\": \"\", \"zerolinecolor\": \"white\"}}, \"shapedefaults\": {\"line\": {\"color\": \"#2a3f5f\"}}, \"ternary\": {\"aaxis\": {\"gridcolor\": \"white\", \"linecolor\": \"white\", \"ticks\": \"\"}, \"baxis\": {\"gridcolor\": \"white\", \"linecolor\": \"white\", \"ticks\": \"\"}, \"bgcolor\": \"#E5ECF6\", \"caxis\": {\"gridcolor\": \"white\", \"linecolor\": \"white\", \"ticks\": \"\"}}, \"title\": {\"x\": 0.05}, \"xaxis\": {\"automargin\": true, \"gridcolor\": \"white\", \"linecolor\": \"white\", \"ticks\": \"\", \"title\": {\"standoff\": 15}, \"zerolinecolor\": \"white\", \"zerolinewidth\": 2}, \"yaxis\": {\"automargin\": true, \"gridcolor\": \"white\", \"linecolor\": \"white\", \"ticks\": \"\", \"title\": {\"standoff\": 15}, \"zerolinecolor\": \"white\", \"zerolinewidth\": 2}}}, \"title\": {\"text\": \"2D Cluster PCA Plot\"}, \"xaxis\": {\"anchor\": \"y\", \"domain\": [0.0, 1.0], \"title\": {\"text\": \"PCA1\"}}, \"yaxis\": {\"anchor\": \"x\", \"domain\": [0.0, 1.0], \"title\": {\"text\": \"PCA2\"}}},\n",
       "                        {\"responsive\": true}\n",
       "                    ).then(function(){\n",
       "                            \n",
       "var gd = document.getElementById('cc64056a-cf12-4d3e-9b66-8b84805505af');\n",
       "var x = new MutationObserver(function (mutations, observer) {{\n",
       "        var display = window.getComputedStyle(gd).display;\n",
       "        if (!display || display === 'none') {{\n",
       "            console.log([gd, 'removed!']);\n",
       "            Plotly.purge(gd);\n",
       "            observer.disconnect();\n",
       "        }}\n",
       "}});\n",
       "\n",
       "// Listen for the removal of the full notebook cells\n",
       "var notebookContainer = gd.closest('#notebook-container');\n",
       "if (notebookContainer) {{\n",
       "    x.observe(notebookContainer, {childList: true});\n",
       "}}\n",
       "\n",
       "// Listen for the clearing of the current output cell\n",
       "var outputEl = gd.closest('.output');\n",
       "if (outputEl) {{\n",
       "    x.observe(outputEl, {childList: true});\n",
       "}}\n",
       "\n",
       "                        })\n",
       "                };\n",
       "                });\n",
       "            </script>\n",
       "        </div>"
      ]
     },
     "metadata": {},
     "output_type": "display_data"
    }
   ],
   "source": [
    "# Importing dataset\n",
    "from pycaret.datasets import get_data\n",
    "jewellery = get_data('jewellery')\n",
    "# Importing module and initializing setup\n",
    "from pycaret.clustering import *\n",
    "clu1 = setup(data = jewellery)\n",
    "# creating a model\n",
    "kmeans = create_model('kmeans')\n",
    "# plotting a model\n",
    "plot_model(kmeans)"
   ]
  },
  {
   "cell_type": "markdown",
   "metadata": {},
   "source": [
    "# anomaly Detection "
   ]
  },
  {
   "cell_type": "code",
   "execution_count": 8,
   "metadata": {},
   "outputs": [
    {
     "data": {
      "text/html": [
       "        <script type=\"text/javascript\">\n",
       "        window.PlotlyConfig = {MathJaxConfig: 'local'};\n",
       "        if (window.MathJax) {MathJax.Hub.Config({SVG: {font: \"STIX-Web\"}});}\n",
       "        if (typeof require !== 'undefined') {\n",
       "        require.undef(\"plotly\");\n",
       "        requirejs.config({\n",
       "            paths: {\n",
       "                'plotly': ['https://cdn.plot.ly/plotly-latest.min']\n",
       "            }\n",
       "        });\n",
       "        require(['plotly'], function(Plotly) {\n",
       "            window._Plotly = Plotly;\n",
       "        });\n",
       "        }\n",
       "        </script>\n",
       "        "
      ]
     },
     "metadata": {},
     "output_type": "display_data"
    },
    {
     "data": {
      "application/vnd.plotly.v1+json": {
       "config": {
        "plotlyServerURL": "https://plot.ly"
       },
       "data": [
        {
         "customdata": [
          [
           0.263995357
          ],
          [
           0.546092303
          ],
          [
           0.33671410399999996
          ],
          [
           0.092107835
          ],
          [
           0.325261175
          ],
          [
           0.212464853
          ],
          [
           0.258565714
          ],
          [
           0.869236755
          ],
          [
           0.197077957
          ],
          [
           0.292984504
          ],
          [
           0.82178316
          ],
          [
           0.796622959
          ],
          [
           0.045577010999999994
          ],
          [
           0.613660351
          ],
          [
           0.9507445659999999
          ],
          [
           0.33634633700000005
          ],
          [
           0.034440667
          ],
          [
           0.741544275
          ],
          [
           0.18443265
          ],
          [
           0.664514943
          ],
          [
           0.16282485800000002
          ],
          [
           0.729838445
          ],
          [
           0.62837389
          ],
          [
           0.057883660999999996
          ],
          [
           0.445534827
          ],
          [
           0.80183695
          ],
          [
           0.27709612
          ],
          [
           0.228634015
          ],
          [
           0.834860657
          ],
          [
           0.6697665110000001
          ],
          [
           0.532527349
          ],
          [
           0.17045907100000002
          ],
          [
           0.5102884679999999
          ],
          [
           0.977561989
          ],
          [
           0.249775993
          ],
          [
           0.9755006820000001
          ],
          [
           0.613701727
          ],
          [
           0.16742036300000002
          ],
          [
           0.537472516
          ],
          [
           0.379899131
          ],
          [
           0.633897303
          ],
          [
           0.633960424
          ],
          [
           0.5499746529999999
          ],
          [
           0.178172988
          ],
          [
           0.85563814
          ],
          [
           0.321796672
          ],
          [
           0.8174905370000001
          ],
          [
           0.254879417
          ],
          [
           0.344140513
          ],
          [
           0.8061457259999999
          ],
          [
           0.27708167100000003
          ],
          [
           0.544328519
          ],
          [
           0.07708393
          ],
          [
           0.273081458
          ],
          [
           0.390877336
          ],
          [
           0.349621385
          ],
          [
           0.214549744
          ],
          [
           0.206075222
          ],
          [
           0.86461997
          ],
          [
           0.9817088540000001
          ],
          [
           0.33482964600000004
          ],
          [
           0.648387061
          ],
          [
           0.093643561
          ],
          [
           0.837802698
          ],
          [
           0.7603439670000001
          ],
          [
           0.29140417399999996
          ],
          [
           0.3413454
          ],
          [
           0.7611124840000001
          ],
          [
           0.541899775
          ],
          [
           0.684176639
          ],
          [
           0.983535597
          ],
          [
           0.52081245
          ],
          [
           0.328227724
          ],
          [
           0.09715793800000001
          ],
          [
           0.876088593
          ],
          [
           0.870214512
          ],
          [
           0.656086992
          ],
          [
           0.306791514
          ],
          [
           0.48126734
          ],
          [
           0.259559174
          ],
          [
           0.326123655
          ],
          [
           0.930568042
          ],
          [
           0.6583894
          ],
          [
           0.689992335
          ],
          [
           0.315781109
          ],
          [
           0.5669050929999999
          ],
          [
           0.637526619
          ],
          [
           0.687540723
          ],
          [
           0.324300602
          ],
          [
           0.592704906
          ],
          [
           0.7402531259999999
          ],
          [
           0.5940328770000001
          ],
          [
           0.596452977
          ],
          [
           0.27768081699999997
          ],
          [
           0.258329663
          ],
          [
           0.142460864
          ],
          [
           0.435533461
          ],
          [
           0.7024990440000001
          ],
          [
           0.58897535
          ],
          [
           0.653304374
          ],
          [
           0.336968524
          ],
          [
           0.631244736
          ],
          [
           0.73530076
          ],
          [
           0.050390366
          ],
          [
           0.064264924
          ],
          [
           0.665359476
          ],
          [
           0.917835245
          ],
          [
           0.44651012
          ],
          [
           0.661938199
          ],
          [
           0.43935985299999997
          ],
          [
           0.6875724040000001
          ],
          [
           0.363462248
          ],
          [
           0.6542621820000001
          ],
          [
           0.578553536
          ],
          [
           0.065927945
          ],
          [
           0.550148559
          ],
          [
           0.13918281400000002
          ],
          [
           0.080004635
          ],
          [
           0.278228358
          ],
          [
           0.560124266
          ],
          [
           0.53639864
          ],
          [
           0.42653190399999996
          ],
          [
           0.789109796
          ],
          [
           0.742900474
          ],
          [
           0.901692589
          ],
          [
           0.650337401
          ],
          [
           0.114057311
          ],
          [
           0.260812592
          ],
          [
           0.43991232
          ],
          [
           0.964409284
          ],
          [
           0.184401415
          ],
          [
           0.345145446
          ],
          [
           0.17589458100000002
          ],
          [
           0.312514453
          ],
          [
           0.674131879
          ],
          [
           0.32825045
          ],
          [
           0.598231057
          ],
          [
           0.09259881699999999
          ],
          [
           0.497916521
          ],
          [
           0.419776521
          ],
          [
           0.31217670000000003
          ],
          [
           0.937857107
          ],
          [
           0.049030963
          ],
          [
           0.47610452600000003
          ],
          [
           0.447397526
          ],
          [
           0.295806058
          ],
          [
           0.737363977
          ],
          [
           0.625896253
          ],
          [
           0.408813429
          ],
          [
           0.437511156
          ],
          [
           0.691351375
          ],
          [
           0.935555275
          ],
          [
           0.437846654
          ],
          [
           0.072217715
          ],
          [
           0.67636067
          ],
          [
           0.468883999
          ],
          [
           0.543820644
          ],
          [
           0.6555226470000001
          ],
          [
           0.6935289240000001
          ],
          [
           0.10887831199999999
          ],
          [
           0.285463743
          ],
          [
           0
          ],
          [
           0.706495497
          ],
          [
           0.273530633
          ],
          [
           0.292320271
          ],
          [
           0.673984307
          ],
          [
           0.12612182800000002
          ],
          [
           0.9467074590000001
          ],
          [
           0.9363388979999999
          ],
          [
           0.8537553640000001
          ],
          [
           0.7060713609999999
          ],
          [
           0.693682186
          ],
          [
           0.508527882
          ],
          [
           0.34717038899999997
          ],
          [
           0.704154263
          ],
          [
           0.658730088
          ],
          [
           0.155841557
          ],
          [
           0.311085435
          ],
          [
           0.281135347
          ],
          [
           0.094587802
          ],
          [
           0.6832609540000001
          ],
          [
           0.9077292509999999
          ],
          [
           0.29151267399999997
          ],
          [
           0.752734459
          ],
          [
           0.93482964
          ],
          [
           0.071413953
          ],
          [
           0.5948963270000001
          ],
          [
           0.404672015
          ],
          [
           0.13837621
          ],
          [
           0.7473384679999999
          ],
          [
           0.530882486
          ],
          [
           0.282649594
          ],
          [
           0.699335734
          ],
          [
           0.056111250999999994
          ],
          [
           0.855234998
          ],
          [
           0.07789512700000001
          ],
          [
           0.891649583
          ],
          [
           0.38674227899999997
          ],
          [
           0.27113158
          ],
          [
           0.958888961
          ],
          [
           0.085120869
          ],
          [
           0.5269022489999999
          ],
          [
           0.066577785
          ],
          [
           0.841506738
          ],
          [
           0.255342095
          ],
          [
           0.060545771
          ],
          [
           0.073385869
          ],
          [
           0.187493723
          ],
          [
           0.858365688
          ],
          [
           0.090640352
          ],
          [
           0.7097252270000001
          ],
          [
           0.631300647
          ],
          [
           0.24750447399999997
          ],
          [
           0.822843584
          ],
          [
           0.373476759
          ],
          [
           0.625538582
          ],
          [
           0.292951715
          ],
          [
           0.299730324
          ],
          [
           0.25121407
          ],
          [
           0.344480551
          ],
          [
           0.293064767
          ],
          [
           0.7628032240000001
          ],
          [
           0.7384708040000001
          ],
          [
           0.674883265
          ],
          [
           0.719151612
          ],
          [
           0.13098021599999998
          ],
          [
           0.511328036
          ],
          [
           0.04492903
          ],
          [
           0.560914449
          ],
          [
           0.7440406409999999
          ],
          [
           0.266961634
          ],
          [
           0.644231853
          ],
          [
           0.038113352
          ],
          [
           0.05715529900000001
          ],
          [
           0.34139246100000004
          ],
          [
           0.7204636320000001
          ],
          [
           0.402878236
          ],
          [
           0.635148967
          ],
          [
           0.320729467
          ],
          [
           0.09120969400000001
          ],
          [
           0.23414609
          ],
          [
           0.8902211309999999
          ],
          [
           0.602170884
          ],
          [
           0.633652055
          ],
          [
           0.806240837
          ],
          [
           0.739731184
          ],
          [
           0.465231269
          ],
          [
           0.7321109
          ],
          [
           0.373874305
          ],
          [
           0.501587947
          ],
          [
           0.11538315800000001
          ],
          [
           0.7319466040000001
          ],
          [
           0.41829872799999995
          ],
          [
           0.062259590999999996
          ],
          [
           0.391496379
          ],
          [
           0.35984929
          ],
          [
           0.24523562699999998
          ],
          [
           0.610028339
          ],
          [
           0.43540360200000006
          ],
          [
           0.434309675
          ],
          [
           0.523763344
          ],
          [
           0.17118786600000002
          ],
          [
           0.18773430300000002
          ],
          [
           0.945014638
          ],
          [
           0.027851097000000002
          ],
          [
           0.68445706
          ],
          [
           0.178014532
          ],
          [
           0.643427879
          ],
          [
           0.59588355
          ],
          [
           0.372361682
          ],
          [
           0.586103584
          ],
          [
           0.271658852
          ],
          [
           0.59951107
          ],
          [
           0.468363088
          ],
          [
           0.314515565
          ],
          [
           0.21893726
          ],
          [
           0.254716562
          ],
          [
           0.25612815
          ],
          [
           0.602259755
          ],
          [
           0.134381075
          ],
          [
           0.513887424
          ],
          [
           0.624241636
          ],
          [
           0.160251854
          ],
          [
           0.580708108
          ],
          [
           0.270540486
          ],
          [
           0.832919932
          ],
          [
           0.93032134
          ],
          [
           0.719157884
          ],
          [
           0.886720033
          ],
          [
           0.098792281
          ],
          [
           0.787174286
          ],
          [
           0.365592376
          ],
          [
           0.719576193
          ],
          [
           0.8058956
          ],
          [
           0.7555783340000001
          ],
          [
           0.526005909
          ],
          [
           0.68880424
          ],
          [
           0.22111531199999998
          ],
          [
           0.739369477
          ],
          [
           0.408440236
          ],
          [
           0.348926542
          ],
          [
           0.433713763
          ],
          [
           0.5964966070000001
          ],
          [
           0.6942953000000001
          ],
          [
           0.7090309659999999
          ],
          [
           0.867652984
          ],
          [
           0.89332545
          ],
          [
           0.746020922
          ],
          [
           0.538284443
          ],
          [
           0.8922193140000001
          ],
          [
           0.935175765
          ],
          [
           0.260527707
          ],
          [
           0.956780449
          ],
          [
           0.204932484
          ],
          [
           0.687733351
          ],
          [
           0.329063619
          ],
          [
           0.632149831
          ],
          [
           0.463744506
          ],
          [
           0.698859621
          ],
          [
           0.385446564
          ],
          [
           0.47997537700000004
          ],
          [
           0.732279108
          ],
          [
           0.3813543
          ],
          [
           0.459326013
          ],
          [
           0.257401434
          ],
          [
           0.665014804
          ],
          [
           0.103399542
          ],
          [
           0.425284413
          ],
          [
           0.943529051
          ],
          [
           0.594750236
          ],
          [
           0.543776817
          ],
          [
           0.18203988
          ],
          [
           0.23584208399999998
          ],
          [
           0.585984497
          ],
          [
           0.762013168
          ],
          [
           0.6849829070000001
          ],
          [
           0.676936933
          ],
          [
           0.290184964
          ],
          [
           0.48106822200000005
          ],
          [
           0.492766033
          ],
          [
           0.22185623399999999
          ],
          [
           0.053875998
          ],
          [
           0.082751144
          ],
          [
           0.385366225
          ],
          [
           0.702513961
          ],
          [
           0.91553156
          ],
          [
           0.082087436
          ],
          [
           0.251280378
          ],
          [
           0.41672181700000005
          ],
          [
           0.277032672
          ],
          [
           0.579539754
          ],
          [
           0.569363476
          ],
          [
           0.133399703
          ],
          [
           0.265045463
          ],
          [
           0.936571901
          ],
          [
           0.252618554
          ],
          [
           0.054033081
          ],
          [
           0.802481439
          ],
          [
           0.528197693
          ],
          [
           0.9515026
          ],
          [
           0.572121173
          ],
          [
           0.752938227
          ],
          [
           0.143857535
          ],
          [
           0.513484576
          ],
          [
           0.313322389
          ],
          [
           0.6877973959999999
          ],
          [
           0.37705984
          ],
          [
           0.348226142
          ],
          [
           0.67763282
          ],
          [
           0.24138752100000002
          ],
          [
           0.8506501790000001
          ],
          [
           0.22034810300000002
          ],
          [
           0.476445464
          ],
          [
           0.690324025
          ],
          [
           0.364695946
          ],
          [
           0.6492491970000001
          ],
          [
           0.9437019209999999
          ],
          [
           0.529645971
          ],
          [
           0.299097002
          ],
          [
           0.96696247
          ],
          [
           0.272005242
          ],
          [
           0.314161447
          ],
          [
           0.752020991
          ],
          [
           0.221882453
          ],
          [
           0.7203326729999999
          ],
          [
           0.379204782
          ],
          [
           0.60168653
          ],
          [
           0.582932673
          ],
          [
           0.950809853
          ],
          [
           0.58830141
          ],
          [
           0.880887227
          ],
          [
           0.467857701
          ],
          [
           0.8799021709999999
          ],
          [
           0.619844009
          ],
          [
           0.359002573
          ],
          [
           0.291511278
          ],
          [
           0.694157143
          ],
          [
           0.727960353
          ],
          [
           0.617703921
          ],
          [
           0.39581257
          ],
          [
           0.58317282
          ],
          [
           0.710332374
          ],
          [
           0.253753693
          ],
          [
           0.049412227999999996
          ],
          [
           0.728378695
          ],
          [
           0.432432881
          ],
          [
           0.58612345
          ],
          [
           0.052342373
          ],
          [
           0.053483902
          ],
          [
           0.518729378
          ],
          [
           0.933040208
          ],
          [
           0.7035542840000001
          ],
          [
           0.268989899
          ],
          [
           0.733006927
          ],
          [
           0.44435246700000003
          ],
          [
           0.5833946210000001
          ],
          [
           0.871172692
          ],
          [
           0.42876707799999997
          ],
          [
           0.30046084100000003
          ],
          [
           0.9533294590000001
          ],
          [
           0.606443965
          ],
          [
           0.90986815
          ],
          [
           0.714896449
          ],
          [
           0.49734950899999997
          ],
          [
           0.8530974859999999
          ],
          [
           0.721804145
          ],
          [
           0.303467328
          ],
          [
           0.664485096
          ],
          [
           0.27978062
          ],
          [
           0.569481665
          ],
          [
           0.628628926
          ],
          [
           0.088368123
          ],
          [
           0.733567326
          ],
          [
           0.537436778
          ],
          [
           0.638593691
          ],
          [
           0.954726948
          ],
          [
           0.632202332
          ],
          [
           0.642134651
          ],
          [
           0.744653087
          ],
          [
           0.115714007
          ],
          [
           0.48625007299999995
          ],
          [
           0.440356144
          ],
          [
           0.08272289
          ],
          [
           0.511591027
          ],
          [
           0.394627555
          ],
          [
           0.224394
          ],
          [
           0.626927584
          ],
          [
           0.290254057
          ],
          [
           0.779008053
          ],
          [
           0.86610579
          ],
          [
           0.873326081
          ],
          [
           0.49548916
          ],
          [
           0.594297695
          ],
          [
           0.9182015840000001
          ],
          [
           0.5770427539999999
          ],
          [
           0.019467671000000002
          ],
          [
           0.6702982820000001
          ],
          [
           0.546595316
          ],
          [
           0.591665146
          ],
          [
           0.42155819
          ],
          [
           0.6856085590000001
          ],
          [
           0.340303024
          ],
          [
           0.675626741
          ],
          [
           0.319067345
          ],
          [
           0.38849966399999997
          ],
          [
           0.706949589
          ],
          [
           0.559409515
          ],
          [
           0.687663508
          ],
          [
           0.7088045540000001
          ],
          [
           0.6818880940000001
          ],
          [
           0.42253510899999996
          ],
          [
           0.320004605
          ],
          [
           0.6582813679999999
          ],
          [
           0.634154867
          ],
          [
           0.7773320090000001
          ],
          [
           0.812677205
          ],
          [
           0.074280797
          ],
          [
           0.39600217
          ],
          [
           0.054933913
          ],
          [
           0.825058925
          ],
          [
           0.382642009
          ],
          [
           0.8687298179999999
          ],
          [
           0.588043346
          ],
          [
           0.891551577
          ],
          [
           0.10920046
          ],
          [
           0.647682781
          ],
          [
           0.724342512
          ],
          [
           0.07016304400000001
          ],
          [
           0.280882054
          ],
          [
           0.039113261
          ],
          [
           0.579641592
          ],
          [
           0.639000922
          ],
          [
           0.281745925
          ],
          [
           0.647857744
          ],
          [
           0.6479057970000001
          ],
          [
           0.875226264
          ],
          [
           0.567603305
          ],
          [
           0.262940591
          ],
          [
           0.268026042
          ],
          [
           0.40519133
          ],
          [
           0.479965451
          ],
          [
           0.33552403
          ],
          [
           0.777165379
          ],
          [
           0.42548796299999997
          ],
          [
           0.237986115
          ],
          [
           0.142522971
          ],
          [
           0.724176488
          ],
          [
           0.234698933
          ],
          [
           0.07818228099999999
          ],
          [
           0.855990155
          ],
          [
           0.270251765
          ],
          [
           0.435517841
          ],
          [
           0.762697513
          ],
          [
           0.46448725799999996
          ],
          [
           0.396112685
          ],
          [
           0.37638092100000003
          ],
          [
           0.29459467699999997
          ],
          [
           0.6944921209999999
          ],
          [
           0.622767949
          ],
          [
           0.8475597220000001
          ],
          [
           0.301463054
          ],
          [
           0.912937812
          ],
          [
           0.500017182
          ],
          [
           0.902587935
          ],
          [
           0.304517943
          ],
          [
           0.299165673
          ],
          [
           0.092014087
          ],
          [
           0.488548917
          ],
          [
           0.664664437
          ],
          [
           0.26534954899999996
          ],
          [
           0.723657021
          ],
          [
           0.149262385
          ],
          [
           0.04577339
          ],
          [
           0.69661064
          ],
          [
           0.42181486
          ],
          [
           0.733845785
          ],
          [
           0.418795386
          ],
          [
           0.677443529
          ],
          [
           0.26128360300000003
          ],
          [
           0.268527767
          ],
          [
           0.5443222360000001
          ],
          [
           0.431632036
          ],
          [
           0.981018141
          ],
          [
           0.21498072399999998
          ],
          [
           0.39472999299999995
          ],
          [
           0.122224944
          ],
          [
           0.297496875
          ],
          [
           0.37490443100000004
          ],
          [
           0.68698771
          ],
          [
           0.388549207
          ],
          [
           0.039296071
          ],
          [
           0.73553424
          ],
          [
           0.37929489299999997
          ],
          [
           0.7321233859999999
          ],
          [
           0.33922143899999996
          ],
          [
           0.659450594
          ],
          [
           0.054838642
          ],
          [
           0.640112102
          ],
          [
           0.30714170399999996
          ],
          [
           0.39661190700000004
          ],
          [
           0.420439161
          ],
          [
           0.24171497399999997
          ],
          [
           0.065893153
          ],
          [
           0.9105219370000001
          ],
          [
           0.697163103
          ],
          [
           0.072559853
          ],
          [
           0.81825094
          ],
          [
           0.311888815
          ],
          [
           0.961644609
          ],
          [
           0.816325524
          ],
          [
           0.14647302
          ],
          [
           0.548753945
          ],
          [
           0.946158087
          ],
          [
           0.293992717
          ],
          [
           0.331479643
          ],
          [
           0.9062200309999999
          ],
          [
           0.525540416
          ],
          [
           0.83301411
          ],
          [
           0.514849806
          ],
          [
           0.574609024
          ],
          [
           0.46871185299999996
          ],
          [
           0.71002775
          ],
          [
           0.645973276
          ],
          [
           0.229794416
          ],
          [
           0.551783393
          ],
          [
           0.055822990999999995
          ],
          [
           0.331750941
          ],
          [
           0.715520198
          ],
          [
           0.583924357
          ],
          [
           0.30695769100000003
          ],
          [
           0.7914782370000001
          ],
          [
           0.16423663900000002
          ],
          [
           0.065711219
          ],
          [
           0.948993132
          ],
          [
           0.080423835
          ],
          [
           0.052495426
          ],
          [
           0.566346135
          ],
          [
           0.3630266
          ],
          [
           0.605442195
          ],
          [
           0.6308505839999999
          ],
          [
           0.065791238
          ],
          [
           0.28681707100000003
          ],
          [
           0.685462839
          ],
          [
           0.260853706
          ],
          [
           0.659122429
          ],
          [
           0.44317392200000005
          ],
          [
           0.602063986
          ],
          [
           0.060366910999999995
          ],
          [
           0.781903153
          ],
          [
           0.5145798070000001
          ],
          [
           0.48388621299999995
          ],
          [
           0.600213807
          ],
          [
           0.49736405200000006
          ],
          [
           0.411145245
          ],
          [
           0.116999171
          ],
          [
           0.34189014100000004
          ],
          [
           0.746950848
          ],
          [
           0.39629274600000003
          ],
          [
           0.6221438429999999
          ],
          [
           0.335271141
          ],
          [
           0.140257137
          ],
          [
           0.081620681
          ],
          [
           0.069837569
          ],
          [
           0.46894000799999996
          ],
          [
           0.9908574170000001
          ],
          [
           0.896616832
          ],
          [
           0.255310561
          ],
          [
           0.22464526699999998
          ],
          [
           0.01991825
          ],
          [
           0.296480415
          ],
          [
           0.155458996
          ],
          [
           0.577916714
          ],
          [
           0.9563030309999999
          ],
          [
           0.813464394
          ],
          [
           0.529675785
          ],
          [
           0.287671353
          ],
          [
           0.48039136
          ],
          [
           0.28104482199999997
          ],
          [
           0.633196521
          ],
          [
           0.09332537699999999
          ],
          [
           0.28447398100000004
          ],
          [
           0.052223775
          ],
          [
           0.051129385
          ],
          [
           0.967405608
          ],
          [
           0.040045727999999996
          ],
          [
           0.9085829209999999
          ],
          [
           0.6621174160000001
          ],
          [
           0.42470320899999997
          ],
          [
           0.72207806
          ],
          [
           0.666193327
          ],
          [
           0.509681253
          ],
          [
           0.7513536209999999
          ],
          [
           0.279073124
          ],
          [
           0.074927
          ],
          [
           0.916359535
          ],
          [
           0.31040327
          ],
          [
           0.716604052
          ],
          [
           0.485587085
          ],
          [
           0.30607518100000003
          ],
          [
           0.477558204
          ],
          [
           0.7119239409999999
          ],
          [
           0.066348638
          ],
          [
           0.27453935100000004
          ],
          [
           0.31082252
          ],
          [
           0.47607312700000004
          ],
          [
           0.186795565
          ],
          [
           0.26654207
          ],
          [
           0.070231142
          ],
          [
           0.26951927
          ],
          [
           0.800004713
          ],
          [
           0.27363366699999997
          ],
          [
           0.14647919199999998
          ],
          [
           0.378318951
          ],
          [
           0.373849065
          ],
          [
           0.242170835
          ],
          [
           0.249796488
          ],
          [
           0.066591188
          ],
          [
           0.372956798
          ],
          [
           0.501812291
          ],
          [
           0.313097752
          ],
          [
           0.8802021959999999
          ],
          [
           0.51981893
          ],
          [
           0.364138746
          ],
          [
           0.49268289600000004
          ],
          [
           0.285732652
          ],
          [
           0.890114985
          ],
          [
           0.316419561
          ],
          [
           0.26866354
          ],
          [
           0.771975959
          ],
          [
           0.968888992
          ],
          [
           0.080334377
          ],
          [
           0.7368282209999999
          ],
          [
           0.30055807100000004
          ],
          [
           0.9179503929999999
          ],
          [
           0.465815039
          ],
          [
           0.054036682
          ],
          [
           0.963150123
          ],
          [
           0.08965350300000001
          ],
          [
           0.7076932340000001
          ],
          [
           0.636416037
          ],
          [
           0.539521117
          ],
          [
           0.114757161
          ],
          [
           0.357312419
          ],
          [
           0.67639834
          ],
          [
           0.43482839
          ],
          [
           0.032326387000000005
          ],
          [
           0.711365605
          ],
          [
           0.187486519
          ],
          [
           0.052789653
          ],
          [
           0.5058636129999999
          ],
          [
           0.927431873
          ],
          [
           0.6809842559999999
          ],
          [
           0.882822186
          ],
          [
           0.495705441
          ],
          [
           0.596240398
          ],
          [
           0.320610701
          ],
          [
           0.3413685
          ],
          [
           0.159681797
          ],
          [
           0.318133669
          ],
          [
           0.8393010479999999
          ],
          [
           0.06435925099999999
          ],
          [
           0.470216633
          ],
          [
           0.7762522909999999
          ],
          [
           0.635843383
          ],
          [
           0.62510543
          ],
          [
           0.52959065
          ],
          [
           0.986900166
          ],
          [
           0.078585688
          ],
          [
           0.233284267
          ],
          [
           0.363330957
          ],
          [
           0.7167169809999999
          ],
          [
           0.37588979200000006
          ],
          [
           0.223316889
          ],
          [
           0.299343986
          ],
          [
           0.538595767
          ],
          [
           0.730297124
          ],
          [
           0.66033077
          ],
          [
           0.435296009
          ],
          [
           0.326494313
          ],
          [
           0.854402708
          ],
          [
           0.5734938470000001
          ],
          [
           0.757786135
          ],
          [
           0.704743233
          ],
          [
           0.281575597
          ],
          [
           0.671968208
          ],
          [
           0.313726015
          ],
          [
           0.364338275
          ],
          [
           0.368216396
          ],
          [
           0.38629520700000003
          ],
          [
           0.655971865
          ],
          [
           0.5660252729999999
          ],
          [
           0.424999093
          ],
          [
           0.090110371
          ],
          [
           0.772350538
          ],
          [
           0.331047258
          ],
          [
           0.273716188
          ],
          [
           0.23877568
          ],
          [
           0.37307977200000003
          ],
          [
           0.331185868
          ],
          [
           0.256134531
          ],
          [
           0.678373225
          ],
          [
           0.43463833799999996
          ],
          [
           0.654668307
          ],
          [
           0.986681065
          ],
          [
           0.371520495
          ],
          [
           0.408359618
          ],
          [
           0.40932365
          ],
          [
           0.283412082
          ],
          [
           0.395246531
          ],
          [
           0.010984428000000001
          ],
          [
           0.306013869
          ],
          [
           0.266194806
          ],
          [
           0.299318521
          ],
          [
           0.318293946
          ],
          [
           0.74282591
          ],
          [
           0.09766432900000001
          ],
          [
           0.079666942
          ],
          [
           0.613258767
          ],
          [
           0.99443072
          ],
          [
           0.568835082
          ],
          [
           0.7080345159999999
          ],
          [
           0.37059271899999996
          ],
          [
           0.669867361
          ],
          [
           0.651295625
          ],
          [
           0.462531569
          ],
          [
           0.7196256190000001
          ],
          [
           0.45377248
          ],
          [
           0.394863946
          ],
          [
           0.323974831
          ],
          [
           0.146454724
          ],
          [
           0.7790670409999999
          ],
          [
           0.401828915
          ],
          [
           0.601479585
          ],
          [
           0.856423023
          ],
          [
           0.565242962
          ],
          [
           0.301225108
          ],
          [
           0.282108144
          ],
          [
           0.594378011
          ],
          [
           0.705312368
          ],
          [
           0.5408696279999999
          ],
          [
           0.319249574
          ],
          [
           0.36176613799999996
          ],
          [
           0.625000704
          ],
          [
           0.316287401
          ],
          [
           0.047239021
          ],
          [
           0.801182233
          ],
          [
           0.508474436
          ],
          [
           0.8178934109999999
          ],
          [
           0.399235601
          ],
          [
           0.9740519990000001
          ],
          [
           0.72241535
          ],
          [
           0.039564764
          ],
          [
           0.908684108
          ],
          [
           0.47301013399999997
          ],
          [
           0.7180496279999999
          ],
          [
           0.7634790690000001
          ],
          [
           0.6475965370000001
          ],
          [
           0.8949973859999999
          ],
          [
           0.22282590100000002
          ],
          [
           0.359012234
          ],
          [
           0.944910252
          ],
          [
           0.297877816
          ],
          [
           0.172517997
          ],
          [
           0.556586265
          ],
          [
           0.876481735
          ],
          [
           0.48667784299999994
          ],
          [
           0.459496733
          ],
          [
           0.47412637700000004
          ],
          [
           0.70101144
          ],
          [
           0.337597387
          ],
          [
           0.537578886
          ],
          [
           0.966992448
          ],
          [
           0.056849545
          ],
          [
           0.233249065
          ],
          [
           0.380054711
          ],
          [
           0.602929443
          ],
          [
           0.303847999
          ],
          [
           0.170194553
          ],
          [
           0.972168554
          ],
          [
           0.332168927
          ],
          [
           0.6887286890000001
          ],
          [
           0.110773401
          ],
          [
           0.273352065
          ],
          [
           0.572939678
          ],
          [
           0.491457065
          ],
          [
           0.281389999
          ],
          [
           0.821697261
          ],
          [
           0.6749776829999999
          ],
          [
           0.585134549
          ],
          [
           0.7105961159999999
          ],
          [
           0.040488789
          ],
          [
           0.568054311
          ],
          [
           0.321752928
          ],
          [
           0.611850232
          ],
          [
           0.926096887
          ],
          [
           0.618347428
          ],
          [
           0.667629785
          ],
          [
           0.39773346600000004
          ],
          [
           0.290875487
          ],
          [
           0.594375103
          ],
          [
           0.508255233
          ],
          [
           0.338571357
          ],
          [
           0.43230234700000003
          ],
          [
           0.302221978
          ],
          [
           0.87619819
          ],
          [
           0.080204492
          ],
          [
           0.092333532
          ],
          [
           0.09365644699999999
          ],
          [
           0.6084523510000001
          ],
          [
           0.732654598
          ],
          [
           0.944158855
          ],
          [
           0.26742308
          ],
          [
           0.731124201
          ],
          [
           0.661308553
          ],
          [
           0.38776626200000003
          ],
          [
           0.962585273
          ],
          [
           0.322067067
          ],
          [
           0.6340810929999999
          ],
          [
           0.475345002
          ],
          [
           0.35355897299999994
          ],
          [
           0.8859363159999999
          ],
          [
           0.876798106
          ],
          [
           0.221581064
          ],
          [
           0.394362449
          ],
          [
           0.8050356759999999
          ],
          [
           0.452898486
          ],
          [
           0.592520516
          ],
          [
           0.761026394
          ],
          [
           0.245049023
          ],
          [
           0.37213936299999995
          ],
          [
           0.681054822
          ],
          [
           0.7471431479999999
          ],
          [
           0.9207395290000001
          ],
          [
           0.097207945
          ],
          [
           0.699302998
          ],
          [
           0.721647006
          ],
          [
           0.5353561139999999
          ],
          [
           0.738293805
          ],
          [
           0.7064675509999999
          ],
          [
           0.67395061
          ],
          [
           0.7112122909999999
          ],
          [
           0.302558708
          ],
          [
           0.080097855
          ],
          [
           0.707010837
          ],
          [
           0.512248622
          ],
          [
           0.659627472
          ],
          [
           0.657559694
          ],
          [
           0.100645606
          ],
          [
           0.92665363
          ],
          [
           0.892879338
          ],
          [
           0.839157508
          ],
          [
           0.890959718
          ],
          [
           0.556754471
          ],
          [
           0.960361937
          ],
          [
           0.631037864
          ],
          [
           0.029838065
          ],
          [
           0.278843351
          ],
          [
           0.926157705
          ],
          [
           0.551504258
          ],
          [
           0.485942349
          ],
          [
           0.43723469600000003
          ],
          [
           0.25231801800000003
          ],
          [
           0.515466972
          ],
          [
           0.43725229600000004
          ],
          [
           0.493724207
          ],
          [
           0.83324725
          ],
          [
           0.317521477
          ],
          [
           0.28623456199999997
          ],
          [
           0.726833965
          ],
          [
           0.495667033
          ],
          [
           0.028645255
          ],
          [
           0.31967191699999997
          ],
          [
           0.674344598
          ],
          [
           0.7660371890000001
          ],
          [
           0.65456992
          ],
          [
           0.7565143809999999
          ],
          [
           0.528253719
          ],
          [
           0.38971949100000003
          ],
          [
           0.355087459
          ],
          [
           0.87015202
          ],
          [
           0.7390833059999999
          ],
          [
           0.305761846
          ],
          [
           0.411587673
          ],
          [
           0.063633094
          ],
          [
           0.735409395
          ],
          [
           0.605916669
          ],
          [
           0.539395562
          ],
          [
           0.566183532
          ],
          [
           0.674795186
          ],
          [
           0.070993366
          ],
          [
           0.12526410000000002
          ],
          [
           0.279601492
          ],
          [
           0.952174402
          ],
          [
           0.233806762
          ],
          [
           0.43724742899999997
          ],
          [
           0.925423095
          ],
          [
           0.433498634
          ],
          [
           0.52517902
          ],
          [
           0.088435529
          ],
          [
           0.447677638
          ],
          [
           0.647000631
          ],
          [
           0.9036033370000001
          ],
          [
           0.265790738
          ],
          [
           0.66419695
          ],
          [
           0.498120658
          ],
          [
           0.49018894399999996
          ],
          [
           0.747084187
          ],
          [
           0.906783648
          ],
          [
           0.678770917
          ],
          [
           0.348599859
          ],
          [
           0.294839683
          ],
          [
           0.705691827
          ],
          [
           0.211917931
          ],
          [
           0.063201124
          ],
          [
           0.276699543
          ],
          [
           0.672459395
          ],
          [
           0.8082059490000001
          ],
          [
           0.296538373
          ],
          [
           0.16012686199999998
          ],
          [
           0.439385032
          ],
          [
           0.555951416
          ],
          [
           0.386240112
          ],
          [
           0.158689619
          ],
          [
           0.214499855
          ],
          [
           0.299579429
          ],
          [
           0.569161656
          ],
          [
           0.488614799
          ],
          [
           0.8782950209999999
          ],
          [
           0.649380949
          ],
          [
           0.465713341
          ],
          [
           0.16813774
          ],
          [
           0.87529545
          ],
          [
           0.8411323409999999
          ],
          [
           0.33292081
          ],
          [
           0.5130478589999999
          ],
          [
           0.30505507800000004
          ],
          [
           0.8126269909999999
          ],
          [
           0.25096706
          ],
          [
           0.5024355779999999
          ],
          [
           0.45799074100000003
          ]
         ],
         "hoverlabel": {
          "namelength": 0
         },
         "hovertemplate": "0=%{x}<br>1=%{y}<br>2=%{z}<br>Feature=%{customdata[0]}<br>Label=%{marker.color}",
         "legendgroup": "",
         "marker": {
          "color": [
           0,
           0,
           1,
           1,
           0,
           0,
           0,
           1,
           1,
           0,
           0,
           1,
           0,
           0,
           1,
           1,
           0,
           1,
           1,
           0,
           1,
           0,
           0,
           1,
           1,
           1,
           0,
           0,
           1,
           1,
           0,
           0,
           1,
           1,
           1,
           0,
           0,
           0,
           0,
           0,
           0,
           0,
           0,
           1,
           0,
           0,
           0,
           0,
           0,
           0,
           0,
           1,
           0,
           1,
           0,
           1,
           0,
           0,
           0,
           1,
           0,
           0,
           1,
           1,
           0,
           0,
           1,
           0,
           0,
           1,
           0,
           0,
           0,
           0,
           0,
           0,
           0,
           0,
           0,
           0,
           0,
           0,
           0,
           0,
           0,
           0,
           0,
           0,
           0,
           0,
           0,
           0,
           0,
           0,
           0,
           0,
           0,
           0,
           0,
           0,
           0,
           0,
           0,
           0,
           0,
           0,
           0,
           0,
           0,
           0,
           0,
           0,
           0,
           0,
           0,
           0,
           0,
           0,
           0,
           0,
           0,
           0,
           0,
           0,
           0,
           0,
           0,
           0,
           0,
           0,
           1,
           0,
           0,
           0,
           0,
           0,
           0,
           0,
           0,
           0,
           0,
           0,
           0,
           0,
           0,
           0,
           0,
           0,
           0,
           0,
           0,
           0,
           0,
           0,
           0,
           0,
           0,
           0,
           0,
           0,
           0,
           0,
           0,
           0,
           0,
           0,
           0,
           0,
           0,
           0,
           0,
           0,
           0,
           0,
           0,
           0,
           0,
           0,
           0,
           0,
           0,
           0,
           0,
           0,
           0,
           0,
           0,
           0,
           0,
           0,
           0,
           0,
           0,
           0,
           0,
           0,
           0,
           0,
           0,
           0,
           0,
           0,
           0,
           0,
           0,
           0,
           0,
           0,
           0,
           0,
           0,
           0,
           0,
           0,
           0,
           0,
           0,
           0,
           0,
           0,
           0,
           0,
           0,
           0,
           0,
           0,
           0,
           0,
           0,
           0,
           0,
           0,
           0,
           0,
           0,
           0,
           0,
           0,
           0,
           0,
           0,
           0,
           0,
           0,
           0,
           0,
           0,
           0,
           0,
           0,
           0,
           0,
           0,
           0,
           0,
           0,
           0,
           0,
           0,
           0,
           0,
           0,
           0,
           0,
           0,
           0,
           0,
           0,
           0,
           0,
           0,
           0,
           0,
           0,
           0,
           0,
           0,
           0,
           0,
           0,
           0,
           0,
           0,
           0,
           0,
           0,
           0,
           0,
           0,
           0,
           0,
           0,
           0,
           0,
           0,
           0,
           0,
           0,
           0,
           0,
           0,
           0,
           0,
           0,
           0,
           0,
           0,
           0,
           0,
           0,
           0,
           0,
           0,
           0,
           0,
           0,
           0,
           0,
           0,
           0,
           0,
           0,
           0,
           0,
           0,
           0,
           0,
           0,
           0,
           0,
           0,
           0,
           0,
           0,
           0,
           0,
           0,
           0,
           0,
           0,
           0,
           0,
           0,
           0,
           0,
           0,
           0,
           0,
           0,
           0,
           0,
           0,
           0,
           0,
           0,
           0,
           0,
           0,
           0,
           0,
           0,
           0,
           0,
           0,
           0,
           0,
           0,
           0,
           0,
           0,
           0,
           0,
           0,
           0,
           0,
           0,
           0,
           0,
           0,
           0,
           0,
           0,
           0,
           0,
           0,
           0,
           0,
           0,
           0,
           0,
           0,
           0,
           0,
           0,
           0,
           0,
           0,
           0,
           0,
           0,
           0,
           0,
           0,
           0,
           0,
           0,
           0,
           0,
           1,
           0,
           0,
           0,
           1,
           0,
           0,
           0,
           0,
           0,
           0,
           0,
           0,
           0,
           0,
           0,
           0,
           0,
           0,
           0,
           0,
           0,
           0,
           0,
           0,
           0,
           0,
           0,
           0,
           0,
           0,
           0,
           0,
           0,
           0,
           0,
           0,
           0,
           0,
           0,
           0,
           0,
           0,
           0,
           0,
           0,
           0,
           0,
           0,
           0,
           0,
           0,
           0,
           0,
           0,
           0,
           0,
           0,
           0,
           0,
           0,
           0,
           0,
           0,
           0,
           0,
           0,
           0,
           0,
           0,
           0,
           0,
           0,
           0,
           0,
           0,
           0,
           0,
           0,
           0,
           0,
           0,
           0,
           0,
           0,
           0,
           0,
           0,
           0,
           0,
           0,
           0,
           0,
           0,
           0,
           0,
           0,
           0,
           0,
           0,
           0,
           0,
           0,
           0,
           0,
           0,
           0,
           1,
           0,
           0,
           0,
           0,
           0,
           0,
           0,
           1,
           0,
           0,
           0,
           0,
           0,
           0,
           0,
           0,
           0,
           0,
           0,
           0,
           0,
           0,
           0,
           0,
           0,
           0,
           0,
           0,
           0,
           0,
           0,
           0,
           0,
           0,
           0,
           0,
           0,
           0,
           0,
           0,
           0,
           0,
           0,
           0,
           0,
           0,
           0,
           0,
           0,
           0,
           0,
           0,
           0,
           0,
           0,
           0,
           0,
           0,
           0,
           0,
           0,
           0,
           0,
           0,
           0,
           0,
           0,
           0,
           0,
           0,
           0,
           0,
           0,
           0,
           0,
           0,
           0,
           0,
           0,
           0,
           0,
           0,
           0,
           0,
           0,
           0,
           1,
           0,
           0,
           0,
           0,
           0,
           0,
           0,
           0,
           0,
           0,
           0,
           0,
           0,
           0,
           0,
           0,
           0,
           0,
           0,
           0,
           0,
           0,
           0,
           0,
           0,
           0,
           0,
           0,
           0,
           0,
           0,
           0,
           0,
           0,
           0,
           0,
           0,
           0,
           0,
           0,
           0,
           0,
           0,
           0,
           0,
           0,
           0,
           0,
           0,
           0,
           0,
           0,
           0,
           0,
           0,
           0,
           0,
           0,
           0,
           0,
           0,
           0,
           0,
           0,
           0,
           0,
           0,
           0,
           0,
           0,
           0,
           0,
           0,
           0,
           0,
           0,
           0,
           0,
           0,
           0,
           0,
           0,
           0,
           0,
           0,
           0,
           0,
           0,
           0,
           0,
           0,
           0,
           0,
           0,
           0,
           0,
           0,
           1,
           0,
           0,
           1,
           0,
           0,
           0,
           0,
           1,
           0,
           1,
           0,
           0,
           1,
           0,
           0,
           0,
           1,
           1,
           0,
           1,
           0,
           1,
           1,
           1,
           0,
           0,
           0,
           1,
           0,
           0,
           0,
           0,
           0,
           0,
           0,
           0,
           0,
           0,
           0,
           0,
           0,
           0,
           1,
           0,
           0,
           0,
           0,
           0,
           0,
           0,
           0,
           0,
           0,
           0,
           0,
           0,
           0,
           0,
           0,
           0,
           0,
           0,
           0,
           0,
           0,
           0,
           0,
           0,
           0,
           0,
           0,
           0,
           0,
           0,
           0,
           0,
           0,
           0,
           0,
           0,
           0,
           0,
           0,
           0,
           0,
           0,
           0,
           0,
           0,
           0,
           0,
           0,
           0,
           0,
           0,
           0,
           0,
           0,
           1,
           0,
           0,
           0,
           0,
           0,
           0,
           0,
           0,
           0,
           0,
           0,
           0,
           0,
           0,
           0,
           0,
           0,
           0,
           0,
           0,
           0,
           0,
           0,
           0,
           0,
           0,
           0,
           0,
           0,
           0,
           0,
           0,
           0,
           0,
           0,
           0,
           0,
           0,
           0,
           0,
           0,
           0,
           0,
           0,
           0,
           0,
           0,
           0,
           0,
           0,
           0,
           0,
           0,
           0,
           0,
           0,
           0,
           0,
           0,
           0,
           0,
           0,
           0,
           0,
           0,
           0,
           0,
           0,
           0,
           0,
           0,
           0,
           0,
           0,
           0,
           0,
           0,
           0,
           0,
           0,
           0,
           0,
           0,
           0,
           0,
           0,
           0,
           0,
           0,
           0,
           0,
           0,
           0,
           0,
           0,
           0,
           0,
           0,
           0,
           0,
           0,
           0,
           0,
           0,
           0,
           0,
           0,
           0,
           0,
           0,
           0,
           0,
           0,
           0,
           0,
           0,
           0,
           0,
           0,
           0,
           0,
           1,
           0,
           0,
           0,
           0,
           0,
           0,
           0,
           0,
           0,
           0,
           0,
           0,
           0,
           0,
           0,
           0,
           0,
           0,
           0,
           1,
           0,
           1,
           0,
           0,
           0,
           0,
           0,
           0,
           0,
           0,
           0,
           0,
           0,
           0,
           0,
           0,
           0,
           0,
           0,
           0,
           0,
           0,
           0,
           0,
           0,
           0,
           0,
           0,
           0,
           0,
           0,
           0,
           0,
           0,
           0,
           0,
           0,
           0,
           0,
           0,
           0,
           0,
           0,
           0,
           0,
           0,
           0,
           0,
           0,
           0,
           0,
           0,
           0,
           0,
           0,
           0,
           0,
           0
          ],
          "coloraxis": "coloraxis",
          "opacity": 0.7,
          "symbol": "circle"
         },
         "mode": "markers",
         "name": "",
         "scene": "scene",
         "showlegend": false,
         "type": "scatter3d",
         "x": [
          8.891522407531738,
          -9.413517951965332,
          10.7066650390625,
          -3.5574111938476562,
          8.165409088134766,
          -5.528743743896484,
          -6.797065734863281,
          -9.746139526367188,
          0.034604042768478394,
          6.789713382720947,
          -11.771869659423828,
          4.403430938720703,
          -3.7491977214813232,
          3.9956607818603516,
          4.424559116363525,
          -2.724088430404663,
          -3.812335968017578,
          -4.550145626068115,
          11.4691162109375,
          3.512739658355713,
          -5.455722332000732,
          8.486395835876465,
          4.2847466468811035,
          -0.06902290135622025,
          1.7578420639038086,
          5.32070255279541,
          4.342073917388916,
          0.8777939677238464,
          4.353518486022949,
          -1.7266608476638794,
          1.633355736732483,
          -8.210803031921387,
          4.600059986114502,
          2.701385259628296,
          -0.9086894392967224,
          6.614795207977295,
          -1.0787824392318726,
          1.1558074951171875,
          9.923073768615723,
          -6.682553768157959,
          -4.40574312210083,
          0.15011771023273468,
          0.045736346393823624,
          -1.1252037286758423,
          1.7682522535324097,
          -3.162775754928589,
          1.6768617630004883,
          -0.040239159017801285,
          4.35040807723999,
          -4.556253910064697,
          -8.774672508239746,
          11.876715660095215,
          -0.17750214040279388,
          -3.1549465656280518,
          -4.835025310516357,
          -7.846506595611572,
          -7.800886631011963,
          -4.058279991149902,
          2.173680543899536,
          7.8748698234558105,
          -4.597971439361572,
          -1.5598593950271606,
          -1.2371798753738403,
          -0.5046648383140564,
          -1.228988528251648,
          1.6880371570587158,
          -4.795008182525635,
          -4.061904430389404,
          4.450642108917236,
          -6.94541072845459,
          1.9717639684677124,
          -6.049971103668213,
          11.672811508178711,
          -6.341320991516113,
          13.506890296936035,
          7.6157145500183105,
          4.137307167053223,
          -1.6781558990478516,
          11.334030151367188,
          7.446592807769775,
          7.4174323081970215,
          7.747038841247559,
          5.591497898101807,
          -1.334774136543274,
          -5.974031925201416,
          -7.125102996826172,
          -2.6798408031463623,
          -6.825222015380859,
          -2.100125312805176,
          9.434020042419434,
          10.411027908325195,
          -9.898815155029297,
          1.5225069522857666,
          -6.047630310058594,
          -7.127147197723389,
          -0.251222163438797,
          0.8475627303123474,
          -5.5230712890625,
          -1.5862782001495361,
          4.493483066558838,
          11.486710548400879,
          -4.895541191101074,
          -5.235725402832031,
          -0.5466629266738892,
          -2.593406915664673,
          3.620572566986084,
          1.3014023303985596,
          -7.294949531555176,
          12.999176979064941,
          -1.3555411100387573,
          10.356304168701172,
          11.443115234375,
          -11.217789649963379,
          6.963716983795166,
          9.10257339477539,
          8.740092277526855,
          -10.33949089050293,
          -5.996490478515625,
          -4.814255714416504,
          -2.189706563949585,
          8.5848970413208,
          -0.23568695783615112,
          -8.04982852935791,
          -2.2677948474884033,
          0.41540268063545227,
          -7.331656455993652,
          -5.9274067878723145,
          -4.830208778381348,
          -5.865878105163574,
          -6.978538513183594,
          -2.4509806632995605,
          0.8491100668907166,
          -7.725308895111084,
          -6.99691915512085,
          -6.161566734313965,
          7.159551620483398,
          6.012379169464111,
          -5.130396842956543,
          -6.326745510101318,
          -3.645517349243164,
          -7.1092352867126465,
          7.8277997970581055,
          -0.42450347542762756,
          6.708785533905029,
          -2.8054111003875732,
          5.862552165985107,
          -9.358262062072754,
          -4.504490852355957,
          -7.5480546951293945,
          1.3144725561141968,
          10.503957748413086,
          9.251203536987305,
          -5.570138931274414,
          -0.17828427255153656,
          9.551644325256348,
          -0.20452024042606354,
          -2.9894769191741943,
          -3.64917254447937,
          12.409943580627441,
          -5.811083793640137,
          -9.88057804107666,
          -3.583540678024292,
          10.491952896118164,
          9.832698822021484,
          -4.977457523345947,
          -5.202890872955322,
          -6.409614086151123,
          1.4335025548934937,
          6.199714660644531,
          0.8878208994865417,
          1.417330265045166,
          -5.681056022644043,
          -4.3866143226623535,
          8.267520904541016,
          -0.5375578999519348,
          -5.983702182769775,
          -4.20966911315918,
          8.335810661315918,
          -8.017949104309082,
          -4.784242153167725,
          -2.6083552837371826,
          -1.1926695108413696,
          -9.637371063232422,
          0.04787377640604973,
          0.6682468056678772,
          -9.151704788208008,
          -0.30363595485687256,
          -2.7844038009643555,
          6.620296001434326,
          8.885722160339355,
          -4.597716331481934,
          7.338940143585205,
          -10.289238929748535,
          9.351402282714844,
          -10.494023323059082,
          -9.003024101257324,
          -3.261181116104126,
          -8.245135307312012,
          12.591948509216309,
          0.0710148736834526,
          -0.2936800420284271,
          -3.297330617904663,
          -6.576308250427246,
          5.801881313323975,
          9.742899894714355,
          -8.242260932922363,
          6.539192199707031,
          -0.8481076955795288,
          -2.0126185417175293,
          -5.491826057434082,
          -1.2427080869674683,
          -0.691926896572113,
          -0.0849415734410286,
          9.081804275512695,
          -0.17704811692237854,
          -2.245967149734497,
          -5.673483848571777,
          -2.6660382747650146,
          -0.9581670761108398,
          -2.160783290863037,
          10.426191329956055,
          -5.2845377922058105,
          5.425778865814209,
          12.406376838684082,
          -9.033169746398926,
          6.483777046203613,
          -1.014719009399414,
          5.790322303771973,
          -6.449951171875,
          -0.3725954294204712,
          -8.03397274017334,
          1.352358102798462,
          -5.670674800872803,
          -5.086852550506592,
          -3.1965887546539307,
          -4.931968688964844,
          -3.5545716285705566,
          8.110244750976562,
          -4.885541915893555,
          8.670774459838867,
          -1.1074107885360718,
          -4.549032688140869,
          6.777688503265381,
          -6.776071071624756,
          -8.183049201965332,
          -8.131837844848633,
          7.13250732421875,
          11.511834144592285,
          -1.1493382453918457,
          4.875342845916748,
          -0.4495600461959839,
          -2.254993200302124,
          -5.739116668701172,
          -3.47298002243042,
          4.0663628578186035,
          1.1292015314102173,
          8.579007148742676,
          -6.4366841316223145,
          -0.6506772637367249,
          -3.16678524017334,
          6.838335037231445,
          -2.5234837532043457,
          8.014447212219238,
          -2.026301860809326,
          0.7335442304611206,
          -6.740628719329834,
          -5.722411155700684,
          -10.148395538330078,
          13.010990142822266,
          -7.487006664276123,
          -5.785152912139893,
          -9.05839729309082,
          9.000375747680664,
          6.857072353363037,
          -4.814886093139648,
          -3.776296854019165,
          -0.23469866812229156,
          7.401432514190674,
          -6.029183864593506,
          6.599088191986084,
          -1.2727781534194946,
          6.537223815917969,
          6.3933844566345215,
          6.656033515930176,
          8.762191772460938,
          -7.504849910736084,
          -2.3202435970306396,
          -5.381876468658447,
          -8.026352882385254,
          12.561405181884766,
          9.715679168701172,
          -5.640983581542969,
          1.5845853090286255,
          -6.884343147277832,
          -1.2390598058700562,
          -8.677350044250488,
          -8.350777626037598,
          9.14647388458252,
          0.712169349193573,
          8.501727104187012,
          -7.580288410186768,
          -6.488800525665283,
          0.24801850318908691,
          -7.890777111053467,
          -6.258810043334961,
          12.105958938598633,
          -5.019866943359375,
          10.791223526000977,
          -4.0686750411987305,
          0.36672934889793396,
          0.27678564190864563,
          -4.874050140380859,
          -0.6134113073348999,
          7.994931221008301,
          -3.92030668258667,
          9.809667587280273,
          0.6806588172912598,
          -7.14290189743042,
          12.424575805664062,
          -7.372076511383057,
          -7.372768878936768,
          9.160665512084961,
          -5.867407321929932,
          -5.052433013916016,
          8.07085132598877,
          8.068546295166016,
          -4.184047698974609,
          -6.816207408905029,
          3.815941095352173,
          -7.214472770690918,
          -10.33609676361084,
          -1.4949884414672852,
          -3.5314390659332275,
          2.194323778152466,
          -6.551088333129883,
          3.977379083633423,
          -6.519680500030518,
          6.933249473571777,
          -0.6244921088218689,
          -0.10104449838399887,
          7.944471836090088,
          7.094050407409668,
          -4.838067531585693,
          -0.7993348240852356,
          -8.861648559570312,
          4.360132694244385,
          -7.067747116088867,
          -6.184692859649658,
          -5.12204647064209,
          -2.07957124710083,
          -1.3811770677566528,
          8.50265121459961,
          -3.396639823913574,
          -8.699049949645996,
          -2.271460771560669,
          7.463606357574463,
          -0.391679048538208,
          -3.7223894596099854,
          0.4614463448524475,
          7.480968952178955,
          -8.329644203186035,
          -5.13657283782959,
          0.5709672570228577,
          -3.500814914703369,
          -5.931055068969727,
          10.330938339233398,
          -1.437711238861084,
          -8.297359466552734,
          -6.539418697357178,
          -7.7208404541015625,
          -0.9011650085449219,
          -1.1590737104415894,
          5.39781379699707,
          4.048512935638428,
          -5.755164623260498,
          -1.245874285697937,
          11.753877639770508,
          -6.595147609710693,
          -7.77342414855957,
          7.405104160308838,
          -6.857080459594727,
          -0.3079923093318939,
          12.8490629196167,
          12.148336410522461,
          -7.744028568267822,
          0.8508018255233765,
          2.042367458343506,
          1.405335545539856,
          -0.6472753882408142,
          11.33742904663086,
          -2.9706151485443115,
          1.3987505435943604,
          10.333808898925781,
          8.518534660339355,
          -3.2233715057373047,
          -8.82186508178711,
          3.830843925476074,
          -7.798377513885498,
          9.073720932006836,
          6.484192848205566,
          -1.8894944190979004,
          -3.2862300872802734,
          -4.897327423095703,
          -8.9180269241333,
          -7.486111164093018,
          -9.754409790039062,
          7.9392828941345215,
          0.9185317158699036,
          -6.4799089431762695,
          -9.151321411132812,
          -7.54506778717041,
          7.814958572387695,
          -1.8903188705444336,
          11.255736351013184,
          -5.778972148895264,
          0.6820743083953857,
          -5.941320896148682,
          -7.099489688873291,
          -6.748373508453369,
          4.161215782165527,
          11.422752380371094,
          -0.263161838054657,
          -5.319598197937012,
          -7.663589954376221,
          5.9112548828125,
          -6.95975923538208,
          -7.493011951446533,
          -6.8186187744140625,
          10.890116691589355,
          3.8638956546783447,
          8.83320140838623,
          -8.56000804901123,
          -1.6427165269851685,
          -6.540161609649658,
          1.906224012374878,
          -1.9977377653121948,
          -3.9719631671905518,
          5.048979759216309,
          12.564896583557129,
          9.94599723815918,
          4.4214582443237305,
          10.872113227844238,
          9.58966064453125,
          4.565967082977295,
          -2.2778425216674805,
          -4.654685020446777,
          0.7933306694030762,
          -2.415403366088867,
          4.579235553741455,
          -1.7367907762527466,
          -2.8734278678894043,
          6.193013668060303,
          -1.778905987739563,
          11.89261245727539,
          -10.686358451843262,
          -6.284093856811523,
          0.3260320723056793,
          6.179965496063232,
          11.65031623840332,
          10.908380508422852,
          -8.289827346801758,
          8.553695678710938,
          0.4146338999271393,
          8.761750221252441,
          -0.34626179933547974,
          10.610779762268066,
          13.121554374694824,
          0.9069034457206726,
          -5.434834003448486,
          6.271861553192139,
          8.111461639404297,
          -1.4514726400375366,
          -2.4088687896728516,
          7.80156946182251,
          -1.053752064704895,
          -9.91169548034668,
          -8.70584487915039,
          -4.9248528480529785,
          6.319552898406982,
          -6.9800214767456055,
          -3.5960776805877686,
          -2.285123348236084,
          -5.871182441711426,
          4.49354362487793,
          -9.79199504852295,
          5.035773754119873,
          -4.935148239135742,
          11.68165111541748,
          7.576120376586914,
          8.726984024047852,
          10.466469764709473,
          -9.342788696289062,
          -2.736647367477417,
          0.9486225843429565,
          6.7298173904418945,
          -9.217754364013672,
          -9.13392162322998,
          -7.296733856201172,
          -1.7979655265808105,
          10.31273365020752,
          -6.357174873352051,
          0.7419403195381165,
          7.98459529876709,
          -1.6611918210983276,
          10.748363494873047,
          8.196863174438477,
          12.952588081359863,
          -5.924799919128418,
          12.335860252380371,
          -0.6200335025787354,
          8.066399574279785,
          -4.2719526290893555,
          -4.875362873077393,
          -0.610040009021759,
          10.053380012512207,
          -1.596512794494629,
          -0.38882189989089966,
          12.467002868652344,
          -1.122711181640625,
          -5.6515655517578125,
          12.722864151000977,
          4.217159748077393,
          -1.2645485401153564,
          3.451273202896118,
          -0.8417483568191528,
          -11.219720840454102,
          12.041627883911133,
          -6.552077293395996,
          -0.30216479301452637,
          10.417464256286621,
          -5.182928562164307,
          -1.550191044807434,
          -6.257034778594971,
          -0.48930010199546814,
          -8.895380020141602,
          -0.1546625792980194,
          -10.185009956359863,
          5.9079270362854,
          3.762941598892212,
          -7.6821393966674805,
          -3.5109243392944336,
          -7.2392354011535645,
          -7.592030048370361,
          -7.52097749710083,
          -6.475413799285889,
          -7.023019790649414,
          4.776741027832031,
          -6.93339204788208,
          -8.678315162658691,
          5.871771812438965,
          0.11478152871131897,
          7.015415191650391,
          5.397256374359131,
          12.428985595703125,
          -3.2250757217407227,
          -4.231937408447266,
          -6.260119915008545,
          14.109213829040527,
          -5.479532241821289,
          1.23704993724823,
          5.234502792358398,
          -1.1491278409957886,
          -3.689934492111206,
          -10.402667999267578,
          -2.3531956672668457,
          7.434296607971191,
          -3.7160396575927734,
          0.4490503966808319,
          -10.290555953979492,
          -10.467277526855469,
          9.904298782348633,
          -9.73617935180664,
          -8.751246452331543,
          -1.9875216484069824,
          -9.21972942352295,
          0.579984188079834,
          -7.209425449371338,
          -7.4028191566467285,
          7.159725666046143,
          9.23427677154541,
          11.335637092590332,
          10.278532028198242,
          4.619925022125244,
          -7.344010829925537,
          -4.004234790802002,
          6.333021640777588,
          10.135749816894531,
          -0.35733622312545776,
          -9.570358276367188,
          -1.5398832559585571,
          -3.9036171436309814,
          -2.491452217102051,
          1.2878148555755615,
          -8.232559204101562,
          -1.5338621139526367,
          0.08540148288011551,
          -7.365029811859131,
          -0.18131621181964874,
          -5.782674789428711,
          4.661547660827637,
          -5.499570369720459,
          -0.04740117862820625,
          -0.2490876466035843,
          -7.785583019256592,
          -7.671065330505371,
          -6.438658237457275,
          -7.51039981842041,
          -0.4688569903373718,
          -2.6608834266662598,
          -6.235774993896484,
          -1.1494117975234985,
          8.954368591308594,
          12.236770629882812,
          8.927971839904785,
          8.245471000671387,
          -3.5298681259155273,
          0.00016284536104649305,
          -1.7235090732574463,
          0.5770095586776733,
          10.115470886230469,
          0.7083203792572021,
          -1.0949136018753052,
          0.13967184722423553,
          -0.577351450920105,
          4.018309116363525,
          -8.639656066894531,
          -9.533787727355957,
          9.234294891357422,
          -0.47177383303642273,
          8.75240707397461,
          -2.2303292751312256,
          -8.030202865600586,
          13.51822280883789,
          4.9059672355651855,
          9.5686616897583,
          4.034914493560791,
          8.296733856201172,
          0.12383070588111877,
          -10.729825973510742,
          -2.028944969177246,
          9.768891334533691,
          -5.6717119216918945,
          -8.897522926330566,
          7.497732162475586,
          -0.24554091691970825,
          11.31826114654541,
          7.313202381134033,
          6.430853843688965,
          3.0758516788482666,
          9.513541221618652,
          -0.9659071564674377,
          -3.7281181812286377,
          -0.9491655230522156,
          -6.418292999267578,
          -5.936792373657227,
          -5.921764850616455,
          4.994556903839111,
          7.297720432281494,
          1.636304259300232,
          -1.5690041780471802,
          0.8231781125068665,
          -0.29964905977249146,
          -0.14723050594329834,
          8.785609245300293,
          -7.252321720123291,
          -3.941964626312256,
          -4.419851303100586,
          -7.343252658843994,
          -8.273953437805176,
          -5.035236835479736,
          -3.4405581951141357,
          6.837447643280029,
          -0.5768544673919678,
          -1.275028944015503,
          -5.539100646972656,
          -0.5745747685432434,
          -6.9060564041137695,
          -9.861828804016113,
          -7.096622943878174,
          -6.863040924072266,
          5.873513698577881,
          -0.7904928922653198,
          8.143404960632324,
          -4.4847798347473145,
          -5.243014812469482,
          -5.438905715942383,
          4.9110798835754395,
          -5.39805269241333,
          -10.609040260314941,
          1.4399107694625854,
          -3.5773603916168213,
          -0.20731088519096375,
          -1.2370390892028809,
          -3.3761391639709473,
          -10.749410629272461,
          -5.670677661895752,
          7.507017135620117,
          6.453305721282959,
          11.348798751831055,
          0.030618473887443542,
          -0.48559412360191345,
          1.772847294807434,
          4.01324462890625,
          4.392656326293945,
          5.734903812408447,
          -7.743495941162109,
          -9.557080268859863,
          -0.6282649636268616,
          2.2330117225646973,
          -1.2042627334594727,
          2.495255708694458,
          -2.92399525642395,
          1.2390981912612915,
          5.144840717315674,
          4.191032886505127,
          -7.183314323425293,
          -5.596587181091309,
          -3.830824851989746,
          4.336292743682861,
          0.7579971551895142,
          11.434000015258789,
          -11.869060516357422,
          -4.814547061920166,
          11.898214340209961,
          -0.39398181438446045,
          4.5800395011901855,
          -1.287970781326294,
          -5.274871349334717,
          -4.713345527648926,
          -6.159851551055908,
          -1.6368107795715332,
          4.6557817459106445,
          -0.9732622504234314,
          -2.1209938526153564,
          -0.08191879093647003,
          -10.918087005615234,
          9.05311393737793,
          9.611700057983398,
          9.934306144714355,
          -0.040326982736587524,
          1.3321342468261719,
          6.379651069641113,
          7.027663707733154,
          -1.9827983379364014,
          9.074970245361328,
          9.24370002746582,
          7.848208427429199,
          -10.043889999389648,
          6.79040002822876,
          0.7754093408584595,
          -8.60629940032959,
          5.444468021392822,
          -7.378602027893066,
          -10.456618309020996,
          -2.0678160190582275,
          8.764387130737305,
          7.308271408081055,
          -2.8110930919647217,
          -0.6565473675727844,
          -6.138040542602539,
          -0.09362442046403885,
          -0.5438151359558105,
          0.9673277735710144,
          -7.331967830657959,
          9.646842956542969,
          -8.58067798614502,
          -9.804237365722656,
          6.707996845245361,
          -7.1591901779174805,
          7.67664098739624,
          7.317142009735107,
          5.795510768890381,
          0.7909125685691833,
          -7.947516918182373,
          8.020157814025879,
          -3.260035514831543,
          -0.40462034940719604,
          -0.03863704204559326,
          13.575309753417969,
          9.323843955993652,
          8.482447624206543,
          -9.134651184082031,
          -6.048182487487793,
          10.061017036437988,
          11.124051094055176,
          0.4488420784473419,
          -2.6766250133514404,
          -6.190645217895508,
          8.683056831359863,
          5.585904598236084,
          -7.161962985992432,
          7.595602989196777,
          -0.446957528591156,
          12.872923851013184,
          -10.595369338989258,
          -9.510014533996582,
          -1.1050100326538086,
          5.149606227874756,
          9.89105224609375,
          -4.2409234046936035,
          -2.3439574241638184,
          0.7620989084243774,
          -0.5913059711456299,
          -8.924260139465332,
          8.87849235534668,
          -5.47571325302124,
          -1.8900561332702637,
          -4.580277919769287,
          -7.777350425720215,
          -0.6800751686096191,
          5.005561351776123,
          -3.0005719661712646,
          12.940974235534668,
          11.286333084106445,
          -6.652703285217285,
          4.334620952606201,
          -4.964972972869873,
          -8.322943687438965,
          -4.220511436462402,
          -6.741014003753662,
          -10.541783332824707,
          7.592647075653076,
          9.623454093933105,
          -5.622554302215576,
          -4.054008483886719,
          -2.11002254486084,
          -7.941137313842773,
          8.43410873413086,
          10.392568588256836,
          -0.7962812781333923,
          -4.126870632171631,
          7.592928409576416,
          -0.5044727325439453,
          -2.4788506031036377,
          6.421707630157471,
          -6.8481550216674805,
          5.34147310256958,
          7.4580230712890625,
          -10.435765266418457,
          -2.1201343536376953,
          9.23077392578125,
          -0.47575533390045166,
          -6.273959159851074,
          -5.824936866760254,
          -7.731964111328125,
          -7.6107258796691895,
          -8.047425270080566,
          9.567138671875,
          9.972552299499512,
          0.5779260396957397,
          -6.179355621337891,
          12.281392097473145,
          -1.1792781352996826,
          8.914628028869629,
          -0.5534328818321228,
          -6.285703182220459,
          -2.4166500568389893,
          -7.916819095611572,
          7.827511787414551,
          -0.6410594582557678,
          10.330384254455566,
          7.334773063659668,
          1.5123084783554077,
          7.434065818786621,
          -5.0685038566589355,
          -5.347970962524414,
          -6.622021198272705,
          5.9966511726379395,
          -7.661314010620117,
          8.376903533935547,
          -10.830305099487305,
          -0.25206074118614197,
          -2.765012502670288,
          9.79027271270752,
          -8.24638557434082,
          0.42591848969459534,
          -2.9360153675079346,
          -2.6776533126831055,
          5.968045234680176,
          8.635732650756836,
          8.981879234313965,
          11.452065467834473,
          6.870075225830078,
          -4.728638172149658,
          -8.02930736541748,
          -10.811513900756836,
          9.282693862915039,
          0.9379845857620239,
          8.506121635437012,
          -1.5338584184646606,
          5.5857133865356445,
          -0.353384405374527,
          5.127499580383301,
          7.036942005157471,
          0.27336350083351135,
          7.908422470092773,
          7.188549041748047,
          -6.415728569030762,
          -0.174305260181427,
          -2.16611647605896,
          -4.851991176605225,
          -2.7134573459625244,
          -2.1014082431793213,
          -8.02112102508545,
          8.297070503234863,
          6.162638187408447,
          -8.395105361938477,
          -7.26235818862915,
          4.749744415283203,
          12.511587142944336,
          -4.775595664978027,
          -0.10623501986265182,
          1.7871975898742676,
          13.668089866638184,
          -0.30519792437553406,
          9.142449378967285,
          5.2387285232543945,
          -7.817275524139404,
          -8.392134666442871,
          -11.119869232177734,
          11.843855857849121,
          -7.651914596557617,
          -2.1245028972625732,
          7.016805648803711,
          -7.022312164306641,
          10.291172981262207,
          -9.076906204223633,
          6.095236301422119,
          0.5371050238609314,
          -6.669086456298828,
          8.737846374511719,
          -1.3996663093566895,
          -2.087540626525879,
          1.6089330911636353,
          -7.757167816162109,
          3.6736795902252197,
          0.5383289456367493,
          9.347465515136719,
          -8.086624145507812,
          -10.736882209777832,
          7.775721073150635,
          -2.5998334884643555,
          10.4744291305542,
          -7.268848419189453,
          11.575589179992676,
          -0.043600376695394516,
          10.367338180541992,
          9.684549331665039,
          -5.779171466827393,
          -9.493097305297852,
          6.055050373077393,
          0.6584154367446899,
          -8.456402778625488,
          -5.73447847366333,
          1.4982904195785522,
          -5.926828384399414,
          -10.748005867004395,
          -1.34593665599823,
          -2.503594160079956,
          -1.6069806814193726,
          -9.429694175720215,
          -0.11640475690364838,
          8.338827133178711,
          11.810857772827148,
          7.199808597564697,
          -4.667736053466797,
          -6.0741496086120605,
          12.395195007324219,
          -0.5136942863464355,
          -3.1171152591705322,
          -0.6322617530822754,
          9.918279647827148,
          7.783274173736572,
          8.999044418334961,
          6.811208724975586,
          -8.007806777954102,
          -6.5089545249938965,
          -0.9281989932060242,
          -0.9139812588691711,
          -6.503572940826416,
          -0.9031664133071899,
          11.60413646697998,
          8.60191535949707,
          -8.125268936157227,
          -1.5626155138015747,
          -3.4686264991760254,
          -2.4290664196014404,
          -8.671616554260254,
          -9.8826265335083,
          5.51116418838501,
          -5.552391052246094,
          13.137855529785156,
          11.31479263305664,
          9.223138809204102,
          -1.3071566820144653,
          6.722663402557373,
          -2.9535956382751465,
          8.253619194030762,
          -6.463418006896973,
          4.9525041580200195
         ],
         "y": [
          0.6387796401977539,
          2.2613346576690674,
          0.3747824430465698,
          3.113109588623047,
          0.5935515761375427,
          0.42756274342536926,
          -3.762953996658325,
          2.1583666801452637,
          0.4558740258216858,
          -1.228460431098938,
          3.5824875831604004,
          -4.351094722747803,
          -3.2377302646636963,
          -2.864922523498535,
          5.1813645362854,
          -0.7405679225921631,
          -3.3060529232025146,
          6.38923978805542,
          0.7815305590629578,
          -3.8838977813720703,
          0.17269639670848846,
          -3.9606192111968994,
          -2.1364665031433105,
          1.1188530921936035,
          -1.1805801391601562,
          -4.6735124588012695,
          -3.52445650100708,
          0.5811954140663147,
          6.1284708976745605,
          6.27155876159668,
          2.1735689640045166,
          0.6553846001625061,
          -2.6345221996307373,
          6.203271865844727,
          -5.366100311279297,
          -3.6755902767181396,
          4.0615949630737305,
          0.39740023016929626,
          -2.6189472675323486,
          -0.06827661395072937,
          -3.174575090408325,
          4.445886611938477,
          -1.223365068435669,
          -1.5708800554275513,
          3.7464308738708496,
          -0.947772204875946,
          4.724030494689941,
          0.9769294857978821,
          -4.129148006439209,
          1.9133657217025757,
          5.971620559692383,
          1.2117377519607544,
          -3.0615673065185547,
          -0.9826295375823975,
          2.35359525680542,
          -2.7757301330566406,
          -0.2514948844909668,
          -3.0148067474365234,
          5.855719089508057,
          3.7632036209106445,
          -5.244894027709961,
          5.414646148681641,
          1.4696062803268433,
          4.501994609832764,
          0.8337497115135193,
          5.142270565032959,
          -4.87147855758667,
          6.618849277496338,
          -2.8898797035217285,
          -0.5040754675865173,
          4.462674140930176,
          0.8610745072364807,
          -2.3367326259613037,
          5.060410022735596,
          -6.821065902709961,
          -3.7666566371917725,
          -1.0674033164978027,
          2.8061115741729736,
          -7.4102783203125,
          -6.628406047821045,
          -5.900470733642578,
          -5.642918109893799,
          1.9113402366638184,
          4.434091567993164,
          -0.9215928316116333,
          3.912415027618408,
          3.7283754348754883,
          2.6477601528167725,
          -5.109057426452637,
          -6.034776210784912,
          -3.532975912094116,
          3.5603034496307373,
          -1.2043286561965942,
          -2.6215949058532715,
          -1.9420993328094482,
          2.36253023147583,
          -1.8810120820999146,
          5.284120082855225,
          0.671134352684021,
          0.1383850872516632,
          -2.844452142715454,
          0.4120243489742279,
          4.718361854553223,
          -3.857722282409668,
          3.157649040222168,
          -2.481301784515381,
          2.8810110092163086,
          7.642574787139893,
          -7.68301248550415,
          3.60197377204895,
          -6.963261604309082,
          -4.861931800842285,
          5.546649932861328,
          -3.25386905670166,
          -0.17302937805652618,
          -7.329798698425293,
          -2.7774617671966553,
          -2.6820287704467773,
          4.023818492889404,
          0.931950032711029,
          -7.502350807189941,
          -4.281375408172607,
          6.375226020812988,
          -0.20239539444446564,
          6.320468902587891,
          3.380164861679077,
          -1.8324620723724365,
          2.1093552112579346,
          0.04923171550035477,
          4.5213422775268555,
          -6.665406703948975,
          -2.5455405712127686,
          5.494403839111328,
          -2.950514078140259,
          0.41908660531044006,
          -0.4217238426208496,
          -0.6694892644882202,
          4.262165069580078,
          1.9900797605514526,
          1.614080786705017,
          4.882017135620117,
          -6.420165538787842,
          -4.56548547744751,
          0.12125341594219208,
          -0.180495023727417,
          -4.167849540710449,
          1.1662755012512207,
          -1.2065784931182861,
          1.7875295877456665,
          1.9906858205795288,
          -7.1361589431762695,
          -4.743847370147705,
          7.182607173919678,
          -5.508452892303467,
          -3.365537405014038,
          -1.6377170085906982,
          1.2404518127441406,
          -0.9208520650863647,
          -3.5725386142730713,
          3.6309092044830322,
          -3.49056339263916,
          -3.81821608543396,
          -3.5825090408325195,
          -8.234787940979004,
          2.1573472023010254,
          0.3914868235588074,
          5.113221168518066,
          5.979322910308838,
          2.6131389141082764,
          5.981874465942383,
          2.147369623184204,
          5.232761383056641,
          0.004834931809455156,
          -0.8899820446968079,
          5.046189308166504,
          2.3558454513549805,
          1.4566383361816406,
          -0.25138628482818604,
          1.2919381856918335,
          2.9997737407684326,
          6.4702653884887695,
          2.105293035507202,
          0.060873597860336304,
          7.616729736328125,
          6.715468883514404,
          -3.0679142475128174,
          2.312462568283081,
          -6.264700889587402,
          -4.383642196655273,
          -4.860424995422363,
          -0.7467190623283386,
          -0.8730189800262451,
          3.9532527923583984,
          -0.8525097966194153,
          1.0789456367492676,
          -3.106044054031372,
          7.464168548583984,
          8.087925910949707,
          -2.7443222999572754,
          6.4782609939575195,
          -5.613989353179932,
          2.207728862762451,
          -3.238232374191284,
          1.632027268409729,
          0.04138168692588806,
          0.21930287778377533,
          -8.460537910461426,
          -5.937956809997559,
          2.5759782791137695,
          -0.6583744883537292,
          5.1378493309021,
          0.34765973687171936,
          3.005058526992798,
          -7.48056697845459,
          -4.39406681060791,
          -3.1366066932678223,
          0.17872880399227142,
          2.2518484592437744,
          3.3774285316467285,
          1.4292006492614746,
          -0.23043270409107208,
          5.227649211883545,
          0.623360812664032,
          -8.115094184875488,
          0.91698157787323,
          -8.174612998962402,
          -1.660156488418579,
          -5.530531883239746,
          -0.1926816999912262,
          -2.192870616912842,
          -2.3121981620788574,
          -1.1442432403564453,
          3.5216164588928223,
          3.878495454788208,
          -2.3202738761901855,
          5.668797492980957,
          0.07389245182275772,
          -4.746649742126465,
          1.827793836593628,
          -0.9483928680419922,
          -5.788576602935791,
          8.75592041015625,
          0.8646035194396973,
          1.6744509935379028,
          0.019206453114748,
          1.096872091293335,
          -2.6111671924591064,
          -5.222463607788086,
          -2.3544020652770996,
          -1.8462344408035278,
          -7.152914047241211,
          3.3618528842926025,
          0.4730762541294098,
          -4.260531425476074,
          -3.226491928100586,
          2.428917407989502,
          0.5357823371887207,
          0.5077386498451233,
          -1.9658197164535522,
          -0.18784630298614502,
          -0.3217308521270752,
          -5.910272598266602,
          -1.4342018365859985,
          5.878537178039551,
          -6.004451274871826,
          1.9559110403060913,
          4.221985816955566,
          -0.12778636813163757,
          -7.464938640594482,
          8.79603385925293,
          7.752444267272949,
          -2.115938425064087,
          -0.5007554888725281,
          -0.20926974713802338,
          2.757014036178589,
          -5.314280986785889,
          1.5467422008514404,
          -0.9178571105003357,
          6.939027309417725,
          -4.068711280822754,
          -1.4298690557479858,
          -0.03149697184562683,
          -3.115185260772705,
          -1.8711694478988647,
          0.17387014627456665,
          5.391573905944824,
          1.5711582899093628,
          4.900869369506836,
          1.4839677810668945,
          -2.0053935050964355,
          -7.11807918548584,
          -1.809850811958313,
          2.6182217597961426,
          5.192943572998047,
          4.509161949157715,
          5.58939790725708,
          0.6735819578170776,
          -7.103960037231445,
          3.599168539047241,
          -0.8135483860969543,
          3.009500741958618,
          -0.7194662690162659,
          4.378633499145508,
          0.7224563360214233,
          -0.7008538246154785,
          -4.227446556091309,
          6.881843566894531,
          -4.094732284545898,
          -2.9007468223571777,
          7.029893398284912,
          6.597393989562988,
          -2.988769769668579,
          1.4117064476013184,
          -0.7756524085998535,
          9.389394760131836,
          0.12356436252593994,
          5.754916191101074,
          -0.5082300901412964,
          -4.98301362991333,
          -2.8653836250305176,
          3.647568702697754,
          -2.332440137863159,
          1.8710753917694092,
          1.6804893016815186,
          -9.442164421081543,
          -3.1326591968536377,
          3.5814855098724365,
          3.827319860458374,
          2.272073984146118,
          -0.09891676157712936,
          -0.27069225907325745,
          0.6421424746513367,
          -5.9249653816223145,
          -2.0313897132873535,
          3.003429651260376,
          -0.26217013597488403,
          3.639453887939453,
          0.11117877811193466,
          2.5746586322784424,
          -0.15165427327156067,
          0.541939377784729,
          -4.146177768707275,
          4.285828590393066,
          -6.026259422302246,
          2.303518772125244,
          1.6655105352401733,
          -3.0967886447906494,
          -2.3778674602508545,
          2.68241548538208,
          0.80014967918396,
          2.86497163772583,
          -0.383152574300766,
          -0.5948046445846558,
          -1.7448644638061523,
          1.5080950260162354,
          -3.584179639816284,
          -4.125420570373535,
          4.672992706298828,
          3.5745842456817627,
          -4.31328821182251,
          3.327662706375122,
          5.7529096603393555,
          -0.5885199308395386,
          -1.9243463277816772,
          2.412299394607544,
          -3.788806676864624,
          4.638644695281982,
          -1.8290733098983765,
          0.4841614365577698,
          8.257553100585938,
          -0.06999596208333969,
          -5.6151628494262695,
          -1.347623586654663,
          2.8099613189697266,
          1.8554868698120117,
          0.6169572472572327,
          -6.119933605194092,
          -0.22420446574687958,
          -2.6255555152893066,
          -5.289609909057617,
          3.003993034362793,
          -2.179241418838501,
          -6.094745635986328,
          -1.4162236452102661,
          3.896135091781616,
          -1.3862382173538208,
          2.5074498653411865,
          2.190180540084839,
          6.39375114440918,
          -5.009072303771973,
          2.0119760036468506,
          -1.9144601821899414,
          -1.691141128540039,
          -4.703009128570557,
          -1.5740082263946533,
          -1.8899319171905518,
          -2.231189727783203,
          -0.08821605890989304,
          -2.668027400970459,
          -2.734466314315796,
          1.2592272758483887,
          3.918494701385498,
          -2.8283820152282715,
          0.39845970273017883,
          1.014441728591919,
          -0.918788731098175,
          2.2103779315948486,
          -2.7925827503204346,
          4.605878829956055,
          6.828153133392334,
          3.7354447841644287,
          -5.518709659576416,
          4.338415145874023,
          -4.57418966293335,
          -2.4496827125549316,
          -1.1041624546051025,
          3.6617212295532227,
          0.7613332867622375,
          4.2182087898254395,
          1.8699792623519897,
          -5.192971229553223,
          4.121683597564697,
          5.4477667808532715,
          2.8223214149475098,
          2.96779203414917,
          0.8158449530601501,
          -2.2648744583129883,
          -0.357822060585022,
          -1.5759037733078003,
          -0.6388902068138123,
          -6.899966239929199,
          -3.7135229110717773,
          4.154253005981445,
          -0.3835885226726532,
          3.8395209312438965,
          6.041975498199463,
          -0.15754491090774536,
          -0.5112510323524475,
          -7.639725208282471,
          0.6138156056404114,
          -2.738637685775757,
          -6.772861003875732,
          -0.09729142487049103,
          -0.07150427252054214,
          -3.752070665359497,
          1.4712507724761963,
          4.761017799377441,
          -5.214278221130371,
          -0.5043390393257141,
          3.6407577991485596,
          3.231954336166382,
          -0.6583985090255737,
          -0.2810753881931305,
          -4.430301189422607,
          4.560665130615234,
          -1.9816988706588745,
          4.985358238220215,
          -0.5864339470863342,
          -7.1898088455200195,
          -8.61059856414795,
          4.28758430480957,
          1.1676805019378662,
          -0.294792503118515,
          -4.221349716186523,
          2.2480721473693848,
          -3.623419761657715,
          -7.9095916748046875,
          5.182868957519531,
          0.4120227098464966,
          1.7322378158569336,
          -7.585739612579346,
          -1.389114260673523,
          3.3361809253692627,
          -2.034947395324707,
          1.1104069948196411,
          0.7875677347183228,
          -2.5936038494110107,
          -0.5024306774139404,
          0.48917683959007263,
          2.3882365226745605,
          -2.057938575744629,
          4.106118679046631,
          -1.471407175064087,
          1.5160107612609863,
          -3.0632214546203613,
          0.32203224301338196,
          6.0875067710876465,
          -1.2984427213668823,
          0.09227384626865387,
          -2.013911724090576,
          -4.946442604064941,
          5.098459243774414,
          -0.8474385738372803,
          3.957810878753662,
          1.151841163635254,
          0.45864224433898926,
          7.040546417236328,
          4.2244343757629395,
          -4.758356094360352,
          -5.633454322814941,
          2.071782350540161,
          1.2914520502090454,
          -3.9922895431518555,
          -4.77545690536499,
          -1.1414294242858887,
          -1.5938204526901245,
          -6.703954219818115,
          -2.9501585960388184,
          -1.8919833898544312,
          1.7248138189315796,
          -0.2523397207260132,
          -1.13382887840271,
          7.832674980163574,
          0.3304626941680908,
          -7.567485332489014,
          -5.812460899353027,
          -7.03938627243042,
          -7.117717742919922,
          3.1037144660949707,
          7.388257026672363,
          -4.182812690734863,
          2.7994377613067627,
          -0.34843283891677856,
          2.569610834121704,
          2.8256938457489014,
          -2.0563154220581055,
          -0.6881638169288635,
          -0.6329575181007385,
          5.0054755210876465,
          0.6635334491729736,
          4.924208164215088,
          3.548405885696411,
          5.097875118255615,
          -0.47676268219947815,
          4.476541519165039,
          6.327630043029785,
          0.09318442642688751,
          1.155672550201416,
          -0.9672468900680542,
          8.585090637207031,
          2.2767765522003174,
          1.559177279472351,
          4.0291428565979,
          1.012194037437439,
          -1.867712140083313,
          6.509047985076904,
          -3.8231093883514404,
          1.7750757932662964,
          0.03403405845165253,
          -3.2261033058166504,
          -4.0433268547058105,
          -2.4320056438446045,
          -1.9598407745361328,
          -3.573112726211548,
          -5.317911624908447,
          3.0972683429718018,
          4.819973945617676,
          -5.31293249130249,
          3.9043047428131104,
          2.616856336593628,
          -0.3105843961238861,
          3.772212028503418,
          -4.995877742767334,
          1.8010482788085938,
          1.152815580368042,
          -8.12446117401123,
          0.9912129640579224,
          1.3654909133911133,
          0.4618475139141083,
          3.1534461975097656,
          -0.4316638708114624,
          4.032843112945557,
          1.2331756353378296,
          0.8448925018310547,
          1.9804491996765137,
          5.8140411376953125,
          0.882021963596344,
          2.0997462272644043,
          -1.4259674549102783,
          -8.150410652160645,
          -4.353640079498291,
          -6.635568618774414,
          2.8433544635772705,
          -0.08464553952217102,
          -2.7750370502471924,
          -8.57847785949707,
          0.48267993330955505,
          2.0883138179779053,
          -0.005854369606822729,
          4.364635944366455,
          4.349780559539795,
          -3.519075393676758,
          1.332287311553955,
          0.9532170295715332,
          0.42344409227371216,
          -4.733248233795166,
          1.6239609718322754,
          3.2459332942962646,
          -0.5200273394584656,
          -0.011353934183716774,
          4.431885242462158,
          -4.855778217315674,
          1.590498685836792,
          -3.2353835105895996,
          0.9793514013290405,
          1.7627263069152832,
          3.360715866088867,
          1.0995839834213257,
          1.193050742149353,
          2.8460323810577393,
          -0.6681869626045227,
          -6.562524795532227,
          -4.189333915710449,
          0.21339058876037598,
          -3.043687582015991,
          -4.442467212677002,
          -4.3399434089660645,
          -5.704079627990723,
          5.848931312561035,
          0.5499715209007263,
          0.31237146258354187,
          -3.725719928741455,
          -6.784896373748779,
          2.5517966747283936,
          2.798473834991455,
          2.8897058963775635,
          -3.08549165725708,
          0.29936596751213074,
          -2.8948521614074707,
          -4.693935871124268,
          -7.125126361846924,
          7.282259941101074,
          -6.270411491394043,
          2.312208652496338,
          -5.82387113571167,
          -0.9292532801628113,
          -7.957442760467529,
          0.19816750288009644,
          4.193853378295898,
          -0.19990292191505432,
          0.05648243799805641,
          -0.850301206111908,
          -2.794285774230957,
          -5.90935754776001,
          0.521782398223877,
          -3.723386764526367,
          1.9486302137374878,
          -1.7412681579589844,
          -0.40243369340896606,
          -1.1144615411758423,
          -1.6451168060302734,
          1.2743419408798218,
          -2.3217852115631104,
          5.149661540985107,
          2.248959541320801,
          1.0993576049804688,
          0.5727896094322205,
          -1.5687073469161987,
          1.39983069896698,
          3.374987840652466,
          5.2721967697143555,
          -4.056291580200195,
          1.912113070487976,
          -0.21319597959518433,
          1.4922542572021484,
          -0.1125703901052475,
          2.9325613975524902,
          -2.8935298919677734,
          8.323824882507324,
          1.6858596801757812,
          1.4109023809432983,
          -3.5493004322052,
          -7.129238605499268,
          0.007547704502940178,
          2.5210771560668945,
          -3.504748821258545,
          -0.04222583770751953,
          5.799818992614746,
          0.8032433986663818,
          -2.9204187393188477,
          2.6069118976593018,
          -1.0958527326583862,
          0.27062612771987915,
          0.11950325220823288,
          -5.504518032073975,
          1.403219223022461,
          -4.629802703857422,
          -2.7256295680999756,
          3.5763518810272217,
          6.361081600189209,
          1.1303396224975586,
          6.263194561004639,
          4.1839518547058105,
          6.042577266693115,
          5.476716041564941,
          5.231491565704346,
          -4.244494438171387,
          -8.101727485656738,
          -4.10245943069458,
          1.8935668468475342,
          -5.597255229949951,
          -6.9274163246154785,
          -2.8448703289031982,
          6.160373210906982,
          -2.3501827716827393,
          -2.5691170692443848,
          3.26994252204895,
          -2.0008351802825928,
          0.06723533570766449,
          -1.3150813579559326,
          5.8508524894714355,
          -0.62771075963974,
          6.101180553436279,
          -4.736683368682861,
          2.9415948390960693,
          2.780355215072632,
          0.2741788327693939,
          -1.3190364837646484,
          2.976855516433716,
          3.837289810180664,
          0.7551794052124023,
          -1.4557101726531982,
          6.478546619415283,
          1.242789387702942,
          2.330207586288452,
          -2.6141602993011475,
          2.929056167602539,
          5.6840925216674805,
          1.6280094385147095,
          0.008129069581627846,
          5.158555030822754,
          -1.6156293153762817,
          -0.23854178190231323,
          -1.0304076671600342,
          4.543896675109863,
          3.6791858673095703,
          -7.11703634262085,
          -5.71065616607666,
          -6.848308563232422,
          -0.08880896866321564,
          3.2771942615509033,
          -3.4022490978240967,
          -2.5476572513580322,
          -1.8807594776153564,
          -2.8112680912017822,
          -7.133201599121094,
          -8.59219741821289,
          5.482288360595703,
          -0.5404438972473145,
          4.931673049926758,
          2.50382137298584,
          -1.5682424306869507,
          -2.1420207023620605,
          0.9546859264373779,
          -2.1456120014190674,
          -0.4375658631324768,
          -6.5690412521362305,
          -5.630972385406494,
          0.4882346987724304,
          -2.832021713256836,
          6.920004844665527,
          -7.3183112144470215,
          1.6740643978118896,
          2.7161686420440674,
          -0.04248721897602081,
          -1.8196741342544556,
          -0.9798223972320557,
          -1.4250211715698242,
          -0.8354465961456299,
          -1.8403517007827759,
          -6.213015556335449,
          -0.2729054391384125,
          1.4922653436660767,
          -2.0535593032836914,
          -2.6725642681121826,
          -3.6245155334472656,
          -2.796583414077759,
          -4.4990949630737305,
          -6.170055389404297,
          -2.132314682006836,
          -5.94400691986084,
          -1.6771976947784424,
          4.983727931976318,
          -7.186154842376709,
          -5.492740631103516,
          5.891441822052002,
          -6.709299087524414,
          2.616731643676758,
          -8.681676864624023,
          -8.35410213470459,
          1.12539541721344,
          -4.308785438537598,
          -1.6470129489898682,
          -4.415977478027344,
          -0.03245113790035248,
          1.02242112159729,
          -2.9150009155273438,
          -0.4770321547985077,
          -6.24564790725708,
          -1.908024787902832,
          -3.706008195877075,
          -1.7872545719146729,
          4.066744804382324,
          1.5621235370635986,
          -1.1361497640609741,
          0.8519120812416077,
          -6.051273345947266,
          3.7595443725585938,
          5.064888000488281,
          0.3798118233680725,
          -0.2670941650867462,
          -1.752013087272644,
          -5.1980085372924805,
          -4.9769768714904785,
          4.84039831161499,
          -0.35696545243263245,
          4.892538547515869,
          1.940293788909912,
          0.8813484311103821,
          2.246169090270996,
          1.848171353340149,
          -0.6710625886917114,
          -7.380279064178467,
          2.7971720695495605,
          7.663487911224365,
          -1.2834053039550781,
          4.94411039352417,
          -7.517483711242676,
          -2.899963140487671,
          2.965090274810791,
          2.7769598960876465,
          -4.273068428039551,
          1.4719239473342896,
          -0.9834517240524292,
          -1.0839366912841797,
          0.590683102607727,
          -1.2714840173721313,
          -1.527814269065857,
          1.8565772771835327,
          -5.338440418243408,
          -6.389364719390869,
          -3.826677083969116,
          2.501182794570923,
          6.876402378082275,
          -0.19588586688041687,
          4.365801811218262,
          6.520450115203857,
          -6.583067893981934,
          -7.44452428817749,
          6.277743816375732,
          4.721076965332031,
          -4.325437545776367,
          -5.571130752563477,
          -6.830557346343994,
          5.629039764404297,
          8.101346969604492,
          -1.909490942955017,
          6.535494804382324,
          -8.159543991088867,
          -1.7844465970993042,
          -3.3245038986206055,
          -7.07842493057251,
          3.5861518383026123,
          -8.764094352722168,
          7.460363864898682,
          4.18896484375,
          -2.3605172634124756,
          -8.180245399475098,
          1.1525132656097412,
          -6.260522365570068,
          0.5217970013618469,
          -3.829340696334839,
          3.77006196975708,
          -8.04301643371582,
          -3.366987466812134,
          2.200536012649536,
          -2.185093402862549,
          -4.488645553588867,
          -1.4097037315368652,
          1.0186052322387695,
          -7.349460124969482,
          -2.7922780513763428,
          -3.404123306274414,
          1.9100433588027954,
          0.0842021107673645,
          5.442899227142334,
          -2.405691385269165,
          3.005513906478882,
          -0.2965906262397766,
          -1.0306775569915771,
          0.23166829347610474,
          6.580923557281494,
          2.7382564544677734,
          -2.87939190864563,
          7.7884674072265625,
          -5.450503349304199,
          -1.4095268249511719,
          1.426517367362976,
          5.250612258911133,
          2.381807804107666,
          5.028351306915283,
          -5.357267379760742,
          -3.5171711444854736,
          2.6725058555603027,
          -9.484529495239258,
          1.8877137899398804,
          0.8180510401725769,
          0.5352028012275696,
          2.8162693977355957,
          -7.804826736450195,
          4.6446309089660645,
          2.633598566055298,
          -1.3076190948486328,
          -6.80791711807251,
          -0.8157163858413696,
          -0.29649364948272705,
          -0.5512666702270508,
          5.6207404136657715,
          6.072285175323486,
          4.486484050750732,
          -3.907858371734619,
          5.432109832763672,
          0.9735730886459351,
          -3.7807674407958984,
          8.080821990966797,
          -7.558847427368164,
          -1.1185210943222046,
          -0.45618143677711487,
          3.681443929672241,
          8.195817947387695,
          -1.2162048816680908,
          -4.131910800933838,
          3.8179547786712646,
          5.217045307159424,
          0.6569784879684448,
          -0.6233527064323425,
          -1.596055030822754,
          1.4414764642715454,
          1.766844630241394,
          2.297191858291626,
          2.9332756996154785,
          -6.4036946296691895,
          -7.23090934753418,
          5.13433837890625,
          -4.908458709716797,
          0.06601611524820328,
          -5.109971046447754,
          -2.924933671951294,
          6.218324184417725,
          -1.0770636796951294,
          0.6947510242462158,
          -2.2182068824768066,
          1.5872083902359009,
          2.764237880706787,
          1.8436509370803833,
          3.7181568145751953,
          5.301806449890137,
          2.7313921451568604,
          -1.1627408266067505,
          -5.030837535858154,
          -0.25926831364631653,
          3.877549648284912,
          -0.13985435664653778,
          -6.6837897300720215,
          -1.372088074684143,
          -1.0605738162994385,
          4.9342265129089355,
          -3.268500328063965,
          0.5949627161026001,
          -5.6660003662109375,
          2.7138168811798096,
          -7.848127841949463,
          0.7390522360801697,
          -0.3368476629257202,
          -4.873274326324463,
          1.2340755462646484,
          2.26267409324646,
          1.484519124031067,
          -0.2672552466392517,
          2.463945150375366,
          -0.23593895137310028,
          -3.0789356231689453,
          -7.017444133758545,
          -3.224018096923828,
          1.8139665126800537,
          3.833207607269287,
          -4.662492752075195,
          0.3348781168460846,
          3.544342517852783,
          -0.15419937670230865,
          2.8836050033569336,
          -4.691671848297119,
          -3.474304676055908,
          1.4949495792388916,
          0.48022931814193726,
          -0.39477667212486267,
          1.0148937702178955,
          -8.306633949279785,
          0.1511680632829666,
          -1.4012995958328247
         ],
         "z": [
          -0.3932245969772339,
          4.378284931182861,
          -9.792232513427734,
          -12.550292015075684,
          -16.54454803466797,
          -6.0753254890441895,
          7.016496181488037,
          -16.156204223632812,
          -1.2060703039169312,
          10.539204597473145,
          -14.566773414611816,
          -15.939034461975098,
          -13.728919982910156,
          -8.237321853637695,
          -11.89653205871582,
          -17.825374603271484,
          -13.773712158203125,
          10.425750732421875,
          -8.421995162963867,
          -14.121847152709961,
          -5.235375881195068,
          -1.0355844497680664,
          -9.75639533996582,
          -1.546175479888916,
          -9.559240341186523,
          -2.6062607765197754,
          -14.610115051269531,
          4.78323221206665,
          -17.404468536376953,
          -14.904476165771484,
          2.9304208755493164,
          1.245316505432129,
          -4.900055885314941,
          -12.591127395629883,
          3.7253706455230713,
          -1.1949173212051392,
          -2.408655881881714,
          5.11313009262085,
          -1.1185156106948853,
          -7.190074443817139,
          14.350357055664062,
          -12.001019477844238,
          11.881937980651855,
          -7.989560604095459,
          -11.459576606750488,
          -18.465253829956055,
          -11.131132125854492,
          -1.1222889423370361,
          -15.584137916564941,
          12.910276412963867,
          -15.583338737487793,
          -6.6611104011535645,
          5.186727046966553,
          -18.26491928100586,
          -7.889130115509033,
          -1.878429889678955,
          -6.411434173583984,
          2.9407966136932373,
          -12.686613082885742,
          -12.388373374938965,
          3.5801539421081543,
          8.521177291870117,
          -19.594209671020508,
          -12.026749610900879,
          14.058492660522461,
          -10.423700332641602,
          10.126235961914062,
          10.633914947509766,
          -15.377060890197754,
          -9.716403007507324,
          -18.444297790527344,
          -15.534215927124023,
          0.42587655782699585,
          -12.876582145690918,
          6.705417633056641,
          3.476884603500366,
          -16.232147216796875,
          -15.72428035736084,
          10.719133377075195,
          9.434637069702148,
          9.414758682250977,
          3.542102813720703,
          -14.64857292175293,
          7.283196926116943,
          5.386076927185059,
          1.229718565940857,
          12.104185104370117,
          9.843291282653809,
          -0.36698639392852783,
          1.0996249914169312,
          3.673739194869995,
          -13.487860679626465,
          12.1480073928833,
          8.201903343200684,
          0.5321254730224609,
          -19.141357421875,
          8.012255668640137,
          2.5756232738494873,
          4.869856834411621,
          -16.028945922851562,
          -1.1081995964050293,
          11.889227867126465,
          2.515894889831543,
          6.802274703979492,
          -19.16112518310547,
          9.048334121704102,
          9.50606918334961,
          5.567173480987549,
          6.457610130310059,
          -14.837545394897461,
          2.7161717414855957,
          -1.7449790239334106,
          -11.895873069763184,
          4.890389442443848,
          -13.997376441955566,
          4.890366077423096,
          8.605292320251465,
          8.393098831176758,
          -12.360356330871582,
          6.603505611419678,
          5.775879859924316,
          0.14272324740886688,
          4.743950843811035,
          12.782915115356445,
          5.267606735229492,
          4.045079708099365,
          1.0381183624267578,
          -13.249154090881348,
          5.097599983215332,
          4.1625566482543945,
          1.5862312316894531,
          7.615265369415283,
          -16.260066986083984,
          4.577908515930176,
          11.981707572937012,
          3.7511630058288574,
          -12.856240272521973,
          -15.896713256835938,
          3.456717014312744,
          1.035263180732727,
          -13.595904350280762,
          0.7068035006523132,
          6.331415176391602,
          -15.043375968933105,
          7.0879340171813965,
          9.855234146118164,
          -12.900899887084961,
          10.819445610046387,
          3.6601264476776123,
          6.614619731903076,
          1.6714682579040527,
          5.420741558074951,
          0.9609231948852539,
          7.105468273162842,
          -0.3254050314426422,
          8.642497062683105,
          14.082657814025879,
          13.783402442932129,
          5.48092794418335,
          -10.444933891296387,
          7.442927360534668,
          3.437692403793335,
          8.07526969909668,
          11.08626937866211,
          -11.561101913452148,
          13.323012351989746,
          -14.056017875671387,
          -15.160609245300293,
          -11.517178535461426,
          6.8798394203186035,
          10.030305862426758,
          1.368065595626831,
          -9.932012557983398,
          -12.049830436706543,
          3.2460122108459473,
          11.026528358459473,
          -8.75869083404541,
          -11.176471710205078,
          2.9968388080596924,
          -15.125556945800781,
          2.150179147720337,
          -9.923450469970703,
          1.3207708597183228,
          -17.146347045898438,
          -15.625420570373535,
          9.10789680480957,
          -12.662720680236816,
          2.2721972465515137,
          8.072351455688477,
          5.045248985290527,
          11.320286750793457,
          -15.293980598449707,
          -14.255478858947754,
          -12.65980052947998,
          9.579371452331543,
          6.175867080688477,
          2.797532320022583,
          4.375268459320068,
          -1.7761636972427368,
          4.375176906585693,
          1.34000825881958,
          1.9420421123504639,
          1.8279402256011963,
          -15.262157440185547,
          -11.357013702392578,
          0.9101688265800476,
          9.875188827514648,
          1.1147339344024658,
          -9.66417407989502,
          2.572077989578247,
          4.444809913635254,
          -14.078288078308105,
          -15.350764274597168,
          3.5858232975006104,
          0.04231150820851326,
          -0.40535733103752136,
          3.0605111122131348,
          -16.579334259033203,
          -18.339479446411133,
          0.3298734128475189,
          -11.328152656555176,
          5.836922645568848,
          -15.126025199890137,
          7.677187919616699,
          10.95278549194336,
          8.691018104553223,
          13.137890815734863,
          7.536937236785889,
          12.465736389160156,
          -11.903841018676758,
          6.497425079345703,
          12.343493461608887,
          -14.773324966430664,
          -15.646099090576172,
          6.908998012542725,
          6.033649444580078,
          2.6466290950775146,
          5.203020095825195,
          -13.400680541992188,
          -9.936602592468262,
          0.7803176045417786,
          4.322363376617432,
          -10.059054374694824,
          7.933658599853516,
          -15.434967041015625,
          11.325855255126953,
          6.70216703414917,
          10.191232681274414,
          12.940288543701172,
          -10.958589553833008,
          4.926296234130859,
          2.2835612297058105,
          -15.15359878540039,
          3.6140120029449463,
          9.501949310302734,
          0.43258196115493774,
          1.938967227935791,
          9.229915618896484,
          -12.595992088317871,
          6.587345600128174,
          -10.512886047363281,
          3.8529489040374756,
          -13.805828094482422,
          2.0210318565368652,
          5.293438911437988,
          7.643599510192871,
          -17.129409790039062,
          8.1529541015625,
          6.277900695800781,
          2.6714277267456055,
          5.204102516174316,
          1.9124983549118042,
          4.433379650115967,
          -9.619866371154785,
          -10.67452621459961,
          7.4905548095703125,
          -17.7775936126709,
          -15.428354263305664,
          5.781291961669922,
          8.123167037963867,
          12.601076126098633,
          -9.757585525512695,
          9.513321876525879,
          2.2243459224700928,
          -13.635553359985352,
          6.022451400756836,
          9.386034965515137,
          5.497902870178223,
          9.51700210571289,
          -1.9508908987045288,
          0.7378154993057251,
          4.481198787689209,
          9.214028358459473,
          7.196051597595215,
          7.3978118896484375,
          -12.46560001373291,
          -12.288130760192871,
          11.203916549682617,
          7.523288726806641,
          0.9373961687088013,
          0.7726299166679382,
          8.646811485290527,
          -16.20140266418457,
          -15.603982925415039,
          -11.500219345092773,
          7.001496315002441,
          3.89382266998291,
          6.954650402069092,
          13.440529823303223,
          -15.773740768432617,
          -14.920849800109863,
          10.722585678100586,
          -9.905264854431152,
          -9.892672538757324,
          4.511003494262695,
          1.2994199991226196,
          6.695658206939697,
          6.477080345153809,
          7.714725494384766,
          1.7227413654327393,
          1.340531349182129,
          5.984281063079834,
          -15.463335990905762,
          1.5252361297607422,
          7.059572696685791,
          0.775373101234436,
          -17.830312728881836,
          -17.33318328857422,
          -11.92078971862793,
          -11.746256828308105,
          8.39190673828125,
          -16.84458351135254,
          5.996805667877197,
          8.596044540405273,
          10.209677696228027,
          -15.37907600402832,
          4.315762042999268,
          3.954456090927124,
          -12.825827598571777,
          -15.442577362060547,
          3.8654589653015137,
          11.143115997314453,
          -12.333244323730469,
          7.445563316345215,
          -16.15894889831543,
          -13.401723861694336,
          3.8482184410095215,
          12.90726089477539,
          -12.931058883666992,
          -17.077625274658203,
          2.663851022720337,
          4.953561782836914,
          6.009581565856934,
          1.8805376291275024,
          9.362756729125977,
          11.252522468566895,
          3.977447032928467,
          5.1154985427856445,
          -19.141496658325195,
          -1.4754481315612793,
          3.518017530441284,
          3.9183642864227295,
          2.5026142597198486,
          12.16832160949707,
          -14.438724517822266,
          8.448530197143555,
          -16.48544692993164,
          9.815260887145996,
          9.720572471618652,
          5.825071334838867,
          10.858263969421387,
          0.6285486221313477,
          -16.11587142944336,
          -10.583925247192383,
          -15.398550033569336,
          12.375682830810547,
          6.795008659362793,
          -12.343219757080078,
          1.403814435005188,
          0.6351571679115295,
          -12.115679740905762,
          1.7548881769180298,
          5.61730432510376,
          1.0275681018829346,
          4.218544006347656,
          7.501590728759766,
          8.993927955627441,
          7.781752109527588,
          3.492417573928833,
          -0.6889535188674927,
          10.413054466247559,
          8.284502029418945,
          4.774323463439941,
          5.845451354980469,
          6.067648410797119,
          1.7808068990707397,
          8.76309585571289,
          -15.645096778869629,
          0.40565916895866394,
          7.367608547210693,
          6.328344821929932,
          8.9951753616333,
          10.17448902130127,
          0.8681014776229858,
          -17.717342376708984,
          7.989055633544922,
          -12.319746017456055,
          1.8743983507156372,
          -9.600327491760254,
          2.614170789718628,
          6.907387733459473,
          2.1286983489990234,
          -19.191455841064453,
          7.78195858001709,
          4.728244781494141,
          12.165371894836426,
          10.994108200073242,
          5.155173301696777,
          -17.076251983642578,
          -13.682136535644531,
          -0.8182365894317627,
          10.095162391662598,
          6.140133857727051,
          2.474851369857788,
          -11.985941886901855,
          11.182574272155762,
          6.744471549987793,
          -11.731226921081543,
          -0.1569814831018448,
          -16.31182861328125,
          4.4342265129089355,
          8.110766410827637,
          7.476705551147461,
          -13.569856643676758,
          -18.052997589111328,
          1.7447770833969116,
          8.248473167419434,
          -15.409794807434082,
          7.119995594024658,
          -11.883606910705566,
          9.103536605834961,
          10.827360153198242,
          -12.612276077270508,
          -18.376066207885742,
          0.5865494012832642,
          -9.660111427307129,
          -16.867063522338867,
          8.1371488571167,
          -11.062275886535645,
          -10.231154441833496,
          9.478340148925781,
          -13.506950378417969,
          12.48941421508789,
          7.362189292907715,
          -12.348602294921875,
          1.0389659404754639,
          1.004815936088562,
          -12.200261116027832,
          10.007367134094238,
          9.62977123260498,
          4.441100120544434,
          -13.218177795410156,
          12.151143074035645,
          11.725902557373047,
          0.3435617685317993,
          3.877673864364624,
          6.155915260314941,
          -18.26966094970703,
          12.92049503326416,
          -11.670737266540527,
          6.69636344909668,
          8.293529510498047,
          12.819472312927246,
          5.684086322784424,
          11.873014450073242,
          9.87993049621582,
          5.63928747177124,
          -11.231924057006836,
          1.85664701461792,
          6.515228271484375,
          12.90267276763916,
          8.289410591125488,
          -11.909001350402832,
          -17.337182998657227,
          8.564170837402344,
          -17.297563552856445,
          1.0075361728668213,
          -0.00031348466291092336,
          3.0310704708099365,
          -10.404274940490723,
          9.049249649047852,
          -12.335675239562988,
          -10.67686653137207,
          -16.099441528320312,
          -10.732662200927734,
          -12.912009239196777,
          3.337050199508667,
          -10.795459747314453,
          6.710541725158691,
          1.0539108514785767,
          3.7648401260375977,
          4.236663341522217,
          0.16151680052280426,
          -0.5565317869186401,
          -0.07275840640068054,
          -10.446120262145996,
          9.043087005615234,
          11.678189277648926,
          0.14138096570968628,
          -9.375819206237793,
          -15.921142578125,
          13.712709426879883,
          3.160329580307007,
          -15.111150741577148,
          10.587998390197754,
          9.671082496643066,
          6.173719882965088,
          9.698348045349121,
          2.6650214195251465,
          3.5396034717559814,
          -0.416531503200531,
          -15.243903160095215,
          -12.373042106628418,
          -12.1484956741333,
          -18.893123626708984,
          8.480142593383789,
          0.9447393417358398,
          8.731308937072754,
          2.841378688812256,
          2.3587143421173096,
          2.509253740310669,
          -16.01724624633789,
          -11.46788215637207,
          10.341764450073242,
          -11.078474044799805,
          -14.37350845336914,
          1.3915332555770874,
          -16.219024658203125,
          1.208210825920105,
          2.983534574508667,
          0.03379519656300545,
          -11.118993759155273,
          6.877386093139648,
          3.3917183876037598,
          12.883748054504395,
          -14.067200660705566,
          9.77585220336914,
          -12.7579984664917,
          -13.019989013671875,
          9.646485328674316,
          9.128920555114746,
          3.450230360031128,
          -14.943431854248047,
          5.422652244567871,
          7.3397417068481445,
          2.932255268096924,
          -10.370559692382812,
          6.3903961181640625,
          -17.59327507019043,
          0.4281606078147888,
          -18.33623695373535,
          -18.629867553710938,
          7.912034034729004,
          -12.386801719665527,
          8.409526824951172,
          10.7670316696167,
          12.156844139099121,
          3.9667704105377197,
          -14.45025634765625,
          -11.452937126159668,
          0.13602255284786224,
          -11.561076164245605,
          -16.578393936157227,
          -17.386760711669922,
          2.0892374515533447,
          -15.807887077331543,
          5.792714595794678,
          9.457172393798828,
          2.0810396671295166,
          5.941161155700684,
          -1.0248017311096191,
          7.427238941192627,
          -10.681713104248047,
          5.32470703125,
          13.54499340057373,
          10.080479621887207,
          1.9812489748001099,
          11.048675537109375,
          10.25166130065918,
          -16.435569763183594,
          8.653264999389648,
          11.204744338989258,
          0.14439310133457184,
          -17.30304718017578,
          0.9839650392532349,
          5.885693550109863,
          -15.522836685180664,
          -15.570505142211914,
          -10.88817024230957,
          -17.687427520751953,
          -13.752283096313477,
          1.4697333574295044,
          -8.842976570129395,
          7.669033050537109,
          -10.40331745147705,
          3.5225753784179688,
          -17.4798641204834,
          -18.238243103027344,
          6.979942798614502,
          1.1993435621261597,
          -11.721025466918945,
          1.7993113994598389,
          0.5921927690505981,
          3.4400722980499268,
          11.0512056350708,
          9.054139137268066,
          -1.7764310836791992,
          -1.2370905876159668,
          6.182950496673584,
          2.5408430099487305,
          1.9185304641723633,
          5.764414310455322,
          5.324774265289307,
          2.7283177375793457,
          -11.83648681640625,
          -18.287912368774414,
          7.957873344421387,
          -14.914549827575684,
          2.407482147216797,
          11.693058967590332,
          3.956341028213501,
          4.490225791931152,
          8.585942268371582,
          -14.933258056640625,
          0.7994476556777954,
          1.1825506687164307,
          1.9799195528030396,
          1.9677488803863525,
          -12.111888885498047,
          2.0329041481018066,
          -11.072532653808594,
          2.3558707237243652,
          6.256950855255127,
          1.1103222370147705,
          -16.964279174804688,
          8.850724220275879,
          -11.303186416625977,
          4.766142845153809,
          -10.819442749023438,
          5.072310447692871,
          13.13338565826416,
          11.603021621704102,
          1.5651473999023438,
          -14.934236526489258,
          11.563202857971191,
          1.1940640211105347,
          -15.266705513000488,
          2.7317230701446533,
          6.7967681884765625,
          -15.164676666259766,
          -16.990970611572266,
          4.7969536781311035,
          0.44272366166114807,
          0.6181542873382568,
          -11.874592781066895,
          2.6945974826812744,
          -16.423572540283203,
          4.142775535583496,
          4.468733310699463,
          11.539095878601074,
          0.2611590027809143,
          10.874439239501953,
          6.327568054199219,
          3.2137742042541504,
          -9.889289855957031,
          9.75926685333252,
          2.4908883571624756,
          -11.22624683380127,
          -13.201744079589844,
          4.808984756469727,
          -11.048266410827637,
          11.684286117553711,
          4.806582927703857,
          -9.72774600982666,
          7.543196201324463,
          11.535216331481934,
          10.053585052490234,
          13.572108268737793,
          -13.662552833557129,
          -15.907506942749023,
          -8.290059089660645,
          -14.139204025268555,
          -18.955768585205078,
          0.6895458102226257,
          -13.656054496765137,
          -10.464313507080078,
          -0.11365269869565964,
          8.419344902038574,
          4.401497840881348,
          -12.078478813171387,
          -1.7346992492675781,
          7.836933135986328,
          -8.255370140075684,
          -17.426137924194336,
          7.478427410125732,
          -0.8969551920890808,
          -14.97982120513916,
          -15.717538833618164,
          1.8235204219818115,
          -8.710885047912598,
          -11.992607116699219,
          13.54381275177002,
          7.832070827484131,
          -2.7068240642547607,
          8.67671012878418,
          -8.464037895202637,
          -5.883393287658691,
          -18.42142677307129,
          8.649178504943848,
          11.137539863586426,
          -8.531351089477539,
          8.434785842895508,
          -0.014000967144966125,
          -6.564785480499268,
          -6.485517501831055,
          -4.96906042098999,
          -10.040618896484375,
          -10.08178424835205,
          -15.069231986999512,
          -7.2449259757995605,
          4.710377216339111,
          -16.919883728027344,
          2.7205934524536133,
          4.497376441955566,
          0.27204614877700806,
          -12.58828353881836,
          4.040594577789307,
          9.932065963745117,
          10.896575927734375,
          -11.439380645751953,
          6.221379280090332,
          2.3310399055480957,
          2.7664356231689453,
          -11.551513671875,
          0.26374131441116333,
          10.832297325134277,
          6.538291931152344,
          -11.825520515441895,
          -11.936434745788574,
          -17.528186798095703,
          3.9816677570343018,
          -15.3754301071167,
          0.14694733917713165,
          9.54792308807373,
          12.317366600036621,
          -11.515936851501465,
          9.317912101745605,
          3.913069486618042,
          -15.544441223144531,
          11.977776527404785,
          -16.941669464111328,
          6.274870872497559,
          10.753872871398926,
          11.79812240600586,
          0.8281642198562622,
          9.330856323242188,
          8.063133239746094,
          -15.760051727294922,
          6.315971374511719,
          -15.378303527832031,
          9.105676651000977,
          1.9344598054885864,
          1.6674860715866089,
          6.385363578796387,
          1.3901450634002686,
          11.308059692382812,
          2.3912594318389893,
          -1.5146880149841309,
          8.452753067016602,
          2.2785496711730957,
          5.373184680938721,
          8.614075660705566,
          1.4428021907806396,
          1.9463067054748535,
          10.716933250427246,
          -17.283653259277344,
          5.187854290008545,
          -10.163358688354492,
          10.3728666305542,
          8.204236030578613,
          -18.151439666748047,
          6.21768856048584,
          -11.834945678710938,
          6.916606426239014,
          9.36490535736084,
          0.7519043684005737,
          10.803923606872559,
          -11.34892749786377,
          6.361024379730225,
          10.617149353027344,
          0.889279305934906,
          1.9464411735534668,
          2.821608304977417,
          3.8917031288146973,
          -10.577190399169922,
          12.557400703430176,
          9.374935150146484,
          2.689964771270752,
          -13.908496856689453,
          10.116412162780762,
          -14.805448532104492,
          -11.068707466125488,
          7.253650188446045,
          -1.5601301193237305,
          1.2377839088439941,
          -11.07357406616211,
          3.2904272079467773,
          -18.107458114624023,
          -8.373592376708984,
          -13.528556823730469,
          -12.413102149963379,
          -9.619221687316895,
          11.741823196411133,
          1.0880675315856934,
          3.03877592086792,
          8.328914642333984,
          -13.801196098327637,
          9.042237281799316,
          4.535405158996582,
          -16.426164627075195,
          2.886035203933716,
          -0.12020108848810196,
          -18.681472778320312,
          -10.7259521484375,
          -12.087422370910645,
          -10.097244262695312,
          -17.60430908203125,
          -14.634187698364258,
          -11.254508018493652,
          8.254167556762695,
          5.848881244659424,
          6.531430721282959,
          -13.826117515563965,
          6.304689884185791,
          7.454192161560059,
          -10.560189247131348,
          1.9381386041641235,
          6.454226970672607,
          2.5621471405029297,
          5.487157821655273,
          -10.485798835754395,
          0.8088060617446899,
          7.5636210441589355,
          5.71071720123291,
          3.5915257930755615,
          3.2654030323028564,
          -0.6993756294250488,
          -13.28915023803711,
          9.248282432556152,
          -11.913259506225586,
          -0.4928476810455322,
          8.458290100097656,
          0.3318421244621277,
          6.15413761138916,
          3.7546024322509766,
          -15.798681259155273,
          8.496925354003906,
          8.363286972045898,
          -10.624521255493164,
          0.9487234950065613,
          -14.394142150878906,
          9.23950481414795,
          11.976338386535645,
          3.0601329803466797,
          0.9719434976577759,
          11.176782608032227,
          6.003817081451416,
          -1.0283329486846924,
          1.2670823335647583,
          -11.04945182800293,
          0.7170738577842712,
          9.055977821350098,
          10.817766189575195,
          -16.677297592163086,
          -15.841548919677734,
          -12.274053573608398,
          2.3615610599517822,
          8.520882606506348,
          1.246147632598877,
          -9.452556610107422,
          -14.869446754455566,
          -15.365732192993164,
          -11.667656898498535,
          10.115026473999023,
          -16.34807777404785,
          3.5852510929107666,
          4.1991071701049805,
          11.024775505065918,
          2.503819465637207,
          4.164172172546387,
          5.466219902038574,
          4.177472114562988,
          11.123661994934082,
          -18.283405303955078,
          6.957511901855469,
          -15.274604797363281,
          -12.915380477905273,
          0.8273423314094543,
          -11.50007152557373,
          7.933992385864258,
          8.355683326721191,
          10.792838096618652,
          12.31859302520752,
          7.144365310668945,
          -11.05048656463623,
          -15.292289733886719,
          1.1568045616149902,
          4.639780044555664,
          -12.926965713500977,
          -12.937472343444824,
          0.02870970405638218,
          -16.5065860748291,
          5.364924430847168,
          7.108103275299072,
          2.5389304161071777,
          1.0194164514541626,
          2.1272175312042236,
          1.2991868257522583,
          7.419370174407959,
          3.398216485977173,
          -16.008115768432617,
          8.698657989501953,
          12.2462797164917,
          -17.075653076171875,
          -15.49294376373291,
          -15.668006896972656,
          8.264535903930664,
          -11.292366027832031,
          3.1834335327148438,
          -12.63818645477295,
          -12.24367904663086,
          1.9618529081344604,
          10.62568473815918,
          -10.867081642150879,
          8.09935474395752,
          -12.973411560058594,
          9.252418518066406,
          6.282710075378418,
          5.443186283111572,
          3.006878614425659,
          1.5120254755020142,
          1.8338549137115479,
          -18.146066665649414,
          -15.390759468078613,
          7.124248027801514,
          10.945847511291504,
          -13.376638412475586,
          -13.368301391601562,
          -10.612675666809082,
          -0.783915102481842,
          10.33846664428711,
          10.256383895874023,
          -10.594328880310059,
          9.504287719726562,
          2.376694917678833,
          13.85396957397461,
          7.222795486450195,
          4.821714401245117,
          -11.594292640686035,
          6.233982086181641,
          -17.5234375,
          6.876836776733398,
          4.3511061668396,
          -15.145929336547852,
          8.00189208984375,
          8.151747703552246,
          7.177050590515137,
          -17.15524673461914,
          2.5242860317230225,
          -9.77695369720459,
          -11.822686195373535,
          -1.2130744457244873,
          11.634501457214355,
          8.839191436767578,
          -16.92209815979004,
          9.313904762268066,
          -0.7158586382865906,
          -11.509625434875488,
          -11.580864906311035,
          -17.418712615966797,
          -11.164178848266602,
          6.984971046447754,
          9.171591758728027,
          -11.442574501037598,
          -13.58236026763916,
          2.126377582550049,
          7.50840950012207,
          10.112667083740234,
          -12.63242244720459,
          -17.33390998840332
         ]
        }
       ],
       "layout": {
        "coloraxis": {
         "colorbar": {
          "title": {
           "text": "Label"
          }
         },
         "colorscale": [
          [
           0,
           "#0d0887"
          ],
          [
           0.1111111111111111,
           "#46039f"
          ],
          [
           0.2222222222222222,
           "#7201a8"
          ],
          [
           0.3333333333333333,
           "#9c179e"
          ],
          [
           0.4444444444444444,
           "#bd3786"
          ],
          [
           0.5555555555555556,
           "#d8576b"
          ],
          [
           0.6666666666666666,
           "#ed7953"
          ],
          [
           0.7777777777777778,
           "#fb9f3a"
          ],
          [
           0.8888888888888888,
           "#fdca26"
          ],
          [
           1,
           "#f0f921"
          ]
         ]
        },
        "height": 800,
        "legend": {
         "tracegroupgap": 0
        },
        "scene": {
         "domain": {
          "x": [
           0,
           1
          ],
          "y": [
           0,
           1
          ]
         },
         "xaxis": {
          "title": {
           "text": "0"
          }
         },
         "yaxis": {
          "title": {
           "text": "1"
          }
         },
         "zaxis": {
          "title": {
           "text": "2"
          }
         }
        },
        "template": {
         "data": {
          "bar": [
           {
            "error_x": {
             "color": "#2a3f5f"
            },
            "error_y": {
             "color": "#2a3f5f"
            },
            "marker": {
             "line": {
              "color": "#E5ECF6",
              "width": 0.5
             }
            },
            "type": "bar"
           }
          ],
          "barpolar": [
           {
            "marker": {
             "line": {
              "color": "#E5ECF6",
              "width": 0.5
             }
            },
            "type": "barpolar"
           }
          ],
          "carpet": [
           {
            "aaxis": {
             "endlinecolor": "#2a3f5f",
             "gridcolor": "white",
             "linecolor": "white",
             "minorgridcolor": "white",
             "startlinecolor": "#2a3f5f"
            },
            "baxis": {
             "endlinecolor": "#2a3f5f",
             "gridcolor": "white",
             "linecolor": "white",
             "minorgridcolor": "white",
             "startlinecolor": "#2a3f5f"
            },
            "type": "carpet"
           }
          ],
          "choropleth": [
           {
            "colorbar": {
             "outlinewidth": 0,
             "ticks": ""
            },
            "type": "choropleth"
           }
          ],
          "contour": [
           {
            "colorbar": {
             "outlinewidth": 0,
             "ticks": ""
            },
            "colorscale": [
             [
              0,
              "#0d0887"
             ],
             [
              0.1111111111111111,
              "#46039f"
             ],
             [
              0.2222222222222222,
              "#7201a8"
             ],
             [
              0.3333333333333333,
              "#9c179e"
             ],
             [
              0.4444444444444444,
              "#bd3786"
             ],
             [
              0.5555555555555556,
              "#d8576b"
             ],
             [
              0.6666666666666666,
              "#ed7953"
             ],
             [
              0.7777777777777778,
              "#fb9f3a"
             ],
             [
              0.8888888888888888,
              "#fdca26"
             ],
             [
              1,
              "#f0f921"
             ]
            ],
            "type": "contour"
           }
          ],
          "contourcarpet": [
           {
            "colorbar": {
             "outlinewidth": 0,
             "ticks": ""
            },
            "type": "contourcarpet"
           }
          ],
          "heatmap": [
           {
            "colorbar": {
             "outlinewidth": 0,
             "ticks": ""
            },
            "colorscale": [
             [
              0,
              "#0d0887"
             ],
             [
              0.1111111111111111,
              "#46039f"
             ],
             [
              0.2222222222222222,
              "#7201a8"
             ],
             [
              0.3333333333333333,
              "#9c179e"
             ],
             [
              0.4444444444444444,
              "#bd3786"
             ],
             [
              0.5555555555555556,
              "#d8576b"
             ],
             [
              0.6666666666666666,
              "#ed7953"
             ],
             [
              0.7777777777777778,
              "#fb9f3a"
             ],
             [
              0.8888888888888888,
              "#fdca26"
             ],
             [
              1,
              "#f0f921"
             ]
            ],
            "type": "heatmap"
           }
          ],
          "heatmapgl": [
           {
            "colorbar": {
             "outlinewidth": 0,
             "ticks": ""
            },
            "colorscale": [
             [
              0,
              "#0d0887"
             ],
             [
              0.1111111111111111,
              "#46039f"
             ],
             [
              0.2222222222222222,
              "#7201a8"
             ],
             [
              0.3333333333333333,
              "#9c179e"
             ],
             [
              0.4444444444444444,
              "#bd3786"
             ],
             [
              0.5555555555555556,
              "#d8576b"
             ],
             [
              0.6666666666666666,
              "#ed7953"
             ],
             [
              0.7777777777777778,
              "#fb9f3a"
             ],
             [
              0.8888888888888888,
              "#fdca26"
             ],
             [
              1,
              "#f0f921"
             ]
            ],
            "type": "heatmapgl"
           }
          ],
          "histogram": [
           {
            "marker": {
             "colorbar": {
              "outlinewidth": 0,
              "ticks": ""
             }
            },
            "type": "histogram"
           }
          ],
          "histogram2d": [
           {
            "colorbar": {
             "outlinewidth": 0,
             "ticks": ""
            },
            "colorscale": [
             [
              0,
              "#0d0887"
             ],
             [
              0.1111111111111111,
              "#46039f"
             ],
             [
              0.2222222222222222,
              "#7201a8"
             ],
             [
              0.3333333333333333,
              "#9c179e"
             ],
             [
              0.4444444444444444,
              "#bd3786"
             ],
             [
              0.5555555555555556,
              "#d8576b"
             ],
             [
              0.6666666666666666,
              "#ed7953"
             ],
             [
              0.7777777777777778,
              "#fb9f3a"
             ],
             [
              0.8888888888888888,
              "#fdca26"
             ],
             [
              1,
              "#f0f921"
             ]
            ],
            "type": "histogram2d"
           }
          ],
          "histogram2dcontour": [
           {
            "colorbar": {
             "outlinewidth": 0,
             "ticks": ""
            },
            "colorscale": [
             [
              0,
              "#0d0887"
             ],
             [
              0.1111111111111111,
              "#46039f"
             ],
             [
              0.2222222222222222,
              "#7201a8"
             ],
             [
              0.3333333333333333,
              "#9c179e"
             ],
             [
              0.4444444444444444,
              "#bd3786"
             ],
             [
              0.5555555555555556,
              "#d8576b"
             ],
             [
              0.6666666666666666,
              "#ed7953"
             ],
             [
              0.7777777777777778,
              "#fb9f3a"
             ],
             [
              0.8888888888888888,
              "#fdca26"
             ],
             [
              1,
              "#f0f921"
             ]
            ],
            "type": "histogram2dcontour"
           }
          ],
          "mesh3d": [
           {
            "colorbar": {
             "outlinewidth": 0,
             "ticks": ""
            },
            "type": "mesh3d"
           }
          ],
          "parcoords": [
           {
            "line": {
             "colorbar": {
              "outlinewidth": 0,
              "ticks": ""
             }
            },
            "type": "parcoords"
           }
          ],
          "pie": [
           {
            "automargin": true,
            "type": "pie"
           }
          ],
          "scatter": [
           {
            "marker": {
             "colorbar": {
              "outlinewidth": 0,
              "ticks": ""
             }
            },
            "type": "scatter"
           }
          ],
          "scatter3d": [
           {
            "line": {
             "colorbar": {
              "outlinewidth": 0,
              "ticks": ""
             }
            },
            "marker": {
             "colorbar": {
              "outlinewidth": 0,
              "ticks": ""
             }
            },
            "type": "scatter3d"
           }
          ],
          "scattercarpet": [
           {
            "marker": {
             "colorbar": {
              "outlinewidth": 0,
              "ticks": ""
             }
            },
            "type": "scattercarpet"
           }
          ],
          "scattergeo": [
           {
            "marker": {
             "colorbar": {
              "outlinewidth": 0,
              "ticks": ""
             }
            },
            "type": "scattergeo"
           }
          ],
          "scattergl": [
           {
            "marker": {
             "colorbar": {
              "outlinewidth": 0,
              "ticks": ""
             }
            },
            "type": "scattergl"
           }
          ],
          "scattermapbox": [
           {
            "marker": {
             "colorbar": {
              "outlinewidth": 0,
              "ticks": ""
             }
            },
            "type": "scattermapbox"
           }
          ],
          "scatterpolar": [
           {
            "marker": {
             "colorbar": {
              "outlinewidth": 0,
              "ticks": ""
             }
            },
            "type": "scatterpolar"
           }
          ],
          "scatterpolargl": [
           {
            "marker": {
             "colorbar": {
              "outlinewidth": 0,
              "ticks": ""
             }
            },
            "type": "scatterpolargl"
           }
          ],
          "scatterternary": [
           {
            "marker": {
             "colorbar": {
              "outlinewidth": 0,
              "ticks": ""
             }
            },
            "type": "scatterternary"
           }
          ],
          "surface": [
           {
            "colorbar": {
             "outlinewidth": 0,
             "ticks": ""
            },
            "colorscale": [
             [
              0,
              "#0d0887"
             ],
             [
              0.1111111111111111,
              "#46039f"
             ],
             [
              0.2222222222222222,
              "#7201a8"
             ],
             [
              0.3333333333333333,
              "#9c179e"
             ],
             [
              0.4444444444444444,
              "#bd3786"
             ],
             [
              0.5555555555555556,
              "#d8576b"
             ],
             [
              0.6666666666666666,
              "#ed7953"
             ],
             [
              0.7777777777777778,
              "#fb9f3a"
             ],
             [
              0.8888888888888888,
              "#fdca26"
             ],
             [
              1,
              "#f0f921"
             ]
            ],
            "type": "surface"
           }
          ],
          "table": [
           {
            "cells": {
             "fill": {
              "color": "#EBF0F8"
             },
             "line": {
              "color": "white"
             }
            },
            "header": {
             "fill": {
              "color": "#C8D4E3"
             },
             "line": {
              "color": "white"
             }
            },
            "type": "table"
           }
          ]
         },
         "layout": {
          "annotationdefaults": {
           "arrowcolor": "#2a3f5f",
           "arrowhead": 0,
           "arrowwidth": 1
          },
          "coloraxis": {
           "colorbar": {
            "outlinewidth": 0,
            "ticks": ""
           }
          },
          "colorscale": {
           "diverging": [
            [
             0,
             "#8e0152"
            ],
            [
             0.1,
             "#c51b7d"
            ],
            [
             0.2,
             "#de77ae"
            ],
            [
             0.3,
             "#f1b6da"
            ],
            [
             0.4,
             "#fde0ef"
            ],
            [
             0.5,
             "#f7f7f7"
            ],
            [
             0.6,
             "#e6f5d0"
            ],
            [
             0.7,
             "#b8e186"
            ],
            [
             0.8,
             "#7fbc41"
            ],
            [
             0.9,
             "#4d9221"
            ],
            [
             1,
             "#276419"
            ]
           ],
           "sequential": [
            [
             0,
             "#0d0887"
            ],
            [
             0.1111111111111111,
             "#46039f"
            ],
            [
             0.2222222222222222,
             "#7201a8"
            ],
            [
             0.3333333333333333,
             "#9c179e"
            ],
            [
             0.4444444444444444,
             "#bd3786"
            ],
            [
             0.5555555555555556,
             "#d8576b"
            ],
            [
             0.6666666666666666,
             "#ed7953"
            ],
            [
             0.7777777777777778,
             "#fb9f3a"
            ],
            [
             0.8888888888888888,
             "#fdca26"
            ],
            [
             1,
             "#f0f921"
            ]
           ],
           "sequentialminus": [
            [
             0,
             "#0d0887"
            ],
            [
             0.1111111111111111,
             "#46039f"
            ],
            [
             0.2222222222222222,
             "#7201a8"
            ],
            [
             0.3333333333333333,
             "#9c179e"
            ],
            [
             0.4444444444444444,
             "#bd3786"
            ],
            [
             0.5555555555555556,
             "#d8576b"
            ],
            [
             0.6666666666666666,
             "#ed7953"
            ],
            [
             0.7777777777777778,
             "#fb9f3a"
            ],
            [
             0.8888888888888888,
             "#fdca26"
            ],
            [
             1,
             "#f0f921"
            ]
           ]
          },
          "colorway": [
           "#636efa",
           "#EF553B",
           "#00cc96",
           "#ab63fa",
           "#FFA15A",
           "#19d3f3",
           "#FF6692",
           "#B6E880",
           "#FF97FF",
           "#FECB52"
          ],
          "font": {
           "color": "#2a3f5f"
          },
          "geo": {
           "bgcolor": "white",
           "lakecolor": "white",
           "landcolor": "#E5ECF6",
           "showlakes": true,
           "showland": true,
           "subunitcolor": "white"
          },
          "hoverlabel": {
           "align": "left"
          },
          "hovermode": "closest",
          "mapbox": {
           "style": "light"
          },
          "paper_bgcolor": "white",
          "plot_bgcolor": "#E5ECF6",
          "polar": {
           "angularaxis": {
            "gridcolor": "white",
            "linecolor": "white",
            "ticks": ""
           },
           "bgcolor": "#E5ECF6",
           "radialaxis": {
            "gridcolor": "white",
            "linecolor": "white",
            "ticks": ""
           }
          },
          "scene": {
           "xaxis": {
            "backgroundcolor": "#E5ECF6",
            "gridcolor": "white",
            "gridwidth": 2,
            "linecolor": "white",
            "showbackground": true,
            "ticks": "",
            "zerolinecolor": "white"
           },
           "yaxis": {
            "backgroundcolor": "#E5ECF6",
            "gridcolor": "white",
            "gridwidth": 2,
            "linecolor": "white",
            "showbackground": true,
            "ticks": "",
            "zerolinecolor": "white"
           },
           "zaxis": {
            "backgroundcolor": "#E5ECF6",
            "gridcolor": "white",
            "gridwidth": 2,
            "linecolor": "white",
            "showbackground": true,
            "ticks": "",
            "zerolinecolor": "white"
           }
          },
          "shapedefaults": {
           "line": {
            "color": "#2a3f5f"
           }
          },
          "ternary": {
           "aaxis": {
            "gridcolor": "white",
            "linecolor": "white",
            "ticks": ""
           },
           "baxis": {
            "gridcolor": "white",
            "linecolor": "white",
            "ticks": ""
           },
           "bgcolor": "#E5ECF6",
           "caxis": {
            "gridcolor": "white",
            "linecolor": "white",
            "ticks": ""
           }
          },
          "title": {
           "x": 0.05
          },
          "xaxis": {
           "automargin": true,
           "gridcolor": "white",
           "linecolor": "white",
           "ticks": "",
           "title": {
            "standoff": 15
           },
           "zerolinecolor": "white",
           "zerolinewidth": 2
          },
          "yaxis": {
           "automargin": true,
           "gridcolor": "white",
           "linecolor": "white",
           "ticks": "",
           "title": {
            "standoff": 15
           },
           "zerolinecolor": "white",
           "zerolinewidth": 2
          }
         }
        },
        "title": {
         "text": "3d TSNE Plot for Outliers"
        },
        "width": 900
       }
      },
      "text/html": [
       "<div>\n",
       "        \n",
       "        \n",
       "            <div id=\"740a5d76-4573-4677-8d13-5aa2235b24aa\" class=\"plotly-graph-div\" style=\"height:800px; width:900px;\"></div>\n",
       "            <script type=\"text/javascript\">\n",
       "                require([\"plotly\"], function(Plotly) {\n",
       "                    window.PLOTLYENV=window.PLOTLYENV || {};\n",
       "                    \n",
       "                if (document.getElementById(\"740a5d76-4573-4677-8d13-5aa2235b24aa\")) {\n",
       "                    Plotly.newPlot(\n",
       "                        '740a5d76-4573-4677-8d13-5aa2235b24aa',\n",
       "                        [{\"customdata\": [[0.263995357], [0.546092303], [0.33671410399999996], [0.092107835], [0.325261175], [0.212464853], [0.258565714], [0.869236755], [0.197077957], [0.292984504], [0.82178316], [0.796622959], [0.045577010999999994], [0.613660351], [0.9507445659999999], [0.33634633700000005], [0.034440667], [0.741544275], [0.18443265], [0.664514943], [0.16282485800000002], [0.729838445], [0.62837389], [0.057883660999999996], [0.445534827], [0.80183695], [0.27709612], [0.228634015], [0.834860657], [0.6697665110000001], [0.532527349], [0.17045907100000002], [0.5102884679999999], [0.977561989], [0.249775993], [0.9755006820000001], [0.613701727], [0.16742036300000002], [0.537472516], [0.379899131], [0.633897303], [0.633960424], [0.5499746529999999], [0.178172988], [0.85563814], [0.321796672], [0.8174905370000001], [0.254879417], [0.344140513], [0.8061457259999999], [0.27708167100000003], [0.544328519], [0.07708393], [0.273081458], [0.390877336], [0.349621385], [0.214549744], [0.206075222], [0.86461997], [0.9817088540000001], [0.33482964600000004], [0.648387061], [0.093643561], [0.837802698], [0.7603439670000001], [0.29140417399999996], [0.3413454], [0.7611124840000001], [0.541899775], [0.684176639], [0.983535597], [0.52081245], [0.328227724], [0.09715793800000001], [0.876088593], [0.870214512], [0.656086992], [0.306791514], [0.48126734], [0.259559174], [0.326123655], [0.930568042], [0.6583894], [0.689992335], [0.315781109], [0.5669050929999999], [0.637526619], [0.687540723], [0.324300602], [0.592704906], [0.7402531259999999], [0.5940328770000001], [0.596452977], [0.27768081699999997], [0.258329663], [0.142460864], [0.435533461], [0.7024990440000001], [0.58897535], [0.653304374], [0.336968524], [0.631244736], [0.73530076], [0.050390366], [0.064264924], [0.665359476], [0.917835245], [0.44651012], [0.661938199], [0.43935985299999997], [0.6875724040000001], [0.363462248], [0.6542621820000001], [0.578553536], [0.065927945], [0.550148559], [0.13918281400000002], [0.080004635], [0.278228358], [0.560124266], [0.53639864], [0.42653190399999996], [0.789109796], [0.742900474], [0.901692589], [0.650337401], [0.114057311], [0.260812592], [0.43991232], [0.964409284], [0.184401415], [0.345145446], [0.17589458100000002], [0.312514453], [0.674131879], [0.32825045], [0.598231057], [0.09259881699999999], [0.497916521], [0.419776521], [0.31217670000000003], [0.937857107], [0.049030963], [0.47610452600000003], [0.447397526], [0.295806058], [0.737363977], [0.625896253], [0.408813429], [0.437511156], [0.691351375], [0.935555275], [0.437846654], [0.072217715], [0.67636067], [0.468883999], [0.543820644], [0.6555226470000001], [0.6935289240000001], [0.10887831199999999], [0.285463743], [0.0], [0.706495497], [0.273530633], [0.292320271], [0.673984307], [0.12612182800000002], [0.9467074590000001], [0.9363388979999999], [0.8537553640000001], [0.7060713609999999], [0.693682186], [0.508527882], [0.34717038899999997], [0.704154263], [0.658730088], [0.155841557], [0.311085435], [0.281135347], [0.094587802], [0.6832609540000001], [0.9077292509999999], [0.29151267399999997], [0.752734459], [0.93482964], [0.071413953], [0.5948963270000001], [0.404672015], [0.13837621], [0.7473384679999999], [0.530882486], [0.282649594], [0.699335734], [0.056111250999999994], [0.855234998], [0.07789512700000001], [0.891649583], [0.38674227899999997], [0.27113158], [0.958888961], [0.085120869], [0.5269022489999999], [0.066577785], [0.841506738], [0.255342095], [0.060545771], [0.073385869], [0.187493723], [0.858365688], [0.090640352], [0.7097252270000001], [0.631300647], [0.24750447399999997], [0.822843584], [0.373476759], [0.625538582], [0.292951715], [0.299730324], [0.25121407], [0.344480551], [0.293064767], [0.7628032240000001], [0.7384708040000001], [0.674883265], [0.719151612], [0.13098021599999998], [0.511328036], [0.04492903], [0.560914449], [0.7440406409999999], [0.266961634], [0.644231853], [0.038113352], [0.05715529900000001], [0.34139246100000004], [0.7204636320000001], [0.402878236], [0.635148967], [0.320729467], [0.09120969400000001], [0.23414609], [0.8902211309999999], [0.602170884], [0.633652055], [0.806240837], [0.739731184], [0.465231269], [0.7321109], [0.373874305], [0.501587947], [0.11538315800000001], [0.7319466040000001], [0.41829872799999995], [0.062259590999999996], [0.391496379], [0.35984929], [0.24523562699999998], [0.610028339], [0.43540360200000006], [0.434309675], [0.523763344], [0.17118786600000002], [0.18773430300000002], [0.945014638], [0.027851097000000002], [0.68445706], [0.178014532], [0.643427879], [0.59588355], [0.372361682], [0.586103584], [0.271658852], [0.59951107], [0.468363088], [0.314515565], [0.21893726], [0.254716562], [0.25612815], [0.602259755], [0.134381075], [0.513887424], [0.624241636], [0.160251854], [0.580708108], [0.270540486], [0.832919932], [0.93032134], [0.719157884], [0.886720033], [0.098792281], [0.787174286], [0.365592376], [0.719576193], [0.8058956], [0.7555783340000001], [0.526005909], [0.68880424], [0.22111531199999998], [0.739369477], [0.408440236], [0.348926542], [0.433713763], [0.5964966070000001], [0.6942953000000001], [0.7090309659999999], [0.867652984], [0.89332545], [0.746020922], [0.538284443], [0.8922193140000001], [0.935175765], [0.260527707], [0.956780449], [0.204932484], [0.687733351], [0.329063619], [0.632149831], [0.463744506], [0.698859621], [0.385446564], [0.47997537700000004], [0.732279108], [0.3813543], [0.459326013], [0.257401434], [0.665014804], [0.103399542], [0.425284413], [0.943529051], [0.594750236], [0.543776817], [0.18203988], [0.23584208399999998], [0.585984497], [0.762013168], [0.6849829070000001], [0.676936933], [0.290184964], [0.48106822200000005], [0.492766033], [0.22185623399999999], [0.053875998], [0.082751144], [0.385366225], [0.702513961], [0.91553156], [0.082087436], [0.251280378], [0.41672181700000005], [0.277032672], [0.579539754], [0.569363476], [0.133399703], [0.265045463], [0.936571901], [0.252618554], [0.054033081], [0.802481439], [0.528197693], [0.9515026], [0.572121173], [0.752938227], [0.143857535], [0.513484576], [0.313322389], [0.6877973959999999], [0.37705984], [0.348226142], [0.67763282], [0.24138752100000002], [0.8506501790000001], [0.22034810300000002], [0.476445464], [0.690324025], [0.364695946], [0.6492491970000001], [0.9437019209999999], [0.529645971], [0.299097002], [0.96696247], [0.272005242], [0.314161447], [0.752020991], [0.221882453], [0.7203326729999999], [0.379204782], [0.60168653], [0.582932673], [0.950809853], [0.58830141], [0.880887227], [0.467857701], [0.8799021709999999], [0.619844009], [0.359002573], [0.291511278], [0.694157143], [0.727960353], [0.617703921], [0.39581257], [0.58317282], [0.710332374], [0.253753693], [0.049412227999999996], [0.728378695], [0.432432881], [0.58612345], [0.052342373], [0.053483902], [0.518729378], [0.933040208], [0.7035542840000001], [0.268989899], [0.733006927], [0.44435246700000003], [0.5833946210000001], [0.871172692], [0.42876707799999997], [0.30046084100000003], [0.9533294590000001], [0.606443965], [0.90986815], [0.714896449], [0.49734950899999997], [0.8530974859999999], [0.721804145], [0.303467328], [0.664485096], [0.27978062], [0.569481665], [0.628628926], [0.088368123], [0.733567326], [0.537436778], [0.638593691], [0.954726948], [0.632202332], [0.642134651], [0.744653087], [0.115714007], [0.48625007299999995], [0.440356144], [0.08272289], [0.511591027], [0.394627555], [0.224394], [0.626927584], [0.290254057], [0.779008053], [0.86610579], [0.873326081], [0.49548916], [0.594297695], [0.9182015840000001], [0.5770427539999999], [0.019467671000000002], [0.6702982820000001], [0.546595316], [0.591665146], [0.42155819], [0.6856085590000001], [0.340303024], [0.675626741], [0.319067345], [0.38849966399999997], [0.706949589], [0.559409515], [0.687663508], [0.7088045540000001], [0.6818880940000001], [0.42253510899999996], [0.320004605], [0.6582813679999999], [0.634154867], [0.7773320090000001], [0.812677205], [0.074280797], [0.39600217], [0.054933913], [0.825058925], [0.382642009], [0.8687298179999999], [0.588043346], [0.891551577], [0.10920046], [0.647682781], [0.724342512], [0.07016304400000001], [0.280882054], [0.039113261], [0.579641592], [0.639000922], [0.281745925], [0.647857744], [0.6479057970000001], [0.875226264], [0.567603305], [0.262940591], [0.268026042], [0.40519133], [0.479965451], [0.33552403], [0.777165379], [0.42548796299999997], [0.237986115], [0.142522971], [0.724176488], [0.234698933], [0.07818228099999999], [0.855990155], [0.270251765], [0.435517841], [0.762697513], [0.46448725799999996], [0.396112685], [0.37638092100000003], [0.29459467699999997], [0.6944921209999999], [0.622767949], [0.8475597220000001], [0.301463054], [0.912937812], [0.500017182], [0.902587935], [0.304517943], [0.299165673], [0.092014087], [0.488548917], [0.664664437], [0.26534954899999996], [0.723657021], [0.149262385], [0.04577339], [0.69661064], [0.42181486], [0.733845785], [0.418795386], [0.677443529], [0.26128360300000003], [0.268527767], [0.5443222360000001], [0.431632036], [0.981018141], [0.21498072399999998], [0.39472999299999995], [0.122224944], [0.297496875], [0.37490443100000004], [0.68698771], [0.388549207], [0.039296071], [0.73553424], [0.37929489299999997], [0.7321233859999999], [0.33922143899999996], [0.659450594], [0.054838642], [0.640112102], [0.30714170399999996], [0.39661190700000004], [0.420439161], [0.24171497399999997], [0.065893153], [0.9105219370000001], [0.697163103], [0.072559853], [0.81825094], [0.311888815], [0.961644609], [0.816325524], [0.14647302], [0.548753945], [0.946158087], [0.293992717], [0.331479643], [0.9062200309999999], [0.525540416], [0.83301411], [0.514849806], [0.574609024], [0.46871185299999996], [0.71002775], [0.645973276], [0.229794416], [0.551783393], [0.055822990999999995], [0.331750941], [0.715520198], [0.583924357], [0.30695769100000003], [0.7914782370000001], [0.16423663900000002], [0.065711219], [0.948993132], [0.080423835], [0.052495426], [0.566346135], [0.3630266], [0.605442195], [0.6308505839999999], [0.065791238], [0.28681707100000003], [0.685462839], [0.260853706], [0.659122429], [0.44317392200000005], [0.602063986], [0.060366910999999995], [0.781903153], [0.5145798070000001], [0.48388621299999995], [0.600213807], [0.49736405200000006], [0.411145245], [0.116999171], [0.34189014100000004], [0.746950848], [0.39629274600000003], [0.6221438429999999], [0.335271141], [0.140257137], [0.081620681], [0.069837569], [0.46894000799999996], [0.9908574170000001], [0.896616832], [0.255310561], [0.22464526699999998], [0.01991825], [0.296480415], [0.155458996], [0.577916714], [0.9563030309999999], [0.813464394], [0.529675785], [0.287671353], [0.48039136], [0.28104482199999997], [0.633196521], [0.09332537699999999], [0.28447398100000004], [0.052223775], [0.051129385], [0.967405608], [0.040045727999999996], [0.9085829209999999], [0.6621174160000001], [0.42470320899999997], [0.72207806], [0.666193327], [0.509681253], [0.7513536209999999], [0.279073124], [0.074927], [0.916359535], [0.31040327], [0.716604052], [0.485587085], [0.30607518100000003], [0.477558204], [0.7119239409999999], [0.066348638], [0.27453935100000004], [0.31082252], [0.47607312700000004], [0.186795565], [0.26654207], [0.070231142], [0.26951927], [0.800004713], [0.27363366699999997], [0.14647919199999998], [0.378318951], [0.373849065], [0.242170835], [0.249796488], [0.066591188], [0.372956798], [0.501812291], [0.313097752], [0.8802021959999999], [0.51981893], [0.364138746], [0.49268289600000004], [0.285732652], [0.890114985], [0.316419561], [0.26866354], [0.771975959], [0.968888992], [0.080334377], [0.7368282209999999], [0.30055807100000004], [0.9179503929999999], [0.465815039], [0.054036682], [0.963150123], [0.08965350300000001], [0.7076932340000001], [0.636416037], [0.539521117], [0.114757161], [0.357312419], [0.67639834], [0.43482839], [0.032326387000000005], [0.711365605], [0.187486519], [0.052789653], [0.5058636129999999], [0.927431873], [0.6809842559999999], [0.882822186], [0.495705441], [0.596240398], [0.320610701], [0.3413685], [0.159681797], [0.318133669], [0.8393010479999999], [0.06435925099999999], [0.470216633], [0.7762522909999999], [0.635843383], [0.62510543], [0.52959065], [0.986900166], [0.078585688], [0.233284267], [0.363330957], [0.7167169809999999], [0.37588979200000006], [0.223316889], [0.299343986], [0.538595767], [0.730297124], [0.66033077], [0.435296009], [0.326494313], [0.854402708], [0.5734938470000001], [0.757786135], [0.704743233], [0.281575597], [0.671968208], [0.313726015], [0.364338275], [0.368216396], [0.38629520700000003], [0.655971865], [0.5660252729999999], [0.424999093], [0.090110371], [0.772350538], [0.331047258], [0.273716188], [0.23877568], [0.37307977200000003], [0.331185868], [0.256134531], [0.678373225], [0.43463833799999996], [0.654668307], [0.986681065], [0.371520495], [0.408359618], [0.40932365], [0.283412082], [0.395246531], [0.010984428000000001], [0.306013869], [0.266194806], [0.299318521], [0.318293946], [0.74282591], [0.09766432900000001], [0.079666942], [0.613258767], [0.99443072], [0.568835082], [0.7080345159999999], [0.37059271899999996], [0.669867361], [0.651295625], [0.462531569], [0.7196256190000001], [0.45377248], [0.394863946], [0.323974831], [0.146454724], [0.7790670409999999], [0.401828915], [0.601479585], [0.856423023], [0.565242962], [0.301225108], [0.282108144], [0.594378011], [0.705312368], [0.5408696279999999], [0.319249574], [0.36176613799999996], [0.625000704], [0.316287401], [0.047239021], [0.801182233], [0.508474436], [0.8178934109999999], [0.399235601], [0.9740519990000001], [0.72241535], [0.039564764], [0.908684108], [0.47301013399999997], [0.7180496279999999], [0.7634790690000001], [0.6475965370000001], [0.8949973859999999], [0.22282590100000002], [0.359012234], [0.944910252], [0.297877816], [0.172517997], [0.556586265], [0.876481735], [0.48667784299999994], [0.459496733], [0.47412637700000004], [0.70101144], [0.337597387], [0.537578886], [0.966992448], [0.056849545], [0.233249065], [0.380054711], [0.602929443], [0.303847999], [0.170194553], [0.972168554], [0.332168927], [0.6887286890000001], [0.110773401], [0.273352065], [0.572939678], [0.491457065], [0.281389999], [0.821697261], [0.6749776829999999], [0.585134549], [0.7105961159999999], [0.040488789], [0.568054311], [0.321752928], [0.611850232], [0.926096887], [0.618347428], [0.667629785], [0.39773346600000004], [0.290875487], [0.594375103], [0.508255233], [0.338571357], [0.43230234700000003], [0.302221978], [0.87619819], [0.080204492], [0.092333532], [0.09365644699999999], [0.6084523510000001], [0.732654598], [0.944158855], [0.26742308], [0.731124201], [0.661308553], [0.38776626200000003], [0.962585273], [0.322067067], [0.6340810929999999], [0.475345002], [0.35355897299999994], [0.8859363159999999], [0.876798106], [0.221581064], [0.394362449], [0.8050356759999999], [0.452898486], [0.592520516], [0.761026394], [0.245049023], [0.37213936299999995], [0.681054822], [0.7471431479999999], [0.9207395290000001], [0.097207945], [0.699302998], [0.721647006], [0.5353561139999999], [0.738293805], [0.7064675509999999], [0.67395061], [0.7112122909999999], [0.302558708], [0.080097855], [0.707010837], [0.512248622], [0.659627472], [0.657559694], [0.100645606], [0.92665363], [0.892879338], [0.839157508], [0.890959718], [0.556754471], [0.960361937], [0.631037864], [0.029838065], [0.278843351], [0.926157705], [0.551504258], [0.485942349], [0.43723469600000003], [0.25231801800000003], [0.515466972], [0.43725229600000004], [0.493724207], [0.83324725], [0.317521477], [0.28623456199999997], [0.726833965], [0.495667033], [0.028645255], [0.31967191699999997], [0.674344598], [0.7660371890000001], [0.65456992], [0.7565143809999999], [0.528253719], [0.38971949100000003], [0.355087459], [0.87015202], [0.7390833059999999], [0.305761846], [0.411587673], [0.063633094], [0.735409395], [0.605916669], [0.539395562], [0.566183532], [0.674795186], [0.070993366], [0.12526410000000002], [0.279601492], [0.952174402], [0.233806762], [0.43724742899999997], [0.925423095], [0.433498634], [0.52517902], [0.088435529], [0.447677638], [0.647000631], [0.9036033370000001], [0.265790738], [0.66419695], [0.498120658], [0.49018894399999996], [0.747084187], [0.906783648], [0.678770917], [0.348599859], [0.294839683], [0.705691827], [0.211917931], [0.063201124], [0.276699543], [0.672459395], [0.8082059490000001], [0.296538373], [0.16012686199999998], [0.439385032], [0.555951416], [0.386240112], [0.158689619], [0.214499855], [0.299579429], [0.569161656], [0.488614799], [0.8782950209999999], [0.649380949], [0.465713341], [0.16813774], [0.87529545], [0.8411323409999999], [0.33292081], [0.5130478589999999], [0.30505507800000004], [0.8126269909999999], [0.25096706], [0.5024355779999999], [0.45799074100000003]], \"hoverlabel\": {\"namelength\": 0}, \"hovertemplate\": \"0=%{x}<br>1=%{y}<br>2=%{z}<br>Feature=%{customdata[0]}<br>Label=%{marker.color}\", \"legendgroup\": \"\", \"marker\": {\"color\": [0, 0, 1, 1, 0, 0, 0, 1, 1, 0, 0, 1, 0, 0, 1, 1, 0, 1, 1, 0, 1, 0, 0, 1, 1, 1, 0, 0, 1, 1, 0, 0, 1, 1, 1, 0, 0, 0, 0, 0, 0, 0, 0, 1, 0, 0, 0, 0, 0, 0, 0, 1, 0, 1, 0, 1, 0, 0, 0, 1, 0, 0, 1, 1, 0, 0, 1, 0, 0, 1, 0, 0, 0, 0, 0, 0, 0, 0, 0, 0, 0, 0, 0, 0, 0, 0, 0, 0, 0, 0, 0, 0, 0, 0, 0, 0, 0, 0, 0, 0, 0, 0, 0, 0, 0, 0, 0, 0, 0, 0, 0, 0, 0, 0, 0, 0, 0, 0, 0, 0, 0, 0, 0, 0, 0, 0, 0, 0, 0, 0, 1, 0, 0, 0, 0, 0, 0, 0, 0, 0, 0, 0, 0, 0, 0, 0, 0, 0, 0, 0, 0, 0, 0, 0, 0, 0, 0, 0, 0, 0, 0, 0, 0, 0, 0, 0, 0, 0, 0, 0, 0, 0, 0, 0, 0, 0, 0, 0, 0, 0, 0, 0, 0, 0, 0, 0, 0, 0, 0, 0, 0, 0, 0, 0, 0, 0, 0, 0, 0, 0, 0, 0, 0, 0, 0, 0, 0, 0, 0, 0, 0, 0, 0, 0, 0, 0, 0, 0, 0, 0, 0, 0, 0, 0, 0, 0, 0, 0, 0, 0, 0, 0, 0, 0, 0, 0, 0, 0, 0, 0, 0, 0, 0, 0, 0, 0, 0, 0, 0, 0, 0, 0, 0, 0, 0, 0, 0, 0, 0, 0, 0, 0, 0, 0, 0, 0, 0, 0, 0, 0, 0, 0, 0, 0, 0, 0, 0, 0, 0, 0, 0, 0, 0, 0, 0, 0, 0, 0, 0, 0, 0, 0, 0, 0, 0, 0, 0, 0, 0, 0, 0, 0, 0, 0, 0, 0, 0, 0, 0, 0, 0, 0, 0, 0, 0, 0, 0, 0, 0, 0, 0, 0, 0, 0, 0, 0, 0, 0, 0, 0, 0, 0, 0, 0, 0, 0, 0, 0, 0, 0, 0, 0, 0, 0, 0, 0, 0, 0, 0, 0, 0, 0, 0, 0, 0, 0, 0, 0, 0, 0, 0, 0, 0, 0, 0, 0, 0, 0, 0, 0, 0, 0, 0, 0, 0, 0, 0, 0, 0, 0, 0, 0, 0, 0, 0, 0, 0, 0, 0, 0, 0, 0, 0, 0, 0, 0, 0, 0, 0, 0, 0, 0, 0, 0, 0, 0, 0, 0, 1, 0, 0, 0, 1, 0, 0, 0, 0, 0, 0, 0, 0, 0, 0, 0, 0, 0, 0, 0, 0, 0, 0, 0, 0, 0, 0, 0, 0, 0, 0, 0, 0, 0, 0, 0, 0, 0, 0, 0, 0, 0, 0, 0, 0, 0, 0, 0, 0, 0, 0, 0, 0, 0, 0, 0, 0, 0, 0, 0, 0, 0, 0, 0, 0, 0, 0, 0, 0, 0, 0, 0, 0, 0, 0, 0, 0, 0, 0, 0, 0, 0, 0, 0, 0, 0, 0, 0, 0, 0, 0, 0, 0, 0, 0, 0, 0, 0, 0, 0, 0, 0, 0, 0, 0, 0, 0, 1, 0, 0, 0, 0, 0, 0, 0, 1, 0, 0, 0, 0, 0, 0, 0, 0, 0, 0, 0, 0, 0, 0, 0, 0, 0, 0, 0, 0, 0, 0, 0, 0, 0, 0, 0, 0, 0, 0, 0, 0, 0, 0, 0, 0, 0, 0, 0, 0, 0, 0, 0, 0, 0, 0, 0, 0, 0, 0, 0, 0, 0, 0, 0, 0, 0, 0, 0, 0, 0, 0, 0, 0, 0, 0, 0, 0, 0, 0, 0, 0, 0, 0, 0, 0, 0, 0, 1, 0, 0, 0, 0, 0, 0, 0, 0, 0, 0, 0, 0, 0, 0, 0, 0, 0, 0, 0, 0, 0, 0, 0, 0, 0, 0, 0, 0, 0, 0, 0, 0, 0, 0, 0, 0, 0, 0, 0, 0, 0, 0, 0, 0, 0, 0, 0, 0, 0, 0, 0, 0, 0, 0, 0, 0, 0, 0, 0, 0, 0, 0, 0, 0, 0, 0, 0, 0, 0, 0, 0, 0, 0, 0, 0, 0, 0, 0, 0, 0, 0, 0, 0, 0, 0, 0, 0, 0, 0, 0, 0, 0, 0, 0, 0, 0, 0, 1, 0, 0, 1, 0, 0, 0, 0, 1, 0, 1, 0, 0, 1, 0, 0, 0, 1, 1, 0, 1, 0, 1, 1, 1, 0, 0, 0, 1, 0, 0, 0, 0, 0, 0, 0, 0, 0, 0, 0, 0, 0, 0, 1, 0, 0, 0, 0, 0, 0, 0, 0, 0, 0, 0, 0, 0, 0, 0, 0, 0, 0, 0, 0, 0, 0, 0, 0, 0, 0, 0, 0, 0, 0, 0, 0, 0, 0, 0, 0, 0, 0, 0, 0, 0, 0, 0, 0, 0, 0, 0, 0, 0, 0, 0, 0, 0, 0, 0, 1, 0, 0, 0, 0, 0, 0, 0, 0, 0, 0, 0, 0, 0, 0, 0, 0, 0, 0, 0, 0, 0, 0, 0, 0, 0, 0, 0, 0, 0, 0, 0, 0, 0, 0, 0, 0, 0, 0, 0, 0, 0, 0, 0, 0, 0, 0, 0, 0, 0, 0, 0, 0, 0, 0, 0, 0, 0, 0, 0, 0, 0, 0, 0, 0, 0, 0, 0, 0, 0, 0, 0, 0, 0, 0, 0, 0, 0, 0, 0, 0, 0, 0, 0, 0, 0, 0, 0, 0, 0, 0, 0, 0, 0, 0, 0, 0, 0, 0, 0, 0, 0, 0, 0, 0, 0, 0, 0, 0, 0, 0, 0, 0, 0, 0, 0, 0, 0, 0, 0, 0, 0, 1, 0, 0, 0, 0, 0, 0, 0, 0, 0, 0, 0, 0, 0, 0, 0, 0, 0, 0, 0, 1, 0, 1, 0, 0, 0, 0, 0, 0, 0, 0, 0, 0, 0, 0, 0, 0, 0, 0, 0, 0, 0, 0, 0, 0, 0, 0, 0, 0, 0, 0, 0, 0, 0, 0, 0, 0, 0, 0, 0, 0, 0, 0, 0, 0, 0, 0, 0, 0, 0, 0, 0, 0, 0, 0, 0, 0, 0, 0], \"coloraxis\": \"coloraxis\", \"opacity\": 0.7, \"symbol\": \"circle\"}, \"mode\": \"markers\", \"name\": \"\", \"scene\": \"scene\", \"showlegend\": false, \"type\": \"scatter3d\", \"x\": [8.891522407531738, -9.413517951965332, 10.7066650390625, -3.5574111938476562, 8.165409088134766, -5.528743743896484, -6.797065734863281, -9.746139526367188, 0.034604042768478394, 6.789713382720947, -11.771869659423828, 4.403430938720703, -3.7491977214813232, 3.9956607818603516, 4.424559116363525, -2.724088430404663, -3.812335968017578, -4.550145626068115, 11.4691162109375, 3.512739658355713, -5.455722332000732, 8.486395835876465, 4.2847466468811035, -0.06902290135622025, 1.7578420639038086, 5.32070255279541, 4.342073917388916, 0.8777939677238464, 4.353518486022949, -1.7266608476638794, 1.633355736732483, -8.210803031921387, 4.600059986114502, 2.701385259628296, -0.9086894392967224, 6.614795207977295, -1.0787824392318726, 1.1558074951171875, 9.923073768615723, -6.682553768157959, -4.40574312210083, 0.15011771023273468, 0.045736346393823624, -1.1252037286758423, 1.7682522535324097, -3.162775754928589, 1.6768617630004883, -0.040239159017801285, 4.35040807723999, -4.556253910064697, -8.774672508239746, 11.876715660095215, -0.17750214040279388, -3.1549465656280518, -4.835025310516357, -7.846506595611572, -7.800886631011963, -4.058279991149902, 2.173680543899536, 7.8748698234558105, -4.597971439361572, -1.5598593950271606, -1.2371798753738403, -0.5046648383140564, -1.228988528251648, 1.6880371570587158, -4.795008182525635, -4.061904430389404, 4.450642108917236, -6.94541072845459, 1.9717639684677124, -6.049971103668213, 11.672811508178711, -6.341320991516113, 13.506890296936035, 7.6157145500183105, 4.137307167053223, -1.6781558990478516, 11.334030151367188, 7.446592807769775, 7.4174323081970215, 7.747038841247559, 5.591497898101807, -1.334774136543274, -5.974031925201416, -7.125102996826172, -2.6798408031463623, -6.825222015380859, -2.100125312805176, 9.434020042419434, 10.411027908325195, -9.898815155029297, 1.5225069522857666, -6.047630310058594, -7.127147197723389, -0.251222163438797, 0.8475627303123474, -5.5230712890625, -1.5862782001495361, 4.493483066558838, 11.486710548400879, -4.895541191101074, -5.235725402832031, -0.5466629266738892, -2.593406915664673, 3.620572566986084, 1.3014023303985596, -7.294949531555176, 12.999176979064941, -1.3555411100387573, 10.356304168701172, 11.443115234375, -11.217789649963379, 6.963716983795166, 9.10257339477539, 8.740092277526855, -10.33949089050293, -5.996490478515625, -4.814255714416504, -2.189706563949585, 8.5848970413208, -0.23568695783615112, -8.04982852935791, -2.2677948474884033, 0.41540268063545227, -7.331656455993652, -5.9274067878723145, -4.830208778381348, -5.865878105163574, -6.978538513183594, -2.4509806632995605, 0.8491100668907166, -7.725308895111084, -6.99691915512085, -6.161566734313965, 7.159551620483398, 6.012379169464111, -5.130396842956543, -6.326745510101318, -3.645517349243164, -7.1092352867126465, 7.8277997970581055, -0.42450347542762756, 6.708785533905029, -2.8054111003875732, 5.862552165985107, -9.358262062072754, -4.504490852355957, -7.5480546951293945, 1.3144725561141968, 10.503957748413086, 9.251203536987305, -5.570138931274414, -0.17828427255153656, 9.551644325256348, -0.20452024042606354, -2.9894769191741943, -3.64917254447937, 12.409943580627441, -5.811083793640137, -9.88057804107666, -3.583540678024292, 10.491952896118164, 9.832698822021484, -4.977457523345947, -5.202890872955322, -6.409614086151123, 1.4335025548934937, 6.199714660644531, 0.8878208994865417, 1.417330265045166, -5.681056022644043, -4.3866143226623535, 8.267520904541016, -0.5375578999519348, -5.983702182769775, -4.20966911315918, 8.335810661315918, -8.017949104309082, -4.784242153167725, -2.6083552837371826, -1.1926695108413696, -9.637371063232422, 0.04787377640604973, 0.6682468056678772, -9.151704788208008, -0.30363595485687256, -2.7844038009643555, 6.620296001434326, 8.885722160339355, -4.597716331481934, 7.338940143585205, -10.289238929748535, 9.351402282714844, -10.494023323059082, -9.003024101257324, -3.261181116104126, -8.245135307312012, 12.591948509216309, 0.0710148736834526, -0.2936800420284271, -3.297330617904663, -6.576308250427246, 5.801881313323975, 9.742899894714355, -8.242260932922363, 6.539192199707031, -0.8481076955795288, -2.0126185417175293, -5.491826057434082, -1.2427080869674683, -0.691926896572113, -0.0849415734410286, 9.081804275512695, -0.17704811692237854, -2.245967149734497, -5.673483848571777, -2.6660382747650146, -0.9581670761108398, -2.160783290863037, 10.426191329956055, -5.2845377922058105, 5.425778865814209, 12.406376838684082, -9.033169746398926, 6.483777046203613, -1.014719009399414, 5.790322303771973, -6.449951171875, -0.3725954294204712, -8.03397274017334, 1.352358102798462, -5.670674800872803, -5.086852550506592, -3.1965887546539307, -4.931968688964844, -3.5545716285705566, 8.110244750976562, -4.885541915893555, 8.670774459838867, -1.1074107885360718, -4.549032688140869, 6.777688503265381, -6.776071071624756, -8.183049201965332, -8.131837844848633, 7.13250732421875, 11.511834144592285, -1.1493382453918457, 4.875342845916748, -0.4495600461959839, -2.254993200302124, -5.739116668701172, -3.47298002243042, 4.0663628578186035, 1.1292015314102173, 8.579007148742676, -6.4366841316223145, -0.6506772637367249, -3.16678524017334, 6.838335037231445, -2.5234837532043457, 8.014447212219238, -2.026301860809326, 0.7335442304611206, -6.740628719329834, -5.722411155700684, -10.148395538330078, 13.010990142822266, -7.487006664276123, -5.785152912139893, -9.05839729309082, 9.000375747680664, 6.857072353363037, -4.814886093139648, -3.776296854019165, -0.23469866812229156, 7.401432514190674, -6.029183864593506, 6.599088191986084, -1.2727781534194946, 6.537223815917969, 6.3933844566345215, 6.656033515930176, 8.762191772460938, -7.504849910736084, -2.3202435970306396, -5.381876468658447, -8.026352882385254, 12.561405181884766, 9.715679168701172, -5.640983581542969, 1.5845853090286255, -6.884343147277832, -1.2390598058700562, -8.677350044250488, -8.350777626037598, 9.14647388458252, 0.712169349193573, 8.501727104187012, -7.580288410186768, -6.488800525665283, 0.24801850318908691, -7.890777111053467, -6.258810043334961, 12.105958938598633, -5.019866943359375, 10.791223526000977, -4.0686750411987305, 0.36672934889793396, 0.27678564190864563, -4.874050140380859, -0.6134113073348999, 7.994931221008301, -3.92030668258667, 9.809667587280273, 0.6806588172912598, -7.14290189743042, 12.424575805664062, -7.372076511383057, -7.372768878936768, 9.160665512084961, -5.867407321929932, -5.052433013916016, 8.07085132598877, 8.068546295166016, -4.184047698974609, -6.816207408905029, 3.815941095352173, -7.214472770690918, -10.33609676361084, -1.4949884414672852, -3.5314390659332275, 2.194323778152466, -6.551088333129883, 3.977379083633423, -6.519680500030518, 6.933249473571777, -0.6244921088218689, -0.10104449838399887, 7.944471836090088, 7.094050407409668, -4.838067531585693, -0.7993348240852356, -8.861648559570312, 4.360132694244385, -7.067747116088867, -6.184692859649658, -5.12204647064209, -2.07957124710083, -1.3811770677566528, 8.50265121459961, -3.396639823913574, -8.699049949645996, -2.271460771560669, 7.463606357574463, -0.391679048538208, -3.7223894596099854, 0.4614463448524475, 7.480968952178955, -8.329644203186035, -5.13657283782959, 0.5709672570228577, -3.500814914703369, -5.931055068969727, 10.330938339233398, -1.437711238861084, -8.297359466552734, -6.539418697357178, -7.7208404541015625, -0.9011650085449219, -1.1590737104415894, 5.39781379699707, 4.048512935638428, -5.755164623260498, -1.245874285697937, 11.753877639770508, -6.595147609710693, -7.77342414855957, 7.405104160308838, -6.857080459594727, -0.3079923093318939, 12.8490629196167, 12.148336410522461, -7.744028568267822, 0.8508018255233765, 2.042367458343506, 1.405335545539856, -0.6472753882408142, 11.33742904663086, -2.9706151485443115, 1.3987505435943604, 10.333808898925781, 8.518534660339355, -3.2233715057373047, -8.82186508178711, 3.830843925476074, -7.798377513885498, 9.073720932006836, 6.484192848205566, -1.8894944190979004, -3.2862300872802734, -4.897327423095703, -8.9180269241333, -7.486111164093018, -9.754409790039062, 7.9392828941345215, 0.9185317158699036, -6.4799089431762695, -9.151321411132812, -7.54506778717041, 7.814958572387695, -1.8903188705444336, 11.255736351013184, -5.778972148895264, 0.6820743083953857, -5.941320896148682, -7.099489688873291, -6.748373508453369, 4.161215782165527, 11.422752380371094, -0.263161838054657, -5.319598197937012, -7.663589954376221, 5.9112548828125, -6.95975923538208, -7.493011951446533, -6.8186187744140625, 10.890116691589355, 3.8638956546783447, 8.83320140838623, -8.56000804901123, -1.6427165269851685, -6.540161609649658, 1.906224012374878, -1.9977377653121948, -3.9719631671905518, 5.048979759216309, 12.564896583557129, 9.94599723815918, 4.4214582443237305, 10.872113227844238, 9.58966064453125, 4.565967082977295, -2.2778425216674805, -4.654685020446777, 0.7933306694030762, -2.415403366088867, 4.579235553741455, -1.7367907762527466, -2.8734278678894043, 6.193013668060303, -1.778905987739563, 11.89261245727539, -10.686358451843262, -6.284093856811523, 0.3260320723056793, 6.179965496063232, 11.65031623840332, 10.908380508422852, -8.289827346801758, 8.553695678710938, 0.4146338999271393, 8.761750221252441, -0.34626179933547974, 10.610779762268066, 13.121554374694824, 0.9069034457206726, -5.434834003448486, 6.271861553192139, 8.111461639404297, -1.4514726400375366, -2.4088687896728516, 7.80156946182251, -1.053752064704895, -9.91169548034668, -8.70584487915039, -4.9248528480529785, 6.319552898406982, -6.9800214767456055, -3.5960776805877686, -2.285123348236084, -5.871182441711426, 4.49354362487793, -9.79199504852295, 5.035773754119873, -4.935148239135742, 11.68165111541748, 7.576120376586914, 8.726984024047852, 10.466469764709473, -9.342788696289062, -2.736647367477417, 0.9486225843429565, 6.7298173904418945, -9.217754364013672, -9.13392162322998, -7.296733856201172, -1.7979655265808105, 10.31273365020752, -6.357174873352051, 0.7419403195381165, 7.98459529876709, -1.6611918210983276, 10.748363494873047, 8.196863174438477, 12.952588081359863, -5.924799919128418, 12.335860252380371, -0.6200335025787354, 8.066399574279785, -4.2719526290893555, -4.875362873077393, -0.610040009021759, 10.053380012512207, -1.596512794494629, -0.38882189989089966, 12.467002868652344, -1.122711181640625, -5.6515655517578125, 12.722864151000977, 4.217159748077393, -1.2645485401153564, 3.451273202896118, -0.8417483568191528, -11.219720840454102, 12.041627883911133, -6.552077293395996, -0.30216479301452637, 10.417464256286621, -5.182928562164307, -1.550191044807434, -6.257034778594971, -0.48930010199546814, -8.895380020141602, -0.1546625792980194, -10.185009956359863, 5.9079270362854, 3.762941598892212, -7.6821393966674805, -3.5109243392944336, -7.2392354011535645, -7.592030048370361, -7.52097749710083, -6.475413799285889, -7.023019790649414, 4.776741027832031, -6.93339204788208, -8.678315162658691, 5.871771812438965, 0.11478152871131897, 7.015415191650391, 5.397256374359131, 12.428985595703125, -3.2250757217407227, -4.231937408447266, -6.260119915008545, 14.109213829040527, -5.479532241821289, 1.23704993724823, 5.234502792358398, -1.1491278409957886, -3.689934492111206, -10.402667999267578, -2.3531956672668457, 7.434296607971191, -3.7160396575927734, 0.4490503966808319, -10.290555953979492, -10.467277526855469, 9.904298782348633, -9.73617935180664, -8.751246452331543, -1.9875216484069824, -9.21972942352295, 0.579984188079834, -7.209425449371338, -7.4028191566467285, 7.159725666046143, 9.23427677154541, 11.335637092590332, 10.278532028198242, 4.619925022125244, -7.344010829925537, -4.004234790802002, 6.333021640777588, 10.135749816894531, -0.35733622312545776, -9.570358276367188, -1.5398832559585571, -3.9036171436309814, -2.491452217102051, 1.2878148555755615, -8.232559204101562, -1.5338621139526367, 0.08540148288011551, -7.365029811859131, -0.18131621181964874, -5.782674789428711, 4.661547660827637, -5.499570369720459, -0.04740117862820625, -0.2490876466035843, -7.785583019256592, -7.671065330505371, -6.438658237457275, -7.51039981842041, -0.4688569903373718, -2.6608834266662598, -6.235774993896484, -1.1494117975234985, 8.954368591308594, 12.236770629882812, 8.927971839904785, 8.245471000671387, -3.5298681259155273, 0.00016284536104649305, -1.7235090732574463, 0.5770095586776733, 10.115470886230469, 0.7083203792572021, -1.0949136018753052, 0.13967184722423553, -0.577351450920105, 4.018309116363525, -8.639656066894531, -9.533787727355957, 9.234294891357422, -0.47177383303642273, 8.75240707397461, -2.2303292751312256, -8.030202865600586, 13.51822280883789, 4.9059672355651855, 9.5686616897583, 4.034914493560791, 8.296733856201172, 0.12383070588111877, -10.729825973510742, -2.028944969177246, 9.768891334533691, -5.6717119216918945, -8.897522926330566, 7.497732162475586, -0.24554091691970825, 11.31826114654541, 7.313202381134033, 6.430853843688965, 3.0758516788482666, 9.513541221618652, -0.9659071564674377, -3.7281181812286377, -0.9491655230522156, -6.418292999267578, -5.936792373657227, -5.921764850616455, 4.994556903839111, 7.297720432281494, 1.636304259300232, -1.5690041780471802, 0.8231781125068665, -0.29964905977249146, -0.14723050594329834, 8.785609245300293, -7.252321720123291, -3.941964626312256, -4.419851303100586, -7.343252658843994, -8.273953437805176, -5.035236835479736, -3.4405581951141357, 6.837447643280029, -0.5768544673919678, -1.275028944015503, -5.539100646972656, -0.5745747685432434, -6.9060564041137695, -9.861828804016113, -7.096622943878174, -6.863040924072266, 5.873513698577881, -0.7904928922653198, 8.143404960632324, -4.4847798347473145, -5.243014812469482, -5.438905715942383, 4.9110798835754395, -5.39805269241333, -10.609040260314941, 1.4399107694625854, -3.5773603916168213, -0.20731088519096375, -1.2370390892028809, -3.3761391639709473, -10.749410629272461, -5.670677661895752, 7.507017135620117, 6.453305721282959, 11.348798751831055, 0.030618473887443542, -0.48559412360191345, 1.772847294807434, 4.01324462890625, 4.392656326293945, 5.734903812408447, -7.743495941162109, -9.557080268859863, -0.6282649636268616, 2.2330117225646973, -1.2042627334594727, 2.495255708694458, -2.92399525642395, 1.2390981912612915, 5.144840717315674, 4.191032886505127, -7.183314323425293, -5.596587181091309, -3.830824851989746, 4.336292743682861, 0.7579971551895142, 11.434000015258789, -11.869060516357422, -4.814547061920166, 11.898214340209961, -0.39398181438446045, 4.5800395011901855, -1.287970781326294, -5.274871349334717, -4.713345527648926, -6.159851551055908, -1.6368107795715332, 4.6557817459106445, -0.9732622504234314, -2.1209938526153564, -0.08191879093647003, -10.918087005615234, 9.05311393737793, 9.611700057983398, 9.934306144714355, -0.040326982736587524, 1.3321342468261719, 6.379651069641113, 7.027663707733154, -1.9827983379364014, 9.074970245361328, 9.24370002746582, 7.848208427429199, -10.043889999389648, 6.79040002822876, 0.7754093408584595, -8.60629940032959, 5.444468021392822, -7.378602027893066, -10.456618309020996, -2.0678160190582275, 8.764387130737305, 7.308271408081055, -2.8110930919647217, -0.6565473675727844, -6.138040542602539, -0.09362442046403885, -0.5438151359558105, 0.9673277735710144, -7.331967830657959, 9.646842956542969, -8.58067798614502, -9.804237365722656, 6.707996845245361, -7.1591901779174805, 7.67664098739624, 7.317142009735107, 5.795510768890381, 0.7909125685691833, -7.947516918182373, 8.020157814025879, -3.260035514831543, -0.40462034940719604, -0.03863704204559326, 13.575309753417969, 9.323843955993652, 8.482447624206543, -9.134651184082031, -6.048182487487793, 10.061017036437988, 11.124051094055176, 0.4488420784473419, -2.6766250133514404, -6.190645217895508, 8.683056831359863, 5.585904598236084, -7.161962985992432, 7.595602989196777, -0.446957528591156, 12.872923851013184, -10.595369338989258, -9.510014533996582, -1.1050100326538086, 5.149606227874756, 9.89105224609375, -4.2409234046936035, -2.3439574241638184, 0.7620989084243774, -0.5913059711456299, -8.924260139465332, 8.87849235534668, -5.47571325302124, -1.8900561332702637, -4.580277919769287, -7.777350425720215, -0.6800751686096191, 5.005561351776123, -3.0005719661712646, 12.940974235534668, 11.286333084106445, -6.652703285217285, 4.334620952606201, -4.964972972869873, -8.322943687438965, -4.220511436462402, -6.741014003753662, -10.541783332824707, 7.592647075653076, 9.623454093933105, -5.622554302215576, -4.054008483886719, -2.11002254486084, -7.941137313842773, 8.43410873413086, 10.392568588256836, -0.7962812781333923, -4.126870632171631, 7.592928409576416, -0.5044727325439453, -2.4788506031036377, 6.421707630157471, -6.8481550216674805, 5.34147310256958, 7.4580230712890625, -10.435765266418457, -2.1201343536376953, 9.23077392578125, -0.47575533390045166, -6.273959159851074, -5.824936866760254, -7.731964111328125, -7.6107258796691895, -8.047425270080566, 9.567138671875, 9.972552299499512, 0.5779260396957397, -6.179355621337891, 12.281392097473145, -1.1792781352996826, 8.914628028869629, -0.5534328818321228, -6.285703182220459, -2.4166500568389893, -7.916819095611572, 7.827511787414551, -0.6410594582557678, 10.330384254455566, 7.334773063659668, 1.5123084783554077, 7.434065818786621, -5.0685038566589355, -5.347970962524414, -6.622021198272705, 5.9966511726379395, -7.661314010620117, 8.376903533935547, -10.830305099487305, -0.25206074118614197, -2.765012502670288, 9.79027271270752, -8.24638557434082, 0.42591848969459534, -2.9360153675079346, -2.6776533126831055, 5.968045234680176, 8.635732650756836, 8.981879234313965, 11.452065467834473, 6.870075225830078, -4.728638172149658, -8.02930736541748, -10.811513900756836, 9.282693862915039, 0.9379845857620239, 8.506121635437012, -1.5338584184646606, 5.5857133865356445, -0.353384405374527, 5.127499580383301, 7.036942005157471, 0.27336350083351135, 7.908422470092773, 7.188549041748047, -6.415728569030762, -0.174305260181427, -2.16611647605896, -4.851991176605225, -2.7134573459625244, -2.1014082431793213, -8.02112102508545, 8.297070503234863, 6.162638187408447, -8.395105361938477, -7.26235818862915, 4.749744415283203, 12.511587142944336, -4.775595664978027, -0.10623501986265182, 1.7871975898742676, 13.668089866638184, -0.30519792437553406, 9.142449378967285, 5.2387285232543945, -7.817275524139404, -8.392134666442871, -11.119869232177734, 11.843855857849121, -7.651914596557617, -2.1245028972625732, 7.016805648803711, -7.022312164306641, 10.291172981262207, -9.076906204223633, 6.095236301422119, 0.5371050238609314, -6.669086456298828, 8.737846374511719, -1.3996663093566895, -2.087540626525879, 1.6089330911636353, -7.757167816162109, 3.6736795902252197, 0.5383289456367493, 9.347465515136719, -8.086624145507812, -10.736882209777832, 7.775721073150635, -2.5998334884643555, 10.4744291305542, -7.268848419189453, 11.575589179992676, -0.043600376695394516, 10.367338180541992, 9.684549331665039, -5.779171466827393, -9.493097305297852, 6.055050373077393, 0.6584154367446899, -8.456402778625488, -5.73447847366333, 1.4982904195785522, -5.926828384399414, -10.748005867004395, -1.34593665599823, -2.503594160079956, -1.6069806814193726, -9.429694175720215, -0.11640475690364838, 8.338827133178711, 11.810857772827148, 7.199808597564697, -4.667736053466797, -6.0741496086120605, 12.395195007324219, -0.5136942863464355, -3.1171152591705322, -0.6322617530822754, 9.918279647827148, 7.783274173736572, 8.999044418334961, 6.811208724975586, -8.007806777954102, -6.5089545249938965, -0.9281989932060242, -0.9139812588691711, -6.503572940826416, -0.9031664133071899, 11.60413646697998, 8.60191535949707, -8.125268936157227, -1.5626155138015747, -3.4686264991760254, -2.4290664196014404, -8.671616554260254, -9.8826265335083, 5.51116418838501, -5.552391052246094, 13.137855529785156, 11.31479263305664, 9.223138809204102, -1.3071566820144653, 6.722663402557373, -2.9535956382751465, 8.253619194030762, -6.463418006896973, 4.9525041580200195], \"y\": [0.6387796401977539, 2.2613346576690674, 0.3747824430465698, 3.113109588623047, 0.5935515761375427, 0.42756274342536926, -3.762953996658325, 2.1583666801452637, 0.4558740258216858, -1.228460431098938, 3.5824875831604004, -4.351094722747803, -3.2377302646636963, -2.864922523498535, 5.1813645362854, -0.7405679225921631, -3.3060529232025146, 6.38923978805542, 0.7815305590629578, -3.8838977813720703, 0.17269639670848846, -3.9606192111968994, -2.1364665031433105, 1.1188530921936035, -1.1805801391601562, -4.6735124588012695, -3.52445650100708, 0.5811954140663147, 6.1284708976745605, 6.27155876159668, 2.1735689640045166, 0.6553846001625061, -2.6345221996307373, 6.203271865844727, -5.366100311279297, -3.6755902767181396, 4.0615949630737305, 0.39740023016929626, -2.6189472675323486, -0.06827661395072937, -3.174575090408325, 4.445886611938477, -1.223365068435669, -1.5708800554275513, 3.7464308738708496, -0.947772204875946, 4.724030494689941, 0.9769294857978821, -4.129148006439209, 1.9133657217025757, 5.971620559692383, 1.2117377519607544, -3.0615673065185547, -0.9826295375823975, 2.35359525680542, -2.7757301330566406, -0.2514948844909668, -3.0148067474365234, 5.855719089508057, 3.7632036209106445, -5.244894027709961, 5.414646148681641, 1.4696062803268433, 4.501994609832764, 0.8337497115135193, 5.142270565032959, -4.87147855758667, 6.618849277496338, -2.8898797035217285, -0.5040754675865173, 4.462674140930176, 0.8610745072364807, -2.3367326259613037, 5.060410022735596, -6.821065902709961, -3.7666566371917725, -1.0674033164978027, 2.8061115741729736, -7.4102783203125, -6.628406047821045, -5.900470733642578, -5.642918109893799, 1.9113402366638184, 4.434091567993164, -0.9215928316116333, 3.912415027618408, 3.7283754348754883, 2.6477601528167725, -5.109057426452637, -6.034776210784912, -3.532975912094116, 3.5603034496307373, -1.2043286561965942, -2.6215949058532715, -1.9420993328094482, 2.36253023147583, -1.8810120820999146, 5.284120082855225, 0.671134352684021, 0.1383850872516632, -2.844452142715454, 0.4120243489742279, 4.718361854553223, -3.857722282409668, 3.157649040222168, -2.481301784515381, 2.8810110092163086, 7.642574787139893, -7.68301248550415, 3.60197377204895, -6.963261604309082, -4.861931800842285, 5.546649932861328, -3.25386905670166, -0.17302937805652618, -7.329798698425293, -2.7774617671966553, -2.6820287704467773, 4.023818492889404, 0.931950032711029, -7.502350807189941, -4.281375408172607, 6.375226020812988, -0.20239539444446564, 6.320468902587891, 3.380164861679077, -1.8324620723724365, 2.1093552112579346, 0.04923171550035477, 4.5213422775268555, -6.665406703948975, -2.5455405712127686, 5.494403839111328, -2.950514078140259, 0.41908660531044006, -0.4217238426208496, -0.6694892644882202, 4.262165069580078, 1.9900797605514526, 1.614080786705017, 4.882017135620117, -6.420165538787842, -4.56548547744751, 0.12125341594219208, -0.180495023727417, -4.167849540710449, 1.1662755012512207, -1.2065784931182861, 1.7875295877456665, 1.9906858205795288, -7.1361589431762695, -4.743847370147705, 7.182607173919678, -5.508452892303467, -3.365537405014038, -1.6377170085906982, 1.2404518127441406, -0.9208520650863647, -3.5725386142730713, 3.6309092044830322, -3.49056339263916, -3.81821608543396, -3.5825090408325195, -8.234787940979004, 2.1573472023010254, 0.3914868235588074, 5.113221168518066, 5.979322910308838, 2.6131389141082764, 5.981874465942383, 2.147369623184204, 5.232761383056641, 0.004834931809455156, -0.8899820446968079, 5.046189308166504, 2.3558454513549805, 1.4566383361816406, -0.25138628482818604, 1.2919381856918335, 2.9997737407684326, 6.4702653884887695, 2.105293035507202, 0.060873597860336304, 7.616729736328125, 6.715468883514404, -3.0679142475128174, 2.312462568283081, -6.264700889587402, -4.383642196655273, -4.860424995422363, -0.7467190623283386, -0.8730189800262451, 3.9532527923583984, -0.8525097966194153, 1.0789456367492676, -3.106044054031372, 7.464168548583984, 8.087925910949707, -2.7443222999572754, 6.4782609939575195, -5.613989353179932, 2.207728862762451, -3.238232374191284, 1.632027268409729, 0.04138168692588806, 0.21930287778377533, -8.460537910461426, -5.937956809997559, 2.5759782791137695, -0.6583744883537292, 5.1378493309021, 0.34765973687171936, 3.005058526992798, -7.48056697845459, -4.39406681060791, -3.1366066932678223, 0.17872880399227142, 2.2518484592437744, 3.3774285316467285, 1.4292006492614746, -0.23043270409107208, 5.227649211883545, 0.623360812664032, -8.115094184875488, 0.91698157787323, -8.174612998962402, -1.660156488418579, -5.530531883239746, -0.1926816999912262, -2.192870616912842, -2.3121981620788574, -1.1442432403564453, 3.5216164588928223, 3.878495454788208, -2.3202738761901855, 5.668797492980957, 0.07389245182275772, -4.746649742126465, 1.827793836593628, -0.9483928680419922, -5.788576602935791, 8.75592041015625, 0.8646035194396973, 1.6744509935379028, 0.019206453114748, 1.096872091293335, -2.6111671924591064, -5.222463607788086, -2.3544020652770996, -1.8462344408035278, -7.152914047241211, 3.3618528842926025, 0.4730762541294098, -4.260531425476074, -3.226491928100586, 2.428917407989502, 0.5357823371887207, 0.5077386498451233, -1.9658197164535522, -0.18784630298614502, -0.3217308521270752, -5.910272598266602, -1.4342018365859985, 5.878537178039551, -6.004451274871826, 1.9559110403060913, 4.221985816955566, -0.12778636813163757, -7.464938640594482, 8.79603385925293, 7.752444267272949, -2.115938425064087, -0.5007554888725281, -0.20926974713802338, 2.757014036178589, -5.314280986785889, 1.5467422008514404, -0.9178571105003357, 6.939027309417725, -4.068711280822754, -1.4298690557479858, -0.03149697184562683, -3.115185260772705, -1.8711694478988647, 0.17387014627456665, 5.391573905944824, 1.5711582899093628, 4.900869369506836, 1.4839677810668945, -2.0053935050964355, -7.11807918548584, -1.809850811958313, 2.6182217597961426, 5.192943572998047, 4.509161949157715, 5.58939790725708, 0.6735819578170776, -7.103960037231445, 3.599168539047241, -0.8135483860969543, 3.009500741958618, -0.7194662690162659, 4.378633499145508, 0.7224563360214233, -0.7008538246154785, -4.227446556091309, 6.881843566894531, -4.094732284545898, -2.9007468223571777, 7.029893398284912, 6.597393989562988, -2.988769769668579, 1.4117064476013184, -0.7756524085998535, 9.389394760131836, 0.12356436252593994, 5.754916191101074, -0.5082300901412964, -4.98301362991333, -2.8653836250305176, 3.647568702697754, -2.332440137863159, 1.8710753917694092, 1.6804893016815186, -9.442164421081543, -3.1326591968536377, 3.5814855098724365, 3.827319860458374, 2.272073984146118, -0.09891676157712936, -0.27069225907325745, 0.6421424746513367, -5.9249653816223145, -2.0313897132873535, 3.003429651260376, -0.26217013597488403, 3.639453887939453, 0.11117877811193466, 2.5746586322784424, -0.15165427327156067, 0.541939377784729, -4.146177768707275, 4.285828590393066, -6.026259422302246, 2.303518772125244, 1.6655105352401733, -3.0967886447906494, -2.3778674602508545, 2.68241548538208, 0.80014967918396, 2.86497163772583, -0.383152574300766, -0.5948046445846558, -1.7448644638061523, 1.5080950260162354, -3.584179639816284, -4.125420570373535, 4.672992706298828, 3.5745842456817627, -4.31328821182251, 3.327662706375122, 5.7529096603393555, -0.5885199308395386, -1.9243463277816772, 2.412299394607544, -3.788806676864624, 4.638644695281982, -1.8290733098983765, 0.4841614365577698, 8.257553100585938, -0.06999596208333969, -5.6151628494262695, -1.347623586654663, 2.8099613189697266, 1.8554868698120117, 0.6169572472572327, -6.119933605194092, -0.22420446574687958, -2.6255555152893066, -5.289609909057617, 3.003993034362793, -2.179241418838501, -6.094745635986328, -1.4162236452102661, 3.896135091781616, -1.3862382173538208, 2.5074498653411865, 2.190180540084839, 6.39375114440918, -5.009072303771973, 2.0119760036468506, -1.9144601821899414, -1.691141128540039, -4.703009128570557, -1.5740082263946533, -1.8899319171905518, -2.231189727783203, -0.08821605890989304, -2.668027400970459, -2.734466314315796, 1.2592272758483887, 3.918494701385498, -2.8283820152282715, 0.39845970273017883, 1.014441728591919, -0.918788731098175, 2.2103779315948486, -2.7925827503204346, 4.605878829956055, 6.828153133392334, 3.7354447841644287, -5.518709659576416, 4.338415145874023, -4.57418966293335, -2.4496827125549316, -1.1041624546051025, 3.6617212295532227, 0.7613332867622375, 4.2182087898254395, 1.8699792623519897, -5.192971229553223, 4.121683597564697, 5.4477667808532715, 2.8223214149475098, 2.96779203414917, 0.8158449530601501, -2.2648744583129883, -0.357822060585022, -1.5759037733078003, -0.6388902068138123, -6.899966239929199, -3.7135229110717773, 4.154253005981445, -0.3835885226726532, 3.8395209312438965, 6.041975498199463, -0.15754491090774536, -0.5112510323524475, -7.639725208282471, 0.6138156056404114, -2.738637685775757, -6.772861003875732, -0.09729142487049103, -0.07150427252054214, -3.752070665359497, 1.4712507724761963, 4.761017799377441, -5.214278221130371, -0.5043390393257141, 3.6407577991485596, 3.231954336166382, -0.6583985090255737, -0.2810753881931305, -4.430301189422607, 4.560665130615234, -1.9816988706588745, 4.985358238220215, -0.5864339470863342, -7.1898088455200195, -8.61059856414795, 4.28758430480957, 1.1676805019378662, -0.294792503118515, -4.221349716186523, 2.2480721473693848, -3.623419761657715, -7.9095916748046875, 5.182868957519531, 0.4120227098464966, 1.7322378158569336, -7.585739612579346, -1.389114260673523, 3.3361809253692627, -2.034947395324707, 1.1104069948196411, 0.7875677347183228, -2.5936038494110107, -0.5024306774139404, 0.48917683959007263, 2.3882365226745605, -2.057938575744629, 4.106118679046631, -1.471407175064087, 1.5160107612609863, -3.0632214546203613, 0.32203224301338196, 6.0875067710876465, -1.2984427213668823, 0.09227384626865387, -2.013911724090576, -4.946442604064941, 5.098459243774414, -0.8474385738372803, 3.957810878753662, 1.151841163635254, 0.45864224433898926, 7.040546417236328, 4.2244343757629395, -4.758356094360352, -5.633454322814941, 2.071782350540161, 1.2914520502090454, -3.9922895431518555, -4.77545690536499, -1.1414294242858887, -1.5938204526901245, -6.703954219818115, -2.9501585960388184, -1.8919833898544312, 1.7248138189315796, -0.2523397207260132, -1.13382887840271, 7.832674980163574, 0.3304626941680908, -7.567485332489014, -5.812460899353027, -7.03938627243042, -7.117717742919922, 3.1037144660949707, 7.388257026672363, -4.182812690734863, 2.7994377613067627, -0.34843283891677856, 2.569610834121704, 2.8256938457489014, -2.0563154220581055, -0.6881638169288635, -0.6329575181007385, 5.0054755210876465, 0.6635334491729736, 4.924208164215088, 3.548405885696411, 5.097875118255615, -0.47676268219947815, 4.476541519165039, 6.327630043029785, 0.09318442642688751, 1.155672550201416, -0.9672468900680542, 8.585090637207031, 2.2767765522003174, 1.559177279472351, 4.0291428565979, 1.012194037437439, -1.867712140083313, 6.509047985076904, -3.8231093883514404, 1.7750757932662964, 0.03403405845165253, -3.2261033058166504, -4.0433268547058105, -2.4320056438446045, -1.9598407745361328, -3.573112726211548, -5.317911624908447, 3.0972683429718018, 4.819973945617676, -5.31293249130249, 3.9043047428131104, 2.616856336593628, -0.3105843961238861, 3.772212028503418, -4.995877742767334, 1.8010482788085938, 1.152815580368042, -8.12446117401123, 0.9912129640579224, 1.3654909133911133, 0.4618475139141083, 3.1534461975097656, -0.4316638708114624, 4.032843112945557, 1.2331756353378296, 0.8448925018310547, 1.9804491996765137, 5.8140411376953125, 0.882021963596344, 2.0997462272644043, -1.4259674549102783, -8.150410652160645, -4.353640079498291, -6.635568618774414, 2.8433544635772705, -0.08464553952217102, -2.7750370502471924, -8.57847785949707, 0.48267993330955505, 2.0883138179779053, -0.005854369606822729, 4.364635944366455, 4.349780559539795, -3.519075393676758, 1.332287311553955, 0.9532170295715332, 0.42344409227371216, -4.733248233795166, 1.6239609718322754, 3.2459332942962646, -0.5200273394584656, -0.011353934183716774, 4.431885242462158, -4.855778217315674, 1.590498685836792, -3.2353835105895996, 0.9793514013290405, 1.7627263069152832, 3.360715866088867, 1.0995839834213257, 1.193050742149353, 2.8460323810577393, -0.6681869626045227, -6.562524795532227, -4.189333915710449, 0.21339058876037598, -3.043687582015991, -4.442467212677002, -4.3399434089660645, -5.704079627990723, 5.848931312561035, 0.5499715209007263, 0.31237146258354187, -3.725719928741455, -6.784896373748779, 2.5517966747283936, 2.798473834991455, 2.8897058963775635, -3.08549165725708, 0.29936596751213074, -2.8948521614074707, -4.693935871124268, -7.125126361846924, 7.282259941101074, -6.270411491394043, 2.312208652496338, -5.82387113571167, -0.9292532801628113, -7.957442760467529, 0.19816750288009644, 4.193853378295898, -0.19990292191505432, 0.05648243799805641, -0.850301206111908, -2.794285774230957, -5.90935754776001, 0.521782398223877, -3.723386764526367, 1.9486302137374878, -1.7412681579589844, -0.40243369340896606, -1.1144615411758423, -1.6451168060302734, 1.2743419408798218, -2.3217852115631104, 5.149661540985107, 2.248959541320801, 1.0993576049804688, 0.5727896094322205, -1.5687073469161987, 1.39983069896698, 3.374987840652466, 5.2721967697143555, -4.056291580200195, 1.912113070487976, -0.21319597959518433, 1.4922542572021484, -0.1125703901052475, 2.9325613975524902, -2.8935298919677734, 8.323824882507324, 1.6858596801757812, 1.4109023809432983, -3.5493004322052, -7.129238605499268, 0.007547704502940178, 2.5210771560668945, -3.504748821258545, -0.04222583770751953, 5.799818992614746, 0.8032433986663818, -2.9204187393188477, 2.6069118976593018, -1.0958527326583862, 0.27062612771987915, 0.11950325220823288, -5.504518032073975, 1.403219223022461, -4.629802703857422, -2.7256295680999756, 3.5763518810272217, 6.361081600189209, 1.1303396224975586, 6.263194561004639, 4.1839518547058105, 6.042577266693115, 5.476716041564941, 5.231491565704346, -4.244494438171387, -8.101727485656738, -4.10245943069458, 1.8935668468475342, -5.597255229949951, -6.9274163246154785, -2.8448703289031982, 6.160373210906982, -2.3501827716827393, -2.5691170692443848, 3.26994252204895, -2.0008351802825928, 0.06723533570766449, -1.3150813579559326, 5.8508524894714355, -0.62771075963974, 6.101180553436279, -4.736683368682861, 2.9415948390960693, 2.780355215072632, 0.2741788327693939, -1.3190364837646484, 2.976855516433716, 3.837289810180664, 0.7551794052124023, -1.4557101726531982, 6.478546619415283, 1.242789387702942, 2.330207586288452, -2.6141602993011475, 2.929056167602539, 5.6840925216674805, 1.6280094385147095, 0.008129069581627846, 5.158555030822754, -1.6156293153762817, -0.23854178190231323, -1.0304076671600342, 4.543896675109863, 3.6791858673095703, -7.11703634262085, -5.71065616607666, -6.848308563232422, -0.08880896866321564, 3.2771942615509033, -3.4022490978240967, -2.5476572513580322, -1.8807594776153564, -2.8112680912017822, -7.133201599121094, -8.59219741821289, 5.482288360595703, -0.5404438972473145, 4.931673049926758, 2.50382137298584, -1.5682424306869507, -2.1420207023620605, 0.9546859264373779, -2.1456120014190674, -0.4375658631324768, -6.5690412521362305, -5.630972385406494, 0.4882346987724304, -2.832021713256836, 6.920004844665527, -7.3183112144470215, 1.6740643978118896, 2.7161686420440674, -0.04248721897602081, -1.8196741342544556, -0.9798223972320557, -1.4250211715698242, -0.8354465961456299, -1.8403517007827759, -6.213015556335449, -0.2729054391384125, 1.4922653436660767, -2.0535593032836914, -2.6725642681121826, -3.6245155334472656, -2.796583414077759, -4.4990949630737305, -6.170055389404297, -2.132314682006836, -5.94400691986084, -1.6771976947784424, 4.983727931976318, -7.186154842376709, -5.492740631103516, 5.891441822052002, -6.709299087524414, 2.616731643676758, -8.681676864624023, -8.35410213470459, 1.12539541721344, -4.308785438537598, -1.6470129489898682, -4.415977478027344, -0.03245113790035248, 1.02242112159729, -2.9150009155273438, -0.4770321547985077, -6.24564790725708, -1.908024787902832, -3.706008195877075, -1.7872545719146729, 4.066744804382324, 1.5621235370635986, -1.1361497640609741, 0.8519120812416077, -6.051273345947266, 3.7595443725585938, 5.064888000488281, 0.3798118233680725, -0.2670941650867462, -1.752013087272644, -5.1980085372924805, -4.9769768714904785, 4.84039831161499, -0.35696545243263245, 4.892538547515869, 1.940293788909912, 0.8813484311103821, 2.246169090270996, 1.848171353340149, -0.6710625886917114, -7.380279064178467, 2.7971720695495605, 7.663487911224365, -1.2834053039550781, 4.94411039352417, -7.517483711242676, -2.899963140487671, 2.965090274810791, 2.7769598960876465, -4.273068428039551, 1.4719239473342896, -0.9834517240524292, -1.0839366912841797, 0.590683102607727, -1.2714840173721313, -1.527814269065857, 1.8565772771835327, -5.338440418243408, -6.389364719390869, -3.826677083969116, 2.501182794570923, 6.876402378082275, -0.19588586688041687, 4.365801811218262, 6.520450115203857, -6.583067893981934, -7.44452428817749, 6.277743816375732, 4.721076965332031, -4.325437545776367, -5.571130752563477, -6.830557346343994, 5.629039764404297, 8.101346969604492, -1.909490942955017, 6.535494804382324, -8.159543991088867, -1.7844465970993042, -3.3245038986206055, -7.07842493057251, 3.5861518383026123, -8.764094352722168, 7.460363864898682, 4.18896484375, -2.3605172634124756, -8.180245399475098, 1.1525132656097412, -6.260522365570068, 0.5217970013618469, -3.829340696334839, 3.77006196975708, -8.04301643371582, -3.366987466812134, 2.200536012649536, -2.185093402862549, -4.488645553588867, -1.4097037315368652, 1.0186052322387695, -7.349460124969482, -2.7922780513763428, -3.404123306274414, 1.9100433588027954, 0.0842021107673645, 5.442899227142334, -2.405691385269165, 3.005513906478882, -0.2965906262397766, -1.0306775569915771, 0.23166829347610474, 6.580923557281494, 2.7382564544677734, -2.87939190864563, 7.7884674072265625, -5.450503349304199, -1.4095268249511719, 1.426517367362976, 5.250612258911133, 2.381807804107666, 5.028351306915283, -5.357267379760742, -3.5171711444854736, 2.6725058555603027, -9.484529495239258, 1.8877137899398804, 0.8180510401725769, 0.5352028012275696, 2.8162693977355957, -7.804826736450195, 4.6446309089660645, 2.633598566055298, -1.3076190948486328, -6.80791711807251, -0.8157163858413696, -0.29649364948272705, -0.5512666702270508, 5.6207404136657715, 6.072285175323486, 4.486484050750732, -3.907858371734619, 5.432109832763672, 0.9735730886459351, -3.7807674407958984, 8.080821990966797, -7.558847427368164, -1.1185210943222046, -0.45618143677711487, 3.681443929672241, 8.195817947387695, -1.2162048816680908, -4.131910800933838, 3.8179547786712646, 5.217045307159424, 0.6569784879684448, -0.6233527064323425, -1.596055030822754, 1.4414764642715454, 1.766844630241394, 2.297191858291626, 2.9332756996154785, -6.4036946296691895, -7.23090934753418, 5.13433837890625, -4.908458709716797, 0.06601611524820328, -5.109971046447754, -2.924933671951294, 6.218324184417725, -1.0770636796951294, 0.6947510242462158, -2.2182068824768066, 1.5872083902359009, 2.764237880706787, 1.8436509370803833, 3.7181568145751953, 5.301806449890137, 2.7313921451568604, -1.1627408266067505, -5.030837535858154, -0.25926831364631653, 3.877549648284912, -0.13985435664653778, -6.6837897300720215, -1.372088074684143, -1.0605738162994385, 4.9342265129089355, -3.268500328063965, 0.5949627161026001, -5.6660003662109375, 2.7138168811798096, -7.848127841949463, 0.7390522360801697, -0.3368476629257202, -4.873274326324463, 1.2340755462646484, 2.26267409324646, 1.484519124031067, -0.2672552466392517, 2.463945150375366, -0.23593895137310028, -3.0789356231689453, -7.017444133758545, -3.224018096923828, 1.8139665126800537, 3.833207607269287, -4.662492752075195, 0.3348781168460846, 3.544342517852783, -0.15419937670230865, 2.8836050033569336, -4.691671848297119, -3.474304676055908, 1.4949495792388916, 0.48022931814193726, -0.39477667212486267, 1.0148937702178955, -8.306633949279785, 0.1511680632829666, -1.4012995958328247], \"z\": [-0.3932245969772339, 4.378284931182861, -9.792232513427734, -12.550292015075684, -16.54454803466797, -6.0753254890441895, 7.016496181488037, -16.156204223632812, -1.2060703039169312, 10.539204597473145, -14.566773414611816, -15.939034461975098, -13.728919982910156, -8.237321853637695, -11.89653205871582, -17.825374603271484, -13.773712158203125, 10.425750732421875, -8.421995162963867, -14.121847152709961, -5.235375881195068, -1.0355844497680664, -9.75639533996582, -1.546175479888916, -9.559240341186523, -2.6062607765197754, -14.610115051269531, 4.78323221206665, -17.404468536376953, -14.904476165771484, 2.9304208755493164, 1.245316505432129, -4.900055885314941, -12.591127395629883, 3.7253706455230713, -1.1949173212051392, -2.408655881881714, 5.11313009262085, -1.1185156106948853, -7.190074443817139, 14.350357055664062, -12.001019477844238, 11.881937980651855, -7.989560604095459, -11.459576606750488, -18.465253829956055, -11.131132125854492, -1.1222889423370361, -15.584137916564941, 12.910276412963867, -15.583338737487793, -6.6611104011535645, 5.186727046966553, -18.26491928100586, -7.889130115509033, -1.878429889678955, -6.411434173583984, 2.9407966136932373, -12.686613082885742, -12.388373374938965, 3.5801539421081543, 8.521177291870117, -19.594209671020508, -12.026749610900879, 14.058492660522461, -10.423700332641602, 10.126235961914062, 10.633914947509766, -15.377060890197754, -9.716403007507324, -18.444297790527344, -15.534215927124023, 0.42587655782699585, -12.876582145690918, 6.705417633056641, 3.476884603500366, -16.232147216796875, -15.72428035736084, 10.719133377075195, 9.434637069702148, 9.414758682250977, 3.542102813720703, -14.64857292175293, 7.283196926116943, 5.386076927185059, 1.229718565940857, 12.104185104370117, 9.843291282653809, -0.36698639392852783, 1.0996249914169312, 3.673739194869995, -13.487860679626465, 12.1480073928833, 8.201903343200684, 0.5321254730224609, -19.141357421875, 8.012255668640137, 2.5756232738494873, 4.869856834411621, -16.028945922851562, -1.1081995964050293, 11.889227867126465, 2.515894889831543, 6.802274703979492, -19.16112518310547, 9.048334121704102, 9.50606918334961, 5.567173480987549, 6.457610130310059, -14.837545394897461, 2.7161717414855957, -1.7449790239334106, -11.895873069763184, 4.890389442443848, -13.997376441955566, 4.890366077423096, 8.605292320251465, 8.393098831176758, -12.360356330871582, 6.603505611419678, 5.775879859924316, 0.14272324740886688, 4.743950843811035, 12.782915115356445, 5.267606735229492, 4.045079708099365, 1.0381183624267578, -13.249154090881348, 5.097599983215332, 4.1625566482543945, 1.5862312316894531, 7.615265369415283, -16.260066986083984, 4.577908515930176, 11.981707572937012, 3.7511630058288574, -12.856240272521973, -15.896713256835938, 3.456717014312744, 1.035263180732727, -13.595904350280762, 0.7068035006523132, 6.331415176391602, -15.043375968933105, 7.0879340171813965, 9.855234146118164, -12.900899887084961, 10.819445610046387, 3.6601264476776123, 6.614619731903076, 1.6714682579040527, 5.420741558074951, 0.9609231948852539, 7.105468273162842, -0.3254050314426422, 8.642497062683105, 14.082657814025879, 13.783402442932129, 5.48092794418335, -10.444933891296387, 7.442927360534668, 3.437692403793335, 8.07526969909668, 11.08626937866211, -11.561101913452148, 13.323012351989746, -14.056017875671387, -15.160609245300293, -11.517178535461426, 6.8798394203186035, 10.030305862426758, 1.368065595626831, -9.932012557983398, -12.049830436706543, 3.2460122108459473, 11.026528358459473, -8.75869083404541, -11.176471710205078, 2.9968388080596924, -15.125556945800781, 2.150179147720337, -9.923450469970703, 1.3207708597183228, -17.146347045898438, -15.625420570373535, 9.10789680480957, -12.662720680236816, 2.2721972465515137, 8.072351455688477, 5.045248985290527, 11.320286750793457, -15.293980598449707, -14.255478858947754, -12.65980052947998, 9.579371452331543, 6.175867080688477, 2.797532320022583, 4.375268459320068, -1.7761636972427368, 4.375176906585693, 1.34000825881958, 1.9420421123504639, 1.8279402256011963, -15.262157440185547, -11.357013702392578, 0.9101688265800476, 9.875188827514648, 1.1147339344024658, -9.66417407989502, 2.572077989578247, 4.444809913635254, -14.078288078308105, -15.350764274597168, 3.5858232975006104, 0.04231150820851326, -0.40535733103752136, 3.0605111122131348, -16.579334259033203, -18.339479446411133, 0.3298734128475189, -11.328152656555176, 5.836922645568848, -15.126025199890137, 7.677187919616699, 10.95278549194336, 8.691018104553223, 13.137890815734863, 7.536937236785889, 12.465736389160156, -11.903841018676758, 6.497425079345703, 12.343493461608887, -14.773324966430664, -15.646099090576172, 6.908998012542725, 6.033649444580078, 2.6466290950775146, 5.203020095825195, -13.400680541992188, -9.936602592468262, 0.7803176045417786, 4.322363376617432, -10.059054374694824, 7.933658599853516, -15.434967041015625, 11.325855255126953, 6.70216703414917, 10.191232681274414, 12.940288543701172, -10.958589553833008, 4.926296234130859, 2.2835612297058105, -15.15359878540039, 3.6140120029449463, 9.501949310302734, 0.43258196115493774, 1.938967227935791, 9.229915618896484, -12.595992088317871, 6.587345600128174, -10.512886047363281, 3.8529489040374756, -13.805828094482422, 2.0210318565368652, 5.293438911437988, 7.643599510192871, -17.129409790039062, 8.1529541015625, 6.277900695800781, 2.6714277267456055, 5.204102516174316, 1.9124983549118042, 4.433379650115967, -9.619866371154785, -10.67452621459961, 7.4905548095703125, -17.7775936126709, -15.428354263305664, 5.781291961669922, 8.123167037963867, 12.601076126098633, -9.757585525512695, 9.513321876525879, 2.2243459224700928, -13.635553359985352, 6.022451400756836, 9.386034965515137, 5.497902870178223, 9.51700210571289, -1.9508908987045288, 0.7378154993057251, 4.481198787689209, 9.214028358459473, 7.196051597595215, 7.3978118896484375, -12.46560001373291, -12.288130760192871, 11.203916549682617, 7.523288726806641, 0.9373961687088013, 0.7726299166679382, 8.646811485290527, -16.20140266418457, -15.603982925415039, -11.500219345092773, 7.001496315002441, 3.89382266998291, 6.954650402069092, 13.440529823303223, -15.773740768432617, -14.920849800109863, 10.722585678100586, -9.905264854431152, -9.892672538757324, 4.511003494262695, 1.2994199991226196, 6.695658206939697, 6.477080345153809, 7.714725494384766, 1.7227413654327393, 1.340531349182129, 5.984281063079834, -15.463335990905762, 1.5252361297607422, 7.059572696685791, 0.775373101234436, -17.830312728881836, -17.33318328857422, -11.92078971862793, -11.746256828308105, 8.39190673828125, -16.84458351135254, 5.996805667877197, 8.596044540405273, 10.209677696228027, -15.37907600402832, 4.315762042999268, 3.954456090927124, -12.825827598571777, -15.442577362060547, 3.8654589653015137, 11.143115997314453, -12.333244323730469, 7.445563316345215, -16.15894889831543, -13.401723861694336, 3.8482184410095215, 12.90726089477539, -12.931058883666992, -17.077625274658203, 2.663851022720337, 4.953561782836914, 6.009581565856934, 1.8805376291275024, 9.362756729125977, 11.252522468566895, 3.977447032928467, 5.1154985427856445, -19.141496658325195, -1.4754481315612793, 3.518017530441284, 3.9183642864227295, 2.5026142597198486, 12.16832160949707, -14.438724517822266, 8.448530197143555, -16.48544692993164, 9.815260887145996, 9.720572471618652, 5.825071334838867, 10.858263969421387, 0.6285486221313477, -16.11587142944336, -10.583925247192383, -15.398550033569336, 12.375682830810547, 6.795008659362793, -12.343219757080078, 1.403814435005188, 0.6351571679115295, -12.115679740905762, 1.7548881769180298, 5.61730432510376, 1.0275681018829346, 4.218544006347656, 7.501590728759766, 8.993927955627441, 7.781752109527588, 3.492417573928833, -0.6889535188674927, 10.413054466247559, 8.284502029418945, 4.774323463439941, 5.845451354980469, 6.067648410797119, 1.7808068990707397, 8.76309585571289, -15.645096778869629, 0.40565916895866394, 7.367608547210693, 6.328344821929932, 8.9951753616333, 10.17448902130127, 0.8681014776229858, -17.717342376708984, 7.989055633544922, -12.319746017456055, 1.8743983507156372, -9.600327491760254, 2.614170789718628, 6.907387733459473, 2.1286983489990234, -19.191455841064453, 7.78195858001709, 4.728244781494141, 12.165371894836426, 10.994108200073242, 5.155173301696777, -17.076251983642578, -13.682136535644531, -0.8182365894317627, 10.095162391662598, 6.140133857727051, 2.474851369857788, -11.985941886901855, 11.182574272155762, 6.744471549987793, -11.731226921081543, -0.1569814831018448, -16.31182861328125, 4.4342265129089355, 8.110766410827637, 7.476705551147461, -13.569856643676758, -18.052997589111328, 1.7447770833969116, 8.248473167419434, -15.409794807434082, 7.119995594024658, -11.883606910705566, 9.103536605834961, 10.827360153198242, -12.612276077270508, -18.376066207885742, 0.5865494012832642, -9.660111427307129, -16.867063522338867, 8.1371488571167, -11.062275886535645, -10.231154441833496, 9.478340148925781, -13.506950378417969, 12.48941421508789, 7.362189292907715, -12.348602294921875, 1.0389659404754639, 1.004815936088562, -12.200261116027832, 10.007367134094238, 9.62977123260498, 4.441100120544434, -13.218177795410156, 12.151143074035645, 11.725902557373047, 0.3435617685317993, 3.877673864364624, 6.155915260314941, -18.26966094970703, 12.92049503326416, -11.670737266540527, 6.69636344909668, 8.293529510498047, 12.819472312927246, 5.684086322784424, 11.873014450073242, 9.87993049621582, 5.63928747177124, -11.231924057006836, 1.85664701461792, 6.515228271484375, 12.90267276763916, 8.289410591125488, -11.909001350402832, -17.337182998657227, 8.564170837402344, -17.297563552856445, 1.0075361728668213, -0.00031348466291092336, 3.0310704708099365, -10.404274940490723, 9.049249649047852, -12.335675239562988, -10.67686653137207, -16.099441528320312, -10.732662200927734, -12.912009239196777, 3.337050199508667, -10.795459747314453, 6.710541725158691, 1.0539108514785767, 3.7648401260375977, 4.236663341522217, 0.16151680052280426, -0.5565317869186401, -0.07275840640068054, -10.446120262145996, 9.043087005615234, 11.678189277648926, 0.14138096570968628, -9.375819206237793, -15.921142578125, 13.712709426879883, 3.160329580307007, -15.111150741577148, 10.587998390197754, 9.671082496643066, 6.173719882965088, 9.698348045349121, 2.6650214195251465, 3.5396034717559814, -0.416531503200531, -15.243903160095215, -12.373042106628418, -12.1484956741333, -18.893123626708984, 8.480142593383789, 0.9447393417358398, 8.731308937072754, 2.841378688812256, 2.3587143421173096, 2.509253740310669, -16.01724624633789, -11.46788215637207, 10.341764450073242, -11.078474044799805, -14.37350845336914, 1.3915332555770874, -16.219024658203125, 1.208210825920105, 2.983534574508667, 0.03379519656300545, -11.118993759155273, 6.877386093139648, 3.3917183876037598, 12.883748054504395, -14.067200660705566, 9.77585220336914, -12.7579984664917, -13.019989013671875, 9.646485328674316, 9.128920555114746, 3.450230360031128, -14.943431854248047, 5.422652244567871, 7.3397417068481445, 2.932255268096924, -10.370559692382812, 6.3903961181640625, -17.59327507019043, 0.4281606078147888, -18.33623695373535, -18.629867553710938, 7.912034034729004, -12.386801719665527, 8.409526824951172, 10.7670316696167, 12.156844139099121, 3.9667704105377197, -14.45025634765625, -11.452937126159668, 0.13602255284786224, -11.561076164245605, -16.578393936157227, -17.386760711669922, 2.0892374515533447, -15.807887077331543, 5.792714595794678, 9.457172393798828, 2.0810396671295166, 5.941161155700684, -1.0248017311096191, 7.427238941192627, -10.681713104248047, 5.32470703125, 13.54499340057373, 10.080479621887207, 1.9812489748001099, 11.048675537109375, 10.25166130065918, -16.435569763183594, 8.653264999389648, 11.204744338989258, 0.14439310133457184, -17.30304718017578, 0.9839650392532349, 5.885693550109863, -15.522836685180664, -15.570505142211914, -10.88817024230957, -17.687427520751953, -13.752283096313477, 1.4697333574295044, -8.842976570129395, 7.669033050537109, -10.40331745147705, 3.5225753784179688, -17.4798641204834, -18.238243103027344, 6.979942798614502, 1.1993435621261597, -11.721025466918945, 1.7993113994598389, 0.5921927690505981, 3.4400722980499268, 11.0512056350708, 9.054139137268066, -1.7764310836791992, -1.2370905876159668, 6.182950496673584, 2.5408430099487305, 1.9185304641723633, 5.764414310455322, 5.324774265289307, 2.7283177375793457, -11.83648681640625, -18.287912368774414, 7.957873344421387, -14.914549827575684, 2.407482147216797, 11.693058967590332, 3.956341028213501, 4.490225791931152, 8.585942268371582, -14.933258056640625, 0.7994476556777954, 1.1825506687164307, 1.9799195528030396, 1.9677488803863525, -12.111888885498047, 2.0329041481018066, -11.072532653808594, 2.3558707237243652, 6.256950855255127, 1.1103222370147705, -16.964279174804688, 8.850724220275879, -11.303186416625977, 4.766142845153809, -10.819442749023438, 5.072310447692871, 13.13338565826416, 11.603021621704102, 1.5651473999023438, -14.934236526489258, 11.563202857971191, 1.1940640211105347, -15.266705513000488, 2.7317230701446533, 6.7967681884765625, -15.164676666259766, -16.990970611572266, 4.7969536781311035, 0.44272366166114807, 0.6181542873382568, -11.874592781066895, 2.6945974826812744, -16.423572540283203, 4.142775535583496, 4.468733310699463, 11.539095878601074, 0.2611590027809143, 10.874439239501953, 6.327568054199219, 3.2137742042541504, -9.889289855957031, 9.75926685333252, 2.4908883571624756, -11.22624683380127, -13.201744079589844, 4.808984756469727, -11.048266410827637, 11.684286117553711, 4.806582927703857, -9.72774600982666, 7.543196201324463, 11.535216331481934, 10.053585052490234, 13.572108268737793, -13.662552833557129, -15.907506942749023, -8.290059089660645, -14.139204025268555, -18.955768585205078, 0.6895458102226257, -13.656054496765137, -10.464313507080078, -0.11365269869565964, 8.419344902038574, 4.401497840881348, -12.078478813171387, -1.7346992492675781, 7.836933135986328, -8.255370140075684, -17.426137924194336, 7.478427410125732, -0.8969551920890808, -14.97982120513916, -15.717538833618164, 1.8235204219818115, -8.710885047912598, -11.992607116699219, 13.54381275177002, 7.832070827484131, -2.7068240642547607, 8.67671012878418, -8.464037895202637, -5.883393287658691, -18.42142677307129, 8.649178504943848, 11.137539863586426, -8.531351089477539, 8.434785842895508, -0.014000967144966125, -6.564785480499268, -6.485517501831055, -4.96906042098999, -10.040618896484375, -10.08178424835205, -15.069231986999512, -7.2449259757995605, 4.710377216339111, -16.919883728027344, 2.7205934524536133, 4.497376441955566, 0.27204614877700806, -12.58828353881836, 4.040594577789307, 9.932065963745117, 10.896575927734375, -11.439380645751953, 6.221379280090332, 2.3310399055480957, 2.7664356231689453, -11.551513671875, 0.26374131441116333, 10.832297325134277, 6.538291931152344, -11.825520515441895, -11.936434745788574, -17.528186798095703, 3.9816677570343018, -15.3754301071167, 0.14694733917713165, 9.54792308807373, 12.317366600036621, -11.515936851501465, 9.317912101745605, 3.913069486618042, -15.544441223144531, 11.977776527404785, -16.941669464111328, 6.274870872497559, 10.753872871398926, 11.79812240600586, 0.8281642198562622, 9.330856323242188, 8.063133239746094, -15.760051727294922, 6.315971374511719, -15.378303527832031, 9.105676651000977, 1.9344598054885864, 1.6674860715866089, 6.385363578796387, 1.3901450634002686, 11.308059692382812, 2.3912594318389893, -1.5146880149841309, 8.452753067016602, 2.2785496711730957, 5.373184680938721, 8.614075660705566, 1.4428021907806396, 1.9463067054748535, 10.716933250427246, -17.283653259277344, 5.187854290008545, -10.163358688354492, 10.3728666305542, 8.204236030578613, -18.151439666748047, 6.21768856048584, -11.834945678710938, 6.916606426239014, 9.36490535736084, 0.7519043684005737, 10.803923606872559, -11.34892749786377, 6.361024379730225, 10.617149353027344, 0.889279305934906, 1.9464411735534668, 2.821608304977417, 3.8917031288146973, -10.577190399169922, 12.557400703430176, 9.374935150146484, 2.689964771270752, -13.908496856689453, 10.116412162780762, -14.805448532104492, -11.068707466125488, 7.253650188446045, -1.5601301193237305, 1.2377839088439941, -11.07357406616211, 3.2904272079467773, -18.107458114624023, -8.373592376708984, -13.528556823730469, -12.413102149963379, -9.619221687316895, 11.741823196411133, 1.0880675315856934, 3.03877592086792, 8.328914642333984, -13.801196098327637, 9.042237281799316, 4.535405158996582, -16.426164627075195, 2.886035203933716, -0.12020108848810196, -18.681472778320312, -10.7259521484375, -12.087422370910645, -10.097244262695312, -17.60430908203125, -14.634187698364258, -11.254508018493652, 8.254167556762695, 5.848881244659424, 6.531430721282959, -13.826117515563965, 6.304689884185791, 7.454192161560059, -10.560189247131348, 1.9381386041641235, 6.454226970672607, 2.5621471405029297, 5.487157821655273, -10.485798835754395, 0.8088060617446899, 7.5636210441589355, 5.71071720123291, 3.5915257930755615, 3.2654030323028564, -0.6993756294250488, -13.28915023803711, 9.248282432556152, -11.913259506225586, -0.4928476810455322, 8.458290100097656, 0.3318421244621277, 6.15413761138916, 3.7546024322509766, -15.798681259155273, 8.496925354003906, 8.363286972045898, -10.624521255493164, 0.9487234950065613, -14.394142150878906, 9.23950481414795, 11.976338386535645, 3.0601329803466797, 0.9719434976577759, 11.176782608032227, 6.003817081451416, -1.0283329486846924, 1.2670823335647583, -11.04945182800293, 0.7170738577842712, 9.055977821350098, 10.817766189575195, -16.677297592163086, -15.841548919677734, -12.274053573608398, 2.3615610599517822, 8.520882606506348, 1.246147632598877, -9.452556610107422, -14.869446754455566, -15.365732192993164, -11.667656898498535, 10.115026473999023, -16.34807777404785, 3.5852510929107666, 4.1991071701049805, 11.024775505065918, 2.503819465637207, 4.164172172546387, 5.466219902038574, 4.177472114562988, 11.123661994934082, -18.283405303955078, 6.957511901855469, -15.274604797363281, -12.915380477905273, 0.8273423314094543, -11.50007152557373, 7.933992385864258, 8.355683326721191, 10.792838096618652, 12.31859302520752, 7.144365310668945, -11.05048656463623, -15.292289733886719, 1.1568045616149902, 4.639780044555664, -12.926965713500977, -12.937472343444824, 0.02870970405638218, -16.5065860748291, 5.364924430847168, 7.108103275299072, 2.5389304161071777, 1.0194164514541626, 2.1272175312042236, 1.2991868257522583, 7.419370174407959, 3.398216485977173, -16.008115768432617, 8.698657989501953, 12.2462797164917, -17.075653076171875, -15.49294376373291, -15.668006896972656, 8.264535903930664, -11.292366027832031, 3.1834335327148438, -12.63818645477295, -12.24367904663086, 1.9618529081344604, 10.62568473815918, -10.867081642150879, 8.09935474395752, -12.973411560058594, 9.252418518066406, 6.282710075378418, 5.443186283111572, 3.006878614425659, 1.5120254755020142, 1.8338549137115479, -18.146066665649414, -15.390759468078613, 7.124248027801514, 10.945847511291504, -13.376638412475586, -13.368301391601562, -10.612675666809082, -0.783915102481842, 10.33846664428711, 10.256383895874023, -10.594328880310059, 9.504287719726562, 2.376694917678833, 13.85396957397461, 7.222795486450195, 4.821714401245117, -11.594292640686035, 6.233982086181641, -17.5234375, 6.876836776733398, 4.3511061668396, -15.145929336547852, 8.00189208984375, 8.151747703552246, 7.177050590515137, -17.15524673461914, 2.5242860317230225, -9.77695369720459, -11.822686195373535, -1.2130744457244873, 11.634501457214355, 8.839191436767578, -16.92209815979004, 9.313904762268066, -0.7158586382865906, -11.509625434875488, -11.580864906311035, -17.418712615966797, -11.164178848266602, 6.984971046447754, 9.171591758728027, -11.442574501037598, -13.58236026763916, 2.126377582550049, 7.50840950012207, 10.112667083740234, -12.63242244720459, -17.33390998840332]}],\n",
       "                        {\"coloraxis\": {\"colorbar\": {\"title\": {\"text\": \"Label\"}}, \"colorscale\": [[0.0, \"#0d0887\"], [0.1111111111111111, \"#46039f\"], [0.2222222222222222, \"#7201a8\"], [0.3333333333333333, \"#9c179e\"], [0.4444444444444444, \"#bd3786\"], [0.5555555555555556, \"#d8576b\"], [0.6666666666666666, \"#ed7953\"], [0.7777777777777778, \"#fb9f3a\"], [0.8888888888888888, \"#fdca26\"], [1.0, \"#f0f921\"]]}, \"height\": 800, \"legend\": {\"tracegroupgap\": 0}, \"scene\": {\"domain\": {\"x\": [0.0, 1.0], \"y\": [0.0, 1.0]}, \"xaxis\": {\"title\": {\"text\": \"0\"}}, \"yaxis\": {\"title\": {\"text\": \"1\"}}, \"zaxis\": {\"title\": {\"text\": \"2\"}}}, \"template\": {\"data\": {\"bar\": [{\"error_x\": {\"color\": \"#2a3f5f\"}, \"error_y\": {\"color\": \"#2a3f5f\"}, \"marker\": {\"line\": {\"color\": \"#E5ECF6\", \"width\": 0.5}}, \"type\": \"bar\"}], \"barpolar\": [{\"marker\": {\"line\": {\"color\": \"#E5ECF6\", \"width\": 0.5}}, \"type\": \"barpolar\"}], \"carpet\": [{\"aaxis\": {\"endlinecolor\": \"#2a3f5f\", \"gridcolor\": \"white\", \"linecolor\": \"white\", \"minorgridcolor\": \"white\", \"startlinecolor\": \"#2a3f5f\"}, \"baxis\": {\"endlinecolor\": \"#2a3f5f\", \"gridcolor\": \"white\", \"linecolor\": \"white\", \"minorgridcolor\": \"white\", \"startlinecolor\": \"#2a3f5f\"}, \"type\": \"carpet\"}], \"choropleth\": [{\"colorbar\": {\"outlinewidth\": 0, \"ticks\": \"\"}, \"type\": \"choropleth\"}], \"contour\": [{\"colorbar\": {\"outlinewidth\": 0, \"ticks\": \"\"}, \"colorscale\": [[0.0, \"#0d0887\"], [0.1111111111111111, \"#46039f\"], [0.2222222222222222, \"#7201a8\"], [0.3333333333333333, \"#9c179e\"], [0.4444444444444444, \"#bd3786\"], [0.5555555555555556, \"#d8576b\"], [0.6666666666666666, \"#ed7953\"], [0.7777777777777778, \"#fb9f3a\"], [0.8888888888888888, \"#fdca26\"], [1.0, \"#f0f921\"]], \"type\": \"contour\"}], \"contourcarpet\": [{\"colorbar\": {\"outlinewidth\": 0, \"ticks\": \"\"}, \"type\": \"contourcarpet\"}], \"heatmap\": [{\"colorbar\": {\"outlinewidth\": 0, \"ticks\": \"\"}, \"colorscale\": [[0.0, \"#0d0887\"], [0.1111111111111111, \"#46039f\"], [0.2222222222222222, \"#7201a8\"], [0.3333333333333333, \"#9c179e\"], [0.4444444444444444, \"#bd3786\"], [0.5555555555555556, \"#d8576b\"], [0.6666666666666666, \"#ed7953\"], [0.7777777777777778, \"#fb9f3a\"], [0.8888888888888888, \"#fdca26\"], [1.0, \"#f0f921\"]], \"type\": \"heatmap\"}], \"heatmapgl\": [{\"colorbar\": {\"outlinewidth\": 0, \"ticks\": \"\"}, \"colorscale\": [[0.0, \"#0d0887\"], [0.1111111111111111, \"#46039f\"], [0.2222222222222222, \"#7201a8\"], [0.3333333333333333, \"#9c179e\"], [0.4444444444444444, \"#bd3786\"], [0.5555555555555556, \"#d8576b\"], [0.6666666666666666, \"#ed7953\"], [0.7777777777777778, \"#fb9f3a\"], [0.8888888888888888, \"#fdca26\"], [1.0, \"#f0f921\"]], \"type\": \"heatmapgl\"}], \"histogram\": [{\"marker\": {\"colorbar\": {\"outlinewidth\": 0, \"ticks\": \"\"}}, \"type\": \"histogram\"}], \"histogram2d\": [{\"colorbar\": {\"outlinewidth\": 0, \"ticks\": \"\"}, \"colorscale\": [[0.0, \"#0d0887\"], [0.1111111111111111, \"#46039f\"], [0.2222222222222222, \"#7201a8\"], [0.3333333333333333, \"#9c179e\"], [0.4444444444444444, \"#bd3786\"], [0.5555555555555556, \"#d8576b\"], [0.6666666666666666, \"#ed7953\"], [0.7777777777777778, \"#fb9f3a\"], [0.8888888888888888, \"#fdca26\"], [1.0, \"#f0f921\"]], \"type\": \"histogram2d\"}], \"histogram2dcontour\": [{\"colorbar\": {\"outlinewidth\": 0, \"ticks\": \"\"}, \"colorscale\": [[0.0, \"#0d0887\"], [0.1111111111111111, \"#46039f\"], [0.2222222222222222, \"#7201a8\"], [0.3333333333333333, \"#9c179e\"], [0.4444444444444444, \"#bd3786\"], [0.5555555555555556, \"#d8576b\"], [0.6666666666666666, \"#ed7953\"], [0.7777777777777778, \"#fb9f3a\"], [0.8888888888888888, \"#fdca26\"], [1.0, \"#f0f921\"]], \"type\": \"histogram2dcontour\"}], \"mesh3d\": [{\"colorbar\": {\"outlinewidth\": 0, \"ticks\": \"\"}, \"type\": \"mesh3d\"}], \"parcoords\": [{\"line\": {\"colorbar\": {\"outlinewidth\": 0, \"ticks\": \"\"}}, \"type\": \"parcoords\"}], \"pie\": [{\"automargin\": true, \"type\": \"pie\"}], \"scatter\": [{\"marker\": {\"colorbar\": {\"outlinewidth\": 0, \"ticks\": \"\"}}, \"type\": \"scatter\"}], \"scatter3d\": [{\"line\": {\"colorbar\": {\"outlinewidth\": 0, \"ticks\": \"\"}}, \"marker\": {\"colorbar\": {\"outlinewidth\": 0, \"ticks\": \"\"}}, \"type\": \"scatter3d\"}], \"scattercarpet\": [{\"marker\": {\"colorbar\": {\"outlinewidth\": 0, \"ticks\": \"\"}}, \"type\": \"scattercarpet\"}], \"scattergeo\": [{\"marker\": {\"colorbar\": {\"outlinewidth\": 0, \"ticks\": \"\"}}, \"type\": \"scattergeo\"}], \"scattergl\": [{\"marker\": {\"colorbar\": {\"outlinewidth\": 0, \"ticks\": \"\"}}, \"type\": \"scattergl\"}], \"scattermapbox\": [{\"marker\": {\"colorbar\": {\"outlinewidth\": 0, \"ticks\": \"\"}}, \"type\": \"scattermapbox\"}], \"scatterpolar\": [{\"marker\": {\"colorbar\": {\"outlinewidth\": 0, \"ticks\": \"\"}}, \"type\": \"scatterpolar\"}], \"scatterpolargl\": [{\"marker\": {\"colorbar\": {\"outlinewidth\": 0, \"ticks\": \"\"}}, \"type\": \"scatterpolargl\"}], \"scatterternary\": [{\"marker\": {\"colorbar\": {\"outlinewidth\": 0, \"ticks\": \"\"}}, \"type\": \"scatterternary\"}], \"surface\": [{\"colorbar\": {\"outlinewidth\": 0, \"ticks\": \"\"}, \"colorscale\": [[0.0, \"#0d0887\"], [0.1111111111111111, \"#46039f\"], [0.2222222222222222, \"#7201a8\"], [0.3333333333333333, \"#9c179e\"], [0.4444444444444444, \"#bd3786\"], [0.5555555555555556, \"#d8576b\"], [0.6666666666666666, \"#ed7953\"], [0.7777777777777778, \"#fb9f3a\"], [0.8888888888888888, \"#fdca26\"], [1.0, \"#f0f921\"]], \"type\": \"surface\"}], \"table\": [{\"cells\": {\"fill\": {\"color\": \"#EBF0F8\"}, \"line\": {\"color\": \"white\"}}, \"header\": {\"fill\": {\"color\": \"#C8D4E3\"}, \"line\": {\"color\": \"white\"}}, \"type\": \"table\"}]}, \"layout\": {\"annotationdefaults\": {\"arrowcolor\": \"#2a3f5f\", \"arrowhead\": 0, \"arrowwidth\": 1}, \"coloraxis\": {\"colorbar\": {\"outlinewidth\": 0, \"ticks\": \"\"}}, \"colorscale\": {\"diverging\": [[0, \"#8e0152\"], [0.1, \"#c51b7d\"], [0.2, \"#de77ae\"], [0.3, \"#f1b6da\"], [0.4, \"#fde0ef\"], [0.5, \"#f7f7f7\"], [0.6, \"#e6f5d0\"], [0.7, \"#b8e186\"], [0.8, \"#7fbc41\"], [0.9, \"#4d9221\"], [1, \"#276419\"]], \"sequential\": [[0.0, \"#0d0887\"], [0.1111111111111111, \"#46039f\"], [0.2222222222222222, \"#7201a8\"], [0.3333333333333333, \"#9c179e\"], [0.4444444444444444, \"#bd3786\"], [0.5555555555555556, \"#d8576b\"], [0.6666666666666666, \"#ed7953\"], [0.7777777777777778, \"#fb9f3a\"], [0.8888888888888888, \"#fdca26\"], [1.0, \"#f0f921\"]], \"sequentialminus\": [[0.0, \"#0d0887\"], [0.1111111111111111, \"#46039f\"], [0.2222222222222222, \"#7201a8\"], [0.3333333333333333, \"#9c179e\"], [0.4444444444444444, \"#bd3786\"], [0.5555555555555556, \"#d8576b\"], [0.6666666666666666, \"#ed7953\"], [0.7777777777777778, \"#fb9f3a\"], [0.8888888888888888, \"#fdca26\"], [1.0, \"#f0f921\"]]}, \"colorway\": [\"#636efa\", \"#EF553B\", \"#00cc96\", \"#ab63fa\", \"#FFA15A\", \"#19d3f3\", \"#FF6692\", \"#B6E880\", \"#FF97FF\", \"#FECB52\"], \"font\": {\"color\": \"#2a3f5f\"}, \"geo\": {\"bgcolor\": \"white\", \"lakecolor\": \"white\", \"landcolor\": \"#E5ECF6\", \"showlakes\": true, \"showland\": true, \"subunitcolor\": \"white\"}, \"hoverlabel\": {\"align\": \"left\"}, \"hovermode\": \"closest\", \"mapbox\": {\"style\": \"light\"}, \"paper_bgcolor\": \"white\", \"plot_bgcolor\": \"#E5ECF6\", \"polar\": {\"angularaxis\": {\"gridcolor\": \"white\", \"linecolor\": \"white\", \"ticks\": \"\"}, \"bgcolor\": \"#E5ECF6\", \"radialaxis\": {\"gridcolor\": \"white\", \"linecolor\": \"white\", \"ticks\": \"\"}}, \"scene\": {\"xaxis\": {\"backgroundcolor\": \"#E5ECF6\", \"gridcolor\": \"white\", \"gridwidth\": 2, \"linecolor\": \"white\", \"showbackground\": true, \"ticks\": \"\", \"zerolinecolor\": \"white\"}, \"yaxis\": {\"backgroundcolor\": \"#E5ECF6\", \"gridcolor\": \"white\", \"gridwidth\": 2, \"linecolor\": \"white\", \"showbackground\": true, \"ticks\": \"\", \"zerolinecolor\": \"white\"}, \"zaxis\": {\"backgroundcolor\": \"#E5ECF6\", \"gridcolor\": \"white\", \"gridwidth\": 2, \"linecolor\": \"white\", \"showbackground\": true, \"ticks\": \"\", \"zerolinecolor\": \"white\"}}, \"shapedefaults\": {\"line\": {\"color\": \"#2a3f5f\"}}, \"ternary\": {\"aaxis\": {\"gridcolor\": \"white\", \"linecolor\": \"white\", \"ticks\": \"\"}, \"baxis\": {\"gridcolor\": \"white\", \"linecolor\": \"white\", \"ticks\": \"\"}, \"bgcolor\": \"#E5ECF6\", \"caxis\": {\"gridcolor\": \"white\", \"linecolor\": \"white\", \"ticks\": \"\"}}, \"title\": {\"x\": 0.05}, \"xaxis\": {\"automargin\": true, \"gridcolor\": \"white\", \"linecolor\": \"white\", \"ticks\": \"\", \"title\": {\"standoff\": 15}, \"zerolinecolor\": \"white\", \"zerolinewidth\": 2}, \"yaxis\": {\"automargin\": true, \"gridcolor\": \"white\", \"linecolor\": \"white\", \"ticks\": \"\", \"title\": {\"standoff\": 15}, \"zerolinecolor\": \"white\", \"zerolinewidth\": 2}}}, \"title\": {\"text\": \"3d TSNE Plot for Outliers\"}, \"width\": 900},\n",
       "                        {\"responsive\": true}\n",
       "                    ).then(function(){\n",
       "                            \n",
       "var gd = document.getElementById('740a5d76-4573-4677-8d13-5aa2235b24aa');\n",
       "var x = new MutationObserver(function (mutations, observer) {{\n",
       "        var display = window.getComputedStyle(gd).display;\n",
       "        if (!display || display === 'none') {{\n",
       "            console.log([gd, 'removed!']);\n",
       "            Plotly.purge(gd);\n",
       "            observer.disconnect();\n",
       "        }}\n",
       "}});\n",
       "\n",
       "// Listen for the removal of the full notebook cells\n",
       "var notebookContainer = gd.closest('#notebook-container');\n",
       "if (notebookContainer) {{\n",
       "    x.observe(notebookContainer, {childList: true});\n",
       "}}\n",
       "\n",
       "// Listen for the clearing of the current output cell\n",
       "var outputEl = gd.closest('.output');\n",
       "if (outputEl) {{\n",
       "    x.observe(outputEl, {childList: true});\n",
       "}}\n",
       "\n",
       "                        })\n",
       "                };\n",
       "                });\n",
       "            </script>\n",
       "        </div>"
      ]
     },
     "metadata": {},
     "output_type": "display_data"
    }
   ],
   "source": [
    "# Importing dataset\n",
    "from pycaret.datasets import get_data\n",
    "anomalies = get_data('anomaly')\n",
    "# Importing module and initializing setup\n",
    "from pycaret.anomaly import *\n",
    "ano1 = setup(data = anomalies)\n",
    "# creating a model\n",
    "iforest = create_model('iforest')\n",
    "# plotting a model\n",
    "plot_model(iforest)"
   ]
  },
  {
   "cell_type": "markdown",
   "metadata": {},
   "source": [
    "# NLP"
   ]
  },
  {
   "cell_type": "code",
   "execution_count": 6,
   "metadata": {},
   "outputs": [
    {
     "data": {
      "text/html": [
       "<div>\n",
       "<style scoped>\n",
       "    .dataframe tbody tr th:only-of-type {\n",
       "        vertical-align: middle;\n",
       "    }\n",
       "\n",
       "    .dataframe tbody tr th {\n",
       "        vertical-align: top;\n",
       "    }\n",
       "\n",
       "    .dataframe thead th {\n",
       "        text-align: right;\n",
       "    }\n",
       "</style>\n",
       "<table border=\"1\" class=\"dataframe\">\n",
       "  <thead>\n",
       "    <tr style=\"text-align: right;\">\n",
       "      <th></th>\n",
       "      <th>country</th>\n",
       "      <th>en</th>\n",
       "      <th>gender</th>\n",
       "      <th>loan_amount</th>\n",
       "      <th>nonpayment</th>\n",
       "      <th>sector</th>\n",
       "      <th>status</th>\n",
       "    </tr>\n",
       "  </thead>\n",
       "  <tbody>\n",
       "    <tr>\n",
       "      <th>0</th>\n",
       "      <td>Dominican Republic</td>\n",
       "      <td>\"Banco Esperanza\" is a group of 10 women looki...</td>\n",
       "      <td>F</td>\n",
       "      <td>1225</td>\n",
       "      <td>partner</td>\n",
       "      <td>Retail</td>\n",
       "      <td>0</td>\n",
       "    </tr>\n",
       "    <tr>\n",
       "      <th>1</th>\n",
       "      <td>Dominican Republic</td>\n",
       "      <td>\"Caminemos Hacia Adelante\" or \"Walking Forward...</td>\n",
       "      <td>F</td>\n",
       "      <td>1975</td>\n",
       "      <td>lender</td>\n",
       "      <td>Clothing</td>\n",
       "      <td>0</td>\n",
       "    </tr>\n",
       "    <tr>\n",
       "      <th>2</th>\n",
       "      <td>Dominican Republic</td>\n",
       "      <td>\"Creciendo Por La Union\" is a group of 10 peop...</td>\n",
       "      <td>F</td>\n",
       "      <td>2175</td>\n",
       "      <td>partner</td>\n",
       "      <td>Clothing</td>\n",
       "      <td>0</td>\n",
       "    </tr>\n",
       "    <tr>\n",
       "      <th>3</th>\n",
       "      <td>Dominican Republic</td>\n",
       "      <td>\"Cristo Vive\" (\"Christ lives\" is a group of 10...</td>\n",
       "      <td>F</td>\n",
       "      <td>1425</td>\n",
       "      <td>partner</td>\n",
       "      <td>Clothing</td>\n",
       "      <td>0</td>\n",
       "    </tr>\n",
       "    <tr>\n",
       "      <th>4</th>\n",
       "      <td>Dominican Republic</td>\n",
       "      <td>\"Cristo Vive\" is a large group of 35 people, 2...</td>\n",
       "      <td>F</td>\n",
       "      <td>4025</td>\n",
       "      <td>partner</td>\n",
       "      <td>Food</td>\n",
       "      <td>0</td>\n",
       "    </tr>\n",
       "  </tbody>\n",
       "</table>\n",
       "</div>"
      ],
      "text/plain": [
       "              country                                                 en  \\\n",
       "0  Dominican Republic  \"Banco Esperanza\" is a group of 10 women looki...   \n",
       "1  Dominican Republic  \"Caminemos Hacia Adelante\" or \"Walking Forward...   \n",
       "2  Dominican Republic  \"Creciendo Por La Union\" is a group of 10 peop...   \n",
       "3  Dominican Republic  \"Cristo Vive\" (\"Christ lives\" is a group of 10...   \n",
       "4  Dominican Republic  \"Cristo Vive\" is a large group of 35 people, 2...   \n",
       "\n",
       "  gender  loan_amount nonpayment    sector  status  \n",
       "0      F         1225    partner    Retail       0  \n",
       "1      F         1975     lender  Clothing       0  \n",
       "2      F         2175    partner  Clothing       0  \n",
       "3      F         1425    partner  Clothing       0  \n",
       "4      F         4025    partner      Food       0  "
      ]
     },
     "metadata": {},
     "output_type": "display_data"
    },
    {
     "name": "stderr",
     "output_type": "stream",
     "text": [
      "ERROR:root:Internal Python error in the inspect module.\n",
      "Below is the traceback from this internal error.\n",
      "\n"
     ]
    },
    {
     "name": "stdout",
     "output_type": "stream",
     "text": [
      "Traceback (most recent call last):\n",
      "  File \"/srv/conda/envs/notebook/lib/python3.6/site-packages/pycaret/nlp.py\", line 115, in setup\n",
      "    sp = spacy.load('en_core_web_sm', disable=['parser', 'ner'])\n",
      "  File \"/srv/conda/envs/notebook/lib/python3.6/site-packages/spacy/__init__.py\", line 30, in load\n",
      "    return util.load_model(name, **overrides)\n",
      "  File \"/srv/conda/envs/notebook/lib/python3.6/site-packages/spacy/util.py\", line 169, in load_model\n",
      "    raise IOError(Errors.E050.format(name=name))\n",
      "OSError: [E050] Can't find model 'en_core_web_sm'. It doesn't seem to be a shortcut link, a Python package or a valid path to a data directory.\n",
      "\n",
      "During handling of the above exception, another exception occurred:\n",
      "\n",
      "Traceback (most recent call last):\n",
      "  File \"/srv/conda/envs/notebook/lib/python3.6/site-packages/IPython/core/interactiveshell.py\", line 3331, in run_code\n",
      "    exec(code_obj, self.user_global_ns, self.user_ns)\n",
      "  File \"<ipython-input-6-8a3e1276c128>\", line 6, in <module>\n",
      "    nlp1 = setup(data = kiva, target = 'en')\n",
      "  File \"/srv/conda/envs/notebook/lib/python3.6/site-packages/pycaret/nlp.py\", line 117, in setup\n",
      "    sys.exit('(Type Error): spacy english model is not yet downloaded. See the documentation of setup to see installation guide.')\n",
      "SystemExit: (Type Error): spacy english model is not yet downloaded. See the documentation of setup to see installation guide.\n",
      "\n",
      "During handling of the above exception, another exception occurred:\n",
      "\n",
      "Traceback (most recent call last):\n",
      "  File \"/srv/conda/envs/notebook/lib/python3.6/site-packages/IPython/core/ultratb.py\", line 1148, in get_records\n",
      "    return _fixed_getinnerframes(etb, number_of_lines_of_context, tb_offset)\n",
      "  File \"/srv/conda/envs/notebook/lib/python3.6/site-packages/IPython/core/ultratb.py\", line 316, in wrapped\n",
      "    return f(*args, **kwargs)\n",
      "  File \"/srv/conda/envs/notebook/lib/python3.6/site-packages/IPython/core/ultratb.py\", line 350, in _fixed_getinnerframes\n",
      "    records = fix_frame_records_filenames(inspect.getinnerframes(etb, context))\n",
      "  File \"/srv/conda/envs/notebook/lib/python3.6/inspect.py\", line 1490, in getinnerframes\n",
      "    frameinfo = (tb.tb_frame,) + getframeinfo(tb, context)\n",
      "AttributeError: 'tuple' object has no attribute 'tb_frame'\n"
     ]
    },
    {
     "ename": "SystemExit",
     "evalue": "(Type Error): spacy english model is not yet downloaded. See the documentation of setup to see installation guide.",
     "output_type": "error",
     "traceback": [
      "An exception has occurred, use %tb to see the full traceback.\n",
      "\u001b[0;31m---------------------------------------------------------------------------\u001b[0m",
      "\nDuring handling of the above exception, another exception occurred:\n",
      "\u001b[0;31mSystemExit\u001b[0m\u001b[0;31m:\u001b[0m (Type Error): spacy english model is not yet downloaded. See the documentation of setup to see installation guide.\n"
     ]
    }
   ],
   "source": [
    "# Importing dataset\n",
    "from pycaret.datasets import get_data\n",
    "kiva = get_data('kiva')\n",
    "# Importing module and initializing setup\n",
    "from pycaret.nlp import *\n",
    "nlp1 = setup(data = kiva, target = 'en')\n",
    "# creating a model\n",
    "lda = create_model('lda')\n",
    "# plotting a model\n",
    "plot_model(lda)"
   ]
  },
  {
   "cell_type": "code",
   "execution_count": null,
   "metadata": {},
   "outputs": [],
   "source": []
  }
 ],
 "metadata": {
  "kernelspec": {
   "display_name": "Python 3",
   "language": "python",
   "name": "python3"
  },
  "language_info": {
   "codemirror_mode": {
    "name": "ipython",
    "version": 3
   },
   "file_extension": ".py",
   "mimetype": "text/x-python",
   "name": "python",
   "nbconvert_exporter": "python",
   "pygments_lexer": "ipython3",
   "version": "3.6.10"
  }
 },
 "nbformat": 4,
 "nbformat_minor": 4
}
