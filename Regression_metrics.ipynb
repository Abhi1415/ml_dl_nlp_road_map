{
  "nbformat": 4,
  "nbformat_minor": 0,
  "metadata": {
    "colab": {
      "name": "Regression_metrics.ipynb",
      "provenance": [],
      "collapsed_sections": []
    },
    "kernelspec": {
      "name": "python3",
      "display_name": "Python 3"
    }
  },
  "cells": [
    {
      "cell_type": "code",
      "metadata": {
        "id": "pzNkLTBDZPsX",
        "colab_type": "code",
        "colab": {}
      },
      "source": [
        ""
      ],
      "execution_count": null,
      "outputs": []
    },
    {
      "cell_type": "markdown",
      "metadata": {
        "id": "tih6cQJWZQQc",
        "colab_type": "text"
      },
      "source": [
        "**Mean Absolute Error (MAE)**\n",
        "\n",
        "It is simply the average of the squared difference between the target value and the value predicted by the regression model. As it squares the differences, it penalizes even a small error which leads to over-estimation of how bad the model is.\n",
        "\n",
        "**Root Mean Squared Error:**\n",
        "\n",
        "it is the square root of the averaged squared difference between the target value and the value predicted by the model.\n",
        "\n",
        "RMSE is highly affected by outlier values. As compared to mean absolute error, RMSE gives higher weightage and punishes large errors."
      ]
    },
    {
      "cell_type": "markdown",
      "metadata": {
        "id": "Xr7Hnzs_Z-VF",
        "colab_type": "text"
      },
      "source": [
        "![alt text](https://4.bp.blogspot.com/-wG7IbjTfE6k/XGUvqm7TCVI/AAAAAAAAAZU/vpH1kuKTIooKTcVlnm1EVRCXLVZM9cPNgCLcBGAs/s1600/formula-MAE-MSE-RMSE-RSquared.JPG)"
      ]
    },
    {
      "cell_type": "markdown",
      "metadata": {
        "id": "FPZKa9S6iqBy",
        "colab_type": "text"
      },
      "source": [
        "**3. Root Mean Squared Logarithmic Error**\n",
        "\n",
        "![alt text](https://channabasavagola.github.io/img/RMSLE.jpeg)\n",
        "\n",
        "\n",
        "If both predicted and actual values are small: RMSE and RMSLE is same.\n",
        "\n",
        "If either predicted or the actual value is big: RMSE > RMSLE\n",
        "\n",
        "If both predicted and actual values are big: RMSE > RMSLE (RMSLE becomes almost negligible)"
      ]
    },
    {
      "cell_type": "markdown",
      "metadata": {
        "id": "4RmFp9SRiqLg",
        "colab_type": "text"
      },
      "source": [
        "Example: \n",
        "Y = 60 ,80, 90\n",
        "\n",
        "X = 67, 78 ,91\n",
        "\n",
        "On calculating, their RMSE and RMSLE comes out to be: 4.242 and 0.6466 respectively\n",
        "\n",
        "Now let us introduce an outlier in the data\n",
        "\n",
        "Y = 60, 80 ,90 ,750\n",
        "\n",
        "X = 67, 78 ,91, 102\n",
        "\n",
        "Now, in this case, the RMSE and RMSLE comes out to be: 374.724 and 1.160 respectively.\n",
        "\n",
        "**RMSE explodes in magnitude as soon as it encounters an outlier. In contrast, even on the introduction of the outlier, the RMSLE error is not affected much.**\n",
        "\n",
        "**Ex2.**\n",
        "\n",
        "case1\n",
        "\n",
        "Y = 100\n",
        "\n",
        "X = 90\n",
        "\n",
        "Calculated RMLSE: 0.1053\n",
        "Calculated RMSE: 10\n",
        "\n",
        "Case 2:\n",
        "\n",
        "Y = 10000\n",
        "\n",
        "X = 9000\n",
        "\n",
        "Calculated RMSLE: 0.1053\n",
        "Calculated RMSE : 1000\n",
        "\n",
        "**RMSLE metric only considers the relative error between and the Predicted and the actual value and the scale of the error is not significant. On the other hand, RMSE value Increases in magnitude if the scale of error increases.**"
      ]
    },
    {
      "cell_type": "markdown",
      "metadata": {
        "id": "__esuDPtknQ-",
        "colab_type": "text"
      },
      "source": [
        "RMSLE incurs a larger penalty for the underestimation of the Actual variable than the Overestimation"
      ]
    },
    {
      "cell_type": "markdown",
      "metadata": {
        "id": "XX8hRLjclJgm",
        "colab_type": "text"
      },
      "source": [
        "**R² Error:**\n",
        "\n",
        "Coefficient of Determination or R² is another metric used for evaluating the performance of a regression model. the R² will always be less than or equal to 1.Nearer the value to 1 means model is good. R-Squared does not penalize for adding features that add no value to the model.\n",
        "\n",
        "![alt text](https://qph.fs.quoracdn.net/main-qimg-3db62a3bd0567bec0c4e4bcb8fb103ec.webp)\n",
        "\n",
        "\n",
        "\n",
        "if model has too many terms and too many high-order polynomials you can run into the problem of over-fitting the data. When you over-fit data, a misleadingly high R2 value can lead to misleading projections."
      ]
    },
    {
      "cell_type": "markdown",
      "metadata": {
        "id": "kU4HxZvYlJdE",
        "colab_type": "text"
      },
      "source": [
        "**Adjusted R-Squared**\n",
        "\n",
        "A model performing equal to baseline would give R-Squared as 0. Better the model, higher the r2 value. The best model with all correct predictions would give R-Squared as 1. However, on adding new features to the model, the R-Squared value either increases or remains the same. R-Squared does not penalize for adding features that add no value to the model\n",
        "\n",
        "![alt text](https://cdn.analyticsvidhya.com/wp-content/uploads/2019/05/Screenshot-2019-05-16-at-7.14.36-PM-300x95.png)\n",
        "\n",
        "k: number of features\n",
        "\n",
        "n: number of samples\n",
        "\n",
        "\n",
        "this metric takes the number of features into account. When we add more features, the term in the denominator n-(k +1) decreases, so the whole expression increases.\n",
        "\n",
        "If R-Squared does not increase, that means the feature added isn’t valuable for our model. So overall we subtract a greater value from 1 and adjusted r2, in turn, would decrease.\n",
        "\n",
        "R2 shows how well terms (data points) fit a curve or line. Adjusted R2 also indicates how well terms fit a curve or line, but adjusts for the number of terms in a model. If you add more and more useless variables to a model, adjusted r-squared will decrease. If you add more useful variables, adjusted r-squared will increase. Adjusted R2 will always be less than or equal to R2."
      ]
    },
    {
      "cell_type": "markdown",
      "metadata": {
        "id": "uuL90zW7lJbB",
        "colab_type": "text"
      },
      "source": [
        ""
      ]
    }
  ]
}