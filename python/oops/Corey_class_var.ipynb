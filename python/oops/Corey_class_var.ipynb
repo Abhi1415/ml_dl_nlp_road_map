{
  "nbformat": 4,
  "nbformat_minor": 0,
  "metadata": {
    "colab": {
      "name": "Corey_class_var.ipynb",
      "provenance": []
    },
    "kernelspec": {
      "name": "python3",
      "display_name": "Python 3"
    }
  },
  "cells": [
    {
      "cell_type": "code",
      "metadata": {
        "id": "TbDS7Px32tl6",
        "colab_type": "code",
        "colab": {}
      },
      "source": [
        "class Emp:\n",
        "  def __init__(self, first, last,pay):\n",
        "    self.first = first \n",
        "    self.last =last \n",
        "    self.pay = pay\n",
        "    self.email = first +'.'+last+\"@ofc.com\"\n",
        "  \n",
        "  def fullname(self):\n",
        "    return '{} {} '.format(self.first, self.last)\n",
        "  def apply_raise(self): \n",
        "    self.pay = int(self.pay*1.04)"
      ],
      "execution_count": 0,
      "outputs": []
    },
    {
      "cell_type": "code",
      "metadata": {
        "id": "4LSDfyDp2tht",
        "colab_type": "code",
        "colab": {}
      },
      "source": [
        "emp1 = Emp('uttam','kumar', 50000)\n",
        "emp2= Emp('test', 'user', 60000)"
      ],
      "execution_count": 0,
      "outputs": []
    },
    {
      "cell_type": "code",
      "metadata": {
        "id": "86NyJxF-2teG",
        "colab_type": "code",
        "colab": {
          "base_uri": "https://localhost:8080/",
          "height": 51
        },
        "outputId": "e02a9181-b656-4e8d-a14b-5c1ac4534225"
      },
      "source": [
        "print(emp1.pay) # applied raise for emp1\n",
        "emp1.apply_raise()\n",
        "print(emp1.pay)"
      ],
      "execution_count": 39,
      "outputs": [
        {
          "output_type": "stream",
          "text": [
            "50000\n",
            "52000\n"
          ],
          "name": "stdout"
        }
      ]
    },
    {
      "cell_type": "code",
      "metadata": {
        "id": "7FyDO3FN2tas",
        "colab_type": "code",
        "colab": {}
      },
      "source": [
        "class Emp1:\n",
        "  raise_amount = 1.04 # class variable\n",
        "  num_of_emps = 0\n",
        "\n",
        "  def __init__(self, first, last,pay):\n",
        "    self.first = first \n",
        "    self.last =last \n",
        "    self.pay = pay\n",
        "    self.email = first +'.'+last+\"@ofc.com\"\n",
        "\n",
        "    Emp1.num_of_emps += 1\n",
        "  \n",
        "  def fullname(self):\n",
        "    return '{} {} '.format(self.first, self.last)\n",
        "  def apply_raise(self): \n",
        "    self.pay = int(self.pay*self.raise_amount)#used self"
      ],
      "execution_count": 0,
      "outputs": []
    },
    {
      "cell_type": "code",
      "metadata": {
        "id": "Qsg_i4CRBwRD",
        "colab_type": "code",
        "colab": {
          "base_uri": "https://localhost:8080/",
          "height": 51
        },
        "outputId": "35095a87-d786-4afc-ed1d-691fb7d0f01e"
      },
      "source": [
        "print(Emp1.num_of_emps)\n",
        "emp1 = Emp1('uttam','kumar', 50000)\n",
        "emp2= Emp1('test', 'user', 60000)\n",
        "print(Emp1.num_of_emps)  # no_of_emps incremented by 1 evvery time when we initiate object "
      ],
      "execution_count": 54,
      "outputs": [
        {
          "output_type": "stream",
          "text": [
            "0\n",
            "2\n"
          ],
          "name": "stdout"
        }
      ]
    },
    {
      "cell_type": "code",
      "metadata": {
        "id": "J6ADdtsKDfen",
        "colab_type": "code",
        "colab": {}
      },
      "source": [
        "emp1.raise_amount= 1.05"
      ],
      "execution_count": 0,
      "outputs": []
    },
    {
      "cell_type": "code",
      "metadata": {
        "id": "PNpvR-Nq2tWU",
        "colab_type": "code",
        "colab": {
          "base_uri": "https://localhost:8080/",
          "height": 68
        },
        "outputId": "0a02c367-6007-45f7-e1c0-a45832ee932b"
      },
      "source": [
        "print(Emp1.raise_amount)\n",
        "print(emp1.raise_amount)\n",
        "print(emp2.raise_amount)"
      ],
      "execution_count": 51,
      "outputs": [
        {
          "output_type": "stream",
          "text": [
            "1.04\n",
            "1.05\n",
            "1.04\n"
          ],
          "name": "stdout"
        }
      ]
    },
    {
      "cell_type": "code",
      "metadata": {
        "id": "5QfsM2bV2tSm",
        "colab_type": "code",
        "colab": {
          "base_uri": "https://localhost:8080/",
          "height": 153
        },
        "outputId": "5da7dc91-8974-4e96-f2c8-554e919164d7"
      },
      "source": [
        "Emp1.__dict__"
      ],
      "execution_count": 45,
      "outputs": [
        {
          "output_type": "execute_result",
          "data": {
            "text/plain": [
              "mappingproxy({'__dict__': <attribute '__dict__' of 'Emp1' objects>,\n",
              "              '__doc__': None,\n",
              "              '__init__': <function __main__.Emp1.__init__>,\n",
              "              '__module__': '__main__',\n",
              "              '__weakref__': <attribute '__weakref__' of 'Emp1' objects>,\n",
              "              'apply_raise': <function __main__.Emp1.apply_raise>,\n",
              "              'fullname': <function __main__.Emp1.fullname>,\n",
              "              'raise_amount': 1.04})"
            ]
          },
          "metadata": {
            "tags": []
          },
          "execution_count": 45
        }
      ]
    },
    {
      "cell_type": "code",
      "metadata": {
        "id": "YZ8RSxMX2tO-",
        "colab_type": "code",
        "colab": {}
      },
      "source": [
        ""
      ],
      "execution_count": 0,
      "outputs": []
    },
    {
      "cell_type": "code",
      "metadata": {
        "id": "_iBfjZpd2tIn",
        "colab_type": "code",
        "colab": {}
      },
      "source": [
        ""
      ],
      "execution_count": 0,
      "outputs": []
    }
  ]
}