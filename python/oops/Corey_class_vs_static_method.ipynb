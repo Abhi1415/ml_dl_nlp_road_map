{
  "nbformat": 4,
  "nbformat_minor": 0,
  "metadata": {
    "colab": {
      "name": "Corey_class_vs_static_method.ipynb",
      "provenance": []
    },
    "kernelspec": {
      "name": "python3",
      "display_name": "Python 3"
    }
  },
  "cells": [
    {
      "cell_type": "code",
      "metadata": {
        "id": "sGj4lX0jAaw2",
        "colab_type": "code",
        "colab": {}
      },
      "source": [
        "class Employee: \n",
        "  num_of_emps= 0\n",
        "  raise_amt= 1.04\n",
        "  def __init__(self, first, last,pay):\n",
        "    self.first = first \n",
        "    self.last = last\n",
        "    self.email = self.first+'.'+ self.last+'@gmail.com'\n",
        "    self.pay = pay\n",
        "\n",
        "    Employee.num_of_emps +=1\n",
        "  \n",
        "  def fullname(self):\n",
        "    return '{} {}'.format(self.first+self.last)\n",
        "  \n",
        "  def apply_raise(self): \n",
        "    self.pay = int(self.pay*self.raise_amt)\n",
        "  \n",
        "  @classmethod\n",
        "  def set_raise_amt(cls,amount):\n",
        "    cls.raise_amt = amount\n"
      ],
      "execution_count": 0,
      "outputs": []
    },
    {
      "cell_type": "code",
      "metadata": {
        "id": "xwRDExn2JH7X",
        "colab_type": "code",
        "colab": {}
      },
      "source": [
        ""
      ],
      "execution_count": 0,
      "outputs": []
    },
    {
      "cell_type": "code",
      "metadata": {
        "id": "r0E7JNwGD8ne",
        "colab_type": "code",
        "colab": {}
      },
      "source": [
        "emp1= Employee('uttam','kumar',50000)\n",
        "emp2 = Employee('test','user', 60000)"
      ],
      "execution_count": 0,
      "outputs": []
    },
    {
      "cell_type": "markdown",
      "metadata": {
        "id": "1IxhX4sJExdS",
        "colab_type": "text"
      },
      "source": [
        "Regular method automatically take instance as first argument and by convention we were recalling as self .\n",
        "\n",
        "By using class method it it take class as a first argument \n",
        "we can do this by using @classmethod as a decorator "
      ]
    },
    {
      "cell_type": "code",
      "metadata": {
        "id": "xeiGDfkzEwaj",
        "colab_type": "code",
        "colab": {
          "base_uri": "https://localhost:8080/",
          "height": 68
        },
        "outputId": "f413fbbb-bee8-486f-b22b-13338c136b43"
      },
      "source": [
        "print(Employee.raise_amt)\n",
        "print(emp1.raise_amt)\n",
        "print(emp2.raise_amt)"
      ],
      "execution_count": 26,
      "outputs": [
        {
          "output_type": "stream",
          "text": [
            "1.04\n",
            "1.04\n",
            "1.04\n"
          ],
          "name": "stdout"
        }
      ]
    },
    {
      "cell_type": "code",
      "metadata": {
        "id": "2LSxUhpaD9Fx",
        "colab_type": "code",
        "colab": {}
      },
      "source": [
        "Employee.set_raise_amt(1.05)"
      ],
      "execution_count": 0,
      "outputs": []
    },
    {
      "cell_type": "code",
      "metadata": {
        "id": "TxsmXZY3D9D-",
        "colab_type": "code",
        "colab": {
          "base_uri": "https://localhost:8080/",
          "height": 68
        },
        "outputId": "683e6048-b480-4ca2-ffb6-dfb208eb41d1"
      },
      "source": [
        "print(Employee.raise_amt) #incresed class variable to 1.05\n",
        "print(emp1.raise_amt)\n",
        "print(emp2.raise_amt)"
      ],
      "execution_count": 28,
      "outputs": [
        {
          "output_type": "stream",
          "text": [
            "1.05\n",
            "1.05\n",
            "1.05\n"
          ],
          "name": "stdout"
        }
      ]
    },
    {
      "cell_type": "code",
      "metadata": {
        "id": "8HAZpLLRD9CF",
        "colab_type": "code",
        "colab": {}
      },
      "source": [
        "emp1.set_raise_amt(1.06)# raised class varibale by instance "
      ],
      "execution_count": 0,
      "outputs": []
    },
    {
      "cell_type": "code",
      "metadata": {
        "id": "q923Jg6dK823",
        "colab_type": "code",
        "colab": {
          "base_uri": "https://localhost:8080/",
          "height": 68
        },
        "outputId": "260c98e9-c1bf-4fab-84b7-8c902f71276d"
      },
      "source": [
        "print(Employee.raise_amt) #incresed class variable to 1.06\n",
        "print(emp1.raise_amt)\n",
        "print(emp2.raise_amt)"
      ],
      "execution_count": 31,
      "outputs": [
        {
          "output_type": "stream",
          "text": [
            "1.06\n",
            "1.06\n",
            "1.06\n"
          ],
          "name": "stdout"
        }
      ]
    },
    {
      "cell_type": "code",
      "metadata": {
        "id": "_H8Ob67kD9AO",
        "colab_type": "code",
        "colab": {
          "base_uri": "https://localhost:8080/",
          "height": 51
        },
        "outputId": "19f1a564-a223-4603-cf38-f5e7aed1aa80"
      },
      "source": [
        "emp_str_1= 'xyz-abc-7000'   # if this is common we can do more mannual \n",
        "first, last , pay = emp_str_1.split('-')\n",
        "new_emp_1 = Emnployee(first , last , pay)\n",
        "print(new_emp_1.email)\n",
        "print(new_emp_1.pay)"
      ],
      "execution_count": 40,
      "outputs": [
        {
          "output_type": "stream",
          "text": [
            "xyz.abc@gmail.com\n",
            "7000\n"
          ],
          "name": "stdout"
        }
      ]
    },
    {
      "cell_type": "markdown",
      "metadata": {
        "id": "FpztaON9MjXD",
        "colab_type": "text"
      },
      "source": [
        "so that we can create constuctor so that it allow pass and string and create employee "
      ]
    },
    {
      "cell_type": "code",
      "metadata": {
        "id": "78tJHIF6D89Z",
        "colab_type": "code",
        "colab": {}
      },
      "source": [
        "class Employee: \n",
        "  num_of_emps= 0\n",
        "  raise_amt= 1.04\n",
        "  def __init__(self, first, last,pay):\n",
        "    self.first = first \n",
        "    self.last = last\n",
        "    self.email = self.first+'.'+ self.last+'@gmail.com'\n",
        "    self.pay = pay\n",
        "\n",
        "    Employee.num_of_emps +=1\n",
        "  \n",
        "  def fullname(self):\n",
        "    return '{} {}'.format(self.first+self.last)\n",
        "  \n",
        "  def apply_raise(self): \n",
        "    self.pay = int(self.pay*self.raise_amt)\n",
        "  \n",
        "  @classmethod\n",
        "  def set_raise_amt(cls,amount):\n",
        "    cls.raise_amt = amount\n",
        "  \n",
        "  @classmethod\n",
        "  def from_string(cls, emp_str): \n",
        "    first, last,pay= emp_str.split('-')\n",
        "    return cls(first,last,pay)\n",
        "  \n"
      ],
      "execution_count": 0,
      "outputs": []
    },
    {
      "cell_type": "code",
      "metadata": {
        "id": "cDkbRP5ID84d",
        "colab_type": "code",
        "colab": {}
      },
      "source": [
        "emp_str_2 = 'test2-user2-5000'\n",
        "new_emp_2 = Employee.from_string(emp_str_2)"
      ],
      "execution_count": 0,
      "outputs": []
    },
    {
      "cell_type": "code",
      "metadata": {
        "id": "Jn4xa54XD82C",
        "colab_type": "code",
        "colab": {
          "base_uri": "https://localhost:8080/",
          "height": 34
        },
        "outputId": "bd63b31d-d881-4753-8304-77fa8c2aee7a"
      },
      "source": [
        "new_emp_2.email, new_emp_2.pay"
      ],
      "execution_count": 47,
      "outputs": [
        {
          "output_type": "execute_result",
          "data": {
            "text/plain": [
              "('test2.user2@gmail.com', '5000')"
            ]
          },
          "metadata": {
            "tags": []
          },
          "execution_count": 47
        }
      ]
    },
    {
      "cell_type": "markdown",
      "metadata": {
        "id": "n1yg5X-YV2mx",
        "colab_type": "text"
      },
      "source": [
        "regular Method : \n",
        "reular method pass automatically instance as first argument called self\n",
        "\n",
        "class method pass automatically class as first argument called cls \n",
        "\n",
        "\n",
        "static method pass anything automatically .They have some logical connection with class "
      ]
    },
    {
      "cell_type": "code",
      "metadata": {
        "id": "wH9MV4wqD8yp",
        "colab_type": "code",
        "colab": {}
      },
      "source": [
        "class Employee: \n",
        "  num_of_emps= 0\n",
        "  raise_amt= 1.04\n",
        "  def __init__(self, first, last,pay):\n",
        "    self.first = first \n",
        "    self.last = last\n",
        "    self.email = self.first+'.'+ self.last+'@gmail.com'\n",
        "    self.pay = pay\n",
        "\n",
        "    Employee.num_of_emps +=1\n",
        "  \n",
        "  def fullname(self):\n",
        "    return '{} {}'.format(self.first+self.last)\n",
        "  \n",
        "  def apply_raise(self): \n",
        "    self.pay = int(self.pay*self.raise_amt)\n",
        "  \n",
        "  @classmethod\n",
        "  def set_raise_amt(cls,amount):\n",
        "    cls.raise_amt = amount\n",
        "  \n",
        "  @classmethod\n",
        "  def from_string(cls, emp_str): \n",
        "    first, last,pay= emp_str.split('-')\n",
        "    return cls(first,last,pay)\n",
        "  \n",
        "  @staticmethod\n",
        "  def is_workday(day):\n",
        "    if day.weekday() ==5  or day.weekday() ==6:\n",
        "      return False\n",
        "    return True"
      ],
      "execution_count": 0,
      "outputs": []
    },
    {
      "cell_type": "code",
      "metadata": {
        "id": "lVBxBeFMXe0G",
        "colab_type": "code",
        "colab": {}
      },
      "source": [
        "import datetime \n",
        "my_date = datetime.date(2016,7,10)"
      ],
      "execution_count": 0,
      "outputs": []
    },
    {
      "cell_type": "code",
      "metadata": {
        "id": "Oe4J0Ny1XrFQ",
        "colab_type": "code",
        "colab": {
          "base_uri": "https://localhost:8080/",
          "height": 34
        },
        "outputId": "39e7c6b3-a459-41dc-c7f6-be6e08376bd2"
      },
      "source": [
        "print(Employee.is_workday(my_date))"
      ],
      "execution_count": 52,
      "outputs": [
        {
          "output_type": "stream",
          "text": [
            "False\n"
          ],
          "name": "stdout"
        }
      ]
    }
  ]
}