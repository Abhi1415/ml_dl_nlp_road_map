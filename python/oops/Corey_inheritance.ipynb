{
  "nbformat": 4,
  "nbformat_minor": 0,
  "metadata": {
    "colab": {
      "name": "Corey_inheritance.ipynb",
      "provenance": []
    },
    "kernelspec": {
      "name": "python3",
      "display_name": "Python 3"
    }
  },
  "cells": [
    {
      "cell_type": "code",
      "metadata": {
        "id": "sGj4lX0jAaw2",
        "colab_type": "code",
        "colab": {}
      },
      "source": [
        "class Employee:\n",
        "\n",
        "  raise_amt= 1.04\n",
        "\n",
        "  def __init__(self, first, last,pay):\n",
        "    self.first = first \n",
        "    self.last = last\n",
        "    self.email = self.first+'.'+ self.last+'@gmail.com'\n",
        "    self.pay = pay\n",
        "  \n",
        "  def fullname(self):\n",
        "    return '{} {}'.format(self.first,self.last)\n",
        "  \n",
        "  def apply_raise(self): \n",
        "    self.pay = int(self.pay*self.raise_amt)"
      ],
      "execution_count": 0,
      "outputs": []
    },
    {
      "cell_type": "code",
      "metadata": {
        "id": "xwRDExn2JH7X",
        "colab_type": "code",
        "colab": {}
      },
      "source": [
        "class Developer(Employee):\n",
        "  pass"
      ],
      "execution_count": 0,
      "outputs": []
    },
    {
      "cell_type": "code",
      "metadata": {
        "id": "r0E7JNwGD8ne",
        "colab_type": "code",
        "colab": {}
      },
      "source": [
        "dev_1= Developer('uttam','kumar',50000)\n",
        "dev_2 = Developer('test','user', 60000)"
      ],
      "execution_count": 0,
      "outputs": []
    },
    {
      "cell_type": "code",
      "metadata": {
        "id": "6xiaIe9SZZ8w",
        "colab_type": "code",
        "colab": {
          "base_uri": "https://localhost:8080/",
          "height": 34
        },
        "outputId": "e60edc23-c71a-4869-9ad2-89a6c1b5ca24"
      },
      "source": [
        "dev_1.email, dev_2.email"
      ],
      "execution_count": 49,
      "outputs": [
        {
          "output_type": "execute_result",
          "data": {
            "text/plain": [
              "('uttam.kumar@gmail.com', 'test.user@gmail.com')"
            ]
          },
          "metadata": {
            "tags": []
          },
          "execution_count": 49
        }
      ]
    },
    {
      "cell_type": "code",
      "metadata": {
        "id": "zLbU9woqZZ4K",
        "colab_type": "code",
        "colab": {
          "base_uri": "https://localhost:8080/",
          "height": 561
        },
        "outputId": "d4cd8fca-82ea-4089-9d7d-04f2277196b8"
      },
      "source": [
        "print(help(Developer))"
      ],
      "execution_count": 50,
      "outputs": [
        {
          "output_type": "stream",
          "text": [
            "Help on class Developer in module __main__:\n",
            "\n",
            "class Developer(Employee)\n",
            " |  Method resolution order:\n",
            " |      Developer\n",
            " |      Employee\n",
            " |      builtins.object\n",
            " |  \n",
            " |  Methods inherited from Employee:\n",
            " |  \n",
            " |  __init__(self, first, last, pay)\n",
            " |      Initialize self.  See help(type(self)) for accurate signature.\n",
            " |  \n",
            " |  apply_raise(self)\n",
            " |  \n",
            " |  fullname(self)\n",
            " |  \n",
            " |  ----------------------------------------------------------------------\n",
            " |  Data descriptors inherited from Employee:\n",
            " |  \n",
            " |  __dict__\n",
            " |      dictionary for instance variables (if defined)\n",
            " |  \n",
            " |  __weakref__\n",
            " |      list of weak references to the object (if defined)\n",
            " |  \n",
            " |  ----------------------------------------------------------------------\n",
            " |  Data and other attributes inherited from Employee:\n",
            " |  \n",
            " |  raise_amt = 1.04\n",
            "\n",
            "None\n"
          ],
          "name": "stdout"
        }
      ]
    },
    {
      "cell_type": "code",
      "metadata": {
        "id": "_23VhYlVZZ0-",
        "colab_type": "code",
        "colab": {
          "base_uri": "https://localhost:8080/",
          "height": 51
        },
        "outputId": "e8da8677-8f2d-4f87-fb26-a91776d12aef"
      },
      "source": [
        "print(dev_1.pay)\n",
        "dev_1.apply_raise()\n",
        "print(dev_1.pay)"
      ],
      "execution_count": 51,
      "outputs": [
        {
          "output_type": "stream",
          "text": [
            "50000\n",
            "52000\n"
          ],
          "name": "stdout"
        }
      ]
    },
    {
      "cell_type": "code",
      "metadata": {
        "id": "WV1KQQUkZZxz",
        "colab_type": "code",
        "colab": {}
      },
      "source": [
        "class Developer(Employee): # Developer instance will be raise by 1.10\n",
        "  raise_amt = 1.10"
      ],
      "execution_count": 0,
      "outputs": []
    },
    {
      "cell_type": "code",
      "metadata": {
        "id": "qEHU8SILZZrH",
        "colab_type": "code",
        "colab": {
          "base_uri": "https://localhost:8080/",
          "height": 51
        },
        "outputId": "ad362a2d-6dda-40bd-8dba-2ce60281e5ea"
      },
      "source": [
        "print(dev_1.pay)\n",
        "dev_1.apply_raise()\n",
        "print(dev_1.pay)"
      ],
      "execution_count": 53,
      "outputs": [
        {
          "output_type": "stream",
          "text": [
            "52000\n",
            "54080\n"
          ],
          "name": "stdout"
        }
      ]
    },
    {
      "cell_type": "code",
      "metadata": {
        "id": "yEw4kTSSZZfj",
        "colab_type": "code",
        "colab": {}
      },
      "source": [
        "class Developer(Employee): \n",
        "  raise_amt = 1.10\n",
        "  def __init__(self, first, last,pay, prog_lang):\n",
        "    super().__init__(first,last,pay) # or Employee.__init__(self, first, last, pay)\n",
        "    self.prog_lang = prog_lang"
      ],
      "execution_count": 0,
      "outputs": []
    },
    {
      "cell_type": "code",
      "metadata": {
        "id": "P10mYcZtZZcA",
        "colab_type": "code",
        "colab": {}
      },
      "source": [
        "dev_1 = Developer('test1','user1', 1000, 'Python')\n",
        "dev_2 = Developer('test2','user2', 2000, 'R')"
      ],
      "execution_count": 0,
      "outputs": []
    },
    {
      "cell_type": "code",
      "metadata": {
        "id": "TxFAj6CvZZYd",
        "colab_type": "code",
        "colab": {
          "base_uri": "https://localhost:8080/",
          "height": 34
        },
        "outputId": "75ce4a53-5cd3-476c-8e90-16c8b67b7734"
      },
      "source": [
        "dev_1.email, dev_1.prog_lang"
      ],
      "execution_count": 56,
      "outputs": [
        {
          "output_type": "execute_result",
          "data": {
            "text/plain": [
              "('test1.user1@gmail.com', 'Python')"
            ]
          },
          "metadata": {
            "tags": []
          },
          "execution_count": 56
        }
      ]
    },
    {
      "cell_type": "code",
      "metadata": {
        "id": "WvR4hPInZZUI",
        "colab_type": "code",
        "colab": {}
      },
      "source": [
        "class Manager(Employee):\n",
        "\n",
        "    def __init__(self, first, last, pay, employees=None):\n",
        "        super().__init__(first, last, pay)\n",
        "        if employees is None:\n",
        "            self.employees = []\n",
        "        else:\n",
        "            self.employees = employees\n",
        "\n",
        "    def add_emp(self, emp):\n",
        "        if emp not in self.employees:\n",
        "            self.employees.append(emp)\n",
        "\n",
        "    def remove_emp(self, emp):\n",
        "        if emp in self.employees:\n",
        "            self.employees.remove(emp)\n",
        "\n",
        "    def print_emps(self):\n",
        "        for emp in self.employees:\n",
        "            print('-->', emp.fullname())"
      ],
      "execution_count": 0,
      "outputs": []
    },
    {
      "cell_type": "code",
      "metadata": {
        "id": "9ZeG47tdZZKe",
        "colab_type": "code",
        "colab": {}
      },
      "source": [
        "mgr_1 = Manager('sue','smith', 9000, [dev_1])"
      ],
      "execution_count": 0,
      "outputs": []
    },
    {
      "cell_type": "code",
      "metadata": {
        "id": "hTArx1zzexvE",
        "colab_type": "code",
        "colab": {
          "base_uri": "https://localhost:8080/",
          "height": 34
        },
        "outputId": "76192623-2de6-4d2e-a87e-18b5108c616a"
      },
      "source": [
        "mgr_1.email"
      ],
      "execution_count": 59,
      "outputs": [
        {
          "output_type": "execute_result",
          "data": {
            "text/plain": [
              "'sue.smith@gmail.com'"
            ]
          },
          "metadata": {
            "tags": []
          },
          "execution_count": 59
        }
      ]
    },
    {
      "cell_type": "code",
      "metadata": {
        "id": "LcFSs59LexpF",
        "colab_type": "code",
        "colab": {
          "base_uri": "https://localhost:8080/",
          "height": 34
        },
        "outputId": "ba2bec03-157f-47bb-f488-9791afbeace8"
      },
      "source": [
        "mgr_1.print_emps()"
      ],
      "execution_count": 60,
      "outputs": [
        {
          "output_type": "stream",
          "text": [
            "--> test1 user1\n"
          ],
          "name": "stdout"
        }
      ]
    },
    {
      "cell_type": "code",
      "metadata": {
        "id": "q8VAVX36exko",
        "colab_type": "code",
        "colab": {}
      },
      "source": [
        "mgr_1.add_emp(dev_2)"
      ],
      "execution_count": 0,
      "outputs": []
    },
    {
      "cell_type": "code",
      "metadata": {
        "id": "K72dLNY5exfT",
        "colab_type": "code",
        "colab": {
          "base_uri": "https://localhost:8080/",
          "height": 51
        },
        "outputId": "5535f8b3-8385-483d-e82b-2c658f7cff8a"
      },
      "source": [
        "mgr_1.print_emps()"
      ],
      "execution_count": 63,
      "outputs": [
        {
          "output_type": "stream",
          "text": [
            "--> test1 user1\n",
            "--> test2 user2\n"
          ],
          "name": "stdout"
        }
      ]
    },
    {
      "cell_type": "code",
      "metadata": {
        "id": "t4cZiytpexXB",
        "colab_type": "code",
        "colab": {}
      },
      "source": [
        "mgr_1.remove_emp(dev_1)"
      ],
      "execution_count": 0,
      "outputs": []
    },
    {
      "cell_type": "code",
      "metadata": {
        "id": "i-ygPp8DhtzZ",
        "colab_type": "code",
        "colab": {
          "base_uri": "https://localhost:8080/",
          "height": 34
        },
        "outputId": "ca341eca-0b81-4bad-8108-57376c74c348"
      },
      "source": [
        "mgr_1.print_emps()"
      ],
      "execution_count": 65,
      "outputs": [
        {
          "output_type": "stream",
          "text": [
            "--> test2 user2\n"
          ],
          "name": "stdout"
        }
      ]
    },
    {
      "cell_type": "code",
      "metadata": {
        "id": "IbCpqgQHh81w",
        "colab_type": "code",
        "colab": {
          "base_uri": "https://localhost:8080/",
          "height": 34
        },
        "outputId": "523b3227-d175-4d71-8a21-cdc75becb453"
      },
      "source": [
        "print(isinstance(mgr_1,Manager))"
      ],
      "execution_count": 66,
      "outputs": [
        {
          "output_type": "stream",
          "text": [
            "True\n"
          ],
          "name": "stdout"
        }
      ]
    },
    {
      "cell_type": "code",
      "metadata": {
        "id": "eXUws8A5h9YM",
        "colab_type": "code",
        "colab": {
          "base_uri": "https://localhost:8080/",
          "height": 34
        },
        "outputId": "d050e577-6fa0-4b9e-d23f-d44676aaeac1"
      },
      "source": [
        "print(isinstance(mgr_1,Employee))"
      ],
      "execution_count": 67,
      "outputs": [
        {
          "output_type": "stream",
          "text": [
            "True\n"
          ],
          "name": "stdout"
        }
      ]
    },
    {
      "cell_type": "code",
      "metadata": {
        "id": "J_Cv4AJUh8wG",
        "colab_type": "code",
        "colab": {
          "base_uri": "https://localhost:8080/",
          "height": 34
        },
        "outputId": "d8e33acb-4cfe-4e67-8f92-a6cc72efe024"
      },
      "source": [
        "print(isinstance(mgr_1,Developer))"
      ],
      "execution_count": 68,
      "outputs": [
        {
          "output_type": "stream",
          "text": [
            "False\n"
          ],
          "name": "stdout"
        }
      ]
    },
    {
      "cell_type": "code",
      "metadata": {
        "id": "MC_ypiI8h8r_",
        "colab_type": "code",
        "colab": {
          "base_uri": "https://localhost:8080/",
          "height": 34
        },
        "outputId": "bd4ee910-dcce-44f0-b6c8-8b373501f4cd"
      },
      "source": [
        "print(issubclass(Manager, Employee))"
      ],
      "execution_count": 69,
      "outputs": [
        {
          "output_type": "stream",
          "text": [
            "True\n"
          ],
          "name": "stdout"
        }
      ]
    },
    {
      "cell_type": "code",
      "metadata": {
        "id": "Hx9_KIKVh8lo",
        "colab_type": "code",
        "colab": {
          "base_uri": "https://localhost:8080/",
          "height": 34
        },
        "outputId": "38588654-9f5e-4817-ae31-284891518118"
      },
      "source": [
        "print(issubclass(Manager, Developer))"
      ],
      "execution_count": 70,
      "outputs": [
        {
          "output_type": "stream",
          "text": [
            "False\n"
          ],
          "name": "stdout"
        }
      ]
    }
  ]
}