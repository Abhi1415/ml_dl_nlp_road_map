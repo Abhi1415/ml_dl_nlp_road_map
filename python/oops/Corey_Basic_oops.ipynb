{
  "nbformat": 4,
  "nbformat_minor": 0,
  "metadata": {
    "colab": {
      "name": "Corey_Basic_oops.ipynb",
      "provenance": []
    },
    "kernelspec": {
      "name": "python3",
      "display_name": "Python 3"
    }
  },
  "cells": [
    {
      "cell_type": "code",
      "metadata": {
        "id": "zk3n3SNm2mp9",
        "colab_type": "code",
        "colab": {}
      },
      "source": [
        "class Employee:\n",
        "  pass"
      ],
      "execution_count": 0,
      "outputs": []
    },
    {
      "cell_type": "code",
      "metadata": {
        "id": "sBrsNhaM2txu",
        "colab_type": "code",
        "colab": {}
      },
      "source": [
        "emp1 = Employee()\n",
        "emp2 = Employee()"
      ],
      "execution_count": 0,
      "outputs": []
    },
    {
      "cell_type": "code",
      "metadata": {
        "id": "TEHOtbwJ2tuG",
        "colab_type": "code",
        "colab": {
          "base_uri": "https://localhost:8080/",
          "height": 34
        },
        "outputId": "0753e0c7-2173-4efe-83ab-c819b54f4acf"
      },
      "source": [
        "emp1, emp2 # both have unique memory address "
      ],
      "execution_count": 5,
      "outputs": [
        {
          "output_type": "execute_result",
          "data": {
            "text/plain": [
              "(<__main__.Employee at 0x7f3769f12978>, <__main__.Employee at 0x7f3769f12668>)"
            ]
          },
          "metadata": {
            "tags": []
          },
          "execution_count": 5
        }
      ]
    },
    {
      "cell_type": "code",
      "metadata": {
        "id": "QOfsxT7A6LCc",
        "colab_type": "code",
        "colab": {}
      },
      "source": [
        "emp1.first = 'uttam' #manual assigment \n",
        "emp1.last = 'kumatr'\n",
        "emp1.email = emp1.first+'.'+emp1.last+'@odc.com'"
      ],
      "execution_count": 0,
      "outputs": []
    },
    {
      "cell_type": "code",
      "metadata": {
        "id": "CRFokxKD6LtT",
        "colab_type": "code",
        "colab": {
          "base_uri": "https://localhost:8080/",
          "height": 34
        },
        "outputId": "c00174a4-32f9-4f76-a8b1-f4ad4c803d01"
      },
      "source": [
        "print(emp1.email)"
      ],
      "execution_count": 11,
      "outputs": [
        {
          "output_type": "stream",
          "text": [
            "uttam.kumatr@odc.com\n"
          ],
          "name": "stdout"
        }
      ]
    },
    {
      "cell_type": "code",
      "metadata": {
        "id": "PPv6AEd-6K6c",
        "colab_type": "code",
        "colab": {}
      },
      "source": [
        ""
      ],
      "execution_count": 0,
      "outputs": []
    },
    {
      "cell_type": "code",
      "metadata": {
        "id": "TbDS7Px32tl6",
        "colab_type": "code",
        "colab": {}
      },
      "source": [
        "class Emp:\n",
        "  def __init__(self, first, last,pay):\n",
        "    self.first = first \n",
        "    self.last =last \n",
        "    self.pay = pay\n",
        "    self.email = first +'.'+last+\"@ofc.com\"\n",
        "  \n",
        "  def fullname(self):\n",
        "    return '{} {} '.format(self.first, self.last)"
      ],
      "execution_count": 0,
      "outputs": []
    },
    {
      "cell_type": "code",
      "metadata": {
        "id": "4LSDfyDp2tht",
        "colab_type": "code",
        "colab": {}
      },
      "source": [
        "emp1 = Emp('uttam','kumar', 50000)\n",
        "emp2= Emp('test', 'user', 60000)"
      ],
      "execution_count": 0,
      "outputs": []
    },
    {
      "cell_type": "code",
      "metadata": {
        "id": "86NyJxF-2teG",
        "colab_type": "code",
        "colab": {
          "base_uri": "https://localhost:8080/",
          "height": 34
        },
        "outputId": "85597a14-bd08-45d8-b616-1fee1bbe837d"
      },
      "source": [
        "print(emp1.email)"
      ],
      "execution_count": 23,
      "outputs": [
        {
          "output_type": "stream",
          "text": [
            "uttam.kumar@ofc.com\n"
          ],
          "name": "stdout"
        }
      ]
    },
    {
      "cell_type": "code",
      "metadata": {
        "id": "7FyDO3FN2tas",
        "colab_type": "code",
        "colab": {
          "base_uri": "https://localhost:8080/",
          "height": 34
        },
        "outputId": "1bf775ec-e7f7-4fab-92d1-99c90eeb8250"
      },
      "source": [
        "emp1.fullname(), emp2.fullname()"
      ],
      "execution_count": 25,
      "outputs": [
        {
          "output_type": "execute_result",
          "data": {
            "text/plain": [
              "('uttam kumar ', 'test user ')"
            ]
          },
          "metadata": {
            "tags": []
          },
          "execution_count": 25
        }
      ]
    },
    {
      "cell_type": "code",
      "metadata": {
        "id": "PNpvR-Nq2tWU",
        "colab_type": "code",
        "colab": {
          "base_uri": "https://localhost:8080/",
          "height": 34
        },
        "outputId": "f4680d01-2457-4b8d-b2f7-845a677be83e"
      },
      "source": [
        "Emp.fullname(emp1)"
      ],
      "execution_count": 27,
      "outputs": [
        {
          "output_type": "execute_result",
          "data": {
            "text/plain": [
              "'uttam kumar '"
            ]
          },
          "metadata": {
            "tags": []
          },
          "execution_count": 27
        }
      ]
    },
    {
      "cell_type": "code",
      "metadata": {
        "id": "5QfsM2bV2tSm",
        "colab_type": "code",
        "colab": {}
      },
      "source": [
        ""
      ],
      "execution_count": 0,
      "outputs": []
    },
    {
      "cell_type": "code",
      "metadata": {
        "id": "YZ8RSxMX2tO-",
        "colab_type": "code",
        "colab": {}
      },
      "source": [
        ""
      ],
      "execution_count": 0,
      "outputs": []
    },
    {
      "cell_type": "code",
      "metadata": {
        "id": "_iBfjZpd2tIn",
        "colab_type": "code",
        "colab": {}
      },
      "source": [
        ""
      ],
      "execution_count": 0,
      "outputs": []
    }
  ]
}