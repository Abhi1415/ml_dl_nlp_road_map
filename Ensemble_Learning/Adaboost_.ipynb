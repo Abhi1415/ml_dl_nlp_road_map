{
  "nbformat": 4,
  "nbformat_minor": 0,
  "metadata": {
    "colab": {
      "name": "Adaboost .ipynb",
      "provenance": []
    },
    "kernelspec": {
      "name": "python3",
      "display_name": "Python 3"
    }
  },
  "cells": [
    {
      "cell_type": "code",
      "metadata": {
        "id": "pl5d-Z7aS52g",
        "colab_type": "code",
        "colab": {}
      },
      "source": [
        ""
      ],
      "execution_count": null,
      "outputs": []
    },
    {
      "cell_type": "markdown",
      "metadata": {
        "id": "n5PTdMfkl6M8",
        "colab_type": "text"
      },
      "source": [
        "Boosting is an ensemble modeling technique which attempts to build a strong classifier from the number of weak classifiers. \n",
        "\n",
        "![alt text](data:image/png;base64,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)"
      ]
    },
    {
      "cell_type": "markdown",
      "metadata": {
        "id": "GVqFxfjDKlMH",
        "colab_type": "text"
      },
      "source": [
        "**Adaboost:**\n",
        "\n",
        "Adaptive boosting or AdaBoost is one of the simplest boosting algorithms. Usually, decision trees are used for modelling. Multiple sequential models are created, each correcting the errors from the last model. AdaBoost assigns weights to the observations which are incorrectly predicted and the subsequent model works to predict these values correctly.\n",
        "\n",
        "Below are the steps for performing the AdaBoost algorithm:\n",
        "\n",
        "1. Initially, all observations in the dataset are given equal weights.\n",
        "A model is built on a subset of data.\n",
        "\n",
        "2. Using this model, predictions are made on the whole dataset.\n",
        "3. Errors are calculated by comparing the predictions and actual values.\n",
        "While creating the next model, higher weights are given to the data points which were predicted incorrectly.\n",
        "\n",
        "4. Weights can be determined using the error value. For instance, higher the error more is the weight assigned to the observation.\n",
        "\n",
        "5. This process is repeated until the error function does not change, or the maximum limit of the number of estimators is reached.\n",
        "\n",
        "\n",
        "![alt text](data:image/jpeg;base64,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)"
      ]
    },
    {
      "cell_type": "markdown",
      "metadata": {
        "id": "qI84gvHBM4b6",
        "colab_type": "text"
      },
      "source": [
        "**Example:**"
      ]
    },
    {
      "cell_type": "code",
      "metadata": {
        "id": "mkz0e8qqS540",
        "colab_type": "code",
        "colab": {}
      },
      "source": [
        "# Load libraries\n",
        "from sklearn.ensemble import AdaBoostClassifier\n",
        "from sklearn import datasets\n",
        "# Import train_test_split function\n",
        "from sklearn.model_selection import train_test_split\n",
        "#Import scikit-learn metrics module for accuracy calculation\n",
        "from sklearn import metrics"
      ],
      "execution_count": 1,
      "outputs": []
    },
    {
      "cell_type": "code",
      "metadata": {
        "id": "GjX15zcqS56J",
        "colab_type": "code",
        "colab": {}
      },
      "source": [
        "# Load data\n",
        "iris = datasets.load_iris()"
      ],
      "execution_count": 2,
      "outputs": []
    },
    {
      "cell_type": "code",
      "metadata": {
        "id": "hygmt2eMS59k",
        "colab_type": "code",
        "colab": {}
      },
      "source": [
        "X = iris.data\n",
        "y = iris.target"
      ],
      "execution_count": 6,
      "outputs": []
    },
    {
      "cell_type": "code",
      "metadata": {
        "id": "HdVXN1tENTjn",
        "colab_type": "code",
        "colab": {
          "base_uri": "https://localhost:8080/",
          "height": 101
        },
        "outputId": "1b61526a-4a84-433a-fa3e-0d9cd3122cc5"
      },
      "source": [
        "X[:5]"
      ],
      "execution_count": 7,
      "outputs": [
        {
          "output_type": "execute_result",
          "data": {
            "text/plain": [
              "array([[5.1, 3.5, 1.4, 0.2],\n",
              "       [4.9, 3. , 1.4, 0.2],\n",
              "       [4.7, 3.2, 1.3, 0.2],\n",
              "       [4.6, 3.1, 1.5, 0.2],\n",
              "       [5. , 3.6, 1.4, 0.2]])"
            ]
          },
          "metadata": {
            "tags": []
          },
          "execution_count": 7
        }
      ]
    },
    {
      "cell_type": "code",
      "metadata": {
        "id": "AFwbHmW2NV3x",
        "colab_type": "code",
        "colab": {
          "base_uri": "https://localhost:8080/",
          "height": 34
        },
        "outputId": "bd59588a-1837-4b68-e423-46fb51c13cb0"
      },
      "source": [
        "y[:5]"
      ],
      "execution_count": 8,
      "outputs": [
        {
          "output_type": "execute_result",
          "data": {
            "text/plain": [
              "array([0, 0, 0, 0, 0])"
            ]
          },
          "metadata": {
            "tags": []
          },
          "execution_count": 8
        }
      ]
    },
    {
      "cell_type": "code",
      "metadata": {
        "id": "jf54q5Y4NeSp",
        "colab_type": "code",
        "colab": {}
      },
      "source": [
        "# Split dataset into training set and test set\n",
        "X_train, X_test, y_train, y_test = train_test_split(X, y, test_size=0.3) # 70% training and 30% test"
      ],
      "execution_count": 9,
      "outputs": []
    },
    {
      "cell_type": "code",
      "metadata": {
        "id": "dDeQ6PmwNeUZ",
        "colab_type": "code",
        "colab": {}
      },
      "source": [
        "# Create adaboost classifer object\n",
        "abc = AdaBoostClassifier(n_estimators=50,\n",
        "                         learning_rate=1)\n",
        "# AdaBoost uses Decision Tree Classifier as default Classifier.\n",
        "# Train Adaboost Classifer\n",
        "model = abc.fit(X_train, y_train)\n",
        "\n",
        "#Predict the response for test dataset\n",
        "y_pred = model.predict(X_test)"
      ],
      "execution_count": 10,
      "outputs": []
    },
    {
      "cell_type": "code",
      "metadata": {
        "id": "rM3UhdwENeX0",
        "colab_type": "code",
        "colab": {
          "base_uri": "https://localhost:8080/",
          "height": 34
        },
        "outputId": "33127a93-58df-4d5f-b736-06334bc681b7"
      },
      "source": [
        "# Model Accuracy, how often is the classifier correct?\n",
        "print(\"Accuracy:\",metrics.accuracy_score(y_test, y_pred))"
      ],
      "execution_count": 11,
      "outputs": [
        {
          "output_type": "stream",
          "text": [
            "Accuracy: 0.9555555555555556\n"
          ],
          "name": "stdout"
        }
      ]
    },
    {
      "cell_type": "markdown",
      "metadata": {
        "id": "e3BMv0HvN_Bh",
        "colab_type": "text"
      },
      "source": [
        "**SVC as a base learner**"
      ]
    },
    {
      "cell_type": "code",
      "metadata": {
        "id": "6ole_iIcNeeb",
        "colab_type": "code",
        "colab": {
          "base_uri": "https://localhost:8080/",
          "height": 34
        },
        "outputId": "b643c121-58fa-48e4-a7d3-09f16743d188"
      },
      "source": [
        " \n",
        "from sklearn.ensemble import AdaBoostClassifier\n",
        "\n",
        "# Import Support Vector Classifier\n",
        "from sklearn.svm import SVC\n",
        "#Import scikit-learn metrics module for accuracy calculation\n",
        "from sklearn import metrics\n",
        "svc=SVC(probability=True, kernel='linear')\n",
        "\n",
        "# Create adaboost classifer object\n",
        "abc =AdaBoostClassifier(n_estimators=50, base_estimator=svc,learning_rate=1)\n",
        "\n",
        "# Train Adaboost Classifer\n",
        "model = abc.fit(X_train, y_train)\n",
        "\n",
        "#Predict the response for test dataset\n",
        "y_pred = model.predict(X_test)\n",
        "\n",
        "\n",
        "# Model Accuracy, how often is the classifier correct?\n",
        "print(\"Accuracy:\",metrics.accuracy_score(y_test, y_pred))"
      ],
      "execution_count": 12,
      "outputs": [
        {
          "output_type": "stream",
          "text": [
            "Accuracy: 0.9777777777777777\n"
          ],
          "name": "stdout"
        }
      ]
    },
    {
      "cell_type": "markdown",
      "metadata": {
        "id": "dHIlVYHcOPbh",
        "colab_type": "text"
      },
      "source": [
        "**PRO:** \n",
        "\n",
        "AdaBoost is easy to implement. It iteratively corrects the mistakes of the weak classifier and improves accuracy by combining weak learners. You can use many base classifiers with AdaBoost.\n",
        "\n",
        "\n",
        "**CONS:**\n",
        "\n",
        "AdaBoost is sensitive to noise data. It is highly affected by outliers because it tries to fit each point perfectly. AdaBoost is slower compared to XGBoost."
      ]
    },
    {
      "cell_type": "code",
      "metadata": {
        "id": "XXV0FIOJNeiG",
        "colab_type": "code",
        "colab": {}
      },
      "source": [
        ""
      ],
      "execution_count": null,
      "outputs": []
    },
    {
      "cell_type": "code",
      "metadata": {
        "id": "nWUVM2I7NeQ0",
        "colab_type": "code",
        "colab": {}
      },
      "source": [
        ""
      ],
      "execution_count": null,
      "outputs": []
    }
  ]
}