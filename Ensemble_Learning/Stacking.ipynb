{
  "nbformat": 4,
  "nbformat_minor": 0,
  "metadata": {
    "colab": {
      "name": "Stacking.ipynb",
      "provenance": [],
      "collapsed_sections": []
    },
    "kernelspec": {
      "name": "python3",
      "display_name": "Python 3"
    }
  },
  "cells": [
    {
      "cell_type": "code",
      "metadata": {
        "id": "ZDXDzQaAEZ_f",
        "colab_type": "code",
        "colab": {}
      },
      "source": [
        ""
      ],
      "execution_count": 42,
      "outputs": []
    },
    {
      "cell_type": "markdown",
      "metadata": {
        "id": "i_1f4qO3V3DM",
        "colab_type": "text"
      },
      "source": [
        ""
      ]
    },
    {
      "cell_type": "markdown",
      "metadata": {
        "id": "muqsVbicV3RM",
        "colab_type": "text"
      },
      "source": [
        "**stacking** is to learn several different weak learners and combine them by training a meta-model to output predictions based on the multiple predictions returned by these weak models.\n",
        "\n",
        "So, we need to define two things in order to build our stacking model: the L learners we want to fit and the meta-model that combines them.\n",
        "\n",
        "\n",
        "For example, for a classification problem, we can choose as weak learners a KNN classifier, a logistic regression and a SVM, and decide to learn a neural network as meta-model. Then, the neural network will take as inputs the outputs of our three weak learners and will learn to return final predictions based on it."
      ]
    },
    {
      "cell_type": "markdown",
      "metadata": {
        "id": "6LOhtpqhV3eh",
        "colab_type": "text"
      },
      "source": [
        "**Stacking:**\n",
        "\n",
        "1. We split the training data into K-folds just like K-fold cross-validation.\n",
        "\n",
        "2. A base model is fitted on the K-1 parts and predictions are made for Kth part.\n",
        "\n",
        "![alt text](https://media.geeksforgeeks.org/wp-content/uploads/20190515104539/stackingWork.png)\n",
        "\n",
        "3. We do for each part of the training data.\n",
        "\n",
        "4. The base model is then fitted on the whole train data set to calculate its performance on the test set.\n",
        "\n",
        "5. We repeat the last 3 steps for other base models.\n",
        "\n",
        "![alt text](https://burakhimmetoglu.files.wordpress.com/2016/12/workflow.png?w=1140)\n",
        "\n",
        "6. Predictions from the train set are used as features for the second level model.\n",
        "\n",
        "7. Second level model is used to make a prediction on the test set."
      ]
    },
    {
      "cell_type": "code",
      "metadata": {
        "id": "4uU_pOSjEaB6",
        "colab_type": "code",
        "colab": {}
      },
      "source": [
        "#importing librabries\n",
        "import pandas as pd\n",
        "import numpy as np\n",
        "import matplotlib.pyplot as plt\n",
        "import seaborn as sns\n",
        "from sklearn.datasets import load_boston\n",
        "import warnings\n",
        "from sklearn.model_selection import cross_val_score\n",
        "from sklearn.linear_model import Ridge, Lasso, LinearRegression\n",
        "from sklearn.tree import DecisionTreeRegressor\n",
        "from sklearn.ensemble import GradientBoostingRegressor, BaggingRegressor, RandomForestRegressor, StackingRegressor\n",
        "from xgboost import XGBRegressor\n",
        "from lightgbm import LGBMRegressor"
      ],
      "execution_count": 43,
      "outputs": []
    },
    {
      "cell_type": "code",
      "metadata": {
        "id": "RiQrR2eWEaDn",
        "colab_type": "code",
        "colab": {
          "base_uri": "https://localhost:8080/",
          "height": 67
        },
        "outputId": "50146fcb-32f7-4f96-f8ef-503c56694668"
      },
      "source": [
        "# Load data\n",
        "boston = datasets.load_boston()\n",
        "print(boston.data.shape, boston.target.shape)\n",
        "print(boston.feature_names)"
      ],
      "execution_count": 44,
      "outputs": [
        {
          "output_type": "stream",
          "text": [
            "(506, 13) (506,)\n",
            "['CRIM' 'ZN' 'INDUS' 'CHAS' 'NOX' 'RM' 'AGE' 'DIS' 'RAD' 'TAX' 'PTRATIO'\n",
            " 'B' 'LSTAT']\n"
          ],
          "name": "stdout"
        }
      ]
    },
    {
      "cell_type": "code",
      "metadata": {
        "id": "CgnLpY2sEaF7",
        "colab_type": "code",
        "colab": {
          "base_uri": "https://localhost:8080/",
          "height": 34
        },
        "outputId": "841c0e1b-6e21-4138-9fab-80fea5a9b617"
      },
      "source": [
        "print(boston.keys())"
      ],
      "execution_count": 45,
      "outputs": [
        {
          "output_type": "stream",
          "text": [
            "dict_keys(['data', 'target', 'feature_names', 'DESCR', 'filename'])\n"
          ],
          "name": "stdout"
        }
      ]
    },
    {
      "cell_type": "code",
      "metadata": {
        "id": "J4sxMi3ZEaIK",
        "colab_type": "code",
        "colab": {
          "base_uri": "https://localhost:8080/",
          "height": 195
        },
        "outputId": "b9f5450e-3579-4168-9aa2-23f4a43e8799"
      },
      "source": [
        "data = pd.DataFrame(boston.data,columns=boston.feature_names)\n",
        "data = pd.concat([data,pd.Series(boston.target,name='MEDV')],axis=1)\n",
        "data.head()"
      ],
      "execution_count": 46,
      "outputs": [
        {
          "output_type": "execute_result",
          "data": {
            "text/html": [
              "<div>\n",
              "<style scoped>\n",
              "    .dataframe tbody tr th:only-of-type {\n",
              "        vertical-align: middle;\n",
              "    }\n",
              "\n",
              "    .dataframe tbody tr th {\n",
              "        vertical-align: top;\n",
              "    }\n",
              "\n",
              "    .dataframe thead th {\n",
              "        text-align: right;\n",
              "    }\n",
              "</style>\n",
              "<table border=\"1\" class=\"dataframe\">\n",
              "  <thead>\n",
              "    <tr style=\"text-align: right;\">\n",
              "      <th></th>\n",
              "      <th>CRIM</th>\n",
              "      <th>ZN</th>\n",
              "      <th>INDUS</th>\n",
              "      <th>CHAS</th>\n",
              "      <th>NOX</th>\n",
              "      <th>RM</th>\n",
              "      <th>AGE</th>\n",
              "      <th>DIS</th>\n",
              "      <th>RAD</th>\n",
              "      <th>TAX</th>\n",
              "      <th>PTRATIO</th>\n",
              "      <th>B</th>\n",
              "      <th>LSTAT</th>\n",
              "      <th>MEDV</th>\n",
              "    </tr>\n",
              "  </thead>\n",
              "  <tbody>\n",
              "    <tr>\n",
              "      <th>0</th>\n",
              "      <td>0.00632</td>\n",
              "      <td>18.0</td>\n",
              "      <td>2.31</td>\n",
              "      <td>0.0</td>\n",
              "      <td>0.538</td>\n",
              "      <td>6.575</td>\n",
              "      <td>65.2</td>\n",
              "      <td>4.0900</td>\n",
              "      <td>1.0</td>\n",
              "      <td>296.0</td>\n",
              "      <td>15.3</td>\n",
              "      <td>396.90</td>\n",
              "      <td>4.98</td>\n",
              "      <td>24.0</td>\n",
              "    </tr>\n",
              "    <tr>\n",
              "      <th>1</th>\n",
              "      <td>0.02731</td>\n",
              "      <td>0.0</td>\n",
              "      <td>7.07</td>\n",
              "      <td>0.0</td>\n",
              "      <td>0.469</td>\n",
              "      <td>6.421</td>\n",
              "      <td>78.9</td>\n",
              "      <td>4.9671</td>\n",
              "      <td>2.0</td>\n",
              "      <td>242.0</td>\n",
              "      <td>17.8</td>\n",
              "      <td>396.90</td>\n",
              "      <td>9.14</td>\n",
              "      <td>21.6</td>\n",
              "    </tr>\n",
              "    <tr>\n",
              "      <th>2</th>\n",
              "      <td>0.02729</td>\n",
              "      <td>0.0</td>\n",
              "      <td>7.07</td>\n",
              "      <td>0.0</td>\n",
              "      <td>0.469</td>\n",
              "      <td>7.185</td>\n",
              "      <td>61.1</td>\n",
              "      <td>4.9671</td>\n",
              "      <td>2.0</td>\n",
              "      <td>242.0</td>\n",
              "      <td>17.8</td>\n",
              "      <td>392.83</td>\n",
              "      <td>4.03</td>\n",
              "      <td>34.7</td>\n",
              "    </tr>\n",
              "    <tr>\n",
              "      <th>3</th>\n",
              "      <td>0.03237</td>\n",
              "      <td>0.0</td>\n",
              "      <td>2.18</td>\n",
              "      <td>0.0</td>\n",
              "      <td>0.458</td>\n",
              "      <td>6.998</td>\n",
              "      <td>45.8</td>\n",
              "      <td>6.0622</td>\n",
              "      <td>3.0</td>\n",
              "      <td>222.0</td>\n",
              "      <td>18.7</td>\n",
              "      <td>394.63</td>\n",
              "      <td>2.94</td>\n",
              "      <td>33.4</td>\n",
              "    </tr>\n",
              "    <tr>\n",
              "      <th>4</th>\n",
              "      <td>0.06905</td>\n",
              "      <td>0.0</td>\n",
              "      <td>2.18</td>\n",
              "      <td>0.0</td>\n",
              "      <td>0.458</td>\n",
              "      <td>7.147</td>\n",
              "      <td>54.2</td>\n",
              "      <td>6.0622</td>\n",
              "      <td>3.0</td>\n",
              "      <td>222.0</td>\n",
              "      <td>18.7</td>\n",
              "      <td>396.90</td>\n",
              "      <td>5.33</td>\n",
              "      <td>36.2</td>\n",
              "    </tr>\n",
              "  </tbody>\n",
              "</table>\n",
              "</div>"
            ],
            "text/plain": [
              "      CRIM    ZN  INDUS  CHAS    NOX  ...    TAX  PTRATIO       B  LSTAT  MEDV\n",
              "0  0.00632  18.0   2.31   0.0  0.538  ...  296.0     15.3  396.90   4.98  24.0\n",
              "1  0.02731   0.0   7.07   0.0  0.469  ...  242.0     17.8  396.90   9.14  21.6\n",
              "2  0.02729   0.0   7.07   0.0  0.469  ...  242.0     17.8  392.83   4.03  34.7\n",
              "3  0.03237   0.0   2.18   0.0  0.458  ...  222.0     18.7  394.63   2.94  33.4\n",
              "4  0.06905   0.0   2.18   0.0  0.458  ...  222.0     18.7  396.90   5.33  36.2\n",
              "\n",
              "[5 rows x 14 columns]"
            ]
          },
          "metadata": {
            "tags": []
          },
          "execution_count": 46
        }
      ]
    },
    {
      "cell_type": "code",
      "metadata": {
        "id": "JEr1XbeXEaLn",
        "colab_type": "code",
        "colab": {
          "base_uri": "https://localhost:8080/",
          "height": 894
        },
        "outputId": "e8306b08-78f5-4986-e061-4d30a944d662"
      },
      "source": [
        "# Data Dictionary\n",
        "print(datasets.load_boston().DESCR)"
      ],
      "execution_count": 47,
      "outputs": [
        {
          "output_type": "stream",
          "text": [
            ".. _boston_dataset:\n",
            "\n",
            "Boston house prices dataset\n",
            "---------------------------\n",
            "\n",
            "**Data Set Characteristics:**  \n",
            "\n",
            "    :Number of Instances: 506 \n",
            "\n",
            "    :Number of Attributes: 13 numeric/categorical predictive. Median Value (attribute 14) is usually the target.\n",
            "\n",
            "    :Attribute Information (in order):\n",
            "        - CRIM     per capita crime rate by town\n",
            "        - ZN       proportion of residential land zoned for lots over 25,000 sq.ft.\n",
            "        - INDUS    proportion of non-retail business acres per town\n",
            "        - CHAS     Charles River dummy variable (= 1 if tract bounds river; 0 otherwise)\n",
            "        - NOX      nitric oxides concentration (parts per 10 million)\n",
            "        - RM       average number of rooms per dwelling\n",
            "        - AGE      proportion of owner-occupied units built prior to 1940\n",
            "        - DIS      weighted distances to five Boston employment centres\n",
            "        - RAD      index of accessibility to radial highways\n",
            "        - TAX      full-value property-tax rate per $10,000\n",
            "        - PTRATIO  pupil-teacher ratio by town\n",
            "        - B        1000(Bk - 0.63)^2 where Bk is the proportion of blacks by town\n",
            "        - LSTAT    % lower status of the population\n",
            "        - MEDV     Median value of owner-occupied homes in $1000's\n",
            "\n",
            "    :Missing Attribute Values: None\n",
            "\n",
            "    :Creator: Harrison, D. and Rubinfeld, D.L.\n",
            "\n",
            "This is a copy of UCI ML housing dataset.\n",
            "https://archive.ics.uci.edu/ml/machine-learning-databases/housing/\n",
            "\n",
            "\n",
            "This dataset was taken from the StatLib library which is maintained at Carnegie Mellon University.\n",
            "\n",
            "The Boston house-price data of Harrison, D. and Rubinfeld, D.L. 'Hedonic\n",
            "prices and the demand for clean air', J. Environ. Economics & Management,\n",
            "vol.5, 81-102, 1978.   Used in Belsley, Kuh & Welsch, 'Regression diagnostics\n",
            "...', Wiley, 1980.   N.B. Various transformations are used in the table on\n",
            "pages 244-261 of the latter.\n",
            "\n",
            "The Boston house-price data has been used in many machine learning papers that address regression\n",
            "problems.   \n",
            "     \n",
            ".. topic:: References\n",
            "\n",
            "   - Belsley, Kuh & Welsch, 'Regression diagnostics: Identifying Influential Data and Sources of Collinearity', Wiley, 1980. 244-261.\n",
            "   - Quinlan,R. (1993). Combining Instance-Based and Model-Based Learning. In Proceedings on the Tenth International Conference of Machine Learning, 236-243, University of Massachusetts, Amherst. Morgan Kaufmann.\n",
            "\n"
          ],
          "name": "stdout"
        }
      ]
    },
    {
      "cell_type": "code",
      "metadata": {
        "id": "5d3qtjN2FO59",
        "colab_type": "code",
        "colab": {}
      },
      "source": [
        "X = data.iloc[:,:-1]\n",
        "y = data.iloc[:,-1]"
      ],
      "execution_count": 48,
      "outputs": []
    },
    {
      "cell_type": "code",
      "metadata": {
        "id": "dEzpm8_vFO8Y",
        "colab_type": "code",
        "colab": {}
      },
      "source": [
        "from sklearn.model_selection import train_test_split\n",
        "\n",
        "xtrain, xtest, ytrain, ytest = train_test_split(X, y, test_size=0.2, random_state=123)"
      ],
      "execution_count": 49,
      "outputs": []
    },
    {
      "cell_type": "markdown",
      "metadata": {
        "id": "c65J7KoPRsq-",
        "colab_type": "text"
      },
      "source": [
        "**Applying Linear regression**"
      ]
    },
    {
      "cell_type": "code",
      "metadata": {
        "id": "bLhusMhSFO-9",
        "colab_type": "code",
        "colab": {
          "base_uri": "https://localhost:8080/",
          "height": 50
        },
        "outputId": "627fb0b8-90b4-451c-ea93-739604981b90"
      },
      "source": [
        "# Apply Linear Regression Model as Base Model\n",
        "lr = LinearRegression()\n",
        "pred_lr = lr.fit(xtrain, ytrain).predict(xtest)\n",
        "\n",
        "# Checking Model Metrics\n",
        "from sklearn.metrics import r2_score, mean_squared_error\n",
        "print(\"R2 Score: \", r2_score(ytest, pred_lr))\n",
        "print(\"RMSE: \", np.sqrt(mean_squared_error(ytest, pred_lr)))"
      ],
      "execution_count": 50,
      "outputs": [
        {
          "output_type": "stream",
          "text": [
            "R2 Score:  0.65924665103541\n",
            "RMSE:  5.309659665032168\n"
          ],
          "name": "stdout"
        }
      ]
    },
    {
      "cell_type": "markdown",
      "metadata": {
        "id": "H49k93GtF55p",
        "colab_type": "text"
      },
      "source": [
        "**Checking accuracy for different -different base models**"
      ]
    },
    {
      "cell_type": "code",
      "metadata": {
        "id": "_HLBtfqDFPCY",
        "colab_type": "code",
        "colab": {}
      },
      "source": [
        "# Get a List of Models as Base Models\n",
        "def base_models():\n",
        "  models = dict()\n",
        "  models['lr'] = LinearRegression()\n",
        "  models[\"Ridge\"] = Ridge()\n",
        "  models[\"Lasso\"] = Lasso()\n",
        "  models[\"Tree\"] = DecisionTreeRegressor()\n",
        "  models[\"Random Forest\"] = RandomForestRegressor()\n",
        "  models[\"Bagging\"] = BaggingRegressor()\n",
        "  models[\"GBM\"] = GradientBoostingRegressor()\n",
        "  return models"
      ],
      "execution_count": 51,
      "outputs": []
    },
    {
      "cell_type": "code",
      "metadata": {
        "id": "wwnP6oaeGPI7",
        "colab_type": "code",
        "colab": {}
      },
      "source": [
        "# Now we will apply K Fold Cross Validation. We will now create a evaluate function with Repeated Stratified K Fold\n",
        "# And Capture the Cross Val Score\n",
        "from sklearn.model_selection import RepeatedKFold\n",
        "from matplotlib import pyplot\n",
        "\n",
        "# Function to evaluate the list of models\n",
        "def eval_models(model):\n",
        "  cv = RepeatedKFold(n_splits=10, n_repeats=3, random_state=1)\n",
        "  scores = -cross_val_score(model, X, y, scoring='neg_mean_absolute_error', cv=cv, n_jobs=-1, \n",
        "                            error_score='raise')\n",
        "  return scores"
      ],
      "execution_count": 52,
      "outputs": []
    },
    {
      "cell_type": "code",
      "metadata": {
        "id": "3iEinmnHGPNT",
        "colab_type": "code",
        "colab": {
          "base_uri": "https://localhost:8080/",
          "height": 554
        },
        "outputId": "ed6ada7a-1ce1-4081-a193-57a889574749"
      },
      "source": [
        "# get the models to evaluate\n",
        "models = base_models()\n",
        "models"
      ],
      "execution_count": 53,
      "outputs": [
        {
          "output_type": "execute_result",
          "data": {
            "text/plain": [
              "{'Bagging': BaggingRegressor(base_estimator=None, bootstrap=True, bootstrap_features=False,\n",
              "                  max_features=1.0, max_samples=1.0, n_estimators=10,\n",
              "                  n_jobs=None, oob_score=False, random_state=None, verbose=0,\n",
              "                  warm_start=False),\n",
              " 'GBM': GradientBoostingRegressor(alpha=0.9, ccp_alpha=0.0, criterion='friedman_mse',\n",
              "                           init=None, learning_rate=0.1, loss='ls', max_depth=3,\n",
              "                           max_features=None, max_leaf_nodes=None,\n",
              "                           min_impurity_decrease=0.0, min_impurity_split=None,\n",
              "                           min_samples_leaf=1, min_samples_split=2,\n",
              "                           min_weight_fraction_leaf=0.0, n_estimators=100,\n",
              "                           n_iter_no_change=None, presort='deprecated',\n",
              "                           random_state=None, subsample=1.0, tol=0.0001,\n",
              "                           validation_fraction=0.1, verbose=0, warm_start=False),\n",
              " 'Lasso': Lasso(alpha=1.0, copy_X=True, fit_intercept=True, max_iter=1000,\n",
              "       normalize=False, positive=False, precompute=False, random_state=None,\n",
              "       selection='cyclic', tol=0.0001, warm_start=False),\n",
              " 'Random Forest': RandomForestRegressor(bootstrap=True, ccp_alpha=0.0, criterion='mse',\n",
              "                       max_depth=None, max_features='auto', max_leaf_nodes=None,\n",
              "                       max_samples=None, min_impurity_decrease=0.0,\n",
              "                       min_impurity_split=None, min_samples_leaf=1,\n",
              "                       min_samples_split=2, min_weight_fraction_leaf=0.0,\n",
              "                       n_estimators=100, n_jobs=None, oob_score=False,\n",
              "                       random_state=None, verbose=0, warm_start=False),\n",
              " 'Ridge': Ridge(alpha=1.0, copy_X=True, fit_intercept=True, max_iter=None,\n",
              "       normalize=False, random_state=None, solver='auto', tol=0.001),\n",
              " 'Tree': DecisionTreeRegressor(ccp_alpha=0.0, criterion='mse', max_depth=None,\n",
              "                       max_features=None, max_leaf_nodes=None,\n",
              "                       min_impurity_decrease=0.0, min_impurity_split=None,\n",
              "                       min_samples_leaf=1, min_samples_split=2,\n",
              "                       min_weight_fraction_leaf=0.0, presort='deprecated',\n",
              "                       random_state=None, splitter='best'),\n",
              " 'lr': LinearRegression(copy_X=True, fit_intercept=True, n_jobs=None, normalize=False)}"
            ]
          },
          "metadata": {
            "tags": []
          },
          "execution_count": 53
        }
      ]
    },
    {
      "cell_type": "code",
      "metadata": {
        "id": "I64mSNZFGPQa",
        "colab_type": "code",
        "colab": {
          "base_uri": "https://localhost:8080/",
          "height": 134
        },
        "outputId": "c3aa71d5-0e02-4a6c-a2c3-420e7feb8320"
      },
      "source": [
        "# evaluate the models and store results\n",
        "results, names = list(), list() \n",
        "\n",
        "for name, model in models.items():\n",
        "  scores = eval_models(model)\n",
        "  results.append(scores)\n",
        "  names.append(name)\n",
        "  print('>%s %.3f (%.3f)' % (name, scores.mean(), scores.std()))"
      ],
      "execution_count": 54,
      "outputs": [
        {
          "output_type": "stream",
          "text": [
            ">lr 3.391 (0.530)\n",
            ">Ridge 3.382 (0.519)\n",
            ">Lasso 3.711 (0.549)\n",
            ">Tree 2.921 (0.608)\n",
            ">Random Forest 2.199 (0.351)\n",
            ">Bagging 2.316 (0.372)\n",
            ">GBM 2.087 (0.276)\n"
          ],
          "name": "stdout"
        }
      ]
    },
    {
      "cell_type": "code",
      "metadata": {
        "id": "U_b-hHmkLO2P",
        "colab_type": "code",
        "colab": {
          "base_uri": "https://localhost:8080/",
          "height": 346
        },
        "outputId": "ef4d9bfb-6947-4b5d-abf1-03167acfcfd7"
      },
      "source": [
        "# plot model performance for comparison\n",
        "pyplot.boxplot(results, labels=names, showmeans=True)\n",
        "pyplot.xticks(rotation = 90)\n",
        "pyplot.ylabel(\"MSE\")\n",
        "pyplot.title(\"Model Performance\")\n",
        "pyplot.show()"
      ],
      "execution_count": 55,
      "outputs": [
        {
          "output_type": "display_data",
          "data": {
            "image/png": "[encoded data removed]",
            "text/plain": [
              "<Figure size 432x288 with 1 Axes>"
            ]
          },
          "metadata": {
            "tags": [],
            "needs_background": "light"
          }
        }
      ]
    },
    {
      "cell_type": "markdown",
      "metadata": {
        "id": "Kr5BCnAzSCEP",
        "colab_type": "text"
      },
      "source": [
        "Preparing stacking with base models as ('tree','RF','XGB','Bagging') and meta learner as 'LGBM"
      ]
    },
    {
      "cell_type": "code",
      "metadata": {
        "id": "fFCU1t7wLgrL",
        "colab_type": "code",
        "colab": {}
      },
      "source": [
        "# get a stacking ensemble of models\n",
        "def get_stacking():\n",
        "\t# define the base models\n",
        "  level0 = list()\n",
        "  level0.append(('Tree', DecisionTreeRegressor()))\n",
        "  level0.append(('RF', RandomForestRegressor()))\n",
        "  level0.append(('XGB', XGBRegressor()))\n",
        "  level0.append(('Bagging', BaggingRegressor()))\n",
        "\t# define meta learner model\n",
        "  level1 = LGBMRegressor()\n",
        "\t# define the stacking ensemble\n",
        "  model = StackingRegressor(estimators=level0, final_estimator=level1, cv=5)\n",
        "  return model"
      ],
      "execution_count": 56,
      "outputs": []
    },
    {
      "cell_type": "code",
      "metadata": {
        "id": "9oFSb-AySZA9",
        "colab_type": "code",
        "colab": {
          "base_uri": "https://localhost:8080/",
          "height": 538
        },
        "outputId": "b1dd0acb-a2b0-47d7-ca58-36c93c55f766"
      },
      "source": [
        "get_stacking()"
      ],
      "execution_count": 57,
      "outputs": [
        {
          "output_type": "execute_result",
          "data": {
            "text/plain": [
              "StackingRegressor(cv=5,\n",
              "                  estimators=[('Tree',\n",
              "                               DecisionTreeRegressor(ccp_alpha=0.0,\n",
              "                                                     criterion='mse',\n",
              "                                                     max_depth=None,\n",
              "                                                     max_features=None,\n",
              "                                                     max_leaf_nodes=None,\n",
              "                                                     min_impurity_decrease=0.0,\n",
              "                                                     min_impurity_split=None,\n",
              "                                                     min_samples_leaf=1,\n",
              "                                                     min_samples_split=2,\n",
              "                                                     min_weight_fraction_leaf=0.0,\n",
              "                                                     presort='deprecated',\n",
              "                                                     random_state=None,\n",
              "                                                     splitter='best')),\n",
              "                              ('RF',\n",
              "                               RandomForestRegressor...\n",
              "                                                colsample_bytree=1.0,\n",
              "                                                importance_type='split',\n",
              "                                                learning_rate=0.1, max_depth=-1,\n",
              "                                                min_child_samples=20,\n",
              "                                                min_child_weight=0.001,\n",
              "                                                min_split_gain=0.0,\n",
              "                                                n_estimators=100, n_jobs=-1,\n",
              "                                                num_leaves=31, objective=None,\n",
              "                                                random_state=None,\n",
              "                                                reg_alpha=0.0, reg_lambda=0.0,\n",
              "                                                silent=True, subsample=1.0,\n",
              "                                                subsample_for_bin=200000,\n",
              "                                                subsample_freq=0),\n",
              "                  n_jobs=None, passthrough=False, verbose=0)"
            ]
          },
          "metadata": {
            "tags": []
          },
          "execution_count": 57
        }
      ]
    },
    {
      "cell_type": "code",
      "metadata": {
        "id": "D7hhprSLLgyH",
        "colab_type": "code",
        "colab": {}
      },
      "source": [
        "def base_models():\n",
        "  models = dict()\n",
        "  models[\"Tree\"] = DecisionTreeRegressor()\n",
        "  models[\"Random Forest\"] = RandomForestRegressor()\n",
        "  models[\"Bagging\"] = BaggingRegressor()\n",
        "  models[\"XGB\"] = XGBRegressor()\n",
        "  models[\"Stacked Model\"] = get_stacking()\n",
        "  return models"
      ],
      "execution_count": 58,
      "outputs": []
    },
    {
      "cell_type": "code",
      "metadata": {
        "id": "Ylij3E97SpWR",
        "colab_type": "code",
        "colab": {
          "base_uri": "https://localhost:8080/",
          "height": 941
        },
        "outputId": "2fce9bfd-1b44-424b-9586-66d75ae0c1b4"
      },
      "source": [
        "base_models()"
      ],
      "execution_count": 59,
      "outputs": [
        {
          "output_type": "execute_result",
          "data": {
            "text/plain": [
              "{'Bagging': BaggingRegressor(base_estimator=None, bootstrap=True, bootstrap_features=False,\n",
              "                  max_features=1.0, max_samples=1.0, n_estimators=10,\n",
              "                  n_jobs=None, oob_score=False, random_state=None, verbose=0,\n",
              "                  warm_start=False),\n",
              " 'Random Forest': RandomForestRegressor(bootstrap=True, ccp_alpha=0.0, criterion='mse',\n",
              "                       max_depth=None, max_features='auto', max_leaf_nodes=None,\n",
              "                       max_samples=None, min_impurity_decrease=0.0,\n",
              "                       min_impurity_split=None, min_samples_leaf=1,\n",
              "                       min_samples_split=2, min_weight_fraction_leaf=0.0,\n",
              "                       n_estimators=100, n_jobs=None, oob_score=False,\n",
              "                       random_state=None, verbose=0, warm_start=False),\n",
              " 'Stacked Model': StackingRegressor(cv=5,\n",
              "                   estimators=[('Tree',\n",
              "                                DecisionTreeRegressor(ccp_alpha=0.0,\n",
              "                                                      criterion='mse',\n",
              "                                                      max_depth=None,\n",
              "                                                      max_features=None,\n",
              "                                                      max_leaf_nodes=None,\n",
              "                                                      min_impurity_decrease=0.0,\n",
              "                                                      min_impurity_split=None,\n",
              "                                                      min_samples_leaf=1,\n",
              "                                                      min_samples_split=2,\n",
              "                                                      min_weight_fraction_leaf=0.0,\n",
              "                                                      presort='deprecated',\n",
              "                                                      random_state=None,\n",
              "                                                      splitter='best')),\n",
              "                               ('RF',\n",
              "                                RandomForestRegressor...\n",
              "                                                 colsample_bytree=1.0,\n",
              "                                                 importance_type='split',\n",
              "                                                 learning_rate=0.1, max_depth=-1,\n",
              "                                                 min_child_samples=20,\n",
              "                                                 min_child_weight=0.001,\n",
              "                                                 min_split_gain=0.0,\n",
              "                                                 n_estimators=100, n_jobs=-1,\n",
              "                                                 num_leaves=31, objective=None,\n",
              "                                                 random_state=None,\n",
              "                                                 reg_alpha=0.0, reg_lambda=0.0,\n",
              "                                                 silent=True, subsample=1.0,\n",
              "                                                 subsample_for_bin=200000,\n",
              "                                                 subsample_freq=0),\n",
              "                   n_jobs=None, passthrough=False, verbose=0),\n",
              " 'Tree': DecisionTreeRegressor(ccp_alpha=0.0, criterion='mse', max_depth=None,\n",
              "                       max_features=None, max_leaf_nodes=None,\n",
              "                       min_impurity_decrease=0.0, min_impurity_split=None,\n",
              "                       min_samples_leaf=1, min_samples_split=2,\n",
              "                       min_weight_fraction_leaf=0.0, presort='deprecated',\n",
              "                       random_state=None, splitter='best'),\n",
              " 'XGB': XGBRegressor(base_score=0.5, booster='gbtree', colsample_bylevel=1,\n",
              "              colsample_bynode=1, colsample_bytree=1, gamma=0,\n",
              "              importance_type='gain', learning_rate=0.1, max_delta_step=0,\n",
              "              max_depth=3, min_child_weight=1, missing=None, n_estimators=100,\n",
              "              n_jobs=1, nthread=None, objective='reg:linear', random_state=0,\n",
              "              reg_alpha=0, reg_lambda=1, scale_pos_weight=1, seed=None,\n",
              "              silent=None, subsample=1, verbosity=1)}"
            ]
          },
          "metadata": {
            "tags": []
          },
          "execution_count": 59
        }
      ]
    },
    {
      "cell_type": "code",
      "metadata": {
        "id": "goaivrZ5Lg1h",
        "colab_type": "code",
        "colab": {}
      },
      "source": [
        "# Function to evaluate the list of models\n",
        "def eval_models(model):\n",
        "  cv = RepeatedKFold(n_splits=10, n_repeats=3, random_state=1)\n",
        "  scores = -cross_val_score(model, X, y, scoring='neg_mean_absolute_error', cv=cv, n_jobs=-1, \n",
        "                            error_score='raise')\n",
        "  return scores"
      ],
      "execution_count": 60,
      "outputs": []
    },
    {
      "cell_type": "code",
      "metadata": {
        "id": "2Wsf0Xe5LgwX",
        "colab_type": "code",
        "colab": {}
      },
      "source": [
        "# get the models to evaluate\n",
        "models = base_models()\n",
        "# evaluate the models and store results\n",
        "results, names = list(), list() "
      ],
      "execution_count": 61,
      "outputs": []
    },
    {
      "cell_type": "code",
      "metadata": {
        "id": "fHb0t7_VQsBT",
        "colab_type": "code",
        "colab": {
          "base_uri": "https://localhost:8080/",
          "height": 101
        },
        "outputId": "6c8a3d52-7a1d-43f2-feb3-d916aac98721"
      },
      "source": [
        "for name, model in models.items():\n",
        "  scores = eval_models(model)\n",
        "  results.append(scores)\n",
        "  names.append(name)\n",
        "  print('>%s %.3f (%.3f)' % (name, scores.mean(), scores.std()))"
      ],
      "execution_count": 62,
      "outputs": [
        {
          "output_type": "stream",
          "text": [
            ">Tree 2.936 (0.520)\n",
            ">Random Forest 2.202 (0.341)\n",
            ">Bagging 2.313 (0.365)\n",
            ">XGB 2.146 (0.328)\n",
            ">Stacked Model 2.727 (0.383)\n"
          ],
          "name": "stdout"
        }
      ]
    },
    {
      "cell_type": "code",
      "metadata": {
        "id": "yDH8GEqFQuln",
        "colab_type": "code",
        "colab": {
          "base_uri": "https://localhost:8080/",
          "height": 346
        },
        "outputId": "5d384f3e-ed99-4da3-8640-a7985e4ef9ce"
      },
      "source": [
        "# plot model performance for comparison\n",
        "pyplot.boxplot(results, labels=names, showmeans=True)\n",
        "pyplot.xticks(rotation = 90)\n",
        "pyplot.ylabel(\"MSE\")\n",
        "pyplot.title(\"Model Performance\")\n",
        "pyplot.show()"
      ],
      "execution_count": 63,
      "outputs": [
        {
          "output_type": "display_data",
          "data": {
            "image/png": "[encoded data removed]",
            "text/plain": [
              "<Figure size 432x288 with 1 Axes>"
            ]
          },
          "metadata": {
            "tags": [],
            "needs_background": "light"
          }
        }
      ]
    },
    {
      "cell_type": "code",
      "metadata": {
        "id": "p-eOW7_MRMex",
        "colab_type": "code",
        "colab": {}
      },
      "source": [
        "# Lets apply on Train and Test Split\n",
        "level0 = list()\n",
        "level0.append(('Tree', DecisionTreeRegressor()))\n",
        "level0.append(('RF', RandomForestRegressor()))\n",
        "level0.append(('GBM', GradientBoostingRegressor()))\n",
        "level0.append(('Bagging', BaggingRegressor()))\n",
        "level0.append((\"XGB\", XGBRegressor()))"
      ],
      "execution_count": 64,
      "outputs": []
    },
    {
      "cell_type": "code",
      "metadata": {
        "id": "rjwGMbaGTZhq",
        "colab_type": "code",
        "colab": {
          "base_uri": "https://localhost:8080/",
          "height": 605
        },
        "outputId": "062e1fe3-fa5e-41a2-b8e1-32c05f5233ff"
      },
      "source": [
        "level0"
      ],
      "execution_count": 65,
      "outputs": [
        {
          "output_type": "execute_result",
          "data": {
            "text/plain": [
              "[('Tree', DecisionTreeRegressor(ccp_alpha=0.0, criterion='mse', max_depth=None,\n",
              "                        max_features=None, max_leaf_nodes=None,\n",
              "                        min_impurity_decrease=0.0, min_impurity_split=None,\n",
              "                        min_samples_leaf=1, min_samples_split=2,\n",
              "                        min_weight_fraction_leaf=0.0, presort='deprecated',\n",
              "                        random_state=None, splitter='best')),\n",
              " ('RF', RandomForestRegressor(bootstrap=True, ccp_alpha=0.0, criterion='mse',\n",
              "                        max_depth=None, max_features='auto', max_leaf_nodes=None,\n",
              "                        max_samples=None, min_impurity_decrease=0.0,\n",
              "                        min_impurity_split=None, min_samples_leaf=1,\n",
              "                        min_samples_split=2, min_weight_fraction_leaf=0.0,\n",
              "                        n_estimators=100, n_jobs=None, oob_score=False,\n",
              "                        random_state=None, verbose=0, warm_start=False)),\n",
              " ('GBM',\n",
              "  GradientBoostingRegressor(alpha=0.9, ccp_alpha=0.0, criterion='friedman_mse',\n",
              "                            init=None, learning_rate=0.1, loss='ls', max_depth=3,\n",
              "                            max_features=None, max_leaf_nodes=None,\n",
              "                            min_impurity_decrease=0.0, min_impurity_split=None,\n",
              "                            min_samples_leaf=1, min_samples_split=2,\n",
              "                            min_weight_fraction_leaf=0.0, n_estimators=100,\n",
              "                            n_iter_no_change=None, presort='deprecated',\n",
              "                            random_state=None, subsample=1.0, tol=0.0001,\n",
              "                            validation_fraction=0.1, verbose=0, warm_start=False)),\n",
              " ('Bagging',\n",
              "  BaggingRegressor(base_estimator=None, bootstrap=True, bootstrap_features=False,\n",
              "                   max_features=1.0, max_samples=1.0, n_estimators=10,\n",
              "                   n_jobs=None, oob_score=False, random_state=None, verbose=0,\n",
              "                   warm_start=False)),\n",
              " ('XGB', XGBRegressor(base_score=0.5, booster='gbtree', colsample_bylevel=1,\n",
              "               colsample_bynode=1, colsample_bytree=1, gamma=0,\n",
              "               importance_type='gain', learning_rate=0.1, max_delta_step=0,\n",
              "               max_depth=3, min_child_weight=1, missing=None, n_estimators=100,\n",
              "               n_jobs=1, nthread=None, objective='reg:linear', random_state=0,\n",
              "               reg_alpha=0, reg_lambda=1, scale_pos_weight=1, seed=None,\n",
              "               silent=None, subsample=1, verbosity=1))]"
            ]
          },
          "metadata": {
            "tags": []
          },
          "execution_count": 65
        }
      ]
    },
    {
      "cell_type": "code",
      "metadata": {
        "id": "PDThQtjLRMiQ",
        "colab_type": "code",
        "colab": {}
      },
      "source": [
        "level1 = LGBMRegressor()\n",
        "model = StackingRegressor(estimators=level0, final_estimator=level1, cv=10)"
      ],
      "execution_count": 66,
      "outputs": []
    },
    {
      "cell_type": "code",
      "metadata": {
        "id": "gjCfwZjjRMdG",
        "colab_type": "code",
        "colab": {
          "base_uri": "https://localhost:8080/",
          "height": 202
        },
        "outputId": "3d1d4f6f-b91a-47e3-a391-e2d8f9c6d9da"
      },
      "source": [
        "# Making Predictions on Train & Test\n",
        "stacked_pred = model.fit(xtrain, ytrain).predict(xtest)"
      ],
      "execution_count": 67,
      "outputs": [
        {
          "output_type": "stream",
          "text": [
            "[15:03:53] WARNING: /workspace/src/objective/regression_obj.cu:152: reg:linear is now deprecated in favor of reg:squarederror.\n",
            "[15:03:57] WARNING: /workspace/src/objective/regression_obj.cu:152: reg:linear is now deprecated in favor of reg:squarederror.\n",
            "[15:03:58] WARNING: /workspace/src/objective/regression_obj.cu:152: reg:linear is now deprecated in favor of reg:squarederror.\n",
            "[15:03:58] WARNING: /workspace/src/objective/regression_obj.cu:152: reg:linear is now deprecated in favor of reg:squarederror.\n",
            "[15:03:58] WARNING: /workspace/src/objective/regression_obj.cu:152: reg:linear is now deprecated in favor of reg:squarederror.\n",
            "[15:03:58] WARNING: /workspace/src/objective/regression_obj.cu:152: reg:linear is now deprecated in favor of reg:squarederror.\n",
            "[15:03:58] WARNING: /workspace/src/objective/regression_obj.cu:152: reg:linear is now deprecated in favor of reg:squarederror.\n",
            "[15:03:58] WARNING: /workspace/src/objective/regression_obj.cu:152: reg:linear is now deprecated in favor of reg:squarederror.\n",
            "[15:03:58] WARNING: /workspace/src/objective/regression_obj.cu:152: reg:linear is now deprecated in favor of reg:squarederror.\n",
            "[15:03:58] WARNING: /workspace/src/objective/regression_obj.cu:152: reg:linear is now deprecated in favor of reg:squarederror.\n",
            "[15:03:58] WARNING: /workspace/src/objective/regression_obj.cu:152: reg:linear is now deprecated in favor of reg:squarederror.\n"
          ],
          "name": "stdout"
        }
      ]
    },
    {
      "cell_type": "code",
      "metadata": {
        "id": "dWbP4iXuRdgw",
        "colab_type": "code",
        "colab": {
          "base_uri": "https://localhost:8080/",
          "height": 50
        },
        "outputId": "efce9093-7720-4999-eaea-42d683e75f9b"
      },
      "source": [
        "# Checking Model Metrics\n",
        "print(r2_score(ytest, stacked_pred))\n",
        "print(np.sqrt(mean_squared_error(ytest, stacked_pred)))"
      ],
      "execution_count": 68,
      "outputs": [
        {
          "output_type": "stream",
          "text": [
            "0.7918968533311197\n",
            "4.1494061089674785\n"
          ],
          "name": "stdout"
        }
      ]
    }
  ]
}