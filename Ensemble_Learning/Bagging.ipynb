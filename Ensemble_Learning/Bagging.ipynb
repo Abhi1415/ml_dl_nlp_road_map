{
  "nbformat": 4,
  "nbformat_minor": 0,
  "metadata": {
    "colab": {
      "name": "Bagging.ipynb",
      "provenance": []
    },
    "kernelspec": {
      "name": "python3",
      "display_name": "Python 3"
    }
  },
  "cells": [
    {
      "cell_type": "code",
      "metadata": {
        "id": "vHzSHXsf-tfx",
        "colab_type": "code",
        "colab": {}
      },
      "source": [
        ""
      ],
      "execution_count": null,
      "outputs": []
    },
    {
      "cell_type": "markdown",
      "metadata": {
        "id": "OvbEtZV3DwDI",
        "colab_type": "text"
      },
      "source": [
        "**Max Voting :** \n",
        "\n",
        "The max voting method is generally used for classification problems. In this technique, multiple models are used to make predictions for each data point. The predictions by each model are considered as a ‘vote’. The predictions which we get from the majority of the models are used as the final prediction.\n",
        "\n",
        "**Averaging:**\n",
        "\n",
        "In this method, we take an average of predictions from all the models and use it to make the final prediction. Averaging can be used for making predictions in regression problems or while calculating probabilities for classification problems.\n",
        "\n",
        "\n",
        "**Weighted Averaging:**\n",
        "\n",
        "All models are assigned different weights defining the importance of each model for prediction then we make the final prediction based on weight avg.\n"
      ]
    },
    {
      "cell_type": "markdown",
      "metadata": {
        "id": "PI0zmRDfIh_v",
        "colab_type": "text"
      },
      "source": [
        "\n",
        "\n",
        "Bagging (or Bootstrap Aggregating) technique  tries to implement similar learners on small sample populations and then takes a mean of all the predictions.\n",
        "\n",
        "![alt text](https://www.analyticsvidhya.com/wp-content/uploads/2015/07/bagging.png)\n",
        "\n",
        "1. Multiple subsets are created from the original dataset, selecting observations with replacement.\n",
        "\n",
        "2. A base model (weak model) is created on each of these subsets.\n",
        "\n",
        "3. The models run in parallel and are independent of each other.\n",
        "\n",
        "4. The final predictions are determined by combining the predictions from all the models.\n",
        "\n",
        "Parallel ensemble methods where the base learners are generated in parallel.\n",
        "\n",
        "\n",
        "**Algorithms :** Random Forest, Bagged Decision Trees, Extra Trees"
      ]
    },
    {
      "cell_type": "markdown",
      "metadata": {
        "id": "cYAbQuVrIiMH",
        "colab_type": "text"
      },
      "source": [
        ""
      ]
    },
    {
      "cell_type": "markdown",
      "metadata": {
        "id": "egxZ6sqiIiPj",
        "colab_type": "text"
      },
      "source": [
        "**Example:**"
      ]
    },
    {
      "cell_type": "code",
      "metadata": {
        "id": "Uuu_kh2RN9Ub",
        "colab_type": "code",
        "colab": {}
      },
      "source": [
        "#Build the regression model using bagging technique. \n",
        "from sklearn.ensemble import BaggingRegressor\n",
        "from sklearn.linear_model import LinearRegression\n",
        "from sklearn.metrics import mean_squared_error\n",
        "import pandas as pd\n",
        "import numpy as np"
      ],
      "execution_count": 1,
      "outputs": []
    },
    {
      "cell_type": "code",
      "metadata": {
        "id": "pf0fJXjaN9eA",
        "colab_type": "code",
        "colab": {}
      },
      "source": [
        "house = pd.read_csv('https://raw.githubusercontent.com/selva86/datasets/master/BostonHousing.csv')"
      ],
      "execution_count": 14,
      "outputs": []
    },
    {
      "cell_type": "code",
      "metadata": {
        "id": "aSHyFZCoPGEx",
        "colab_type": "code",
        "colab": {
          "base_uri": "https://localhost:8080/",
          "height": 195
        },
        "outputId": "0baf737c-ee6f-4b62-ff57-54f8f0cd29c7"
      },
      "source": [
        "house.head()"
      ],
      "execution_count": 15,
      "outputs": [
        {
          "output_type": "execute_result",
          "data": {
            "text/html": [
              "<div>\n",
              "<style scoped>\n",
              "    .dataframe tbody tr th:only-of-type {\n",
              "        vertical-align: middle;\n",
              "    }\n",
              "\n",
              "    .dataframe tbody tr th {\n",
              "        vertical-align: top;\n",
              "    }\n",
              "\n",
              "    .dataframe thead th {\n",
              "        text-align: right;\n",
              "    }\n",
              "</style>\n",
              "<table border=\"1\" class=\"dataframe\">\n",
              "  <thead>\n",
              "    <tr style=\"text-align: right;\">\n",
              "      <th></th>\n",
              "      <th>crim</th>\n",
              "      <th>zn</th>\n",
              "      <th>indus</th>\n",
              "      <th>chas</th>\n",
              "      <th>nox</th>\n",
              "      <th>rm</th>\n",
              "      <th>age</th>\n",
              "      <th>dis</th>\n",
              "      <th>rad</th>\n",
              "      <th>tax</th>\n",
              "      <th>ptratio</th>\n",
              "      <th>b</th>\n",
              "      <th>lstat</th>\n",
              "      <th>medv</th>\n",
              "    </tr>\n",
              "  </thead>\n",
              "  <tbody>\n",
              "    <tr>\n",
              "      <th>0</th>\n",
              "      <td>0.00632</td>\n",
              "      <td>18.0</td>\n",
              "      <td>2.31</td>\n",
              "      <td>0</td>\n",
              "      <td>0.538</td>\n",
              "      <td>6.575</td>\n",
              "      <td>65.2</td>\n",
              "      <td>4.0900</td>\n",
              "      <td>1</td>\n",
              "      <td>296</td>\n",
              "      <td>15.3</td>\n",
              "      <td>396.90</td>\n",
              "      <td>4.98</td>\n",
              "      <td>24.0</td>\n",
              "    </tr>\n",
              "    <tr>\n",
              "      <th>1</th>\n",
              "      <td>0.02731</td>\n",
              "      <td>0.0</td>\n",
              "      <td>7.07</td>\n",
              "      <td>0</td>\n",
              "      <td>0.469</td>\n",
              "      <td>6.421</td>\n",
              "      <td>78.9</td>\n",
              "      <td>4.9671</td>\n",
              "      <td>2</td>\n",
              "      <td>242</td>\n",
              "      <td>17.8</td>\n",
              "      <td>396.90</td>\n",
              "      <td>9.14</td>\n",
              "      <td>21.6</td>\n",
              "    </tr>\n",
              "    <tr>\n",
              "      <th>2</th>\n",
              "      <td>0.02729</td>\n",
              "      <td>0.0</td>\n",
              "      <td>7.07</td>\n",
              "      <td>0</td>\n",
              "      <td>0.469</td>\n",
              "      <td>7.185</td>\n",
              "      <td>61.1</td>\n",
              "      <td>4.9671</td>\n",
              "      <td>2</td>\n",
              "      <td>242</td>\n",
              "      <td>17.8</td>\n",
              "      <td>392.83</td>\n",
              "      <td>4.03</td>\n",
              "      <td>34.7</td>\n",
              "    </tr>\n",
              "    <tr>\n",
              "      <th>3</th>\n",
              "      <td>0.03237</td>\n",
              "      <td>0.0</td>\n",
              "      <td>2.18</td>\n",
              "      <td>0</td>\n",
              "      <td>0.458</td>\n",
              "      <td>6.998</td>\n",
              "      <td>45.8</td>\n",
              "      <td>6.0622</td>\n",
              "      <td>3</td>\n",
              "      <td>222</td>\n",
              "      <td>18.7</td>\n",
              "      <td>394.63</td>\n",
              "      <td>2.94</td>\n",
              "      <td>33.4</td>\n",
              "    </tr>\n",
              "    <tr>\n",
              "      <th>4</th>\n",
              "      <td>0.06905</td>\n",
              "      <td>0.0</td>\n",
              "      <td>2.18</td>\n",
              "      <td>0</td>\n",
              "      <td>0.458</td>\n",
              "      <td>7.147</td>\n",
              "      <td>54.2</td>\n",
              "      <td>6.0622</td>\n",
              "      <td>3</td>\n",
              "      <td>222</td>\n",
              "      <td>18.7</td>\n",
              "      <td>396.90</td>\n",
              "      <td>5.33</td>\n",
              "      <td>36.2</td>\n",
              "    </tr>\n",
              "  </tbody>\n",
              "</table>\n",
              "</div>"
            ],
            "text/plain": [
              "      crim    zn  indus  chas    nox  ...  tax  ptratio       b  lstat  medv\n",
              "0  0.00632  18.0   2.31     0  0.538  ...  296     15.3  396.90   4.98  24.0\n",
              "1  0.02731   0.0   7.07     0  0.469  ...  242     17.8  396.90   9.14  21.6\n",
              "2  0.02729   0.0   7.07     0  0.469  ...  242     17.8  392.83   4.03  34.7\n",
              "3  0.03237   0.0   2.18     0  0.458  ...  222     18.7  394.63   2.94  33.4\n",
              "4  0.06905   0.0   2.18     0  0.458  ...  222     18.7  396.90   5.33  36.2\n",
              "\n",
              "[5 rows x 14 columns]"
            ]
          },
          "metadata": {
            "tags": []
          },
          "execution_count": 15
        }
      ]
    },
    {
      "cell_type": "code",
      "metadata": {
        "id": "d4QQEs7-P8r_",
        "colab_type": "code",
        "colab": {}
      },
      "source": [
        "###Splitting the dataset into training and testing datasets\n",
        "from sklearn.model_selection import train_test_split\n",
        "house_train,house_test=train_test_split(house,train_size=0.9)"
      ],
      "execution_count": 17,
      "outputs": []
    },
    {
      "cell_type": "code",
      "metadata": {
        "id": "Z95OqdUDN9NT",
        "colab_type": "code",
        "colab": {}
      },
      "source": [
        "features = list(house.columns[:13])"
      ],
      "execution_count": 18,
      "outputs": []
    },
    {
      "cell_type": "code",
      "metadata": {
        "id": "nxQyDMkLPkNa",
        "colab_type": "code",
        "colab": {}
      },
      "source": [
        "X = house_train[features]\n",
        "y = house_train['medv']"
      ],
      "execution_count": 19,
      "outputs": []
    },
    {
      "cell_type": "code",
      "metadata": {
        "id": "kf8Ct5CFPzTL",
        "colab_type": "code",
        "colab": {}
      },
      "source": [
        "Bag=BaggingRegressor(base_estimator=LinearRegression(), n_estimators=10)"
      ],
      "execution_count": 20,
      "outputs": []
    },
    {
      "cell_type": "markdown",
      "metadata": {
        "id": "gBSR0JwoRnA3",
        "colab_type": "text"
      },
      "source": [
        "**for classification :**\n",
        "\n",
        "from sklearn.ensemble import BaggingClassifier\n",
        "BaggingClassifier(tree.DecisionTreeClassifier(random_state=1))\n",
        "\n",
        "**Parameters used in the  algorithms:**\n",
        "\n",
        "base_estimator:\n",
        "\n",
        "It defines the base estimator to fit on random subsets of the dataset.\n",
        "When nothing is specified, the base estimator is a decision tree.\n",
        "\n",
        "n_estimators:\n",
        "\n",
        "It is the number of base estimators to be created.\n",
        "\n",
        "\n",
        "max_samples:\n",
        "\n",
        "This parameter controls the size of the subsets.\n",
        "It is the maximum number of samples to train each base estimator.\n",
        "\n",
        "max_features:\n",
        "\n",
        "Controls the number of features to draw from the whole dataset.\n",
        "It defines the maximum number of features required to train each base estimator.\n",
        "\n",
        "n_jobs:\n",
        "The number of jobs to run in parallel.\n",
        "Set this value equal to the cores in your system.\n",
        "If -1, the number of jobs is set to the number of cores.\n",
        "\n",
        "random_state:\n",
        "\n",
        "It specifies the method of random split. When random state value is same for two models, the random selection is same for both models.\n",
        "This parameter is useful when you want to compare different models."
      ]
    },
    {
      "cell_type": "code",
      "metadata": {
        "id": "OjNc8CSWPAZL",
        "colab_type": "code",
        "colab": {
          "base_uri": "https://localhost:8080/",
          "height": 118
        },
        "outputId": "f1242ac1-337a-4e2e-8f1d-821080bbf2e6"
      },
      "source": [
        "Bag.fit(X,y)"
      ],
      "execution_count": 21,
      "outputs": [
        {
          "output_type": "execute_result",
          "data": {
            "text/plain": [
              "BaggingRegressor(base_estimator=LinearRegression(copy_X=True,\n",
              "                                                 fit_intercept=True,\n",
              "                                                 n_jobs=None, normalize=False),\n",
              "                 bootstrap=True, bootstrap_features=False, max_features=1.0,\n",
              "                 max_samples=1.0, n_estimators=10, n_jobs=None, oob_score=False,\n",
              "                 random_state=None, verbose=0, warm_start=False)"
            ]
          },
          "metadata": {
            "tags": []
          },
          "execution_count": 21
        }
      ]
    },
    {
      "cell_type": "code",
      "metadata": {
        "id": "OfvXYQd3PsLE",
        "colab_type": "code",
        "colab": {}
      },
      "source": [
        "bagpredict_test=Bag.predict(house_test[features])"
      ],
      "execution_count": 22,
      "outputs": []
    },
    {
      "cell_type": "code",
      "metadata": {
        "id": "YzyIWM_iQkW-",
        "colab_type": "code",
        "colab": {}
      },
      "source": [
        "z=(house_test[['medv']])"
      ],
      "execution_count": 23,
      "outputs": []
    },
    {
      "cell_type": "code",
      "metadata": {
        "id": "8bM-kM-NQkmZ",
        "colab_type": "code",
        "colab": {
          "base_uri": "https://localhost:8080/",
          "height": 34
        },
        "outputId": "addc13b6-bac4-4a0d-bd04-f8ba801b095d"
      },
      "source": [
        "### to estimate the accuracy of the Bagging model ###\n",
        "mean_squared_error(z, bagpredict_test)"
      ],
      "execution_count": 25,
      "outputs": [
        {
          "output_type": "execute_result",
          "data": {
            "text/plain": [
              "29.949422733908897"
            ]
          },
          "metadata": {
            "tags": []
          },
          "execution_count": 25
        }
      ]
    }
  ]
}