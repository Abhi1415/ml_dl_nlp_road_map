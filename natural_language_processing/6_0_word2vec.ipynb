{
  "nbformat": 4,
  "nbformat_minor": 0,
  "metadata": {
    "colab": {
      "name": "6.0_word2vec.ipynb",
      "provenance": []
    },
    "kernelspec": {
      "name": "python3",
      "display_name": "Python 3"
    }
  },
  "cells": [
    {
      "cell_type": "code",
      "metadata": {
        "id": "BHKUmWc8z532",
        "colab_type": "code",
        "colab": {}
      },
      "source": [
        ""
      ],
      "execution_count": 0,
      "outputs": []
    },
    {
      "cell_type": "markdown",
      "metadata": {
        "id": "SwUnb8Gk2q5v",
        "colab_type": "text"
      },
      "source": [
        "Word embeddings are a modern approach for representing text in natural language processing.\n",
        "\n",
        "Word embedding algorithms like word2vec and GloVe are key to the state-of-the-art results achieved by neural network models on natural language processing problems like machine translation.\n",
        "\n",
        "**Develop Word2Vec Embedding**\n",
        "\n",
        "Word2vec is one algorithm for learning a word embedding from a text corpus.\n",
        "\n",
        "There are two main training algorithms that can be used to learn the embedding from text; they are continuous bag of words (CBOW) and skip grams"
      ]
    },
    {
      "cell_type": "code",
      "metadata": {
        "id": "x9sNwGAg3bPg",
        "colab_type": "code",
        "colab": {}
      },
      "source": [
        "import gensim"
      ],
      "execution_count": 0,
      "outputs": []
    },
    {
      "cell_type": "code",
      "metadata": {
        "id": "625Qe9SR3jax",
        "colab_type": "code",
        "colab": {}
      },
      "source": [
        "from gensim.models import Word2Vec\n",
        "# define training data\n",
        "sentences = [['this', 'is', 'the', 'first', 'sentence', 'for', 'word2vec'],\n",
        "\t\t\t['this', 'is', 'the', 'second', 'sentence'],\n",
        "\t\t\t['yet', 'another', 'sentence'],\n",
        "\t\t\t['one', 'more', 'sentence'],\n",
        "\t\t\t['and', 'the', 'final', 'sentence']]"
      ],
      "execution_count": 0,
      "outputs": []
    },
    {
      "cell_type": "code",
      "metadata": {
        "id": "fjN7VXML3jXx",
        "colab_type": "code",
        "colab": {}
      },
      "source": [
        "# train model\n",
        "model = Word2Vec(sentences, min_count=1)#min_count =words with an occurrence less than this count will be ignored."
      ],
      "execution_count": 0,
      "outputs": []
    },
    {
      "cell_type": "code",
      "metadata": {
        "id": "p_KT2Z6w3jVM",
        "colab_type": "code",
        "colab": {
          "base_uri": "https://localhost:8080/",
          "height": 34
        },
        "outputId": "52d07075-eca6-4e74-a2ca-66bbb5124a34"
      },
      "source": [
        "print(model)"
      ],
      "execution_count": 5,
      "outputs": [
        {
          "output_type": "stream",
          "text": [
            "Word2Vec(vocab=14, size=100, alpha=0.025)\n"
          ],
          "name": "stdout"
        }
      ]
    },
    {
      "cell_type": "code",
      "metadata": {
        "id": "CF8n5mQV3jSn",
        "colab_type": "code",
        "colab": {
          "base_uri": "https://localhost:8080/",
          "height": 34
        },
        "outputId": "01bee253-512b-4bb5-bee6-d87bffbb6270"
      },
      "source": [
        "# summarize vocabulary\n",
        "words = list(model.wv.vocab)\n",
        "print(words)"
      ],
      "execution_count": 7,
      "outputs": [
        {
          "output_type": "stream",
          "text": [
            "['this', 'is', 'the', 'first', 'sentence', 'for', 'word2vec', 'second', 'yet', 'another', 'one', 'more', 'and', 'final']\n"
          ],
          "name": "stdout"
        }
      ]
    },
    {
      "cell_type": "code",
      "metadata": {
        "id": "G_Y3qGJ43jQF",
        "colab_type": "code",
        "colab": {
          "base_uri": "https://localhost:8080/",
          "height": 496
        },
        "outputId": "e2715cf3-b942-4837-cead-5f937b6d03aa"
      },
      "source": [
        "# access vector for one word\n",
        "print(model['sentence'])"
      ],
      "execution_count": 8,
      "outputs": [
        {
          "output_type": "stream",
          "text": [
            "[-8.7833428e-04 -3.0705845e-03 -2.9837175e-03  2.2823904e-03\n",
            "  2.1324775e-03 -7.1147730e-04  3.0854701e-03 -1.1974341e-03\n",
            " -4.6149576e-03 -1.8723989e-03 -1.3843878e-03 -2.7626937e-03\n",
            " -1.4045205e-03  2.3145287e-03  3.8007027e-04  3.7332741e-03\n",
            " -1.4524154e-03 -8.6394831e-04  2.1399339e-03 -1.2210693e-03\n",
            "  3.8823983e-04  3.6998664e-03  4.5266901e-05  1.9871369e-03\n",
            "  3.7181764e-03  2.1078903e-03 -2.5785973e-03  1.4718130e-03\n",
            " -4.7844783e-03 -1.9379825e-04 -3.2163746e-04 -4.6062637e-03\n",
            "  2.1534394e-03 -1.0157921e-03 -4.4254633e-03 -2.6221301e-03\n",
            " -3.1451480e-03 -3.8511953e-03  3.4906454e-03  3.1451466e-03\n",
            " -3.1903472e-03  2.3402122e-03  4.4555743e-03  2.0272993e-03\n",
            " -5.4736872e-04 -1.3916737e-03 -3.2611922e-04  4.6349140e-03\n",
            "  4.8332233e-03 -2.4265584e-03 -9.9281385e-04 -1.3907164e-03\n",
            " -6.9704780e-04  3.1419285e-03 -2.8319187e-03  4.1100043e-03\n",
            "  4.1339397e-03 -2.6644550e-03  1.2419461e-03  4.9205287e-03\n",
            " -3.6929324e-03 -4.3407059e-03  1.7662752e-04  3.3113367e-03\n",
            "  1.8300340e-03 -3.9463812e-03 -2.2114482e-05 -2.3104884e-03\n",
            " -2.1167276e-03  4.8727859e-03  3.1473951e-03 -9.7543997e-04\n",
            "  4.6030310e-04  3.2931790e-03 -1.2552772e-04 -8.4177096e-04\n",
            " -9.2114985e-04  1.7750292e-03  1.7795962e-03  2.8780757e-03\n",
            "  1.9255392e-03  2.9834697e-03 -4.0706983e-03 -1.7861434e-03\n",
            " -5.7279761e-04 -3.7756213e-03 -4.3148757e-03  1.8469295e-03\n",
            "  3.8412234e-03  1.4336553e-03 -3.4739512e-03 -4.4051846e-03\n",
            " -3.4749112e-04  2.9437083e-03 -2.4477374e-03  3.6783239e-03\n",
            "  4.3658298e-03  2.4794799e-03  4.2518674e-04 -1.0930463e-03]\n"
          ],
          "name": "stdout"
        },
        {
          "output_type": "stream",
          "text": [
            "/usr/local/lib/python3.6/dist-packages/ipykernel_launcher.py:2: DeprecationWarning: Call to deprecated `__getitem__` (Method will be removed in 4.0.0, use self.wv.__getitem__() instead).\n",
            "  \n"
          ],
          "name": "stderr"
        }
      ]
    },
    {
      "cell_type": "code",
      "metadata": {
        "id": "3umHpk3Y3jNd",
        "colab_type": "code",
        "colab": {
          "base_uri": "https://localhost:8080/",
          "height": 88
        },
        "outputId": "e451cccd-150f-468c-a6c1-9e55b3016a01"
      },
      "source": [
        "# save model\n",
        "model.save('model.bin')\n",
        "# load model\n",
        "new_model = Word2Vec.load('model.bin')\n",
        "print(new_model)"
      ],
      "execution_count": 9,
      "outputs": [
        {
          "output_type": "stream",
          "text": [
            "Word2Vec(vocab=14, size=100, alpha=0.025)\n"
          ],
          "name": "stdout"
        },
        {
          "output_type": "stream",
          "text": [
            "/usr/local/lib/python3.6/dist-packages/smart_open/smart_open_lib.py:253: UserWarning: This function is deprecated, use smart_open.open instead. See the migration notes for details: https://github.com/RaRe-Technologies/smart_open/blob/master/README.rst#migrating-to-the-new-open-function\n",
            "  'See the migration notes for details: %s' % _MIGRATION_NOTES_URL\n"
          ],
          "name": "stderr"
        }
      ]
    },
    {
      "cell_type": "code",
      "metadata": {
        "id": "C3bLU6CV3jKR",
        "colab_type": "code",
        "colab": {
          "base_uri": "https://localhost:8080/",
          "height": 34
        },
        "outputId": "7f9b5dc0-d47b-4625-e9ed-758114925efd"
      },
      "source": [
        "! ls"
      ],
      "execution_count": 10,
      "outputs": [
        {
          "output_type": "stream",
          "text": [
            "model.bin  sample_data\n"
          ],
          "name": "stdout"
        }
      ]
    },
    {
      "cell_type": "code",
      "metadata": {
        "id": "pkvr7kpH3jHp",
        "colab_type": "code",
        "colab": {
          "base_uri": "https://localhost:8080/",
          "height": 292
        },
        "outputId": "79cce57f-1e8b-4f86-cf0c-deb4039284f7"
      },
      "source": [
        "# retrieve all the vecctors for trained models\n",
        "X = model[model.wv.vocab]\n",
        "print(X)"
      ],
      "execution_count": 12,
      "outputs": [
        {
          "output_type": "stream",
          "text": [
            "[[-8.8868052e-05  1.6680054e-03  2.3551183e-03 ... -4.6818634e-03\n",
            "   3.8932923e-03 -1.5817009e-03]\n",
            " [ 2.5179001e-04 -4.5273718e-03 -6.9095299e-04 ...  9.1037014e-04\n",
            "   1.6006536e-03 -2.3916133e-03]\n",
            " [ 2.3331651e-03 -9.7907148e-04  3.5010960e-03 ...  4.7147102e-03\n",
            "   3.9566825e-03  1.9426316e-03]\n",
            " ...\n",
            " [-2.3204500e-03  1.5118754e-03  2.5784238e-03 ...  3.1189725e-03\n",
            "   4.3717739e-03 -6.7605819e-05]\n",
            " [ 1.3831158e-03 -4.8627960e-03  4.5803678e-03 ...  2.3754868e-03\n",
            "  -2.7438460e-03  4.0859333e-04]\n",
            " [ 1.8093364e-03 -2.1408753e-04  4.1136551e-03 ... -3.9608786e-03\n",
            "   1.4076964e-03  3.2058477e-03]]\n"
          ],
          "name": "stdout"
        },
        {
          "output_type": "stream",
          "text": [
            "/usr/local/lib/python3.6/dist-packages/ipykernel_launcher.py:2: DeprecationWarning: Call to deprecated `__getitem__` (Method will be removed in 4.0.0, use self.wv.__getitem__() instead).\n",
            "  \n"
          ],
          "name": "stderr"
        }
      ]
    },
    {
      "cell_type": "code",
      "metadata": {
        "id": "nCnREf883jFP",
        "colab_type": "code",
        "colab": {
          "base_uri": "https://localhost:8080/",
          "height": 34
        },
        "outputId": "fb9c23f0-57cc-45aa-ed97-ae385f5e9bf9"
      },
      "source": [
        "#Plot Word Vectors Using PCA\n",
        "from sklearn.decomposition import PCA\n",
        "pca = PCA(n_components=2)\n",
        "result = pca.fit_transform(X)\n",
        "result.shape"
      ],
      "execution_count": 16,
      "outputs": [
        {
          "output_type": "execute_result",
          "data": {
            "text/plain": [
              "(14, 2)"
            ]
          },
          "metadata": {
            "tags": []
          },
          "execution_count": 16
        }
      ]
    },
    {
      "cell_type": "code",
      "metadata": {
        "id": "3Zace59t3jC2",
        "colab_type": "code",
        "colab": {
          "base_uri": "https://localhost:8080/",
          "height": 282
        },
        "outputId": "d7faffe0-27c1-4d23-de23-969418d60644"
      },
      "source": [
        "import matplotlib.pyplot as plt # plotting vector \n",
        "plt.scatter(result[:, 0], result[:, 1])"
      ],
      "execution_count": 18,
      "outputs": [
        {
          "output_type": "execute_result",
          "data": {
            "text/plain": [
              "<matplotlib.collections.PathCollection at 0x7fdc895bb4e0>"
            ]
          },
          "metadata": {
            "tags": []
          },
          "execution_count": 18
        },
        {
          "output_type": "display_data",
          "data": {
            "image/png": "[encoded data removed]",
            "text/plain": [
              "<Figure size 432x288 with 1 Axes>"
            ]
          },
          "metadata": {
            "tags": [],
            "needs_background": "light"
          }
        }
      ]
    },
    {
      "cell_type": "code",
      "metadata": {
        "id": "6V_gK-EY3jAI",
        "colab_type": "code",
        "colab": {
          "base_uri": "https://localhost:8080/",
          "height": 34
        },
        "outputId": "c9a6f8c4-6d16-4979-ab9a-915b6744e1a6"
      },
      "source": [
        "words= list(model.wv.vocab)\n",
        "words[:2]"
      ],
      "execution_count": 20,
      "outputs": [
        {
          "output_type": "execute_result",
          "data": {
            "text/plain": [
              "['this', 'is']"
            ]
          },
          "metadata": {
            "tags": []
          },
          "execution_count": 20
        }
      ]
    },
    {
      "cell_type": "code",
      "metadata": {
        "id": "SC5g0v6v3i90",
        "colab_type": "code",
        "colab": {
          "base_uri": "https://localhost:8080/",
          "height": 265
        },
        "outputId": "edc1cfc7-f3dd-4dc1-c417-6a73649ca4b3"
      },
      "source": [
        "fig = plt.gcf()\n",
        "for i, word in enumerate(words):\n",
        "\tplt.annotate(word, xy=(result[i, 0], result[i, 1]))\n",
        "plt.margins(0.01)\n",
        "plt.show()"
      ],
      "execution_count": 32,
      "outputs": [
        {
          "output_type": "display_data",
          "data": {
            "image/png": "[encoded data removed]",
            "text/plain": [
              "<Figure size 432x288 with 1 Axes>"
            ]
          },
          "metadata": {
            "tags": [],
            "needs_background": "light"
          }
        }
      ]
    },
    {
      "cell_type": "code",
      "metadata": {
        "id": "tw9NinJ43i7P",
        "colab_type": "code",
        "colab": {
          "base_uri": "https://localhost:8080/",
          "height": 241
        },
        "outputId": "a4c53355-d824-4d29-d153-9e93be6efff6"
      },
      "source": [
        "model.wv.most_similar('this')# to checking most simila words"
      ],
      "execution_count": 33,
      "outputs": [
        {
          "output_type": "stream",
          "text": [
            "/usr/local/lib/python3.6/dist-packages/gensim/matutils.py:737: FutureWarning: Conversion of the second argument of issubdtype from `int` to `np.signedinteger` is deprecated. In future, it will be treated as `np.int64 == np.dtype(int).type`.\n",
            "  if np.issubdtype(vec.dtype, np.int):\n"
          ],
          "name": "stderr"
        },
        {
          "output_type": "execute_result",
          "data": {
            "text/plain": [
              "[('is', 0.19210900366306305),\n",
              " ('final', 0.1783994734287262),\n",
              " ('second', 0.10458189994096756),\n",
              " ('another', 0.09968544542789459),\n",
              " ('the', 0.04811866953969002),\n",
              " ('and', 0.026386933401226997),\n",
              " ('more', 0.004181293770670891),\n",
              " ('one', 0.002925567328929901),\n",
              " ('word2vec', -0.0031542405486106873),\n",
              " ('yet', -0.007768359035253525)]"
            ]
          },
          "metadata": {
            "tags": []
          },
          "execution_count": 33
        }
      ]
    },
    {
      "cell_type": "code",
      "metadata": {
        "id": "IrEy9yRH3i4P",
        "colab_type": "code",
        "colab": {
          "base_uri": "https://localhost:8080/",
          "height": 88
        },
        "outputId": "100cb39c-9dab-4675-ab39-ec1d5057da5e"
      },
      "source": [
        "model.wv.similarity(w1='sentence',w2= 'first')"
      ],
      "execution_count": 34,
      "outputs": [
        {
          "output_type": "stream",
          "text": [
            "/usr/local/lib/python3.6/dist-packages/gensim/matutils.py:737: FutureWarning: Conversion of the second argument of issubdtype from `int` to `np.signedinteger` is deprecated. In future, it will be treated as `np.int64 == np.dtype(int).type`.\n",
            "  if np.issubdtype(vec.dtype, np.int):\n"
          ],
          "name": "stderr"
        },
        {
          "output_type": "execute_result",
          "data": {
            "text/plain": [
              "0.21286987"
            ]
          },
          "metadata": {
            "tags": []
          },
          "execution_count": 34
        }
      ]
    },
    {
      "cell_type": "code",
      "metadata": {
        "id": "PN5Tjujd3i1M",
        "colab_type": "code",
        "colab": {}
      },
      "source": [
        ""
      ],
      "execution_count": 0,
      "outputs": []
    },
    {
      "cell_type": "code",
      "metadata": {
        "id": "9tt4BqAc3iyr",
        "colab_type": "code",
        "colab": {}
      },
      "source": [
        ""
      ],
      "execution_count": 0,
      "outputs": []
    },
    {
      "cell_type": "code",
      "metadata": {
        "id": "mEutLHUj3iv5",
        "colab_type": "code",
        "colab": {}
      },
      "source": [
        ""
      ],
      "execution_count": 0,
      "outputs": []
    },
    {
      "cell_type": "code",
      "metadata": {
        "id": "FSnJ2UOE3isZ",
        "colab_type": "code",
        "colab": {}
      },
      "source": [
        ""
      ],
      "execution_count": 0,
      "outputs": []
    },
    {
      "cell_type": "code",
      "metadata": {
        "id": "AboSTGye3ioy",
        "colab_type": "code",
        "colab": {}
      },
      "source": [
        ""
      ],
      "execution_count": 0,
      "outputs": []
    }
  ]
}