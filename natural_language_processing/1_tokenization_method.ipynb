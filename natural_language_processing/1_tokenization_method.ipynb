{
  "nbformat": 4,
  "nbformat_minor": 0,
  "metadata": {
    "colab": {
      "name": "1.tokenization_method.ipynb",
      "provenance": []
    },
    "kernelspec": {
      "name": "python3",
      "display_name": "Python 3"
    }
  },
  "cells": [
    {
      "cell_type": "code",
      "metadata": {
        "id": "RWfYuHCFQlZe",
        "colab_type": "code",
        "colab": {}
      },
      "source": [
        "import nltk"
      ],
      "execution_count": 0,
      "outputs": []
    },
    {
      "cell_type": "markdown",
      "metadata": {
        "id": "ku1sLBHZRLIr",
        "colab_type": "text"
      },
      "source": [
        "Tokenization is essentially splitting a phrase, sentence, paragraph, or an entire text document into smaller units, such as individual words or terms. Each of these smaller units are called tokens."
      ]
    },
    {
      "cell_type": "markdown",
      "metadata": {
        "id": "jtuUVRMmRU1n",
        "colab_type": "text"
      },
      "source": [
        "**1. using python split method**"
      ]
    },
    {
      "cell_type": "code",
      "metadata": {
        "id": "3RKS8ljORP8m",
        "colab_type": "code",
        "colab": {}
      },
      "source": [
        "text = \"\"\"Founded in 2002, SpaceX’s mission is to enable humans to become a spacefaring civilization and a multi-planet \n",
        "species by building a self-sustaining city on Mars. In 2008, SpaceX’s Falcon 1 became the first privately developed \n",
        "liquid-fuel launch vehicle to orbit the Earth.\"\"\""
      ],
      "execution_count": 0,
      "outputs": []
    },
    {
      "cell_type": "code",
      "metadata": {
        "id": "QfzZ2Ig4RQO7",
        "colab_type": "code",
        "colab": {}
      },
      "source": [
        "# Splits at space \n",
        "text.split()  # word tokenization "
      ],
      "execution_count": 0,
      "outputs": []
    },
    {
      "cell_type": "code",
      "metadata": {
        "id": "R_JOP2F-Ro_Y",
        "colab_type": "code",
        "colab": {
          "base_uri": "https://localhost:8080/",
          "height": 71
        },
        "outputId": "04ce5b69-ecb3-4a43-c529-d5b9c4579b05"
      },
      "source": [
        "text.split('. ') # sentence tokenization "
      ],
      "execution_count": 7,
      "outputs": [
        {
          "output_type": "execute_result",
          "data": {
            "text/plain": [
              "['Founded in 2002, SpaceX’s mission is to enable humans to become a spacefaring civilization and a multi-planet \\nspecies by building a self-sustaining city on Mars',\n",
              " 'In 2008, SpaceX’s Falcon 1 became the first privately developed \\nliquid-fuel launch vehicle to orbit the Earth.']"
            ]
          },
          "metadata": {
            "tags": []
          },
          "execution_count": 7
        }
      ]
    },
    {
      "cell_type": "markdown",
      "metadata": {
        "id": "bplPKOYqR2vF",
        "colab_type": "text"
      },
      "source": [
        "**Tokenization using Regular Expressions**"
      ]
    },
    {
      "cell_type": "code",
      "metadata": {
        "id": "PUzmjwlzR0JW",
        "colab_type": "code",
        "colab": {}
      },
      "source": [
        "import re \n",
        "tokens = re.findall(\"[\\w']+\", text)\n",
        "tokens # word tokenization "
      ],
      "execution_count": 0,
      "outputs": []
    },
    {
      "cell_type": "markdown",
      "metadata": {
        "id": "sSbeFTkySbiE",
        "colab_type": "text"
      },
      "source": [
        "So [\\w’]+ signals that the code should find all the alphanumeric characters until any other character is encountered"
      ]
    },
    {
      "cell_type": "code",
      "metadata": {
        "id": "ODaS1wLQSSBn",
        "colab_type": "code",
        "colab": {
          "base_uri": "https://localhost:8080/",
          "height": 71
        },
        "outputId": "81d9aa19-fb0c-454a-ab67-65822e5471a4"
      },
      "source": [
        "sentences = re.compile('[.!?] ').split(text)\n",
        "sentences# sentence tokenization"
      ],
      "execution_count": 9,
      "outputs": [
        {
          "output_type": "execute_result",
          "data": {
            "text/plain": [
              "['Founded in 2002, SpaceX’s mission is to enable humans to become a spacefaring civilization and a multi-planet \\nspecies by building a self-sustaining city on Mars',\n",
              " 'In 2008, SpaceX’s Falcon 1 became the first privately developed \\nliquid-fuel launch vehicle to orbit the Earth.']"
            ]
          },
          "metadata": {
            "tags": []
          },
          "execution_count": 9
        }
      ]
    },
    {
      "cell_type": "markdown",
      "metadata": {
        "id": "qaNE99cySu-v",
        "colab_type": "text"
      },
      "source": [
        " we used the re.compile() function wherein we passed [.?!]. This means that sentences will split as soon as any of these characters are encountered.\n",
        "\n"
      ]
    },
    {
      "cell_type": "markdown",
      "metadata": {
        "id": "6TLoEaHyS0Ku",
        "colab_type": "text"
      },
      "source": [
        "**3. Tokenization using NLTK**"
      ]
    },
    {
      "cell_type": "markdown",
      "metadata": {
        "id": "H5amIUZxS9Rd",
        "colab_type": "text"
      },
      "source": [
        "NLTK contains a module called tokenize() which further classifies into two sub-categories:\n",
        "\n",
        "Word tokenize: We use the word_tokenize() method to split a sentence into tokens or words\n",
        "Sentence tokenize: We use the sent_tokenize() method to split a document or paragraph into sentences"
      ]
    },
    {
      "cell_type": "code",
      "metadata": {
        "id": "cwV8e8KsTBAn",
        "colab_type": "code",
        "colab": {}
      },
      "source": [
        "from nltk.tokenize import word_tokenize\n",
        "#nltk.download('punkt')\n",
        "word_tokenize(text)"
      ],
      "execution_count": 0,
      "outputs": []
    },
    {
      "cell_type": "code",
      "metadata": {
        "id": "7fxt9AtQTBT3",
        "colab_type": "code",
        "colab": {
          "base_uri": "https://localhost:8080/",
          "height": 71
        },
        "outputId": "224d3590-00a7-49e7-bea0-f8c5aca4e768"
      },
      "source": [
        "from nltk.tokenize import sent_tokenize\n",
        "sent_tokenize(text)#sentence tokenise"
      ],
      "execution_count": 13,
      "outputs": [
        {
          "output_type": "execute_result",
          "data": {
            "text/plain": [
              "['Founded in 2002, SpaceX’s mission is to enable humans to become a spacefaring civilization and a multi-planet \\nspecies by building a self-sustaining city on Mars.',\n",
              " 'In 2008, SpaceX’s Falcon 1 became the first privately developed \\nliquid-fuel launch vehicle to orbit the Earth.']"
            ]
          },
          "metadata": {
            "tags": []
          },
          "execution_count": 13
        }
      ]
    },
    {
      "cell_type": "markdown",
      "metadata": {
        "id": "ArdmxDF5TnS0",
        "colab_type": "text"
      },
      "source": [
        "**4. Tokenization using the spaCy library**"
      ]
    },
    {
      "cell_type": "code",
      "metadata": {
        "id": "5bIuZ7mpT1sP",
        "colab_type": "code",
        "colab": {}
      },
      "source": [
        "#! pip install -U spacy\n",
        "#! python -m spacy download en "
      ],
      "execution_count": 0,
      "outputs": []
    },
    {
      "cell_type": "code",
      "metadata": {
        "id": "rs-7KPQ5UJ5t",
        "colab_type": "code",
        "colab": {}
      },
      "source": [
        "from spacy.lang.en import English\n",
        "\n",
        "# Load English tokenizer, tagger, parser, NER and word vectors\n",
        "nlp = English()\n",
        "\n",
        "text = \"\"\"Founded in 2002, SpaceX’s mission is to enable humans to become a spacefaring civilization and a multi-planet \n",
        "species by building a self-sustaining city on Mars. In 2008, SpaceX’s Falcon 1 became the first privately developed \n",
        "liquid-fuel launch vehicle to orbit the Earth.\"\"\"\n",
        "\n",
        "#  \"nlp\" Object is used to create documents with linguistic annotations.\n",
        "my_doc = nlp(text)\n",
        "\n",
        "# Create list of word tokens\n",
        "token_list = []\n",
        "for token in my_doc:\n",
        "    token_list.append(token.text)\n",
        "token_list"
      ],
      "execution_count": 0,
      "outputs": []
    },
    {
      "cell_type": "code",
      "metadata": {
        "id": "oTebxKLJUQ01",
        "colab_type": "code",
        "colab": {
          "base_uri": "https://localhost:8080/",
          "height": 71
        },
        "outputId": "3adb27ed-d45f-4279-f3c7-f9e542f1550d"
      },
      "source": [
        "from spacy.lang.en import English\n",
        "\n",
        "# Load English tokenizer, tagger, parser, NER and word vectors\n",
        "nlp = English()\n",
        "\n",
        "# Create the pipeline 'sentencizer' component\n",
        "sbd = nlp.create_pipe('sentencizer')\n",
        "\n",
        "# Add the component to the pipeline\n",
        "nlp.add_pipe(sbd)\n",
        "\n",
        "text = \"\"\"Founded in 2002, SpaceX’s mission is to enable humans to become a spacefaring civilization and a multi-planet \n",
        "species by building a self-sustaining city on Mars. In 2008, SpaceX’s Falcon 1 became the first privately developed \n",
        "liquid-fuel launch vehicle to orbit the Earth.\"\"\"\n",
        "\n",
        "#  \"nlp\" Object is used to create documents with linguistic annotations.\n",
        "doc = nlp(text)\n",
        "\n",
        "# create list of sentence tokens\n",
        "sents_list = []\n",
        "for sent in doc.sents:\n",
        "    sents_list.append(sent.text)\n",
        "sents_list"
      ],
      "execution_count": 18,
      "outputs": [
        {
          "output_type": "execute_result",
          "data": {
            "text/plain": [
              "['Founded in 2002, SpaceX’s mission is to enable humans to become a spacefaring civilization and a multi-planet \\nspecies by building a self-sustaining city on Mars.',\n",
              " 'In 2008, SpaceX’s Falcon 1 became the first privately developed \\nliquid-fuel launch vehicle to orbit the Earth.']"
            ]
          },
          "metadata": {
            "tags": []
          },
          "execution_count": 18
        }
      ]
    },
    {
      "cell_type": "markdown",
      "metadata": {
        "id": "VEX6pIWEUWWM",
        "colab_type": "text"
      },
      "source": [
        "**6. Tokenization using keras**"
      ]
    },
    {
      "cell_type": "code",
      "metadata": {
        "id": "YRy012SaUe_l",
        "colab_type": "code",
        "colab": {}
      },
      "source": [
        "from keras.preprocessing.text import text_to_word_sequence\n",
        "# define\n",
        "text = \"\"\"Founded in 2002, SpaceX’s mission is to enable humans to become a spacefaring civilization and a multi-planet \n",
        "species by building a self-sustaining city on Mars. In 2008, SpaceX’s Falcon 1 became the first privately developed \n",
        "liquid-fuel launch vehicle to orbit the Earth.\"\"\"\n",
        "# tokenize\n",
        "result = text_to_word_sequence(text)\n",
        "result"
      ],
      "execution_count": 0,
      "outputs": []
    },
    {
      "cell_type": "code",
      "metadata": {
        "id": "lcIL-JEmUllF",
        "colab_type": "code",
        "colab": {
          "base_uri": "https://localhost:8080/",
          "height": 85
        },
        "outputId": "e5ad4a65-cd25-4d1d-ce8a-6c4080c8fa28"
      },
      "source": [
        "from gensim.summarization.textcleaner import split_sentences\n",
        "text = \"\"\"Founded in 2002, SpaceX’s mission is to enable humans to become a spacefaring civilization and a multi-planet \n",
        "species by building a self-sustaining city on Mars. In 2008, SpaceX’s Falcon 1 became the first privately developed \n",
        "liquid-fuel launch vehicle to orbit the Earth.\"\"\"\n",
        "result = split_sentences(text)\n",
        "result"
      ],
      "execution_count": 20,
      "outputs": [
        {
          "output_type": "execute_result",
          "data": {
            "text/plain": [
              "['Founded in 2002, SpaceX’s mission is to enable humans to become a spacefaring civilization and a multi-planet ',\n",
              " 'species by building a self-sustaining city on Mars.',\n",
              " 'In 2008, SpaceX’s Falcon 1 became the first privately developed ',\n",
              " 'liquid-fuel launch vehicle to orbit the Earth.']"
            ]
          },
          "metadata": {
            "tags": []
          },
          "execution_count": 20
        }
      ]
    }
  ]
}