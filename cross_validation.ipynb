{
  "nbformat": 4,
  "nbformat_minor": 0,
  "metadata": {
    "colab": {
      "name": "cross_validation.ipynb",
      "provenance": []
    },
    "kernelspec": {
      "name": "python3",
      "display_name": "Python 3"
    }
  },
  "cells": [
    {
      "cell_type": "code",
      "metadata": {
        "id": "hOHsYVn3snhf",
        "colab_type": "code",
        "colab": {}
      },
      "source": [
        ""
      ],
      "execution_count": 75,
      "outputs": []
    },
    {
      "cell_type": "markdown",
      "metadata": {
        "id": "p1ET0KnzssRI",
        "colab_type": "text"
      },
      "source": [
        "![alt text](https://qph.fs.quoracdn.net/main-qimg-c5ed87e938b35f372db3f8fbddc19290)\n",
        "\n",
        "\n"
      ]
    },
    {
      "cell_type": "markdown",
      "metadata": {
        "id": "qQMgNtwQtF2T",
        "colab_type": "text"
      },
      "source": [
        "Cross-validation is a technique in which we train our model using the subset of the data-set and then evaluate using the complementary subset of the data-set.\n",
        "\n",
        "steps:\n",
        "\n",
        "1. You reserve a sample data set.\n",
        "\n",
        "2. Train the model using the remaining part of the dataset.\n",
        "\n",
        "3. Use the reserve sample of the test (validation) set. This will help you in gauging the effectiveness of your model’s performance. If your model delivers a positive result on validation data, go ahead with the current model"
      ]
    },
    {
      "cell_type": "markdown",
      "metadata": {
        "id": "SrtEByEStGDM",
        "colab_type": "text"
      },
      "source": [
        "**Holdout Validation Approach - Train and Test Set Split**\n",
        "\n",
        "we perform training on the 50% of the given data-set and rest 50% is used for the testing purpose. The major drawback of this method is that we perform training on the 50% of the dataset, it may possible that the remaining 50% of the data contains some important information which we are leaving while training our model i.e higher bias"
      ]
    },
    {
      "cell_type": "code",
      "metadata": {
        "id": "eFhUGpXyzbSS",
        "colab_type": "code",
        "colab": {}
      },
      "source": [
        "from sklearn.datasets import load_iris\n",
        "from sklearn.model_selection import train_test_split\n",
        "from sklearn.neighbors import KNeighborsClassifier\n",
        "from sklearn import metrics\n",
        "import pandas as pd"
      ],
      "execution_count": 76,
      "outputs": []
    },
    {
      "cell_type": "code",
      "metadata": {
        "id": "_um6vtk2zvl5",
        "colab_type": "code",
        "colab": {
          "base_uri": "https://localhost:8080/",
          "height": 195
        },
        "outputId": "8c52ccb4-eae2-4b65-abea-a4d5323ea087"
      },
      "source": [
        "data = load_iris()\n",
        "df = pd.DataFrame(data.data, columns=data.feature_names)\n",
        "df['target'] = pd.Series(data.target)\n",
        "df.head()"
      ],
      "execution_count": 77,
      "outputs": [
        {
          "output_type": "execute_result",
          "data": {
            "text/html": [
              "<div>\n",
              "<style scoped>\n",
              "    .dataframe tbody tr th:only-of-type {\n",
              "        vertical-align: middle;\n",
              "    }\n",
              "\n",
              "    .dataframe tbody tr th {\n",
              "        vertical-align: top;\n",
              "    }\n",
              "\n",
              "    .dataframe thead th {\n",
              "        text-align: right;\n",
              "    }\n",
              "</style>\n",
              "<table border=\"1\" class=\"dataframe\">\n",
              "  <thead>\n",
              "    <tr style=\"text-align: right;\">\n",
              "      <th></th>\n",
              "      <th>sepal length (cm)</th>\n",
              "      <th>sepal width (cm)</th>\n",
              "      <th>petal length (cm)</th>\n",
              "      <th>petal width (cm)</th>\n",
              "      <th>target</th>\n",
              "    </tr>\n",
              "  </thead>\n",
              "  <tbody>\n",
              "    <tr>\n",
              "      <th>0</th>\n",
              "      <td>5.1</td>\n",
              "      <td>3.5</td>\n",
              "      <td>1.4</td>\n",
              "      <td>0.2</td>\n",
              "      <td>0</td>\n",
              "    </tr>\n",
              "    <tr>\n",
              "      <th>1</th>\n",
              "      <td>4.9</td>\n",
              "      <td>3.0</td>\n",
              "      <td>1.4</td>\n",
              "      <td>0.2</td>\n",
              "      <td>0</td>\n",
              "    </tr>\n",
              "    <tr>\n",
              "      <th>2</th>\n",
              "      <td>4.7</td>\n",
              "      <td>3.2</td>\n",
              "      <td>1.3</td>\n",
              "      <td>0.2</td>\n",
              "      <td>0</td>\n",
              "    </tr>\n",
              "    <tr>\n",
              "      <th>3</th>\n",
              "      <td>4.6</td>\n",
              "      <td>3.1</td>\n",
              "      <td>1.5</td>\n",
              "      <td>0.2</td>\n",
              "      <td>0</td>\n",
              "    </tr>\n",
              "    <tr>\n",
              "      <th>4</th>\n",
              "      <td>5.0</td>\n",
              "      <td>3.6</td>\n",
              "      <td>1.4</td>\n",
              "      <td>0.2</td>\n",
              "      <td>0</td>\n",
              "    </tr>\n",
              "  </tbody>\n",
              "</table>\n",
              "</div>"
            ],
            "text/plain": [
              "   sepal length (cm)  sepal width (cm)  ...  petal width (cm)  target\n",
              "0                5.1               3.5  ...               0.2       0\n",
              "1                4.9               3.0  ...               0.2       0\n",
              "2                4.7               3.2  ...               0.2       0\n",
              "3                4.6               3.1  ...               0.2       0\n",
              "4                5.0               3.6  ...               0.2       0\n",
              "\n",
              "[5 rows x 5 columns]"
            ]
          },
          "metadata": {
            "tags": []
          },
          "execution_count": 77
        }
      ]
    },
    {
      "cell_type": "code",
      "metadata": {
        "id": "ukttY8BqF26-",
        "colab_type": "code",
        "colab": {}
      },
      "source": [
        "X = df.iloc[:,:-1]\n",
        "Y = df.iloc[:,-1]"
      ],
      "execution_count": 78,
      "outputs": []
    },
    {
      "cell_type": "code",
      "metadata": {
        "id": "KxAOAuu2zbgJ",
        "colab_type": "code",
        "colab": {}
      },
      "source": [
        "# use train/test split with different random_state values\n",
        "X_train, X_test, y_train, y_test = train_test_split(X, y, random_state=6)\n"
      ],
      "execution_count": 79,
      "outputs": []
    },
    {
      "cell_type": "code",
      "metadata": {
        "id": "vYHhndSZ12T6",
        "colab_type": "code",
        "colab": {
          "base_uri": "https://localhost:8080/",
          "height": 34
        },
        "outputId": "52b827e7-e251-4f75-c8f5-caf979b7ea03"
      },
      "source": [
        "train.shape, validation.shape"
      ],
      "execution_count": 80,
      "outputs": [
        {
          "output_type": "execute_result",
          "data": {
            "text/plain": [
              "((75, 5), (75, 5))"
            ]
          },
          "metadata": {
            "tags": []
          },
          "execution_count": 80
        }
      ]
    },
    {
      "cell_type": "code",
      "metadata": {
        "id": "90gmOmknFVfr",
        "colab_type": "code",
        "colab": {
          "base_uri": "https://localhost:8080/",
          "height": 34
        },
        "outputId": "8700879c-9f0e-49be-dcc7-65089282282d"
      },
      "source": [
        "# check classification accuracy of KNN with K=5\n",
        "knn = KNeighborsClassifier(n_neighbors=5)\n",
        "knn.fit(X_train, y_train)\n",
        "y_pred = knn.predict(X_test)\n",
        "metrics.accuracy_score(y_test, y_pred)"
      ],
      "execution_count": 81,
      "outputs": [
        {
          "output_type": "execute_result",
          "data": {
            "text/plain": [
              "0.9736842105263158"
            ]
          },
          "metadata": {
            "tags": []
          },
          "execution_count": 81
        }
      ]
    },
    {
      "cell_type": "markdown",
      "metadata": {
        "id": "0jnfTEC2DlsP",
        "colab_type": "text"
      },
      "source": [
        "**Leave one out cross validation (LOOCV)**\n",
        "\n",
        "In this approach, we reserve only one data point from the available dataset, and train the model on the rest of the data. This process iterates for each data point. \n",
        "\n",
        "*  We make use of all data points, hence the bias will be low.\n",
        "\n",
        "*  We repeat the cross validation process n times (where n is number of data points) which results in a higher execution time\n",
        "\n",
        "*  This approach leads to higher variation in testing model effectiveness because we test against one data point"
      ]
    },
    {
      "cell_type": "code",
      "metadata": {
        "id": "DUgFOsiDEnOX",
        "colab_type": "code",
        "colab": {}
      },
      "source": [
        "# Import necessary modules\n",
        "from sklearn.model_selection import train_test_split\n",
        "from sklearn.metrics import mean_squared_error\n",
        "from math import sqrt\n",
        "from sklearn import model_selection\n",
        "from sklearn.linear_model import LogisticRegression\n",
        "from sklearn.model_selection import KFold\n",
        "from sklearn.model_selection import LeaveOneOut\n",
        "from sklearn.model_selection import LeavePOut\n",
        "from sklearn.model_selection import ShuffleSplit\n",
        "from sklearn.model_selection import StratifiedKFold"
      ],
      "execution_count": 82,
      "outputs": []
    },
    {
      "cell_type": "code",
      "metadata": {
        "id": "U2i8ipFTFECC",
        "colab_type": "code",
        "colab": {
          "base_uri": "https://localhost:8080/",
          "height": 34
        },
        "outputId": "74a40faa-c95a-4b2e-fcf2-917ed19cdb12"
      },
      "source": [
        "loocv = LeaveOneOut()\n",
        "loocv.get_n_splits(X)"
      ],
      "execution_count": 83,
      "outputs": [
        {
          "output_type": "execute_result",
          "data": {
            "text/plain": [
              "150"
            ]
          },
          "metadata": {
            "tags": []
          },
          "execution_count": 83
        }
      ]
    },
    {
      "cell_type": "code",
      "metadata": {
        "id": "0mjwacKOIgBi",
        "colab_type": "code",
        "colab": {}
      },
      "source": [
        "# printing the training and validation data\n",
        "#for train_index, test_index in loocv.split(X):\n",
        "  #print(train_index,test_index)"
      ],
      "execution_count": 84,
      "outputs": []
    },
    {
      "cell_type": "code",
      "metadata": {
        "id": "fskZPo3DIVcq",
        "colab_type": "code",
        "colab": {
          "base_uri": "https://localhost:8080/",
          "height": 34
        },
        "outputId": "29bb5ddc-15e8-49f1-b95b-4693563e6fb8"
      },
      "source": [
        "knn_loocv = KNeighborsClassifier(n_neighbors=5)\n",
        "results_loocv = model_selection.cross_val_score(knn_loocv, X, Y, cv=loocv)\n",
        "print(\"Accuracy: %.2f%%\" % (results_loocv.mean()*100.0))"
      ],
      "execution_count": 85,
      "outputs": [
        {
          "output_type": "stream",
          "text": [
            "Accuracy: 96.67%\n"
          ],
          "name": "stdout"
        }
      ]
    },
    {
      "cell_type": "markdown",
      "metadata": {
        "id": "BVZEzXlOEl56",
        "colab_type": "text"
      },
      "source": [
        "**K-fold cross validation**\n",
        "\n",
        "1. Randomly split your entire dataset into k”folds”\n",
        "\n",
        "2. For each k-fold in your dataset, build your model on k – 1 folds of the dataset. Then, test the model to check the effectiveness for kth fold\n",
        "Record the error you see on each of the predictions\n",
        "\n",
        "3. Repeat this until each of the k-folds has served as the test set\n",
        "\n",
        "4. The average of your k recorded errors is called the cross-validation error and will serve as your performance metric for the model.\n",
        "\n",
        "![alt text](https://www.analyticsvidhya.com/wp-content/uploads/2015/11/22.png)"
      ]
    },
    {
      "cell_type": "code",
      "metadata": {
        "id": "_JgeDdF8LbBU",
        "colab_type": "code",
        "colab": {
          "base_uri": "https://localhost:8080/",
          "height": 34
        },
        "outputId": "0229f53a-9bb0-4a0d-e063-c16de2e1bef5"
      },
      "source": [
        "#defining number of folds for model\n",
        "from sklearn.model_selection import KFold\n",
        "kf = KFold(n_splits=5, shuffle=False)\n",
        "kf"
      ],
      "execution_count": 86,
      "outputs": [
        {
          "output_type": "execute_result",
          "data": {
            "text/plain": [
              "KFold(n_splits=5, random_state=None, shuffle=False)"
            ]
          },
          "metadata": {
            "tags": []
          },
          "execution_count": 86
        }
      ]
    },
    {
      "cell_type": "code",
      "metadata": {
        "id": "VIR1o0M2O0z-",
        "colab_type": "code",
        "colab": {
          "base_uri": "https://localhost:8080/",
          "height": 101
        },
        "outputId": "dc8c8230-4e6e-48c8-d772-48896f09f520"
      },
      "source": [
        "for fold, (train_idx, val_idx) in enumerate(kf.split(X,Y)):\n",
        "  print(len(train_idx), len(val_idx))"
      ],
      "execution_count": 87,
      "outputs": [
        {
          "output_type": "stream",
          "text": [
            "120 30\n",
            "120 30\n",
            "120 30\n",
            "120 30\n",
            "120 30\n"
          ],
          "name": "stdout"
        }
      ]
    },
    {
      "cell_type": "code",
      "metadata": {
        "id": "q31cqR2IPPaR",
        "colab_type": "code",
        "colab": {
          "base_uri": "https://localhost:8080/",
          "height": 34
        },
        "outputId": "a6980a3d-2b62-45fe-963d-3497040f5244"
      },
      "source": [
        "model_kfold = KNeighborsClassifier(n_neighbors=5)\n",
        "results_kfold = model_selection.cross_val_score(model_kfold,X,Y, cv=kf)\n",
        "print(\"Accuracy: %.2f%%\" % (results_kfold.mean()*100.0)) "
      ],
      "execution_count": 88,
      "outputs": [
        {
          "output_type": "stream",
          "text": [
            "Accuracy: 91.33%\n"
          ],
          "name": "stdout"
        }
      ]
    },
    {
      "cell_type": "markdown",
      "metadata": {
        "id": "aUk1u8qyXZeE",
        "colab_type": "text"
      },
      "source": [
        "This runs K times faster than Leave One Out cross-validation because K-fold cross-validation repeats the train/test split K-times."
      ]
    },
    {
      "cell_type": "markdown",
      "metadata": {
        "id": "N6zV9zSwXrXw",
        "colab_type": "text"
      },
      "source": [
        "**Stratified k-fold cross validation**\n",
        "\n",
        "Stratification is the process of rearranging the data so as to ensure that each fold is a good representative of the whole. For example, in a binary classification problem where each class comprises of 50% of the data, it is best to arrange the data such that in every fold, each class comprises of about half the instances.\n",
        "\n",
        "![alt text](https://cdn.analyticsvidhya.com/wp-content/uploads/2015/11/skfold-768x530.png)"
      ]
    },
    {
      "cell_type": "code",
      "metadata": {
        "id": "ClxnlKfeYLx7",
        "colab_type": "code",
        "colab": {}
      },
      "source": [
        "from sklearn.model_selection import StratifiedKFold\n",
        "skf = StratifiedKFold(n_splits=5, random_state=None)"
      ],
      "execution_count": 89,
      "outputs": []
    },
    {
      "cell_type": "code",
      "metadata": {
        "id": "oyr35wQqYOMS",
        "colab_type": "code",
        "colab": {
          "base_uri": "https://localhost:8080/",
          "height": 34
        },
        "outputId": "ef16c677-9cea-4661-ef02-d429e411ce42"
      },
      "source": [
        "model_skfold = KNeighborsClassifier(n_neighbors=5)\n",
        "results_kfold = model_selection.cross_val_score(model_skfold,X,Y, cv=skf)\n",
        "print(\"Accuracy: %.2f%%\" % (results_kfold.mean()*100.0)) "
      ],
      "execution_count": 90,
      "outputs": [
        {
          "output_type": "stream",
          "text": [
            "Accuracy: 97.33%\n"
          ],
          "name": "stdout"
        }
      ]
    },
    {
      "cell_type": "code",
      "metadata": {
        "id": "0ygKhxy7Y9yJ",
        "colab_type": "code",
        "colab": {}
      },
      "source": [
        ""
      ],
      "execution_count": 90,
      "outputs": []
    },
    {
      "cell_type": "markdown",
      "metadata": {
        "id": "FJpdQbDhY-Ei",
        "colab_type": "text"
      },
      "source": [
        "**RepeatedKFold**\n",
        "\n",
        "This is where the k-fold cross-validation procedure is repeated n times, where importantly, the data sample is shuffled prior to each repetition, which results in a different split of the sample."
      ]
    },
    {
      "cell_type": "code",
      "metadata": {
        "id": "oD-gd87GZcVp",
        "colab_type": "code",
        "colab": {}
      },
      "source": [
        "from sklearn.model_selection import RepeatedKFold\n",
        "rkf = RepeatedKFold(n_splits=5, n_repeats=10, random_state=None)"
      ],
      "execution_count": 91,
      "outputs": []
    },
    {
      "cell_type": "code",
      "metadata": {
        "id": "kxS5XFUsZciv",
        "colab_type": "code",
        "colab": {
          "base_uri": "https://localhost:8080/",
          "height": 34
        },
        "outputId": "8dd535c4-4b60-4ce0-ada5-e11b767b3e86"
      },
      "source": [
        "model_rkfold = KNeighborsClassifier(n_neighbors=5)\n",
        "results_kfold = model_selection.cross_val_score(model_rkfold,X,Y, cv=rkf)\n",
        "print(\"Accuracy: %.2f%%\" % (results_kfold.mean()*100.0)) "
      ],
      "execution_count": 92,
      "outputs": [
        {
          "output_type": "stream",
          "text": [
            "Accuracy: 96.27%\n"
          ],
          "name": "stdout"
        }
      ]
    },
    {
      "cell_type": "markdown",
      "metadata": {
        "id": "imJERuRGhffj",
        "colab_type": "text"
      },
      "source": [
        "**Cross Validation for time series**\n",
        "\n",
        "Splitting a time-series dataset randomly does not work because the time section of your data will be messed up. For a time series forecasting problem, we perform cross validation in the following manner.\n",
        "\n",
        "Folds for time series cross valdiation are created in a forward chaining fashion\n",
        "Suppose we have a time series for yearly consumer demand for a product during a period of n years. The folds would be created like:\n",
        "\n",
        "![alt text](https://cdn.analyticsvidhya.com/wp-content/uploads/2015/11/ts_1step-850x414.png)"
      ]
    },
    {
      "cell_type": "markdown",
      "metadata": {
        "id": "6-vAPjHWhyo1",
        "colab_type": "text"
      },
      "source": [
        "fold 1: training [1], test [2]\n",
        "\n",
        "fold 2: training [1 2], test [3]\n",
        "\n",
        "fold 3: training [1 2 3], test [4]\n",
        "\n",
        "fold 4: training [1 2 3 4], test [5]\n",
        "\n",
        "fold 5: training [1 2 3 4 5], test [6]\n",
        "\n",
        ".\n",
        "\n",
        ".\n",
        "\n",
        ".\n",
        "\n",
        "fold n: training [1 2 3 ….. n-1], test [n]"
      ]
    },
    {
      "cell_type": "markdown",
      "metadata": {
        "id": "5LO-yBWFjU2r",
        "colab_type": "text"
      },
      "source": [
        "**Underfitting – High bias and low variance**\n",
        "\n",
        "Techniques to reduce underfitting :\n",
        "1. Increase model complexity\n",
        "2. Increase number of features, performing feature engineering\n",
        "3. Remove noise from the data.\n",
        "4. Increase the number of epochs or increase the duration of training to get better resul"
      ]
    },
    {
      "cell_type": "markdown",
      "metadata": {
        "id": "rslz0BO9jX-2",
        "colab_type": "text"
      },
      "source": [
        "**Techniques to reduce overfitting :**\n",
        "\n",
        "1. Increase training data.\n",
        "2. Reduce model complexity.\n",
        "3. Early stopping during the training phase (have an eye over the loss over the training period as soon as loss begins to increase stop training).\n",
        "4. Ridge Regularization and Lasso Regularization\n",
        "5. Use dropout for neural networks to tackle overfitting."
      ]
    },
    {
      "cell_type": "code",
      "metadata": {
        "id": "0LegnZbzhqKB",
        "colab_type": "code",
        "colab": {}
      },
      "source": [
        ""
      ],
      "execution_count": 92,
      "outputs": []
    }
  ]
}